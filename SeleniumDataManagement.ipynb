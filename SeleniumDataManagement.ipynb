{
 "cells": [
  {
   "cell_type": "markdown",
   "id": "c56f719f-9cc1-4310-bd49-162c4e7132cb",
   "metadata": {},
   "source": [
    "# Importing Modules, Getting Web Browser Running, and Importing Ticker Info"
   ]
  },
  {
   "cell_type": "code",
   "execution_count": 95,
   "id": "fe4af6e0-8659-442e-af29-d09add8f765e",
   "metadata": {},
   "outputs": [],
   "source": [
    "# Importing modules\n",
    "from selenium import webdriver\n",
    "from selenium.webdriver.edge.service import Service\n",
    "import pandas as pd\n",
    "from selenium.webdriver.common.by import By\n",
    "from selenium.webdriver.support.ui import WebDriverWait\n",
    "from selenium.webdriver.support import expected_conditions as EC\n",
    "from bs4 import BeautifulSoup\n",
    "import time\n",
    "import requests\n",
    "import csv"
   ]
  },
  {
   "cell_type": "code",
   "execution_count": 92,
   "id": "a5cb0293-66e1-4a44-a77d-5e2440a36954",
   "metadata": {},
   "outputs": [],
   "source": [
    "# Getting the webdriver up and running\n",
    "# Specifying the path to msedgedriver.exe\n",
    "driver_path = r\"C:\\Program Files\\msedgedriver.exe\"\n",
    "\n",
    "# Creating a service object\n",
    "service = Service(executable_path=driver_path)\n",
    "\n",
    "# Initializing the Edge browser\n",
    "driver = webdriver.Edge(service=service)"
   ]
  },
  {
   "cell_type": "code",
   "execution_count": 93,
   "id": "6e2d466b-f6e0-497f-8eb9-3c030212e9e3",
   "metadata": {},
   "outputs": [],
   "source": [
    "# Logging into Estimize using the Edge browser\n",
    "estimize_url = 'https://www.estimize.com/users/sign_in'\n",
    "\n",
    "driver.get(estimize_url)"
   ]
  },
  {
   "cell_type": "code",
   "execution_count": 4,
   "id": "6144b646-cded-4c45-b505-f2e89e5d2868",
   "metadata": {},
   "outputs": [
    {
     "data": {
      "text/html": [
       "<div>\n",
       "<style scoped>\n",
       "    .dataframe tbody tr th:only-of-type {\n",
       "        vertical-align: middle;\n",
       "    }\n",
       "\n",
       "    .dataframe tbody tr th {\n",
       "        vertical-align: top;\n",
       "    }\n",
       "\n",
       "    .dataframe thead th {\n",
       "        text-align: right;\n",
       "    }\n",
       "</style>\n",
       "<table border=\"1\" class=\"dataframe\">\n",
       "  <thead>\n",
       "    <tr style=\"text-align: right;\">\n",
       "      <th></th>\n",
       "      <th>ticker</th>\n",
       "      <th>URL</th>\n",
       "    </tr>\n",
       "  </thead>\n",
       "  <tbody>\n",
       "    <tr>\n",
       "      <th>0</th>\n",
       "      <td>AMZN</td>\n",
       "      <td>https://www.estimize.com/AMZN</td>\n",
       "    </tr>\n",
       "    <tr>\n",
       "      <th>1</th>\n",
       "      <td>AAPL</td>\n",
       "      <td>https://www.estimize.com/AAPL</td>\n",
       "    </tr>\n",
       "    <tr>\n",
       "      <th>2</th>\n",
       "      <td>MSFT</td>\n",
       "      <td>https://www.estimize.com/MSFT</td>\n",
       "    </tr>\n",
       "    <tr>\n",
       "      <th>3</th>\n",
       "      <td>GOOG</td>\n",
       "      <td>https://www.estimize.com/GOOG</td>\n",
       "    </tr>\n",
       "    <tr>\n",
       "      <th>4</th>\n",
       "      <td>TSLA</td>\n",
       "      <td>https://www.estimize.com/TSLA</td>\n",
       "    </tr>\n",
       "  </tbody>\n",
       "</table>\n",
       "</div>"
      ],
      "text/plain": [
       "  ticker                            URL\n",
       "0   AMZN  https://www.estimize.com/AMZN\n",
       "1   AAPL  https://www.estimize.com/AAPL\n",
       "2   MSFT  https://www.estimize.com/MSFT\n",
       "3   GOOG  https://www.estimize.com/GOOG\n",
       "4   TSLA  https://www.estimize.com/TSLA"
      ]
     },
     "execution_count": 4,
     "metadata": {},
     "output_type": "execute_result"
    }
   ],
   "source": [
    "# Importing the ticker list and URLs to their pages\n",
    "ticker_list = pd.read_csv('ticker_list.csv')\n",
    "ticker_list.head()"
   ]
  },
  {
   "cell_type": "markdown",
   "id": "16800ac2-1a34-4567-8d8b-3acec0c8ba31",
   "metadata": {},
   "source": [
    "# Pulling Basic Ticker Info from the URLs"
   ]
  },
  {
   "cell_type": "code",
   "execution_count": 5,
   "id": "42ab373a-36a9-4bb2-877f-98113c0beaf3",
   "metadata": {
    "editable": true,
    "slideshow": {
     "slide_type": ""
    },
    "tags": []
   },
   "outputs": [
    {
     "name": "stdout",
     "output_type": "stream",
     "text": [
      "   Ticker                          Name                 Sectors  \\\n",
      "0    AMZN               Amazon.com Inc.  Consumer Discretionary   \n",
      "1    AAPL                    Apple Inc.  Information Technology   \n",
      "2    MSFT         Microsoft Corporation  Information Technology   \n",
      "3    GOOG                 Alphabet Inc.  Information Technology   \n",
      "4    TSLA                    Tesla Inc.  Consumer Discretionary   \n",
      "5     JNJ             Johnson & Johnson             Health Care   \n",
      "6      PG          Procter & Gamble Co.        Consumer Staples   \n",
      "7    NVDA            NVIDIA Corporation  Information Technology   \n",
      "8    CSCO           Cisco Systems, Inc.  Information Technology   \n",
      "9    BABA    Alibaba Group Holding Ltd.  Consumer Discretionary   \n",
      "10     HD          The Home Depot, Inc.  Consumer Discretionary   \n",
      "11   BIDU                   Baidu, Inc.  Information Technology   \n",
      "12    WMT          Wal-Mart Stores Inc.        Consumer Staples   \n",
      "13    CRM                Salesforce.com  Information Technology   \n",
      "14   LULU      Lululemon Athletica Inc.  Consumer Discretionary   \n",
      "15    TGT                  Target Corp.  Consumer Discretionary   \n",
      "16   PANW      Palo Alto Networks, Inc.  Information Technology   \n",
      "17   ADBE            Adobe Systems Inc.  Information Technology   \n",
      "18    VMW                  VMware, Inc.  Information Technology   \n",
      "19     MU        Micron Technology Inc.  Information Technology   \n",
      "20    NKE                     Nike Inc.  Consumer Discretionary   \n",
      "21   ORCL            Oracle Corporation  Information Technology   \n",
      "22     BB                    BlackBerry  Information Technology   \n",
      "23    HPQ       Hewlett-Packard Company  Information Technology   \n",
      "24   COST  Costco Wholesale Corporation        Consumer Staples   \n",
      "25   AMAT        Applied Materials Inc.  Information Technology   \n",
      "26    BAC   Bank of America Corporation              Financials   \n",
      "27    CVX           Chevron Corporation                  Energy   \n",
      "28   AMGN                    Amgen Inc.             Health Care   \n",
      "29     PG          Procter & Gamble Co.        Consumer Staples   \n",
      "\n",
      "                          Industries Followers Analysts  \n",
      "0          Internet & Catalog Retail    10,778    6,874  \n",
      "1            Computers & Peripherals    38,278   12,178  \n",
      "2                           Software    15,989    4,459  \n",
      "3       Internet Software & Services    21,806    5,653  \n",
      "4                        Automobiles     9,367    7,912  \n",
      "5                    Pharmaceuticals     2,676    1,109  \n",
      "6      Household & Personal Products     1,600      703  \n",
      "7                     Semiconductors    11,345    4,913  \n",
      "8           Communications Equipment     2,073    2,334  \n",
      "9          Internet & Catalog Retail     3,601    3,194  \n",
      "10                  Specialty Retail     1,510    1,881  \n",
      "11      Internet Software & Services     2,007    1,935  \n",
      "12          Food & Staples Retailing     2,386    1,565  \n",
      "13                          Software     2,034    2,381  \n",
      "14  Textiles, Apparel & Luxury Goods     1,786    2,297  \n",
      "15                  Multiline Retail       889    1,617  \n",
      "16          Communications Equipment       855    1,149  \n",
      "17                          Software     1,417    1,808  \n",
      "18                          Software       733    1,104  \n",
      "19                    Semiconductors     2,481    3,466  \n",
      "20  Textiles, Apparel & Luxury Goods     2,938    2,734  \n",
      "21                          Software     1,481    1,889  \n",
      "22           Computers & Peripherals     1,961    2,002  \n",
      "23           Computers & Peripherals       818    1,144  \n",
      "24          Food & Staples Retailing     2,354    1,589  \n",
      "25                    Semiconductors       849    1,028  \n",
      "26    Diversified Financial Services     3,859    2,109  \n",
      "27       Oil, Gas & Consumable Fuels     1,902      773  \n",
      "28                     Biotechnology     1,212      714  \n",
      "29     Household & Personal Products     1,600      703  \n"
     ]
    }
   ],
   "source": [
    "# Making an empty list in which to store the scraped data\n",
    "ticker_data = []\n",
    "\n",
    "\n",
    "# Looping through the ticker URLs and pulling the general ticker info\n",
    "# Setting the ticker_code local variable as the already known ticker code and setting the ticker_url to iterate through\n",
    "for index, row in ticker_list.iterrows():\n",
    "    ticker_code = row['ticker']\n",
    "    ticker_url = row['URL']\n",
    "\n",
    "    # Navigating to each ticker URL\n",
    "    driver.get(ticker_url)\n",
    "\n",
    "    # Pulling the needed basic ticker information\n",
    "    ticker_name = driver.find_element(By.CSS_SELECTOR, '#releases_show > div.main-content-wrapper.is-closed > div:nth-child(2) > div > div:nth-child(1) > div > div > div > div.release-header-information-title-description > p > a').text\n",
    "    sector = driver.find_element(By.CSS_SELECTOR, '#releases_show > div.main-content-wrapper.is-closed > div:nth-child(2) > div > div:nth-child(1) > div > div > div > p > span:nth-child(1) > a > span').text\n",
    "    industry = driver.find_element(By.CSS_SELECTOR, '#releases_show > div.main-content-wrapper.is-closed > div:nth-child(2) > div > div:nth-child(1) > div > div > div > p > span:nth-child(2) > a > span').text\n",
    "    followers = driver.find_element(By.CSS_SELECTOR, '#summary-stats > div > div > div:nth-child(1) > div.estimize-row.summary-sub-title').text\n",
    "    analysts = driver.find_element(By.CSS_SELECTOR, '#summary-stats > div > div > div:nth-child(2) > a').text\n",
    "\n",
    "    # Placing the pulled data into the ticker_data list as a dictionary\n",
    "    ticker_data.append({\n",
    "        'Ticker': ticker_code,\n",
    "        'Name': ticker_name,\n",
    "        'Sectors': sector,\n",
    "        'Industries': industry,\n",
    "        'Followers': followers,\n",
    "        'Analysts': analysts\n",
    "    })\n",
    "\n",
    "# Making a DataFrame out of ticker_data\n",
    "ticker_df = pd.DataFrame(ticker_data)\n",
    "\n",
    "# Printing the new DataFrame\n",
    "print(ticker_df)"
   ]
  },
  {
   "cell_type": "code",
   "execution_count": 6,
   "id": "64783f27-a226-4e9a-ab57-9b9da9caa7de",
   "metadata": {},
   "outputs": [],
   "source": [
    "# Saving ticker_df as a csv file\n",
    "ticker_df.to_csv('ticker_data.csv', index=False)"
   ]
  },
  {
   "cell_type": "markdown",
   "id": "cd62c8b8-0283-466d-8034-9285f02e7f37",
   "metadata": {},
   "source": [
    "# Pulling the EPS Data"
   ]
  },
  {
   "cell_type": "code",
   "execution_count": 16,
   "id": "48375fd3-ed36-4190-8302-e963045d9dc6",
   "metadata": {},
   "outputs": [
    {
     "name": "stderr",
     "output_type": "stream",
     "text": [
      "C:\\Users\\mhunt\\AppData\\Local\\Temp\\ipykernel_7800\\1151411026.py:17: FutureWarning: Passing literal html to 'read_html' is deprecated and will be removed in a future version. To read from a literal string, wrap it in a 'StringIO' object.\n",
      "  eps_df = pd.read_html(table.get_attribute('outerHTML'))[0]\n",
      "C:\\Users\\mhunt\\AppData\\Local\\Temp\\ipykernel_7800\\1151411026.py:17: FutureWarning: Passing literal html to 'read_html' is deprecated and will be removed in a future version. To read from a literal string, wrap it in a 'StringIO' object.\n",
      "  eps_df = pd.read_html(table.get_attribute('outerHTML'))[0]\n",
      "C:\\Users\\mhunt\\AppData\\Local\\Temp\\ipykernel_7800\\1151411026.py:17: FutureWarning: Passing literal html to 'read_html' is deprecated and will be removed in a future version. To read from a literal string, wrap it in a 'StringIO' object.\n",
      "  eps_df = pd.read_html(table.get_attribute('outerHTML'))[0]\n",
      "C:\\Users\\mhunt\\AppData\\Local\\Temp\\ipykernel_7800\\1151411026.py:17: FutureWarning: Passing literal html to 'read_html' is deprecated and will be removed in a future version. To read from a literal string, wrap it in a 'StringIO' object.\n",
      "  eps_df = pd.read_html(table.get_attribute('outerHTML'))[0]\n",
      "C:\\Users\\mhunt\\AppData\\Local\\Temp\\ipykernel_7800\\1151411026.py:17: FutureWarning: Passing literal html to 'read_html' is deprecated and will be removed in a future version. To read from a literal string, wrap it in a 'StringIO' object.\n",
      "  eps_df = pd.read_html(table.get_attribute('outerHTML'))[0]\n",
      "C:\\Users\\mhunt\\AppData\\Local\\Temp\\ipykernel_7800\\1151411026.py:17: FutureWarning: Passing literal html to 'read_html' is deprecated and will be removed in a future version. To read from a literal string, wrap it in a 'StringIO' object.\n",
      "  eps_df = pd.read_html(table.get_attribute('outerHTML'))[0]\n",
      "C:\\Users\\mhunt\\AppData\\Local\\Temp\\ipykernel_7800\\1151411026.py:17: FutureWarning: Passing literal html to 'read_html' is deprecated and will be removed in a future version. To read from a literal string, wrap it in a 'StringIO' object.\n",
      "  eps_df = pd.read_html(table.get_attribute('outerHTML'))[0]\n",
      "C:\\Users\\mhunt\\AppData\\Local\\Temp\\ipykernel_7800\\1151411026.py:17: FutureWarning: Passing literal html to 'read_html' is deprecated and will be removed in a future version. To read from a literal string, wrap it in a 'StringIO' object.\n",
      "  eps_df = pd.read_html(table.get_attribute('outerHTML'))[0]\n",
      "C:\\Users\\mhunt\\AppData\\Local\\Temp\\ipykernel_7800\\1151411026.py:17: FutureWarning: Passing literal html to 'read_html' is deprecated and will be removed in a future version. To read from a literal string, wrap it in a 'StringIO' object.\n",
      "  eps_df = pd.read_html(table.get_attribute('outerHTML'))[0]\n",
      "C:\\Users\\mhunt\\AppData\\Local\\Temp\\ipykernel_7800\\1151411026.py:17: FutureWarning: Passing literal html to 'read_html' is deprecated and will be removed in a future version. To read from a literal string, wrap it in a 'StringIO' object.\n",
      "  eps_df = pd.read_html(table.get_attribute('outerHTML'))[0]\n",
      "C:\\Users\\mhunt\\AppData\\Local\\Temp\\ipykernel_7800\\1151411026.py:17: FutureWarning: Passing literal html to 'read_html' is deprecated and will be removed in a future version. To read from a literal string, wrap it in a 'StringIO' object.\n",
      "  eps_df = pd.read_html(table.get_attribute('outerHTML'))[0]\n",
      "C:\\Users\\mhunt\\AppData\\Local\\Temp\\ipykernel_7800\\1151411026.py:17: FutureWarning: Passing literal html to 'read_html' is deprecated and will be removed in a future version. To read from a literal string, wrap it in a 'StringIO' object.\n",
      "  eps_df = pd.read_html(table.get_attribute('outerHTML'))[0]\n",
      "C:\\Users\\mhunt\\AppData\\Local\\Temp\\ipykernel_7800\\1151411026.py:17: FutureWarning: Passing literal html to 'read_html' is deprecated and will be removed in a future version. To read from a literal string, wrap it in a 'StringIO' object.\n",
      "  eps_df = pd.read_html(table.get_attribute('outerHTML'))[0]\n",
      "C:\\Users\\mhunt\\AppData\\Local\\Temp\\ipykernel_7800\\1151411026.py:17: FutureWarning: Passing literal html to 'read_html' is deprecated and will be removed in a future version. To read from a literal string, wrap it in a 'StringIO' object.\n",
      "  eps_df = pd.read_html(table.get_attribute('outerHTML'))[0]\n",
      "C:\\Users\\mhunt\\AppData\\Local\\Temp\\ipykernel_7800\\1151411026.py:17: FutureWarning: Passing literal html to 'read_html' is deprecated and will be removed in a future version. To read from a literal string, wrap it in a 'StringIO' object.\n",
      "  eps_df = pd.read_html(table.get_attribute('outerHTML'))[0]\n",
      "C:\\Users\\mhunt\\AppData\\Local\\Temp\\ipykernel_7800\\1151411026.py:17: FutureWarning: Passing literal html to 'read_html' is deprecated and will be removed in a future version. To read from a literal string, wrap it in a 'StringIO' object.\n",
      "  eps_df = pd.read_html(table.get_attribute('outerHTML'))[0]\n",
      "C:\\Users\\mhunt\\AppData\\Local\\Temp\\ipykernel_7800\\1151411026.py:17: FutureWarning: Passing literal html to 'read_html' is deprecated and will be removed in a future version. To read from a literal string, wrap it in a 'StringIO' object.\n",
      "  eps_df = pd.read_html(table.get_attribute('outerHTML'))[0]\n",
      "C:\\Users\\mhunt\\AppData\\Local\\Temp\\ipykernel_7800\\1151411026.py:17: FutureWarning: Passing literal html to 'read_html' is deprecated and will be removed in a future version. To read from a literal string, wrap it in a 'StringIO' object.\n",
      "  eps_df = pd.read_html(table.get_attribute('outerHTML'))[0]\n",
      "C:\\Users\\mhunt\\AppData\\Local\\Temp\\ipykernel_7800\\1151411026.py:17: FutureWarning: Passing literal html to 'read_html' is deprecated and will be removed in a future version. To read from a literal string, wrap it in a 'StringIO' object.\n",
      "  eps_df = pd.read_html(table.get_attribute('outerHTML'))[0]\n",
      "C:\\Users\\mhunt\\AppData\\Local\\Temp\\ipykernel_7800\\1151411026.py:17: FutureWarning: Passing literal html to 'read_html' is deprecated and will be removed in a future version. To read from a literal string, wrap it in a 'StringIO' object.\n",
      "  eps_df = pd.read_html(table.get_attribute('outerHTML'))[0]\n",
      "C:\\Users\\mhunt\\AppData\\Local\\Temp\\ipykernel_7800\\1151411026.py:17: FutureWarning: Passing literal html to 'read_html' is deprecated and will be removed in a future version. To read from a literal string, wrap it in a 'StringIO' object.\n",
      "  eps_df = pd.read_html(table.get_attribute('outerHTML'))[0]\n",
      "C:\\Users\\mhunt\\AppData\\Local\\Temp\\ipykernel_7800\\1151411026.py:17: FutureWarning: Passing literal html to 'read_html' is deprecated and will be removed in a future version. To read from a literal string, wrap it in a 'StringIO' object.\n",
      "  eps_df = pd.read_html(table.get_attribute('outerHTML'))[0]\n",
      "C:\\Users\\mhunt\\AppData\\Local\\Temp\\ipykernel_7800\\1151411026.py:17: FutureWarning: Passing literal html to 'read_html' is deprecated and will be removed in a future version. To read from a literal string, wrap it in a 'StringIO' object.\n",
      "  eps_df = pd.read_html(table.get_attribute('outerHTML'))[0]\n",
      "C:\\Users\\mhunt\\AppData\\Local\\Temp\\ipykernel_7800\\1151411026.py:17: FutureWarning: Passing literal html to 'read_html' is deprecated and will be removed in a future version. To read from a literal string, wrap it in a 'StringIO' object.\n",
      "  eps_df = pd.read_html(table.get_attribute('outerHTML'))[0]\n",
      "C:\\Users\\mhunt\\AppData\\Local\\Temp\\ipykernel_7800\\1151411026.py:17: FutureWarning: Passing literal html to 'read_html' is deprecated and will be removed in a future version. To read from a literal string, wrap it in a 'StringIO' object.\n",
      "  eps_df = pd.read_html(table.get_attribute('outerHTML'))[0]\n",
      "C:\\Users\\mhunt\\AppData\\Local\\Temp\\ipykernel_7800\\1151411026.py:17: FutureWarning: Passing literal html to 'read_html' is deprecated and will be removed in a future version. To read from a literal string, wrap it in a 'StringIO' object.\n",
      "  eps_df = pd.read_html(table.get_attribute('outerHTML'))[0]\n",
      "C:\\Users\\mhunt\\AppData\\Local\\Temp\\ipykernel_7800\\1151411026.py:17: FutureWarning: Passing literal html to 'read_html' is deprecated and will be removed in a future version. To read from a literal string, wrap it in a 'StringIO' object.\n",
      "  eps_df = pd.read_html(table.get_attribute('outerHTML'))[0]\n",
      "C:\\Users\\mhunt\\AppData\\Local\\Temp\\ipykernel_7800\\1151411026.py:17: FutureWarning: Passing literal html to 'read_html' is deprecated and will be removed in a future version. To read from a literal string, wrap it in a 'StringIO' object.\n",
      "  eps_df = pd.read_html(table.get_attribute('outerHTML'))[0]\n",
      "C:\\Users\\mhunt\\AppData\\Local\\Temp\\ipykernel_7800\\1151411026.py:17: FutureWarning: Passing literal html to 'read_html' is deprecated and will be removed in a future version. To read from a literal string, wrap it in a 'StringIO' object.\n",
      "  eps_df = pd.read_html(table.get_attribute('outerHTML'))[0]\n"
     ]
    },
    {
     "name": "stdout",
     "output_type": "stream",
     "text": [
      "            EPS FQ1 '20 FQ2 '20 FQ3 '20 FQ4 '20 FQ1 '21 FQ2 '21 FQ3 '21  \\\n",
      "0      Estimize    0.33    0.11    0.42    0.47    0.58    0.74    0.54   \n",
      "1          Mean    0.34    0.13    0.39    0.46    0.55    0.70    0.56   \n",
      "2          High    0.52    0.50    0.62    0.91    0.85    1.25    1.10   \n",
      "3           Low    0.20    0.02    0.15    0.28    0.28    0.35    0.30   \n",
      "4      Wall St.    0.31    0.07    0.37    0.36    0.48    0.61    0.44   \n",
      "..          ...     ...     ...     ...     ...     ...     ...     ...   \n",
      "297    Wall St.    1.24    1.37    1.12    1.01    1.42    1.51    1.19   \n",
      "298        High    1.26    1.40    1.22    1.11    1.46    1.58    1.22   \n",
      "299         Low    1.18    1.32    1.06    0.94    1.29    1.38    1.14   \n",
      "300     Actuals    1.37    1.42    1.17    1.16    1.63    1.64    1.26   \n",
      "301  YoY Growth     22%     14%     10%      5%     19%     15%      8%   \n",
      "\n",
      "    FQ4 '21 FQ1 '22 FQ2 '22 FQ3 '22 FQ4 '22 Ticker  \n",
      "0      0.22    0.47    0.17    0.26    0.23   AMZN  \n",
      "1      0.28    0.52    0.26    0.29    0.25   AMZN  \n",
      "2      0.87    1.33    2.01    1.00    1.27   AMZN  \n",
      "3         0   -0.19   -0.24   -0.03   -0.10   AMZN  \n",
      "4      0.18    0.42    0.12    0.22    0.17   AMZN  \n",
      "..      ...     ...     ...     ...     ...    ...  \n",
      "297    1.08    1.59    1.65    1.29    1.22     PG  \n",
      "298    1.11    1.65    1.69    1.34    1.25     PG  \n",
      "299    1.05    1.53    1.59    1.25    1.14     PG  \n",
      "300    1.13    1.61    1.66    1.33    1.21     PG  \n",
      "301     -3%     -1%      1%      6%      7%     PG  \n",
      "\n",
      "[302 rows x 14 columns]\n"
     ]
    },
    {
     "name": "stderr",
     "output_type": "stream",
     "text": [
      "C:\\Users\\mhunt\\AppData\\Local\\Temp\\ipykernel_7800\\1151411026.py:17: FutureWarning: Passing literal html to 'read_html' is deprecated and will be removed in a future version. To read from a literal string, wrap it in a 'StringIO' object.\n",
      "  eps_df = pd.read_html(table.get_attribute('outerHTML'))[0]\n"
     ]
    }
   ],
   "source": [
    "#Preparing an empty list for EPS data storage\n",
    "eps_dfs = []\n",
    "\n",
    "# Pulling the EPS data for each ticker\n",
    "for index, row in ticker_list.iterrows():\n",
    "    ticker = row['ticker']\n",
    "    table_url = f\"https://www.estimize.com/{ticker}/fq2-2021?metric_name=eps&chart=table\"\n",
    "\n",
    "    # Navigating to the table URL\n",
    "    driver.get(table_url)\n",
    "\n",
    "    time.sleep(3)\n",
    "    # Selecting the table and storing the data in local variable\n",
    "    table = driver.find_element(By.CSS_SELECTOR, \"#main-content > div:nth-child(2) > div:nth-child(3) > div:nth-child(4) > div > table\")\n",
    "    \n",
    "    # Putting the table data into a DataFrame\n",
    "    eps_df = pd.read_html(table.get_attribute('outerHTML'))[0]\n",
    "\n",
    "    # Removing the first row of the data (user data which is all blank)\n",
    "    eps_df = eps_df.iloc[1:, :]\n",
    "\n",
    "    # Reseting the row indeces\n",
    "    eps_df.reset_index(drop=True, inplace=True)\n",
    "\n",
    "    # Adding a Ticker columnn to differentiate the tables before combining the dataframe\n",
    "    eps_df['Ticker'] = ticker\n",
    "    \n",
    "    # Putting the table data into the eps_dfs list\n",
    "    eps_dfs.append(eps_df)\n",
    "\n",
    "# Concatenating all the DataFrames into a single DataFrame\n",
    "combined_eps_df = pd.concat(eps_dfs, ignore_index=True)\n",
    "\n",
    "print(combined_eps_df)"
   ]
  },
  {
   "cell_type": "code",
   "execution_count": 17,
   "id": "b9c6125a-b946-4ff4-bc8e-e1b4f23d5178",
   "metadata": {},
   "outputs": [],
   "source": [
    "# Sending the data to a CSV file\n",
    "combined_eps_df.to_csv('quarterly_eps_data.csv', index=False)"
   ]
  },
  {
   "cell_type": "markdown",
   "id": "40343ffc-22a2-42b5-af96-bf320ed40a4c",
   "metadata": {},
   "source": [
    "# Pulling the EPS estimate analysis data"
   ]
  },
  {
   "cell_type": "code",
   "execution_count": 49,
   "id": "620004cc-e79f-436e-9d7a-d8fac3c6a377",
   "metadata": {},
   "outputs": [
    {
     "name": "stdout",
     "output_type": "stream",
     "text": [
      "    Ticker Quarter  Year                                                URL\n",
      "0     AMZN      q1  2020  https://www.estimize.com/AMZN/fq1-2020?metric_...\n",
      "1     AMZN      q2  2020  https://www.estimize.com/AMZN/fq2-2020?metric_...\n",
      "2     AMZN      q3  2020  https://www.estimize.com/AMZN/fq3-2020?metric_...\n",
      "3     AMZN      q4  2020  https://www.estimize.com/AMZN/fq4-2020?metric_...\n",
      "4     AMZN      q1  2021  https://www.estimize.com/AMZN/fq1-2021?metric_...\n",
      "..     ...     ...   ...                                                ...\n",
      "355     PG      q4  2021  https://www.estimize.com/PG/fq4-2021?metric_na...\n",
      "356     PG      q1  2022  https://www.estimize.com/PG/fq1-2022?metric_na...\n",
      "357     PG      q2  2022  https://www.estimize.com/PG/fq2-2022?metric_na...\n",
      "358     PG      q3  2022  https://www.estimize.com/PG/fq3-2022?metric_na...\n",
      "359     PG      q4  2022  https://www.estimize.com/PG/fq4-2022?metric_na...\n",
      "\n",
      "[360 rows x 4 columns]\n"
     ]
    }
   ],
   "source": [
    "# Making a DataFrame for storing the URL data\n",
    "url_df = pd.DataFrame(columns=['Ticker', 'Quarter', 'Year', 'URL'])\n",
    "\n",
    "# Preparing the URLs for data pulling\n",
    "for index, row in ticker_list.iterrows():\n",
    "    ticker = row['ticker']\n",
    "    base_url = 'https://www.estimize.com/pg/fq1-2020?metric_name=eps&chart=historical'\n",
    "\n",
    "    # Iterating over quarters and years\n",
    "    for year in range(2020, 2023):\n",
    "        for quarter in ['q1', 'q2', 'q3', 'q4']:\n",
    "            url = f\"{base_url.replace('pg', ticker).replace('q1', quarter).replace('2020', str(year))}\"\n",
    "            new_row = {'Ticker': ticker, 'Quarter': quarter, 'Year': year, 'URL': url}\n",
    "            url_df = pd.concat([url_df, pd.DataFrame([new_row])], ignore_index=True)\n",
    "\n",
    "print(url_df)"
   ]
  },
  {
   "cell_type": "code",
   "execution_count": 65,
   "id": "4372a8db-1326-48eb-acf9-b25cf2ab9ea7",
   "metadata": {},
   "outputs": [
    {
     "name": "stderr",
     "output_type": "stream",
     "text": [
      "C:\\Users\\mhunt\\AppData\\Local\\Temp\\ipykernel_7800\\329258333.py:29: FutureWarning: Passing literal html to 'read_html' is deprecated and will be removed in a future version. To read from a literal string, wrap it in a 'StringIO' object.\n",
      "  df = pd.read_html(table_html)[0]\n"
     ]
    },
    {
     "name": "stdout",
     "output_type": "stream",
     "text": [
      "Table found and converted to DataFrame for URL: https://www.estimize.com/AMZN/fq1-2020?metric_name=eps&chart=historical\n"
     ]
    },
    {
     "name": "stderr",
     "output_type": "stream",
     "text": [
      "C:\\Users\\mhunt\\AppData\\Local\\Temp\\ipykernel_7800\\329258333.py:29: FutureWarning: Passing literal html to 'read_html' is deprecated and will be removed in a future version. To read from a literal string, wrap it in a 'StringIO' object.\n",
      "  df = pd.read_html(table_html)[0]\n"
     ]
    },
    {
     "name": "stdout",
     "output_type": "stream",
     "text": [
      "Table found and converted to DataFrame for URL: https://www.estimize.com/AMZN/fq2-2020?metric_name=eps&chart=historical\n"
     ]
    },
    {
     "name": "stderr",
     "output_type": "stream",
     "text": [
      "C:\\Users\\mhunt\\AppData\\Local\\Temp\\ipykernel_7800\\329258333.py:29: FutureWarning: Passing literal html to 'read_html' is deprecated and will be removed in a future version. To read from a literal string, wrap it in a 'StringIO' object.\n",
      "  df = pd.read_html(table_html)[0]\n"
     ]
    },
    {
     "name": "stdout",
     "output_type": "stream",
     "text": [
      "Table found and converted to DataFrame for URL: https://www.estimize.com/AMZN/fq3-2020?metric_name=eps&chart=historical\n"
     ]
    },
    {
     "name": "stderr",
     "output_type": "stream",
     "text": [
      "C:\\Users\\mhunt\\AppData\\Local\\Temp\\ipykernel_7800\\329258333.py:29: FutureWarning: Passing literal html to 'read_html' is deprecated and will be removed in a future version. To read from a literal string, wrap it in a 'StringIO' object.\n",
      "  df = pd.read_html(table_html)[0]\n"
     ]
    },
    {
     "name": "stdout",
     "output_type": "stream",
     "text": [
      "Table found and converted to DataFrame for URL: https://www.estimize.com/AMZN/fq4-2020?metric_name=eps&chart=historical\n"
     ]
    },
    {
     "name": "stderr",
     "output_type": "stream",
     "text": [
      "C:\\Users\\mhunt\\AppData\\Local\\Temp\\ipykernel_7800\\329258333.py:29: FutureWarning: Passing literal html to 'read_html' is deprecated and will be removed in a future version. To read from a literal string, wrap it in a 'StringIO' object.\n",
      "  df = pd.read_html(table_html)[0]\n"
     ]
    },
    {
     "name": "stdout",
     "output_type": "stream",
     "text": [
      "Table found and converted to DataFrame for URL: https://www.estimize.com/AMZN/fq1-2021?metric_name=eps&chart=historical\n"
     ]
    },
    {
     "name": "stderr",
     "output_type": "stream",
     "text": [
      "C:\\Users\\mhunt\\AppData\\Local\\Temp\\ipykernel_7800\\329258333.py:29: FutureWarning: Passing literal html to 'read_html' is deprecated and will be removed in a future version. To read from a literal string, wrap it in a 'StringIO' object.\n",
      "  df = pd.read_html(table_html)[0]\n"
     ]
    },
    {
     "name": "stdout",
     "output_type": "stream",
     "text": [
      "Table found and converted to DataFrame for URL: https://www.estimize.com/AMZN/fq2-2021?metric_name=eps&chart=historical\n"
     ]
    },
    {
     "name": "stderr",
     "output_type": "stream",
     "text": [
      "C:\\Users\\mhunt\\AppData\\Local\\Temp\\ipykernel_7800\\329258333.py:29: FutureWarning: Passing literal html to 'read_html' is deprecated and will be removed in a future version. To read from a literal string, wrap it in a 'StringIO' object.\n",
      "  df = pd.read_html(table_html)[0]\n"
     ]
    },
    {
     "name": "stdout",
     "output_type": "stream",
     "text": [
      "Table found and converted to DataFrame for URL: https://www.estimize.com/AMZN/fq3-2021?metric_name=eps&chart=historical\n"
     ]
    },
    {
     "name": "stderr",
     "output_type": "stream",
     "text": [
      "C:\\Users\\mhunt\\AppData\\Local\\Temp\\ipykernel_7800\\329258333.py:29: FutureWarning: Passing literal html to 'read_html' is deprecated and will be removed in a future version. To read from a literal string, wrap it in a 'StringIO' object.\n",
      "  df = pd.read_html(table_html)[0]\n"
     ]
    },
    {
     "name": "stdout",
     "output_type": "stream",
     "text": [
      "Table found and converted to DataFrame for URL: https://www.estimize.com/AMZN/fq4-2021?metric_name=eps&chart=historical\n"
     ]
    },
    {
     "name": "stderr",
     "output_type": "stream",
     "text": [
      "C:\\Users\\mhunt\\AppData\\Local\\Temp\\ipykernel_7800\\329258333.py:29: FutureWarning: Passing literal html to 'read_html' is deprecated and will be removed in a future version. To read from a literal string, wrap it in a 'StringIO' object.\n",
      "  df = pd.read_html(table_html)[0]\n"
     ]
    },
    {
     "name": "stdout",
     "output_type": "stream",
     "text": [
      "Table found and converted to DataFrame for URL: https://www.estimize.com/AMZN/fq1-2022?metric_name=eps&chart=historical\n"
     ]
    },
    {
     "name": "stderr",
     "output_type": "stream",
     "text": [
      "C:\\Users\\mhunt\\AppData\\Local\\Temp\\ipykernel_7800\\329258333.py:29: FutureWarning: Passing literal html to 'read_html' is deprecated and will be removed in a future version. To read from a literal string, wrap it in a 'StringIO' object.\n",
      "  df = pd.read_html(table_html)[0]\n"
     ]
    },
    {
     "name": "stdout",
     "output_type": "stream",
     "text": [
      "Table found and converted to DataFrame for URL: https://www.estimize.com/AMZN/fq2-2022?metric_name=eps&chart=historical\n"
     ]
    },
    {
     "name": "stderr",
     "output_type": "stream",
     "text": [
      "C:\\Users\\mhunt\\AppData\\Local\\Temp\\ipykernel_7800\\329258333.py:29: FutureWarning: Passing literal html to 'read_html' is deprecated and will be removed in a future version. To read from a literal string, wrap it in a 'StringIO' object.\n",
      "  df = pd.read_html(table_html)[0]\n"
     ]
    },
    {
     "name": "stdout",
     "output_type": "stream",
     "text": [
      "Table found and converted to DataFrame for URL: https://www.estimize.com/AMZN/fq3-2022?metric_name=eps&chart=historical\n"
     ]
    },
    {
     "name": "stderr",
     "output_type": "stream",
     "text": [
      "C:\\Users\\mhunt\\AppData\\Local\\Temp\\ipykernel_7800\\329258333.py:29: FutureWarning: Passing literal html to 'read_html' is deprecated and will be removed in a future version. To read from a literal string, wrap it in a 'StringIO' object.\n",
      "  df = pd.read_html(table_html)[0]\n"
     ]
    },
    {
     "name": "stdout",
     "output_type": "stream",
     "text": [
      "Table found and converted to DataFrame for URL: https://www.estimize.com/AMZN/fq4-2022?metric_name=eps&chart=historical\n"
     ]
    },
    {
     "name": "stderr",
     "output_type": "stream",
     "text": [
      "C:\\Users\\mhunt\\AppData\\Local\\Temp\\ipykernel_7800\\329258333.py:29: FutureWarning: Passing literal html to 'read_html' is deprecated and will be removed in a future version. To read from a literal string, wrap it in a 'StringIO' object.\n",
      "  df = pd.read_html(table_html)[0]\n"
     ]
    },
    {
     "name": "stdout",
     "output_type": "stream",
     "text": [
      "Table found and converted to DataFrame for URL: https://www.estimize.com/AAPL/fq1-2020?metric_name=eps&chart=historical\n"
     ]
    },
    {
     "name": "stderr",
     "output_type": "stream",
     "text": [
      "C:\\Users\\mhunt\\AppData\\Local\\Temp\\ipykernel_7800\\329258333.py:29: FutureWarning: Passing literal html to 'read_html' is deprecated and will be removed in a future version. To read from a literal string, wrap it in a 'StringIO' object.\n",
      "  df = pd.read_html(table_html)[0]\n"
     ]
    },
    {
     "name": "stdout",
     "output_type": "stream",
     "text": [
      "Table found and converted to DataFrame for URL: https://www.estimize.com/AAPL/fq2-2020?metric_name=eps&chart=historical\n"
     ]
    },
    {
     "name": "stderr",
     "output_type": "stream",
     "text": [
      "C:\\Users\\mhunt\\AppData\\Local\\Temp\\ipykernel_7800\\329258333.py:29: FutureWarning: Passing literal html to 'read_html' is deprecated and will be removed in a future version. To read from a literal string, wrap it in a 'StringIO' object.\n",
      "  df = pd.read_html(table_html)[0]\n"
     ]
    },
    {
     "name": "stdout",
     "output_type": "stream",
     "text": [
      "Table found and converted to DataFrame for URL: https://www.estimize.com/AAPL/fq3-2020?metric_name=eps&chart=historical\n"
     ]
    },
    {
     "name": "stderr",
     "output_type": "stream",
     "text": [
      "C:\\Users\\mhunt\\AppData\\Local\\Temp\\ipykernel_7800\\329258333.py:29: FutureWarning: Passing literal html to 'read_html' is deprecated and will be removed in a future version. To read from a literal string, wrap it in a 'StringIO' object.\n",
      "  df = pd.read_html(table_html)[0]\n"
     ]
    },
    {
     "name": "stdout",
     "output_type": "stream",
     "text": [
      "Table found and converted to DataFrame for URL: https://www.estimize.com/AAPL/fq4-2020?metric_name=eps&chart=historical\n"
     ]
    },
    {
     "name": "stderr",
     "output_type": "stream",
     "text": [
      "C:\\Users\\mhunt\\AppData\\Local\\Temp\\ipykernel_7800\\329258333.py:29: FutureWarning: Passing literal html to 'read_html' is deprecated and will be removed in a future version. To read from a literal string, wrap it in a 'StringIO' object.\n",
      "  df = pd.read_html(table_html)[0]\n"
     ]
    },
    {
     "name": "stdout",
     "output_type": "stream",
     "text": [
      "Table found and converted to DataFrame for URL: https://www.estimize.com/AAPL/fq1-2021?metric_name=eps&chart=historical\n"
     ]
    },
    {
     "name": "stderr",
     "output_type": "stream",
     "text": [
      "C:\\Users\\mhunt\\AppData\\Local\\Temp\\ipykernel_7800\\329258333.py:29: FutureWarning: Passing literal html to 'read_html' is deprecated and will be removed in a future version. To read from a literal string, wrap it in a 'StringIO' object.\n",
      "  df = pd.read_html(table_html)[0]\n"
     ]
    },
    {
     "name": "stdout",
     "output_type": "stream",
     "text": [
      "Table found and converted to DataFrame for URL: https://www.estimize.com/AAPL/fq2-2021?metric_name=eps&chart=historical\n"
     ]
    },
    {
     "name": "stderr",
     "output_type": "stream",
     "text": [
      "C:\\Users\\mhunt\\AppData\\Local\\Temp\\ipykernel_7800\\329258333.py:29: FutureWarning: Passing literal html to 'read_html' is deprecated and will be removed in a future version. To read from a literal string, wrap it in a 'StringIO' object.\n",
      "  df = pd.read_html(table_html)[0]\n"
     ]
    },
    {
     "name": "stdout",
     "output_type": "stream",
     "text": [
      "Table found and converted to DataFrame for URL: https://www.estimize.com/AAPL/fq3-2021?metric_name=eps&chart=historical\n"
     ]
    },
    {
     "name": "stderr",
     "output_type": "stream",
     "text": [
      "C:\\Users\\mhunt\\AppData\\Local\\Temp\\ipykernel_7800\\329258333.py:29: FutureWarning: Passing literal html to 'read_html' is deprecated and will be removed in a future version. To read from a literal string, wrap it in a 'StringIO' object.\n",
      "  df = pd.read_html(table_html)[0]\n"
     ]
    },
    {
     "name": "stdout",
     "output_type": "stream",
     "text": [
      "Table found and converted to DataFrame for URL: https://www.estimize.com/AAPL/fq4-2021?metric_name=eps&chart=historical\n"
     ]
    },
    {
     "name": "stderr",
     "output_type": "stream",
     "text": [
      "C:\\Users\\mhunt\\AppData\\Local\\Temp\\ipykernel_7800\\329258333.py:29: FutureWarning: Passing literal html to 'read_html' is deprecated and will be removed in a future version. To read from a literal string, wrap it in a 'StringIO' object.\n",
      "  df = pd.read_html(table_html)[0]\n"
     ]
    },
    {
     "name": "stdout",
     "output_type": "stream",
     "text": [
      "Table found and converted to DataFrame for URL: https://www.estimize.com/AAPL/fq1-2022?metric_name=eps&chart=historical\n"
     ]
    },
    {
     "name": "stderr",
     "output_type": "stream",
     "text": [
      "C:\\Users\\mhunt\\AppData\\Local\\Temp\\ipykernel_7800\\329258333.py:29: FutureWarning: Passing literal html to 'read_html' is deprecated and will be removed in a future version. To read from a literal string, wrap it in a 'StringIO' object.\n",
      "  df = pd.read_html(table_html)[0]\n"
     ]
    },
    {
     "name": "stdout",
     "output_type": "stream",
     "text": [
      "Table found and converted to DataFrame for URL: https://www.estimize.com/AAPL/fq2-2022?metric_name=eps&chart=historical\n"
     ]
    },
    {
     "name": "stderr",
     "output_type": "stream",
     "text": [
      "C:\\Users\\mhunt\\AppData\\Local\\Temp\\ipykernel_7800\\329258333.py:29: FutureWarning: Passing literal html to 'read_html' is deprecated and will be removed in a future version. To read from a literal string, wrap it in a 'StringIO' object.\n",
      "  df = pd.read_html(table_html)[0]\n"
     ]
    },
    {
     "name": "stdout",
     "output_type": "stream",
     "text": [
      "Table found and converted to DataFrame for URL: https://www.estimize.com/AAPL/fq3-2022?metric_name=eps&chart=historical\n"
     ]
    },
    {
     "name": "stderr",
     "output_type": "stream",
     "text": [
      "C:\\Users\\mhunt\\AppData\\Local\\Temp\\ipykernel_7800\\329258333.py:29: FutureWarning: Passing literal html to 'read_html' is deprecated and will be removed in a future version. To read from a literal string, wrap it in a 'StringIO' object.\n",
      "  df = pd.read_html(table_html)[0]\n"
     ]
    },
    {
     "name": "stdout",
     "output_type": "stream",
     "text": [
      "Table found and converted to DataFrame for URL: https://www.estimize.com/AAPL/fq4-2022?metric_name=eps&chart=historical\n"
     ]
    },
    {
     "name": "stderr",
     "output_type": "stream",
     "text": [
      "C:\\Users\\mhunt\\AppData\\Local\\Temp\\ipykernel_7800\\329258333.py:29: FutureWarning: Passing literal html to 'read_html' is deprecated and will be removed in a future version. To read from a literal string, wrap it in a 'StringIO' object.\n",
      "  df = pd.read_html(table_html)[0]\n"
     ]
    },
    {
     "name": "stdout",
     "output_type": "stream",
     "text": [
      "Table found and converted to DataFrame for URL: https://www.estimize.com/MSFT/fq1-2020?metric_name=eps&chart=historical\n"
     ]
    },
    {
     "name": "stderr",
     "output_type": "stream",
     "text": [
      "C:\\Users\\mhunt\\AppData\\Local\\Temp\\ipykernel_7800\\329258333.py:29: FutureWarning: Passing literal html to 'read_html' is deprecated and will be removed in a future version. To read from a literal string, wrap it in a 'StringIO' object.\n",
      "  df = pd.read_html(table_html)[0]\n"
     ]
    },
    {
     "name": "stdout",
     "output_type": "stream",
     "text": [
      "Table found and converted to DataFrame for URL: https://www.estimize.com/MSFT/fq2-2020?metric_name=eps&chart=historical\n"
     ]
    },
    {
     "name": "stderr",
     "output_type": "stream",
     "text": [
      "C:\\Users\\mhunt\\AppData\\Local\\Temp\\ipykernel_7800\\329258333.py:29: FutureWarning: Passing literal html to 'read_html' is deprecated and will be removed in a future version. To read from a literal string, wrap it in a 'StringIO' object.\n",
      "  df = pd.read_html(table_html)[0]\n"
     ]
    },
    {
     "name": "stdout",
     "output_type": "stream",
     "text": [
      "Table found and converted to DataFrame for URL: https://www.estimize.com/MSFT/fq3-2020?metric_name=eps&chart=historical\n"
     ]
    },
    {
     "name": "stderr",
     "output_type": "stream",
     "text": [
      "C:\\Users\\mhunt\\AppData\\Local\\Temp\\ipykernel_7800\\329258333.py:29: FutureWarning: Passing literal html to 'read_html' is deprecated and will be removed in a future version. To read from a literal string, wrap it in a 'StringIO' object.\n",
      "  df = pd.read_html(table_html)[0]\n"
     ]
    },
    {
     "name": "stdout",
     "output_type": "stream",
     "text": [
      "Table found and converted to DataFrame for URL: https://www.estimize.com/MSFT/fq4-2020?metric_name=eps&chart=historical\n"
     ]
    },
    {
     "name": "stderr",
     "output_type": "stream",
     "text": [
      "C:\\Users\\mhunt\\AppData\\Local\\Temp\\ipykernel_7800\\329258333.py:29: FutureWarning: Passing literal html to 'read_html' is deprecated and will be removed in a future version. To read from a literal string, wrap it in a 'StringIO' object.\n",
      "  df = pd.read_html(table_html)[0]\n"
     ]
    },
    {
     "name": "stdout",
     "output_type": "stream",
     "text": [
      "Table found and converted to DataFrame for URL: https://www.estimize.com/MSFT/fq1-2021?metric_name=eps&chart=historical\n"
     ]
    },
    {
     "name": "stderr",
     "output_type": "stream",
     "text": [
      "C:\\Users\\mhunt\\AppData\\Local\\Temp\\ipykernel_7800\\329258333.py:29: FutureWarning: Passing literal html to 'read_html' is deprecated and will be removed in a future version. To read from a literal string, wrap it in a 'StringIO' object.\n",
      "  df = pd.read_html(table_html)[0]\n"
     ]
    },
    {
     "name": "stdout",
     "output_type": "stream",
     "text": [
      "Table found and converted to DataFrame for URL: https://www.estimize.com/MSFT/fq2-2021?metric_name=eps&chart=historical\n"
     ]
    },
    {
     "name": "stderr",
     "output_type": "stream",
     "text": [
      "C:\\Users\\mhunt\\AppData\\Local\\Temp\\ipykernel_7800\\329258333.py:29: FutureWarning: Passing literal html to 'read_html' is deprecated and will be removed in a future version. To read from a literal string, wrap it in a 'StringIO' object.\n",
      "  df = pd.read_html(table_html)[0]\n"
     ]
    },
    {
     "name": "stdout",
     "output_type": "stream",
     "text": [
      "Table found and converted to DataFrame for URL: https://www.estimize.com/MSFT/fq3-2021?metric_name=eps&chart=historical\n"
     ]
    },
    {
     "name": "stderr",
     "output_type": "stream",
     "text": [
      "C:\\Users\\mhunt\\AppData\\Local\\Temp\\ipykernel_7800\\329258333.py:29: FutureWarning: Passing literal html to 'read_html' is deprecated and will be removed in a future version. To read from a literal string, wrap it in a 'StringIO' object.\n",
      "  df = pd.read_html(table_html)[0]\n"
     ]
    },
    {
     "name": "stdout",
     "output_type": "stream",
     "text": [
      "Table found and converted to DataFrame for URL: https://www.estimize.com/MSFT/fq4-2021?metric_name=eps&chart=historical\n"
     ]
    },
    {
     "name": "stderr",
     "output_type": "stream",
     "text": [
      "C:\\Users\\mhunt\\AppData\\Local\\Temp\\ipykernel_7800\\329258333.py:29: FutureWarning: Passing literal html to 'read_html' is deprecated and will be removed in a future version. To read from a literal string, wrap it in a 'StringIO' object.\n",
      "  df = pd.read_html(table_html)[0]\n"
     ]
    },
    {
     "name": "stdout",
     "output_type": "stream",
     "text": [
      "Table found and converted to DataFrame for URL: https://www.estimize.com/MSFT/fq1-2022?metric_name=eps&chart=historical\n"
     ]
    },
    {
     "name": "stderr",
     "output_type": "stream",
     "text": [
      "C:\\Users\\mhunt\\AppData\\Local\\Temp\\ipykernel_7800\\329258333.py:29: FutureWarning: Passing literal html to 'read_html' is deprecated and will be removed in a future version. To read from a literal string, wrap it in a 'StringIO' object.\n",
      "  df = pd.read_html(table_html)[0]\n"
     ]
    },
    {
     "name": "stdout",
     "output_type": "stream",
     "text": [
      "Table found and converted to DataFrame for URL: https://www.estimize.com/MSFT/fq2-2022?metric_name=eps&chart=historical\n"
     ]
    },
    {
     "name": "stderr",
     "output_type": "stream",
     "text": [
      "C:\\Users\\mhunt\\AppData\\Local\\Temp\\ipykernel_7800\\329258333.py:29: FutureWarning: Passing literal html to 'read_html' is deprecated and will be removed in a future version. To read from a literal string, wrap it in a 'StringIO' object.\n",
      "  df = pd.read_html(table_html)[0]\n"
     ]
    },
    {
     "name": "stdout",
     "output_type": "stream",
     "text": [
      "Table found and converted to DataFrame for URL: https://www.estimize.com/MSFT/fq3-2022?metric_name=eps&chart=historical\n"
     ]
    },
    {
     "name": "stderr",
     "output_type": "stream",
     "text": [
      "C:\\Users\\mhunt\\AppData\\Local\\Temp\\ipykernel_7800\\329258333.py:29: FutureWarning: Passing literal html to 'read_html' is deprecated and will be removed in a future version. To read from a literal string, wrap it in a 'StringIO' object.\n",
      "  df = pd.read_html(table_html)[0]\n"
     ]
    },
    {
     "name": "stdout",
     "output_type": "stream",
     "text": [
      "Table found and converted to DataFrame for URL: https://www.estimize.com/MSFT/fq4-2022?metric_name=eps&chart=historical\n"
     ]
    },
    {
     "name": "stderr",
     "output_type": "stream",
     "text": [
      "C:\\Users\\mhunt\\AppData\\Local\\Temp\\ipykernel_7800\\329258333.py:29: FutureWarning: Passing literal html to 'read_html' is deprecated and will be removed in a future version. To read from a literal string, wrap it in a 'StringIO' object.\n",
      "  df = pd.read_html(table_html)[0]\n"
     ]
    },
    {
     "name": "stdout",
     "output_type": "stream",
     "text": [
      "Table found and converted to DataFrame for URL: https://www.estimize.com/GOOG/fq1-2020?metric_name=eps&chart=historical\n"
     ]
    },
    {
     "name": "stderr",
     "output_type": "stream",
     "text": [
      "C:\\Users\\mhunt\\AppData\\Local\\Temp\\ipykernel_7800\\329258333.py:29: FutureWarning: Passing literal html to 'read_html' is deprecated and will be removed in a future version. To read from a literal string, wrap it in a 'StringIO' object.\n",
      "  df = pd.read_html(table_html)[0]\n"
     ]
    },
    {
     "name": "stdout",
     "output_type": "stream",
     "text": [
      "Table found and converted to DataFrame for URL: https://www.estimize.com/GOOG/fq2-2020?metric_name=eps&chart=historical\n"
     ]
    },
    {
     "name": "stderr",
     "output_type": "stream",
     "text": [
      "C:\\Users\\mhunt\\AppData\\Local\\Temp\\ipykernel_7800\\329258333.py:29: FutureWarning: Passing literal html to 'read_html' is deprecated and will be removed in a future version. To read from a literal string, wrap it in a 'StringIO' object.\n",
      "  df = pd.read_html(table_html)[0]\n"
     ]
    },
    {
     "name": "stdout",
     "output_type": "stream",
     "text": [
      "Table found and converted to DataFrame for URL: https://www.estimize.com/GOOG/fq3-2020?metric_name=eps&chart=historical\n"
     ]
    },
    {
     "name": "stderr",
     "output_type": "stream",
     "text": [
      "C:\\Users\\mhunt\\AppData\\Local\\Temp\\ipykernel_7800\\329258333.py:29: FutureWarning: Passing literal html to 'read_html' is deprecated and will be removed in a future version. To read from a literal string, wrap it in a 'StringIO' object.\n",
      "  df = pd.read_html(table_html)[0]\n"
     ]
    },
    {
     "name": "stdout",
     "output_type": "stream",
     "text": [
      "Table found and converted to DataFrame for URL: https://www.estimize.com/GOOG/fq4-2020?metric_name=eps&chart=historical\n"
     ]
    },
    {
     "name": "stderr",
     "output_type": "stream",
     "text": [
      "C:\\Users\\mhunt\\AppData\\Local\\Temp\\ipykernel_7800\\329258333.py:29: FutureWarning: Passing literal html to 'read_html' is deprecated and will be removed in a future version. To read from a literal string, wrap it in a 'StringIO' object.\n",
      "  df = pd.read_html(table_html)[0]\n"
     ]
    },
    {
     "name": "stdout",
     "output_type": "stream",
     "text": [
      "Table found and converted to DataFrame for URL: https://www.estimize.com/GOOG/fq1-2021?metric_name=eps&chart=historical\n"
     ]
    },
    {
     "name": "stderr",
     "output_type": "stream",
     "text": [
      "C:\\Users\\mhunt\\AppData\\Local\\Temp\\ipykernel_7800\\329258333.py:29: FutureWarning: Passing literal html to 'read_html' is deprecated and will be removed in a future version. To read from a literal string, wrap it in a 'StringIO' object.\n",
      "  df = pd.read_html(table_html)[0]\n"
     ]
    },
    {
     "name": "stdout",
     "output_type": "stream",
     "text": [
      "Table found and converted to DataFrame for URL: https://www.estimize.com/GOOG/fq2-2021?metric_name=eps&chart=historical\n"
     ]
    },
    {
     "name": "stderr",
     "output_type": "stream",
     "text": [
      "C:\\Users\\mhunt\\AppData\\Local\\Temp\\ipykernel_7800\\329258333.py:29: FutureWarning: Passing literal html to 'read_html' is deprecated and will be removed in a future version. To read from a literal string, wrap it in a 'StringIO' object.\n",
      "  df = pd.read_html(table_html)[0]\n"
     ]
    },
    {
     "name": "stdout",
     "output_type": "stream",
     "text": [
      "Table found and converted to DataFrame for URL: https://www.estimize.com/GOOG/fq3-2021?metric_name=eps&chart=historical\n"
     ]
    },
    {
     "name": "stderr",
     "output_type": "stream",
     "text": [
      "C:\\Users\\mhunt\\AppData\\Local\\Temp\\ipykernel_7800\\329258333.py:29: FutureWarning: Passing literal html to 'read_html' is deprecated and will be removed in a future version. To read from a literal string, wrap it in a 'StringIO' object.\n",
      "  df = pd.read_html(table_html)[0]\n"
     ]
    },
    {
     "name": "stdout",
     "output_type": "stream",
     "text": [
      "Table found and converted to DataFrame for URL: https://www.estimize.com/GOOG/fq4-2021?metric_name=eps&chart=historical\n"
     ]
    },
    {
     "name": "stderr",
     "output_type": "stream",
     "text": [
      "C:\\Users\\mhunt\\AppData\\Local\\Temp\\ipykernel_7800\\329258333.py:29: FutureWarning: Passing literal html to 'read_html' is deprecated and will be removed in a future version. To read from a literal string, wrap it in a 'StringIO' object.\n",
      "  df = pd.read_html(table_html)[0]\n"
     ]
    },
    {
     "name": "stdout",
     "output_type": "stream",
     "text": [
      "Table found and converted to DataFrame for URL: https://www.estimize.com/GOOG/fq1-2022?metric_name=eps&chart=historical\n"
     ]
    },
    {
     "name": "stderr",
     "output_type": "stream",
     "text": [
      "C:\\Users\\mhunt\\AppData\\Local\\Temp\\ipykernel_7800\\329258333.py:29: FutureWarning: Passing literal html to 'read_html' is deprecated and will be removed in a future version. To read from a literal string, wrap it in a 'StringIO' object.\n",
      "  df = pd.read_html(table_html)[0]\n"
     ]
    },
    {
     "name": "stdout",
     "output_type": "stream",
     "text": [
      "Table found and converted to DataFrame for URL: https://www.estimize.com/GOOG/fq2-2022?metric_name=eps&chart=historical\n"
     ]
    },
    {
     "name": "stderr",
     "output_type": "stream",
     "text": [
      "C:\\Users\\mhunt\\AppData\\Local\\Temp\\ipykernel_7800\\329258333.py:29: FutureWarning: Passing literal html to 'read_html' is deprecated and will be removed in a future version. To read from a literal string, wrap it in a 'StringIO' object.\n",
      "  df = pd.read_html(table_html)[0]\n"
     ]
    },
    {
     "name": "stdout",
     "output_type": "stream",
     "text": [
      "Table found and converted to DataFrame for URL: https://www.estimize.com/GOOG/fq3-2022?metric_name=eps&chart=historical\n"
     ]
    },
    {
     "name": "stderr",
     "output_type": "stream",
     "text": [
      "C:\\Users\\mhunt\\AppData\\Local\\Temp\\ipykernel_7800\\329258333.py:29: FutureWarning: Passing literal html to 'read_html' is deprecated and will be removed in a future version. To read from a literal string, wrap it in a 'StringIO' object.\n",
      "  df = pd.read_html(table_html)[0]\n"
     ]
    },
    {
     "name": "stdout",
     "output_type": "stream",
     "text": [
      "Table found and converted to DataFrame for URL: https://www.estimize.com/GOOG/fq4-2022?metric_name=eps&chart=historical\n"
     ]
    },
    {
     "name": "stderr",
     "output_type": "stream",
     "text": [
      "C:\\Users\\mhunt\\AppData\\Local\\Temp\\ipykernel_7800\\329258333.py:29: FutureWarning: Passing literal html to 'read_html' is deprecated and will be removed in a future version. To read from a literal string, wrap it in a 'StringIO' object.\n",
      "  df = pd.read_html(table_html)[0]\n"
     ]
    },
    {
     "name": "stdout",
     "output_type": "stream",
     "text": [
      "Table found and converted to DataFrame for URL: https://www.estimize.com/TSLA/fq1-2020?metric_name=eps&chart=historical\n"
     ]
    },
    {
     "name": "stderr",
     "output_type": "stream",
     "text": [
      "C:\\Users\\mhunt\\AppData\\Local\\Temp\\ipykernel_7800\\329258333.py:29: FutureWarning: Passing literal html to 'read_html' is deprecated and will be removed in a future version. To read from a literal string, wrap it in a 'StringIO' object.\n",
      "  df = pd.read_html(table_html)[0]\n"
     ]
    },
    {
     "name": "stdout",
     "output_type": "stream",
     "text": [
      "Table found and converted to DataFrame for URL: https://www.estimize.com/TSLA/fq2-2020?metric_name=eps&chart=historical\n"
     ]
    },
    {
     "name": "stderr",
     "output_type": "stream",
     "text": [
      "C:\\Users\\mhunt\\AppData\\Local\\Temp\\ipykernel_7800\\329258333.py:29: FutureWarning: Passing literal html to 'read_html' is deprecated and will be removed in a future version. To read from a literal string, wrap it in a 'StringIO' object.\n",
      "  df = pd.read_html(table_html)[0]\n"
     ]
    },
    {
     "name": "stdout",
     "output_type": "stream",
     "text": [
      "Table found and converted to DataFrame for URL: https://www.estimize.com/TSLA/fq3-2020?metric_name=eps&chart=historical\n"
     ]
    },
    {
     "name": "stderr",
     "output_type": "stream",
     "text": [
      "C:\\Users\\mhunt\\AppData\\Local\\Temp\\ipykernel_7800\\329258333.py:29: FutureWarning: Passing literal html to 'read_html' is deprecated and will be removed in a future version. To read from a literal string, wrap it in a 'StringIO' object.\n",
      "  df = pd.read_html(table_html)[0]\n"
     ]
    },
    {
     "name": "stdout",
     "output_type": "stream",
     "text": [
      "Table found and converted to DataFrame for URL: https://www.estimize.com/TSLA/fq4-2020?metric_name=eps&chart=historical\n"
     ]
    },
    {
     "name": "stderr",
     "output_type": "stream",
     "text": [
      "C:\\Users\\mhunt\\AppData\\Local\\Temp\\ipykernel_7800\\329258333.py:29: FutureWarning: Passing literal html to 'read_html' is deprecated and will be removed in a future version. To read from a literal string, wrap it in a 'StringIO' object.\n",
      "  df = pd.read_html(table_html)[0]\n"
     ]
    },
    {
     "name": "stdout",
     "output_type": "stream",
     "text": [
      "Table found and converted to DataFrame for URL: https://www.estimize.com/TSLA/fq1-2021?metric_name=eps&chart=historical\n"
     ]
    },
    {
     "name": "stderr",
     "output_type": "stream",
     "text": [
      "C:\\Users\\mhunt\\AppData\\Local\\Temp\\ipykernel_7800\\329258333.py:29: FutureWarning: Passing literal html to 'read_html' is deprecated and will be removed in a future version. To read from a literal string, wrap it in a 'StringIO' object.\n",
      "  df = pd.read_html(table_html)[0]\n"
     ]
    },
    {
     "name": "stdout",
     "output_type": "stream",
     "text": [
      "Table found and converted to DataFrame for URL: https://www.estimize.com/TSLA/fq2-2021?metric_name=eps&chart=historical\n"
     ]
    },
    {
     "name": "stderr",
     "output_type": "stream",
     "text": [
      "C:\\Users\\mhunt\\AppData\\Local\\Temp\\ipykernel_7800\\329258333.py:29: FutureWarning: Passing literal html to 'read_html' is deprecated and will be removed in a future version. To read from a literal string, wrap it in a 'StringIO' object.\n",
      "  df = pd.read_html(table_html)[0]\n"
     ]
    },
    {
     "name": "stdout",
     "output_type": "stream",
     "text": [
      "Table found and converted to DataFrame for URL: https://www.estimize.com/TSLA/fq3-2021?metric_name=eps&chart=historical\n"
     ]
    },
    {
     "name": "stderr",
     "output_type": "stream",
     "text": [
      "C:\\Users\\mhunt\\AppData\\Local\\Temp\\ipykernel_7800\\329258333.py:29: FutureWarning: Passing literal html to 'read_html' is deprecated and will be removed in a future version. To read from a literal string, wrap it in a 'StringIO' object.\n",
      "  df = pd.read_html(table_html)[0]\n"
     ]
    },
    {
     "name": "stdout",
     "output_type": "stream",
     "text": [
      "Table found and converted to DataFrame for URL: https://www.estimize.com/TSLA/fq4-2021?metric_name=eps&chart=historical\n"
     ]
    },
    {
     "name": "stderr",
     "output_type": "stream",
     "text": [
      "C:\\Users\\mhunt\\AppData\\Local\\Temp\\ipykernel_7800\\329258333.py:29: FutureWarning: Passing literal html to 'read_html' is deprecated and will be removed in a future version. To read from a literal string, wrap it in a 'StringIO' object.\n",
      "  df = pd.read_html(table_html)[0]\n"
     ]
    },
    {
     "name": "stdout",
     "output_type": "stream",
     "text": [
      "Table found and converted to DataFrame for URL: https://www.estimize.com/TSLA/fq1-2022?metric_name=eps&chart=historical\n"
     ]
    },
    {
     "name": "stderr",
     "output_type": "stream",
     "text": [
      "C:\\Users\\mhunt\\AppData\\Local\\Temp\\ipykernel_7800\\329258333.py:29: FutureWarning: Passing literal html to 'read_html' is deprecated and will be removed in a future version. To read from a literal string, wrap it in a 'StringIO' object.\n",
      "  df = pd.read_html(table_html)[0]\n"
     ]
    },
    {
     "name": "stdout",
     "output_type": "stream",
     "text": [
      "Table found and converted to DataFrame for URL: https://www.estimize.com/TSLA/fq2-2022?metric_name=eps&chart=historical\n"
     ]
    },
    {
     "name": "stderr",
     "output_type": "stream",
     "text": [
      "C:\\Users\\mhunt\\AppData\\Local\\Temp\\ipykernel_7800\\329258333.py:29: FutureWarning: Passing literal html to 'read_html' is deprecated and will be removed in a future version. To read from a literal string, wrap it in a 'StringIO' object.\n",
      "  df = pd.read_html(table_html)[0]\n"
     ]
    },
    {
     "name": "stdout",
     "output_type": "stream",
     "text": [
      "Table found and converted to DataFrame for URL: https://www.estimize.com/TSLA/fq3-2022?metric_name=eps&chart=historical\n"
     ]
    },
    {
     "name": "stderr",
     "output_type": "stream",
     "text": [
      "C:\\Users\\mhunt\\AppData\\Local\\Temp\\ipykernel_7800\\329258333.py:29: FutureWarning: Passing literal html to 'read_html' is deprecated and will be removed in a future version. To read from a literal string, wrap it in a 'StringIO' object.\n",
      "  df = pd.read_html(table_html)[0]\n"
     ]
    },
    {
     "name": "stdout",
     "output_type": "stream",
     "text": [
      "Table found and converted to DataFrame for URL: https://www.estimize.com/TSLA/fq4-2022?metric_name=eps&chart=historical\n"
     ]
    },
    {
     "name": "stderr",
     "output_type": "stream",
     "text": [
      "C:\\Users\\mhunt\\AppData\\Local\\Temp\\ipykernel_7800\\329258333.py:29: FutureWarning: Passing literal html to 'read_html' is deprecated and will be removed in a future version. To read from a literal string, wrap it in a 'StringIO' object.\n",
      "  df = pd.read_html(table_html)[0]\n"
     ]
    },
    {
     "name": "stdout",
     "output_type": "stream",
     "text": [
      "Table found and converted to DataFrame for URL: https://www.estimize.com/JNJ/fq1-2020?metric_name=eps&chart=historical\n"
     ]
    },
    {
     "name": "stderr",
     "output_type": "stream",
     "text": [
      "C:\\Users\\mhunt\\AppData\\Local\\Temp\\ipykernel_7800\\329258333.py:29: FutureWarning: Passing literal html to 'read_html' is deprecated and will be removed in a future version. To read from a literal string, wrap it in a 'StringIO' object.\n",
      "  df = pd.read_html(table_html)[0]\n"
     ]
    },
    {
     "name": "stdout",
     "output_type": "stream",
     "text": [
      "Table found and converted to DataFrame for URL: https://www.estimize.com/JNJ/fq2-2020?metric_name=eps&chart=historical\n"
     ]
    },
    {
     "name": "stderr",
     "output_type": "stream",
     "text": [
      "C:\\Users\\mhunt\\AppData\\Local\\Temp\\ipykernel_7800\\329258333.py:29: FutureWarning: Passing literal html to 'read_html' is deprecated and will be removed in a future version. To read from a literal string, wrap it in a 'StringIO' object.\n",
      "  df = pd.read_html(table_html)[0]\n"
     ]
    },
    {
     "name": "stdout",
     "output_type": "stream",
     "text": [
      "Table found and converted to DataFrame for URL: https://www.estimize.com/JNJ/fq3-2020?metric_name=eps&chart=historical\n"
     ]
    },
    {
     "name": "stderr",
     "output_type": "stream",
     "text": [
      "C:\\Users\\mhunt\\AppData\\Local\\Temp\\ipykernel_7800\\329258333.py:29: FutureWarning: Passing literal html to 'read_html' is deprecated and will be removed in a future version. To read from a literal string, wrap it in a 'StringIO' object.\n",
      "  df = pd.read_html(table_html)[0]\n"
     ]
    },
    {
     "name": "stdout",
     "output_type": "stream",
     "text": [
      "Table found and converted to DataFrame for URL: https://www.estimize.com/JNJ/fq4-2020?metric_name=eps&chart=historical\n"
     ]
    },
    {
     "name": "stderr",
     "output_type": "stream",
     "text": [
      "C:\\Users\\mhunt\\AppData\\Local\\Temp\\ipykernel_7800\\329258333.py:29: FutureWarning: Passing literal html to 'read_html' is deprecated and will be removed in a future version. To read from a literal string, wrap it in a 'StringIO' object.\n",
      "  df = pd.read_html(table_html)[0]\n"
     ]
    },
    {
     "name": "stdout",
     "output_type": "stream",
     "text": [
      "Table found and converted to DataFrame for URL: https://www.estimize.com/JNJ/fq1-2021?metric_name=eps&chart=historical\n",
      "Link not found or unable to click for URL: https://www.estimize.com/JNJ/fq2-2021?metric_name=eps&chart=historical\n",
      "Table found and converted to DataFrame for URL: https://www.estimize.com/JNJ/fq2-2021?metric_name=eps&chart=historical\n"
     ]
    },
    {
     "name": "stderr",
     "output_type": "stream",
     "text": [
      "C:\\Users\\mhunt\\AppData\\Local\\Temp\\ipykernel_7800\\329258333.py:29: FutureWarning: Passing literal html to 'read_html' is deprecated and will be removed in a future version. To read from a literal string, wrap it in a 'StringIO' object.\n",
      "  df = pd.read_html(table_html)[0]\n",
      "C:\\Users\\mhunt\\AppData\\Local\\Temp\\ipykernel_7800\\329258333.py:29: FutureWarning: Passing literal html to 'read_html' is deprecated and will be removed in a future version. To read from a literal string, wrap it in a 'StringIO' object.\n",
      "  df = pd.read_html(table_html)[0]\n"
     ]
    },
    {
     "name": "stdout",
     "output_type": "stream",
     "text": [
      "Table found and converted to DataFrame for URL: https://www.estimize.com/JNJ/fq3-2021?metric_name=eps&chart=historical\n"
     ]
    },
    {
     "name": "stderr",
     "output_type": "stream",
     "text": [
      "C:\\Users\\mhunt\\AppData\\Local\\Temp\\ipykernel_7800\\329258333.py:29: FutureWarning: Passing literal html to 'read_html' is deprecated and will be removed in a future version. To read from a literal string, wrap it in a 'StringIO' object.\n",
      "  df = pd.read_html(table_html)[0]\n"
     ]
    },
    {
     "name": "stdout",
     "output_type": "stream",
     "text": [
      "Table found and converted to DataFrame for URL: https://www.estimize.com/JNJ/fq4-2021?metric_name=eps&chart=historical\n"
     ]
    },
    {
     "name": "stderr",
     "output_type": "stream",
     "text": [
      "C:\\Users\\mhunt\\AppData\\Local\\Temp\\ipykernel_7800\\329258333.py:29: FutureWarning: Passing literal html to 'read_html' is deprecated and will be removed in a future version. To read from a literal string, wrap it in a 'StringIO' object.\n",
      "  df = pd.read_html(table_html)[0]\n"
     ]
    },
    {
     "name": "stdout",
     "output_type": "stream",
     "text": [
      "Table found and converted to DataFrame for URL: https://www.estimize.com/JNJ/fq1-2022?metric_name=eps&chart=historical\n"
     ]
    },
    {
     "name": "stderr",
     "output_type": "stream",
     "text": [
      "C:\\Users\\mhunt\\AppData\\Local\\Temp\\ipykernel_7800\\329258333.py:29: FutureWarning: Passing literal html to 'read_html' is deprecated and will be removed in a future version. To read from a literal string, wrap it in a 'StringIO' object.\n",
      "  df = pd.read_html(table_html)[0]\n"
     ]
    },
    {
     "name": "stdout",
     "output_type": "stream",
     "text": [
      "Table found and converted to DataFrame for URL: https://www.estimize.com/JNJ/fq2-2022?metric_name=eps&chart=historical\n"
     ]
    },
    {
     "name": "stderr",
     "output_type": "stream",
     "text": [
      "C:\\Users\\mhunt\\AppData\\Local\\Temp\\ipykernel_7800\\329258333.py:29: FutureWarning: Passing literal html to 'read_html' is deprecated and will be removed in a future version. To read from a literal string, wrap it in a 'StringIO' object.\n",
      "  df = pd.read_html(table_html)[0]\n"
     ]
    },
    {
     "name": "stdout",
     "output_type": "stream",
     "text": [
      "Table found and converted to DataFrame for URL: https://www.estimize.com/JNJ/fq3-2022?metric_name=eps&chart=historical\n"
     ]
    },
    {
     "name": "stderr",
     "output_type": "stream",
     "text": [
      "C:\\Users\\mhunt\\AppData\\Local\\Temp\\ipykernel_7800\\329258333.py:29: FutureWarning: Passing literal html to 'read_html' is deprecated and will be removed in a future version. To read from a literal string, wrap it in a 'StringIO' object.\n",
      "  df = pd.read_html(table_html)[0]\n"
     ]
    },
    {
     "name": "stdout",
     "output_type": "stream",
     "text": [
      "Table found and converted to DataFrame for URL: https://www.estimize.com/JNJ/fq4-2022?metric_name=eps&chart=historical\n"
     ]
    },
    {
     "name": "stderr",
     "output_type": "stream",
     "text": [
      "C:\\Users\\mhunt\\AppData\\Local\\Temp\\ipykernel_7800\\329258333.py:29: FutureWarning: Passing literal html to 'read_html' is deprecated and will be removed in a future version. To read from a literal string, wrap it in a 'StringIO' object.\n",
      "  df = pd.read_html(table_html)[0]\n"
     ]
    },
    {
     "name": "stdout",
     "output_type": "stream",
     "text": [
      "Table found and converted to DataFrame for URL: https://www.estimize.com/PG/fq1-2020?metric_name=eps&chart=historical\n"
     ]
    },
    {
     "name": "stderr",
     "output_type": "stream",
     "text": [
      "C:\\Users\\mhunt\\AppData\\Local\\Temp\\ipykernel_7800\\329258333.py:29: FutureWarning: Passing literal html to 'read_html' is deprecated and will be removed in a future version. To read from a literal string, wrap it in a 'StringIO' object.\n",
      "  df = pd.read_html(table_html)[0]\n"
     ]
    },
    {
     "name": "stdout",
     "output_type": "stream",
     "text": [
      "Table found and converted to DataFrame for URL: https://www.estimize.com/PG/fq2-2020?metric_name=eps&chart=historical\n"
     ]
    },
    {
     "name": "stderr",
     "output_type": "stream",
     "text": [
      "C:\\Users\\mhunt\\AppData\\Local\\Temp\\ipykernel_7800\\329258333.py:29: FutureWarning: Passing literal html to 'read_html' is deprecated and will be removed in a future version. To read from a literal string, wrap it in a 'StringIO' object.\n",
      "  df = pd.read_html(table_html)[0]\n"
     ]
    },
    {
     "name": "stdout",
     "output_type": "stream",
     "text": [
      "Table found and converted to DataFrame for URL: https://www.estimize.com/PG/fq3-2020?metric_name=eps&chart=historical\n"
     ]
    },
    {
     "name": "stderr",
     "output_type": "stream",
     "text": [
      "C:\\Users\\mhunt\\AppData\\Local\\Temp\\ipykernel_7800\\329258333.py:29: FutureWarning: Passing literal html to 'read_html' is deprecated and will be removed in a future version. To read from a literal string, wrap it in a 'StringIO' object.\n",
      "  df = pd.read_html(table_html)[0]\n"
     ]
    },
    {
     "name": "stdout",
     "output_type": "stream",
     "text": [
      "Table found and converted to DataFrame for URL: https://www.estimize.com/PG/fq4-2020?metric_name=eps&chart=historical\n",
      "Link not found or unable to click for URL: https://www.estimize.com/PG/fq1-2021?metric_name=eps&chart=historical\n",
      "Table found and converted to DataFrame for URL: https://www.estimize.com/PG/fq1-2021?metric_name=eps&chart=historical\n"
     ]
    },
    {
     "name": "stderr",
     "output_type": "stream",
     "text": [
      "C:\\Users\\mhunt\\AppData\\Local\\Temp\\ipykernel_7800\\329258333.py:29: FutureWarning: Passing literal html to 'read_html' is deprecated and will be removed in a future version. To read from a literal string, wrap it in a 'StringIO' object.\n",
      "  df = pd.read_html(table_html)[0]\n"
     ]
    },
    {
     "name": "stdout",
     "output_type": "stream",
     "text": [
      "Link not found or unable to click for URL: https://www.estimize.com/PG/fq2-2021?metric_name=eps&chart=historical\n",
      "Table found and converted to DataFrame for URL: https://www.estimize.com/PG/fq2-2021?metric_name=eps&chart=historical\n"
     ]
    },
    {
     "name": "stderr",
     "output_type": "stream",
     "text": [
      "C:\\Users\\mhunt\\AppData\\Local\\Temp\\ipykernel_7800\\329258333.py:29: FutureWarning: Passing literal html to 'read_html' is deprecated and will be removed in a future version. To read from a literal string, wrap it in a 'StringIO' object.\n",
      "  df = pd.read_html(table_html)[0]\n"
     ]
    },
    {
     "name": "stdout",
     "output_type": "stream",
     "text": [
      "Link not found or unable to click for URL: https://www.estimize.com/PG/fq3-2021?metric_name=eps&chart=historical\n",
      "Table found and converted to DataFrame for URL: https://www.estimize.com/PG/fq3-2021?metric_name=eps&chart=historical\n"
     ]
    },
    {
     "name": "stderr",
     "output_type": "stream",
     "text": [
      "C:\\Users\\mhunt\\AppData\\Local\\Temp\\ipykernel_7800\\329258333.py:29: FutureWarning: Passing literal html to 'read_html' is deprecated and will be removed in a future version. To read from a literal string, wrap it in a 'StringIO' object.\n",
      "  df = pd.read_html(table_html)[0]\n"
     ]
    },
    {
     "name": "stdout",
     "output_type": "stream",
     "text": [
      "Link not found or unable to click for URL: https://www.estimize.com/PG/fq4-2021?metric_name=eps&chart=historical\n",
      "Table found and converted to DataFrame for URL: https://www.estimize.com/PG/fq4-2021?metric_name=eps&chart=historical\n"
     ]
    },
    {
     "name": "stderr",
     "output_type": "stream",
     "text": [
      "C:\\Users\\mhunt\\AppData\\Local\\Temp\\ipykernel_7800\\329258333.py:29: FutureWarning: Passing literal html to 'read_html' is deprecated and will be removed in a future version. To read from a literal string, wrap it in a 'StringIO' object.\n",
      "  df = pd.read_html(table_html)[0]\n"
     ]
    },
    {
     "name": "stdout",
     "output_type": "stream",
     "text": [
      "Link not found or unable to click for URL: https://www.estimize.com/PG/fq1-2022?metric_name=eps&chart=historical\n",
      "Table found and converted to DataFrame for URL: https://www.estimize.com/PG/fq1-2022?metric_name=eps&chart=historical\n"
     ]
    },
    {
     "name": "stderr",
     "output_type": "stream",
     "text": [
      "C:\\Users\\mhunt\\AppData\\Local\\Temp\\ipykernel_7800\\329258333.py:29: FutureWarning: Passing literal html to 'read_html' is deprecated and will be removed in a future version. To read from a literal string, wrap it in a 'StringIO' object.\n",
      "  df = pd.read_html(table_html)[0]\n"
     ]
    },
    {
     "name": "stdout",
     "output_type": "stream",
     "text": [
      "Link not found or unable to click for URL: https://www.estimize.com/PG/fq2-2022?metric_name=eps&chart=historical\n",
      "Table found and converted to DataFrame for URL: https://www.estimize.com/PG/fq2-2022?metric_name=eps&chart=historical\n"
     ]
    },
    {
     "name": "stderr",
     "output_type": "stream",
     "text": [
      "C:\\Users\\mhunt\\AppData\\Local\\Temp\\ipykernel_7800\\329258333.py:29: FutureWarning: Passing literal html to 'read_html' is deprecated and will be removed in a future version. To read from a literal string, wrap it in a 'StringIO' object.\n",
      "  df = pd.read_html(table_html)[0]\n"
     ]
    },
    {
     "name": "stdout",
     "output_type": "stream",
     "text": [
      "Link not found or unable to click for URL: https://www.estimize.com/PG/fq3-2022?metric_name=eps&chart=historical\n",
      "Table found and converted to DataFrame for URL: https://www.estimize.com/PG/fq3-2022?metric_name=eps&chart=historical\n"
     ]
    },
    {
     "name": "stderr",
     "output_type": "stream",
     "text": [
      "C:\\Users\\mhunt\\AppData\\Local\\Temp\\ipykernel_7800\\329258333.py:29: FutureWarning: Passing literal html to 'read_html' is deprecated and will be removed in a future version. To read from a literal string, wrap it in a 'StringIO' object.\n",
      "  df = pd.read_html(table_html)[0]\n"
     ]
    },
    {
     "name": "stdout",
     "output_type": "stream",
     "text": [
      "Link not found or unable to click for URL: https://www.estimize.com/PG/fq4-2022?metric_name=eps&chart=historical\n",
      "Table found and converted to DataFrame for URL: https://www.estimize.com/PG/fq4-2022?metric_name=eps&chart=historical\n"
     ]
    },
    {
     "name": "stderr",
     "output_type": "stream",
     "text": [
      "C:\\Users\\mhunt\\AppData\\Local\\Temp\\ipykernel_7800\\329258333.py:29: FutureWarning: Passing literal html to 'read_html' is deprecated and will be removed in a future version. To read from a literal string, wrap it in a 'StringIO' object.\n",
      "  df = pd.read_html(table_html)[0]\n",
      "C:\\Users\\mhunt\\AppData\\Local\\Temp\\ipykernel_7800\\329258333.py:29: FutureWarning: Passing literal html to 'read_html' is deprecated and will be removed in a future version. To read from a literal string, wrap it in a 'StringIO' object.\n",
      "  df = pd.read_html(table_html)[0]\n"
     ]
    },
    {
     "name": "stdout",
     "output_type": "stream",
     "text": [
      "Table found and converted to DataFrame for URL: https://www.estimize.com/NVDA/fq1-2020?metric_name=eps&chart=historical\n"
     ]
    },
    {
     "name": "stderr",
     "output_type": "stream",
     "text": [
      "C:\\Users\\mhunt\\AppData\\Local\\Temp\\ipykernel_7800\\329258333.py:29: FutureWarning: Passing literal html to 'read_html' is deprecated and will be removed in a future version. To read from a literal string, wrap it in a 'StringIO' object.\n",
      "  df = pd.read_html(table_html)[0]\n"
     ]
    },
    {
     "name": "stdout",
     "output_type": "stream",
     "text": [
      "Table found and converted to DataFrame for URL: https://www.estimize.com/NVDA/fq2-2020?metric_name=eps&chart=historical\n"
     ]
    },
    {
     "name": "stderr",
     "output_type": "stream",
     "text": [
      "C:\\Users\\mhunt\\AppData\\Local\\Temp\\ipykernel_7800\\329258333.py:29: FutureWarning: Passing literal html to 'read_html' is deprecated and will be removed in a future version. To read from a literal string, wrap it in a 'StringIO' object.\n",
      "  df = pd.read_html(table_html)[0]\n"
     ]
    },
    {
     "name": "stdout",
     "output_type": "stream",
     "text": [
      "Table found and converted to DataFrame for URL: https://www.estimize.com/NVDA/fq3-2020?metric_name=eps&chart=historical\n"
     ]
    },
    {
     "name": "stderr",
     "output_type": "stream",
     "text": [
      "C:\\Users\\mhunt\\AppData\\Local\\Temp\\ipykernel_7800\\329258333.py:29: FutureWarning: Passing literal html to 'read_html' is deprecated and will be removed in a future version. To read from a literal string, wrap it in a 'StringIO' object.\n",
      "  df = pd.read_html(table_html)[0]\n"
     ]
    },
    {
     "name": "stdout",
     "output_type": "stream",
     "text": [
      "Table found and converted to DataFrame for URL: https://www.estimize.com/NVDA/fq4-2020?metric_name=eps&chart=historical\n"
     ]
    },
    {
     "name": "stderr",
     "output_type": "stream",
     "text": [
      "C:\\Users\\mhunt\\AppData\\Local\\Temp\\ipykernel_7800\\329258333.py:29: FutureWarning: Passing literal html to 'read_html' is deprecated and will be removed in a future version. To read from a literal string, wrap it in a 'StringIO' object.\n",
      "  df = pd.read_html(table_html)[0]\n"
     ]
    },
    {
     "name": "stdout",
     "output_type": "stream",
     "text": [
      "Table found and converted to DataFrame for URL: https://www.estimize.com/NVDA/fq1-2021?metric_name=eps&chart=historical\n"
     ]
    },
    {
     "name": "stderr",
     "output_type": "stream",
     "text": [
      "C:\\Users\\mhunt\\AppData\\Local\\Temp\\ipykernel_7800\\329258333.py:29: FutureWarning: Passing literal html to 'read_html' is deprecated and will be removed in a future version. To read from a literal string, wrap it in a 'StringIO' object.\n",
      "  df = pd.read_html(table_html)[0]\n"
     ]
    },
    {
     "name": "stdout",
     "output_type": "stream",
     "text": [
      "Table found and converted to DataFrame for URL: https://www.estimize.com/NVDA/fq2-2021?metric_name=eps&chart=historical\n"
     ]
    },
    {
     "name": "stderr",
     "output_type": "stream",
     "text": [
      "C:\\Users\\mhunt\\AppData\\Local\\Temp\\ipykernel_7800\\329258333.py:29: FutureWarning: Passing literal html to 'read_html' is deprecated and will be removed in a future version. To read from a literal string, wrap it in a 'StringIO' object.\n",
      "  df = pd.read_html(table_html)[0]\n"
     ]
    },
    {
     "name": "stdout",
     "output_type": "stream",
     "text": [
      "Table found and converted to DataFrame for URL: https://www.estimize.com/NVDA/fq3-2021?metric_name=eps&chart=historical\n"
     ]
    },
    {
     "name": "stderr",
     "output_type": "stream",
     "text": [
      "C:\\Users\\mhunt\\AppData\\Local\\Temp\\ipykernel_7800\\329258333.py:29: FutureWarning: Passing literal html to 'read_html' is deprecated and will be removed in a future version. To read from a literal string, wrap it in a 'StringIO' object.\n",
      "  df = pd.read_html(table_html)[0]\n"
     ]
    },
    {
     "name": "stdout",
     "output_type": "stream",
     "text": [
      "Table found and converted to DataFrame for URL: https://www.estimize.com/NVDA/fq4-2021?metric_name=eps&chart=historical\n"
     ]
    },
    {
     "name": "stderr",
     "output_type": "stream",
     "text": [
      "C:\\Users\\mhunt\\AppData\\Local\\Temp\\ipykernel_7800\\329258333.py:29: FutureWarning: Passing literal html to 'read_html' is deprecated and will be removed in a future version. To read from a literal string, wrap it in a 'StringIO' object.\n",
      "  df = pd.read_html(table_html)[0]\n"
     ]
    },
    {
     "name": "stdout",
     "output_type": "stream",
     "text": [
      "Table found and converted to DataFrame for URL: https://www.estimize.com/NVDA/fq1-2022?metric_name=eps&chart=historical\n"
     ]
    },
    {
     "name": "stderr",
     "output_type": "stream",
     "text": [
      "C:\\Users\\mhunt\\AppData\\Local\\Temp\\ipykernel_7800\\329258333.py:29: FutureWarning: Passing literal html to 'read_html' is deprecated and will be removed in a future version. To read from a literal string, wrap it in a 'StringIO' object.\n",
      "  df = pd.read_html(table_html)[0]\n"
     ]
    },
    {
     "name": "stdout",
     "output_type": "stream",
     "text": [
      "Table found and converted to DataFrame for URL: https://www.estimize.com/NVDA/fq2-2022?metric_name=eps&chart=historical\n"
     ]
    },
    {
     "name": "stderr",
     "output_type": "stream",
     "text": [
      "C:\\Users\\mhunt\\AppData\\Local\\Temp\\ipykernel_7800\\329258333.py:29: FutureWarning: Passing literal html to 'read_html' is deprecated and will be removed in a future version. To read from a literal string, wrap it in a 'StringIO' object.\n",
      "  df = pd.read_html(table_html)[0]\n"
     ]
    },
    {
     "name": "stdout",
     "output_type": "stream",
     "text": [
      "Table found and converted to DataFrame for URL: https://www.estimize.com/NVDA/fq3-2022?metric_name=eps&chart=historical\n"
     ]
    },
    {
     "name": "stderr",
     "output_type": "stream",
     "text": [
      "C:\\Users\\mhunt\\AppData\\Local\\Temp\\ipykernel_7800\\329258333.py:29: FutureWarning: Passing literal html to 'read_html' is deprecated and will be removed in a future version. To read from a literal string, wrap it in a 'StringIO' object.\n",
      "  df = pd.read_html(table_html)[0]\n"
     ]
    },
    {
     "name": "stdout",
     "output_type": "stream",
     "text": [
      "Table found and converted to DataFrame for URL: https://www.estimize.com/NVDA/fq4-2022?metric_name=eps&chart=historical\n"
     ]
    },
    {
     "name": "stderr",
     "output_type": "stream",
     "text": [
      "C:\\Users\\mhunt\\AppData\\Local\\Temp\\ipykernel_7800\\329258333.py:29: FutureWarning: Passing literal html to 'read_html' is deprecated and will be removed in a future version. To read from a literal string, wrap it in a 'StringIO' object.\n",
      "  df = pd.read_html(table_html)[0]\n"
     ]
    },
    {
     "name": "stdout",
     "output_type": "stream",
     "text": [
      "Table found and converted to DataFrame for URL: https://www.estimize.com/CSCO/fq1-2020?metric_name=eps&chart=historical\n"
     ]
    },
    {
     "name": "stderr",
     "output_type": "stream",
     "text": [
      "C:\\Users\\mhunt\\AppData\\Local\\Temp\\ipykernel_7800\\329258333.py:29: FutureWarning: Passing literal html to 'read_html' is deprecated and will be removed in a future version. To read from a literal string, wrap it in a 'StringIO' object.\n",
      "  df = pd.read_html(table_html)[0]\n"
     ]
    },
    {
     "name": "stdout",
     "output_type": "stream",
     "text": [
      "Table found and converted to DataFrame for URL: https://www.estimize.com/CSCO/fq2-2020?metric_name=eps&chart=historical\n"
     ]
    },
    {
     "name": "stderr",
     "output_type": "stream",
     "text": [
      "C:\\Users\\mhunt\\AppData\\Local\\Temp\\ipykernel_7800\\329258333.py:29: FutureWarning: Passing literal html to 'read_html' is deprecated and will be removed in a future version. To read from a literal string, wrap it in a 'StringIO' object.\n",
      "  df = pd.read_html(table_html)[0]\n"
     ]
    },
    {
     "name": "stdout",
     "output_type": "stream",
     "text": [
      "Table found and converted to DataFrame for URL: https://www.estimize.com/CSCO/fq3-2020?metric_name=eps&chart=historical\n"
     ]
    },
    {
     "name": "stderr",
     "output_type": "stream",
     "text": [
      "C:\\Users\\mhunt\\AppData\\Local\\Temp\\ipykernel_7800\\329258333.py:29: FutureWarning: Passing literal html to 'read_html' is deprecated and will be removed in a future version. To read from a literal string, wrap it in a 'StringIO' object.\n",
      "  df = pd.read_html(table_html)[0]\n"
     ]
    },
    {
     "name": "stdout",
     "output_type": "stream",
     "text": [
      "Table found and converted to DataFrame for URL: https://www.estimize.com/CSCO/fq4-2020?metric_name=eps&chart=historical\n"
     ]
    },
    {
     "name": "stderr",
     "output_type": "stream",
     "text": [
      "C:\\Users\\mhunt\\AppData\\Local\\Temp\\ipykernel_7800\\329258333.py:29: FutureWarning: Passing literal html to 'read_html' is deprecated and will be removed in a future version. To read from a literal string, wrap it in a 'StringIO' object.\n",
      "  df = pd.read_html(table_html)[0]\n"
     ]
    },
    {
     "name": "stdout",
     "output_type": "stream",
     "text": [
      "Table found and converted to DataFrame for URL: https://www.estimize.com/CSCO/fq1-2021?metric_name=eps&chart=historical\n"
     ]
    },
    {
     "name": "stderr",
     "output_type": "stream",
     "text": [
      "C:\\Users\\mhunt\\AppData\\Local\\Temp\\ipykernel_7800\\329258333.py:29: FutureWarning: Passing literal html to 'read_html' is deprecated and will be removed in a future version. To read from a literal string, wrap it in a 'StringIO' object.\n",
      "  df = pd.read_html(table_html)[0]\n"
     ]
    },
    {
     "name": "stdout",
     "output_type": "stream",
     "text": [
      "Table found and converted to DataFrame for URL: https://www.estimize.com/CSCO/fq2-2021?metric_name=eps&chart=historical\n"
     ]
    },
    {
     "name": "stderr",
     "output_type": "stream",
     "text": [
      "C:\\Users\\mhunt\\AppData\\Local\\Temp\\ipykernel_7800\\329258333.py:29: FutureWarning: Passing literal html to 'read_html' is deprecated and will be removed in a future version. To read from a literal string, wrap it in a 'StringIO' object.\n",
      "  df = pd.read_html(table_html)[0]\n"
     ]
    },
    {
     "name": "stdout",
     "output_type": "stream",
     "text": [
      "Table found and converted to DataFrame for URL: https://www.estimize.com/CSCO/fq3-2021?metric_name=eps&chart=historical\n"
     ]
    },
    {
     "name": "stderr",
     "output_type": "stream",
     "text": [
      "C:\\Users\\mhunt\\AppData\\Local\\Temp\\ipykernel_7800\\329258333.py:29: FutureWarning: Passing literal html to 'read_html' is deprecated and will be removed in a future version. To read from a literal string, wrap it in a 'StringIO' object.\n",
      "  df = pd.read_html(table_html)[0]\n"
     ]
    },
    {
     "name": "stdout",
     "output_type": "stream",
     "text": [
      "Table found and converted to DataFrame for URL: https://www.estimize.com/CSCO/fq4-2021?metric_name=eps&chart=historical\n"
     ]
    },
    {
     "name": "stderr",
     "output_type": "stream",
     "text": [
      "C:\\Users\\mhunt\\AppData\\Local\\Temp\\ipykernel_7800\\329258333.py:29: FutureWarning: Passing literal html to 'read_html' is deprecated and will be removed in a future version. To read from a literal string, wrap it in a 'StringIO' object.\n",
      "  df = pd.read_html(table_html)[0]\n"
     ]
    },
    {
     "name": "stdout",
     "output_type": "stream",
     "text": [
      "Table found and converted to DataFrame for URL: https://www.estimize.com/CSCO/fq1-2022?metric_name=eps&chart=historical\n"
     ]
    },
    {
     "name": "stderr",
     "output_type": "stream",
     "text": [
      "C:\\Users\\mhunt\\AppData\\Local\\Temp\\ipykernel_7800\\329258333.py:29: FutureWarning: Passing literal html to 'read_html' is deprecated and will be removed in a future version. To read from a literal string, wrap it in a 'StringIO' object.\n",
      "  df = pd.read_html(table_html)[0]\n"
     ]
    },
    {
     "name": "stdout",
     "output_type": "stream",
     "text": [
      "Table found and converted to DataFrame for URL: https://www.estimize.com/CSCO/fq2-2022?metric_name=eps&chart=historical\n"
     ]
    },
    {
     "name": "stderr",
     "output_type": "stream",
     "text": [
      "C:\\Users\\mhunt\\AppData\\Local\\Temp\\ipykernel_7800\\329258333.py:29: FutureWarning: Passing literal html to 'read_html' is deprecated and will be removed in a future version. To read from a literal string, wrap it in a 'StringIO' object.\n",
      "  df = pd.read_html(table_html)[0]\n"
     ]
    },
    {
     "name": "stdout",
     "output_type": "stream",
     "text": [
      "Table found and converted to DataFrame for URL: https://www.estimize.com/CSCO/fq3-2022?metric_name=eps&chart=historical\n"
     ]
    },
    {
     "name": "stderr",
     "output_type": "stream",
     "text": [
      "C:\\Users\\mhunt\\AppData\\Local\\Temp\\ipykernel_7800\\329258333.py:29: FutureWarning: Passing literal html to 'read_html' is deprecated and will be removed in a future version. To read from a literal string, wrap it in a 'StringIO' object.\n",
      "  df = pd.read_html(table_html)[0]\n"
     ]
    },
    {
     "name": "stdout",
     "output_type": "stream",
     "text": [
      "Table found and converted to DataFrame for URL: https://www.estimize.com/CSCO/fq4-2022?metric_name=eps&chart=historical\n"
     ]
    },
    {
     "name": "stderr",
     "output_type": "stream",
     "text": [
      "C:\\Users\\mhunt\\AppData\\Local\\Temp\\ipykernel_7800\\329258333.py:29: FutureWarning: Passing literal html to 'read_html' is deprecated and will be removed in a future version. To read from a literal string, wrap it in a 'StringIO' object.\n",
      "  df = pd.read_html(table_html)[0]\n"
     ]
    },
    {
     "name": "stdout",
     "output_type": "stream",
     "text": [
      "Table found and converted to DataFrame for URL: https://www.estimize.com/BABA/fq1-2020?metric_name=eps&chart=historical\n"
     ]
    },
    {
     "name": "stderr",
     "output_type": "stream",
     "text": [
      "C:\\Users\\mhunt\\AppData\\Local\\Temp\\ipykernel_7800\\329258333.py:29: FutureWarning: Passing literal html to 'read_html' is deprecated and will be removed in a future version. To read from a literal string, wrap it in a 'StringIO' object.\n",
      "  df = pd.read_html(table_html)[0]\n"
     ]
    },
    {
     "name": "stdout",
     "output_type": "stream",
     "text": [
      "Table found and converted to DataFrame for URL: https://www.estimize.com/BABA/fq2-2020?metric_name=eps&chart=historical\n"
     ]
    },
    {
     "name": "stderr",
     "output_type": "stream",
     "text": [
      "C:\\Users\\mhunt\\AppData\\Local\\Temp\\ipykernel_7800\\329258333.py:29: FutureWarning: Passing literal html to 'read_html' is deprecated and will be removed in a future version. To read from a literal string, wrap it in a 'StringIO' object.\n",
      "  df = pd.read_html(table_html)[0]\n"
     ]
    },
    {
     "name": "stdout",
     "output_type": "stream",
     "text": [
      "Table found and converted to DataFrame for URL: https://www.estimize.com/BABA/fq3-2020?metric_name=eps&chart=historical\n"
     ]
    },
    {
     "name": "stderr",
     "output_type": "stream",
     "text": [
      "C:\\Users\\mhunt\\AppData\\Local\\Temp\\ipykernel_7800\\329258333.py:29: FutureWarning: Passing literal html to 'read_html' is deprecated and will be removed in a future version. To read from a literal string, wrap it in a 'StringIO' object.\n",
      "  df = pd.read_html(table_html)[0]\n"
     ]
    },
    {
     "name": "stdout",
     "output_type": "stream",
     "text": [
      "Table found and converted to DataFrame for URL: https://www.estimize.com/BABA/fq4-2020?metric_name=eps&chart=historical\n"
     ]
    },
    {
     "name": "stderr",
     "output_type": "stream",
     "text": [
      "C:\\Users\\mhunt\\AppData\\Local\\Temp\\ipykernel_7800\\329258333.py:29: FutureWarning: Passing literal html to 'read_html' is deprecated and will be removed in a future version. To read from a literal string, wrap it in a 'StringIO' object.\n",
      "  df = pd.read_html(table_html)[0]\n"
     ]
    },
    {
     "name": "stdout",
     "output_type": "stream",
     "text": [
      "Table found and converted to DataFrame for URL: https://www.estimize.com/BABA/fq1-2021?metric_name=eps&chart=historical\n"
     ]
    },
    {
     "name": "stderr",
     "output_type": "stream",
     "text": [
      "C:\\Users\\mhunt\\AppData\\Local\\Temp\\ipykernel_7800\\329258333.py:29: FutureWarning: Passing literal html to 'read_html' is deprecated and will be removed in a future version. To read from a literal string, wrap it in a 'StringIO' object.\n",
      "  df = pd.read_html(table_html)[0]\n"
     ]
    },
    {
     "name": "stdout",
     "output_type": "stream",
     "text": [
      "Table found and converted to DataFrame for URL: https://www.estimize.com/BABA/fq2-2021?metric_name=eps&chart=historical\n"
     ]
    },
    {
     "name": "stderr",
     "output_type": "stream",
     "text": [
      "C:\\Users\\mhunt\\AppData\\Local\\Temp\\ipykernel_7800\\329258333.py:29: FutureWarning: Passing literal html to 'read_html' is deprecated and will be removed in a future version. To read from a literal string, wrap it in a 'StringIO' object.\n",
      "  df = pd.read_html(table_html)[0]\n"
     ]
    },
    {
     "name": "stdout",
     "output_type": "stream",
     "text": [
      "Table found and converted to DataFrame for URL: https://www.estimize.com/BABA/fq3-2021?metric_name=eps&chart=historical\n"
     ]
    },
    {
     "name": "stderr",
     "output_type": "stream",
     "text": [
      "C:\\Users\\mhunt\\AppData\\Local\\Temp\\ipykernel_7800\\329258333.py:29: FutureWarning: Passing literal html to 'read_html' is deprecated and will be removed in a future version. To read from a literal string, wrap it in a 'StringIO' object.\n",
      "  df = pd.read_html(table_html)[0]\n"
     ]
    },
    {
     "name": "stdout",
     "output_type": "stream",
     "text": [
      "Table found and converted to DataFrame for URL: https://www.estimize.com/BABA/fq4-2021?metric_name=eps&chart=historical\n"
     ]
    },
    {
     "name": "stderr",
     "output_type": "stream",
     "text": [
      "C:\\Users\\mhunt\\AppData\\Local\\Temp\\ipykernel_7800\\329258333.py:29: FutureWarning: Passing literal html to 'read_html' is deprecated and will be removed in a future version. To read from a literal string, wrap it in a 'StringIO' object.\n",
      "  df = pd.read_html(table_html)[0]\n"
     ]
    },
    {
     "name": "stdout",
     "output_type": "stream",
     "text": [
      "Table found and converted to DataFrame for URL: https://www.estimize.com/BABA/fq1-2022?metric_name=eps&chart=historical\n"
     ]
    },
    {
     "name": "stderr",
     "output_type": "stream",
     "text": [
      "C:\\Users\\mhunt\\AppData\\Local\\Temp\\ipykernel_7800\\329258333.py:29: FutureWarning: Passing literal html to 'read_html' is deprecated and will be removed in a future version. To read from a literal string, wrap it in a 'StringIO' object.\n",
      "  df = pd.read_html(table_html)[0]\n"
     ]
    },
    {
     "name": "stdout",
     "output_type": "stream",
     "text": [
      "Table found and converted to DataFrame for URL: https://www.estimize.com/BABA/fq2-2022?metric_name=eps&chart=historical\n"
     ]
    },
    {
     "name": "stderr",
     "output_type": "stream",
     "text": [
      "C:\\Users\\mhunt\\AppData\\Local\\Temp\\ipykernel_7800\\329258333.py:29: FutureWarning: Passing literal html to 'read_html' is deprecated and will be removed in a future version. To read from a literal string, wrap it in a 'StringIO' object.\n",
      "  df = pd.read_html(table_html)[0]\n"
     ]
    },
    {
     "name": "stdout",
     "output_type": "stream",
     "text": [
      "Table found and converted to DataFrame for URL: https://www.estimize.com/BABA/fq3-2022?metric_name=eps&chart=historical\n"
     ]
    },
    {
     "name": "stderr",
     "output_type": "stream",
     "text": [
      "C:\\Users\\mhunt\\AppData\\Local\\Temp\\ipykernel_7800\\329258333.py:29: FutureWarning: Passing literal html to 'read_html' is deprecated and will be removed in a future version. To read from a literal string, wrap it in a 'StringIO' object.\n",
      "  df = pd.read_html(table_html)[0]\n"
     ]
    },
    {
     "name": "stdout",
     "output_type": "stream",
     "text": [
      "Table found and converted to DataFrame for URL: https://www.estimize.com/BABA/fq4-2022?metric_name=eps&chart=historical\n"
     ]
    },
    {
     "name": "stderr",
     "output_type": "stream",
     "text": [
      "C:\\Users\\mhunt\\AppData\\Local\\Temp\\ipykernel_7800\\329258333.py:29: FutureWarning: Passing literal html to 'read_html' is deprecated and will be removed in a future version. To read from a literal string, wrap it in a 'StringIO' object.\n",
      "  df = pd.read_html(table_html)[0]\n"
     ]
    },
    {
     "name": "stdout",
     "output_type": "stream",
     "text": [
      "Table found and converted to DataFrame for URL: https://www.estimize.com/HD/fq1-2020?metric_name=eps&chart=historical\n"
     ]
    },
    {
     "name": "stderr",
     "output_type": "stream",
     "text": [
      "C:\\Users\\mhunt\\AppData\\Local\\Temp\\ipykernel_7800\\329258333.py:29: FutureWarning: Passing literal html to 'read_html' is deprecated and will be removed in a future version. To read from a literal string, wrap it in a 'StringIO' object.\n",
      "  df = pd.read_html(table_html)[0]\n"
     ]
    },
    {
     "name": "stdout",
     "output_type": "stream",
     "text": [
      "Table found and converted to DataFrame for URL: https://www.estimize.com/HD/fq2-2020?metric_name=eps&chart=historical\n"
     ]
    },
    {
     "name": "stderr",
     "output_type": "stream",
     "text": [
      "C:\\Users\\mhunt\\AppData\\Local\\Temp\\ipykernel_7800\\329258333.py:29: FutureWarning: Passing literal html to 'read_html' is deprecated and will be removed in a future version. To read from a literal string, wrap it in a 'StringIO' object.\n",
      "  df = pd.read_html(table_html)[0]\n"
     ]
    },
    {
     "name": "stdout",
     "output_type": "stream",
     "text": [
      "Table found and converted to DataFrame for URL: https://www.estimize.com/HD/fq3-2020?metric_name=eps&chart=historical\n"
     ]
    },
    {
     "name": "stderr",
     "output_type": "stream",
     "text": [
      "C:\\Users\\mhunt\\AppData\\Local\\Temp\\ipykernel_7800\\329258333.py:29: FutureWarning: Passing literal html to 'read_html' is deprecated and will be removed in a future version. To read from a literal string, wrap it in a 'StringIO' object.\n",
      "  df = pd.read_html(table_html)[0]\n"
     ]
    },
    {
     "name": "stdout",
     "output_type": "stream",
     "text": [
      "Table found and converted to DataFrame for URL: https://www.estimize.com/HD/fq4-2020?metric_name=eps&chart=historical\n"
     ]
    },
    {
     "name": "stderr",
     "output_type": "stream",
     "text": [
      "C:\\Users\\mhunt\\AppData\\Local\\Temp\\ipykernel_7800\\329258333.py:29: FutureWarning: Passing literal html to 'read_html' is deprecated and will be removed in a future version. To read from a literal string, wrap it in a 'StringIO' object.\n",
      "  df = pd.read_html(table_html)[0]\n"
     ]
    },
    {
     "name": "stdout",
     "output_type": "stream",
     "text": [
      "Table found and converted to DataFrame for URL: https://www.estimize.com/HD/fq1-2021?metric_name=eps&chart=historical\n"
     ]
    },
    {
     "name": "stderr",
     "output_type": "stream",
     "text": [
      "C:\\Users\\mhunt\\AppData\\Local\\Temp\\ipykernel_7800\\329258333.py:29: FutureWarning: Passing literal html to 'read_html' is deprecated and will be removed in a future version. To read from a literal string, wrap it in a 'StringIO' object.\n",
      "  df = pd.read_html(table_html)[0]\n"
     ]
    },
    {
     "name": "stdout",
     "output_type": "stream",
     "text": [
      "Table found and converted to DataFrame for URL: https://www.estimize.com/HD/fq2-2021?metric_name=eps&chart=historical\n"
     ]
    },
    {
     "name": "stderr",
     "output_type": "stream",
     "text": [
      "C:\\Users\\mhunt\\AppData\\Local\\Temp\\ipykernel_7800\\329258333.py:29: FutureWarning: Passing literal html to 'read_html' is deprecated and will be removed in a future version. To read from a literal string, wrap it in a 'StringIO' object.\n",
      "  df = pd.read_html(table_html)[0]\n"
     ]
    },
    {
     "name": "stdout",
     "output_type": "stream",
     "text": [
      "Table found and converted to DataFrame for URL: https://www.estimize.com/HD/fq3-2021?metric_name=eps&chart=historical\n"
     ]
    },
    {
     "name": "stderr",
     "output_type": "stream",
     "text": [
      "C:\\Users\\mhunt\\AppData\\Local\\Temp\\ipykernel_7800\\329258333.py:29: FutureWarning: Passing literal html to 'read_html' is deprecated and will be removed in a future version. To read from a literal string, wrap it in a 'StringIO' object.\n",
      "  df = pd.read_html(table_html)[0]\n"
     ]
    },
    {
     "name": "stdout",
     "output_type": "stream",
     "text": [
      "Table found and converted to DataFrame for URL: https://www.estimize.com/HD/fq4-2021?metric_name=eps&chart=historical\n"
     ]
    },
    {
     "name": "stderr",
     "output_type": "stream",
     "text": [
      "C:\\Users\\mhunt\\AppData\\Local\\Temp\\ipykernel_7800\\329258333.py:29: FutureWarning: Passing literal html to 'read_html' is deprecated and will be removed in a future version. To read from a literal string, wrap it in a 'StringIO' object.\n",
      "  df = pd.read_html(table_html)[0]\n"
     ]
    },
    {
     "name": "stdout",
     "output_type": "stream",
     "text": [
      "Table found and converted to DataFrame for URL: https://www.estimize.com/HD/fq1-2022?metric_name=eps&chart=historical\n"
     ]
    },
    {
     "name": "stderr",
     "output_type": "stream",
     "text": [
      "C:\\Users\\mhunt\\AppData\\Local\\Temp\\ipykernel_7800\\329258333.py:29: FutureWarning: Passing literal html to 'read_html' is deprecated and will be removed in a future version. To read from a literal string, wrap it in a 'StringIO' object.\n",
      "  df = pd.read_html(table_html)[0]\n"
     ]
    },
    {
     "name": "stdout",
     "output_type": "stream",
     "text": [
      "Table found and converted to DataFrame for URL: https://www.estimize.com/HD/fq2-2022?metric_name=eps&chart=historical\n"
     ]
    },
    {
     "name": "stderr",
     "output_type": "stream",
     "text": [
      "C:\\Users\\mhunt\\AppData\\Local\\Temp\\ipykernel_7800\\329258333.py:29: FutureWarning: Passing literal html to 'read_html' is deprecated and will be removed in a future version. To read from a literal string, wrap it in a 'StringIO' object.\n",
      "  df = pd.read_html(table_html)[0]\n"
     ]
    },
    {
     "name": "stdout",
     "output_type": "stream",
     "text": [
      "Table found and converted to DataFrame for URL: https://www.estimize.com/HD/fq3-2022?metric_name=eps&chart=historical\n"
     ]
    },
    {
     "name": "stderr",
     "output_type": "stream",
     "text": [
      "C:\\Users\\mhunt\\AppData\\Local\\Temp\\ipykernel_7800\\329258333.py:29: FutureWarning: Passing literal html to 'read_html' is deprecated and will be removed in a future version. To read from a literal string, wrap it in a 'StringIO' object.\n",
      "  df = pd.read_html(table_html)[0]\n"
     ]
    },
    {
     "name": "stdout",
     "output_type": "stream",
     "text": [
      "Table found and converted to DataFrame for URL: https://www.estimize.com/HD/fq4-2022?metric_name=eps&chart=historical\n"
     ]
    },
    {
     "name": "stderr",
     "output_type": "stream",
     "text": [
      "C:\\Users\\mhunt\\AppData\\Local\\Temp\\ipykernel_7800\\329258333.py:29: FutureWarning: Passing literal html to 'read_html' is deprecated and will be removed in a future version. To read from a literal string, wrap it in a 'StringIO' object.\n",
      "  df = pd.read_html(table_html)[0]\n"
     ]
    },
    {
     "name": "stdout",
     "output_type": "stream",
     "text": [
      "Table found and converted to DataFrame for URL: https://www.estimize.com/BIDU/fq1-2020?metric_name=eps&chart=historical\n"
     ]
    },
    {
     "name": "stderr",
     "output_type": "stream",
     "text": [
      "C:\\Users\\mhunt\\AppData\\Local\\Temp\\ipykernel_7800\\329258333.py:29: FutureWarning: Passing literal html to 'read_html' is deprecated and will be removed in a future version. To read from a literal string, wrap it in a 'StringIO' object.\n",
      "  df = pd.read_html(table_html)[0]\n"
     ]
    },
    {
     "name": "stdout",
     "output_type": "stream",
     "text": [
      "Table found and converted to DataFrame for URL: https://www.estimize.com/BIDU/fq2-2020?metric_name=eps&chart=historical\n"
     ]
    },
    {
     "name": "stderr",
     "output_type": "stream",
     "text": [
      "C:\\Users\\mhunt\\AppData\\Local\\Temp\\ipykernel_7800\\329258333.py:29: FutureWarning: Passing literal html to 'read_html' is deprecated and will be removed in a future version. To read from a literal string, wrap it in a 'StringIO' object.\n",
      "  df = pd.read_html(table_html)[0]\n"
     ]
    },
    {
     "name": "stdout",
     "output_type": "stream",
     "text": [
      "Table found and converted to DataFrame for URL: https://www.estimize.com/BIDU/fq3-2020?metric_name=eps&chart=historical\n"
     ]
    },
    {
     "name": "stderr",
     "output_type": "stream",
     "text": [
      "C:\\Users\\mhunt\\AppData\\Local\\Temp\\ipykernel_7800\\329258333.py:29: FutureWarning: Passing literal html to 'read_html' is deprecated and will be removed in a future version. To read from a literal string, wrap it in a 'StringIO' object.\n",
      "  df = pd.read_html(table_html)[0]\n"
     ]
    },
    {
     "name": "stdout",
     "output_type": "stream",
     "text": [
      "Table found and converted to DataFrame for URL: https://www.estimize.com/BIDU/fq4-2020?metric_name=eps&chart=historical\n"
     ]
    },
    {
     "name": "stderr",
     "output_type": "stream",
     "text": [
      "C:\\Users\\mhunt\\AppData\\Local\\Temp\\ipykernel_7800\\329258333.py:29: FutureWarning: Passing literal html to 'read_html' is deprecated and will be removed in a future version. To read from a literal string, wrap it in a 'StringIO' object.\n",
      "  df = pd.read_html(table_html)[0]\n"
     ]
    },
    {
     "name": "stdout",
     "output_type": "stream",
     "text": [
      "Table found and converted to DataFrame for URL: https://www.estimize.com/BIDU/fq1-2021?metric_name=eps&chart=historical\n"
     ]
    },
    {
     "name": "stderr",
     "output_type": "stream",
     "text": [
      "C:\\Users\\mhunt\\AppData\\Local\\Temp\\ipykernel_7800\\329258333.py:29: FutureWarning: Passing literal html to 'read_html' is deprecated and will be removed in a future version. To read from a literal string, wrap it in a 'StringIO' object.\n",
      "  df = pd.read_html(table_html)[0]\n"
     ]
    },
    {
     "name": "stdout",
     "output_type": "stream",
     "text": [
      "Table found and converted to DataFrame for URL: https://www.estimize.com/BIDU/fq2-2021?metric_name=eps&chart=historical\n"
     ]
    },
    {
     "name": "stderr",
     "output_type": "stream",
     "text": [
      "C:\\Users\\mhunt\\AppData\\Local\\Temp\\ipykernel_7800\\329258333.py:29: FutureWarning: Passing literal html to 'read_html' is deprecated and will be removed in a future version. To read from a literal string, wrap it in a 'StringIO' object.\n",
      "  df = pd.read_html(table_html)[0]\n"
     ]
    },
    {
     "name": "stdout",
     "output_type": "stream",
     "text": [
      "Table found and converted to DataFrame for URL: https://www.estimize.com/BIDU/fq3-2021?metric_name=eps&chart=historical\n"
     ]
    },
    {
     "name": "stderr",
     "output_type": "stream",
     "text": [
      "C:\\Users\\mhunt\\AppData\\Local\\Temp\\ipykernel_7800\\329258333.py:29: FutureWarning: Passing literal html to 'read_html' is deprecated and will be removed in a future version. To read from a literal string, wrap it in a 'StringIO' object.\n",
      "  df = pd.read_html(table_html)[0]\n"
     ]
    },
    {
     "name": "stdout",
     "output_type": "stream",
     "text": [
      "Table found and converted to DataFrame for URL: https://www.estimize.com/BIDU/fq4-2021?metric_name=eps&chart=historical\n"
     ]
    },
    {
     "name": "stderr",
     "output_type": "stream",
     "text": [
      "C:\\Users\\mhunt\\AppData\\Local\\Temp\\ipykernel_7800\\329258333.py:29: FutureWarning: Passing literal html to 'read_html' is deprecated and will be removed in a future version. To read from a literal string, wrap it in a 'StringIO' object.\n",
      "  df = pd.read_html(table_html)[0]\n"
     ]
    },
    {
     "name": "stdout",
     "output_type": "stream",
     "text": [
      "Table found and converted to DataFrame for URL: https://www.estimize.com/BIDU/fq1-2022?metric_name=eps&chart=historical\n"
     ]
    },
    {
     "name": "stderr",
     "output_type": "stream",
     "text": [
      "C:\\Users\\mhunt\\AppData\\Local\\Temp\\ipykernel_7800\\329258333.py:29: FutureWarning: Passing literal html to 'read_html' is deprecated and will be removed in a future version. To read from a literal string, wrap it in a 'StringIO' object.\n",
      "  df = pd.read_html(table_html)[0]\n"
     ]
    },
    {
     "name": "stdout",
     "output_type": "stream",
     "text": [
      "Table found and converted to DataFrame for URL: https://www.estimize.com/BIDU/fq2-2022?metric_name=eps&chart=historical\n"
     ]
    },
    {
     "name": "stderr",
     "output_type": "stream",
     "text": [
      "C:\\Users\\mhunt\\AppData\\Local\\Temp\\ipykernel_7800\\329258333.py:29: FutureWarning: Passing literal html to 'read_html' is deprecated and will be removed in a future version. To read from a literal string, wrap it in a 'StringIO' object.\n",
      "  df = pd.read_html(table_html)[0]\n"
     ]
    },
    {
     "name": "stdout",
     "output_type": "stream",
     "text": [
      "Table found and converted to DataFrame for URL: https://www.estimize.com/BIDU/fq3-2022?metric_name=eps&chart=historical\n",
      "Link not found or unable to click for URL: https://www.estimize.com/BIDU/fq4-2022?metric_name=eps&chart=historical\n",
      "Table found and converted to DataFrame for URL: https://www.estimize.com/BIDU/fq4-2022?metric_name=eps&chart=historical\n"
     ]
    },
    {
     "name": "stderr",
     "output_type": "stream",
     "text": [
      "C:\\Users\\mhunt\\AppData\\Local\\Temp\\ipykernel_7800\\329258333.py:29: FutureWarning: Passing literal html to 'read_html' is deprecated and will be removed in a future version. To read from a literal string, wrap it in a 'StringIO' object.\n",
      "  df = pd.read_html(table_html)[0]\n",
      "C:\\Users\\mhunt\\AppData\\Local\\Temp\\ipykernel_7800\\329258333.py:29: FutureWarning: Passing literal html to 'read_html' is deprecated and will be removed in a future version. To read from a literal string, wrap it in a 'StringIO' object.\n",
      "  df = pd.read_html(table_html)[0]\n"
     ]
    },
    {
     "name": "stdout",
     "output_type": "stream",
     "text": [
      "Table found and converted to DataFrame for URL: https://www.estimize.com/WMT/fq1-2020?metric_name=eps&chart=historical\n"
     ]
    },
    {
     "name": "stderr",
     "output_type": "stream",
     "text": [
      "C:\\Users\\mhunt\\AppData\\Local\\Temp\\ipykernel_7800\\329258333.py:29: FutureWarning: Passing literal html to 'read_html' is deprecated and will be removed in a future version. To read from a literal string, wrap it in a 'StringIO' object.\n",
      "  df = pd.read_html(table_html)[0]\n"
     ]
    },
    {
     "name": "stdout",
     "output_type": "stream",
     "text": [
      "Table found and converted to DataFrame for URL: https://www.estimize.com/WMT/fq2-2020?metric_name=eps&chart=historical\n"
     ]
    },
    {
     "name": "stderr",
     "output_type": "stream",
     "text": [
      "C:\\Users\\mhunt\\AppData\\Local\\Temp\\ipykernel_7800\\329258333.py:29: FutureWarning: Passing literal html to 'read_html' is deprecated and will be removed in a future version. To read from a literal string, wrap it in a 'StringIO' object.\n",
      "  df = pd.read_html(table_html)[0]\n"
     ]
    },
    {
     "name": "stdout",
     "output_type": "stream",
     "text": [
      "Table found and converted to DataFrame for URL: https://www.estimize.com/WMT/fq3-2020?metric_name=eps&chart=historical\n"
     ]
    },
    {
     "name": "stderr",
     "output_type": "stream",
     "text": [
      "C:\\Users\\mhunt\\AppData\\Local\\Temp\\ipykernel_7800\\329258333.py:29: FutureWarning: Passing literal html to 'read_html' is deprecated and will be removed in a future version. To read from a literal string, wrap it in a 'StringIO' object.\n",
      "  df = pd.read_html(table_html)[0]\n"
     ]
    },
    {
     "name": "stdout",
     "output_type": "stream",
     "text": [
      "Table found and converted to DataFrame for URL: https://www.estimize.com/WMT/fq4-2020?metric_name=eps&chart=historical\n"
     ]
    },
    {
     "name": "stderr",
     "output_type": "stream",
     "text": [
      "C:\\Users\\mhunt\\AppData\\Local\\Temp\\ipykernel_7800\\329258333.py:29: FutureWarning: Passing literal html to 'read_html' is deprecated and will be removed in a future version. To read from a literal string, wrap it in a 'StringIO' object.\n",
      "  df = pd.read_html(table_html)[0]\n"
     ]
    },
    {
     "name": "stdout",
     "output_type": "stream",
     "text": [
      "Table found and converted to DataFrame for URL: https://www.estimize.com/WMT/fq1-2021?metric_name=eps&chart=historical\n"
     ]
    },
    {
     "name": "stderr",
     "output_type": "stream",
     "text": [
      "C:\\Users\\mhunt\\AppData\\Local\\Temp\\ipykernel_7800\\329258333.py:29: FutureWarning: Passing literal html to 'read_html' is deprecated and will be removed in a future version. To read from a literal string, wrap it in a 'StringIO' object.\n",
      "  df = pd.read_html(table_html)[0]\n"
     ]
    },
    {
     "name": "stdout",
     "output_type": "stream",
     "text": [
      "Table found and converted to DataFrame for URL: https://www.estimize.com/WMT/fq2-2021?metric_name=eps&chart=historical\n"
     ]
    },
    {
     "name": "stderr",
     "output_type": "stream",
     "text": [
      "C:\\Users\\mhunt\\AppData\\Local\\Temp\\ipykernel_7800\\329258333.py:29: FutureWarning: Passing literal html to 'read_html' is deprecated and will be removed in a future version. To read from a literal string, wrap it in a 'StringIO' object.\n",
      "  df = pd.read_html(table_html)[0]\n"
     ]
    },
    {
     "name": "stdout",
     "output_type": "stream",
     "text": [
      "Table found and converted to DataFrame for URL: https://www.estimize.com/WMT/fq3-2021?metric_name=eps&chart=historical\n"
     ]
    },
    {
     "name": "stderr",
     "output_type": "stream",
     "text": [
      "C:\\Users\\mhunt\\AppData\\Local\\Temp\\ipykernel_7800\\329258333.py:29: FutureWarning: Passing literal html to 'read_html' is deprecated and will be removed in a future version. To read from a literal string, wrap it in a 'StringIO' object.\n",
      "  df = pd.read_html(table_html)[0]\n"
     ]
    },
    {
     "name": "stdout",
     "output_type": "stream",
     "text": [
      "Table found and converted to DataFrame for URL: https://www.estimize.com/WMT/fq4-2021?metric_name=eps&chart=historical\n"
     ]
    },
    {
     "name": "stderr",
     "output_type": "stream",
     "text": [
      "C:\\Users\\mhunt\\AppData\\Local\\Temp\\ipykernel_7800\\329258333.py:29: FutureWarning: Passing literal html to 'read_html' is deprecated and will be removed in a future version. To read from a literal string, wrap it in a 'StringIO' object.\n",
      "  df = pd.read_html(table_html)[0]\n"
     ]
    },
    {
     "name": "stdout",
     "output_type": "stream",
     "text": [
      "Table found and converted to DataFrame for URL: https://www.estimize.com/WMT/fq1-2022?metric_name=eps&chart=historical\n"
     ]
    },
    {
     "name": "stderr",
     "output_type": "stream",
     "text": [
      "C:\\Users\\mhunt\\AppData\\Local\\Temp\\ipykernel_7800\\329258333.py:29: FutureWarning: Passing literal html to 'read_html' is deprecated and will be removed in a future version. To read from a literal string, wrap it in a 'StringIO' object.\n",
      "  df = pd.read_html(table_html)[0]\n"
     ]
    },
    {
     "name": "stdout",
     "output_type": "stream",
     "text": [
      "Table found and converted to DataFrame for URL: https://www.estimize.com/WMT/fq2-2022?metric_name=eps&chart=historical\n"
     ]
    },
    {
     "name": "stderr",
     "output_type": "stream",
     "text": [
      "C:\\Users\\mhunt\\AppData\\Local\\Temp\\ipykernel_7800\\329258333.py:29: FutureWarning: Passing literal html to 'read_html' is deprecated and will be removed in a future version. To read from a literal string, wrap it in a 'StringIO' object.\n",
      "  df = pd.read_html(table_html)[0]\n"
     ]
    },
    {
     "name": "stdout",
     "output_type": "stream",
     "text": [
      "Table found and converted to DataFrame for URL: https://www.estimize.com/WMT/fq3-2022?metric_name=eps&chart=historical\n"
     ]
    },
    {
     "name": "stderr",
     "output_type": "stream",
     "text": [
      "C:\\Users\\mhunt\\AppData\\Local\\Temp\\ipykernel_7800\\329258333.py:29: FutureWarning: Passing literal html to 'read_html' is deprecated and will be removed in a future version. To read from a literal string, wrap it in a 'StringIO' object.\n",
      "  df = pd.read_html(table_html)[0]\n"
     ]
    },
    {
     "name": "stdout",
     "output_type": "stream",
     "text": [
      "Table found and converted to DataFrame for URL: https://www.estimize.com/WMT/fq4-2022?metric_name=eps&chart=historical\n"
     ]
    },
    {
     "name": "stderr",
     "output_type": "stream",
     "text": [
      "C:\\Users\\mhunt\\AppData\\Local\\Temp\\ipykernel_7800\\329258333.py:29: FutureWarning: Passing literal html to 'read_html' is deprecated and will be removed in a future version. To read from a literal string, wrap it in a 'StringIO' object.\n",
      "  df = pd.read_html(table_html)[0]\n"
     ]
    },
    {
     "name": "stdout",
     "output_type": "stream",
     "text": [
      "Table found and converted to DataFrame for URL: https://www.estimize.com/CRM/fq1-2020?metric_name=eps&chart=historical\n"
     ]
    },
    {
     "name": "stderr",
     "output_type": "stream",
     "text": [
      "C:\\Users\\mhunt\\AppData\\Local\\Temp\\ipykernel_7800\\329258333.py:29: FutureWarning: Passing literal html to 'read_html' is deprecated and will be removed in a future version. To read from a literal string, wrap it in a 'StringIO' object.\n",
      "  df = pd.read_html(table_html)[0]\n"
     ]
    },
    {
     "name": "stdout",
     "output_type": "stream",
     "text": [
      "Table found and converted to DataFrame for URL: https://www.estimize.com/CRM/fq2-2020?metric_name=eps&chart=historical\n"
     ]
    },
    {
     "name": "stderr",
     "output_type": "stream",
     "text": [
      "C:\\Users\\mhunt\\AppData\\Local\\Temp\\ipykernel_7800\\329258333.py:29: FutureWarning: Passing literal html to 'read_html' is deprecated and will be removed in a future version. To read from a literal string, wrap it in a 'StringIO' object.\n",
      "  df = pd.read_html(table_html)[0]\n"
     ]
    },
    {
     "name": "stdout",
     "output_type": "stream",
     "text": [
      "Table found and converted to DataFrame for URL: https://www.estimize.com/CRM/fq3-2020?metric_name=eps&chart=historical\n"
     ]
    },
    {
     "name": "stderr",
     "output_type": "stream",
     "text": [
      "C:\\Users\\mhunt\\AppData\\Local\\Temp\\ipykernel_7800\\329258333.py:29: FutureWarning: Passing literal html to 'read_html' is deprecated and will be removed in a future version. To read from a literal string, wrap it in a 'StringIO' object.\n",
      "  df = pd.read_html(table_html)[0]\n"
     ]
    },
    {
     "name": "stdout",
     "output_type": "stream",
     "text": [
      "Table found and converted to DataFrame for URL: https://www.estimize.com/CRM/fq4-2020?metric_name=eps&chart=historical\n"
     ]
    },
    {
     "name": "stderr",
     "output_type": "stream",
     "text": [
      "C:\\Users\\mhunt\\AppData\\Local\\Temp\\ipykernel_7800\\329258333.py:29: FutureWarning: Passing literal html to 'read_html' is deprecated and will be removed in a future version. To read from a literal string, wrap it in a 'StringIO' object.\n",
      "  df = pd.read_html(table_html)[0]\n"
     ]
    },
    {
     "name": "stdout",
     "output_type": "stream",
     "text": [
      "Table found and converted to DataFrame for URL: https://www.estimize.com/CRM/fq1-2021?metric_name=eps&chart=historical\n"
     ]
    },
    {
     "name": "stderr",
     "output_type": "stream",
     "text": [
      "C:\\Users\\mhunt\\AppData\\Local\\Temp\\ipykernel_7800\\329258333.py:29: FutureWarning: Passing literal html to 'read_html' is deprecated and will be removed in a future version. To read from a literal string, wrap it in a 'StringIO' object.\n",
      "  df = pd.read_html(table_html)[0]\n"
     ]
    },
    {
     "name": "stdout",
     "output_type": "stream",
     "text": [
      "Table found and converted to DataFrame for URL: https://www.estimize.com/CRM/fq2-2021?metric_name=eps&chart=historical\n"
     ]
    },
    {
     "name": "stderr",
     "output_type": "stream",
     "text": [
      "C:\\Users\\mhunt\\AppData\\Local\\Temp\\ipykernel_7800\\329258333.py:29: FutureWarning: Passing literal html to 'read_html' is deprecated and will be removed in a future version. To read from a literal string, wrap it in a 'StringIO' object.\n",
      "  df = pd.read_html(table_html)[0]\n"
     ]
    },
    {
     "name": "stdout",
     "output_type": "stream",
     "text": [
      "Table found and converted to DataFrame for URL: https://www.estimize.com/CRM/fq3-2021?metric_name=eps&chart=historical\n"
     ]
    },
    {
     "name": "stderr",
     "output_type": "stream",
     "text": [
      "C:\\Users\\mhunt\\AppData\\Local\\Temp\\ipykernel_7800\\329258333.py:29: FutureWarning: Passing literal html to 'read_html' is deprecated and will be removed in a future version. To read from a literal string, wrap it in a 'StringIO' object.\n",
      "  df = pd.read_html(table_html)[0]\n"
     ]
    },
    {
     "name": "stdout",
     "output_type": "stream",
     "text": [
      "Table found and converted to DataFrame for URL: https://www.estimize.com/CRM/fq4-2021?metric_name=eps&chart=historical\n"
     ]
    },
    {
     "name": "stderr",
     "output_type": "stream",
     "text": [
      "C:\\Users\\mhunt\\AppData\\Local\\Temp\\ipykernel_7800\\329258333.py:29: FutureWarning: Passing literal html to 'read_html' is deprecated and will be removed in a future version. To read from a literal string, wrap it in a 'StringIO' object.\n",
      "  df = pd.read_html(table_html)[0]\n"
     ]
    },
    {
     "name": "stdout",
     "output_type": "stream",
     "text": [
      "Table found and converted to DataFrame for URL: https://www.estimize.com/CRM/fq1-2022?metric_name=eps&chart=historical\n"
     ]
    },
    {
     "name": "stderr",
     "output_type": "stream",
     "text": [
      "C:\\Users\\mhunt\\AppData\\Local\\Temp\\ipykernel_7800\\329258333.py:29: FutureWarning: Passing literal html to 'read_html' is deprecated and will be removed in a future version. To read from a literal string, wrap it in a 'StringIO' object.\n",
      "  df = pd.read_html(table_html)[0]\n"
     ]
    },
    {
     "name": "stdout",
     "output_type": "stream",
     "text": [
      "Table found and converted to DataFrame for URL: https://www.estimize.com/CRM/fq2-2022?metric_name=eps&chart=historical\n"
     ]
    },
    {
     "name": "stderr",
     "output_type": "stream",
     "text": [
      "C:\\Users\\mhunt\\AppData\\Local\\Temp\\ipykernel_7800\\329258333.py:29: FutureWarning: Passing literal html to 'read_html' is deprecated and will be removed in a future version. To read from a literal string, wrap it in a 'StringIO' object.\n",
      "  df = pd.read_html(table_html)[0]\n"
     ]
    },
    {
     "name": "stdout",
     "output_type": "stream",
     "text": [
      "Table found and converted to DataFrame for URL: https://www.estimize.com/CRM/fq3-2022?metric_name=eps&chart=historical\n"
     ]
    },
    {
     "name": "stderr",
     "output_type": "stream",
     "text": [
      "C:\\Users\\mhunt\\AppData\\Local\\Temp\\ipykernel_7800\\329258333.py:29: FutureWarning: Passing literal html to 'read_html' is deprecated and will be removed in a future version. To read from a literal string, wrap it in a 'StringIO' object.\n",
      "  df = pd.read_html(table_html)[0]\n"
     ]
    },
    {
     "name": "stdout",
     "output_type": "stream",
     "text": [
      "Table found and converted to DataFrame for URL: https://www.estimize.com/CRM/fq4-2022?metric_name=eps&chart=historical\n"
     ]
    },
    {
     "name": "stderr",
     "output_type": "stream",
     "text": [
      "C:\\Users\\mhunt\\AppData\\Local\\Temp\\ipykernel_7800\\329258333.py:29: FutureWarning: Passing literal html to 'read_html' is deprecated and will be removed in a future version. To read from a literal string, wrap it in a 'StringIO' object.\n",
      "  df = pd.read_html(table_html)[0]\n"
     ]
    },
    {
     "name": "stdout",
     "output_type": "stream",
     "text": [
      "Table found and converted to DataFrame for URL: https://www.estimize.com/LULU/fq1-2020?metric_name=eps&chart=historical\n"
     ]
    },
    {
     "name": "stderr",
     "output_type": "stream",
     "text": [
      "C:\\Users\\mhunt\\AppData\\Local\\Temp\\ipykernel_7800\\329258333.py:29: FutureWarning: Passing literal html to 'read_html' is deprecated and will be removed in a future version. To read from a literal string, wrap it in a 'StringIO' object.\n",
      "  df = pd.read_html(table_html)[0]\n"
     ]
    },
    {
     "name": "stdout",
     "output_type": "stream",
     "text": [
      "Table found and converted to DataFrame for URL: https://www.estimize.com/LULU/fq2-2020?metric_name=eps&chart=historical\n"
     ]
    },
    {
     "name": "stderr",
     "output_type": "stream",
     "text": [
      "C:\\Users\\mhunt\\AppData\\Local\\Temp\\ipykernel_7800\\329258333.py:29: FutureWarning: Passing literal html to 'read_html' is deprecated and will be removed in a future version. To read from a literal string, wrap it in a 'StringIO' object.\n",
      "  df = pd.read_html(table_html)[0]\n"
     ]
    },
    {
     "name": "stdout",
     "output_type": "stream",
     "text": [
      "Table found and converted to DataFrame for URL: https://www.estimize.com/LULU/fq3-2020?metric_name=eps&chart=historical\n"
     ]
    },
    {
     "name": "stderr",
     "output_type": "stream",
     "text": [
      "C:\\Users\\mhunt\\AppData\\Local\\Temp\\ipykernel_7800\\329258333.py:29: FutureWarning: Passing literal html to 'read_html' is deprecated and will be removed in a future version. To read from a literal string, wrap it in a 'StringIO' object.\n",
      "  df = pd.read_html(table_html)[0]\n"
     ]
    },
    {
     "name": "stdout",
     "output_type": "stream",
     "text": [
      "Table found and converted to DataFrame for URL: https://www.estimize.com/LULU/fq4-2020?metric_name=eps&chart=historical\n"
     ]
    },
    {
     "name": "stderr",
     "output_type": "stream",
     "text": [
      "C:\\Users\\mhunt\\AppData\\Local\\Temp\\ipykernel_7800\\329258333.py:29: FutureWarning: Passing literal html to 'read_html' is deprecated and will be removed in a future version. To read from a literal string, wrap it in a 'StringIO' object.\n",
      "  df = pd.read_html(table_html)[0]\n"
     ]
    },
    {
     "name": "stdout",
     "output_type": "stream",
     "text": [
      "Table found and converted to DataFrame for URL: https://www.estimize.com/LULU/fq1-2021?metric_name=eps&chart=historical\n"
     ]
    },
    {
     "name": "stderr",
     "output_type": "stream",
     "text": [
      "C:\\Users\\mhunt\\AppData\\Local\\Temp\\ipykernel_7800\\329258333.py:29: FutureWarning: Passing literal html to 'read_html' is deprecated and will be removed in a future version. To read from a literal string, wrap it in a 'StringIO' object.\n",
      "  df = pd.read_html(table_html)[0]\n"
     ]
    },
    {
     "name": "stdout",
     "output_type": "stream",
     "text": [
      "Table found and converted to DataFrame for URL: https://www.estimize.com/LULU/fq2-2021?metric_name=eps&chart=historical\n"
     ]
    },
    {
     "name": "stderr",
     "output_type": "stream",
     "text": [
      "C:\\Users\\mhunt\\AppData\\Local\\Temp\\ipykernel_7800\\329258333.py:29: FutureWarning: Passing literal html to 'read_html' is deprecated and will be removed in a future version. To read from a literal string, wrap it in a 'StringIO' object.\n",
      "  df = pd.read_html(table_html)[0]\n"
     ]
    },
    {
     "name": "stdout",
     "output_type": "stream",
     "text": [
      "Table found and converted to DataFrame for URL: https://www.estimize.com/LULU/fq3-2021?metric_name=eps&chart=historical\n"
     ]
    },
    {
     "name": "stderr",
     "output_type": "stream",
     "text": [
      "C:\\Users\\mhunt\\AppData\\Local\\Temp\\ipykernel_7800\\329258333.py:29: FutureWarning: Passing literal html to 'read_html' is deprecated and will be removed in a future version. To read from a literal string, wrap it in a 'StringIO' object.\n",
      "  df = pd.read_html(table_html)[0]\n"
     ]
    },
    {
     "name": "stdout",
     "output_type": "stream",
     "text": [
      "Table found and converted to DataFrame for URL: https://www.estimize.com/LULU/fq4-2021?metric_name=eps&chart=historical\n"
     ]
    },
    {
     "name": "stderr",
     "output_type": "stream",
     "text": [
      "C:\\Users\\mhunt\\AppData\\Local\\Temp\\ipykernel_7800\\329258333.py:29: FutureWarning: Passing literal html to 'read_html' is deprecated and will be removed in a future version. To read from a literal string, wrap it in a 'StringIO' object.\n",
      "  df = pd.read_html(table_html)[0]\n"
     ]
    },
    {
     "name": "stdout",
     "output_type": "stream",
     "text": [
      "Table found and converted to DataFrame for URL: https://www.estimize.com/LULU/fq1-2022?metric_name=eps&chart=historical\n"
     ]
    },
    {
     "name": "stderr",
     "output_type": "stream",
     "text": [
      "C:\\Users\\mhunt\\AppData\\Local\\Temp\\ipykernel_7800\\329258333.py:29: FutureWarning: Passing literal html to 'read_html' is deprecated and will be removed in a future version. To read from a literal string, wrap it in a 'StringIO' object.\n",
      "  df = pd.read_html(table_html)[0]\n"
     ]
    },
    {
     "name": "stdout",
     "output_type": "stream",
     "text": [
      "Table found and converted to DataFrame for URL: https://www.estimize.com/LULU/fq2-2022?metric_name=eps&chart=historical\n"
     ]
    },
    {
     "name": "stderr",
     "output_type": "stream",
     "text": [
      "C:\\Users\\mhunt\\AppData\\Local\\Temp\\ipykernel_7800\\329258333.py:29: FutureWarning: Passing literal html to 'read_html' is deprecated and will be removed in a future version. To read from a literal string, wrap it in a 'StringIO' object.\n",
      "  df = pd.read_html(table_html)[0]\n"
     ]
    },
    {
     "name": "stdout",
     "output_type": "stream",
     "text": [
      "Table found and converted to DataFrame for URL: https://www.estimize.com/LULU/fq3-2022?metric_name=eps&chart=historical\n"
     ]
    },
    {
     "name": "stderr",
     "output_type": "stream",
     "text": [
      "C:\\Users\\mhunt\\AppData\\Local\\Temp\\ipykernel_7800\\329258333.py:29: FutureWarning: Passing literal html to 'read_html' is deprecated and will be removed in a future version. To read from a literal string, wrap it in a 'StringIO' object.\n",
      "  df = pd.read_html(table_html)[0]\n"
     ]
    },
    {
     "name": "stdout",
     "output_type": "stream",
     "text": [
      "Table found and converted to DataFrame for URL: https://www.estimize.com/LULU/fq4-2022?metric_name=eps&chart=historical\n"
     ]
    },
    {
     "name": "stderr",
     "output_type": "stream",
     "text": [
      "C:\\Users\\mhunt\\AppData\\Local\\Temp\\ipykernel_7800\\329258333.py:29: FutureWarning: Passing literal html to 'read_html' is deprecated and will be removed in a future version. To read from a literal string, wrap it in a 'StringIO' object.\n",
      "  df = pd.read_html(table_html)[0]\n"
     ]
    },
    {
     "name": "stdout",
     "output_type": "stream",
     "text": [
      "Table found and converted to DataFrame for URL: https://www.estimize.com/TGT/fq1-2020?metric_name=eps&chart=historical\n",
      "Link not found or unable to click for URL: https://www.estimize.com/TGT/fq2-2020?metric_name=eps&chart=historical\n",
      "Table found and converted to DataFrame for URL: https://www.estimize.com/TGT/fq2-2020?metric_name=eps&chart=historical\n"
     ]
    },
    {
     "name": "stderr",
     "output_type": "stream",
     "text": [
      "C:\\Users\\mhunt\\AppData\\Local\\Temp\\ipykernel_7800\\329258333.py:29: FutureWarning: Passing literal html to 'read_html' is deprecated and will be removed in a future version. To read from a literal string, wrap it in a 'StringIO' object.\n",
      "  df = pd.read_html(table_html)[0]\n"
     ]
    },
    {
     "name": "stdout",
     "output_type": "stream",
     "text": [
      "Link not found or unable to click for URL: https://www.estimize.com/TGT/fq3-2020?metric_name=eps&chart=historical\n",
      "Table found and converted to DataFrame for URL: https://www.estimize.com/TGT/fq3-2020?metric_name=eps&chart=historical\n"
     ]
    },
    {
     "name": "stderr",
     "output_type": "stream",
     "text": [
      "C:\\Users\\mhunt\\AppData\\Local\\Temp\\ipykernel_7800\\329258333.py:29: FutureWarning: Passing literal html to 'read_html' is deprecated and will be removed in a future version. To read from a literal string, wrap it in a 'StringIO' object.\n",
      "  df = pd.read_html(table_html)[0]\n",
      "C:\\Users\\mhunt\\AppData\\Local\\Temp\\ipykernel_7800\\329258333.py:29: FutureWarning: Passing literal html to 'read_html' is deprecated and will be removed in a future version. To read from a literal string, wrap it in a 'StringIO' object.\n",
      "  df = pd.read_html(table_html)[0]\n"
     ]
    },
    {
     "name": "stdout",
     "output_type": "stream",
     "text": [
      "Table found and converted to DataFrame for URL: https://www.estimize.com/TGT/fq4-2020?metric_name=eps&chart=historical\n",
      "Link not found or unable to click for URL: https://www.estimize.com/TGT/fq1-2021?metric_name=eps&chart=historical\n",
      "Table found and converted to DataFrame for URL: https://www.estimize.com/TGT/fq1-2021?metric_name=eps&chart=historical\n"
     ]
    },
    {
     "name": "stderr",
     "output_type": "stream",
     "text": [
      "C:\\Users\\mhunt\\AppData\\Local\\Temp\\ipykernel_7800\\329258333.py:29: FutureWarning: Passing literal html to 'read_html' is deprecated and will be removed in a future version. To read from a literal string, wrap it in a 'StringIO' object.\n",
      "  df = pd.read_html(table_html)[0]\n"
     ]
    },
    {
     "name": "stdout",
     "output_type": "stream",
     "text": [
      "Link not found or unable to click for URL: https://www.estimize.com/TGT/fq2-2021?metric_name=eps&chart=historical\n",
      "Table found and converted to DataFrame for URL: https://www.estimize.com/TGT/fq2-2021?metric_name=eps&chart=historical\n"
     ]
    },
    {
     "name": "stderr",
     "output_type": "stream",
     "text": [
      "C:\\Users\\mhunt\\AppData\\Local\\Temp\\ipykernel_7800\\329258333.py:29: FutureWarning: Passing literal html to 'read_html' is deprecated and will be removed in a future version. To read from a literal string, wrap it in a 'StringIO' object.\n",
      "  df = pd.read_html(table_html)[0]\n",
      "C:\\Users\\mhunt\\AppData\\Local\\Temp\\ipykernel_7800\\329258333.py:29: FutureWarning: Passing literal html to 'read_html' is deprecated and will be removed in a future version. To read from a literal string, wrap it in a 'StringIO' object.\n",
      "  df = pd.read_html(table_html)[0]\n"
     ]
    },
    {
     "name": "stdout",
     "output_type": "stream",
     "text": [
      "Table found and converted to DataFrame for URL: https://www.estimize.com/TGT/fq3-2021?metric_name=eps&chart=historical\n",
      "Link not found or unable to click for URL: https://www.estimize.com/TGT/fq4-2021?metric_name=eps&chart=historical\n",
      "Table found and converted to DataFrame for URL: https://www.estimize.com/TGT/fq4-2021?metric_name=eps&chart=historical\n"
     ]
    },
    {
     "name": "stderr",
     "output_type": "stream",
     "text": [
      "C:\\Users\\mhunt\\AppData\\Local\\Temp\\ipykernel_7800\\329258333.py:29: FutureWarning: Passing literal html to 'read_html' is deprecated and will be removed in a future version. To read from a literal string, wrap it in a 'StringIO' object.\n",
      "  df = pd.read_html(table_html)[0]\n"
     ]
    },
    {
     "name": "stdout",
     "output_type": "stream",
     "text": [
      "Link not found or unable to click for URL: https://www.estimize.com/TGT/fq1-2022?metric_name=eps&chart=historical\n",
      "Table found and converted to DataFrame for URL: https://www.estimize.com/TGT/fq1-2022?metric_name=eps&chart=historical\n"
     ]
    },
    {
     "name": "stderr",
     "output_type": "stream",
     "text": [
      "C:\\Users\\mhunt\\AppData\\Local\\Temp\\ipykernel_7800\\329258333.py:29: FutureWarning: Passing literal html to 'read_html' is deprecated and will be removed in a future version. To read from a literal string, wrap it in a 'StringIO' object.\n",
      "  df = pd.read_html(table_html)[0]\n"
     ]
    },
    {
     "name": "stdout",
     "output_type": "stream",
     "text": [
      "Link not found or unable to click for URL: https://www.estimize.com/TGT/fq2-2022?metric_name=eps&chart=historical\n",
      "Table found and converted to DataFrame for URL: https://www.estimize.com/TGT/fq2-2022?metric_name=eps&chart=historical\n"
     ]
    },
    {
     "name": "stderr",
     "output_type": "stream",
     "text": [
      "C:\\Users\\mhunt\\AppData\\Local\\Temp\\ipykernel_7800\\329258333.py:29: FutureWarning: Passing literal html to 'read_html' is deprecated and will be removed in a future version. To read from a literal string, wrap it in a 'StringIO' object.\n",
      "  df = pd.read_html(table_html)[0]\n"
     ]
    },
    {
     "name": "stdout",
     "output_type": "stream",
     "text": [
      "Link not found or unable to click for URL: https://www.estimize.com/TGT/fq3-2022?metric_name=eps&chart=historical\n",
      "Table found and converted to DataFrame for URL: https://www.estimize.com/TGT/fq3-2022?metric_name=eps&chart=historical\n"
     ]
    },
    {
     "name": "stderr",
     "output_type": "stream",
     "text": [
      "C:\\Users\\mhunt\\AppData\\Local\\Temp\\ipykernel_7800\\329258333.py:29: FutureWarning: Passing literal html to 'read_html' is deprecated and will be removed in a future version. To read from a literal string, wrap it in a 'StringIO' object.\n",
      "  df = pd.read_html(table_html)[0]\n"
     ]
    },
    {
     "name": "stdout",
     "output_type": "stream",
     "text": [
      "Link not found or unable to click for URL: https://www.estimize.com/TGT/fq4-2022?metric_name=eps&chart=historical\n"
     ]
    },
    {
     "name": "stderr",
     "output_type": "stream",
     "text": [
      "C:\\Users\\mhunt\\AppData\\Local\\Temp\\ipykernel_7800\\329258333.py:29: FutureWarning: Passing literal html to 'read_html' is deprecated and will be removed in a future version. To read from a literal string, wrap it in a 'StringIO' object.\n",
      "  df = pd.read_html(table_html)[0]\n"
     ]
    },
    {
     "name": "stdout",
     "output_type": "stream",
     "text": [
      "Table found and converted to DataFrame for URL: https://www.estimize.com/TGT/fq4-2022?metric_name=eps&chart=historical\n"
     ]
    },
    {
     "name": "stderr",
     "output_type": "stream",
     "text": [
      "C:\\Users\\mhunt\\AppData\\Local\\Temp\\ipykernel_7800\\329258333.py:29: FutureWarning: Passing literal html to 'read_html' is deprecated and will be removed in a future version. To read from a literal string, wrap it in a 'StringIO' object.\n",
      "  df = pd.read_html(table_html)[0]\n"
     ]
    },
    {
     "name": "stdout",
     "output_type": "stream",
     "text": [
      "Table found and converted to DataFrame for URL: https://www.estimize.com/PANW/fq1-2020?metric_name=eps&chart=historical\n"
     ]
    },
    {
     "name": "stderr",
     "output_type": "stream",
     "text": [
      "C:\\Users\\mhunt\\AppData\\Local\\Temp\\ipykernel_7800\\329258333.py:29: FutureWarning: Passing literal html to 'read_html' is deprecated and will be removed in a future version. To read from a literal string, wrap it in a 'StringIO' object.\n",
      "  df = pd.read_html(table_html)[0]\n"
     ]
    },
    {
     "name": "stdout",
     "output_type": "stream",
     "text": [
      "Table found and converted to DataFrame for URL: https://www.estimize.com/PANW/fq2-2020?metric_name=eps&chart=historical\n"
     ]
    },
    {
     "name": "stderr",
     "output_type": "stream",
     "text": [
      "C:\\Users\\mhunt\\AppData\\Local\\Temp\\ipykernel_7800\\329258333.py:29: FutureWarning: Passing literal html to 'read_html' is deprecated and will be removed in a future version. To read from a literal string, wrap it in a 'StringIO' object.\n",
      "  df = pd.read_html(table_html)[0]\n"
     ]
    },
    {
     "name": "stdout",
     "output_type": "stream",
     "text": [
      "Table found and converted to DataFrame for URL: https://www.estimize.com/PANW/fq3-2020?metric_name=eps&chart=historical\n"
     ]
    },
    {
     "name": "stderr",
     "output_type": "stream",
     "text": [
      "C:\\Users\\mhunt\\AppData\\Local\\Temp\\ipykernel_7800\\329258333.py:29: FutureWarning: Passing literal html to 'read_html' is deprecated and will be removed in a future version. To read from a literal string, wrap it in a 'StringIO' object.\n",
      "  df = pd.read_html(table_html)[0]\n"
     ]
    },
    {
     "name": "stdout",
     "output_type": "stream",
     "text": [
      "Table found and converted to DataFrame for URL: https://www.estimize.com/PANW/fq4-2020?metric_name=eps&chart=historical\n"
     ]
    },
    {
     "name": "stderr",
     "output_type": "stream",
     "text": [
      "C:\\Users\\mhunt\\AppData\\Local\\Temp\\ipykernel_7800\\329258333.py:29: FutureWarning: Passing literal html to 'read_html' is deprecated and will be removed in a future version. To read from a literal string, wrap it in a 'StringIO' object.\n",
      "  df = pd.read_html(table_html)[0]\n"
     ]
    },
    {
     "name": "stdout",
     "output_type": "stream",
     "text": [
      "Table found and converted to DataFrame for URL: https://www.estimize.com/PANW/fq1-2021?metric_name=eps&chart=historical\n"
     ]
    },
    {
     "name": "stderr",
     "output_type": "stream",
     "text": [
      "C:\\Users\\mhunt\\AppData\\Local\\Temp\\ipykernel_7800\\329258333.py:29: FutureWarning: Passing literal html to 'read_html' is deprecated and will be removed in a future version. To read from a literal string, wrap it in a 'StringIO' object.\n",
      "  df = pd.read_html(table_html)[0]\n"
     ]
    },
    {
     "name": "stdout",
     "output_type": "stream",
     "text": [
      "Table found and converted to DataFrame for URL: https://www.estimize.com/PANW/fq2-2021?metric_name=eps&chart=historical\n"
     ]
    },
    {
     "name": "stderr",
     "output_type": "stream",
     "text": [
      "C:\\Users\\mhunt\\AppData\\Local\\Temp\\ipykernel_7800\\329258333.py:29: FutureWarning: Passing literal html to 'read_html' is deprecated and will be removed in a future version. To read from a literal string, wrap it in a 'StringIO' object.\n",
      "  df = pd.read_html(table_html)[0]\n"
     ]
    },
    {
     "name": "stdout",
     "output_type": "stream",
     "text": [
      "Table found and converted to DataFrame for URL: https://www.estimize.com/PANW/fq3-2021?metric_name=eps&chart=historical\n"
     ]
    },
    {
     "name": "stderr",
     "output_type": "stream",
     "text": [
      "C:\\Users\\mhunt\\AppData\\Local\\Temp\\ipykernel_7800\\329258333.py:29: FutureWarning: Passing literal html to 'read_html' is deprecated and will be removed in a future version. To read from a literal string, wrap it in a 'StringIO' object.\n",
      "  df = pd.read_html(table_html)[0]\n"
     ]
    },
    {
     "name": "stdout",
     "output_type": "stream",
     "text": [
      "Table found and converted to DataFrame for URL: https://www.estimize.com/PANW/fq4-2021?metric_name=eps&chart=historical\n"
     ]
    },
    {
     "name": "stderr",
     "output_type": "stream",
     "text": [
      "C:\\Users\\mhunt\\AppData\\Local\\Temp\\ipykernel_7800\\329258333.py:29: FutureWarning: Passing literal html to 'read_html' is deprecated and will be removed in a future version. To read from a literal string, wrap it in a 'StringIO' object.\n",
      "  df = pd.read_html(table_html)[0]\n"
     ]
    },
    {
     "name": "stdout",
     "output_type": "stream",
     "text": [
      "Table found and converted to DataFrame for URL: https://www.estimize.com/PANW/fq1-2022?metric_name=eps&chart=historical\n"
     ]
    },
    {
     "name": "stderr",
     "output_type": "stream",
     "text": [
      "C:\\Users\\mhunt\\AppData\\Local\\Temp\\ipykernel_7800\\329258333.py:29: FutureWarning: Passing literal html to 'read_html' is deprecated and will be removed in a future version. To read from a literal string, wrap it in a 'StringIO' object.\n",
      "  df = pd.read_html(table_html)[0]\n"
     ]
    },
    {
     "name": "stdout",
     "output_type": "stream",
     "text": [
      "Table found and converted to DataFrame for URL: https://www.estimize.com/PANW/fq2-2022?metric_name=eps&chart=historical\n"
     ]
    },
    {
     "name": "stderr",
     "output_type": "stream",
     "text": [
      "C:\\Users\\mhunt\\AppData\\Local\\Temp\\ipykernel_7800\\329258333.py:29: FutureWarning: Passing literal html to 'read_html' is deprecated and will be removed in a future version. To read from a literal string, wrap it in a 'StringIO' object.\n",
      "  df = pd.read_html(table_html)[0]\n"
     ]
    },
    {
     "name": "stdout",
     "output_type": "stream",
     "text": [
      "Table found and converted to DataFrame for URL: https://www.estimize.com/PANW/fq3-2022?metric_name=eps&chart=historical\n"
     ]
    },
    {
     "name": "stderr",
     "output_type": "stream",
     "text": [
      "C:\\Users\\mhunt\\AppData\\Local\\Temp\\ipykernel_7800\\329258333.py:29: FutureWarning: Passing literal html to 'read_html' is deprecated and will be removed in a future version. To read from a literal string, wrap it in a 'StringIO' object.\n",
      "  df = pd.read_html(table_html)[0]\n"
     ]
    },
    {
     "name": "stdout",
     "output_type": "stream",
     "text": [
      "Table found and converted to DataFrame for URL: https://www.estimize.com/PANW/fq4-2022?metric_name=eps&chart=historical\n"
     ]
    },
    {
     "name": "stderr",
     "output_type": "stream",
     "text": [
      "C:\\Users\\mhunt\\AppData\\Local\\Temp\\ipykernel_7800\\329258333.py:29: FutureWarning: Passing literal html to 'read_html' is deprecated and will be removed in a future version. To read from a literal string, wrap it in a 'StringIO' object.\n",
      "  df = pd.read_html(table_html)[0]\n"
     ]
    },
    {
     "name": "stdout",
     "output_type": "stream",
     "text": [
      "Table found and converted to DataFrame for URL: https://www.estimize.com/ADBE/fq1-2020?metric_name=eps&chart=historical\n"
     ]
    },
    {
     "name": "stderr",
     "output_type": "stream",
     "text": [
      "C:\\Users\\mhunt\\AppData\\Local\\Temp\\ipykernel_7800\\329258333.py:29: FutureWarning: Passing literal html to 'read_html' is deprecated and will be removed in a future version. To read from a literal string, wrap it in a 'StringIO' object.\n",
      "  df = pd.read_html(table_html)[0]\n"
     ]
    },
    {
     "name": "stdout",
     "output_type": "stream",
     "text": [
      "Table found and converted to DataFrame for URL: https://www.estimize.com/ADBE/fq2-2020?metric_name=eps&chart=historical\n"
     ]
    },
    {
     "name": "stderr",
     "output_type": "stream",
     "text": [
      "C:\\Users\\mhunt\\AppData\\Local\\Temp\\ipykernel_7800\\329258333.py:29: FutureWarning: Passing literal html to 'read_html' is deprecated and will be removed in a future version. To read from a literal string, wrap it in a 'StringIO' object.\n",
      "  df = pd.read_html(table_html)[0]\n"
     ]
    },
    {
     "name": "stdout",
     "output_type": "stream",
     "text": [
      "Table found and converted to DataFrame for URL: https://www.estimize.com/ADBE/fq3-2020?metric_name=eps&chart=historical\n"
     ]
    },
    {
     "name": "stderr",
     "output_type": "stream",
     "text": [
      "C:\\Users\\mhunt\\AppData\\Local\\Temp\\ipykernel_7800\\329258333.py:29: FutureWarning: Passing literal html to 'read_html' is deprecated and will be removed in a future version. To read from a literal string, wrap it in a 'StringIO' object.\n",
      "  df = pd.read_html(table_html)[0]\n"
     ]
    },
    {
     "name": "stdout",
     "output_type": "stream",
     "text": [
      "Table found and converted to DataFrame for URL: https://www.estimize.com/ADBE/fq4-2020?metric_name=eps&chart=historical\n"
     ]
    },
    {
     "name": "stderr",
     "output_type": "stream",
     "text": [
      "C:\\Users\\mhunt\\AppData\\Local\\Temp\\ipykernel_7800\\329258333.py:29: FutureWarning: Passing literal html to 'read_html' is deprecated and will be removed in a future version. To read from a literal string, wrap it in a 'StringIO' object.\n",
      "  df = pd.read_html(table_html)[0]\n"
     ]
    },
    {
     "name": "stdout",
     "output_type": "stream",
     "text": [
      "Table found and converted to DataFrame for URL: https://www.estimize.com/ADBE/fq1-2021?metric_name=eps&chart=historical\n"
     ]
    },
    {
     "name": "stderr",
     "output_type": "stream",
     "text": [
      "C:\\Users\\mhunt\\AppData\\Local\\Temp\\ipykernel_7800\\329258333.py:29: FutureWarning: Passing literal html to 'read_html' is deprecated and will be removed in a future version. To read from a literal string, wrap it in a 'StringIO' object.\n",
      "  df = pd.read_html(table_html)[0]\n"
     ]
    },
    {
     "name": "stdout",
     "output_type": "stream",
     "text": [
      "Table found and converted to DataFrame for URL: https://www.estimize.com/ADBE/fq2-2021?metric_name=eps&chart=historical\n"
     ]
    },
    {
     "name": "stderr",
     "output_type": "stream",
     "text": [
      "C:\\Users\\mhunt\\AppData\\Local\\Temp\\ipykernel_7800\\329258333.py:29: FutureWarning: Passing literal html to 'read_html' is deprecated and will be removed in a future version. To read from a literal string, wrap it in a 'StringIO' object.\n",
      "  df = pd.read_html(table_html)[0]\n"
     ]
    },
    {
     "name": "stdout",
     "output_type": "stream",
     "text": [
      "Table found and converted to DataFrame for URL: https://www.estimize.com/ADBE/fq3-2021?metric_name=eps&chart=historical\n"
     ]
    },
    {
     "name": "stderr",
     "output_type": "stream",
     "text": [
      "C:\\Users\\mhunt\\AppData\\Local\\Temp\\ipykernel_7800\\329258333.py:29: FutureWarning: Passing literal html to 'read_html' is deprecated and will be removed in a future version. To read from a literal string, wrap it in a 'StringIO' object.\n",
      "  df = pd.read_html(table_html)[0]\n"
     ]
    },
    {
     "name": "stdout",
     "output_type": "stream",
     "text": [
      "Table found and converted to DataFrame for URL: https://www.estimize.com/ADBE/fq4-2021?metric_name=eps&chart=historical\n"
     ]
    },
    {
     "name": "stderr",
     "output_type": "stream",
     "text": [
      "C:\\Users\\mhunt\\AppData\\Local\\Temp\\ipykernel_7800\\329258333.py:29: FutureWarning: Passing literal html to 'read_html' is deprecated and will be removed in a future version. To read from a literal string, wrap it in a 'StringIO' object.\n",
      "  df = pd.read_html(table_html)[0]\n"
     ]
    },
    {
     "name": "stdout",
     "output_type": "stream",
     "text": [
      "Table found and converted to DataFrame for URL: https://www.estimize.com/ADBE/fq1-2022?metric_name=eps&chart=historical\n"
     ]
    },
    {
     "name": "stderr",
     "output_type": "stream",
     "text": [
      "C:\\Users\\mhunt\\AppData\\Local\\Temp\\ipykernel_7800\\329258333.py:29: FutureWarning: Passing literal html to 'read_html' is deprecated and will be removed in a future version. To read from a literal string, wrap it in a 'StringIO' object.\n",
      "  df = pd.read_html(table_html)[0]\n"
     ]
    },
    {
     "name": "stdout",
     "output_type": "stream",
     "text": [
      "Table found and converted to DataFrame for URL: https://www.estimize.com/ADBE/fq2-2022?metric_name=eps&chart=historical\n"
     ]
    },
    {
     "name": "stderr",
     "output_type": "stream",
     "text": [
      "C:\\Users\\mhunt\\AppData\\Local\\Temp\\ipykernel_7800\\329258333.py:29: FutureWarning: Passing literal html to 'read_html' is deprecated and will be removed in a future version. To read from a literal string, wrap it in a 'StringIO' object.\n",
      "  df = pd.read_html(table_html)[0]\n"
     ]
    },
    {
     "name": "stdout",
     "output_type": "stream",
     "text": [
      "Table found and converted to DataFrame for URL: https://www.estimize.com/ADBE/fq3-2022?metric_name=eps&chart=historical\n"
     ]
    },
    {
     "name": "stderr",
     "output_type": "stream",
     "text": [
      "C:\\Users\\mhunt\\AppData\\Local\\Temp\\ipykernel_7800\\329258333.py:29: FutureWarning: Passing literal html to 'read_html' is deprecated and will be removed in a future version. To read from a literal string, wrap it in a 'StringIO' object.\n",
      "  df = pd.read_html(table_html)[0]\n"
     ]
    },
    {
     "name": "stdout",
     "output_type": "stream",
     "text": [
      "Table found and converted to DataFrame for URL: https://www.estimize.com/ADBE/fq4-2022?metric_name=eps&chart=historical\n"
     ]
    },
    {
     "name": "stderr",
     "output_type": "stream",
     "text": [
      "C:\\Users\\mhunt\\AppData\\Local\\Temp\\ipykernel_7800\\329258333.py:29: FutureWarning: Passing literal html to 'read_html' is deprecated and will be removed in a future version. To read from a literal string, wrap it in a 'StringIO' object.\n",
      "  df = pd.read_html(table_html)[0]\n"
     ]
    },
    {
     "name": "stdout",
     "output_type": "stream",
     "text": [
      "Table found and converted to DataFrame for URL: https://www.estimize.com/VMW/fq1-2020?metric_name=eps&chart=historical\n"
     ]
    },
    {
     "name": "stderr",
     "output_type": "stream",
     "text": [
      "C:\\Users\\mhunt\\AppData\\Local\\Temp\\ipykernel_7800\\329258333.py:29: FutureWarning: Passing literal html to 'read_html' is deprecated and will be removed in a future version. To read from a literal string, wrap it in a 'StringIO' object.\n",
      "  df = pd.read_html(table_html)[0]\n"
     ]
    },
    {
     "name": "stdout",
     "output_type": "stream",
     "text": [
      "Table found and converted to DataFrame for URL: https://www.estimize.com/VMW/fq2-2020?metric_name=eps&chart=historical\n"
     ]
    },
    {
     "name": "stderr",
     "output_type": "stream",
     "text": [
      "C:\\Users\\mhunt\\AppData\\Local\\Temp\\ipykernel_7800\\329258333.py:29: FutureWarning: Passing literal html to 'read_html' is deprecated and will be removed in a future version. To read from a literal string, wrap it in a 'StringIO' object.\n",
      "  df = pd.read_html(table_html)[0]\n"
     ]
    },
    {
     "name": "stdout",
     "output_type": "stream",
     "text": [
      "Table found and converted to DataFrame for URL: https://www.estimize.com/VMW/fq3-2020?metric_name=eps&chart=historical\n"
     ]
    },
    {
     "name": "stderr",
     "output_type": "stream",
     "text": [
      "C:\\Users\\mhunt\\AppData\\Local\\Temp\\ipykernel_7800\\329258333.py:29: FutureWarning: Passing literal html to 'read_html' is deprecated and will be removed in a future version. To read from a literal string, wrap it in a 'StringIO' object.\n",
      "  df = pd.read_html(table_html)[0]\n"
     ]
    },
    {
     "name": "stdout",
     "output_type": "stream",
     "text": [
      "Table found and converted to DataFrame for URL: https://www.estimize.com/VMW/fq4-2020?metric_name=eps&chart=historical\n"
     ]
    },
    {
     "name": "stderr",
     "output_type": "stream",
     "text": [
      "C:\\Users\\mhunt\\AppData\\Local\\Temp\\ipykernel_7800\\329258333.py:29: FutureWarning: Passing literal html to 'read_html' is deprecated and will be removed in a future version. To read from a literal string, wrap it in a 'StringIO' object.\n",
      "  df = pd.read_html(table_html)[0]\n"
     ]
    },
    {
     "name": "stdout",
     "output_type": "stream",
     "text": [
      "Table found and converted to DataFrame for URL: https://www.estimize.com/VMW/fq1-2021?metric_name=eps&chart=historical\n"
     ]
    },
    {
     "name": "stderr",
     "output_type": "stream",
     "text": [
      "C:\\Users\\mhunt\\AppData\\Local\\Temp\\ipykernel_7800\\329258333.py:29: FutureWarning: Passing literal html to 'read_html' is deprecated and will be removed in a future version. To read from a literal string, wrap it in a 'StringIO' object.\n",
      "  df = pd.read_html(table_html)[0]\n"
     ]
    },
    {
     "name": "stdout",
     "output_type": "stream",
     "text": [
      "Table found and converted to DataFrame for URL: https://www.estimize.com/VMW/fq2-2021?metric_name=eps&chart=historical\n"
     ]
    },
    {
     "name": "stderr",
     "output_type": "stream",
     "text": [
      "C:\\Users\\mhunt\\AppData\\Local\\Temp\\ipykernel_7800\\329258333.py:29: FutureWarning: Passing literal html to 'read_html' is deprecated and will be removed in a future version. To read from a literal string, wrap it in a 'StringIO' object.\n",
      "  df = pd.read_html(table_html)[0]\n"
     ]
    },
    {
     "name": "stdout",
     "output_type": "stream",
     "text": [
      "Table found and converted to DataFrame for URL: https://www.estimize.com/VMW/fq3-2021?metric_name=eps&chart=historical\n",
      "Link not found or unable to click for URL: https://www.estimize.com/VMW/fq4-2021?metric_name=eps&chart=historical\n",
      "Table found and converted to DataFrame for URL: https://www.estimize.com/VMW/fq4-2021?metric_name=eps&chart=historical\n"
     ]
    },
    {
     "name": "stderr",
     "output_type": "stream",
     "text": [
      "C:\\Users\\mhunt\\AppData\\Local\\Temp\\ipykernel_7800\\329258333.py:29: FutureWarning: Passing literal html to 'read_html' is deprecated and will be removed in a future version. To read from a literal string, wrap it in a 'StringIO' object.\n",
      "  df = pd.read_html(table_html)[0]\n",
      "C:\\Users\\mhunt\\AppData\\Local\\Temp\\ipykernel_7800\\329258333.py:29: FutureWarning: Passing literal html to 'read_html' is deprecated and will be removed in a future version. To read from a literal string, wrap it in a 'StringIO' object.\n",
      "  df = pd.read_html(table_html)[0]\n"
     ]
    },
    {
     "name": "stdout",
     "output_type": "stream",
     "text": [
      "Table found and converted to DataFrame for URL: https://www.estimize.com/VMW/fq1-2022?metric_name=eps&chart=historical\n",
      "Link not found or unable to click for URL: https://www.estimize.com/VMW/fq2-2022?metric_name=eps&chart=historical\n",
      "Table found and converted to DataFrame for URL: https://www.estimize.com/VMW/fq2-2022?metric_name=eps&chart=historical\n"
     ]
    },
    {
     "name": "stderr",
     "output_type": "stream",
     "text": [
      "C:\\Users\\mhunt\\AppData\\Local\\Temp\\ipykernel_7800\\329258333.py:29: FutureWarning: Passing literal html to 'read_html' is deprecated and will be removed in a future version. To read from a literal string, wrap it in a 'StringIO' object.\n",
      "  df = pd.read_html(table_html)[0]\n",
      "C:\\Users\\mhunt\\AppData\\Local\\Temp\\ipykernel_7800\\329258333.py:29: FutureWarning: Passing literal html to 'read_html' is deprecated and will be removed in a future version. To read from a literal string, wrap it in a 'StringIO' object.\n",
      "  df = pd.read_html(table_html)[0]\n"
     ]
    },
    {
     "name": "stdout",
     "output_type": "stream",
     "text": [
      "Table found and converted to DataFrame for URL: https://www.estimize.com/VMW/fq3-2022?metric_name=eps&chart=historical\n",
      "Link not found or unable to click for URL: https://www.estimize.com/VMW/fq4-2022?metric_name=eps&chart=historical\n",
      "Table found and converted to DataFrame for URL: https://www.estimize.com/VMW/fq4-2022?metric_name=eps&chart=historical\n"
     ]
    },
    {
     "name": "stderr",
     "output_type": "stream",
     "text": [
      "C:\\Users\\mhunt\\AppData\\Local\\Temp\\ipykernel_7800\\329258333.py:29: FutureWarning: Passing literal html to 'read_html' is deprecated and will be removed in a future version. To read from a literal string, wrap it in a 'StringIO' object.\n",
      "  df = pd.read_html(table_html)[0]\n",
      "C:\\Users\\mhunt\\AppData\\Local\\Temp\\ipykernel_7800\\329258333.py:29: FutureWarning: Passing literal html to 'read_html' is deprecated and will be removed in a future version. To read from a literal string, wrap it in a 'StringIO' object.\n",
      "  df = pd.read_html(table_html)[0]\n"
     ]
    },
    {
     "name": "stdout",
     "output_type": "stream",
     "text": [
      "Table found and converted to DataFrame for URL: https://www.estimize.com/MU/fq1-2020?metric_name=eps&chart=historical\n"
     ]
    },
    {
     "name": "stderr",
     "output_type": "stream",
     "text": [
      "C:\\Users\\mhunt\\AppData\\Local\\Temp\\ipykernel_7800\\329258333.py:29: FutureWarning: Passing literal html to 'read_html' is deprecated and will be removed in a future version. To read from a literal string, wrap it in a 'StringIO' object.\n",
      "  df = pd.read_html(table_html)[0]\n"
     ]
    },
    {
     "name": "stdout",
     "output_type": "stream",
     "text": [
      "Table found and converted to DataFrame for URL: https://www.estimize.com/MU/fq2-2020?metric_name=eps&chart=historical\n"
     ]
    },
    {
     "name": "stderr",
     "output_type": "stream",
     "text": [
      "C:\\Users\\mhunt\\AppData\\Local\\Temp\\ipykernel_7800\\329258333.py:29: FutureWarning: Passing literal html to 'read_html' is deprecated and will be removed in a future version. To read from a literal string, wrap it in a 'StringIO' object.\n",
      "  df = pd.read_html(table_html)[0]\n"
     ]
    },
    {
     "name": "stdout",
     "output_type": "stream",
     "text": [
      "Table found and converted to DataFrame for URL: https://www.estimize.com/MU/fq3-2020?metric_name=eps&chart=historical\n"
     ]
    },
    {
     "name": "stderr",
     "output_type": "stream",
     "text": [
      "C:\\Users\\mhunt\\AppData\\Local\\Temp\\ipykernel_7800\\329258333.py:29: FutureWarning: Passing literal html to 'read_html' is deprecated and will be removed in a future version. To read from a literal string, wrap it in a 'StringIO' object.\n",
      "  df = pd.read_html(table_html)[0]\n"
     ]
    },
    {
     "name": "stdout",
     "output_type": "stream",
     "text": [
      "Table found and converted to DataFrame for URL: https://www.estimize.com/MU/fq4-2020?metric_name=eps&chart=historical\n"
     ]
    },
    {
     "name": "stderr",
     "output_type": "stream",
     "text": [
      "C:\\Users\\mhunt\\AppData\\Local\\Temp\\ipykernel_7800\\329258333.py:29: FutureWarning: Passing literal html to 'read_html' is deprecated and will be removed in a future version. To read from a literal string, wrap it in a 'StringIO' object.\n",
      "  df = pd.read_html(table_html)[0]\n"
     ]
    },
    {
     "name": "stdout",
     "output_type": "stream",
     "text": [
      "Table found and converted to DataFrame for URL: https://www.estimize.com/MU/fq1-2021?metric_name=eps&chart=historical\n"
     ]
    },
    {
     "name": "stderr",
     "output_type": "stream",
     "text": [
      "C:\\Users\\mhunt\\AppData\\Local\\Temp\\ipykernel_7800\\329258333.py:29: FutureWarning: Passing literal html to 'read_html' is deprecated and will be removed in a future version. To read from a literal string, wrap it in a 'StringIO' object.\n",
      "  df = pd.read_html(table_html)[0]\n"
     ]
    },
    {
     "name": "stdout",
     "output_type": "stream",
     "text": [
      "Table found and converted to DataFrame for URL: https://www.estimize.com/MU/fq2-2021?metric_name=eps&chart=historical\n"
     ]
    },
    {
     "name": "stderr",
     "output_type": "stream",
     "text": [
      "C:\\Users\\mhunt\\AppData\\Local\\Temp\\ipykernel_7800\\329258333.py:29: FutureWarning: Passing literal html to 'read_html' is deprecated and will be removed in a future version. To read from a literal string, wrap it in a 'StringIO' object.\n",
      "  df = pd.read_html(table_html)[0]\n"
     ]
    },
    {
     "name": "stdout",
     "output_type": "stream",
     "text": [
      "Table found and converted to DataFrame for URL: https://www.estimize.com/MU/fq3-2021?metric_name=eps&chart=historical\n"
     ]
    },
    {
     "name": "stderr",
     "output_type": "stream",
     "text": [
      "C:\\Users\\mhunt\\AppData\\Local\\Temp\\ipykernel_7800\\329258333.py:29: FutureWarning: Passing literal html to 'read_html' is deprecated and will be removed in a future version. To read from a literal string, wrap it in a 'StringIO' object.\n",
      "  df = pd.read_html(table_html)[0]\n"
     ]
    },
    {
     "name": "stdout",
     "output_type": "stream",
     "text": [
      "Table found and converted to DataFrame for URL: https://www.estimize.com/MU/fq4-2021?metric_name=eps&chart=historical\n"
     ]
    },
    {
     "name": "stderr",
     "output_type": "stream",
     "text": [
      "C:\\Users\\mhunt\\AppData\\Local\\Temp\\ipykernel_7800\\329258333.py:29: FutureWarning: Passing literal html to 'read_html' is deprecated and will be removed in a future version. To read from a literal string, wrap it in a 'StringIO' object.\n",
      "  df = pd.read_html(table_html)[0]\n"
     ]
    },
    {
     "name": "stdout",
     "output_type": "stream",
     "text": [
      "Table found and converted to DataFrame for URL: https://www.estimize.com/MU/fq1-2022?metric_name=eps&chart=historical\n"
     ]
    },
    {
     "name": "stderr",
     "output_type": "stream",
     "text": [
      "C:\\Users\\mhunt\\AppData\\Local\\Temp\\ipykernel_7800\\329258333.py:29: FutureWarning: Passing literal html to 'read_html' is deprecated and will be removed in a future version. To read from a literal string, wrap it in a 'StringIO' object.\n",
      "  df = pd.read_html(table_html)[0]\n"
     ]
    },
    {
     "name": "stdout",
     "output_type": "stream",
     "text": [
      "Table found and converted to DataFrame for URL: https://www.estimize.com/MU/fq2-2022?metric_name=eps&chart=historical\n"
     ]
    },
    {
     "name": "stderr",
     "output_type": "stream",
     "text": [
      "C:\\Users\\mhunt\\AppData\\Local\\Temp\\ipykernel_7800\\329258333.py:29: FutureWarning: Passing literal html to 'read_html' is deprecated and will be removed in a future version. To read from a literal string, wrap it in a 'StringIO' object.\n",
      "  df = pd.read_html(table_html)[0]\n"
     ]
    },
    {
     "name": "stdout",
     "output_type": "stream",
     "text": [
      "Table found and converted to DataFrame for URL: https://www.estimize.com/MU/fq3-2022?metric_name=eps&chart=historical\n"
     ]
    },
    {
     "name": "stderr",
     "output_type": "stream",
     "text": [
      "C:\\Users\\mhunt\\AppData\\Local\\Temp\\ipykernel_7800\\329258333.py:29: FutureWarning: Passing literal html to 'read_html' is deprecated and will be removed in a future version. To read from a literal string, wrap it in a 'StringIO' object.\n",
      "  df = pd.read_html(table_html)[0]\n"
     ]
    },
    {
     "name": "stdout",
     "output_type": "stream",
     "text": [
      "Table found and converted to DataFrame for URL: https://www.estimize.com/MU/fq4-2022?metric_name=eps&chart=historical\n"
     ]
    },
    {
     "name": "stderr",
     "output_type": "stream",
     "text": [
      "C:\\Users\\mhunt\\AppData\\Local\\Temp\\ipykernel_7800\\329258333.py:29: FutureWarning: Passing literal html to 'read_html' is deprecated and will be removed in a future version. To read from a literal string, wrap it in a 'StringIO' object.\n",
      "  df = pd.read_html(table_html)[0]\n"
     ]
    },
    {
     "name": "stdout",
     "output_type": "stream",
     "text": [
      "Table found and converted to DataFrame for URL: https://www.estimize.com/NKE/fq1-2020?metric_name=eps&chart=historical\n"
     ]
    },
    {
     "name": "stderr",
     "output_type": "stream",
     "text": [
      "C:\\Users\\mhunt\\AppData\\Local\\Temp\\ipykernel_7800\\329258333.py:29: FutureWarning: Passing literal html to 'read_html' is deprecated and will be removed in a future version. To read from a literal string, wrap it in a 'StringIO' object.\n",
      "  df = pd.read_html(table_html)[0]\n"
     ]
    },
    {
     "name": "stdout",
     "output_type": "stream",
     "text": [
      "Table found and converted to DataFrame for URL: https://www.estimize.com/NKE/fq2-2020?metric_name=eps&chart=historical\n"
     ]
    },
    {
     "name": "stderr",
     "output_type": "stream",
     "text": [
      "C:\\Users\\mhunt\\AppData\\Local\\Temp\\ipykernel_7800\\329258333.py:29: FutureWarning: Passing literal html to 'read_html' is deprecated and will be removed in a future version. To read from a literal string, wrap it in a 'StringIO' object.\n",
      "  df = pd.read_html(table_html)[0]\n"
     ]
    },
    {
     "name": "stdout",
     "output_type": "stream",
     "text": [
      "Table found and converted to DataFrame for URL: https://www.estimize.com/NKE/fq3-2020?metric_name=eps&chart=historical\n"
     ]
    },
    {
     "name": "stderr",
     "output_type": "stream",
     "text": [
      "C:\\Users\\mhunt\\AppData\\Local\\Temp\\ipykernel_7800\\329258333.py:29: FutureWarning: Passing literal html to 'read_html' is deprecated and will be removed in a future version. To read from a literal string, wrap it in a 'StringIO' object.\n",
      "  df = pd.read_html(table_html)[0]\n"
     ]
    },
    {
     "name": "stdout",
     "output_type": "stream",
     "text": [
      "Table found and converted to DataFrame for URL: https://www.estimize.com/NKE/fq4-2020?metric_name=eps&chart=historical\n"
     ]
    },
    {
     "name": "stderr",
     "output_type": "stream",
     "text": [
      "C:\\Users\\mhunt\\AppData\\Local\\Temp\\ipykernel_7800\\329258333.py:29: FutureWarning: Passing literal html to 'read_html' is deprecated and will be removed in a future version. To read from a literal string, wrap it in a 'StringIO' object.\n",
      "  df = pd.read_html(table_html)[0]\n"
     ]
    },
    {
     "name": "stdout",
     "output_type": "stream",
     "text": [
      "Table found and converted to DataFrame for URL: https://www.estimize.com/NKE/fq1-2021?metric_name=eps&chart=historical\n"
     ]
    },
    {
     "name": "stderr",
     "output_type": "stream",
     "text": [
      "C:\\Users\\mhunt\\AppData\\Local\\Temp\\ipykernel_7800\\329258333.py:29: FutureWarning: Passing literal html to 'read_html' is deprecated and will be removed in a future version. To read from a literal string, wrap it in a 'StringIO' object.\n",
      "  df = pd.read_html(table_html)[0]\n"
     ]
    },
    {
     "name": "stdout",
     "output_type": "stream",
     "text": [
      "Table found and converted to DataFrame for URL: https://www.estimize.com/NKE/fq2-2021?metric_name=eps&chart=historical\n"
     ]
    },
    {
     "name": "stderr",
     "output_type": "stream",
     "text": [
      "C:\\Users\\mhunt\\AppData\\Local\\Temp\\ipykernel_7800\\329258333.py:29: FutureWarning: Passing literal html to 'read_html' is deprecated and will be removed in a future version. To read from a literal string, wrap it in a 'StringIO' object.\n",
      "  df = pd.read_html(table_html)[0]\n"
     ]
    },
    {
     "name": "stdout",
     "output_type": "stream",
     "text": [
      "Table found and converted to DataFrame for URL: https://www.estimize.com/NKE/fq3-2021?metric_name=eps&chart=historical\n"
     ]
    },
    {
     "name": "stderr",
     "output_type": "stream",
     "text": [
      "C:\\Users\\mhunt\\AppData\\Local\\Temp\\ipykernel_7800\\329258333.py:29: FutureWarning: Passing literal html to 'read_html' is deprecated and will be removed in a future version. To read from a literal string, wrap it in a 'StringIO' object.\n",
      "  df = pd.read_html(table_html)[0]\n"
     ]
    },
    {
     "name": "stdout",
     "output_type": "stream",
     "text": [
      "Table found and converted to DataFrame for URL: https://www.estimize.com/NKE/fq4-2021?metric_name=eps&chart=historical\n"
     ]
    },
    {
     "name": "stderr",
     "output_type": "stream",
     "text": [
      "C:\\Users\\mhunt\\AppData\\Local\\Temp\\ipykernel_7800\\329258333.py:29: FutureWarning: Passing literal html to 'read_html' is deprecated and will be removed in a future version. To read from a literal string, wrap it in a 'StringIO' object.\n",
      "  df = pd.read_html(table_html)[0]\n"
     ]
    },
    {
     "name": "stdout",
     "output_type": "stream",
     "text": [
      "Table found and converted to DataFrame for URL: https://www.estimize.com/NKE/fq1-2022?metric_name=eps&chart=historical\n"
     ]
    },
    {
     "name": "stderr",
     "output_type": "stream",
     "text": [
      "C:\\Users\\mhunt\\AppData\\Local\\Temp\\ipykernel_7800\\329258333.py:29: FutureWarning: Passing literal html to 'read_html' is deprecated and will be removed in a future version. To read from a literal string, wrap it in a 'StringIO' object.\n",
      "  df = pd.read_html(table_html)[0]\n"
     ]
    },
    {
     "name": "stdout",
     "output_type": "stream",
     "text": [
      "Table found and converted to DataFrame for URL: https://www.estimize.com/NKE/fq2-2022?metric_name=eps&chart=historical\n"
     ]
    },
    {
     "name": "stderr",
     "output_type": "stream",
     "text": [
      "C:\\Users\\mhunt\\AppData\\Local\\Temp\\ipykernel_7800\\329258333.py:29: FutureWarning: Passing literal html to 'read_html' is deprecated and will be removed in a future version. To read from a literal string, wrap it in a 'StringIO' object.\n",
      "  df = pd.read_html(table_html)[0]\n"
     ]
    },
    {
     "name": "stdout",
     "output_type": "stream",
     "text": [
      "Table found and converted to DataFrame for URL: https://www.estimize.com/NKE/fq3-2022?metric_name=eps&chart=historical\n"
     ]
    },
    {
     "name": "stderr",
     "output_type": "stream",
     "text": [
      "C:\\Users\\mhunt\\AppData\\Local\\Temp\\ipykernel_7800\\329258333.py:29: FutureWarning: Passing literal html to 'read_html' is deprecated and will be removed in a future version. To read from a literal string, wrap it in a 'StringIO' object.\n",
      "  df = pd.read_html(table_html)[0]\n"
     ]
    },
    {
     "name": "stdout",
     "output_type": "stream",
     "text": [
      "Table found and converted to DataFrame for URL: https://www.estimize.com/NKE/fq4-2022?metric_name=eps&chart=historical\n"
     ]
    },
    {
     "name": "stderr",
     "output_type": "stream",
     "text": [
      "C:\\Users\\mhunt\\AppData\\Local\\Temp\\ipykernel_7800\\329258333.py:29: FutureWarning: Passing literal html to 'read_html' is deprecated and will be removed in a future version. To read from a literal string, wrap it in a 'StringIO' object.\n",
      "  df = pd.read_html(table_html)[0]\n"
     ]
    },
    {
     "name": "stdout",
     "output_type": "stream",
     "text": [
      "Table found and converted to DataFrame for URL: https://www.estimize.com/ORCL/fq1-2020?metric_name=eps&chart=historical\n"
     ]
    },
    {
     "name": "stderr",
     "output_type": "stream",
     "text": [
      "C:\\Users\\mhunt\\AppData\\Local\\Temp\\ipykernel_7800\\329258333.py:29: FutureWarning: Passing literal html to 'read_html' is deprecated and will be removed in a future version. To read from a literal string, wrap it in a 'StringIO' object.\n",
      "  df = pd.read_html(table_html)[0]\n"
     ]
    },
    {
     "name": "stdout",
     "output_type": "stream",
     "text": [
      "Table found and converted to DataFrame for URL: https://www.estimize.com/ORCL/fq2-2020?metric_name=eps&chart=historical\n"
     ]
    },
    {
     "name": "stderr",
     "output_type": "stream",
     "text": [
      "C:\\Users\\mhunt\\AppData\\Local\\Temp\\ipykernel_7800\\329258333.py:29: FutureWarning: Passing literal html to 'read_html' is deprecated and will be removed in a future version. To read from a literal string, wrap it in a 'StringIO' object.\n",
      "  df = pd.read_html(table_html)[0]\n"
     ]
    },
    {
     "name": "stdout",
     "output_type": "stream",
     "text": [
      "Table found and converted to DataFrame for URL: https://www.estimize.com/ORCL/fq3-2020?metric_name=eps&chart=historical\n"
     ]
    },
    {
     "name": "stderr",
     "output_type": "stream",
     "text": [
      "C:\\Users\\mhunt\\AppData\\Local\\Temp\\ipykernel_7800\\329258333.py:29: FutureWarning: Passing literal html to 'read_html' is deprecated and will be removed in a future version. To read from a literal string, wrap it in a 'StringIO' object.\n",
      "  df = pd.read_html(table_html)[0]\n"
     ]
    },
    {
     "name": "stdout",
     "output_type": "stream",
     "text": [
      "Table found and converted to DataFrame for URL: https://www.estimize.com/ORCL/fq4-2020?metric_name=eps&chart=historical\n"
     ]
    },
    {
     "name": "stderr",
     "output_type": "stream",
     "text": [
      "C:\\Users\\mhunt\\AppData\\Local\\Temp\\ipykernel_7800\\329258333.py:29: FutureWarning: Passing literal html to 'read_html' is deprecated and will be removed in a future version. To read from a literal string, wrap it in a 'StringIO' object.\n",
      "  df = pd.read_html(table_html)[0]\n"
     ]
    },
    {
     "name": "stdout",
     "output_type": "stream",
     "text": [
      "Table found and converted to DataFrame for URL: https://www.estimize.com/ORCL/fq1-2021?metric_name=eps&chart=historical\n"
     ]
    },
    {
     "name": "stderr",
     "output_type": "stream",
     "text": [
      "C:\\Users\\mhunt\\AppData\\Local\\Temp\\ipykernel_7800\\329258333.py:29: FutureWarning: Passing literal html to 'read_html' is deprecated and will be removed in a future version. To read from a literal string, wrap it in a 'StringIO' object.\n",
      "  df = pd.read_html(table_html)[0]\n"
     ]
    },
    {
     "name": "stdout",
     "output_type": "stream",
     "text": [
      "Table found and converted to DataFrame for URL: https://www.estimize.com/ORCL/fq2-2021?metric_name=eps&chart=historical\n"
     ]
    },
    {
     "name": "stderr",
     "output_type": "stream",
     "text": [
      "C:\\Users\\mhunt\\AppData\\Local\\Temp\\ipykernel_7800\\329258333.py:29: FutureWarning: Passing literal html to 'read_html' is deprecated and will be removed in a future version. To read from a literal string, wrap it in a 'StringIO' object.\n",
      "  df = pd.read_html(table_html)[0]\n"
     ]
    },
    {
     "name": "stdout",
     "output_type": "stream",
     "text": [
      "Table found and converted to DataFrame for URL: https://www.estimize.com/ORCL/fq3-2021?metric_name=eps&chart=historical\n"
     ]
    },
    {
     "name": "stderr",
     "output_type": "stream",
     "text": [
      "C:\\Users\\mhunt\\AppData\\Local\\Temp\\ipykernel_7800\\329258333.py:29: FutureWarning: Passing literal html to 'read_html' is deprecated and will be removed in a future version. To read from a literal string, wrap it in a 'StringIO' object.\n",
      "  df = pd.read_html(table_html)[0]\n"
     ]
    },
    {
     "name": "stdout",
     "output_type": "stream",
     "text": [
      "Table found and converted to DataFrame for URL: https://www.estimize.com/ORCL/fq4-2021?metric_name=eps&chart=historical\n"
     ]
    },
    {
     "name": "stderr",
     "output_type": "stream",
     "text": [
      "C:\\Users\\mhunt\\AppData\\Local\\Temp\\ipykernel_7800\\329258333.py:29: FutureWarning: Passing literal html to 'read_html' is deprecated and will be removed in a future version. To read from a literal string, wrap it in a 'StringIO' object.\n",
      "  df = pd.read_html(table_html)[0]\n"
     ]
    },
    {
     "name": "stdout",
     "output_type": "stream",
     "text": [
      "Table found and converted to DataFrame for URL: https://www.estimize.com/ORCL/fq1-2022?metric_name=eps&chart=historical\n"
     ]
    },
    {
     "name": "stderr",
     "output_type": "stream",
     "text": [
      "C:\\Users\\mhunt\\AppData\\Local\\Temp\\ipykernel_7800\\329258333.py:29: FutureWarning: Passing literal html to 'read_html' is deprecated and will be removed in a future version. To read from a literal string, wrap it in a 'StringIO' object.\n",
      "  df = pd.read_html(table_html)[0]\n"
     ]
    },
    {
     "name": "stdout",
     "output_type": "stream",
     "text": [
      "Table found and converted to DataFrame for URL: https://www.estimize.com/ORCL/fq2-2022?metric_name=eps&chart=historical\n"
     ]
    },
    {
     "name": "stderr",
     "output_type": "stream",
     "text": [
      "C:\\Users\\mhunt\\AppData\\Local\\Temp\\ipykernel_7800\\329258333.py:29: FutureWarning: Passing literal html to 'read_html' is deprecated and will be removed in a future version. To read from a literal string, wrap it in a 'StringIO' object.\n",
      "  df = pd.read_html(table_html)[0]\n"
     ]
    },
    {
     "name": "stdout",
     "output_type": "stream",
     "text": [
      "Table found and converted to DataFrame for URL: https://www.estimize.com/ORCL/fq3-2022?metric_name=eps&chart=historical\n"
     ]
    },
    {
     "name": "stderr",
     "output_type": "stream",
     "text": [
      "C:\\Users\\mhunt\\AppData\\Local\\Temp\\ipykernel_7800\\329258333.py:29: FutureWarning: Passing literal html to 'read_html' is deprecated and will be removed in a future version. To read from a literal string, wrap it in a 'StringIO' object.\n",
      "  df = pd.read_html(table_html)[0]\n"
     ]
    },
    {
     "name": "stdout",
     "output_type": "stream",
     "text": [
      "Table found and converted to DataFrame for URL: https://www.estimize.com/ORCL/fq4-2022?metric_name=eps&chart=historical\n"
     ]
    },
    {
     "name": "stderr",
     "output_type": "stream",
     "text": [
      "C:\\Users\\mhunt\\AppData\\Local\\Temp\\ipykernel_7800\\329258333.py:29: FutureWarning: Passing literal html to 'read_html' is deprecated and will be removed in a future version. To read from a literal string, wrap it in a 'StringIO' object.\n",
      "  df = pd.read_html(table_html)[0]\n"
     ]
    },
    {
     "name": "stdout",
     "output_type": "stream",
     "text": [
      "Table found and converted to DataFrame for URL: https://www.estimize.com/BB/fq1-2020?metric_name=eps&chart=historical\n"
     ]
    },
    {
     "name": "stderr",
     "output_type": "stream",
     "text": [
      "C:\\Users\\mhunt\\AppData\\Local\\Temp\\ipykernel_7800\\329258333.py:29: FutureWarning: Passing literal html to 'read_html' is deprecated and will be removed in a future version. To read from a literal string, wrap it in a 'StringIO' object.\n",
      "  df = pd.read_html(table_html)[0]\n"
     ]
    },
    {
     "name": "stdout",
     "output_type": "stream",
     "text": [
      "Table found and converted to DataFrame for URL: https://www.estimize.com/BB/fq2-2020?metric_name=eps&chart=historical\n"
     ]
    },
    {
     "name": "stderr",
     "output_type": "stream",
     "text": [
      "C:\\Users\\mhunt\\AppData\\Local\\Temp\\ipykernel_7800\\329258333.py:29: FutureWarning: Passing literal html to 'read_html' is deprecated and will be removed in a future version. To read from a literal string, wrap it in a 'StringIO' object.\n",
      "  df = pd.read_html(table_html)[0]\n"
     ]
    },
    {
     "name": "stdout",
     "output_type": "stream",
     "text": [
      "Table found and converted to DataFrame for URL: https://www.estimize.com/BB/fq3-2020?metric_name=eps&chart=historical\n"
     ]
    },
    {
     "name": "stderr",
     "output_type": "stream",
     "text": [
      "C:\\Users\\mhunt\\AppData\\Local\\Temp\\ipykernel_7800\\329258333.py:29: FutureWarning: Passing literal html to 'read_html' is deprecated and will be removed in a future version. To read from a literal string, wrap it in a 'StringIO' object.\n",
      "  df = pd.read_html(table_html)[0]\n"
     ]
    },
    {
     "name": "stdout",
     "output_type": "stream",
     "text": [
      "Table found and converted to DataFrame for URL: https://www.estimize.com/BB/fq4-2020?metric_name=eps&chart=historical\n"
     ]
    },
    {
     "name": "stderr",
     "output_type": "stream",
     "text": [
      "C:\\Users\\mhunt\\AppData\\Local\\Temp\\ipykernel_7800\\329258333.py:29: FutureWarning: Passing literal html to 'read_html' is deprecated and will be removed in a future version. To read from a literal string, wrap it in a 'StringIO' object.\n",
      "  df = pd.read_html(table_html)[0]\n"
     ]
    },
    {
     "name": "stdout",
     "output_type": "stream",
     "text": [
      "Table found and converted to DataFrame for URL: https://www.estimize.com/BB/fq1-2021?metric_name=eps&chart=historical\n"
     ]
    },
    {
     "name": "stderr",
     "output_type": "stream",
     "text": [
      "C:\\Users\\mhunt\\AppData\\Local\\Temp\\ipykernel_7800\\329258333.py:29: FutureWarning: Passing literal html to 'read_html' is deprecated and will be removed in a future version. To read from a literal string, wrap it in a 'StringIO' object.\n",
      "  df = pd.read_html(table_html)[0]\n"
     ]
    },
    {
     "name": "stdout",
     "output_type": "stream",
     "text": [
      "Table found and converted to DataFrame for URL: https://www.estimize.com/BB/fq2-2021?metric_name=eps&chart=historical\n"
     ]
    },
    {
     "name": "stderr",
     "output_type": "stream",
     "text": [
      "C:\\Users\\mhunt\\AppData\\Local\\Temp\\ipykernel_7800\\329258333.py:29: FutureWarning: Passing literal html to 'read_html' is deprecated and will be removed in a future version. To read from a literal string, wrap it in a 'StringIO' object.\n",
      "  df = pd.read_html(table_html)[0]\n"
     ]
    },
    {
     "name": "stdout",
     "output_type": "stream",
     "text": [
      "Table found and converted to DataFrame for URL: https://www.estimize.com/BB/fq3-2021?metric_name=eps&chart=historical\n"
     ]
    },
    {
     "name": "stderr",
     "output_type": "stream",
     "text": [
      "C:\\Users\\mhunt\\AppData\\Local\\Temp\\ipykernel_7800\\329258333.py:29: FutureWarning: Passing literal html to 'read_html' is deprecated and will be removed in a future version. To read from a literal string, wrap it in a 'StringIO' object.\n",
      "  df = pd.read_html(table_html)[0]\n"
     ]
    },
    {
     "name": "stdout",
     "output_type": "stream",
     "text": [
      "Table found and converted to DataFrame for URL: https://www.estimize.com/BB/fq4-2021?metric_name=eps&chart=historical\n"
     ]
    },
    {
     "name": "stderr",
     "output_type": "stream",
     "text": [
      "C:\\Users\\mhunt\\AppData\\Local\\Temp\\ipykernel_7800\\329258333.py:29: FutureWarning: Passing literal html to 'read_html' is deprecated and will be removed in a future version. To read from a literal string, wrap it in a 'StringIO' object.\n",
      "  df = pd.read_html(table_html)[0]\n"
     ]
    },
    {
     "name": "stdout",
     "output_type": "stream",
     "text": [
      "Table found and converted to DataFrame for URL: https://www.estimize.com/BB/fq1-2022?metric_name=eps&chart=historical\n"
     ]
    },
    {
     "name": "stderr",
     "output_type": "stream",
     "text": [
      "C:\\Users\\mhunt\\AppData\\Local\\Temp\\ipykernel_7800\\329258333.py:29: FutureWarning: Passing literal html to 'read_html' is deprecated and will be removed in a future version. To read from a literal string, wrap it in a 'StringIO' object.\n",
      "  df = pd.read_html(table_html)[0]\n"
     ]
    },
    {
     "name": "stdout",
     "output_type": "stream",
     "text": [
      "Table found and converted to DataFrame for URL: https://www.estimize.com/BB/fq2-2022?metric_name=eps&chart=historical\n"
     ]
    },
    {
     "name": "stderr",
     "output_type": "stream",
     "text": [
      "C:\\Users\\mhunt\\AppData\\Local\\Temp\\ipykernel_7800\\329258333.py:29: FutureWarning: Passing literal html to 'read_html' is deprecated and will be removed in a future version. To read from a literal string, wrap it in a 'StringIO' object.\n",
      "  df = pd.read_html(table_html)[0]\n"
     ]
    },
    {
     "name": "stdout",
     "output_type": "stream",
     "text": [
      "Table found and converted to DataFrame for URL: https://www.estimize.com/BB/fq3-2022?metric_name=eps&chart=historical\n"
     ]
    },
    {
     "name": "stderr",
     "output_type": "stream",
     "text": [
      "C:\\Users\\mhunt\\AppData\\Local\\Temp\\ipykernel_7800\\329258333.py:29: FutureWarning: Passing literal html to 'read_html' is deprecated and will be removed in a future version. To read from a literal string, wrap it in a 'StringIO' object.\n",
      "  df = pd.read_html(table_html)[0]\n"
     ]
    },
    {
     "name": "stdout",
     "output_type": "stream",
     "text": [
      "Table found and converted to DataFrame for URL: https://www.estimize.com/BB/fq4-2022?metric_name=eps&chart=historical\n"
     ]
    },
    {
     "name": "stderr",
     "output_type": "stream",
     "text": [
      "C:\\Users\\mhunt\\AppData\\Local\\Temp\\ipykernel_7800\\329258333.py:29: FutureWarning: Passing literal html to 'read_html' is deprecated and will be removed in a future version. To read from a literal string, wrap it in a 'StringIO' object.\n",
      "  df = pd.read_html(table_html)[0]\n"
     ]
    },
    {
     "name": "stdout",
     "output_type": "stream",
     "text": [
      "Table found and converted to DataFrame for URL: https://www.estimize.com/HPQ/fq1-2020?metric_name=eps&chart=historical\n"
     ]
    },
    {
     "name": "stderr",
     "output_type": "stream",
     "text": [
      "C:\\Users\\mhunt\\AppData\\Local\\Temp\\ipykernel_7800\\329258333.py:29: FutureWarning: Passing literal html to 'read_html' is deprecated and will be removed in a future version. To read from a literal string, wrap it in a 'StringIO' object.\n",
      "  df = pd.read_html(table_html)[0]\n"
     ]
    },
    {
     "name": "stdout",
     "output_type": "stream",
     "text": [
      "Table found and converted to DataFrame for URL: https://www.estimize.com/HPQ/fq2-2020?metric_name=eps&chart=historical\n"
     ]
    },
    {
     "name": "stderr",
     "output_type": "stream",
     "text": [
      "C:\\Users\\mhunt\\AppData\\Local\\Temp\\ipykernel_7800\\329258333.py:29: FutureWarning: Passing literal html to 'read_html' is deprecated and will be removed in a future version. To read from a literal string, wrap it in a 'StringIO' object.\n",
      "  df = pd.read_html(table_html)[0]\n"
     ]
    },
    {
     "name": "stdout",
     "output_type": "stream",
     "text": [
      "Table found and converted to DataFrame for URL: https://www.estimize.com/HPQ/fq3-2020?metric_name=eps&chart=historical\n"
     ]
    },
    {
     "name": "stderr",
     "output_type": "stream",
     "text": [
      "C:\\Users\\mhunt\\AppData\\Local\\Temp\\ipykernel_7800\\329258333.py:29: FutureWarning: Passing literal html to 'read_html' is deprecated and will be removed in a future version. To read from a literal string, wrap it in a 'StringIO' object.\n",
      "  df = pd.read_html(table_html)[0]\n"
     ]
    },
    {
     "name": "stdout",
     "output_type": "stream",
     "text": [
      "Table found and converted to DataFrame for URL: https://www.estimize.com/HPQ/fq4-2020?metric_name=eps&chart=historical\n",
      "Link not found or unable to click for URL: https://www.estimize.com/HPQ/fq1-2021?metric_name=eps&chart=historical\n",
      "Table found and converted to DataFrame for URL: https://www.estimize.com/HPQ/fq1-2021?metric_name=eps&chart=historical\n"
     ]
    },
    {
     "name": "stderr",
     "output_type": "stream",
     "text": [
      "C:\\Users\\mhunt\\AppData\\Local\\Temp\\ipykernel_7800\\329258333.py:29: FutureWarning: Passing literal html to 'read_html' is deprecated and will be removed in a future version. To read from a literal string, wrap it in a 'StringIO' object.\n",
      "  df = pd.read_html(table_html)[0]\n",
      "C:\\Users\\mhunt\\AppData\\Local\\Temp\\ipykernel_7800\\329258333.py:29: FutureWarning: Passing literal html to 'read_html' is deprecated and will be removed in a future version. To read from a literal string, wrap it in a 'StringIO' object.\n",
      "  df = pd.read_html(table_html)[0]\n"
     ]
    },
    {
     "name": "stdout",
     "output_type": "stream",
     "text": [
      "Table found and converted to DataFrame for URL: https://www.estimize.com/HPQ/fq2-2021?metric_name=eps&chart=historical\n",
      "Link not found or unable to click for URL: https://www.estimize.com/HPQ/fq3-2021?metric_name=eps&chart=historical\n",
      "Table found and converted to DataFrame for URL: https://www.estimize.com/HPQ/fq3-2021?metric_name=eps&chart=historical\n"
     ]
    },
    {
     "name": "stderr",
     "output_type": "stream",
     "text": [
      "C:\\Users\\mhunt\\AppData\\Local\\Temp\\ipykernel_7800\\329258333.py:29: FutureWarning: Passing literal html to 'read_html' is deprecated and will be removed in a future version. To read from a literal string, wrap it in a 'StringIO' object.\n",
      "  df = pd.read_html(table_html)[0]\n"
     ]
    },
    {
     "name": "stdout",
     "output_type": "stream",
     "text": [
      "Link not found or unable to click for URL: https://www.estimize.com/HPQ/fq4-2021?metric_name=eps&chart=historical\n",
      "Table found and converted to DataFrame for URL: https://www.estimize.com/HPQ/fq4-2021?metric_name=eps&chart=historical\n"
     ]
    },
    {
     "name": "stderr",
     "output_type": "stream",
     "text": [
      "C:\\Users\\mhunt\\AppData\\Local\\Temp\\ipykernel_7800\\329258333.py:29: FutureWarning: Passing literal html to 'read_html' is deprecated and will be removed in a future version. To read from a literal string, wrap it in a 'StringIO' object.\n",
      "  df = pd.read_html(table_html)[0]\n"
     ]
    },
    {
     "name": "stdout",
     "output_type": "stream",
     "text": [
      "Link not found or unable to click for URL: https://www.estimize.com/HPQ/fq1-2022?metric_name=eps&chart=historical\n",
      "Table found and converted to DataFrame for URL: https://www.estimize.com/HPQ/fq1-2022?metric_name=eps&chart=historical\n"
     ]
    },
    {
     "name": "stderr",
     "output_type": "stream",
     "text": [
      "C:\\Users\\mhunt\\AppData\\Local\\Temp\\ipykernel_7800\\329258333.py:29: FutureWarning: Passing literal html to 'read_html' is deprecated and will be removed in a future version. To read from a literal string, wrap it in a 'StringIO' object.\n",
      "  df = pd.read_html(table_html)[0]\n",
      "C:\\Users\\mhunt\\AppData\\Local\\Temp\\ipykernel_7800\\329258333.py:29: FutureWarning: Passing literal html to 'read_html' is deprecated and will be removed in a future version. To read from a literal string, wrap it in a 'StringIO' object.\n",
      "  df = pd.read_html(table_html)[0]\n"
     ]
    },
    {
     "name": "stdout",
     "output_type": "stream",
     "text": [
      "Table found and converted to DataFrame for URL: https://www.estimize.com/HPQ/fq2-2022?metric_name=eps&chart=historical\n",
      "Link not found or unable to click for URL: https://www.estimize.com/HPQ/fq3-2022?metric_name=eps&chart=historical\n",
      "Table found and converted to DataFrame for URL: https://www.estimize.com/HPQ/fq3-2022?metric_name=eps&chart=historical\n"
     ]
    },
    {
     "name": "stderr",
     "output_type": "stream",
     "text": [
      "C:\\Users\\mhunt\\AppData\\Local\\Temp\\ipykernel_7800\\329258333.py:29: FutureWarning: Passing literal html to 'read_html' is deprecated and will be removed in a future version. To read from a literal string, wrap it in a 'StringIO' object.\n",
      "  df = pd.read_html(table_html)[0]\n"
     ]
    },
    {
     "name": "stdout",
     "output_type": "stream",
     "text": [
      "Link not found or unable to click for URL: https://www.estimize.com/HPQ/fq4-2022?metric_name=eps&chart=historical\n",
      "Table found and converted to DataFrame for URL: https://www.estimize.com/HPQ/fq4-2022?metric_name=eps&chart=historical\n"
     ]
    },
    {
     "name": "stderr",
     "output_type": "stream",
     "text": [
      "C:\\Users\\mhunt\\AppData\\Local\\Temp\\ipykernel_7800\\329258333.py:29: FutureWarning: Passing literal html to 'read_html' is deprecated and will be removed in a future version. To read from a literal string, wrap it in a 'StringIO' object.\n",
      "  df = pd.read_html(table_html)[0]\n",
      "C:\\Users\\mhunt\\AppData\\Local\\Temp\\ipykernel_7800\\329258333.py:29: FutureWarning: Passing literal html to 'read_html' is deprecated and will be removed in a future version. To read from a literal string, wrap it in a 'StringIO' object.\n",
      "  df = pd.read_html(table_html)[0]\n"
     ]
    },
    {
     "name": "stdout",
     "output_type": "stream",
     "text": [
      "Table found and converted to DataFrame for URL: https://www.estimize.com/COST/fq1-2020?metric_name=eps&chart=historical\n"
     ]
    },
    {
     "name": "stderr",
     "output_type": "stream",
     "text": [
      "C:\\Users\\mhunt\\AppData\\Local\\Temp\\ipykernel_7800\\329258333.py:29: FutureWarning: Passing literal html to 'read_html' is deprecated and will be removed in a future version. To read from a literal string, wrap it in a 'StringIO' object.\n",
      "  df = pd.read_html(table_html)[0]\n"
     ]
    },
    {
     "name": "stdout",
     "output_type": "stream",
     "text": [
      "Table found and converted to DataFrame for URL: https://www.estimize.com/COST/fq2-2020?metric_name=eps&chart=historical\n"
     ]
    },
    {
     "name": "stderr",
     "output_type": "stream",
     "text": [
      "C:\\Users\\mhunt\\AppData\\Local\\Temp\\ipykernel_7800\\329258333.py:29: FutureWarning: Passing literal html to 'read_html' is deprecated and will be removed in a future version. To read from a literal string, wrap it in a 'StringIO' object.\n",
      "  df = pd.read_html(table_html)[0]\n"
     ]
    },
    {
     "name": "stdout",
     "output_type": "stream",
     "text": [
      "Table found and converted to DataFrame for URL: https://www.estimize.com/COST/fq3-2020?metric_name=eps&chart=historical\n"
     ]
    },
    {
     "name": "stderr",
     "output_type": "stream",
     "text": [
      "C:\\Users\\mhunt\\AppData\\Local\\Temp\\ipykernel_7800\\329258333.py:29: FutureWarning: Passing literal html to 'read_html' is deprecated and will be removed in a future version. To read from a literal string, wrap it in a 'StringIO' object.\n",
      "  df = pd.read_html(table_html)[0]\n"
     ]
    },
    {
     "name": "stdout",
     "output_type": "stream",
     "text": [
      "Table found and converted to DataFrame for URL: https://www.estimize.com/COST/fq4-2020?metric_name=eps&chart=historical\n"
     ]
    },
    {
     "name": "stderr",
     "output_type": "stream",
     "text": [
      "C:\\Users\\mhunt\\AppData\\Local\\Temp\\ipykernel_7800\\329258333.py:29: FutureWarning: Passing literal html to 'read_html' is deprecated and will be removed in a future version. To read from a literal string, wrap it in a 'StringIO' object.\n",
      "  df = pd.read_html(table_html)[0]\n"
     ]
    },
    {
     "name": "stdout",
     "output_type": "stream",
     "text": [
      "Table found and converted to DataFrame for URL: https://www.estimize.com/COST/fq1-2021?metric_name=eps&chart=historical\n"
     ]
    },
    {
     "name": "stderr",
     "output_type": "stream",
     "text": [
      "C:\\Users\\mhunt\\AppData\\Local\\Temp\\ipykernel_7800\\329258333.py:29: FutureWarning: Passing literal html to 'read_html' is deprecated and will be removed in a future version. To read from a literal string, wrap it in a 'StringIO' object.\n",
      "  df = pd.read_html(table_html)[0]\n"
     ]
    },
    {
     "name": "stdout",
     "output_type": "stream",
     "text": [
      "Table found and converted to DataFrame for URL: https://www.estimize.com/COST/fq2-2021?metric_name=eps&chart=historical\n"
     ]
    },
    {
     "name": "stderr",
     "output_type": "stream",
     "text": [
      "C:\\Users\\mhunt\\AppData\\Local\\Temp\\ipykernel_7800\\329258333.py:29: FutureWarning: Passing literal html to 'read_html' is deprecated and will be removed in a future version. To read from a literal string, wrap it in a 'StringIO' object.\n",
      "  df = pd.read_html(table_html)[0]\n"
     ]
    },
    {
     "name": "stdout",
     "output_type": "stream",
     "text": [
      "Table found and converted to DataFrame for URL: https://www.estimize.com/COST/fq3-2021?metric_name=eps&chart=historical\n"
     ]
    },
    {
     "name": "stderr",
     "output_type": "stream",
     "text": [
      "C:\\Users\\mhunt\\AppData\\Local\\Temp\\ipykernel_7800\\329258333.py:29: FutureWarning: Passing literal html to 'read_html' is deprecated and will be removed in a future version. To read from a literal string, wrap it in a 'StringIO' object.\n",
      "  df = pd.read_html(table_html)[0]\n"
     ]
    },
    {
     "name": "stdout",
     "output_type": "stream",
     "text": [
      "Table found and converted to DataFrame for URL: https://www.estimize.com/COST/fq4-2021?metric_name=eps&chart=historical\n"
     ]
    },
    {
     "name": "stderr",
     "output_type": "stream",
     "text": [
      "C:\\Users\\mhunt\\AppData\\Local\\Temp\\ipykernel_7800\\329258333.py:29: FutureWarning: Passing literal html to 'read_html' is deprecated and will be removed in a future version. To read from a literal string, wrap it in a 'StringIO' object.\n",
      "  df = pd.read_html(table_html)[0]\n"
     ]
    },
    {
     "name": "stdout",
     "output_type": "stream",
     "text": [
      "Table found and converted to DataFrame for URL: https://www.estimize.com/COST/fq1-2022?metric_name=eps&chart=historical\n"
     ]
    },
    {
     "name": "stderr",
     "output_type": "stream",
     "text": [
      "C:\\Users\\mhunt\\AppData\\Local\\Temp\\ipykernel_7800\\329258333.py:29: FutureWarning: Passing literal html to 'read_html' is deprecated and will be removed in a future version. To read from a literal string, wrap it in a 'StringIO' object.\n",
      "  df = pd.read_html(table_html)[0]\n"
     ]
    },
    {
     "name": "stdout",
     "output_type": "stream",
     "text": [
      "Table found and converted to DataFrame for URL: https://www.estimize.com/COST/fq2-2022?metric_name=eps&chart=historical\n"
     ]
    },
    {
     "name": "stderr",
     "output_type": "stream",
     "text": [
      "C:\\Users\\mhunt\\AppData\\Local\\Temp\\ipykernel_7800\\329258333.py:29: FutureWarning: Passing literal html to 'read_html' is deprecated and will be removed in a future version. To read from a literal string, wrap it in a 'StringIO' object.\n",
      "  df = pd.read_html(table_html)[0]\n"
     ]
    },
    {
     "name": "stdout",
     "output_type": "stream",
     "text": [
      "Table found and converted to DataFrame for URL: https://www.estimize.com/COST/fq3-2022?metric_name=eps&chart=historical\n"
     ]
    },
    {
     "name": "stderr",
     "output_type": "stream",
     "text": [
      "C:\\Users\\mhunt\\AppData\\Local\\Temp\\ipykernel_7800\\329258333.py:29: FutureWarning: Passing literal html to 'read_html' is deprecated and will be removed in a future version. To read from a literal string, wrap it in a 'StringIO' object.\n",
      "  df = pd.read_html(table_html)[0]\n"
     ]
    },
    {
     "name": "stdout",
     "output_type": "stream",
     "text": [
      "Table found and converted to DataFrame for URL: https://www.estimize.com/COST/fq4-2022?metric_name=eps&chart=historical\n"
     ]
    },
    {
     "name": "stderr",
     "output_type": "stream",
     "text": [
      "C:\\Users\\mhunt\\AppData\\Local\\Temp\\ipykernel_7800\\329258333.py:29: FutureWarning: Passing literal html to 'read_html' is deprecated and will be removed in a future version. To read from a literal string, wrap it in a 'StringIO' object.\n",
      "  df = pd.read_html(table_html)[0]\n"
     ]
    },
    {
     "name": "stdout",
     "output_type": "stream",
     "text": [
      "Table found and converted to DataFrame for URL: https://www.estimize.com/AMAT/fq1-2020?metric_name=eps&chart=historical\n"
     ]
    },
    {
     "name": "stderr",
     "output_type": "stream",
     "text": [
      "C:\\Users\\mhunt\\AppData\\Local\\Temp\\ipykernel_7800\\329258333.py:29: FutureWarning: Passing literal html to 'read_html' is deprecated and will be removed in a future version. To read from a literal string, wrap it in a 'StringIO' object.\n",
      "  df = pd.read_html(table_html)[0]\n"
     ]
    },
    {
     "name": "stdout",
     "output_type": "stream",
     "text": [
      "Table found and converted to DataFrame for URL: https://www.estimize.com/AMAT/fq2-2020?metric_name=eps&chart=historical\n"
     ]
    },
    {
     "name": "stderr",
     "output_type": "stream",
     "text": [
      "C:\\Users\\mhunt\\AppData\\Local\\Temp\\ipykernel_7800\\329258333.py:29: FutureWarning: Passing literal html to 'read_html' is deprecated and will be removed in a future version. To read from a literal string, wrap it in a 'StringIO' object.\n",
      "  df = pd.read_html(table_html)[0]\n"
     ]
    },
    {
     "name": "stdout",
     "output_type": "stream",
     "text": [
      "Table found and converted to DataFrame for URL: https://www.estimize.com/AMAT/fq3-2020?metric_name=eps&chart=historical\n"
     ]
    },
    {
     "name": "stderr",
     "output_type": "stream",
     "text": [
      "C:\\Users\\mhunt\\AppData\\Local\\Temp\\ipykernel_7800\\329258333.py:29: FutureWarning: Passing literal html to 'read_html' is deprecated and will be removed in a future version. To read from a literal string, wrap it in a 'StringIO' object.\n",
      "  df = pd.read_html(table_html)[0]\n"
     ]
    },
    {
     "name": "stdout",
     "output_type": "stream",
     "text": [
      "Table found and converted to DataFrame for URL: https://www.estimize.com/AMAT/fq4-2020?metric_name=eps&chart=historical\n"
     ]
    },
    {
     "name": "stderr",
     "output_type": "stream",
     "text": [
      "C:\\Users\\mhunt\\AppData\\Local\\Temp\\ipykernel_7800\\329258333.py:29: FutureWarning: Passing literal html to 'read_html' is deprecated and will be removed in a future version. To read from a literal string, wrap it in a 'StringIO' object.\n",
      "  df = pd.read_html(table_html)[0]\n"
     ]
    },
    {
     "name": "stdout",
     "output_type": "stream",
     "text": [
      "Table found and converted to DataFrame for URL: https://www.estimize.com/AMAT/fq1-2021?metric_name=eps&chart=historical\n"
     ]
    },
    {
     "name": "stderr",
     "output_type": "stream",
     "text": [
      "C:\\Users\\mhunt\\AppData\\Local\\Temp\\ipykernel_7800\\329258333.py:29: FutureWarning: Passing literal html to 'read_html' is deprecated and will be removed in a future version. To read from a literal string, wrap it in a 'StringIO' object.\n",
      "  df = pd.read_html(table_html)[0]\n"
     ]
    },
    {
     "name": "stdout",
     "output_type": "stream",
     "text": [
      "Table found and converted to DataFrame for URL: https://www.estimize.com/AMAT/fq2-2021?metric_name=eps&chart=historical\n"
     ]
    },
    {
     "name": "stderr",
     "output_type": "stream",
     "text": [
      "C:\\Users\\mhunt\\AppData\\Local\\Temp\\ipykernel_7800\\329258333.py:29: FutureWarning: Passing literal html to 'read_html' is deprecated and will be removed in a future version. To read from a literal string, wrap it in a 'StringIO' object.\n",
      "  df = pd.read_html(table_html)[0]\n"
     ]
    },
    {
     "name": "stdout",
     "output_type": "stream",
     "text": [
      "Table found and converted to DataFrame for URL: https://www.estimize.com/AMAT/fq3-2021?metric_name=eps&chart=historical\n"
     ]
    },
    {
     "name": "stderr",
     "output_type": "stream",
     "text": [
      "C:\\Users\\mhunt\\AppData\\Local\\Temp\\ipykernel_7800\\329258333.py:29: FutureWarning: Passing literal html to 'read_html' is deprecated and will be removed in a future version. To read from a literal string, wrap it in a 'StringIO' object.\n",
      "  df = pd.read_html(table_html)[0]\n"
     ]
    },
    {
     "name": "stdout",
     "output_type": "stream",
     "text": [
      "Table found and converted to DataFrame for URL: https://www.estimize.com/AMAT/fq4-2021?metric_name=eps&chart=historical\n"
     ]
    },
    {
     "name": "stderr",
     "output_type": "stream",
     "text": [
      "C:\\Users\\mhunt\\AppData\\Local\\Temp\\ipykernel_7800\\329258333.py:29: FutureWarning: Passing literal html to 'read_html' is deprecated and will be removed in a future version. To read from a literal string, wrap it in a 'StringIO' object.\n",
      "  df = pd.read_html(table_html)[0]\n"
     ]
    },
    {
     "name": "stdout",
     "output_type": "stream",
     "text": [
      "Table found and converted to DataFrame for URL: https://www.estimize.com/AMAT/fq1-2022?metric_name=eps&chart=historical\n"
     ]
    },
    {
     "name": "stderr",
     "output_type": "stream",
     "text": [
      "C:\\Users\\mhunt\\AppData\\Local\\Temp\\ipykernel_7800\\329258333.py:29: FutureWarning: Passing literal html to 'read_html' is deprecated and will be removed in a future version. To read from a literal string, wrap it in a 'StringIO' object.\n",
      "  df = pd.read_html(table_html)[0]\n"
     ]
    },
    {
     "name": "stdout",
     "output_type": "stream",
     "text": [
      "Table found and converted to DataFrame for URL: https://www.estimize.com/AMAT/fq2-2022?metric_name=eps&chart=historical\n"
     ]
    },
    {
     "name": "stderr",
     "output_type": "stream",
     "text": [
      "C:\\Users\\mhunt\\AppData\\Local\\Temp\\ipykernel_7800\\329258333.py:29: FutureWarning: Passing literal html to 'read_html' is deprecated and will be removed in a future version. To read from a literal string, wrap it in a 'StringIO' object.\n",
      "  df = pd.read_html(table_html)[0]\n"
     ]
    },
    {
     "name": "stdout",
     "output_type": "stream",
     "text": [
      "Table found and converted to DataFrame for URL: https://www.estimize.com/AMAT/fq3-2022?metric_name=eps&chart=historical\n"
     ]
    },
    {
     "name": "stderr",
     "output_type": "stream",
     "text": [
      "C:\\Users\\mhunt\\AppData\\Local\\Temp\\ipykernel_7800\\329258333.py:29: FutureWarning: Passing literal html to 'read_html' is deprecated and will be removed in a future version. To read from a literal string, wrap it in a 'StringIO' object.\n",
      "  df = pd.read_html(table_html)[0]\n"
     ]
    },
    {
     "name": "stdout",
     "output_type": "stream",
     "text": [
      "Table found and converted to DataFrame for URL: https://www.estimize.com/AMAT/fq4-2022?metric_name=eps&chart=historical\n"
     ]
    },
    {
     "name": "stderr",
     "output_type": "stream",
     "text": [
      "C:\\Users\\mhunt\\AppData\\Local\\Temp\\ipykernel_7800\\329258333.py:29: FutureWarning: Passing literal html to 'read_html' is deprecated and will be removed in a future version. To read from a literal string, wrap it in a 'StringIO' object.\n",
      "  df = pd.read_html(table_html)[0]\n"
     ]
    },
    {
     "name": "stdout",
     "output_type": "stream",
     "text": [
      "Table found and converted to DataFrame for URL: https://www.estimize.com/BAC/fq1-2020?metric_name=eps&chart=historical\n"
     ]
    },
    {
     "name": "stderr",
     "output_type": "stream",
     "text": [
      "C:\\Users\\mhunt\\AppData\\Local\\Temp\\ipykernel_7800\\329258333.py:29: FutureWarning: Passing literal html to 'read_html' is deprecated and will be removed in a future version. To read from a literal string, wrap it in a 'StringIO' object.\n",
      "  df = pd.read_html(table_html)[0]\n"
     ]
    },
    {
     "name": "stdout",
     "output_type": "stream",
     "text": [
      "Table found and converted to DataFrame for URL: https://www.estimize.com/BAC/fq2-2020?metric_name=eps&chart=historical\n"
     ]
    },
    {
     "name": "stderr",
     "output_type": "stream",
     "text": [
      "C:\\Users\\mhunt\\AppData\\Local\\Temp\\ipykernel_7800\\329258333.py:29: FutureWarning: Passing literal html to 'read_html' is deprecated and will be removed in a future version. To read from a literal string, wrap it in a 'StringIO' object.\n",
      "  df = pd.read_html(table_html)[0]\n"
     ]
    },
    {
     "name": "stdout",
     "output_type": "stream",
     "text": [
      "Table found and converted to DataFrame for URL: https://www.estimize.com/BAC/fq3-2020?metric_name=eps&chart=historical\n"
     ]
    },
    {
     "name": "stderr",
     "output_type": "stream",
     "text": [
      "C:\\Users\\mhunt\\AppData\\Local\\Temp\\ipykernel_7800\\329258333.py:29: FutureWarning: Passing literal html to 'read_html' is deprecated and will be removed in a future version. To read from a literal string, wrap it in a 'StringIO' object.\n",
      "  df = pd.read_html(table_html)[0]\n"
     ]
    },
    {
     "name": "stdout",
     "output_type": "stream",
     "text": [
      "Table found and converted to DataFrame for URL: https://www.estimize.com/BAC/fq4-2020?metric_name=eps&chart=historical\n"
     ]
    },
    {
     "name": "stderr",
     "output_type": "stream",
     "text": [
      "C:\\Users\\mhunt\\AppData\\Local\\Temp\\ipykernel_7800\\329258333.py:29: FutureWarning: Passing literal html to 'read_html' is deprecated and will be removed in a future version. To read from a literal string, wrap it in a 'StringIO' object.\n",
      "  df = pd.read_html(table_html)[0]\n"
     ]
    },
    {
     "name": "stdout",
     "output_type": "stream",
     "text": [
      "Table found and converted to DataFrame for URL: https://www.estimize.com/BAC/fq1-2021?metric_name=eps&chart=historical\n"
     ]
    },
    {
     "name": "stderr",
     "output_type": "stream",
     "text": [
      "C:\\Users\\mhunt\\AppData\\Local\\Temp\\ipykernel_7800\\329258333.py:29: FutureWarning: Passing literal html to 'read_html' is deprecated and will be removed in a future version. To read from a literal string, wrap it in a 'StringIO' object.\n",
      "  df = pd.read_html(table_html)[0]\n"
     ]
    },
    {
     "name": "stdout",
     "output_type": "stream",
     "text": [
      "Table found and converted to DataFrame for URL: https://www.estimize.com/BAC/fq2-2021?metric_name=eps&chart=historical\n"
     ]
    },
    {
     "name": "stderr",
     "output_type": "stream",
     "text": [
      "C:\\Users\\mhunt\\AppData\\Local\\Temp\\ipykernel_7800\\329258333.py:29: FutureWarning: Passing literal html to 'read_html' is deprecated and will be removed in a future version. To read from a literal string, wrap it in a 'StringIO' object.\n",
      "  df = pd.read_html(table_html)[0]\n"
     ]
    },
    {
     "name": "stdout",
     "output_type": "stream",
     "text": [
      "Table found and converted to DataFrame for URL: https://www.estimize.com/BAC/fq3-2021?metric_name=eps&chart=historical\n"
     ]
    },
    {
     "name": "stderr",
     "output_type": "stream",
     "text": [
      "C:\\Users\\mhunt\\AppData\\Local\\Temp\\ipykernel_7800\\329258333.py:29: FutureWarning: Passing literal html to 'read_html' is deprecated and will be removed in a future version. To read from a literal string, wrap it in a 'StringIO' object.\n",
      "  df = pd.read_html(table_html)[0]\n"
     ]
    },
    {
     "name": "stdout",
     "output_type": "stream",
     "text": [
      "Table found and converted to DataFrame for URL: https://www.estimize.com/BAC/fq4-2021?metric_name=eps&chart=historical\n"
     ]
    },
    {
     "name": "stderr",
     "output_type": "stream",
     "text": [
      "C:\\Users\\mhunt\\AppData\\Local\\Temp\\ipykernel_7800\\329258333.py:29: FutureWarning: Passing literal html to 'read_html' is deprecated and will be removed in a future version. To read from a literal string, wrap it in a 'StringIO' object.\n",
      "  df = pd.read_html(table_html)[0]\n"
     ]
    },
    {
     "name": "stdout",
     "output_type": "stream",
     "text": [
      "Table found and converted to DataFrame for URL: https://www.estimize.com/BAC/fq1-2022?metric_name=eps&chart=historical\n"
     ]
    },
    {
     "name": "stderr",
     "output_type": "stream",
     "text": [
      "C:\\Users\\mhunt\\AppData\\Local\\Temp\\ipykernel_7800\\329258333.py:29: FutureWarning: Passing literal html to 'read_html' is deprecated and will be removed in a future version. To read from a literal string, wrap it in a 'StringIO' object.\n",
      "  df = pd.read_html(table_html)[0]\n"
     ]
    },
    {
     "name": "stdout",
     "output_type": "stream",
     "text": [
      "Table found and converted to DataFrame for URL: https://www.estimize.com/BAC/fq2-2022?metric_name=eps&chart=historical\n"
     ]
    },
    {
     "name": "stderr",
     "output_type": "stream",
     "text": [
      "C:\\Users\\mhunt\\AppData\\Local\\Temp\\ipykernel_7800\\329258333.py:29: FutureWarning: Passing literal html to 'read_html' is deprecated and will be removed in a future version. To read from a literal string, wrap it in a 'StringIO' object.\n",
      "  df = pd.read_html(table_html)[0]\n"
     ]
    },
    {
     "name": "stdout",
     "output_type": "stream",
     "text": [
      "Table found and converted to DataFrame for URL: https://www.estimize.com/BAC/fq3-2022?metric_name=eps&chart=historical\n"
     ]
    },
    {
     "name": "stderr",
     "output_type": "stream",
     "text": [
      "C:\\Users\\mhunt\\AppData\\Local\\Temp\\ipykernel_7800\\329258333.py:29: FutureWarning: Passing literal html to 'read_html' is deprecated and will be removed in a future version. To read from a literal string, wrap it in a 'StringIO' object.\n",
      "  df = pd.read_html(table_html)[0]\n"
     ]
    },
    {
     "name": "stdout",
     "output_type": "stream",
     "text": [
      "Table found and converted to DataFrame for URL: https://www.estimize.com/BAC/fq4-2022?metric_name=eps&chart=historical\n"
     ]
    },
    {
     "name": "stderr",
     "output_type": "stream",
     "text": [
      "C:\\Users\\mhunt\\AppData\\Local\\Temp\\ipykernel_7800\\329258333.py:29: FutureWarning: Passing literal html to 'read_html' is deprecated and will be removed in a future version. To read from a literal string, wrap it in a 'StringIO' object.\n",
      "  df = pd.read_html(table_html)[0]\n"
     ]
    },
    {
     "name": "stdout",
     "output_type": "stream",
     "text": [
      "Table found and converted to DataFrame for URL: https://www.estimize.com/CVX/fq1-2020?metric_name=eps&chart=historical\n"
     ]
    },
    {
     "name": "stderr",
     "output_type": "stream",
     "text": [
      "C:\\Users\\mhunt\\AppData\\Local\\Temp\\ipykernel_7800\\329258333.py:29: FutureWarning: Passing literal html to 'read_html' is deprecated and will be removed in a future version. To read from a literal string, wrap it in a 'StringIO' object.\n",
      "  df = pd.read_html(table_html)[0]\n"
     ]
    },
    {
     "name": "stdout",
     "output_type": "stream",
     "text": [
      "Table found and converted to DataFrame for URL: https://www.estimize.com/CVX/fq2-2020?metric_name=eps&chart=historical\n",
      "Link not found or unable to click for URL: https://www.estimize.com/CVX/fq3-2020?metric_name=eps&chart=historical\n",
      "Table found and converted to DataFrame for URL: https://www.estimize.com/CVX/fq3-2020?metric_name=eps&chart=historical\n"
     ]
    },
    {
     "name": "stderr",
     "output_type": "stream",
     "text": [
      "C:\\Users\\mhunt\\AppData\\Local\\Temp\\ipykernel_7800\\329258333.py:29: FutureWarning: Passing literal html to 'read_html' is deprecated and will be removed in a future version. To read from a literal string, wrap it in a 'StringIO' object.\n",
      "  df = pd.read_html(table_html)[0]\n",
      "C:\\Users\\mhunt\\AppData\\Local\\Temp\\ipykernel_7800\\329258333.py:29: FutureWarning: Passing literal html to 'read_html' is deprecated and will be removed in a future version. To read from a literal string, wrap it in a 'StringIO' object.\n",
      "  df = pd.read_html(table_html)[0]\n"
     ]
    },
    {
     "name": "stdout",
     "output_type": "stream",
     "text": [
      "Table found and converted to DataFrame for URL: https://www.estimize.com/CVX/fq4-2020?metric_name=eps&chart=historical\n"
     ]
    },
    {
     "name": "stderr",
     "output_type": "stream",
     "text": [
      "C:\\Users\\mhunt\\AppData\\Local\\Temp\\ipykernel_7800\\329258333.py:29: FutureWarning: Passing literal html to 'read_html' is deprecated and will be removed in a future version. To read from a literal string, wrap it in a 'StringIO' object.\n",
      "  df = pd.read_html(table_html)[0]\n"
     ]
    },
    {
     "name": "stdout",
     "output_type": "stream",
     "text": [
      "Table found and converted to DataFrame for URL: https://www.estimize.com/CVX/fq1-2021?metric_name=eps&chart=historical\n",
      "Link not found or unable to click for URL: https://www.estimize.com/CVX/fq2-2021?metric_name=eps&chart=historical\n",
      "Table found and converted to DataFrame for URL: https://www.estimize.com/CVX/fq2-2021?metric_name=eps&chart=historical\n"
     ]
    },
    {
     "name": "stderr",
     "output_type": "stream",
     "text": [
      "C:\\Users\\mhunt\\AppData\\Local\\Temp\\ipykernel_7800\\329258333.py:29: FutureWarning: Passing literal html to 'read_html' is deprecated and will be removed in a future version. To read from a literal string, wrap it in a 'StringIO' object.\n",
      "  df = pd.read_html(table_html)[0]\n",
      "C:\\Users\\mhunt\\AppData\\Local\\Temp\\ipykernel_7800\\329258333.py:29: FutureWarning: Passing literal html to 'read_html' is deprecated and will be removed in a future version. To read from a literal string, wrap it in a 'StringIO' object.\n",
      "  df = pd.read_html(table_html)[0]\n"
     ]
    },
    {
     "name": "stdout",
     "output_type": "stream",
     "text": [
      "Table found and converted to DataFrame for URL: https://www.estimize.com/CVX/fq3-2021?metric_name=eps&chart=historical\n"
     ]
    },
    {
     "name": "stderr",
     "output_type": "stream",
     "text": [
      "C:\\Users\\mhunt\\AppData\\Local\\Temp\\ipykernel_7800\\329258333.py:29: FutureWarning: Passing literal html to 'read_html' is deprecated and will be removed in a future version. To read from a literal string, wrap it in a 'StringIO' object.\n",
      "  df = pd.read_html(table_html)[0]\n"
     ]
    },
    {
     "name": "stdout",
     "output_type": "stream",
     "text": [
      "Table found and converted to DataFrame for URL: https://www.estimize.com/CVX/fq4-2021?metric_name=eps&chart=historical\n"
     ]
    },
    {
     "name": "stderr",
     "output_type": "stream",
     "text": [
      "C:\\Users\\mhunt\\AppData\\Local\\Temp\\ipykernel_7800\\329258333.py:29: FutureWarning: Passing literal html to 'read_html' is deprecated and will be removed in a future version. To read from a literal string, wrap it in a 'StringIO' object.\n",
      "  df = pd.read_html(table_html)[0]\n"
     ]
    },
    {
     "name": "stdout",
     "output_type": "stream",
     "text": [
      "Table found and converted to DataFrame for URL: https://www.estimize.com/CVX/fq1-2022?metric_name=eps&chart=historical\n",
      "Link not found or unable to click for URL: https://www.estimize.com/CVX/fq2-2022?metric_name=eps&chart=historical\n",
      "Table found and converted to DataFrame for URL: https://www.estimize.com/CVX/fq2-2022?metric_name=eps&chart=historical\n"
     ]
    },
    {
     "name": "stderr",
     "output_type": "stream",
     "text": [
      "C:\\Users\\mhunt\\AppData\\Local\\Temp\\ipykernel_7800\\329258333.py:29: FutureWarning: Passing literal html to 'read_html' is deprecated and will be removed in a future version. To read from a literal string, wrap it in a 'StringIO' object.\n",
      "  df = pd.read_html(table_html)[0]\n",
      "C:\\Users\\mhunt\\AppData\\Local\\Temp\\ipykernel_7800\\329258333.py:29: FutureWarning: Passing literal html to 'read_html' is deprecated and will be removed in a future version. To read from a literal string, wrap it in a 'StringIO' object.\n",
      "  df = pd.read_html(table_html)[0]\n"
     ]
    },
    {
     "name": "stdout",
     "output_type": "stream",
     "text": [
      "Table found and converted to DataFrame for URL: https://www.estimize.com/CVX/fq3-2022?metric_name=eps&chart=historical\n"
     ]
    },
    {
     "name": "stderr",
     "output_type": "stream",
     "text": [
      "C:\\Users\\mhunt\\AppData\\Local\\Temp\\ipykernel_7800\\329258333.py:29: FutureWarning: Passing literal html to 'read_html' is deprecated and will be removed in a future version. To read from a literal string, wrap it in a 'StringIO' object.\n",
      "  df = pd.read_html(table_html)[0]\n"
     ]
    },
    {
     "name": "stdout",
     "output_type": "stream",
     "text": [
      "Table found and converted to DataFrame for URL: https://www.estimize.com/CVX/fq4-2022?metric_name=eps&chart=historical\n",
      "Link not found or unable to click for URL: https://www.estimize.com/AMGN/fq1-2020?metric_name=eps&chart=historical\n",
      "Table found and converted to DataFrame for URL: https://www.estimize.com/AMGN/fq1-2020?metric_name=eps&chart=historical\n"
     ]
    },
    {
     "name": "stderr",
     "output_type": "stream",
     "text": [
      "C:\\Users\\mhunt\\AppData\\Local\\Temp\\ipykernel_7800\\329258333.py:29: FutureWarning: Passing literal html to 'read_html' is deprecated and will be removed in a future version. To read from a literal string, wrap it in a 'StringIO' object.\n",
      "  df = pd.read_html(table_html)[0]\n"
     ]
    },
    {
     "name": "stdout",
     "output_type": "stream",
     "text": [
      "Link not found or unable to click for URL: https://www.estimize.com/AMGN/fq2-2020?metric_name=eps&chart=historical\n",
      "Table found and converted to DataFrame for URL: https://www.estimize.com/AMGN/fq2-2020?metric_name=eps&chart=historical\n"
     ]
    },
    {
     "name": "stderr",
     "output_type": "stream",
     "text": [
      "C:\\Users\\mhunt\\AppData\\Local\\Temp\\ipykernel_7800\\329258333.py:29: FutureWarning: Passing literal html to 'read_html' is deprecated and will be removed in a future version. To read from a literal string, wrap it in a 'StringIO' object.\n",
      "  df = pd.read_html(table_html)[0]\n"
     ]
    },
    {
     "name": "stdout",
     "output_type": "stream",
     "text": [
      "Link not found or unable to click for URL: https://www.estimize.com/AMGN/fq3-2020?metric_name=eps&chart=historical\n",
      "Table found and converted to DataFrame for URL: https://www.estimize.com/AMGN/fq3-2020?metric_name=eps&chart=historical\n"
     ]
    },
    {
     "name": "stderr",
     "output_type": "stream",
     "text": [
      "C:\\Users\\mhunt\\AppData\\Local\\Temp\\ipykernel_7800\\329258333.py:29: FutureWarning: Passing literal html to 'read_html' is deprecated and will be removed in a future version. To read from a literal string, wrap it in a 'StringIO' object.\n",
      "  df = pd.read_html(table_html)[0]\n"
     ]
    },
    {
     "name": "stdout",
     "output_type": "stream",
     "text": [
      "Link not found or unable to click for URL: https://www.estimize.com/AMGN/fq4-2020?metric_name=eps&chart=historical\n",
      "Table found and converted to DataFrame for URL: https://www.estimize.com/AMGN/fq4-2020?metric_name=eps&chart=historical\n"
     ]
    },
    {
     "name": "stderr",
     "output_type": "stream",
     "text": [
      "C:\\Users\\mhunt\\AppData\\Local\\Temp\\ipykernel_7800\\329258333.py:29: FutureWarning: Passing literal html to 'read_html' is deprecated and will be removed in a future version. To read from a literal string, wrap it in a 'StringIO' object.\n",
      "  df = pd.read_html(table_html)[0]\n"
     ]
    },
    {
     "name": "stdout",
     "output_type": "stream",
     "text": [
      "Link not found or unable to click for URL: https://www.estimize.com/AMGN/fq1-2021?metric_name=eps&chart=historical\n",
      "Table found and converted to DataFrame for URL: https://www.estimize.com/AMGN/fq1-2021?metric_name=eps&chart=historical\n"
     ]
    },
    {
     "name": "stderr",
     "output_type": "stream",
     "text": [
      "C:\\Users\\mhunt\\AppData\\Local\\Temp\\ipykernel_7800\\329258333.py:29: FutureWarning: Passing literal html to 'read_html' is deprecated and will be removed in a future version. To read from a literal string, wrap it in a 'StringIO' object.\n",
      "  df = pd.read_html(table_html)[0]\n"
     ]
    },
    {
     "name": "stdout",
     "output_type": "stream",
     "text": [
      "Link not found or unable to click for URL: https://www.estimize.com/AMGN/fq2-2021?metric_name=eps&chart=historical\n",
      "Table found and converted to DataFrame for URL: https://www.estimize.com/AMGN/fq2-2021?metric_name=eps&chart=historical\n"
     ]
    },
    {
     "name": "stderr",
     "output_type": "stream",
     "text": [
      "C:\\Users\\mhunt\\AppData\\Local\\Temp\\ipykernel_7800\\329258333.py:29: FutureWarning: Passing literal html to 'read_html' is deprecated and will be removed in a future version. To read from a literal string, wrap it in a 'StringIO' object.\n",
      "  df = pd.read_html(table_html)[0]\n"
     ]
    },
    {
     "name": "stdout",
     "output_type": "stream",
     "text": [
      "Link not found or unable to click for URL: https://www.estimize.com/AMGN/fq3-2021?metric_name=eps&chart=historical\n",
      "Table found and converted to DataFrame for URL: https://www.estimize.com/AMGN/fq3-2021?metric_name=eps&chart=historical\n"
     ]
    },
    {
     "name": "stderr",
     "output_type": "stream",
     "text": [
      "C:\\Users\\mhunt\\AppData\\Local\\Temp\\ipykernel_7800\\329258333.py:29: FutureWarning: Passing literal html to 'read_html' is deprecated and will be removed in a future version. To read from a literal string, wrap it in a 'StringIO' object.\n",
      "  df = pd.read_html(table_html)[0]\n",
      "C:\\Users\\mhunt\\AppData\\Local\\Temp\\ipykernel_7800\\329258333.py:29: FutureWarning: Passing literal html to 'read_html' is deprecated and will be removed in a future version. To read from a literal string, wrap it in a 'StringIO' object.\n",
      "  df = pd.read_html(table_html)[0]\n"
     ]
    },
    {
     "name": "stdout",
     "output_type": "stream",
     "text": [
      "Table found and converted to DataFrame for URL: https://www.estimize.com/AMGN/fq4-2021?metric_name=eps&chart=historical\n",
      "Link not found or unable to click for URL: https://www.estimize.com/AMGN/fq1-2022?metric_name=eps&chart=historical\n"
     ]
    },
    {
     "name": "stderr",
     "output_type": "stream",
     "text": [
      "C:\\Users\\mhunt\\AppData\\Local\\Temp\\ipykernel_7800\\329258333.py:29: FutureWarning: Passing literal html to 'read_html' is deprecated and will be removed in a future version. To read from a literal string, wrap it in a 'StringIO' object.\n",
      "  df = pd.read_html(table_html)[0]\n"
     ]
    },
    {
     "name": "stdout",
     "output_type": "stream",
     "text": [
      "Table found and converted to DataFrame for URL: https://www.estimize.com/AMGN/fq1-2022?metric_name=eps&chart=historical\n",
      "Link not found or unable to click for URL: https://www.estimize.com/AMGN/fq2-2022?metric_name=eps&chart=historical\n",
      "Table found and converted to DataFrame for URL: https://www.estimize.com/AMGN/fq2-2022?metric_name=eps&chart=historical\n"
     ]
    },
    {
     "name": "stderr",
     "output_type": "stream",
     "text": [
      "C:\\Users\\mhunt\\AppData\\Local\\Temp\\ipykernel_7800\\329258333.py:29: FutureWarning: Passing literal html to 'read_html' is deprecated and will be removed in a future version. To read from a literal string, wrap it in a 'StringIO' object.\n",
      "  df = pd.read_html(table_html)[0]\n"
     ]
    },
    {
     "name": "stdout",
     "output_type": "stream",
     "text": [
      "Link not found or unable to click for URL: https://www.estimize.com/AMGN/fq3-2022?metric_name=eps&chart=historical\n",
      "Table found and converted to DataFrame for URL: https://www.estimize.com/AMGN/fq3-2022?metric_name=eps&chart=historical\n"
     ]
    },
    {
     "name": "stderr",
     "output_type": "stream",
     "text": [
      "C:\\Users\\mhunt\\AppData\\Local\\Temp\\ipykernel_7800\\329258333.py:29: FutureWarning: Passing literal html to 'read_html' is deprecated and will be removed in a future version. To read from a literal string, wrap it in a 'StringIO' object.\n",
      "  df = pd.read_html(table_html)[0]\n"
     ]
    },
    {
     "name": "stdout",
     "output_type": "stream",
     "text": [
      "Link not found or unable to click for URL: https://www.estimize.com/AMGN/fq4-2022?metric_name=eps&chart=historical\n",
      "Table found and converted to DataFrame for URL: https://www.estimize.com/AMGN/fq4-2022?metric_name=eps&chart=historical\n"
     ]
    },
    {
     "name": "stderr",
     "output_type": "stream",
     "text": [
      "C:\\Users\\mhunt\\AppData\\Local\\Temp\\ipykernel_7800\\329258333.py:29: FutureWarning: Passing literal html to 'read_html' is deprecated and will be removed in a future version. To read from a literal string, wrap it in a 'StringIO' object.\n",
      "  df = pd.read_html(table_html)[0]\n",
      "C:\\Users\\mhunt\\AppData\\Local\\Temp\\ipykernel_7800\\329258333.py:29: FutureWarning: Passing literal html to 'read_html' is deprecated and will be removed in a future version. To read from a literal string, wrap it in a 'StringIO' object.\n",
      "  df = pd.read_html(table_html)[0]\n"
     ]
    },
    {
     "name": "stdout",
     "output_type": "stream",
     "text": [
      "Table found and converted to DataFrame for URL: https://www.estimize.com/PG/fq1-2020?metric_name=eps&chart=historical\n"
     ]
    },
    {
     "name": "stderr",
     "output_type": "stream",
     "text": [
      "C:\\Users\\mhunt\\AppData\\Local\\Temp\\ipykernel_7800\\329258333.py:29: FutureWarning: Passing literal html to 'read_html' is deprecated and will be removed in a future version. To read from a literal string, wrap it in a 'StringIO' object.\n",
      "  df = pd.read_html(table_html)[0]\n"
     ]
    },
    {
     "name": "stdout",
     "output_type": "stream",
     "text": [
      "Table found and converted to DataFrame for URL: https://www.estimize.com/PG/fq2-2020?metric_name=eps&chart=historical\n"
     ]
    },
    {
     "name": "stderr",
     "output_type": "stream",
     "text": [
      "C:\\Users\\mhunt\\AppData\\Local\\Temp\\ipykernel_7800\\329258333.py:29: FutureWarning: Passing literal html to 'read_html' is deprecated and will be removed in a future version. To read from a literal string, wrap it in a 'StringIO' object.\n",
      "  df = pd.read_html(table_html)[0]\n"
     ]
    },
    {
     "name": "stdout",
     "output_type": "stream",
     "text": [
      "Table found and converted to DataFrame for URL: https://www.estimize.com/PG/fq3-2020?metric_name=eps&chart=historical\n"
     ]
    },
    {
     "name": "stderr",
     "output_type": "stream",
     "text": [
      "C:\\Users\\mhunt\\AppData\\Local\\Temp\\ipykernel_7800\\329258333.py:29: FutureWarning: Passing literal html to 'read_html' is deprecated and will be removed in a future version. To read from a literal string, wrap it in a 'StringIO' object.\n",
      "  df = pd.read_html(table_html)[0]\n"
     ]
    },
    {
     "name": "stdout",
     "output_type": "stream",
     "text": [
      "Table found and converted to DataFrame for URL: https://www.estimize.com/PG/fq4-2020?metric_name=eps&chart=historical\n",
      "Link not found or unable to click for URL: https://www.estimize.com/PG/fq1-2021?metric_name=eps&chart=historical\n",
      "Table found and converted to DataFrame for URL: https://www.estimize.com/PG/fq1-2021?metric_name=eps&chart=historical\n"
     ]
    },
    {
     "name": "stderr",
     "output_type": "stream",
     "text": [
      "C:\\Users\\mhunt\\AppData\\Local\\Temp\\ipykernel_7800\\329258333.py:29: FutureWarning: Passing literal html to 'read_html' is deprecated and will be removed in a future version. To read from a literal string, wrap it in a 'StringIO' object.\n",
      "  df = pd.read_html(table_html)[0]\n"
     ]
    },
    {
     "name": "stdout",
     "output_type": "stream",
     "text": [
      "Link not found or unable to click for URL: https://www.estimize.com/PG/fq2-2021?metric_name=eps&chart=historical\n",
      "Table found and converted to DataFrame for URL: https://www.estimize.com/PG/fq2-2021?metric_name=eps&chart=historical\n"
     ]
    },
    {
     "name": "stderr",
     "output_type": "stream",
     "text": [
      "C:\\Users\\mhunt\\AppData\\Local\\Temp\\ipykernel_7800\\329258333.py:29: FutureWarning: Passing literal html to 'read_html' is deprecated and will be removed in a future version. To read from a literal string, wrap it in a 'StringIO' object.\n",
      "  df = pd.read_html(table_html)[0]\n"
     ]
    },
    {
     "name": "stdout",
     "output_type": "stream",
     "text": [
      "Link not found or unable to click for URL: https://www.estimize.com/PG/fq3-2021?metric_name=eps&chart=historical\n"
     ]
    },
    {
     "name": "stderr",
     "output_type": "stream",
     "text": [
      "C:\\Users\\mhunt\\AppData\\Local\\Temp\\ipykernel_7800\\329258333.py:29: FutureWarning: Passing literal html to 'read_html' is deprecated and will be removed in a future version. To read from a literal string, wrap it in a 'StringIO' object.\n",
      "  df = pd.read_html(table_html)[0]\n"
     ]
    },
    {
     "name": "stdout",
     "output_type": "stream",
     "text": [
      "Table found and converted to DataFrame for URL: https://www.estimize.com/PG/fq3-2021?metric_name=eps&chart=historical\n",
      "Link not found or unable to click for URL: https://www.estimize.com/PG/fq4-2021?metric_name=eps&chart=historical\n",
      "Table found and converted to DataFrame for URL: https://www.estimize.com/PG/fq4-2021?metric_name=eps&chart=historical\n"
     ]
    },
    {
     "name": "stderr",
     "output_type": "stream",
     "text": [
      "C:\\Users\\mhunt\\AppData\\Local\\Temp\\ipykernel_7800\\329258333.py:29: FutureWarning: Passing literal html to 'read_html' is deprecated and will be removed in a future version. To read from a literal string, wrap it in a 'StringIO' object.\n",
      "  df = pd.read_html(table_html)[0]\n"
     ]
    },
    {
     "name": "stdout",
     "output_type": "stream",
     "text": [
      "Link not found or unable to click for URL: https://www.estimize.com/PG/fq1-2022?metric_name=eps&chart=historical\n",
      "Table found and converted to DataFrame for URL: https://www.estimize.com/PG/fq1-2022?metric_name=eps&chart=historical\n"
     ]
    },
    {
     "name": "stderr",
     "output_type": "stream",
     "text": [
      "C:\\Users\\mhunt\\AppData\\Local\\Temp\\ipykernel_7800\\329258333.py:29: FutureWarning: Passing literal html to 'read_html' is deprecated and will be removed in a future version. To read from a literal string, wrap it in a 'StringIO' object.\n",
      "  df = pd.read_html(table_html)[0]\n"
     ]
    },
    {
     "name": "stdout",
     "output_type": "stream",
     "text": [
      "Link not found or unable to click for URL: https://www.estimize.com/PG/fq2-2022?metric_name=eps&chart=historical\n",
      "Table found and converted to DataFrame for URL: https://www.estimize.com/PG/fq2-2022?metric_name=eps&chart=historical\n"
     ]
    },
    {
     "name": "stderr",
     "output_type": "stream",
     "text": [
      "C:\\Users\\mhunt\\AppData\\Local\\Temp\\ipykernel_7800\\329258333.py:29: FutureWarning: Passing literal html to 'read_html' is deprecated and will be removed in a future version. To read from a literal string, wrap it in a 'StringIO' object.\n",
      "  df = pd.read_html(table_html)[0]\n"
     ]
    },
    {
     "name": "stdout",
     "output_type": "stream",
     "text": [
      "Link not found or unable to click for URL: https://www.estimize.com/PG/fq3-2022?metric_name=eps&chart=historical\n",
      "Table found and converted to DataFrame for URL: https://www.estimize.com/PG/fq3-2022?metric_name=eps&chart=historical\n"
     ]
    },
    {
     "name": "stderr",
     "output_type": "stream",
     "text": [
      "C:\\Users\\mhunt\\AppData\\Local\\Temp\\ipykernel_7800\\329258333.py:29: FutureWarning: Passing literal html to 'read_html' is deprecated and will be removed in a future version. To read from a literal string, wrap it in a 'StringIO' object.\n",
      "  df = pd.read_html(table_html)[0]\n"
     ]
    },
    {
     "name": "stdout",
     "output_type": "stream",
     "text": [
      "Link not found or unable to click for URL: https://www.estimize.com/PG/fq4-2022?metric_name=eps&chart=historical\n",
      "Table found and converted to DataFrame for URL: https://www.estimize.com/PG/fq4-2022?metric_name=eps&chart=historical\n"
     ]
    },
    {
     "name": "stderr",
     "output_type": "stream",
     "text": [
      "C:\\Users\\mhunt\\AppData\\Local\\Temp\\ipykernel_7800\\329258333.py:29: FutureWarning: Passing literal html to 'read_html' is deprecated and will be removed in a future version. To read from a literal string, wrap it in a 'StringIO' object.\n",
      "  df = pd.read_html(table_html)[0]\n"
     ]
    }
   ],
   "source": [
    "#M Making an empty list in which to store the newly created dataframes\n",
    "eps_analyst_dfs_list = []\n",
    "\n",
    "# Iterating over the URL list and navigating to each URL in the webdriver\n",
    "for _, row in url_df.iterrows():\n",
    "    test_url = row['URL']\n",
    "    driver.get(test_url)\n",
    "\n",
    "    # Checking to see if the button at the bottom of the desired table that expands the table to all values exists (some tables only have a few entries and do not have this button)\n",
    "    try:\n",
    "        # Looking for the button for up to 10 seconds and assigning its link to the link_element variable if it is found\n",
    "        link_element = WebDriverWait(driver, 10).until(\n",
    "            EC.presence_of_element_located((By.CSS_SELECTOR, '#estimates > div > a'))\n",
    "        )\n",
    "        # Clicking the link to load the full table\n",
    "        link_element.click()\n",
    "    except:\n",
    "        # Printing that the button link was not found as well as the URL of the page to allow for followup investigation to confirm that no button was present\n",
    "        # Critically, we do not end the for loop if the button is not found, as the lack of the button could simply mean that the table was already completely present on the page when our driver loaded the page\n",
    "        print(f\"Link not found or unable to click for URL: {test_url}\")\n",
    "\n",
    "    # Selecting the table\n",
    "    try:\n",
    "        table = driver.find_element(By.CSS_SELECTOR, '#estimates > table')\n",
    "        \n",
    "        # Extracting the table data\n",
    "        table_html = table.get_attribute('outerHTML')\n",
    "\n",
    "        # Converting the table data to a pandas DataFrame\n",
    "        df = pd.read_html(table_html)[0]\n",
    "\n",
    "        # Adding new columns and filling them with identifying values\n",
    "        df['Ticker'] = row['Ticker']\n",
    "        df['Quarter'] = row['Quarter']\n",
    "        df['Year'] = row['Year']\n",
    "\n",
    "        # Appending the individual DataFrame to the combined DataFrame list created earlier\n",
    "        eps_analyst_dfs_list.append(df)\n",
    "        \n",
    "        print(f\"Table found and converted to DataFrame for URL: {test_url}\")\n",
    "    except:\n",
    "        print(f\"Table NOT found for URL: {test_url}\")\n",
    "\n",
    "# Converting the DataFrame list into a DataFrame\n",
    "combined_eps_analyst_df = pd.concat(eps_analyst_dfs_list, ignore_index=True)"
   ]
  },
  {
   "cell_type": "code",
   "execution_count": 66,
   "id": "3e2500ac-cf78-4815-8120-4dc5862f7eb5",
   "metadata": {},
   "outputs": [
    {
     "data": {
      "text/html": [
       "<div>\n",
       "<style scoped>\n",
       "    .dataframe tbody tr th:only-of-type {\n",
       "        vertical-align: middle;\n",
       "    }\n",
       "\n",
       "    .dataframe tbody tr th {\n",
       "        vertical-align: top;\n",
       "    }\n",
       "\n",
       "    .dataframe thead th {\n",
       "        text-align: right;\n",
       "    }\n",
       "</style>\n",
       "<table border=\"1\" class=\"dataframe\">\n",
       "  <thead>\n",
       "    <tr style=\"text-align: right;\">\n",
       "      <th></th>\n",
       "      <th>Chart</th>\n",
       "      <th>Unnamed: 1</th>\n",
       "      <th>Analyst</th>\n",
       "      <th>Rank</th>\n",
       "      <th>Points</th>\n",
       "      <th>Value</th>\n",
       "      <th>Confidence</th>\n",
       "      <th>Last Revised</th>\n",
       "      <th>Ticker</th>\n",
       "      <th>Quarter</th>\n",
       "      <th>Year</th>\n",
       "    </tr>\n",
       "  </thead>\n",
       "  <tbody>\n",
       "    <tr>\n",
       "      <th>0</th>\n",
       "      <td>NaN</td>\n",
       "      <td>NaN</td>\n",
       "      <td>AMZN Reported EarningsAmazon.com Inc.</td>\n",
       "      <td>NaN</td>\n",
       "      <td>NaN</td>\n",
       "      <td>0.25</td>\n",
       "      <td>0.25</td>\n",
       "      <td>04/30/20</td>\n",
       "      <td>AMZN</td>\n",
       "      <td>q1</td>\n",
       "      <td>2020</td>\n",
       "    </tr>\n",
       "    <tr>\n",
       "      <th>1</th>\n",
       "      <td>NaN</td>\n",
       "      <td>NaN</td>\n",
       "      <td>Estimize Consensus385 estimates weighted</td>\n",
       "      <td>NaN</td>\n",
       "      <td>NaN</td>\n",
       "      <td>0.33</td>\n",
       "      <td>0.33</td>\n",
       "      <td>04/30/20</td>\n",
       "      <td>AMZN</td>\n",
       "      <td>q1</td>\n",
       "      <td>2020</td>\n",
       "    </tr>\n",
       "    <tr>\n",
       "      <th>2</th>\n",
       "      <td>NaN</td>\n",
       "      <td>NaN</td>\n",
       "      <td>Estimize Mean386 estimates averaged</td>\n",
       "      <td>NaN</td>\n",
       "      <td>NaN</td>\n",
       "      <td>0.34</td>\n",
       "      <td>0.34</td>\n",
       "      <td>04/30/20</td>\n",
       "      <td>AMZN</td>\n",
       "      <td>q1</td>\n",
       "      <td>2020</td>\n",
       "    </tr>\n",
       "    <tr>\n",
       "      <th>3</th>\n",
       "      <td>NaN</td>\n",
       "      <td>NaN</td>\n",
       "      <td>Wall Street Consensus</td>\n",
       "      <td>NaN</td>\n",
       "      <td>NaN</td>\n",
       "      <td>0.31</td>\n",
       "      <td>0.31</td>\n",
       "      <td>04/30/20</td>\n",
       "      <td>AMZN</td>\n",
       "      <td>q1</td>\n",
       "      <td>2020</td>\n",
       "    </tr>\n",
       "    <tr>\n",
       "      <th>4</th>\n",
       "      <td>Show EstimateHighlight analyst in all charts</td>\n",
       "      <td>+ Follow this analyst to receive alerts about ...</td>\n",
       "      <td>FlannerFlanner</td>\n",
       "      <td>1.0</td>\n",
       "      <td>25.0</td>\n",
       "      <td>0.25</td>\n",
       "      <td>5.0</td>\n",
       "      <td>04/20/20</td>\n",
       "      <td>AMZN</td>\n",
       "      <td>q1</td>\n",
       "      <td>2020</td>\n",
       "    </tr>\n",
       "    <tr>\n",
       "      <th>...</th>\n",
       "      <td>...</td>\n",
       "      <td>...</td>\n",
       "      <td>...</td>\n",
       "      <td>...</td>\n",
       "      <td>...</td>\n",
       "      <td>...</td>\n",
       "      <td>...</td>\n",
       "      <td>...</td>\n",
       "      <td>...</td>\n",
       "      <td>...</td>\n",
       "      <td>...</td>\n",
       "    </tr>\n",
       "    <tr>\n",
       "      <th>39219</th>\n",
       "      <td>Show EstimateHighlight analyst in all charts</td>\n",
       "      <td>+ Follow this analyst to receive alerts about ...</td>\n",
       "      <td>RWDKPDRWDKPD</td>\n",
       "      <td>20.0</td>\n",
       "      <td>-6.0</td>\n",
       "      <td>1.30</td>\n",
       "      <td>5.2</td>\n",
       "      <td>06/22/22</td>\n",
       "      <td>PG</td>\n",
       "      <td>q4</td>\n",
       "      <td>2022</td>\n",
       "    </tr>\n",
       "    <tr>\n",
       "      <th>39220</th>\n",
       "      <td>Show EstimateHighlight analyst in all charts</td>\n",
       "      <td>+ Follow this analyst to receive alerts about ...</td>\n",
       "      <td>ForniForni</td>\n",
       "      <td>21.0</td>\n",
       "      <td>-6.0</td>\n",
       "      <td>1.30</td>\n",
       "      <td>5.4</td>\n",
       "      <td>07/23/22</td>\n",
       "      <td>PG</td>\n",
       "      <td>q4</td>\n",
       "      <td>2022</td>\n",
       "    </tr>\n",
       "    <tr>\n",
       "      <th>39221</th>\n",
       "      <td>Show EstimateHighlight analyst in all charts</td>\n",
       "      <td>+ Follow this analyst to receive alerts about ...</td>\n",
       "      <td>DrognessDrogness</td>\n",
       "      <td>22.0</td>\n",
       "      <td>-10.0</td>\n",
       "      <td>1.34</td>\n",
       "      <td>2.3</td>\n",
       "      <td>01/21/22</td>\n",
       "      <td>PG</td>\n",
       "      <td>q4</td>\n",
       "      <td>2022</td>\n",
       "    </tr>\n",
       "    <tr>\n",
       "      <th>39222</th>\n",
       "      <td>Show EstimateHighlight analyst in all charts</td>\n",
       "      <td>+ Follow this analyst to receive alerts about ...</td>\n",
       "      <td>Analyst_9074721Analyst_9074721</td>\n",
       "      <td>23.0</td>\n",
       "      <td>-14.0</td>\n",
       "      <td>1.37</td>\n",
       "      <td>1.6</td>\n",
       "      <td>12/12/21</td>\n",
       "      <td>PG</td>\n",
       "      <td>q4</td>\n",
       "      <td>2022</td>\n",
       "    </tr>\n",
       "    <tr>\n",
       "      <th>39223</th>\n",
       "      <td>Show EstimateHighlight analyst in all charts</td>\n",
       "      <td>+ Follow this analyst to receive alerts about ...</td>\n",
       "      <td>Shreeder Adibhatlaadiabatic</td>\n",
       "      <td>24.0</td>\n",
       "      <td>-19.0</td>\n",
       "      <td>1.40</td>\n",
       "      <td>4.6</td>\n",
       "      <td>07/03/22</td>\n",
       "      <td>PG</td>\n",
       "      <td>q4</td>\n",
       "      <td>2022</td>\n",
       "    </tr>\n",
       "  </tbody>\n",
       "</table>\n",
       "<p>39224 rows × 11 columns</p>\n",
       "</div>"
      ],
      "text/plain": [
       "                                              Chart  \\\n",
       "0                                               NaN   \n",
       "1                                               NaN   \n",
       "2                                               NaN   \n",
       "3                                               NaN   \n",
       "4      Show EstimateHighlight analyst in all charts   \n",
       "...                                             ...   \n",
       "39219  Show EstimateHighlight analyst in all charts   \n",
       "39220  Show EstimateHighlight analyst in all charts   \n",
       "39221  Show EstimateHighlight analyst in all charts   \n",
       "39222  Show EstimateHighlight analyst in all charts   \n",
       "39223  Show EstimateHighlight analyst in all charts   \n",
       "\n",
       "                                              Unnamed: 1  \\\n",
       "0                                                    NaN   \n",
       "1                                                    NaN   \n",
       "2                                                    NaN   \n",
       "3                                                    NaN   \n",
       "4      + Follow this analyst to receive alerts about ...   \n",
       "...                                                  ...   \n",
       "39219  + Follow this analyst to receive alerts about ...   \n",
       "39220  + Follow this analyst to receive alerts about ...   \n",
       "39221  + Follow this analyst to receive alerts about ...   \n",
       "39222  + Follow this analyst to receive alerts about ...   \n",
       "39223  + Follow this analyst to receive alerts about ...   \n",
       "\n",
       "                                        Analyst  Rank  Points  Value  \\\n",
       "0         AMZN Reported EarningsAmazon.com Inc.   NaN     NaN   0.25   \n",
       "1      Estimize Consensus385 estimates weighted   NaN     NaN   0.33   \n",
       "2           Estimize Mean386 estimates averaged   NaN     NaN   0.34   \n",
       "3                         Wall Street Consensus   NaN     NaN   0.31   \n",
       "4                                FlannerFlanner   1.0    25.0   0.25   \n",
       "...                                         ...   ...     ...    ...   \n",
       "39219                              RWDKPDRWDKPD  20.0    -6.0   1.30   \n",
       "39220                                ForniForni  21.0    -6.0   1.30   \n",
       "39221                          DrognessDrogness  22.0   -10.0   1.34   \n",
       "39222            Analyst_9074721Analyst_9074721  23.0   -14.0   1.37   \n",
       "39223               Shreeder Adibhatlaadiabatic  24.0   -19.0   1.40   \n",
       "\n",
       "      Confidence Last Revised Ticker Quarter  Year  \n",
       "0           0.25     04/30/20   AMZN      q1  2020  \n",
       "1           0.33     04/30/20   AMZN      q1  2020  \n",
       "2           0.34     04/30/20   AMZN      q1  2020  \n",
       "3           0.31     04/30/20   AMZN      q1  2020  \n",
       "4            5.0     04/20/20   AMZN      q1  2020  \n",
       "...          ...          ...    ...     ...   ...  \n",
       "39219        5.2     06/22/22     PG      q4  2022  \n",
       "39220        5.4     07/23/22     PG      q4  2022  \n",
       "39221        2.3     01/21/22     PG      q4  2022  \n",
       "39222        1.6     12/12/21     PG      q4  2022  \n",
       "39223        4.6     07/03/22     PG      q4  2022  \n",
       "\n",
       "[39224 rows x 11 columns]"
      ]
     },
     "execution_count": 66,
     "metadata": {},
     "output_type": "execute_result"
    }
   ],
   "source": [
    "combined_eps_analyst_df"
   ]
  },
  {
   "cell_type": "code",
   "execution_count": 67,
   "id": "8779669b-3d71-410b-8b6b-4b8309cf8f3e",
   "metadata": {},
   "outputs": [],
   "source": [
    "combined_eps_analyst_df.to_csv('combined_eps_analysts.csv')"
   ]
  },
  {
   "cell_type": "code",
   "execution_count": null,
   "id": "672f1409-081a-4857-b31b-58d3221513be",
   "metadata": {},
   "outputs": [],
   "source": [
    "#M Making an empty list in which to store the newly created dataframes\n",
    "eps_analyst_dfs_list = []\n",
    "\n",
    "# Iterating over the URL list and navigating to each URL in the webdriver\n",
    "for _, row in url_df.iterrows():\n",
    "    test_url = row['URL']\n",
    "    driver.get(test_url)\n",
    "\n",
    "    # Checking to see if the button at the bottom of the desired table that expands the table to all values exists (some tables only have a few entries and do not have this button)\n",
    "    try:\n",
    "        # Looking for the button for up to 10 seconds and assigning its link to the link_element variable if it is found\n",
    "        link_element = WebDriverWait(driver, 10).until(\n",
    "            EC.presence_of_element_located((By.CSS_SELECTOR, '#estimates > div > a'))\n",
    "        )\n",
    "        # Clicking the link to load the full table\n",
    "        link_element.click()\n",
    "    except:\n",
    "        # Printing that the button link was not found as well as the URL of the page to allow for followup investigation to confirm that no button was present\n",
    "        # Critically, we do not end the for loop if the button is not found, as the lack of the button could simply mean that the table was already completely present on the page when our driver loaded the page\n",
    "        print(f\"Link not found or unable to click for URL: {test_url}\")\n",
    "\n",
    "    # Selecting the table\n",
    "    try:\n",
    "        table = driver.find_element(By.CSS_SELECTOR, '#estimates > table')\n",
    "        \n",
    "        # Extracting the table data\n",
    "        table_html = table.get_attribute('outerHTML')\n",
    "\n",
    "        # Converting the table data to a pandas DataFrame\n",
    "        df = pd.read_html(table_html)[0]\n",
    "\n",
    "        # Adding new columns and filling them with identifying values\n",
    "        df['Ticker'] = row['Ticker']\n",
    "        df['Quarter'] = row['Quarter']\n",
    "        df['Year'] = row['Year']\n",
    "\n",
    "        print(f\"Table found and converted to DataFrame for URL: {test_url}\")\n",
    "\n",
    "        # Pulling the \n",
    "        \n",
    "        # Appending the individual DataFrame to the combined DataFrame list created earlier\n",
    "        eps_analyst_dfs_list.append(df)\n",
    "           \n",
    "    except:\n",
    "        print(f\"Table NOT found for URL: {test_url}\")\n",
    "\n",
    "# Converting the DataFrame list into a DataFrame\n",
    "combined_eps_analyst_df = pd.concat(eps_analyst_dfs_list, ignore_index=True)"
   ]
  },
  {
   "cell_type": "code",
   "execution_count": 94,
   "id": "fb2369e8-edc6-472c-9e64-5f7e49e4afe0",
   "metadata": {},
   "outputs": [
    {
     "name": "stdout",
     "output_type": "stream",
     "text": [
      "401 Total Users found after URL: https://www.estimize.com/AMZN/fq1-2020?metric_name=eps&chart=historical\n",
      "629 Total Users found after URL: https://www.estimize.com/AMZN/fq2-2020?metric_name=eps&chart=historical\n",
      "746 Total Users found after URL: https://www.estimize.com/AMZN/fq3-2020?metric_name=eps&chart=historical\n",
      "889 Total Users found after URL: https://www.estimize.com/AMZN/fq4-2020?metric_name=eps&chart=historical\n",
      "971 Total Users found after URL: https://www.estimize.com/AMZN/fq1-2021?metric_name=eps&chart=historical\n",
      "1042 Total Users found after URL: https://www.estimize.com/AMZN/fq2-2021?metric_name=eps&chart=historical\n",
      "1106 Total Users found after URL: https://www.estimize.com/AMZN/fq3-2021?metric_name=eps&chart=historical\n",
      "1225 Total Users found after URL: https://www.estimize.com/AMZN/fq4-2021?metric_name=eps&chart=historical\n",
      "1294 Total Users found after URL: https://www.estimize.com/AMZN/fq1-2022?metric_name=eps&chart=historical\n",
      "1344 Total Users found after URL: https://www.estimize.com/AMZN/fq2-2022?metric_name=eps&chart=historical\n",
      "1382 Total Users found after URL: https://www.estimize.com/AMZN/fq3-2022?metric_name=eps&chart=historical\n",
      "1427 Total Users found after URL: https://www.estimize.com/AMZN/fq4-2022?metric_name=eps&chart=historical\n",
      "1788 Total Users found after URL: https://www.estimize.com/AAPL/fq1-2020?metric_name=eps&chart=historical\n",
      "1990 Total Users found after URL: https://www.estimize.com/AAPL/fq2-2020?metric_name=eps&chart=historical\n",
      "2119 Total Users found after URL: https://www.estimize.com/AAPL/fq3-2020?metric_name=eps&chart=historical\n",
      "2256 Total Users found after URL: https://www.estimize.com/AAPL/fq4-2020?metric_name=eps&chart=historical\n",
      "2477 Total Users found after URL: https://www.estimize.com/AAPL/fq1-2021?metric_name=eps&chart=historical\n",
      "2690 Total Users found after URL: https://www.estimize.com/AAPL/fq2-2021?metric_name=eps&chart=historical\n",
      "2782 Total Users found after URL: https://www.estimize.com/AAPL/fq3-2021?metric_name=eps&chart=historical\n",
      "2860 Total Users found after URL: https://www.estimize.com/AAPL/fq4-2021?metric_name=eps&chart=historical\n",
      "2946 Total Users found after URL: https://www.estimize.com/AAPL/fq1-2022?metric_name=eps&chart=historical\n",
      "3032 Total Users found after URL: https://www.estimize.com/AAPL/fq2-2022?metric_name=eps&chart=historical\n",
      "3085 Total Users found after URL: https://www.estimize.com/AAPL/fq3-2022?metric_name=eps&chart=historical\n",
      "3134 Total Users found after URL: https://www.estimize.com/AAPL/fq4-2022?metric_name=eps&chart=historical\n",
      "3281 Total Users found after URL: https://www.estimize.com/MSFT/fq1-2020?metric_name=eps&chart=historical\n",
      "3347 Total Users found after URL: https://www.estimize.com/MSFT/fq2-2020?metric_name=eps&chart=historical\n",
      "3444 Total Users found after URL: https://www.estimize.com/MSFT/fq3-2020?metric_name=eps&chart=historical\n",
      "3564 Total Users found after URL: https://www.estimize.com/MSFT/fq4-2020?metric_name=eps&chart=historical\n",
      "3614 Total Users found after URL: https://www.estimize.com/MSFT/fq1-2021?metric_name=eps&chart=historical\n",
      "3655 Total Users found after URL: https://www.estimize.com/MSFT/fq2-2021?metric_name=eps&chart=historical\n",
      "3690 Total Users found after URL: https://www.estimize.com/MSFT/fq3-2021?metric_name=eps&chart=historical\n",
      "3716 Total Users found after URL: https://www.estimize.com/MSFT/fq4-2021?metric_name=eps&chart=historical\n",
      "3746 Total Users found after URL: https://www.estimize.com/MSFT/fq1-2022?metric_name=eps&chart=historical\n",
      "3796 Total Users found after URL: https://www.estimize.com/MSFT/fq2-2022?metric_name=eps&chart=historical\n",
      "3824 Total Users found after URL: https://www.estimize.com/MSFT/fq3-2022?metric_name=eps&chart=historical\n",
      "3839 Total Users found after URL: https://www.estimize.com/MSFT/fq4-2022?metric_name=eps&chart=historical\n",
      "3947 Total Users found after URL: https://www.estimize.com/GOOG/fq1-2020?metric_name=eps&chart=historical\n",
      "4001 Total Users found after URL: https://www.estimize.com/GOOG/fq2-2020?metric_name=eps&chart=historical\n",
      "4034 Total Users found after URL: https://www.estimize.com/GOOG/fq3-2020?metric_name=eps&chart=historical\n",
      "4050 Total Users found after URL: https://www.estimize.com/GOOG/fq4-2020?metric_name=eps&chart=historical\n",
      "4078 Total Users found after URL: https://www.estimize.com/GOOG/fq1-2021?metric_name=eps&chart=historical\n",
      "4094 Total Users found after URL: https://www.estimize.com/GOOG/fq2-2021?metric_name=eps&chart=historical\n",
      "4112 Total Users found after URL: https://www.estimize.com/GOOG/fq3-2021?metric_name=eps&chart=historical\n",
      "4136 Total Users found after URL: https://www.estimize.com/GOOG/fq4-2021?metric_name=eps&chart=historical\n",
      "4173 Total Users found after URL: https://www.estimize.com/GOOG/fq1-2022?metric_name=eps&chart=historical\n",
      "4195 Total Users found after URL: https://www.estimize.com/GOOG/fq2-2022?metric_name=eps&chart=historical\n",
      "4214 Total Users found after URL: https://www.estimize.com/GOOG/fq3-2022?metric_name=eps&chart=historical\n",
      "4245 Total Users found after URL: https://www.estimize.com/GOOG/fq4-2022?metric_name=eps&chart=historical\n",
      "4566 Total Users found after URL: https://www.estimize.com/TSLA/fq1-2020?metric_name=eps&chart=historical\n",
      "4885 Total Users found after URL: https://www.estimize.com/TSLA/fq2-2020?metric_name=eps&chart=historical\n",
      "5060 Total Users found after URL: https://www.estimize.com/TSLA/fq3-2020?metric_name=eps&chart=historical\n",
      "5174 Total Users found after URL: https://www.estimize.com/TSLA/fq4-2020?metric_name=eps&chart=historical\n",
      "5267 Total Users found after URL: https://www.estimize.com/TSLA/fq1-2021?metric_name=eps&chart=historical\n",
      "5351 Total Users found after URL: https://www.estimize.com/TSLA/fq2-2021?metric_name=eps&chart=historical\n",
      "5437 Total Users found after URL: https://www.estimize.com/TSLA/fq3-2021?metric_name=eps&chart=historical\n",
      "5542 Total Users found after URL: https://www.estimize.com/TSLA/fq4-2021?metric_name=eps&chart=historical\n",
      "5602 Total Users found after URL: https://www.estimize.com/TSLA/fq1-2022?metric_name=eps&chart=historical\n",
      "5671 Total Users found after URL: https://www.estimize.com/TSLA/fq2-2022?metric_name=eps&chart=historical\n",
      "5733 Total Users found after URL: https://www.estimize.com/TSLA/fq3-2022?metric_name=eps&chart=historical\n",
      "5812 Total Users found after URL: https://www.estimize.com/TSLA/fq4-2022?metric_name=eps&chart=historical\n",
      "5828 Total Users found after URL: https://www.estimize.com/JNJ/fq1-2020?metric_name=eps&chart=historical\n",
      "5841 Total Users found after URL: https://www.estimize.com/JNJ/fq2-2020?metric_name=eps&chart=historical\n",
      "5847 Total Users found after URL: https://www.estimize.com/JNJ/fq3-2020?metric_name=eps&chart=historical\n",
      "5850 Total Users found after URL: https://www.estimize.com/JNJ/fq4-2020?metric_name=eps&chart=historical\n",
      "5853 Total Users found after URL: https://www.estimize.com/JNJ/fq1-2021?metric_name=eps&chart=historical\n",
      "Link not found or unable to click for URL: https://www.estimize.com/JNJ/fq2-2021?metric_name=eps&chart=historical\n",
      "5856 Total Users found after URL: https://www.estimize.com/JNJ/fq2-2021?metric_name=eps&chart=historical\n",
      "5859 Total Users found after URL: https://www.estimize.com/JNJ/fq3-2021?metric_name=eps&chart=historical\n",
      "5864 Total Users found after URL: https://www.estimize.com/JNJ/fq4-2021?metric_name=eps&chart=historical\n",
      "5865 Total Users found after URL: https://www.estimize.com/JNJ/fq1-2022?metric_name=eps&chart=historical\n",
      "5869 Total Users found after URL: https://www.estimize.com/JNJ/fq2-2022?metric_name=eps&chart=historical\n",
      "5870 Total Users found after URL: https://www.estimize.com/JNJ/fq3-2022?metric_name=eps&chart=historical\n",
      "5870 Total Users found after URL: https://www.estimize.com/JNJ/fq4-2022?metric_name=eps&chart=historical\n",
      "5881 Total Users found after URL: https://www.estimize.com/PG/fq1-2020?metric_name=eps&chart=historical\n",
      "5886 Total Users found after URL: https://www.estimize.com/PG/fq2-2020?metric_name=eps&chart=historical\n",
      "5888 Total Users found after URL: https://www.estimize.com/PG/fq3-2020?metric_name=eps&chart=historical\n",
      "5892 Total Users found after URL: https://www.estimize.com/PG/fq4-2020?metric_name=eps&chart=historical\n",
      "Link not found or unable to click for URL: https://www.estimize.com/PG/fq1-2021?metric_name=eps&chart=historical\n",
      "5893 Total Users found after URL: https://www.estimize.com/PG/fq1-2021?metric_name=eps&chart=historical\n",
      "Link not found or unable to click for URL: https://www.estimize.com/PG/fq2-2021?metric_name=eps&chart=historical\n",
      "5899 Total Users found after URL: https://www.estimize.com/PG/fq2-2021?metric_name=eps&chart=historical\n",
      "Link not found or unable to click for URL: https://www.estimize.com/PG/fq3-2021?metric_name=eps&chart=historical\n",
      "5903 Total Users found after URL: https://www.estimize.com/PG/fq3-2021?metric_name=eps&chart=historical\n",
      "Link not found or unable to click for URL: https://www.estimize.com/PG/fq4-2021?metric_name=eps&chart=historical\n",
      "5904 Total Users found after URL: https://www.estimize.com/PG/fq4-2021?metric_name=eps&chart=historical\n",
      "Link not found or unable to click for URL: https://www.estimize.com/PG/fq1-2022?metric_name=eps&chart=historical\n",
      "5904 Total Users found after URL: https://www.estimize.com/PG/fq1-2022?metric_name=eps&chart=historical\n",
      "Link not found or unable to click for URL: https://www.estimize.com/PG/fq2-2022?metric_name=eps&chart=historical\n",
      "5904 Total Users found after URL: https://www.estimize.com/PG/fq2-2022?metric_name=eps&chart=historical\n",
      "Link not found or unable to click for URL: https://www.estimize.com/PG/fq3-2022?metric_name=eps&chart=historical\n",
      "5904 Total Users found after URL: https://www.estimize.com/PG/fq3-2022?metric_name=eps&chart=historical\n",
      "Link not found or unable to click for URL: https://www.estimize.com/PG/fq4-2022?metric_name=eps&chart=historical\n",
      "5906 Total Users found after URL: https://www.estimize.com/PG/fq4-2022?metric_name=eps&chart=historical\n",
      "6084 Total Users found after URL: https://www.estimize.com/NVDA/fq1-2020?metric_name=eps&chart=historical\n",
      "6173 Total Users found after URL: https://www.estimize.com/NVDA/fq2-2020?metric_name=eps&chart=historical\n",
      "6245 Total Users found after URL: https://www.estimize.com/NVDA/fq3-2020?metric_name=eps&chart=historical\n",
      "6307 Total Users found after URL: https://www.estimize.com/NVDA/fq4-2020?metric_name=eps&chart=historical\n",
      "6371 Total Users found after URL: https://www.estimize.com/NVDA/fq1-2021?metric_name=eps&chart=historical\n",
      "6424 Total Users found after URL: https://www.estimize.com/NVDA/fq2-2021?metric_name=eps&chart=historical\n",
      "6459 Total Users found after URL: https://www.estimize.com/NVDA/fq3-2021?metric_name=eps&chart=historical\n",
      "6512 Total Users found after URL: https://www.estimize.com/NVDA/fq4-2021?metric_name=eps&chart=historical\n",
      "6551 Total Users found after URL: https://www.estimize.com/NVDA/fq1-2022?metric_name=eps&chart=historical\n",
      "6584 Total Users found after URL: https://www.estimize.com/NVDA/fq2-2022?metric_name=eps&chart=historical\n",
      "6630 Total Users found after URL: https://www.estimize.com/NVDA/fq3-2022?metric_name=eps&chart=historical\n",
      "6669 Total Users found after URL: https://www.estimize.com/NVDA/fq4-2022?metric_name=eps&chart=historical\n",
      "6705 Total Users found after URL: https://www.estimize.com/CSCO/fq1-2020?metric_name=eps&chart=historical\n",
      "6719 Total Users found after URL: https://www.estimize.com/CSCO/fq2-2020?metric_name=eps&chart=historical\n",
      "6745 Total Users found after URL: https://www.estimize.com/CSCO/fq3-2020?metric_name=eps&chart=historical\n",
      "6763 Total Users found after URL: https://www.estimize.com/CSCO/fq4-2020?metric_name=eps&chart=historical\n",
      "6779 Total Users found after URL: https://www.estimize.com/CSCO/fq1-2021?metric_name=eps&chart=historical\n",
      "6785 Total Users found after URL: https://www.estimize.com/CSCO/fq2-2021?metric_name=eps&chart=historical\n",
      "6790 Total Users found after URL: https://www.estimize.com/CSCO/fq3-2021?metric_name=eps&chart=historical\n",
      "6796 Total Users found after URL: https://www.estimize.com/CSCO/fq4-2021?metric_name=eps&chart=historical\n",
      "6804 Total Users found after URL: https://www.estimize.com/CSCO/fq1-2022?metric_name=eps&chart=historical\n",
      "6805 Total Users found after URL: https://www.estimize.com/CSCO/fq2-2022?metric_name=eps&chart=historical\n",
      "6810 Total Users found after URL: https://www.estimize.com/CSCO/fq3-2022?metric_name=eps&chart=historical\n",
      "6814 Total Users found after URL: https://www.estimize.com/CSCO/fq4-2022?metric_name=eps&chart=historical\n",
      "6873 Total Users found after URL: https://www.estimize.com/BABA/fq1-2020?metric_name=eps&chart=historical\n",
      "6897 Total Users found after URL: https://www.estimize.com/BABA/fq2-2020?metric_name=eps&chart=historical\n",
      "6935 Total Users found after URL: https://www.estimize.com/BABA/fq3-2020?metric_name=eps&chart=historical\n",
      "6991 Total Users found after URL: https://www.estimize.com/BABA/fq4-2020?metric_name=eps&chart=historical\n",
      "7021 Total Users found after URL: https://www.estimize.com/BABA/fq1-2021?metric_name=eps&chart=historical\n",
      "7029 Total Users found after URL: https://www.estimize.com/BABA/fq2-2021?metric_name=eps&chart=historical\n",
      "7047 Total Users found after URL: https://www.estimize.com/BABA/fq3-2021?metric_name=eps&chart=historical\n",
      "7071 Total Users found after URL: https://www.estimize.com/BABA/fq4-2021?metric_name=eps&chart=historical\n",
      "7102 Total Users found after URL: https://www.estimize.com/BABA/fq1-2022?metric_name=eps&chart=historical\n",
      "7159 Total Users found after URL: https://www.estimize.com/BABA/fq2-2022?metric_name=eps&chart=historical\n",
      "7205 Total Users found after URL: https://www.estimize.com/BABA/fq3-2022?metric_name=eps&chart=historical\n",
      "7233 Total Users found after URL: https://www.estimize.com/BABA/fq4-2022?metric_name=eps&chart=historical\n",
      "7251 Total Users found after URL: https://www.estimize.com/HD/fq1-2020?metric_name=eps&chart=historical\n",
      "7255 Total Users found after URL: https://www.estimize.com/HD/fq2-2020?metric_name=eps&chart=historical\n",
      "7260 Total Users found after URL: https://www.estimize.com/HD/fq3-2020?metric_name=eps&chart=historical\n",
      "7265 Total Users found after URL: https://www.estimize.com/HD/fq4-2020?metric_name=eps&chart=historical\n",
      "7268 Total Users found after URL: https://www.estimize.com/HD/fq1-2021?metric_name=eps&chart=historical\n",
      "7270 Total Users found after URL: https://www.estimize.com/HD/fq2-2021?metric_name=eps&chart=historical\n",
      "7276 Total Users found after URL: https://www.estimize.com/HD/fq3-2021?metric_name=eps&chart=historical\n",
      "7280 Total Users found after URL: https://www.estimize.com/HD/fq4-2021?metric_name=eps&chart=historical\n",
      "7283 Total Users found after URL: https://www.estimize.com/HD/fq1-2022?metric_name=eps&chart=historical\n",
      "7287 Total Users found after URL: https://www.estimize.com/HD/fq2-2022?metric_name=eps&chart=historical\n",
      "7290 Total Users found after URL: https://www.estimize.com/HD/fq3-2022?metric_name=eps&chart=historical\n",
      "7291 Total Users found after URL: https://www.estimize.com/HD/fq4-2022?metric_name=eps&chart=historical\n",
      "7316 Total Users found after URL: https://www.estimize.com/BIDU/fq1-2020?metric_name=eps&chart=historical\n",
      "7328 Total Users found after URL: https://www.estimize.com/BIDU/fq2-2020?metric_name=eps&chart=historical\n",
      "7338 Total Users found after URL: https://www.estimize.com/BIDU/fq3-2020?metric_name=eps&chart=historical\n",
      "7351 Total Users found after URL: https://www.estimize.com/BIDU/fq4-2020?metric_name=eps&chart=historical\n",
      "7357 Total Users found after URL: https://www.estimize.com/BIDU/fq1-2021?metric_name=eps&chart=historical\n",
      "7358 Total Users found after URL: https://www.estimize.com/BIDU/fq2-2021?metric_name=eps&chart=historical\n",
      "7362 Total Users found after URL: https://www.estimize.com/BIDU/fq3-2021?metric_name=eps&chart=historical\n",
      "7366 Total Users found after URL: https://www.estimize.com/BIDU/fq4-2021?metric_name=eps&chart=historical\n",
      "7369 Total Users found after URL: https://www.estimize.com/BIDU/fq1-2022?metric_name=eps&chart=historical\n",
      "7372 Total Users found after URL: https://www.estimize.com/BIDU/fq2-2022?metric_name=eps&chart=historical\n",
      "7379 Total Users found after URL: https://www.estimize.com/BIDU/fq3-2022?metric_name=eps&chart=historical\n",
      "Link not found or unable to click for URL: https://www.estimize.com/BIDU/fq4-2022?metric_name=eps&chart=historical\n",
      "7381 Total Users found after URL: https://www.estimize.com/BIDU/fq4-2022?metric_name=eps&chart=historical\n",
      "7408 Total Users found after URL: https://www.estimize.com/WMT/fq1-2020?metric_name=eps&chart=historical\n",
      "7421 Total Users found after URL: https://www.estimize.com/WMT/fq2-2020?metric_name=eps&chart=historical\n",
      "7434 Total Users found after URL: https://www.estimize.com/WMT/fq3-2020?metric_name=eps&chart=historical\n",
      "7450 Total Users found after URL: https://www.estimize.com/WMT/fq4-2020?metric_name=eps&chart=historical\n",
      "7462 Total Users found after URL: https://www.estimize.com/WMT/fq1-2021?metric_name=eps&chart=historical\n",
      "7473 Total Users found after URL: https://www.estimize.com/WMT/fq2-2021?metric_name=eps&chart=historical\n",
      "7476 Total Users found after URL: https://www.estimize.com/WMT/fq3-2021?metric_name=eps&chart=historical\n",
      "7481 Total Users found after URL: https://www.estimize.com/WMT/fq4-2021?metric_name=eps&chart=historical\n",
      "7490 Total Users found after URL: https://www.estimize.com/WMT/fq1-2022?metric_name=eps&chart=historical\n",
      "7494 Total Users found after URL: https://www.estimize.com/WMT/fq2-2022?metric_name=eps&chart=historical\n",
      "7499 Total Users found after URL: https://www.estimize.com/WMT/fq3-2022?metric_name=eps&chart=historical\n",
      "7503 Total Users found after URL: https://www.estimize.com/WMT/fq4-2022?metric_name=eps&chart=historical\n",
      "7569 Total Users found after URL: https://www.estimize.com/CRM/fq1-2020?metric_name=eps&chart=historical\n",
      "7612 Total Users found after URL: https://www.estimize.com/CRM/fq2-2020?metric_name=eps&chart=historical\n",
      "7641 Total Users found after URL: https://www.estimize.com/CRM/fq3-2020?metric_name=eps&chart=historical\n",
      "7658 Total Users found after URL: https://www.estimize.com/CRM/fq4-2020?metric_name=eps&chart=historical\n",
      "7679 Total Users found after URL: https://www.estimize.com/CRM/fq1-2021?metric_name=eps&chart=historical\n",
      "7693 Total Users found after URL: https://www.estimize.com/CRM/fq2-2021?metric_name=eps&chart=historical\n",
      "7702 Total Users found after URL: https://www.estimize.com/CRM/fq3-2021?metric_name=eps&chart=historical\n",
      "7715 Total Users found after URL: https://www.estimize.com/CRM/fq4-2021?metric_name=eps&chart=historical\n",
      "7720 Total Users found after URL: https://www.estimize.com/CRM/fq1-2022?metric_name=eps&chart=historical\n",
      "7726 Total Users found after URL: https://www.estimize.com/CRM/fq2-2022?metric_name=eps&chart=historical\n",
      "7732 Total Users found after URL: https://www.estimize.com/CRM/fq3-2022?metric_name=eps&chart=historical\n",
      "7745 Total Users found after URL: https://www.estimize.com/CRM/fq4-2022?metric_name=eps&chart=historical\n",
      "7781 Total Users found after URL: https://www.estimize.com/LULU/fq1-2020?metric_name=eps&chart=historical\n",
      "7804 Total Users found after URL: https://www.estimize.com/LULU/fq2-2020?metric_name=eps&chart=historical\n",
      "7838 Total Users found after URL: https://www.estimize.com/LULU/fq3-2020?metric_name=eps&chart=historical\n",
      "7846 Total Users found after URL: https://www.estimize.com/LULU/fq4-2020?metric_name=eps&chart=historical\n",
      "7849 Total Users found after URL: https://www.estimize.com/LULU/fq1-2021?metric_name=eps&chart=historical\n",
      "7863 Total Users found after URL: https://www.estimize.com/LULU/fq2-2021?metric_name=eps&chart=historical\n",
      "7869 Total Users found after URL: https://www.estimize.com/LULU/fq3-2021?metric_name=eps&chart=historical\n",
      "7878 Total Users found after URL: https://www.estimize.com/LULU/fq4-2021?metric_name=eps&chart=historical\n",
      "7880 Total Users found after URL: https://www.estimize.com/LULU/fq1-2022?metric_name=eps&chart=historical\n",
      "7881 Total Users found after URL: https://www.estimize.com/LULU/fq2-2022?metric_name=eps&chart=historical\n",
      "7890 Total Users found after URL: https://www.estimize.com/LULU/fq3-2022?metric_name=eps&chart=historical\n",
      "7894 Total Users found after URL: https://www.estimize.com/LULU/fq4-2022?metric_name=eps&chart=historical\n",
      "7900 Total Users found after URL: https://www.estimize.com/TGT/fq1-2020?metric_name=eps&chart=historical\n",
      "Link not found or unable to click for URL: https://www.estimize.com/TGT/fq2-2020?metric_name=eps&chart=historical\n",
      "7904 Total Users found after URL: https://www.estimize.com/TGT/fq2-2020?metric_name=eps&chart=historical\n",
      "Link not found or unable to click for URL: https://www.estimize.com/TGT/fq3-2020?metric_name=eps&chart=historical\n",
      "7905 Total Users found after URL: https://www.estimize.com/TGT/fq3-2020?metric_name=eps&chart=historical\n",
      "7911 Total Users found after URL: https://www.estimize.com/TGT/fq4-2020?metric_name=eps&chart=historical\n",
      "Link not found or unable to click for URL: https://www.estimize.com/TGT/fq1-2021?metric_name=eps&chart=historical\n",
      "7911 Total Users found after URL: https://www.estimize.com/TGT/fq1-2021?metric_name=eps&chart=historical\n",
      "Link not found or unable to click for URL: https://www.estimize.com/TGT/fq2-2021?metric_name=eps&chart=historical\n",
      "7911 Total Users found after URL: https://www.estimize.com/TGT/fq2-2021?metric_name=eps&chart=historical\n",
      "7913 Total Users found after URL: https://www.estimize.com/TGT/fq3-2021?metric_name=eps&chart=historical\n",
      "Link not found or unable to click for URL: https://www.estimize.com/TGT/fq4-2021?metric_name=eps&chart=historical\n",
      "7916 Total Users found after URL: https://www.estimize.com/TGT/fq4-2021?metric_name=eps&chart=historical\n",
      "Link not found or unable to click for URL: https://www.estimize.com/TGT/fq1-2022?metric_name=eps&chart=historical\n",
      "7918 Total Users found after URL: https://www.estimize.com/TGT/fq1-2022?metric_name=eps&chart=historical\n",
      "Link not found or unable to click for URL: https://www.estimize.com/TGT/fq2-2022?metric_name=eps&chart=historical\n",
      "7923 Total Users found after URL: https://www.estimize.com/TGT/fq2-2022?metric_name=eps&chart=historical\n",
      "Link not found or unable to click for URL: https://www.estimize.com/TGT/fq3-2022?metric_name=eps&chart=historical\n",
      "7924 Total Users found after URL: https://www.estimize.com/TGT/fq3-2022?metric_name=eps&chart=historical\n",
      "Link not found or unable to click for URL: https://www.estimize.com/TGT/fq4-2022?metric_name=eps&chart=historical\n",
      "7925 Total Users found after URL: https://www.estimize.com/TGT/fq4-2022?metric_name=eps&chart=historical\n",
      "7942 Total Users found after URL: https://www.estimize.com/PANW/fq1-2020?metric_name=eps&chart=historical\n",
      "7946 Total Users found after URL: https://www.estimize.com/PANW/fq2-2020?metric_name=eps&chart=historical\n",
      "7949 Total Users found after URL: https://www.estimize.com/PANW/fq3-2020?metric_name=eps&chart=historical\n",
      "7956 Total Users found after URL: https://www.estimize.com/PANW/fq4-2020?metric_name=eps&chart=historical\n",
      "7960 Total Users found after URL: https://www.estimize.com/PANW/fq1-2021?metric_name=eps&chart=historical\n",
      "7962 Total Users found after URL: https://www.estimize.com/PANW/fq2-2021?metric_name=eps&chart=historical\n",
      "7963 Total Users found after URL: https://www.estimize.com/PANW/fq3-2021?metric_name=eps&chart=historical\n",
      "7964 Total Users found after URL: https://www.estimize.com/PANW/fq4-2021?metric_name=eps&chart=historical\n",
      "7966 Total Users found after URL: https://www.estimize.com/PANW/fq1-2022?metric_name=eps&chart=historical\n",
      "7969 Total Users found after URL: https://www.estimize.com/PANW/fq2-2022?metric_name=eps&chart=historical\n",
      "7972 Total Users found after URL: https://www.estimize.com/PANW/fq3-2022?metric_name=eps&chart=historical\n",
      "7974 Total Users found after URL: https://www.estimize.com/PANW/fq4-2022?metric_name=eps&chart=historical\n",
      "7985 Total Users found after URL: https://www.estimize.com/ADBE/fq1-2020?metric_name=eps&chart=historical\n",
      "8001 Total Users found after URL: https://www.estimize.com/ADBE/fq2-2020?metric_name=eps&chart=historical\n",
      "8016 Total Users found after URL: https://www.estimize.com/ADBE/fq3-2020?metric_name=eps&chart=historical\n",
      "8046 Total Users found after URL: https://www.estimize.com/ADBE/fq4-2020?metric_name=eps&chart=historical\n",
      "8059 Total Users found after URL: https://www.estimize.com/ADBE/fq1-2021?metric_name=eps&chart=historical\n",
      "8066 Total Users found after URL: https://www.estimize.com/ADBE/fq2-2021?metric_name=eps&chart=historical\n",
      "8070 Total Users found after URL: https://www.estimize.com/ADBE/fq3-2021?metric_name=eps&chart=historical\n",
      "8081 Total Users found after URL: https://www.estimize.com/ADBE/fq4-2021?metric_name=eps&chart=historical\n",
      "8087 Total Users found after URL: https://www.estimize.com/ADBE/fq1-2022?metric_name=eps&chart=historical\n",
      "8092 Total Users found after URL: https://www.estimize.com/ADBE/fq2-2022?metric_name=eps&chart=historical\n",
      "8094 Total Users found after URL: https://www.estimize.com/ADBE/fq3-2022?metric_name=eps&chart=historical\n",
      "8100 Total Users found after URL: https://www.estimize.com/ADBE/fq4-2022?metric_name=eps&chart=historical\n",
      "8109 Total Users found after URL: https://www.estimize.com/VMW/fq1-2020?metric_name=eps&chart=historical\n",
      "8120 Total Users found after URL: https://www.estimize.com/VMW/fq2-2020?metric_name=eps&chart=historical\n",
      "8123 Total Users found after URL: https://www.estimize.com/VMW/fq3-2020?metric_name=eps&chart=historical\n",
      "8130 Total Users found after URL: https://www.estimize.com/VMW/fq4-2020?metric_name=eps&chart=historical\n",
      "8135 Total Users found after URL: https://www.estimize.com/VMW/fq1-2021?metric_name=eps&chart=historical\n",
      "8141 Total Users found after URL: https://www.estimize.com/VMW/fq2-2021?metric_name=eps&chart=historical\n",
      "8142 Total Users found after URL: https://www.estimize.com/VMW/fq3-2021?metric_name=eps&chart=historical\n",
      "Link not found or unable to click for URL: https://www.estimize.com/VMW/fq4-2021?metric_name=eps&chart=historical\n",
      "8143 Total Users found after URL: https://www.estimize.com/VMW/fq4-2021?metric_name=eps&chart=historical\n",
      "8145 Total Users found after URL: https://www.estimize.com/VMW/fq1-2022?metric_name=eps&chart=historical\n",
      "Link not found or unable to click for URL: https://www.estimize.com/VMW/fq2-2022?metric_name=eps&chart=historical\n",
      "8147 Total Users found after URL: https://www.estimize.com/VMW/fq2-2022?metric_name=eps&chart=historical\n",
      "8149 Total Users found after URL: https://www.estimize.com/VMW/fq3-2022?metric_name=eps&chart=historical\n",
      "Link not found or unable to click for URL: https://www.estimize.com/VMW/fq4-2022?metric_name=eps&chart=historical\n",
      "8149 Total Users found after URL: https://www.estimize.com/VMW/fq4-2022?metric_name=eps&chart=historical\n",
      "8214 Total Users found after URL: https://www.estimize.com/MU/fq1-2020?metric_name=eps&chart=historical\n",
      "8233 Total Users found after URL: https://www.estimize.com/MU/fq2-2020?metric_name=eps&chart=historical\n",
      "8258 Total Users found after URL: https://www.estimize.com/MU/fq3-2020?metric_name=eps&chart=historical\n",
      "8282 Total Users found after URL: https://www.estimize.com/MU/fq4-2020?metric_name=eps&chart=historical\n",
      "8300 Total Users found after URL: https://www.estimize.com/MU/fq1-2021?metric_name=eps&chart=historical\n",
      "8320 Total Users found after URL: https://www.estimize.com/MU/fq2-2021?metric_name=eps&chart=historical\n",
      "8340 Total Users found after URL: https://www.estimize.com/MU/fq3-2021?metric_name=eps&chart=historical\n",
      "8355 Total Users found after URL: https://www.estimize.com/MU/fq4-2021?metric_name=eps&chart=historical\n",
      "8373 Total Users found after URL: https://www.estimize.com/MU/fq1-2022?metric_name=eps&chart=historical\n",
      "8384 Total Users found after URL: https://www.estimize.com/MU/fq2-2022?metric_name=eps&chart=historical\n",
      "8393 Total Users found after URL: https://www.estimize.com/MU/fq3-2022?metric_name=eps&chart=historical\n",
      "8401 Total Users found after URL: https://www.estimize.com/MU/fq4-2022?metric_name=eps&chart=historical\n",
      "8433 Total Users found after URL: https://www.estimize.com/NKE/fq1-2020?metric_name=eps&chart=historical\n",
      "8450 Total Users found after URL: https://www.estimize.com/NKE/fq2-2020?metric_name=eps&chart=historical\n",
      "8462 Total Users found after URL: https://www.estimize.com/NKE/fq3-2020?metric_name=eps&chart=historical\n",
      "8483 Total Users found after URL: https://www.estimize.com/NKE/fq4-2020?metric_name=eps&chart=historical\n",
      "8488 Total Users found after URL: https://www.estimize.com/NKE/fq1-2021?metric_name=eps&chart=historical\n",
      "8498 Total Users found after URL: https://www.estimize.com/NKE/fq2-2021?metric_name=eps&chart=historical\n",
      "8507 Total Users found after URL: https://www.estimize.com/NKE/fq3-2021?metric_name=eps&chart=historical\n",
      "8516 Total Users found after URL: https://www.estimize.com/NKE/fq4-2021?metric_name=eps&chart=historical\n",
      "8522 Total Users found after URL: https://www.estimize.com/NKE/fq1-2022?metric_name=eps&chart=historical\n",
      "8526 Total Users found after URL: https://www.estimize.com/NKE/fq2-2022?metric_name=eps&chart=historical\n",
      "8533 Total Users found after URL: https://www.estimize.com/NKE/fq3-2022?metric_name=eps&chart=historical\n",
      "8544 Total Users found after URL: https://www.estimize.com/NKE/fq4-2022?metric_name=eps&chart=historical\n",
      "8564 Total Users found after URL: https://www.estimize.com/ORCL/fq1-2020?metric_name=eps&chart=historical\n",
      "8570 Total Users found after URL: https://www.estimize.com/ORCL/fq2-2020?metric_name=eps&chart=historical\n",
      "8575 Total Users found after URL: https://www.estimize.com/ORCL/fq3-2020?metric_name=eps&chart=historical\n",
      "8590 Total Users found after URL: https://www.estimize.com/ORCL/fq4-2020?metric_name=eps&chart=historical\n",
      "8595 Total Users found after URL: https://www.estimize.com/ORCL/fq1-2021?metric_name=eps&chart=historical\n",
      "8625 Total Users found after URL: https://www.estimize.com/ORCL/fq2-2021?metric_name=eps&chart=historical\n",
      "8629 Total Users found after URL: https://www.estimize.com/ORCL/fq3-2021?metric_name=eps&chart=historical\n",
      "8631 Total Users found after URL: https://www.estimize.com/ORCL/fq4-2021?metric_name=eps&chart=historical\n",
      "8636 Total Users found after URL: https://www.estimize.com/ORCL/fq1-2022?metric_name=eps&chart=historical\n",
      "8639 Total Users found after URL: https://www.estimize.com/ORCL/fq2-2022?metric_name=eps&chart=historical\n",
      "8645 Total Users found after URL: https://www.estimize.com/ORCL/fq3-2022?metric_name=eps&chart=historical\n",
      "8649 Total Users found after URL: https://www.estimize.com/ORCL/fq4-2022?metric_name=eps&chart=historical\n",
      "8691 Total Users found after URL: https://www.estimize.com/BB/fq1-2020?metric_name=eps&chart=historical\n",
      "8707 Total Users found after URL: https://www.estimize.com/BB/fq2-2020?metric_name=eps&chart=historical\n",
      "8716 Total Users found after URL: https://www.estimize.com/BB/fq3-2020?metric_name=eps&chart=historical\n",
      "8725 Total Users found after URL: https://www.estimize.com/BB/fq4-2020?metric_name=eps&chart=historical\n",
      "8742 Total Users found after URL: https://www.estimize.com/BB/fq1-2021?metric_name=eps&chart=historical\n",
      "8759 Total Users found after URL: https://www.estimize.com/BB/fq2-2021?metric_name=eps&chart=historical\n",
      "8763 Total Users found after URL: https://www.estimize.com/BB/fq3-2021?metric_name=eps&chart=historical\n",
      "8775 Total Users found after URL: https://www.estimize.com/BB/fq4-2021?metric_name=eps&chart=historical\n",
      "8780 Total Users found after URL: https://www.estimize.com/BB/fq1-2022?metric_name=eps&chart=historical\n",
      "8786 Total Users found after URL: https://www.estimize.com/BB/fq2-2022?metric_name=eps&chart=historical\n",
      "8792 Total Users found after URL: https://www.estimize.com/BB/fq3-2022?metric_name=eps&chart=historical\n",
      "8796 Total Users found after URL: https://www.estimize.com/BB/fq4-2022?metric_name=eps&chart=historical\n",
      "8796 Total Users found after URL: https://www.estimize.com/HPQ/fq1-2020?metric_name=eps&chart=historical\n",
      "8802 Total Users found after URL: https://www.estimize.com/HPQ/fq2-2020?metric_name=eps&chart=historical\n",
      "8803 Total Users found after URL: https://www.estimize.com/HPQ/fq3-2020?metric_name=eps&chart=historical\n",
      "8804 Total Users found after URL: https://www.estimize.com/HPQ/fq4-2020?metric_name=eps&chart=historical\n",
      "Link not found or unable to click for URL: https://www.estimize.com/HPQ/fq1-2021?metric_name=eps&chart=historical\n",
      "8808 Total Users found after URL: https://www.estimize.com/HPQ/fq1-2021?metric_name=eps&chart=historical\n",
      "8810 Total Users found after URL: https://www.estimize.com/HPQ/fq2-2021?metric_name=eps&chart=historical\n",
      "Link not found or unable to click for URL: https://www.estimize.com/HPQ/fq3-2021?metric_name=eps&chart=historical\n",
      "8812 Total Users found after URL: https://www.estimize.com/HPQ/fq3-2021?metric_name=eps&chart=historical\n",
      "Link not found or unable to click for URL: https://www.estimize.com/HPQ/fq4-2021?metric_name=eps&chart=historical\n",
      "8813 Total Users found after URL: https://www.estimize.com/HPQ/fq4-2021?metric_name=eps&chart=historical\n",
      "Link not found or unable to click for URL: https://www.estimize.com/HPQ/fq1-2022?metric_name=eps&chart=historical\n",
      "8815 Total Users found after URL: https://www.estimize.com/HPQ/fq1-2022?metric_name=eps&chart=historical\n",
      "8815 Total Users found after URL: https://www.estimize.com/HPQ/fq2-2022?metric_name=eps&chart=historical\n",
      "Link not found or unable to click for URL: https://www.estimize.com/HPQ/fq3-2022?metric_name=eps&chart=historical\n",
      "8817 Total Users found after URL: https://www.estimize.com/HPQ/fq3-2022?metric_name=eps&chart=historical\n",
      "Link not found or unable to click for URL: https://www.estimize.com/HPQ/fq4-2022?metric_name=eps&chart=historical\n",
      "8817 Total Users found after URL: https://www.estimize.com/HPQ/fq4-2022?metric_name=eps&chart=historical\n",
      "8836 Total Users found after URL: https://www.estimize.com/COST/fq1-2020?metric_name=eps&chart=historical\n",
      "8840 Total Users found after URL: https://www.estimize.com/COST/fq2-2020?metric_name=eps&chart=historical\n",
      "8849 Total Users found after URL: https://www.estimize.com/COST/fq3-2020?metric_name=eps&chart=historical\n",
      "8854 Total Users found after URL: https://www.estimize.com/COST/fq4-2020?metric_name=eps&chart=historical\n",
      "8855 Total Users found after URL: https://www.estimize.com/COST/fq1-2021?metric_name=eps&chart=historical\n",
      "8861 Total Users found after URL: https://www.estimize.com/COST/fq2-2021?metric_name=eps&chart=historical\n",
      "8864 Total Users found after URL: https://www.estimize.com/COST/fq3-2021?metric_name=eps&chart=historical\n",
      "8870 Total Users found after URL: https://www.estimize.com/COST/fq4-2021?metric_name=eps&chart=historical\n",
      "8874 Total Users found after URL: https://www.estimize.com/COST/fq1-2022?metric_name=eps&chart=historical\n",
      "8878 Total Users found after URL: https://www.estimize.com/COST/fq2-2022?metric_name=eps&chart=historical\n",
      "8883 Total Users found after URL: https://www.estimize.com/COST/fq3-2022?metric_name=eps&chart=historical\n",
      "8890 Total Users found after URL: https://www.estimize.com/COST/fq4-2022?metric_name=eps&chart=historical\n",
      "8899 Total Users found after URL: https://www.estimize.com/AMAT/fq1-2020?metric_name=eps&chart=historical\n",
      "8902 Total Users found after URL: https://www.estimize.com/AMAT/fq2-2020?metric_name=eps&chart=historical\n",
      "8907 Total Users found after URL: https://www.estimize.com/AMAT/fq3-2020?metric_name=eps&chart=historical\n",
      "8911 Total Users found after URL: https://www.estimize.com/AMAT/fq4-2020?metric_name=eps&chart=historical\n",
      "8913 Total Users found after URL: https://www.estimize.com/AMAT/fq1-2021?metric_name=eps&chart=historical\n",
      "8915 Total Users found after URL: https://www.estimize.com/AMAT/fq2-2021?metric_name=eps&chart=historical\n",
      "8917 Total Users found after URL: https://www.estimize.com/AMAT/fq3-2021?metric_name=eps&chart=historical\n",
      "8919 Total Users found after URL: https://www.estimize.com/AMAT/fq4-2021?metric_name=eps&chart=historical\n",
      "8921 Total Users found after URL: https://www.estimize.com/AMAT/fq1-2022?metric_name=eps&chart=historical\n",
      "8928 Total Users found after URL: https://www.estimize.com/AMAT/fq2-2022?metric_name=eps&chart=historical\n",
      "8932 Total Users found after URL: https://www.estimize.com/AMAT/fq3-2022?metric_name=eps&chart=historical\n",
      "8933 Total Users found after URL: https://www.estimize.com/AMAT/fq4-2022?metric_name=eps&chart=historical\n",
      "8964 Total Users found after URL: https://www.estimize.com/BAC/fq1-2020?metric_name=eps&chart=historical\n",
      "8980 Total Users found after URL: https://www.estimize.com/BAC/fq2-2020?metric_name=eps&chart=historical\n",
      "8991 Total Users found after URL: https://www.estimize.com/BAC/fq3-2020?metric_name=eps&chart=historical\n",
      "8998 Total Users found after URL: https://www.estimize.com/BAC/fq4-2020?metric_name=eps&chart=historical\n",
      "9008 Total Users found after URL: https://www.estimize.com/BAC/fq1-2021?metric_name=eps&chart=historical\n",
      "9019 Total Users found after URL: https://www.estimize.com/BAC/fq2-2021?metric_name=eps&chart=historical\n",
      "9026 Total Users found after URL: https://www.estimize.com/BAC/fq3-2021?metric_name=eps&chart=historical\n",
      "9039 Total Users found after URL: https://www.estimize.com/BAC/fq4-2021?metric_name=eps&chart=historical\n",
      "9048 Total Users found after URL: https://www.estimize.com/BAC/fq1-2022?metric_name=eps&chart=historical\n",
      "9053 Total Users found after URL: https://www.estimize.com/BAC/fq2-2022?metric_name=eps&chart=historical\n",
      "9060 Total Users found after URL: https://www.estimize.com/BAC/fq3-2022?metric_name=eps&chart=historical\n",
      "9074 Total Users found after URL: https://www.estimize.com/BAC/fq4-2022?metric_name=eps&chart=historical\n",
      "9081 Total Users found after URL: https://www.estimize.com/CVX/fq1-2020?metric_name=eps&chart=historical\n",
      "9086 Total Users found after URL: https://www.estimize.com/CVX/fq2-2020?metric_name=eps&chart=historical\n",
      "Link not found or unable to click for URL: https://www.estimize.com/CVX/fq3-2020?metric_name=eps&chart=historical\n",
      "9090 Total Users found after URL: https://www.estimize.com/CVX/fq3-2020?metric_name=eps&chart=historical\n",
      "9093 Total Users found after URL: https://www.estimize.com/CVX/fq4-2020?metric_name=eps&chart=historical\n",
      "9098 Total Users found after URL: https://www.estimize.com/CVX/fq1-2021?metric_name=eps&chart=historical\n",
      "Link not found or unable to click for URL: https://www.estimize.com/CVX/fq2-2021?metric_name=eps&chart=historical\n",
      "9100 Total Users found after URL: https://www.estimize.com/CVX/fq2-2021?metric_name=eps&chart=historical\n",
      "9101 Total Users found after URL: https://www.estimize.com/CVX/fq3-2021?metric_name=eps&chart=historical\n",
      "9102 Total Users found after URL: https://www.estimize.com/CVX/fq4-2021?metric_name=eps&chart=historical\n",
      "9104 Total Users found after URL: https://www.estimize.com/CVX/fq1-2022?metric_name=eps&chart=historical\n",
      "Link not found or unable to click for URL: https://www.estimize.com/CVX/fq2-2022?metric_name=eps&chart=historical\n",
      "9104 Total Users found after URL: https://www.estimize.com/CVX/fq2-2022?metric_name=eps&chart=historical\n",
      "9105 Total Users found after URL: https://www.estimize.com/CVX/fq3-2022?metric_name=eps&chart=historical\n",
      "9107 Total Users found after URL: https://www.estimize.com/CVX/fq4-2022?metric_name=eps&chart=historical\n",
      "Link not found or unable to click for URL: https://www.estimize.com/AMGN/fq1-2020?metric_name=eps&chart=historical\n",
      "9114 Total Users found after URL: https://www.estimize.com/AMGN/fq1-2020?metric_name=eps&chart=historical\n",
      "Link not found or unable to click for URL: https://www.estimize.com/AMGN/fq2-2020?metric_name=eps&chart=historical\n",
      "9117 Total Users found after URL: https://www.estimize.com/AMGN/fq2-2020?metric_name=eps&chart=historical\n",
      "Link not found or unable to click for URL: https://www.estimize.com/AMGN/fq3-2020?metric_name=eps&chart=historical\n",
      "9123 Total Users found after URL: https://www.estimize.com/AMGN/fq3-2020?metric_name=eps&chart=historical\n",
      "Link not found or unable to click for URL: https://www.estimize.com/AMGN/fq4-2020?metric_name=eps&chart=historical\n",
      "9123 Total Users found after URL: https://www.estimize.com/AMGN/fq4-2020?metric_name=eps&chart=historical\n",
      "Link not found or unable to click for URL: https://www.estimize.com/AMGN/fq1-2021?metric_name=eps&chart=historical\n",
      "9124 Total Users found after URL: https://www.estimize.com/AMGN/fq1-2021?metric_name=eps&chart=historical\n",
      "Link not found or unable to click for URL: https://www.estimize.com/AMGN/fq2-2021?metric_name=eps&chart=historical\n",
      "9126 Total Users found after URL: https://www.estimize.com/AMGN/fq2-2021?metric_name=eps&chart=historical\n",
      "Link not found or unable to click for URL: https://www.estimize.com/AMGN/fq3-2021?metric_name=eps&chart=historical\n",
      "9130 Total Users found after URL: https://www.estimize.com/AMGN/fq3-2021?metric_name=eps&chart=historical\n",
      "9132 Total Users found after URL: https://www.estimize.com/AMGN/fq4-2021?metric_name=eps&chart=historical\n",
      "Link not found or unable to click for URL: https://www.estimize.com/AMGN/fq1-2022?metric_name=eps&chart=historical\n",
      "9133 Total Users found after URL: https://www.estimize.com/AMGN/fq1-2022?metric_name=eps&chart=historical\n",
      "Link not found or unable to click for URL: https://www.estimize.com/AMGN/fq2-2022?metric_name=eps&chart=historical\n",
      "9135 Total Users found after URL: https://www.estimize.com/AMGN/fq2-2022?metric_name=eps&chart=historical\n",
      "Link not found or unable to click for URL: https://www.estimize.com/AMGN/fq3-2022?metric_name=eps&chart=historical\n",
      "9138 Total Users found after URL: https://www.estimize.com/AMGN/fq3-2022?metric_name=eps&chart=historical\n",
      "Link not found or unable to click for URL: https://www.estimize.com/AMGN/fq4-2022?metric_name=eps&chart=historical\n",
      "9140 Total Users found after URL: https://www.estimize.com/AMGN/fq4-2022?metric_name=eps&chart=historical\n",
      "9140 Total Users found after URL: https://www.estimize.com/PG/fq1-2020?metric_name=eps&chart=historical\n",
      "9140 Total Users found after URL: https://www.estimize.com/PG/fq2-2020?metric_name=eps&chart=historical\n",
      "9140 Total Users found after URL: https://www.estimize.com/PG/fq3-2020?metric_name=eps&chart=historical\n",
      "9140 Total Users found after URL: https://www.estimize.com/PG/fq4-2020?metric_name=eps&chart=historical\n",
      "Link not found or unable to click for URL: https://www.estimize.com/PG/fq1-2021?metric_name=eps&chart=historical\n",
      "9140 Total Users found after URL: https://www.estimize.com/PG/fq1-2021?metric_name=eps&chart=historical\n",
      "Link not found or unable to click for URL: https://www.estimize.com/PG/fq2-2021?metric_name=eps&chart=historical\n",
      "9140 Total Users found after URL: https://www.estimize.com/PG/fq2-2021?metric_name=eps&chart=historical\n",
      "Link not found or unable to click for URL: https://www.estimize.com/PG/fq3-2021?metric_name=eps&chart=historical\n",
      "9140 Total Users found after URL: https://www.estimize.com/PG/fq3-2021?metric_name=eps&chart=historical\n",
      "Link not found or unable to click for URL: https://www.estimize.com/PG/fq4-2021?metric_name=eps&chart=historical\n",
      "9140 Total Users found after URL: https://www.estimize.com/PG/fq4-2021?metric_name=eps&chart=historical\n",
      "Link not found or unable to click for URL: https://www.estimize.com/PG/fq1-2022?metric_name=eps&chart=historical\n",
      "9140 Total Users found after URL: https://www.estimize.com/PG/fq1-2022?metric_name=eps&chart=historical\n",
      "Link not found or unable to click for URL: https://www.estimize.com/PG/fq2-2022?metric_name=eps&chart=historical\n",
      "9140 Total Users found after URL: https://www.estimize.com/PG/fq2-2022?metric_name=eps&chart=historical\n",
      "Link not found or unable to click for URL: https://www.estimize.com/PG/fq3-2022?metric_name=eps&chart=historical\n",
      "9140 Total Users found after URL: https://www.estimize.com/PG/fq3-2022?metric_name=eps&chart=historical\n",
      "Link not found or unable to click for URL: https://www.estimize.com/PG/fq4-2022?metric_name=eps&chart=historical\n",
      "9140 Total Users found after URL: https://www.estimize.com/PG/fq4-2022?metric_name=eps&chart=historical\n",
      "9140 Total Users found across all URLs\n"
     ]
    }
   ],
   "source": [
    "# Getting all usernames from desired ticker quarters\n",
    "\n",
    "# Creating a set in which to house the unique usernames\n",
    "unique_user_values = set()\n",
    "\n",
    "# Iterating across the URL list as before\n",
    "for _, row in url_df.iterrows():\n",
    "    test_url = row['URL']\n",
    "    driver.get(test_url)\n",
    "\n",
    "    # Checking to see if the button at the bottom of the desired table that expands the table to all values exists (some tables only have a few entries and do not have this button)\n",
    "    try:\n",
    "        # Looking for the button for up to 10 seconds and assigning its link to the link_element variable if it is found\n",
    "        link_element = WebDriverWait(driver, 10).until(\n",
    "            EC.presence_of_element_located((By.CSS_SELECTOR, '#estimates > div > a'))\n",
    "        )\n",
    "        # Clicking the link to load the full table\n",
    "        link_element.click()\n",
    "    except:\n",
    "        # Printing that the button link was not found as well as the URL of the page to allow for followup investigation to confirm that no button was present\n",
    "        # Critically, we do not end the for loop if the button is not found, as the lack of the button could simply mean that the table was already completely present on the page when our driver loaded the page\n",
    "        print(f\"Link not found or unable to click for URL: {test_url}\")\n",
    "\n",
    "    # Selecting the table\n",
    "    try:\n",
    "        table = driver.find_element(By.CSS_SELECTOR, '#estimates > table')\n",
    "        \n",
    "        # Extracting the table data\n",
    "        table_html = table.get_attribute('outerHTML')\n",
    "\n",
    "        # Parsing the data using BeautifulSoup\n",
    "        soup = BeautifulSoup(table_html, 'html.parser')\n",
    "\n",
    "        # Finding all elements in the soup object that are data-user elements (URL string to their Estimize profile page)\n",
    "        user_elements = soup.find_all(attrs={'data-user': True})\n",
    "\n",
    "        # Adding the elements to a list\n",
    "        user_values = [element['data-user'] for element in user_elements]\n",
    "\n",
    "        # Adding the list values to the previously created set, effectively eliminating duplicates\n",
    "        unique_user_values.update(user_values)\n",
    "\n",
    "        print(f\"{len(unique_user_values)} Total Users found after URL: {test_url}\")\n",
    "    except:\n",
    "        print(f\"Table NOT found for URL: {test_url}\")\n",
    "\n",
    "# Converting the set to a list\n",
    "final_unique_users = list(unique_user_values)\n",
    "print(f\"{len(final_unique_users)} Total Users found across all URLs\")"
   ]
  },
  {
   "cell_type": "code",
   "execution_count": 99,
   "id": "86ef4874-e39e-4443-a73f-ea53ca2483bc",
   "metadata": {},
   "outputs": [],
   "source": [
    "# Converting the list of usernames to a CSV\n",
    "output_csv_file = 'analyst_list.csv'\n",
    "\n",
    "with open(output_csv_file, 'w', newline='') as csvfile:\n",
    "    writer = csv.writer(csvfile)\n",
    "    writer.writerow(['User'])\n",
    "    writer.writerows([[user] for user in final_unique_users])"
   ]
  },
  {
   "cell_type": "code",
   "execution_count": 144,
   "id": "359324b3-7020-4a7c-b364-cb45aeb42f82",
   "metadata": {},
   "outputs": [
    {
     "name": "stdout",
     "output_type": "stream",
     "text": [
      "Stocks Covered Scrape Complete for User: analyst_3926000\n",
      "\u001b[91mError while pulling Pending Estimates for User: analyst_3926000\u001b[0m\n",
      "Pending Estimates Scrape Complete for User: analyst_3926000\n",
      "Scored Estimates Scrape Complete for User: analyst_3926000\n",
      "Stocks Covered Scrape Complete for User: analyst_4411670\n",
      "\u001b[91mError while pulling Pending Estimates for User: analyst_4411670\u001b[0m\n",
      "Pending Estimates Scrape Complete for User: analyst_4411670\n",
      "Scored Estimates Scrape Complete for User: analyst_4411670\n",
      "Stocks Covered Scrape Complete for User: analyst_9593416\n",
      "\u001b[91mError while pulling Pending Estimates for User: analyst_9593416\u001b[0m\n",
      "Pending Estimates Scrape Complete for User: analyst_9593416\n",
      "Scored Estimates Scrape Complete for User: analyst_9593416\n",
      "Stocks Covered Scrape Complete for User: rsreina\n",
      "Pending Estimates Scrape Complete for User: rsreina\n",
      "Scored Estimates Scrape Complete for User: rsreina\n",
      "Stocks Covered Scrape Complete for User: analyst_8891778\n",
      "\u001b[91mError while pulling Pending Estimates for User: analyst_8891778\u001b[0m\n",
      "Pending Estimates Scrape Complete for User: analyst_8891778\n",
      "Scored Estimates Scrape Complete for User: analyst_8891778\n",
      "Stocks Covered Scrape Complete for User: analyst_5193035\n",
      "\u001b[91mError while pulling Pending Estimates for User: analyst_5193035\u001b[0m\n",
      "Pending Estimates Scrape Complete for User: analyst_5193035\n",
      "Scored Estimates Scrape Complete for User: analyst_5193035\n"
     ]
    }
   ],
   "source": [
    "test_users = final_unique_users[5:11] \n",
    "\n",
    "# Creating list for the user tables\n",
    "stocks_covered_dfs = []\n",
    "pending_estimates_dfs = []\n",
    "scored_estimates_dfs = []\n",
    "\n",
    "first_attempt = True\n",
    "\n",
    "# Iterating over URLs\n",
    "for test_user in test_users:\n",
    "    url = f\"https://www.estimize.com/users/{test_user}\"\n",
    "    driver.get(url)\n",
    "\n",
    "    # Checking for hidden entries in the Stocks Covered table\n",
    "    if first_attempt:\n",
    "        driver.execute_script(\"window.scrollBy(0, 500);\")\n",
    "        first_attempt = False\n",
    "    else:\n",
    "        while True:\n",
    "            try:\n",
    "                driver.execute_script(\"window.scrollBy(0, 500);\")\n",
    "                table = WebDriverWait(driver, 2).until(\n",
    "                EC.presence_of_element_located((By.CSS_SELECTOR, '#profile-covered-stocks > div.linked-table'))\n",
    "                )\n",
    "                table_html = table.get_attribute('outerHTML')\n",
    "                soup = BeautifulSoup(table_html, 'html.parser')\n",
    "                hidden_entries = soup.find_all(class_='linked-row hidden')\n",
    "    \n",
    "                if not hidden_entries:\n",
    "                    break\n",
    "    \n",
    "                pagination_link = driver.find_element(By.CSS_SELECTOR, '#profile-covered-stocks > div.pagination-footer')\n",
    "                pagination_link.click()\n",
    "\n",
    "            except Exception as e:\n",
    "                print(f\"\\033[91mError while pulling Stocks Covered for User: {test_user}\\033[0m\")\n",
    "                break\n",
    "    \n",
    "    sc_rows = soup.find_all('tr')\n",
    "    sc_data = []\n",
    "    for sc_row in sc_rows:\n",
    "        sc_cols = sc_row.find_all('td')\n",
    "        if sc_cols:\n",
    "            sc_data.append({\n",
    "                'User URL': test_user,\n",
    "                'Analyst Username': test_user,\n",
    "                'Ticker': cols[0].text,\n",
    "                'Reports': cols[1].text,\n",
    "                'Quarters': cols[2].text,\n",
    "                'Points': cols[3].text,\n",
    "                'Pts/Est': cols[4].text,\n",
    "                'Error Rate': cols[5].text,\n",
    "            })\n",
    "\n",
    "    sc_df = pd.DataFrame(sc_data)\n",
    "\n",
    "    stocks_covered_dfs.append(sc_df)\n",
    "\n",
    "    print(f\"Stocks Covered Scrape Complete for User: {test_user}\")\n",
    "\n",
    "    while True:\n",
    "        try:\n",
    "            driver.execute_script(\"window.scrollBy(0, 500);\")\n",
    "            table = WebDriverWait(driver, 0.5).until(\n",
    "            EC.presence_of_element_located((By.CSS_SELECTOR, '#profile-pending-estimates > div.linked-table'))\n",
    "            )\n",
    "            table_html = table.get_attribute('outerHTML')\n",
    "            soup = BeautifulSoup(table_html, 'html.parser')\n",
    "            hidden_entries = soup.find_all(class_='linked-row hidden')\n",
    "\n",
    "            if not hidden_entries:\n",
    "                break\n",
    "\n",
    "            pagination_link = driver.find_element(By.CSS_SELECTOR, '#profile-pending-estimates > div.pagination-footer')\n",
    "            pagination_link.click()\n",
    "\n",
    "        except Exception as e:\n",
    "            print(f\"\\033[91mError while pulling Pending Estimates for User: {test_user}\\033[0m\")\n",
    "            break\n",
    "    \n",
    "    pe_rows = soup.find_all('tr')\n",
    "    pe_data = []\n",
    "    for pe_row in pe_rows:\n",
    "        pe_cols = pe_row.find_all('td')\n",
    "        if pe_cols:\n",
    "            data.append({\n",
    "                'User URL': test_user,\n",
    "                'Analyst Username': test_user,\n",
    "                'Ticker': cols[0].text,\n",
    "                'Quarter': cols[1].text,\n",
    "                'Reports': cols[2].text,\n",
    "                'Published': cols[3].text,\n",
    "                'EPS': cols[4].text,\n",
    "                'Revenue': cols[5].text,\n",
    "            })\n",
    "\n",
    "    pe_df = pd.DataFrame(pe_data)\n",
    "\n",
    "    pending_estimates_dfs.append(pe_df)\n",
    "\n",
    "    print(f\"Pending Estimates Scrape Complete for User: {test_user}\")\n",
    "\n",
    "    while True:\n",
    "        try:\n",
    "            driver.execute_script(\"window.scrollBy(0, 500);\")\n",
    "            table = WebDriverWait(driver, 0.5).until(\n",
    "            EC.presence_of_element_located((By.CSS_SELECTOR, '#profile-scored-estimates > div.linked-table'))\n",
    "            )\n",
    "            table_html = table.get_attribute('outerHTML')\n",
    "            soup = BeautifulSoup(table_html, 'html.parser')\n",
    "            hidden_entries = soup.find_all(class_='linked-row hidden')\n",
    "\n",
    "            if not hidden_entries:\n",
    "                break\n",
    "\n",
    "            pagination_link = driver.find_element(By.CSS_SELECTOR, '#profile-scored-estimates > div.pagination-footer')\n",
    "            pagination_link.click()\n",
    "\n",
    "        except Exception as e:\n",
    "            print(f\"\\033[91mError while pulling Scored Estimates for User: {test_user}\\033[0m\")\n",
    "            break\n",
    "    \n",
    "    se_rows = soup.find_all('tr')\n",
    "    se_data = []\n",
    "    for se_row in se_rows:\n",
    "        se_cols = se_row.find_all('td')\n",
    "        if se_cols:\n",
    "            data.append({\n",
    "                'User URL': test_user,\n",
    "                'Analyst Username': test_user,\n",
    "                'Ticker': cols[0].text,\n",
    "                'Quarter': cols[1].text,\n",
    "                'Reported': cols[2].text,\n",
    "                'Rank': cols[3].text,\n",
    "                'EPS Points': cols[4].text,\n",
    "                'Revenue Points': cols[5].text,\n",
    "                'Total Points': cols[6].text\n",
    "            })\n",
    "\n",
    "    se_df = pd.DataFrame(se_data)\n",
    "\n",
    "    scored_estimates_dfs.append(se_df)\n",
    "\n",
    "    print(f\"Scored Estimates Scrape Complete for User: {test_user}\")"
   ]
  },
  {
   "cell_type": "code",
   "execution_count": 143,
   "id": "54db4017-c97d-4b11-ab1b-d1d6ee1cda63",
   "metadata": {},
   "outputs": [
    {
     "data": {
      "text/plain": [
       "[Empty DataFrame\n",
       " Columns: []\n",
       " Index: [],\n",
       " Empty DataFrame\n",
       " Columns: []\n",
       " Index: [],\n",
       " Empty DataFrame\n",
       " Columns: []\n",
       " Index: [],\n",
       " Empty DataFrame\n",
       " Columns: []\n",
       " Index: [],\n",
       " Empty DataFrame\n",
       " Columns: []\n",
       " Index: [],\n",
       " Empty DataFrame\n",
       " Columns: []\n",
       " Index: []]"
      ]
     },
     "execution_count": 143,
     "metadata": {},
     "output_type": "execute_result"
    }
   ],
   "source": [
    "stocks_covered_dfs"
   ]
  },
  {
   "cell_type": "code",
   "execution_count": 178,
   "id": "f97be890-fedf-4f53-a3ba-2cc9a8a4db4a",
   "metadata": {},
   "outputs": [
    {
     "name": "stdout",
     "output_type": "stream",
     "text": [
      "Stocks Covered Scrape Complete for User: analyst_3926000\n",
      "Stocks Covered Scrape Complete for User: analyst_4411670\n",
      "Stocks Covered Scrape Complete for User: analyst_9593416\n"
     ]
    }
   ],
   "source": [
    "test_users = final_unique_users[5:11] \n",
    "\n",
    "# Creating list for the user tables\n",
    "general_user_data_dfs = []\n",
    "stocks_covered_dfs = []\n",
    "pending_estimates_dfs = []\n",
    "scored_estimates_dfs = []\n",
    "\n",
    "first_attempt = True\n",
    "\n",
    "# Iterating over URLs\n",
    "for test_user in test_users:\n",
    "    url = f\"https://www.estimize.com/users/{test_user}\"\n",
    "    driver.get(url)\n",
    "\n",
    "    name = driver.find_element(By.CSS_SELECTOR, \"#users_show > div.main-content-wrapper.is-closed > div.before-main-wrapper.content-header-show > div:nth-child(1) > div.profile-left-column > div > h1 > a\")\n",
    "    analyst_username = name.text.strip()\n",
    "\n",
    "    roles = []\n",
    "    role1 = driver.find_element(By.CSS_SELECTOR, \"#users_show > div.main-content-wrapper.is-closed > div.before-main-wrapper.content-header-show > div:nth-child(1) > div.profile-left-column > div > ul > li:nth-child(1)\")\n",
    "    analyst_role1 = role1.text.strip()\n",
    "    roles.append(role1)\n",
    "\n",
    "    try:\n",
    "        role2 = driver.find_element(By.CSS_SELECTOR, \"#users_show > div.main-content-wrapper.is-closed > div.before-main-wrapper.content-header-show > div:nth-child(1) > div.profile-left-column > div > ul > li:nth-child(2)\")\n",
    "        analyst_role2 = role2.text.strip()\n",
    "        roles.append(role2)\n",
    "\n",
    "    except Exception as e:\n",
    "        break   \n",
    "\n",
    "    try:\n",
    "        role3 = driver.find_element(By.CSS_SELECTOR, \"#users_show > div.main-content-wrapper.is-closed > div.before-main-wrapper.content-header-show > div:nth-child(1) > div.profile-left-column > div > ul > li:nth-child(3)\")\n",
    "        analyst_role3 = role3.text.strip()\n",
    "        roles.append(role3)\n",
    "\n",
    "    except Exception as e:\n",
    "        break \n",
    "\n",
    "    join = driver.find_element(By.CSS_SELECTOR, \"#users_show > div.main-content-wrapper.is-closed > div.before-main-wrapper.content-header-show > div:nth-child(1) > div.profile-left-column > div > div.profile-bio-footer > div.profile-activity-stats\")\n",
    "    join_date = join.text.strip()\n",
    "\n",
    "    confidence = driver.find_element(By.CSS_SELECTOR, \"#confidence-wrap > div > div.value\")\n",
    "    analyst_confidence = confidence.text.strip()\n",
    "\n",
    "    error = driver.find_element(By.CSS_SELECTOR, \"#profile-tab-wrap > div.profile-tab.profile-tab-selectable.profile-tab-accuracy.is-selected > div:nth-child(1) > div.profile-stat-secondary\")\n",
    "    error_rate = error.text.strip()\n",
    "\n",
    "    accuracy = driver.find_element(By.CSS_SELECTOR, \"#profile-tab-wrap > div.profile-tab.profile-tab-selectable.profile-tab-accuracy.is-selected > div:nth-child(2) > div.profile-stat-secondary\")\n",
    "    accuracy_percentile = accuracy.text.strip()\n",
    "\n",
    "    points = driver.find_element(By.CSS_SELECTOR, \"#profile-tab-wrap > div.profile-tab.profile-tab-selectable.not-selected.profile-tab-points > div:nth-child(1) > div.profile-stat-secondary\")\n",
    "    points_total = points.text.strip()\n",
    "\n",
    "    stocks = driver.find_element(By.CSS_SELECTOR, \"#profile-tab-wrap > div.profile-tab.profile-tab-unselectable.profile-tab-last.not-selected.profile-tab-stocks > div:nth-child(1) > div.profile-stat-secondary\")\n",
    "    stocks_total = stocks.text.strip()\n",
    "\n",
    "    pending = driver.find_element(By.CSS_SELECTOR, \"#profile-tab-wrap > div.profile-tab.profile-tab-unselectable.profile-tab-last.not-selected.profile-tab-stocks > div:nth-child(2) > div.profile-stat-secondary\")\n",
    "    pending_estimates = pending.text.strip()\n",
    "    \n",
    "    # Create a DataFrame with the extracted value\n",
    "    gud_df = pd.DataFrame({'Analyst Username': analyst_username, \n",
    "                           'URL Username': test_user,\n",
    "                           'Roles': [roles],\n",
    "                           'Join Date': join_date,\n",
    "                           'Analyst Confidence Score': analyst_confidence,\n",
    "                           'Error Rate': error_rate,\n",
    "                           'Accuracy Percentile': accuracy_percentile,\n",
    "                           'Points': points_total,\n",
    "                           'Stocks': stocks_total,\n",
    "                           'Pending': pending_estimates\n",
    "                          })\n",
    "\n",
    "    general_user_data_dfs.append(gud_df)\n",
    "    \n",
    "    # Checking for hidden entries in the Stocks Covered table\n",
    "    if first_attempt:\n",
    "        driver.execute_script(\"window.scrollBy(0, 500);\")\n",
    "        first_attempt = False\n",
    "    else:\n",
    "        while True:\n",
    "            try:\n",
    "                driver.execute_script(\"window.scrollBy(0, 500);\")\n",
    "                table = WebDriverWait(driver, 5).until(\n",
    "                EC.presence_of_element_located((By.CSS_SELECTOR, '#profile-covered-stocks > div.linked-table'))\n",
    "                )\n",
    "                table_html = table.get_attribute('outerHTML')\n",
    "                soup = BeautifulSoup(table_html, 'html.parser')\n",
    "                hidden_entries = soup.find_all(class_='linked-row hidden')\n",
    "    \n",
    "                if not hidden_entries:\n",
    "                    break\n",
    "    \n",
    "                pagination_link = driver.find_element(By.CSS_SELECTOR, '#profile-covered-stocks > div.pagination-footer')\n",
    "                pagination_link.click()\n",
    "\n",
    "            except Exception as e:\n",
    "                print(f\"\\033[91mError while pulling Stocks Covered for User: {test_user}\\033[0m\")\n",
    "                break\n",
    "\n",
    "    lines = str(soup).splitlines()\n",
    "\n",
    "    # Initialize an empty list to store the data\n",
    "    sc_data = []\n",
    "    \n",
    "    # Extract data following the specified pattern\n",
    "    for i in range(len(lines)):\n",
    "        if \"profile-tbl-ticker\" in lines[i]:\n",
    "            ticker = lines[i+1].strip()\n",
    "            reports = lines[i + 6].strip()\n",
    "            quarters = lines[i + 9].strip()\n",
    "            points = lines[i + 12].strip()\n",
    "            pts_per_estimate = lines[i + 15].strip()\n",
    "            error_rate = lines[i + 18].strip()\n",
    "            accuracy = lines[i + 21].strip()\n",
    "    \n",
    "            sc_data.append({\n",
    "                'Analyst Username': analyst_username, \n",
    "                'URL Username': test_user,\n",
    "                'Reports': reports,\n",
    "                'Quarters': quarters,\n",
    "                'Points': points,\n",
    "                'Pts/Est': pts_per_estimate,\n",
    "                'Error Rate': error_rate,\n",
    "                'Accuracy': accuracy\n",
    "            })\n",
    "    \n",
    "    # Create a DataFrame from the extracted data\n",
    "    sc_df = pd.DataFrame(sc_data)\n",
    "\n",
    "    stocks_covered_dfs.append(sc_df)\n",
    "\n",
    "    print(f\"Stocks Covered Scrape Complete for User: {test_user}\")"
   ]
  },
  {
   "cell_type": "code",
   "execution_count": 189,
   "id": "bbac2c32-fa0a-4b29-b821-8114a9fc04d6",
   "metadata": {},
   "outputs": [
    {
     "name": "stdout",
     "output_type": "stream",
     "text": [
      "Stocks Covered Scrape Complete for User: analyst_3926000\n",
      "Stocks Covered Scrape Complete for User: analyst_4411670\n",
      "Stocks Covered Scrape Complete for User: analyst_9593416\n"
     ]
    }
   ],
   "source": [
    "test_users = final_unique_users[5:11] \n",
    "\n",
    "# Creating list for the user tables\n",
    "general_user_data_dicts = []\n",
    "stocks_covered_dfs = []\n",
    "pending_estimates_dfs = []\n",
    "scored_estimates_dfs = []\n",
    "\n",
    "first_attempt = True\n",
    "\n",
    "# Iterating over URLs\n",
    "for test_user in test_users:\n",
    "    url = f\"https://www.estimize.com/users/{test_user}\"\n",
    "    driver.get(url)\n",
    "\n",
    "    name = driver.find_element(By.CSS_SELECTOR, \"#users_show > div.main-content-wrapper.is-closed > div.before-main-wrapper.content-header-show > div:nth-child(1) > div.profile-left-column > div > h1 > a\")\n",
    "    analyst_username = name.text.strip()\n",
    "\n",
    "    # Checking for hidden entries in the Stocks Covered table\n",
    "    if first_attempt:\n",
    "        driver.execute_script(\"window.scrollBy(0, 500);\")\n",
    "        first_attempt = False\n",
    "    else:\n",
    "        while True:\n",
    "            try:\n",
    "                driver.execute_script(\"window.scrollBy(0, 500);\")\n",
    "                table = WebDriverWait(driver, 10).until(\n",
    "                EC.presence_of_element_located((By.CSS_SELECTOR, '#profile-covered-stocks > div.linked-table'))\n",
    "                )\n",
    "                table_html = table.get_attribute('outerHTML')\n",
    "                soup = BeautifulSoup(table_html, 'html.parser')\n",
    "                hidden_entries = soup.find_all(class_='linked-row hidden')\n",
    "    \n",
    "                if not hidden_entries:\n",
    "                    break\n",
    "    \n",
    "                pagination_link = driver.find_element(By.CSS_SELECTOR, '#profile-covered-stocks > div.pagination-footer')\n",
    "                pagination_link.click()\n",
    "\n",
    "            except Exception as e:\n",
    "                print(f\"\\033[91mError while pulling Stocks Covered for User: {test_user}\\033[0m\")\n",
    "                break\n",
    "\n",
    "    lines = str(soup).splitlines()\n",
    "\n",
    "    # Initialize an empty list to store the data\n",
    "    sc_data = []\n",
    "    \n",
    "    # Extract data following the specified pattern\n",
    "    for i in range(len(lines)):\n",
    "        if \"profile-tbl-ticker\" in lines[i]:\n",
    "            ticker = lines[i+1].strip()\n",
    "            reports = lines[i + 6].strip()\n",
    "            quarters = lines[i + 9].strip()\n",
    "            points = lines[i + 12].strip()\n",
    "            pts_per_estimate = lines[i + 15].strip()\n",
    "            error_rate = lines[i + 18].strip()\n",
    "            accuracy = lines[i + 21].strip()\n",
    "    \n",
    "            sc_data.append({\n",
    "                'Analyst Username': analyst_username, \n",
    "                'URL Username': test_user,\n",
    "                'Reports': reports,\n",
    "                'Quarters': quarters,\n",
    "                'Points': points,\n",
    "                'Pts/Est': pts_per_estimate,\n",
    "                'Error Rate': error_rate,\n",
    "                'Accuracy': accuracy\n",
    "            })\n",
    "    \n",
    "    # Create a DataFrame from the extracted data\n",
    "    sc_df = pd.DataFrame(sc_data)\n",
    "\n",
    "    stocks_covered_dfs.append(sc_df)\n",
    "\n",
    "    \n",
    "    roles = []\n",
    "    role1 = driver.find_element(By.CSS_SELECTOR, \"#users_show > div.main-content-wrapper.is-closed > div.before-main-wrapper.content-header-show > div:nth-child(1) > div.profile-left-column > div > ul > li:nth-child(1)\")\n",
    "    analyst_role1 = role1.text.strip()\n",
    "    roles.append(role1)\n",
    "\n",
    "    try:\n",
    "        role2 = driver.find_element(By.CSS_SELECTOR, \"#users_show > div.main-content-wrapper.is-closed > div.before-main-wrapper.content-header-show > div:nth-child(1) > div.profile-left-column > div > ul > li:nth-child(2)\")\n",
    "        analyst_role2 = role2.text.strip()\n",
    "        roles.append(role2)\n",
    "\n",
    "    except Exception as e:\n",
    "        break   \n",
    "\n",
    "    try:\n",
    "        role3 = driver.find_element(By.CSS_SELECTOR, \"#users_show > div.main-content-wrapper.is-closed > div.before-main-wrapper.content-header-show > div:nth-child(1) > div.profile-left-column > div > ul > li:nth-child(3)\")\n",
    "        analyst_role3 = role3.text.strip()\n",
    "        roles.append(role3)\n",
    "\n",
    "    except Exception as e:\n",
    "        break \n",
    "\n",
    "    join = driver.find_element(By.CSS_SELECTOR, \"#users_show > div.main-content-wrapper.is-closed > div.before-main-wrapper.content-header-show > div:nth-child(1) > div.profile-left-column > div > div.profile-bio-footer > div.profile-activity-stats\")\n",
    "    join_date = join.text.strip()\n",
    "\n",
    "    confidence = driver.find_element(By.CSS_SELECTOR, \"#confidence-wrap > div > div.value\")\n",
    "    analyst_confidence = confidence.text.strip()\n",
    "\n",
    "    error = driver.find_element(By.CSS_SELECTOR, \"#profile-tab-wrap > div.profile-tab.profile-tab-selectable.profile-tab-accuracy.is-selected > div:nth-child(1) > div.profile-stat-secondary\")\n",
    "    error_rate = error.text.strip()\n",
    "\n",
    "    accuracy = driver.find_element(By.CSS_SELECTOR, \"#profile-tab-wrap > div.profile-tab.profile-tab-selectable.profile-tab-accuracy.is-selected > div:nth-child(2) > div.profile-stat-secondary\")\n",
    "    accuracy_percentile = accuracy.text.strip()\n",
    "\n",
    "    points = driver.find_element(By.CSS_SELECTOR, \"#profile-tab-wrap > div.profile-tab.profile-tab-selectable.not-selected.profile-tab-points > div:nth-child(1) > div.profile-stat-secondary\")\n",
    "    points_total = points.text.strip()\n",
    "\n",
    "    stocks = driver.find_element(By.CSS_SELECTOR, \"#profile-tab-wrap > div.profile-tab.profile-tab-unselectable.profile-tab-last.not-selected.profile-tab-stocks > div:nth-child(1) > div.profile-stat-secondary\")\n",
    "    stocks_total = stocks.text.strip()\n",
    "\n",
    "    pending = driver.find_element(By.CSS_SELECTOR, \"#profile-tab-wrap > div.profile-tab.profile-tab-unselectable.profile-tab-last.not-selected.profile-tab-stocks > div:nth-child(2) > div.profile-stat-secondary\")\n",
    "    pending_estimates = pending.text.strip()\n",
    "    \n",
    "    # Create a DataFrame with the extracted value\n",
    "    gud_dict = {\n",
    "                'Analyst Username': analyst_username, \n",
    "                'URL Username': test_user,\n",
    "                'Roles': [roles],\n",
    "                'Join Date': join_date,\n",
    "                'Analyst Confidence Score': analyst_confidence,\n",
    "                'Error Rate': error_rate,\n",
    "                'Accuracy Percentile': accuracy_percentile,\n",
    "                'Points': points_total,\n",
    "                'Stocks': stocks_total,\n",
    "                'Pending': pending_estimates\n",
    "                }\n",
    "\n",
    "    general_user_data_dicts.append(gud_dict)\n",
    "    \n",
    "\n",
    "    print(f\"Stocks Covered Scrape Complete for User: {test_user}\")"
   ]
  },
  {
   "cell_type": "code",
   "execution_count": 220,
   "id": "5de3a830-3514-4be2-842d-dd1648d59b5d",
   "metadata": {},
   "outputs": [
    {
     "name": "stdout",
     "output_type": "stream",
     "text": [
      "<div class=\"linked-table\">\n",
      "<div class=\"thead\">\n",
      "<div class=\"tr\">\n",
      "<div class=\"th unsortable\">Ticker</div>\n",
      "<div class=\"th unsortable\">Quarter</div>\n",
      "<div class=\"th unsortable\">Reported</div>\n",
      "<div class=\"th unsortable\">Rank</div>\n",
      "<div class=\"th unsortable\">EPS Points</div>\n",
      "<div class=\"th unsortable\">Revenue Points</div>\n",
      "<div class=\"th unsortable\">Total Points</div>\n",
      "</div>\n",
      "</div>\n",
      "<div class=\"tbody\">\n",
      "<a class=\"linked-row\" href=\"/amd/fq3-2020/users/analyst_8891778\"><div class=\"td\" data-hasqtip=\"true\" data-tooltip-id=\"amd\" data-tooltip-type=\"instrument\">\n",
      "<strong class=\"profile-tbl-ticker\">AMD</strong>\n",
      "</div>\n",
      "<div class=\"td\">\n",
      "Q3\n",
      "2020\n",
      "</div>\n",
      "<div class=\"td profile-tbl-bordered\">\n",
      "Oct 27, 2020\n",
      "</div>\n",
      "<div class=\"td\">\n",
      "108 / 234\n",
      "</div>\n",
      "<div class=\"td\">\n",
      "21\n",
      "</div>\n",
      "<div class=\"td\">\n",
      "-3\n",
      "</div>\n",
      "<div class=\"td\">\n",
      "18\n",
      "</div>\n",
      "</a><a class=\"linked-row\" href=\"/tsla/fq3-2020/users/analyst_8891778\"><div class=\"td\" data-hasqtip=\"true\" data-tooltip-id=\"tsla\" data-tooltip-type=\"instrument\">\n",
      "<strong class=\"profile-tbl-ticker\">TSLA</strong>\n",
      "</div>\n",
      "<div class=\"td\">\n",
      "Q3\n",
      "2020\n",
      "</div>\n",
      "<div class=\"td profile-tbl-bordered\">\n",
      "Oct 21, 2020\n",
      "</div>\n",
      "<div class=\"td\">\n",
      "221 / 472\n",
      "</div>\n",
      "<div class=\"td\">\n",
      "-3\n",
      "</div>\n",
      "<div class=\"td\">\n",
      "16\n",
      "</div>\n",
      "<div class=\"td\">\n",
      "13\n",
      "</div>\n",
      "</a>\n",
      "</div>\n",
      "</div>\n",
      "Stocks Covered Scrape Complete for User: analyst_4048130\n",
      "\u001b[91mError while pulling Pending Estimates for User: analyst_4048130\u001b[0m\n",
      "Pending Estimates Scrape Complete for User: analyst_4048130\n",
      "Scored Estimates Scrape Complete for User: analyst_4048130\n"
     ]
    }
   ],
   "source": [
    "test_users = final_unique_users[0:1] \n",
    "\n",
    "# Creating list for the user tables\n",
    "general_user_data_dicts = []\n",
    "stocks_covered_dfs = []\n",
    "pending_estimates_dfs = []\n",
    "scored_estimates_dfs = []\n",
    "\n",
    "first_attempt = True\n",
    "\n",
    "# Iterating over URLs\n",
    "for test_user in test_users:\n",
    "    url = f\"https://www.estimize.com/users/{test_user}\"\n",
    "    driver.get(url)\n",
    "\n",
    "    name = driver.find_element(By.CSS_SELECTOR, \"#users_show > div.main-content-wrapper.is-closed > div.before-main-wrapper.content-header-show > div:nth-child(1) > div.profile-left-column > div > h1 > a\")\n",
    "    analyst_username = name.text.strip()\n",
    "\n",
    "    join = driver.find_element(By.CSS_SELECTOR, \"#users_show > div.main-content-wrapper.is-closed > div.before-main-wrapper.content-header-show > div:nth-child(1) > div.profile-left-column > div > div.profile-bio-footer > div.profile-activity-stats\")\n",
    "    join_date = join.text.strip()\n",
    "\n",
    "    confidence = driver.find_element(By.CSS_SELECTOR, \"#confidence-wrap > div > div.value\")\n",
    "    analyst_confidence = confidence.text.strip()\n",
    "\n",
    "    error = driver.find_element(By.CSS_SELECTOR, \"#profile-tab-wrap > div.profile-tab.profile-tab-selectable.profile-tab-accuracy.is-selected > div:nth-child(1) > div.profile-stat-secondary\")\n",
    "    error_rate = error.text.strip()\n",
    "\n",
    "    accuracy = driver.find_element(By.CSS_SELECTOR, \"#profile-tab-wrap > div.profile-tab.profile-tab-selectable.profile-tab-accuracy.is-selected > div:nth-child(2) > div.profile-stat-secondary\")\n",
    "    accuracy_percentile = accuracy.text.strip()\n",
    "\n",
    "    points = driver.find_element(By.CSS_SELECTOR, \"#profile-tab-wrap > div.profile-tab.profile-tab-selectable.not-selected.profile-tab-points > div:nth-child(1) > div.profile-stat-secondary\")\n",
    "    points_total = points.text.strip()\n",
    "\n",
    "    stocks = driver.find_element(By.CSS_SELECTOR, \"#profile-tab-wrap > div.profile-tab.profile-tab-unselectable.profile-tab-last.not-selected.profile-tab-stocks > div:nth-child(1) > div.profile-stat-secondary\")\n",
    "    stocks_total = stocks.text.strip()\n",
    "\n",
    "    pending = driver.find_element(By.CSS_SELECTOR, \"#profile-tab-wrap > div.profile-tab.profile-tab-unselectable.profile-tab-last.not-selected.profile-tab-stocks > div:nth-child(2) > div.profile-stat-secondary\")\n",
    "    pending_estimates = pending.text.strip()\n",
    "\n",
    "    selectors = [\n",
    "    \"#users_show > div.main-content-wrapper.is-closed > div.before-main-wrapper.content-header-show > div:nth-child(1) > div.profile-left-column > div > ul > li:nth-child(1)\",\n",
    "    \"#users_show > div.main-content-wrapper.is-closed > div.before-main-wrapper.content-header-show > div:nth-child(1) > div.profile-left-column > div > ul > li:nth-child(2)\",\n",
    "    \"#users_show > div.main-content-wrapper.is-closed > div.before-main-wrapper.content-header-show > div:nth-child(1) > div.profile-left-column > div > ul > li:nth-child(3)\"\n",
    "    ]\n",
    "    \n",
    "    # Initialize an empty list to store the role values\n",
    "    roles = []\n",
    "    \n",
    "    # Iterate through each selector and extract the role text\n",
    "    for selector in selectors:\n",
    "        try:\n",
    "            role_element = driver.find_element(By.CSS_SELECTOR, selector)\n",
    "            role_text = role_element.text\n",
    "            roles.append(role_text)\n",
    "        except Exception as e:\n",
    "            pass\n",
    "    # Create a DataFrame with the extracted value\n",
    "    gud_dict = {\n",
    "                'Analyst Username': analyst_username, \n",
    "                'URL Username': test_user,\n",
    "                'Join Date': join_date,\n",
    "                'Roles': roles,\n",
    "                'Analyst Confidence Score': analyst_confidence,\n",
    "                'Error Rate': error_rate,\n",
    "                'Accuracy Percentile': accuracy_percentile,\n",
    "                'Points': points_total,\n",
    "                'Stocks': stocks_total,\n",
    "                'Pending': pending_estimates\n",
    "                }\n",
    "\n",
    "    general_user_data_dicts.append(gud_dict)\n",
    "    \n",
    "    # Checking for hidden entries in the Stocks Covered table\n",
    "    if first_attempt:\n",
    "        driver.execute_script(\"window.scrollBy(0, 500);\")\n",
    "        first_attempt = False\n",
    "    else:\n",
    "        while True:\n",
    "            try:\n",
    "                driver.execute_script(\"window.scrollBy(0, 500);\")\n",
    "                table = WebDriverWait(driver, 3).until(\n",
    "                EC.presence_of_element_located((By.CSS_SELECTOR, '#profile-covered-stocks > div.linked-table'))\n",
    "                )\n",
    "                table_html = table.get_attribute('outerHTML')\n",
    "                soup = BeautifulSoup(table_html, 'html.parser')\n",
    "                hidden_entries = soup.find_all(class_='linked-row hidden')\n",
    "    \n",
    "                if not hidden_entries:\n",
    "                    break\n",
    "    \n",
    "                pagination_link = driver.find_element(By.CSS_SELECTOR, '#profile-covered-stocks > div.pagination-footer')\n",
    "                pagination_link.click()\n",
    "\n",
    "            except Exception as e:\n",
    "                print(f\"\\033[91mError while pulling Stocks Covered for User: {test_user}\\033[0m\")\n",
    "                break\n",
    "\n",
    "    lines = str(soup).splitlines()\n",
    "    print(soup)\n",
    "    # Initialize an empty list to store the data\n",
    "    sc_data = []\n",
    "    \n",
    "    # Extract data following the specified pattern\n",
    "    for i in range(len(lines)):\n",
    "        if \"profile-tbl-ticker\" in lines[i]:\n",
    "            ticker = lines[i+1].strip()\n",
    "            reports = lines[i + 6].strip()\n",
    "            quarters = lines[i + 9].strip()\n",
    "            points = lines[i + 12].strip()\n",
    "            pts_per_estimate = lines[i + 15].strip()\n",
    "            error_rate = lines[i + 18].strip()\n",
    "            accuracy = lines[i + 21].strip()\n",
    "    \n",
    "            sc_data.append({\n",
    "                'Analyst Username': analyst_username, \n",
    "                'URL Username': test_user,\n",
    "                'Ticker': ticker,\n",
    "                'Reports': reports,\n",
    "                'Quarters': quarters,\n",
    "                'Points': points,\n",
    "                'Pts/Est': pts_per_estimate,\n",
    "                'Error Rate': error_rate,\n",
    "                'Accuracy': accuracy\n",
    "            })\n",
    "    \n",
    "    # Create a DataFrame from the extracted data\n",
    "    sc_df = pd.DataFrame(sc_data)\n",
    "\n",
    "    stocks_covered_dfs.append(sc_df)\n",
    "\n",
    "    print(f\"Stocks Covered Scrape Complete for User: {test_user}\")\n",
    "\n",
    "    while True:\n",
    "        try:\n",
    "            driver.execute_script(\"window.scrollBy(0, 500);\")\n",
    "            table = WebDriverWait(driver, 0.5).until(\n",
    "            EC.presence_of_element_located((By.CSS_SELECTOR, '#profile-pending-estimates > div.linked-table'))\n",
    "            )\n",
    "            table_html = table.get_attribute('outerHTML')\n",
    "            soup = BeautifulSoup(table_html, 'html.parser')\n",
    "            hidden_entries = soup.find_all(class_='linked-row hidden')\n",
    "\n",
    "            if not hidden_entries:\n",
    "                break\n",
    "\n",
    "            pagination_link = driver.find_element(By.CSS_SELECTOR, '#profile-pending-estimates > div.pagination-footer')\n",
    "            pagination_link.click()\n",
    "\n",
    "        except Exception as e:\n",
    "            print(f\"\\033[91mError while pulling Pending Estimates for User: {test_user}\\033[0m\")\n",
    "            break\n",
    "\n",
    "    lines = str(soup).splitlines()\n",
    "    \n",
    "    # Initialize an empty list to store the data\n",
    "    pe_data = []\n",
    "    \n",
    "    # Extract data following the specified pattern\n",
    "    for i in range(len(lines)):\n",
    "        if \"profile-tbl-ticker\" in lines[i]:\n",
    "            ticker = lines[i].strip()\n",
    "            quarter = f\"{lines[i + 3].strip()} {lines[i + 4].strip()}\"\n",
    "            reports = f\"{lines[i + 8].strip()} {lines[i + 10].strip()}\"\n",
    "            published = lines[i + 13].strip()\n",
    "            eps = lines[i + 16].strip()\n",
    "            revenue = lines[i + 19].strip()\n",
    "    \n",
    "            pe_data.append({\n",
    "                'Analyst Username': analyst_username, \n",
    "                'URL Username': test_user,\n",
    "                'Ticker': ticker,\n",
    "                'Quarter': quarter,\n",
    "                'Reports': reports,                \n",
    "                'Published': published,\n",
    "                'EPS': eps,\n",
    "                'Revenue': revenue\n",
    "            })\n",
    "\n",
    "    pe_df = pd.DataFrame(pe_data)\n",
    "\n",
    "    pending_estimates_dfs.append(pe_df)\n",
    "\n",
    "    print(f\"Pending Estimates Scrape Complete for User: {test_user}\")\n",
    "\n",
    "    while True:\n",
    "        try:\n",
    "            driver.execute_script(\"window.scrollBy(0, 500);\")\n",
    "            table = WebDriverWait(driver, 0.5).until(\n",
    "            EC.presence_of_element_located((By.CSS_SELECTOR, '#profile-scored-estimates > div.linked-table'))\n",
    "            )\n",
    "            table_html = table.get_attribute('outerHTML')\n",
    "            soup = BeautifulSoup(table_html, 'html.parser')\n",
    "            hidden_entries = soup.find_all(class_='linked-row hidden')\n",
    "\n",
    "            if not hidden_entries:\n",
    "                break\n",
    "\n",
    "            pagination_link = driver.find_element(By.CSS_SELECTOR, '#profile-scored-estimates > div.pagination-footer')\n",
    "            pagination_link.click()\n",
    "\n",
    "        except Exception as e:\n",
    "            print(f\"\\033[91mError while pulling Scored Estimates for User: {test_user}\\033[0m\")\n",
    "            break\n",
    "    \n",
    "\n",
    "    lines = str(soup).splitlines()\n",
    "    \n",
    "    # Initialize an empty list to store the data\n",
    "    se_data = []\n",
    "    \n",
    "    # Extract data following the specified pattern\n",
    "    for i in range(len(lines)):\n",
    "        if \"profile-tbl-ticker\" in lines[i]:\n",
    "            ticker = lines[i].strip()\n",
    "            quarter = f\"{lines[i + 3].strip()} {lines[i + 4].strip()}\"\n",
    "            reported = lines[i + 7].strip()\n",
    "            rank = lines[i + 10].strip()\n",
    "            eps_points = lines[i + 13].strip()\n",
    "            revenue_points = lines[i + 16].strip()\n",
    "            total_points = lines[i + 19].strip()\n",
    "    \n",
    "            se_data.append({\n",
    "                'Analyst Username': analyst_username, \n",
    "                'URL Username': test_user,\n",
    "                'Ticker': ticker,\n",
    "                'Quarter': quarter,\n",
    "                'Reported': reported,                \n",
    "                'Rank': rank,\n",
    "                'EPS Points': eps_points,\n",
    "                'Revenue Points': revenue_points,\n",
    "                'Total Points': total_points\n",
    "            })\n",
    "\n",
    "    se_df = pd.DataFrame(se_data)\n",
    "\n",
    "    scored_estimates_dfs.append(se_df)\n",
    "\n",
    "    print(f\"Scored Estimates Scrape Complete for User: {test_user}\")"
   ]
  },
  {
   "cell_type": "code",
   "execution_count": 219,
   "id": "30785aa4-dceb-49a4-8795-b088fd3234b1",
   "metadata": {},
   "outputs": [],
   "source": [
    "combined_stocks_covered_df = pd.concat(stocks_covered_dfs)\n",
    "\n",
    "combined_stocks_covered_df.to_csv('combined_stocks_covered_df.csv', index=False)"
   ]
  }
 ],
 "metadata": {
  "kernelspec": {
   "display_name": "Python 3 (ipykernel)",
   "language": "python",
   "name": "python3"
  },
  "language_info": {
   "codemirror_mode": {
    "name": "ipython",
    "version": 3
   },
   "file_extension": ".py",
   "mimetype": "text/x-python",
   "name": "python",
   "nbconvert_exporter": "python",
   "pygments_lexer": "ipython3",
   "version": "3.11.5"
  }
 },
 "nbformat": 4,
 "nbformat_minor": 5
}
