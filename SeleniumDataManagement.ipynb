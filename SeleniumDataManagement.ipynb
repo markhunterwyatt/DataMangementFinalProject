{
 "cells": [
  {
   "cell_type": "markdown",
   "id": "c56f719f-9cc1-4310-bd49-162c4e7132cb",
   "metadata": {},
   "source": [
    "# Importing Modules, Getting Web Browser Running, and Importing Ticker Info"
   ]
  },
  {
   "cell_type": "markdown",
   "id": "db9ae3dc-ece3-4eec-962a-7a58e06d3e08",
   "metadata": {},
   "source": [
    "To begin, we import the modules that will be used for this project. The modules used are:\n",
    "- csv: used to read and write csv files\n",
    "- bs4/BeautifulSoup: used to parse information from html documents\n",
    "- datetime: used for functions for datetime format objects\n",
    "- pandas: used for data analysis functions and the DataFrame object\n",
    "- requests: used to fetch data from web pages\n",
    "- selenium\n",
    "  - webdriver: allows for controlling of a web browser by python\n",
    "  - common.by: used with the webdriver code to tell the code what sort of attribute to look for (such as the CSS selector)\n",
    "  - support.expected_conditions: used with support.ui to define a condition that should be present on the web page (in this analysis, the condition was the prescene of tables on the page)\n",
    "  - support.ui: used with support.expected_conditions to tell the webdriver to wait for a specified amount of time while searching for an expected condition\n",
    "  - edge.service: specifies the specific web browser to be used (Edge) and configures the driver for the browser's settings\n",
    "- time: used to call the sleep function to tell the code to wait specific amounts of time, allowing web pages to load"
   ]
  },
  {
   "cell_type": "code",
   "execution_count": 1,
   "id": "fe4af6e0-8659-442e-af29-d09add8f765e",
   "metadata": {},
   "outputs": [],
   "source": [
    "# Importing modules\n",
    "import csv\n",
    "from bs4 import BeautifulSoup\n",
    "import datetime\n",
    "import pandas as pd\n",
    "import requests\n",
    "from selenium import webdriver\n",
    "import selenium.webdriver.common.by as By\n",
    "import selenium.webdriver.support.expected_conditions as EC\n",
    "import selenium.webdriver.support.ui as WebDriverWait\n",
    "import selenium.webdriver.edge.service as Service\n",
    "import time"
   ]
  },
  {
   "cell_type": "markdown",
   "id": "c4d9e27f-9e74-4d53-9e55-ead1c9d761f1",
   "metadata": {},
   "source": [
    "Next we configure the webdriver that will be used to go to the site and pull our data."
   ]
  },
  {
   "cell_type": "code",
   "execution_count": 2,
   "id": "a5cb0293-66e1-4a44-a77d-5e2440a36954",
   "metadata": {},
   "outputs": [],
   "source": [
    "# Getting the webdriver up and running\n",
    "# Specifying the path to msedgedriver.exe\n",
    "driver_path = r\"C:\\Program Files\\msedgedriver.exe\"\n",
    "\n",
    "# Creating a service object\n",
    "service = Service(executable_path=driver_path)\n",
    "\n",
    "# Initializing the Edge browser\n",
    "driver = webdriver.Edge(service=service)"
   ]
  },
  {
   "cell_type": "markdown",
   "id": "2da0ba89-afb8-4b9c-9b7f-34a2917aab86",
   "metadata": {},
   "source": [
    "We define the url to go to for logging in to estimize and then tell the driver to go to that url."
   ]
  },
  {
   "cell_type": "code",
   "execution_count": 4,
   "id": "6e2d466b-f6e0-497f-8eb9-3c030212e9e3",
   "metadata": {},
   "outputs": [],
   "source": [
    "# Logging into Estimize using the Edge browser\n",
    "estimize_url = 'https://www.estimize.com/users/sign_in'\n",
    "\n",
    "driver.get(estimize_url)"
   ]
  },
  {
   "cell_type": "markdown",
   "id": "80ea1f53-9d92-476a-b9ee-6fb9ac5e0d7e",
   "metadata": {},
   "source": [
    "We created a csv file that listed the tickers to be analyzed and defined the ticker urls after reviewing the url pattern for companies on the site.\n",
    "After creating the csv, we imported it into the ticker_list object."
   ]
  },
  {
   "cell_type": "code",
   "execution_count": 4,
   "id": "6144b646-cded-4c45-b505-f2e89e5d2868",
   "metadata": {},
   "outputs": [
    {
     "data": {
      "text/html": [
       "<div>\n",
       "<style scoped>\n",
       "    .dataframe tbody tr th:only-of-type {\n",
       "        vertical-align: middle;\n",
       "    }\n",
       "\n",
       "    .dataframe tbody tr th {\n",
       "        vertical-align: top;\n",
       "    }\n",
       "\n",
       "    .dataframe thead th {\n",
       "        text-align: right;\n",
       "    }\n",
       "</style>\n",
       "<table border=\"1\" class=\"dataframe\">\n",
       "  <thead>\n",
       "    <tr style=\"text-align: right;\">\n",
       "      <th></th>\n",
       "      <th>ticker</th>\n",
       "      <th>URL</th>\n",
       "    </tr>\n",
       "  </thead>\n",
       "  <tbody>\n",
       "    <tr>\n",
       "      <th>0</th>\n",
       "      <td>AMZN</td>\n",
       "      <td>https://www.estimize.com/AMZN</td>\n",
       "    </tr>\n",
       "    <tr>\n",
       "      <th>1</th>\n",
       "      <td>AAPL</td>\n",
       "      <td>https://www.estimize.com/AAPL</td>\n",
       "    </tr>\n",
       "    <tr>\n",
       "      <th>2</th>\n",
       "      <td>MSFT</td>\n",
       "      <td>https://www.estimize.com/MSFT</td>\n",
       "    </tr>\n",
       "    <tr>\n",
       "      <th>3</th>\n",
       "      <td>GOOG</td>\n",
       "      <td>https://www.estimize.com/GOOG</td>\n",
       "    </tr>\n",
       "    <tr>\n",
       "      <th>4</th>\n",
       "      <td>TSLA</td>\n",
       "      <td>https://www.estimize.com/TSLA</td>\n",
       "    </tr>\n",
       "  </tbody>\n",
       "</table>\n",
       "</div>"
      ],
      "text/plain": [
       "  ticker                            URL\n",
       "0   AMZN  https://www.estimize.com/AMZN\n",
       "1   AAPL  https://www.estimize.com/AAPL\n",
       "2   MSFT  https://www.estimize.com/MSFT\n",
       "3   GOOG  https://www.estimize.com/GOOG\n",
       "4   TSLA  https://www.estimize.com/TSLA"
      ]
     },
     "execution_count": 4,
     "metadata": {},
     "output_type": "execute_result"
    }
   ],
   "source": [
    "# Importing the ticker list and URLs to their pages\n",
    "ticker_list = pd.read_csv('ticker_list.csv')\n",
    "ticker_list.head()"
   ]
  },
  {
   "cell_type": "markdown",
   "id": "16800ac2-1a34-4567-8d8b-3acec0c8ba31",
   "metadata": {},
   "source": [
    "# Pulling Basic Ticker Info from the URLs"
   ]
  },
  {
   "cell_type": "markdown",
   "id": "e9032789-9f2f-4a00-a790-612ba00d3dbb",
   "metadata": {},
   "source": [
    "We need to pull several pieces of information from each company page. To begin with, we define a list in which to store the data. Next, we iterate over each row in our ticker_list dataframe. For each row, we first go to the url listed. Once at the url, we use find_element to search for CSS_SELECTORs (found using the developer tools on company pages) that point to the relevant pieces of data we need. These CSS selectors are consistent across company pages which is why we're able to iterate through each url and point at the same elements. Once we pull the information, we add the data to our ticker_data list as a disctionary. Finally, we convert our ticker_data list to a dataframe once we've iterated over all of the urls on our list."
   ]
  },
  {
   "cell_type": "code",
   "execution_count": 5,
   "id": "42ab373a-36a9-4bb2-877f-98113c0beaf3",
   "metadata": {
    "editable": true,
    "slideshow": {
     "slide_type": ""
    },
    "tags": []
   },
   "outputs": [
    {
     "name": "stdout",
     "output_type": "stream",
     "text": [
      "   Ticker                          Name                 Sectors  \\\n",
      "0    AMZN               Amazon.com Inc.  Consumer Discretionary   \n",
      "1    AAPL                    Apple Inc.  Information Technology   \n",
      "2    MSFT         Microsoft Corporation  Information Technology   \n",
      "3    GOOG                 Alphabet Inc.  Information Technology   \n",
      "4    TSLA                    Tesla Inc.  Consumer Discretionary   \n",
      "5     JNJ             Johnson & Johnson             Health Care   \n",
      "6      PG          Procter & Gamble Co.        Consumer Staples   \n",
      "7    NVDA            NVIDIA Corporation  Information Technology   \n",
      "8    CSCO           Cisco Systems, Inc.  Information Technology   \n",
      "9    BABA    Alibaba Group Holding Ltd.  Consumer Discretionary   \n",
      "10     HD          The Home Depot, Inc.  Consumer Discretionary   \n",
      "11   BIDU                   Baidu, Inc.  Information Technology   \n",
      "12    WMT          Wal-Mart Stores Inc.        Consumer Staples   \n",
      "13    CRM                Salesforce.com  Information Technology   \n",
      "14   LULU      Lululemon Athletica Inc.  Consumer Discretionary   \n",
      "15    TGT                  Target Corp.  Consumer Discretionary   \n",
      "16   PANW      Palo Alto Networks, Inc.  Information Technology   \n",
      "17   ADBE            Adobe Systems Inc.  Information Technology   \n",
      "18    VMW                  VMware, Inc.  Information Technology   \n",
      "19     MU        Micron Technology Inc.  Information Technology   \n",
      "20    NKE                     Nike Inc.  Consumer Discretionary   \n",
      "21   ORCL            Oracle Corporation  Information Technology   \n",
      "22     BB                    BlackBerry  Information Technology   \n",
      "23    HPQ       Hewlett-Packard Company  Information Technology   \n",
      "24   COST  Costco Wholesale Corporation        Consumer Staples   \n",
      "25   AMAT        Applied Materials Inc.  Information Technology   \n",
      "26    BAC   Bank of America Corporation              Financials   \n",
      "27    CVX           Chevron Corporation                  Energy   \n",
      "28   AMGN                    Amgen Inc.             Health Care   \n",
      "29     PG          Procter & Gamble Co.        Consumer Staples   \n",
      "\n",
      "                          Industries Followers Analysts  \n",
      "0          Internet & Catalog Retail    10,780    6,874  \n",
      "1            Computers & Peripherals    38,281   12,178  \n",
      "2                           Software    15,992    4,459  \n",
      "3       Internet Software & Services    21,808    5,653  \n",
      "4                        Automobiles     9,367    7,913  \n",
      "5                    Pharmaceuticals     2,676    1,109  \n",
      "6      Household & Personal Products     1,600      703  \n",
      "7                     Semiconductors    11,348    4,916  \n",
      "8           Communications Equipment     2,073    2,334  \n",
      "9          Internet & Catalog Retail     3,601    3,194  \n",
      "10                  Specialty Retail     1,510    1,881  \n",
      "11      Internet Software & Services     2,007    1,935  \n",
      "12          Food & Staples Retailing     2,386    1,565  \n",
      "13                          Software     2,034    2,382  \n",
      "14  Textiles, Apparel & Luxury Goods     1,786    2,297  \n",
      "15                  Multiline Retail       889    1,617  \n",
      "16          Communications Equipment       855    1,149  \n",
      "17                          Software     1,417    1,809  \n",
      "18                          Software       732    1,104  \n",
      "19                    Semiconductors     2,481    3,466  \n",
      "20  Textiles, Apparel & Luxury Goods     2,938    2,735  \n",
      "21                          Software     1,481    1,889  \n",
      "22           Computers & Peripherals     1,961    2,002  \n",
      "23           Computers & Peripherals       818    1,144  \n",
      "24          Food & Staples Retailing     2,354    1,589  \n",
      "25                    Semiconductors       849    1,028  \n",
      "26    Diversified Financial Services     3,859    2,109  \n",
      "27       Oil, Gas & Consumable Fuels     1,902      773  \n",
      "28                     Biotechnology     1,212      714  \n",
      "29     Household & Personal Products     1,600      703  \n"
     ]
    }
   ],
   "source": [
    "# Making an empty list in which to store the scraped data\n",
    "ticker_data = []\n",
    "\n",
    "\n",
    "# Looping through the ticker URLs and pulling the general ticker info\n",
    "# Setting the ticker_code local variable as the already known ticker code and setting the ticker_url to iterate through\n",
    "for index, row in ticker_list.iterrows():\n",
    "    ticker_code = row['ticker']\n",
    "    ticker_url = row['URL']\n",
    "\n",
    "    # Navigating to each ticker URL\n",
    "    driver.get(ticker_url)\n",
    "\n",
    "    # Pulling the needed basic ticker information\n",
    "    ticker_name = driver.find_element(By.CSS_SELECTOR, '#releases_show > div.main-content-wrapper.is-closed > div:nth-child(2) > div > div:nth-child(1) > div > div > div > div.release-header-information-title-description > p > a').text\n",
    "    sector = driver.find_element(By.CSS_SELECTOR, '#releases_show > div.main-content-wrapper.is-closed > div:nth-child(2) > div > div:nth-child(1) > div > div > div > p > span:nth-child(1) > a > span').text\n",
    "    industry = driver.find_element(By.CSS_SELECTOR, '#releases_show > div.main-content-wrapper.is-closed > div:nth-child(2) > div > div:nth-child(1) > div > div > div > p > span:nth-child(2) > a > span').text\n",
    "    followers = driver.find_element(By.CSS_SELECTOR, '#summary-stats > div > div > div:nth-child(1) > div.estimize-row.summary-sub-title').text\n",
    "    analysts = driver.find_element(By.CSS_SELECTOR, '#summary-stats > div > div > div:nth-child(2) > a').text\n",
    "\n",
    "    # Placing the pulled data into the ticker_data list as a dictionary\n",
    "    ticker_data.append({\n",
    "        'Ticker': ticker_code,\n",
    "        'Name': ticker_name,\n",
    "        'Sectors': sector,\n",
    "        'Industries': industry,\n",
    "        'Followers': followers,\n",
    "        'Analysts': analysts\n",
    "    })\n",
    "\n",
    "# Making a DataFrame out of ticker_data\n",
    "ticker_df = pd.DataFrame(ticker_data)\n",
    "\n",
    "# Printing the new DataFrame\n",
    "print(ticker_df)"
   ]
  },
  {
   "cell_type": "code",
   "execution_count": 6,
   "id": "64783f27-a226-4e9a-ab57-9b9da9caa7de",
   "metadata": {},
   "outputs": [],
   "source": [
    "# Saving ticker_df as a csv file\n",
    "ticker_df.to_csv('ticker_data.csv', index=False)"
   ]
  },
  {
   "cell_type": "markdown",
   "id": "cd62c8b8-0283-466d-8034-9285f02e7f37",
   "metadata": {},
   "source": [
    "# Pulling the EPS Data"
   ]
  },
  {
   "cell_type": "markdown",
   "id": "95cbd1a7-0077-4348-a1b0-4ddec6c60f99",
   "metadata": {},
   "source": [
    "Next, we need to pull quarterly summary EPS data for each company. The EPS data is stored in a table on the company page, but the table needs to be centered on a specific quarter (q2 2021) to properly display the relevant quarters. To navigate to this table, the pattern of the url is slightly different, but luckily the urls all still include the ticker name, so we are able to iterate over them without too much extra hassle.\n",
    "For this data pull, we again create a new empty list then navigate to the url. After there, we tell the code to wait three seconds to allow the table to load. After the three seconds, we tell the driver to go to the table based on its CSS selector and then store the entire table in an object called 'table.' We then use the pandas read_html function to parse the table and convert it to a dataframe. The first row is removed, as it contains data for the logged in user, which is empty. We then reset the row indeces and add a column filled with the ticker name to differentiate the data once it's combined. We add the dataframe to our empty list, and once we've iterated through all urls, we convert our list of dataframes into one combined dataframe."
   ]
  },
  {
   "cell_type": "code",
   "execution_count": 16,
   "id": "48375fd3-ed36-4190-8302-e963045d9dc6",
   "metadata": {},
   "outputs": [
    {
     "name": "stderr",
     "output_type": "stream",
     "text": [
      "C:\\Users\\mhunt\\AppData\\Local\\Temp\\ipykernel_7800\\1151411026.py:17: FutureWarning: Passing literal html to 'read_html' is deprecated and will be removed in a future version. To read from a literal string, wrap it in a 'StringIO' object.\n",
      "  eps_df = pd.read_html(table.get_attribute('outerHTML'))[0]\n",
      "C:\\Users\\mhunt\\AppData\\Local\\Temp\\ipykernel_7800\\1151411026.py:17: FutureWarning: Passing literal html to 'read_html' is deprecated and will be removed in a future version. To read from a literal string, wrap it in a 'StringIO' object.\n",
      "  eps_df = pd.read_html(table.get_attribute('outerHTML'))[0]\n",
      "C:\\Users\\mhunt\\AppData\\Local\\Temp\\ipykernel_7800\\1151411026.py:17: FutureWarning: Passing literal html to 'read_html' is deprecated and will be removed in a future version. To read from a literal string, wrap it in a 'StringIO' object.\n",
      "  eps_df = pd.read_html(table.get_attribute('outerHTML'))[0]\n",
      "C:\\Users\\mhunt\\AppData\\Local\\Temp\\ipykernel_7800\\1151411026.py:17: FutureWarning: Passing literal html to 'read_html' is deprecated and will be removed in a future version. To read from a literal string, wrap it in a 'StringIO' object.\n",
      "  eps_df = pd.read_html(table.get_attribute('outerHTML'))[0]\n",
      "C:\\Users\\mhunt\\AppData\\Local\\Temp\\ipykernel_7800\\1151411026.py:17: FutureWarning: Passing literal html to 'read_html' is deprecated and will be removed in a future version. To read from a literal string, wrap it in a 'StringIO' object.\n",
      "  eps_df = pd.read_html(table.get_attribute('outerHTML'))[0]\n",
      "C:\\Users\\mhunt\\AppData\\Local\\Temp\\ipykernel_7800\\1151411026.py:17: FutureWarning: Passing literal html to 'read_html' is deprecated and will be removed in a future version. To read from a literal string, wrap it in a 'StringIO' object.\n",
      "  eps_df = pd.read_html(table.get_attribute('outerHTML'))[0]\n",
      "C:\\Users\\mhunt\\AppData\\Local\\Temp\\ipykernel_7800\\1151411026.py:17: FutureWarning: Passing literal html to 'read_html' is deprecated and will be removed in a future version. To read from a literal string, wrap it in a 'StringIO' object.\n",
      "  eps_df = pd.read_html(table.get_attribute('outerHTML'))[0]\n",
      "C:\\Users\\mhunt\\AppData\\Local\\Temp\\ipykernel_7800\\1151411026.py:17: FutureWarning: Passing literal html to 'read_html' is deprecated and will be removed in a future version. To read from a literal string, wrap it in a 'StringIO' object.\n",
      "  eps_df = pd.read_html(table.get_attribute('outerHTML'))[0]\n",
      "C:\\Users\\mhunt\\AppData\\Local\\Temp\\ipykernel_7800\\1151411026.py:17: FutureWarning: Passing literal html to 'read_html' is deprecated and will be removed in a future version. To read from a literal string, wrap it in a 'StringIO' object.\n",
      "  eps_df = pd.read_html(table.get_attribute('outerHTML'))[0]\n",
      "C:\\Users\\mhunt\\AppData\\Local\\Temp\\ipykernel_7800\\1151411026.py:17: FutureWarning: Passing literal html to 'read_html' is deprecated and will be removed in a future version. To read from a literal string, wrap it in a 'StringIO' object.\n",
      "  eps_df = pd.read_html(table.get_attribute('outerHTML'))[0]\n",
      "C:\\Users\\mhunt\\AppData\\Local\\Temp\\ipykernel_7800\\1151411026.py:17: FutureWarning: Passing literal html to 'read_html' is deprecated and will be removed in a future version. To read from a literal string, wrap it in a 'StringIO' object.\n",
      "  eps_df = pd.read_html(table.get_attribute('outerHTML'))[0]\n",
      "C:\\Users\\mhunt\\AppData\\Local\\Temp\\ipykernel_7800\\1151411026.py:17: FutureWarning: Passing literal html to 'read_html' is deprecated and will be removed in a future version. To read from a literal string, wrap it in a 'StringIO' object.\n",
      "  eps_df = pd.read_html(table.get_attribute('outerHTML'))[0]\n",
      "C:\\Users\\mhunt\\AppData\\Local\\Temp\\ipykernel_7800\\1151411026.py:17: FutureWarning: Passing literal html to 'read_html' is deprecated and will be removed in a future version. To read from a literal string, wrap it in a 'StringIO' object.\n",
      "  eps_df = pd.read_html(table.get_attribute('outerHTML'))[0]\n",
      "C:\\Users\\mhunt\\AppData\\Local\\Temp\\ipykernel_7800\\1151411026.py:17: FutureWarning: Passing literal html to 'read_html' is deprecated and will be removed in a future version. To read from a literal string, wrap it in a 'StringIO' object.\n",
      "  eps_df = pd.read_html(table.get_attribute('outerHTML'))[0]\n",
      "C:\\Users\\mhunt\\AppData\\Local\\Temp\\ipykernel_7800\\1151411026.py:17: FutureWarning: Passing literal html to 'read_html' is deprecated and will be removed in a future version. To read from a literal string, wrap it in a 'StringIO' object.\n",
      "  eps_df = pd.read_html(table.get_attribute('outerHTML'))[0]\n",
      "C:\\Users\\mhunt\\AppData\\Local\\Temp\\ipykernel_7800\\1151411026.py:17: FutureWarning: Passing literal html to 'read_html' is deprecated and will be removed in a future version. To read from a literal string, wrap it in a 'StringIO' object.\n",
      "  eps_df = pd.read_html(table.get_attribute('outerHTML'))[0]\n",
      "C:\\Users\\mhunt\\AppData\\Local\\Temp\\ipykernel_7800\\1151411026.py:17: FutureWarning: Passing literal html to 'read_html' is deprecated and will be removed in a future version. To read from a literal string, wrap it in a 'StringIO' object.\n",
      "  eps_df = pd.read_html(table.get_attribute('outerHTML'))[0]\n",
      "C:\\Users\\mhunt\\AppData\\Local\\Temp\\ipykernel_7800\\1151411026.py:17: FutureWarning: Passing literal html to 'read_html' is deprecated and will be removed in a future version. To read from a literal string, wrap it in a 'StringIO' object.\n",
      "  eps_df = pd.read_html(table.get_attribute('outerHTML'))[0]\n",
      "C:\\Users\\mhunt\\AppData\\Local\\Temp\\ipykernel_7800\\1151411026.py:17: FutureWarning: Passing literal html to 'read_html' is deprecated and will be removed in a future version. To read from a literal string, wrap it in a 'StringIO' object.\n",
      "  eps_df = pd.read_html(table.get_attribute('outerHTML'))[0]\n",
      "C:\\Users\\mhunt\\AppData\\Local\\Temp\\ipykernel_7800\\1151411026.py:17: FutureWarning: Passing literal html to 'read_html' is deprecated and will be removed in a future version. To read from a literal string, wrap it in a 'StringIO' object.\n",
      "  eps_df = pd.read_html(table.get_attribute('outerHTML'))[0]\n",
      "C:\\Users\\mhunt\\AppData\\Local\\Temp\\ipykernel_7800\\1151411026.py:17: FutureWarning: Passing literal html to 'read_html' is deprecated and will be removed in a future version. To read from a literal string, wrap it in a 'StringIO' object.\n",
      "  eps_df = pd.read_html(table.get_attribute('outerHTML'))[0]\n",
      "C:\\Users\\mhunt\\AppData\\Local\\Temp\\ipykernel_7800\\1151411026.py:17: FutureWarning: Passing literal html to 'read_html' is deprecated and will be removed in a future version. To read from a literal string, wrap it in a 'StringIO' object.\n",
      "  eps_df = pd.read_html(table.get_attribute('outerHTML'))[0]\n",
      "C:\\Users\\mhunt\\AppData\\Local\\Temp\\ipykernel_7800\\1151411026.py:17: FutureWarning: Passing literal html to 'read_html' is deprecated and will be removed in a future version. To read from a literal string, wrap it in a 'StringIO' object.\n",
      "  eps_df = pd.read_html(table.get_attribute('outerHTML'))[0]\n",
      "C:\\Users\\mhunt\\AppData\\Local\\Temp\\ipykernel_7800\\1151411026.py:17: FutureWarning: Passing literal html to 'read_html' is deprecated and will be removed in a future version. To read from a literal string, wrap it in a 'StringIO' object.\n",
      "  eps_df = pd.read_html(table.get_attribute('outerHTML'))[0]\n",
      "C:\\Users\\mhunt\\AppData\\Local\\Temp\\ipykernel_7800\\1151411026.py:17: FutureWarning: Passing literal html to 'read_html' is deprecated and will be removed in a future version. To read from a literal string, wrap it in a 'StringIO' object.\n",
      "  eps_df = pd.read_html(table.get_attribute('outerHTML'))[0]\n",
      "C:\\Users\\mhunt\\AppData\\Local\\Temp\\ipykernel_7800\\1151411026.py:17: FutureWarning: Passing literal html to 'read_html' is deprecated and will be removed in a future version. To read from a literal string, wrap it in a 'StringIO' object.\n",
      "  eps_df = pd.read_html(table.get_attribute('outerHTML'))[0]\n",
      "C:\\Users\\mhunt\\AppData\\Local\\Temp\\ipykernel_7800\\1151411026.py:17: FutureWarning: Passing literal html to 'read_html' is deprecated and will be removed in a future version. To read from a literal string, wrap it in a 'StringIO' object.\n",
      "  eps_df = pd.read_html(table.get_attribute('outerHTML'))[0]\n",
      "C:\\Users\\mhunt\\AppData\\Local\\Temp\\ipykernel_7800\\1151411026.py:17: FutureWarning: Passing literal html to 'read_html' is deprecated and will be removed in a future version. To read from a literal string, wrap it in a 'StringIO' object.\n",
      "  eps_df = pd.read_html(table.get_attribute('outerHTML'))[0]\n",
      "C:\\Users\\mhunt\\AppData\\Local\\Temp\\ipykernel_7800\\1151411026.py:17: FutureWarning: Passing literal html to 'read_html' is deprecated and will be removed in a future version. To read from a literal string, wrap it in a 'StringIO' object.\n",
      "  eps_df = pd.read_html(table.get_attribute('outerHTML'))[0]\n"
     ]
    },
    {
     "name": "stdout",
     "output_type": "stream",
     "text": [
      "            EPS FQ1 '20 FQ2 '20 FQ3 '20 FQ4 '20 FQ1 '21 FQ2 '21 FQ3 '21  \\\n",
      "0      Estimize    0.33    0.11    0.42    0.47    0.58    0.74    0.54   \n",
      "1          Mean    0.34    0.13    0.39    0.46    0.55    0.70    0.56   \n",
      "2          High    0.52    0.50    0.62    0.91    0.85    1.25    1.10   \n",
      "3           Low    0.20    0.02    0.15    0.28    0.28    0.35    0.30   \n",
      "4      Wall St.    0.31    0.07    0.37    0.36    0.48    0.61    0.44   \n",
      "..          ...     ...     ...     ...     ...     ...     ...     ...   \n",
      "297    Wall St.    1.24    1.37    1.12    1.01    1.42    1.51    1.19   \n",
      "298        High    1.26    1.40    1.22    1.11    1.46    1.58    1.22   \n",
      "299         Low    1.18    1.32    1.06    0.94    1.29    1.38    1.14   \n",
      "300     Actuals    1.37    1.42    1.17    1.16    1.63    1.64    1.26   \n",
      "301  YoY Growth     22%     14%     10%      5%     19%     15%      8%   \n",
      "\n",
      "    FQ4 '21 FQ1 '22 FQ2 '22 FQ3 '22 FQ4 '22 Ticker  \n",
      "0      0.22    0.47    0.17    0.26    0.23   AMZN  \n",
      "1      0.28    0.52    0.26    0.29    0.25   AMZN  \n",
      "2      0.87    1.33    2.01    1.00    1.27   AMZN  \n",
      "3         0   -0.19   -0.24   -0.03   -0.10   AMZN  \n",
      "4      0.18    0.42    0.12    0.22    0.17   AMZN  \n",
      "..      ...     ...     ...     ...     ...    ...  \n",
      "297    1.08    1.59    1.65    1.29    1.22     PG  \n",
      "298    1.11    1.65    1.69    1.34    1.25     PG  \n",
      "299    1.05    1.53    1.59    1.25    1.14     PG  \n",
      "300    1.13    1.61    1.66    1.33    1.21     PG  \n",
      "301     -3%     -1%      1%      6%      7%     PG  \n",
      "\n",
      "[302 rows x 14 columns]\n"
     ]
    },
    {
     "name": "stderr",
     "output_type": "stream",
     "text": [
      "C:\\Users\\mhunt\\AppData\\Local\\Temp\\ipykernel_7800\\1151411026.py:17: FutureWarning: Passing literal html to 'read_html' is deprecated and will be removed in a future version. To read from a literal string, wrap it in a 'StringIO' object.\n",
      "  eps_df = pd.read_html(table.get_attribute('outerHTML'))[0]\n"
     ]
    }
   ],
   "source": [
    "#Preparing an empty list for EPS data storage\n",
    "eps_dfs = []\n",
    "\n",
    "# Pulling the EPS data for each ticker\n",
    "for index, row in ticker_list.iterrows():\n",
    "    ticker = row['ticker']\n",
    "    table_url = f\"https://www.estimize.com/{ticker}/fq2-2021?metric_name=eps&chart=table\"\n",
    "\n",
    "    # Navigating to the table URL\n",
    "    driver.get(table_url)\n",
    "\n",
    "    time.sleep(3)\n",
    "    # Selecting the table and storing the data in local variable\n",
    "    table = driver.find_element(By.CSS_SELECTOR, \"#main-content > div:nth-child(2) > div:nth-child(3) > div:nth-child(4) > div > table\")\n",
    "    \n",
    "    # Putting the table data into a DataFrame\n",
    "    eps_df = pd.read_html(table.get_attribute('outerHTML'))[0]\n",
    "\n",
    "    # Removing the first row of the data (user data which is all blank)\n",
    "    eps_df = eps_df.iloc[1:, :]\n",
    "\n",
    "    # Reseting the row indeces\n",
    "    eps_df.reset_index(drop=True, inplace=True)\n",
    "\n",
    "    # Adding a Ticker columnn to differentiate the tables before combining the dataframe\n",
    "    eps_df['Ticker'] = ticker\n",
    "    \n",
    "    # Putting the table data into the eps_dfs list\n",
    "    eps_dfs.append(eps_df)\n",
    "\n",
    "# Concatenating all the DataFrames into a single DataFrame\n",
    "combined_eps_df = pd.concat(eps_dfs, ignore_index=True)\n",
    "\n",
    "print(combined_eps_df)"
   ]
  },
  {
   "cell_type": "code",
   "execution_count": 17,
   "id": "b9c6125a-b946-4ff4-bc8e-e1b4f23d5178",
   "metadata": {},
   "outputs": [],
   "source": [
    "# Sending the data to a CSV file\n",
    "combined_eps_df.to_csv('quarterly_eps_data.csv', index=False)"
   ]
  },
  {
   "cell_type": "markdown",
   "id": "40343ffc-22a2-42b5-af96-bf320ed40a4c",
   "metadata": {},
   "source": [
    "# Pulling the EPS Estimate Analysis Data"
   ]
  },
  {
   "cell_type": "markdown",
   "id": "1c82d82f-38fe-4d98-8d84-6aa6889799b7",
   "metadata": {},
   "source": [
    "Our next task is to pull individual EPS estimate data from each company for each quarter from 2020 through 2022. To do this, we first need to create a list of urls for all of these quarterly sites. We start by making an empty dataframe with Ticker, Quarter, Year, and URL columns. We then iterate over our ticker list to create our urls. To do this, we iterate through each year and then through each quarter. As we do this, we replace the relevant pieces of the url with the iteration's version of it and then add the revised url to our url dataframe."
   ]
  },
  {
   "cell_type": "code",
   "execution_count": 49,
   "id": "620004cc-e79f-436e-9d7a-d8fac3c6a377",
   "metadata": {},
   "outputs": [
    {
     "name": "stdout",
     "output_type": "stream",
     "text": [
      "    Ticker Quarter  Year                                                URL\n",
      "0     AMZN      q1  2020  https://www.estimize.com/AMZN/fq1-2020?metric_...\n",
      "1     AMZN      q2  2020  https://www.estimize.com/AMZN/fq2-2020?metric_...\n",
      "2     AMZN      q3  2020  https://www.estimize.com/AMZN/fq3-2020?metric_...\n",
      "3     AMZN      q4  2020  https://www.estimize.com/AMZN/fq4-2020?metric_...\n",
      "4     AMZN      q1  2021  https://www.estimize.com/AMZN/fq1-2021?metric_...\n",
      "..     ...     ...   ...                                                ...\n",
      "355     PG      q4  2021  https://www.estimize.com/PG/fq4-2021?metric_na...\n",
      "356     PG      q1  2022  https://www.estimize.com/PG/fq1-2022?metric_na...\n",
      "357     PG      q2  2022  https://www.estimize.com/PG/fq2-2022?metric_na...\n",
      "358     PG      q3  2022  https://www.estimize.com/PG/fq3-2022?metric_na...\n",
      "359     PG      q4  2022  https://www.estimize.com/PG/fq4-2022?metric_na...\n",
      "\n",
      "[360 rows x 4 columns]\n"
     ]
    }
   ],
   "source": [
    "# Making a DataFrame for storing the URL data\n",
    "url_df = pd.DataFrame(columns=['Ticker', 'Quarter', 'Year', 'URL'])\n",
    "\n",
    "# Preparing the URLs for data pulling\n",
    "for index, row in ticker_list.iterrows():\n",
    "    ticker = row['ticker']\n",
    "    base_url = 'https://www.estimize.com/pg/fq1-2020?metric_name=eps&chart=historical'\n",
    "\n",
    "    # Iterating over quarters and years\n",
    "    for year in range(2020, 2023):\n",
    "        for quarter in ['q1', 'q2', 'q3', 'q4']:\n",
    "            url = f\"{base_url.replace('pg', ticker).replace('q1', quarter).replace('2020', str(year))}\"\n",
    "            new_row = {'Ticker': ticker, 'Quarter': quarter, 'Year': year, 'URL': url}\n",
    "            url_df = pd.concat([url_df, pd.DataFrame([new_row])], ignore_index=True)\n",
    "\n",
    "print(url_df)"
   ]
  },
  {
   "cell_type": "markdown",
   "id": "14726f37-47e0-4422-8e59-31a164036ddf",
   "metadata": {},
   "source": [
    "Next we actually need to go through the quarterly urls and and pull the data from the table. We begin as we have before by making an empty list in which to house the data and iterating through our url dataframe. We encounter a new hurdle to tackle, as if there are more than a small number of estimates, the table only shows the first few and then has a \"Show More\" button. When clicked, the table loads and displays more estimates plus another \"Show More\" button. To see all the estimates, you have to keep clicking the \"Show More\" button until they've all loaded. To navigate this setup, we need to first check for the prescence of the button (remember, if there are only a few estimates, the table loads in its entirety and does not include the \"Show More\" button). To do this, we use the try, except logic. First, we try to find the button by telling the web driver to search for the button element (denoted by its CSS selector), but importantly, we also use our WebDriverWait function to tell the driver to wait up to ten seconds while searching for the button element before moving to the next step. This wait allows the button to load. If the button is identified, we assign its location to the link_element object and then tell the driver to click it using the click() function. This search for the button and click if found repeats until the button is no longer found because all the data has been loaded. If the button isn't found, we print a message showing that the button wasn't found and then move on to the next step of the iteration.\n",
    "\n",
    "Now that we are certain our table has fully loaded, we again use a try, except logic to grab the table. It is important we do this, as the table does not necessarily have to exist on the page if there were no estimates made for the company in the specific quarter (in our dataset all the quarters did have estimates). In our try portion, we seek out the table using its CSS selector as we did in the previous scrape, pull its data, put it in a dataframe, and add Ticker, Quarter, and Year columns filled with the iterations' values to ensure we can differentiate the data. The finished dataframe is added to our empty list, and once we've iterated through all urls, we convert our list of dataframes into a single combined dataframe."
   ]
  },
  {
   "cell_type": "code",
   "execution_count": 65,
   "id": "4372a8db-1326-48eb-acf9-b25cf2ab9ea7",
   "metadata": {},
   "outputs": [
    {
     "name": "stderr",
     "output_type": "stream",
     "text": [
      "C:\\Users\\mhunt\\AppData\\Local\\Temp\\ipykernel_7800\\329258333.py:29: FutureWarning: Passing literal html to 'read_html' is deprecated and will be removed in a future version. To read from a literal string, wrap it in a 'StringIO' object.\n",
      "  df = pd.read_html(table_html)[0]\n"
     ]
    },
    {
     "name": "stdout",
     "output_type": "stream",
     "text": [
      "Table found and converted to DataFrame for URL: https://www.estimize.com/AMZN/fq1-2020?metric_name=eps&chart=historical\n"
     ]
    },
    {
     "name": "stderr",
     "output_type": "stream",
     "text": [
      "C:\\Users\\mhunt\\AppData\\Local\\Temp\\ipykernel_7800\\329258333.py:29: FutureWarning: Passing literal html to 'read_html' is deprecated and will be removed in a future version. To read from a literal string, wrap it in a 'StringIO' object.\n",
      "  df = pd.read_html(table_html)[0]\n"
     ]
    },
    {
     "name": "stdout",
     "output_type": "stream",
     "text": [
      "Table found and converted to DataFrame for URL: https://www.estimize.com/AMZN/fq2-2020?metric_name=eps&chart=historical\n"
     ]
    },
    {
     "name": "stderr",
     "output_type": "stream",
     "text": [
      "C:\\Users\\mhunt\\AppData\\Local\\Temp\\ipykernel_7800\\329258333.py:29: FutureWarning: Passing literal html to 'read_html' is deprecated and will be removed in a future version. To read from a literal string, wrap it in a 'StringIO' object.\n",
      "  df = pd.read_html(table_html)[0]\n"
     ]
    },
    {
     "name": "stdout",
     "output_type": "stream",
     "text": [
      "Table found and converted to DataFrame for URL: https://www.estimize.com/AMZN/fq3-2020?metric_name=eps&chart=historical\n"
     ]
    },
    {
     "name": "stderr",
     "output_type": "stream",
     "text": [
      "C:\\Users\\mhunt\\AppData\\Local\\Temp\\ipykernel_7800\\329258333.py:29: FutureWarning: Passing literal html to 'read_html' is deprecated and will be removed in a future version. To read from a literal string, wrap it in a 'StringIO' object.\n",
      "  df = pd.read_html(table_html)[0]\n"
     ]
    },
    {
     "name": "stdout",
     "output_type": "stream",
     "text": [
      "Table found and converted to DataFrame for URL: https://www.estimize.com/AMZN/fq4-2020?metric_name=eps&chart=historical\n"
     ]
    },
    {
     "name": "stderr",
     "output_type": "stream",
     "text": [
      "C:\\Users\\mhunt\\AppData\\Local\\Temp\\ipykernel_7800\\329258333.py:29: FutureWarning: Passing literal html to 'read_html' is deprecated and will be removed in a future version. To read from a literal string, wrap it in a 'StringIO' object.\n",
      "  df = pd.read_html(table_html)[0]\n"
     ]
    },
    {
     "name": "stdout",
     "output_type": "stream",
     "text": [
      "Table found and converted to DataFrame for URL: https://www.estimize.com/AMZN/fq1-2021?metric_name=eps&chart=historical\n"
     ]
    },
    {
     "name": "stderr",
     "output_type": "stream",
     "text": [
      "C:\\Users\\mhunt\\AppData\\Local\\Temp\\ipykernel_7800\\329258333.py:29: FutureWarning: Passing literal html to 'read_html' is deprecated and will be removed in a future version. To read from a literal string, wrap it in a 'StringIO' object.\n",
      "  df = pd.read_html(table_html)[0]\n"
     ]
    },
    {
     "name": "stdout",
     "output_type": "stream",
     "text": [
      "Table found and converted to DataFrame for URL: https://www.estimize.com/AMZN/fq2-2021?metric_name=eps&chart=historical\n"
     ]
    },
    {
     "name": "stderr",
     "output_type": "stream",
     "text": [
      "C:\\Users\\mhunt\\AppData\\Local\\Temp\\ipykernel_7800\\329258333.py:29: FutureWarning: Passing literal html to 'read_html' is deprecated and will be removed in a future version. To read from a literal string, wrap it in a 'StringIO' object.\n",
      "  df = pd.read_html(table_html)[0]\n"
     ]
    },
    {
     "name": "stdout",
     "output_type": "stream",
     "text": [
      "Table found and converted to DataFrame for URL: https://www.estimize.com/AMZN/fq3-2021?metric_name=eps&chart=historical\n"
     ]
    },
    {
     "name": "stderr",
     "output_type": "stream",
     "text": [
      "C:\\Users\\mhunt\\AppData\\Local\\Temp\\ipykernel_7800\\329258333.py:29: FutureWarning: Passing literal html to 'read_html' is deprecated and will be removed in a future version. To read from a literal string, wrap it in a 'StringIO' object.\n",
      "  df = pd.read_html(table_html)[0]\n"
     ]
    },
    {
     "name": "stdout",
     "output_type": "stream",
     "text": [
      "Table found and converted to DataFrame for URL: https://www.estimize.com/AMZN/fq4-2021?metric_name=eps&chart=historical\n"
     ]
    },
    {
     "name": "stderr",
     "output_type": "stream",
     "text": [
      "C:\\Users\\mhunt\\AppData\\Local\\Temp\\ipykernel_7800\\329258333.py:29: FutureWarning: Passing literal html to 'read_html' is deprecated and will be removed in a future version. To read from a literal string, wrap it in a 'StringIO' object.\n",
      "  df = pd.read_html(table_html)[0]\n"
     ]
    },
    {
     "name": "stdout",
     "output_type": "stream",
     "text": [
      "Table found and converted to DataFrame for URL: https://www.estimize.com/AMZN/fq1-2022?metric_name=eps&chart=historical\n"
     ]
    },
    {
     "name": "stderr",
     "output_type": "stream",
     "text": [
      "C:\\Users\\mhunt\\AppData\\Local\\Temp\\ipykernel_7800\\329258333.py:29: FutureWarning: Passing literal html to 'read_html' is deprecated and will be removed in a future version. To read from a literal string, wrap it in a 'StringIO' object.\n",
      "  df = pd.read_html(table_html)[0]\n"
     ]
    },
    {
     "name": "stdout",
     "output_type": "stream",
     "text": [
      "Table found and converted to DataFrame for URL: https://www.estimize.com/AMZN/fq2-2022?metric_name=eps&chart=historical\n"
     ]
    },
    {
     "name": "stderr",
     "output_type": "stream",
     "text": [
      "C:\\Users\\mhunt\\AppData\\Local\\Temp\\ipykernel_7800\\329258333.py:29: FutureWarning: Passing literal html to 'read_html' is deprecated and will be removed in a future version. To read from a literal string, wrap it in a 'StringIO' object.\n",
      "  df = pd.read_html(table_html)[0]\n"
     ]
    },
    {
     "name": "stdout",
     "output_type": "stream",
     "text": [
      "Table found and converted to DataFrame for URL: https://www.estimize.com/AMZN/fq3-2022?metric_name=eps&chart=historical\n"
     ]
    },
    {
     "name": "stderr",
     "output_type": "stream",
     "text": [
      "C:\\Users\\mhunt\\AppData\\Local\\Temp\\ipykernel_7800\\329258333.py:29: FutureWarning: Passing literal html to 'read_html' is deprecated and will be removed in a future version. To read from a literal string, wrap it in a 'StringIO' object.\n",
      "  df = pd.read_html(table_html)[0]\n"
     ]
    },
    {
     "name": "stdout",
     "output_type": "stream",
     "text": [
      "Table found and converted to DataFrame for URL: https://www.estimize.com/AMZN/fq4-2022?metric_name=eps&chart=historical\n"
     ]
    },
    {
     "name": "stderr",
     "output_type": "stream",
     "text": [
      "C:\\Users\\mhunt\\AppData\\Local\\Temp\\ipykernel_7800\\329258333.py:29: FutureWarning: Passing literal html to 'read_html' is deprecated and will be removed in a future version. To read from a literal string, wrap it in a 'StringIO' object.\n",
      "  df = pd.read_html(table_html)[0]\n"
     ]
    },
    {
     "name": "stdout",
     "output_type": "stream",
     "text": [
      "Table found and converted to DataFrame for URL: https://www.estimize.com/AAPL/fq1-2020?metric_name=eps&chart=historical\n"
     ]
    },
    {
     "name": "stderr",
     "output_type": "stream",
     "text": [
      "C:\\Users\\mhunt\\AppData\\Local\\Temp\\ipykernel_7800\\329258333.py:29: FutureWarning: Passing literal html to 'read_html' is deprecated and will be removed in a future version. To read from a literal string, wrap it in a 'StringIO' object.\n",
      "  df = pd.read_html(table_html)[0]\n"
     ]
    },
    {
     "name": "stdout",
     "output_type": "stream",
     "text": [
      "Table found and converted to DataFrame for URL: https://www.estimize.com/AAPL/fq2-2020?metric_name=eps&chart=historical\n"
     ]
    },
    {
     "name": "stderr",
     "output_type": "stream",
     "text": [
      "C:\\Users\\mhunt\\AppData\\Local\\Temp\\ipykernel_7800\\329258333.py:29: FutureWarning: Passing literal html to 'read_html' is deprecated and will be removed in a future version. To read from a literal string, wrap it in a 'StringIO' object.\n",
      "  df = pd.read_html(table_html)[0]\n"
     ]
    },
    {
     "name": "stdout",
     "output_type": "stream",
     "text": [
      "Table found and converted to DataFrame for URL: https://www.estimize.com/AAPL/fq3-2020?metric_name=eps&chart=historical\n"
     ]
    },
    {
     "name": "stderr",
     "output_type": "stream",
     "text": [
      "C:\\Users\\mhunt\\AppData\\Local\\Temp\\ipykernel_7800\\329258333.py:29: FutureWarning: Passing literal html to 'read_html' is deprecated and will be removed in a future version. To read from a literal string, wrap it in a 'StringIO' object.\n",
      "  df = pd.read_html(table_html)[0]\n"
     ]
    },
    {
     "name": "stdout",
     "output_type": "stream",
     "text": [
      "Table found and converted to DataFrame for URL: https://www.estimize.com/AAPL/fq4-2020?metric_name=eps&chart=historical\n"
     ]
    },
    {
     "name": "stderr",
     "output_type": "stream",
     "text": [
      "C:\\Users\\mhunt\\AppData\\Local\\Temp\\ipykernel_7800\\329258333.py:29: FutureWarning: Passing literal html to 'read_html' is deprecated and will be removed in a future version. To read from a literal string, wrap it in a 'StringIO' object.\n",
      "  df = pd.read_html(table_html)[0]\n"
     ]
    },
    {
     "name": "stdout",
     "output_type": "stream",
     "text": [
      "Table found and converted to DataFrame for URL: https://www.estimize.com/AAPL/fq1-2021?metric_name=eps&chart=historical\n"
     ]
    },
    {
     "name": "stderr",
     "output_type": "stream",
     "text": [
      "C:\\Users\\mhunt\\AppData\\Local\\Temp\\ipykernel_7800\\329258333.py:29: FutureWarning: Passing literal html to 'read_html' is deprecated and will be removed in a future version. To read from a literal string, wrap it in a 'StringIO' object.\n",
      "  df = pd.read_html(table_html)[0]\n"
     ]
    },
    {
     "name": "stdout",
     "output_type": "stream",
     "text": [
      "Table found and converted to DataFrame for URL: https://www.estimize.com/AAPL/fq2-2021?metric_name=eps&chart=historical\n"
     ]
    },
    {
     "name": "stderr",
     "output_type": "stream",
     "text": [
      "C:\\Users\\mhunt\\AppData\\Local\\Temp\\ipykernel_7800\\329258333.py:29: FutureWarning: Passing literal html to 'read_html' is deprecated and will be removed in a future version. To read from a literal string, wrap it in a 'StringIO' object.\n",
      "  df = pd.read_html(table_html)[0]\n"
     ]
    },
    {
     "name": "stdout",
     "output_type": "stream",
     "text": [
      "Table found and converted to DataFrame for URL: https://www.estimize.com/AAPL/fq3-2021?metric_name=eps&chart=historical\n"
     ]
    },
    {
     "name": "stderr",
     "output_type": "stream",
     "text": [
      "C:\\Users\\mhunt\\AppData\\Local\\Temp\\ipykernel_7800\\329258333.py:29: FutureWarning: Passing literal html to 'read_html' is deprecated and will be removed in a future version. To read from a literal string, wrap it in a 'StringIO' object.\n",
      "  df = pd.read_html(table_html)[0]\n"
     ]
    },
    {
     "name": "stdout",
     "output_type": "stream",
     "text": [
      "Table found and converted to DataFrame for URL: https://www.estimize.com/AAPL/fq4-2021?metric_name=eps&chart=historical\n"
     ]
    },
    {
     "name": "stderr",
     "output_type": "stream",
     "text": [
      "C:\\Users\\mhunt\\AppData\\Local\\Temp\\ipykernel_7800\\329258333.py:29: FutureWarning: Passing literal html to 'read_html' is deprecated and will be removed in a future version. To read from a literal string, wrap it in a 'StringIO' object.\n",
      "  df = pd.read_html(table_html)[0]\n"
     ]
    },
    {
     "name": "stdout",
     "output_type": "stream",
     "text": [
      "Table found and converted to DataFrame for URL: https://www.estimize.com/AAPL/fq1-2022?metric_name=eps&chart=historical\n"
     ]
    },
    {
     "name": "stderr",
     "output_type": "stream",
     "text": [
      "C:\\Users\\mhunt\\AppData\\Local\\Temp\\ipykernel_7800\\329258333.py:29: FutureWarning: Passing literal html to 'read_html' is deprecated and will be removed in a future version. To read from a literal string, wrap it in a 'StringIO' object.\n",
      "  df = pd.read_html(table_html)[0]\n"
     ]
    },
    {
     "name": "stdout",
     "output_type": "stream",
     "text": [
      "Table found and converted to DataFrame for URL: https://www.estimize.com/AAPL/fq2-2022?metric_name=eps&chart=historical\n"
     ]
    },
    {
     "name": "stderr",
     "output_type": "stream",
     "text": [
      "C:\\Users\\mhunt\\AppData\\Local\\Temp\\ipykernel_7800\\329258333.py:29: FutureWarning: Passing literal html to 'read_html' is deprecated and will be removed in a future version. To read from a literal string, wrap it in a 'StringIO' object.\n",
      "  df = pd.read_html(table_html)[0]\n"
     ]
    },
    {
     "name": "stdout",
     "output_type": "stream",
     "text": [
      "Table found and converted to DataFrame for URL: https://www.estimize.com/AAPL/fq3-2022?metric_name=eps&chart=historical\n"
     ]
    },
    {
     "name": "stderr",
     "output_type": "stream",
     "text": [
      "C:\\Users\\mhunt\\AppData\\Local\\Temp\\ipykernel_7800\\329258333.py:29: FutureWarning: Passing literal html to 'read_html' is deprecated and will be removed in a future version. To read from a literal string, wrap it in a 'StringIO' object.\n",
      "  df = pd.read_html(table_html)[0]\n"
     ]
    },
    {
     "name": "stdout",
     "output_type": "stream",
     "text": [
      "Table found and converted to DataFrame for URL: https://www.estimize.com/AAPL/fq4-2022?metric_name=eps&chart=historical\n"
     ]
    },
    {
     "name": "stderr",
     "output_type": "stream",
     "text": [
      "C:\\Users\\mhunt\\AppData\\Local\\Temp\\ipykernel_7800\\329258333.py:29: FutureWarning: Passing literal html to 'read_html' is deprecated and will be removed in a future version. To read from a literal string, wrap it in a 'StringIO' object.\n",
      "  df = pd.read_html(table_html)[0]\n"
     ]
    },
    {
     "name": "stdout",
     "output_type": "stream",
     "text": [
      "Table found and converted to DataFrame for URL: https://www.estimize.com/MSFT/fq1-2020?metric_name=eps&chart=historical\n"
     ]
    },
    {
     "name": "stderr",
     "output_type": "stream",
     "text": [
      "C:\\Users\\mhunt\\AppData\\Local\\Temp\\ipykernel_7800\\329258333.py:29: FutureWarning: Passing literal html to 'read_html' is deprecated and will be removed in a future version. To read from a literal string, wrap it in a 'StringIO' object.\n",
      "  df = pd.read_html(table_html)[0]\n"
     ]
    },
    {
     "name": "stdout",
     "output_type": "stream",
     "text": [
      "Table found and converted to DataFrame for URL: https://www.estimize.com/MSFT/fq2-2020?metric_name=eps&chart=historical\n"
     ]
    },
    {
     "name": "stderr",
     "output_type": "stream",
     "text": [
      "C:\\Users\\mhunt\\AppData\\Local\\Temp\\ipykernel_7800\\329258333.py:29: FutureWarning: Passing literal html to 'read_html' is deprecated and will be removed in a future version. To read from a literal string, wrap it in a 'StringIO' object.\n",
      "  df = pd.read_html(table_html)[0]\n"
     ]
    },
    {
     "name": "stdout",
     "output_type": "stream",
     "text": [
      "Table found and converted to DataFrame for URL: https://www.estimize.com/MSFT/fq3-2020?metric_name=eps&chart=historical\n"
     ]
    },
    {
     "name": "stderr",
     "output_type": "stream",
     "text": [
      "C:\\Users\\mhunt\\AppData\\Local\\Temp\\ipykernel_7800\\329258333.py:29: FutureWarning: Passing literal html to 'read_html' is deprecated and will be removed in a future version. To read from a literal string, wrap it in a 'StringIO' object.\n",
      "  df = pd.read_html(table_html)[0]\n"
     ]
    },
    {
     "name": "stdout",
     "output_type": "stream",
     "text": [
      "Table found and converted to DataFrame for URL: https://www.estimize.com/MSFT/fq4-2020?metric_name=eps&chart=historical\n"
     ]
    },
    {
     "name": "stderr",
     "output_type": "stream",
     "text": [
      "C:\\Users\\mhunt\\AppData\\Local\\Temp\\ipykernel_7800\\329258333.py:29: FutureWarning: Passing literal html to 'read_html' is deprecated and will be removed in a future version. To read from a literal string, wrap it in a 'StringIO' object.\n",
      "  df = pd.read_html(table_html)[0]\n"
     ]
    },
    {
     "name": "stdout",
     "output_type": "stream",
     "text": [
      "Table found and converted to DataFrame for URL: https://www.estimize.com/MSFT/fq1-2021?metric_name=eps&chart=historical\n"
     ]
    },
    {
     "name": "stderr",
     "output_type": "stream",
     "text": [
      "C:\\Users\\mhunt\\AppData\\Local\\Temp\\ipykernel_7800\\329258333.py:29: FutureWarning: Passing literal html to 'read_html' is deprecated and will be removed in a future version. To read from a literal string, wrap it in a 'StringIO' object.\n",
      "  df = pd.read_html(table_html)[0]\n"
     ]
    },
    {
     "name": "stdout",
     "output_type": "stream",
     "text": [
      "Table found and converted to DataFrame for URL: https://www.estimize.com/MSFT/fq2-2021?metric_name=eps&chart=historical\n"
     ]
    },
    {
     "name": "stderr",
     "output_type": "stream",
     "text": [
      "C:\\Users\\mhunt\\AppData\\Local\\Temp\\ipykernel_7800\\329258333.py:29: FutureWarning: Passing literal html to 'read_html' is deprecated and will be removed in a future version. To read from a literal string, wrap it in a 'StringIO' object.\n",
      "  df = pd.read_html(table_html)[0]\n"
     ]
    },
    {
     "name": "stdout",
     "output_type": "stream",
     "text": [
      "Table found and converted to DataFrame for URL: https://www.estimize.com/MSFT/fq3-2021?metric_name=eps&chart=historical\n"
     ]
    },
    {
     "name": "stderr",
     "output_type": "stream",
     "text": [
      "C:\\Users\\mhunt\\AppData\\Local\\Temp\\ipykernel_7800\\329258333.py:29: FutureWarning: Passing literal html to 'read_html' is deprecated and will be removed in a future version. To read from a literal string, wrap it in a 'StringIO' object.\n",
      "  df = pd.read_html(table_html)[0]\n"
     ]
    },
    {
     "name": "stdout",
     "output_type": "stream",
     "text": [
      "Table found and converted to DataFrame for URL: https://www.estimize.com/MSFT/fq4-2021?metric_name=eps&chart=historical\n"
     ]
    },
    {
     "name": "stderr",
     "output_type": "stream",
     "text": [
      "C:\\Users\\mhunt\\AppData\\Local\\Temp\\ipykernel_7800\\329258333.py:29: FutureWarning: Passing literal html to 'read_html' is deprecated and will be removed in a future version. To read from a literal string, wrap it in a 'StringIO' object.\n",
      "  df = pd.read_html(table_html)[0]\n"
     ]
    },
    {
     "name": "stdout",
     "output_type": "stream",
     "text": [
      "Table found and converted to DataFrame for URL: https://www.estimize.com/MSFT/fq1-2022?metric_name=eps&chart=historical\n"
     ]
    },
    {
     "name": "stderr",
     "output_type": "stream",
     "text": [
      "C:\\Users\\mhunt\\AppData\\Local\\Temp\\ipykernel_7800\\329258333.py:29: FutureWarning: Passing literal html to 'read_html' is deprecated and will be removed in a future version. To read from a literal string, wrap it in a 'StringIO' object.\n",
      "  df = pd.read_html(table_html)[0]\n"
     ]
    },
    {
     "name": "stdout",
     "output_type": "stream",
     "text": [
      "Table found and converted to DataFrame for URL: https://www.estimize.com/MSFT/fq2-2022?metric_name=eps&chart=historical\n"
     ]
    },
    {
     "name": "stderr",
     "output_type": "stream",
     "text": [
      "C:\\Users\\mhunt\\AppData\\Local\\Temp\\ipykernel_7800\\329258333.py:29: FutureWarning: Passing literal html to 'read_html' is deprecated and will be removed in a future version. To read from a literal string, wrap it in a 'StringIO' object.\n",
      "  df = pd.read_html(table_html)[0]\n"
     ]
    },
    {
     "name": "stdout",
     "output_type": "stream",
     "text": [
      "Table found and converted to DataFrame for URL: https://www.estimize.com/MSFT/fq3-2022?metric_name=eps&chart=historical\n"
     ]
    },
    {
     "name": "stderr",
     "output_type": "stream",
     "text": [
      "C:\\Users\\mhunt\\AppData\\Local\\Temp\\ipykernel_7800\\329258333.py:29: FutureWarning: Passing literal html to 'read_html' is deprecated and will be removed in a future version. To read from a literal string, wrap it in a 'StringIO' object.\n",
      "  df = pd.read_html(table_html)[0]\n"
     ]
    },
    {
     "name": "stdout",
     "output_type": "stream",
     "text": [
      "Table found and converted to DataFrame for URL: https://www.estimize.com/MSFT/fq4-2022?metric_name=eps&chart=historical\n"
     ]
    },
    {
     "name": "stderr",
     "output_type": "stream",
     "text": [
      "C:\\Users\\mhunt\\AppData\\Local\\Temp\\ipykernel_7800\\329258333.py:29: FutureWarning: Passing literal html to 'read_html' is deprecated and will be removed in a future version. To read from a literal string, wrap it in a 'StringIO' object.\n",
      "  df = pd.read_html(table_html)[0]\n"
     ]
    },
    {
     "name": "stdout",
     "output_type": "stream",
     "text": [
      "Table found and converted to DataFrame for URL: https://www.estimize.com/GOOG/fq1-2020?metric_name=eps&chart=historical\n"
     ]
    },
    {
     "name": "stderr",
     "output_type": "stream",
     "text": [
      "C:\\Users\\mhunt\\AppData\\Local\\Temp\\ipykernel_7800\\329258333.py:29: FutureWarning: Passing literal html to 'read_html' is deprecated and will be removed in a future version. To read from a literal string, wrap it in a 'StringIO' object.\n",
      "  df = pd.read_html(table_html)[0]\n"
     ]
    },
    {
     "name": "stdout",
     "output_type": "stream",
     "text": [
      "Table found and converted to DataFrame for URL: https://www.estimize.com/GOOG/fq2-2020?metric_name=eps&chart=historical\n"
     ]
    },
    {
     "name": "stderr",
     "output_type": "stream",
     "text": [
      "C:\\Users\\mhunt\\AppData\\Local\\Temp\\ipykernel_7800\\329258333.py:29: FutureWarning: Passing literal html to 'read_html' is deprecated and will be removed in a future version. To read from a literal string, wrap it in a 'StringIO' object.\n",
      "  df = pd.read_html(table_html)[0]\n"
     ]
    },
    {
     "name": "stdout",
     "output_type": "stream",
     "text": [
      "Table found and converted to DataFrame for URL: https://www.estimize.com/GOOG/fq3-2020?metric_name=eps&chart=historical\n"
     ]
    },
    {
     "name": "stderr",
     "output_type": "stream",
     "text": [
      "C:\\Users\\mhunt\\AppData\\Local\\Temp\\ipykernel_7800\\329258333.py:29: FutureWarning: Passing literal html to 'read_html' is deprecated and will be removed in a future version. To read from a literal string, wrap it in a 'StringIO' object.\n",
      "  df = pd.read_html(table_html)[0]\n"
     ]
    },
    {
     "name": "stdout",
     "output_type": "stream",
     "text": [
      "Table found and converted to DataFrame for URL: https://www.estimize.com/GOOG/fq4-2020?metric_name=eps&chart=historical\n"
     ]
    },
    {
     "name": "stderr",
     "output_type": "stream",
     "text": [
      "C:\\Users\\mhunt\\AppData\\Local\\Temp\\ipykernel_7800\\329258333.py:29: FutureWarning: Passing literal html to 'read_html' is deprecated and will be removed in a future version. To read from a literal string, wrap it in a 'StringIO' object.\n",
      "  df = pd.read_html(table_html)[0]\n"
     ]
    },
    {
     "name": "stdout",
     "output_type": "stream",
     "text": [
      "Table found and converted to DataFrame for URL: https://www.estimize.com/GOOG/fq1-2021?metric_name=eps&chart=historical\n"
     ]
    },
    {
     "name": "stderr",
     "output_type": "stream",
     "text": [
      "C:\\Users\\mhunt\\AppData\\Local\\Temp\\ipykernel_7800\\329258333.py:29: FutureWarning: Passing literal html to 'read_html' is deprecated and will be removed in a future version. To read from a literal string, wrap it in a 'StringIO' object.\n",
      "  df = pd.read_html(table_html)[0]\n"
     ]
    },
    {
     "name": "stdout",
     "output_type": "stream",
     "text": [
      "Table found and converted to DataFrame for URL: https://www.estimize.com/GOOG/fq2-2021?metric_name=eps&chart=historical\n"
     ]
    },
    {
     "name": "stderr",
     "output_type": "stream",
     "text": [
      "C:\\Users\\mhunt\\AppData\\Local\\Temp\\ipykernel_7800\\329258333.py:29: FutureWarning: Passing literal html to 'read_html' is deprecated and will be removed in a future version. To read from a literal string, wrap it in a 'StringIO' object.\n",
      "  df = pd.read_html(table_html)[0]\n"
     ]
    },
    {
     "name": "stdout",
     "output_type": "stream",
     "text": [
      "Table found and converted to DataFrame for URL: https://www.estimize.com/GOOG/fq3-2021?metric_name=eps&chart=historical\n"
     ]
    },
    {
     "name": "stderr",
     "output_type": "stream",
     "text": [
      "C:\\Users\\mhunt\\AppData\\Local\\Temp\\ipykernel_7800\\329258333.py:29: FutureWarning: Passing literal html to 'read_html' is deprecated and will be removed in a future version. To read from a literal string, wrap it in a 'StringIO' object.\n",
      "  df = pd.read_html(table_html)[0]\n"
     ]
    },
    {
     "name": "stdout",
     "output_type": "stream",
     "text": [
      "Table found and converted to DataFrame for URL: https://www.estimize.com/GOOG/fq4-2021?metric_name=eps&chart=historical\n"
     ]
    },
    {
     "name": "stderr",
     "output_type": "stream",
     "text": [
      "C:\\Users\\mhunt\\AppData\\Local\\Temp\\ipykernel_7800\\329258333.py:29: FutureWarning: Passing literal html to 'read_html' is deprecated and will be removed in a future version. To read from a literal string, wrap it in a 'StringIO' object.\n",
      "  df = pd.read_html(table_html)[0]\n"
     ]
    },
    {
     "name": "stdout",
     "output_type": "stream",
     "text": [
      "Table found and converted to DataFrame for URL: https://www.estimize.com/GOOG/fq1-2022?metric_name=eps&chart=historical\n"
     ]
    },
    {
     "name": "stderr",
     "output_type": "stream",
     "text": [
      "C:\\Users\\mhunt\\AppData\\Local\\Temp\\ipykernel_7800\\329258333.py:29: FutureWarning: Passing literal html to 'read_html' is deprecated and will be removed in a future version. To read from a literal string, wrap it in a 'StringIO' object.\n",
      "  df = pd.read_html(table_html)[0]\n"
     ]
    },
    {
     "name": "stdout",
     "output_type": "stream",
     "text": [
      "Table found and converted to DataFrame for URL: https://www.estimize.com/GOOG/fq2-2022?metric_name=eps&chart=historical\n"
     ]
    },
    {
     "name": "stderr",
     "output_type": "stream",
     "text": [
      "C:\\Users\\mhunt\\AppData\\Local\\Temp\\ipykernel_7800\\329258333.py:29: FutureWarning: Passing literal html to 'read_html' is deprecated and will be removed in a future version. To read from a literal string, wrap it in a 'StringIO' object.\n",
      "  df = pd.read_html(table_html)[0]\n"
     ]
    },
    {
     "name": "stdout",
     "output_type": "stream",
     "text": [
      "Table found and converted to DataFrame for URL: https://www.estimize.com/GOOG/fq3-2022?metric_name=eps&chart=historical\n"
     ]
    },
    {
     "name": "stderr",
     "output_type": "stream",
     "text": [
      "C:\\Users\\mhunt\\AppData\\Local\\Temp\\ipykernel_7800\\329258333.py:29: FutureWarning: Passing literal html to 'read_html' is deprecated and will be removed in a future version. To read from a literal string, wrap it in a 'StringIO' object.\n",
      "  df = pd.read_html(table_html)[0]\n"
     ]
    },
    {
     "name": "stdout",
     "output_type": "stream",
     "text": [
      "Table found and converted to DataFrame for URL: https://www.estimize.com/GOOG/fq4-2022?metric_name=eps&chart=historical\n"
     ]
    },
    {
     "name": "stderr",
     "output_type": "stream",
     "text": [
      "C:\\Users\\mhunt\\AppData\\Local\\Temp\\ipykernel_7800\\329258333.py:29: FutureWarning: Passing literal html to 'read_html' is deprecated and will be removed in a future version. To read from a literal string, wrap it in a 'StringIO' object.\n",
      "  df = pd.read_html(table_html)[0]\n"
     ]
    },
    {
     "name": "stdout",
     "output_type": "stream",
     "text": [
      "Table found and converted to DataFrame for URL: https://www.estimize.com/TSLA/fq1-2020?metric_name=eps&chart=historical\n"
     ]
    },
    {
     "name": "stderr",
     "output_type": "stream",
     "text": [
      "C:\\Users\\mhunt\\AppData\\Local\\Temp\\ipykernel_7800\\329258333.py:29: FutureWarning: Passing literal html to 'read_html' is deprecated and will be removed in a future version. To read from a literal string, wrap it in a 'StringIO' object.\n",
      "  df = pd.read_html(table_html)[0]\n"
     ]
    },
    {
     "name": "stdout",
     "output_type": "stream",
     "text": [
      "Table found and converted to DataFrame for URL: https://www.estimize.com/TSLA/fq2-2020?metric_name=eps&chart=historical\n"
     ]
    },
    {
     "name": "stderr",
     "output_type": "stream",
     "text": [
      "C:\\Users\\mhunt\\AppData\\Local\\Temp\\ipykernel_7800\\329258333.py:29: FutureWarning: Passing literal html to 'read_html' is deprecated and will be removed in a future version. To read from a literal string, wrap it in a 'StringIO' object.\n",
      "  df = pd.read_html(table_html)[0]\n"
     ]
    },
    {
     "name": "stdout",
     "output_type": "stream",
     "text": [
      "Table found and converted to DataFrame for URL: https://www.estimize.com/TSLA/fq3-2020?metric_name=eps&chart=historical\n"
     ]
    },
    {
     "name": "stderr",
     "output_type": "stream",
     "text": [
      "C:\\Users\\mhunt\\AppData\\Local\\Temp\\ipykernel_7800\\329258333.py:29: FutureWarning: Passing literal html to 'read_html' is deprecated and will be removed in a future version. To read from a literal string, wrap it in a 'StringIO' object.\n",
      "  df = pd.read_html(table_html)[0]\n"
     ]
    },
    {
     "name": "stdout",
     "output_type": "stream",
     "text": [
      "Table found and converted to DataFrame for URL: https://www.estimize.com/TSLA/fq4-2020?metric_name=eps&chart=historical\n"
     ]
    },
    {
     "name": "stderr",
     "output_type": "stream",
     "text": [
      "C:\\Users\\mhunt\\AppData\\Local\\Temp\\ipykernel_7800\\329258333.py:29: FutureWarning: Passing literal html to 'read_html' is deprecated and will be removed in a future version. To read from a literal string, wrap it in a 'StringIO' object.\n",
      "  df = pd.read_html(table_html)[0]\n"
     ]
    },
    {
     "name": "stdout",
     "output_type": "stream",
     "text": [
      "Table found and converted to DataFrame for URL: https://www.estimize.com/TSLA/fq1-2021?metric_name=eps&chart=historical\n"
     ]
    },
    {
     "name": "stderr",
     "output_type": "stream",
     "text": [
      "C:\\Users\\mhunt\\AppData\\Local\\Temp\\ipykernel_7800\\329258333.py:29: FutureWarning: Passing literal html to 'read_html' is deprecated and will be removed in a future version. To read from a literal string, wrap it in a 'StringIO' object.\n",
      "  df = pd.read_html(table_html)[0]\n"
     ]
    },
    {
     "name": "stdout",
     "output_type": "stream",
     "text": [
      "Table found and converted to DataFrame for URL: https://www.estimize.com/TSLA/fq2-2021?metric_name=eps&chart=historical\n"
     ]
    },
    {
     "name": "stderr",
     "output_type": "stream",
     "text": [
      "C:\\Users\\mhunt\\AppData\\Local\\Temp\\ipykernel_7800\\329258333.py:29: FutureWarning: Passing literal html to 'read_html' is deprecated and will be removed in a future version. To read from a literal string, wrap it in a 'StringIO' object.\n",
      "  df = pd.read_html(table_html)[0]\n"
     ]
    },
    {
     "name": "stdout",
     "output_type": "stream",
     "text": [
      "Table found and converted to DataFrame for URL: https://www.estimize.com/TSLA/fq3-2021?metric_name=eps&chart=historical\n"
     ]
    },
    {
     "name": "stderr",
     "output_type": "stream",
     "text": [
      "C:\\Users\\mhunt\\AppData\\Local\\Temp\\ipykernel_7800\\329258333.py:29: FutureWarning: Passing literal html to 'read_html' is deprecated and will be removed in a future version. To read from a literal string, wrap it in a 'StringIO' object.\n",
      "  df = pd.read_html(table_html)[0]\n"
     ]
    },
    {
     "name": "stdout",
     "output_type": "stream",
     "text": [
      "Table found and converted to DataFrame for URL: https://www.estimize.com/TSLA/fq4-2021?metric_name=eps&chart=historical\n"
     ]
    },
    {
     "name": "stderr",
     "output_type": "stream",
     "text": [
      "C:\\Users\\mhunt\\AppData\\Local\\Temp\\ipykernel_7800\\329258333.py:29: FutureWarning: Passing literal html to 'read_html' is deprecated and will be removed in a future version. To read from a literal string, wrap it in a 'StringIO' object.\n",
      "  df = pd.read_html(table_html)[0]\n"
     ]
    },
    {
     "name": "stdout",
     "output_type": "stream",
     "text": [
      "Table found and converted to DataFrame for URL: https://www.estimize.com/TSLA/fq1-2022?metric_name=eps&chart=historical\n"
     ]
    },
    {
     "name": "stderr",
     "output_type": "stream",
     "text": [
      "C:\\Users\\mhunt\\AppData\\Local\\Temp\\ipykernel_7800\\329258333.py:29: FutureWarning: Passing literal html to 'read_html' is deprecated and will be removed in a future version. To read from a literal string, wrap it in a 'StringIO' object.\n",
      "  df = pd.read_html(table_html)[0]\n"
     ]
    },
    {
     "name": "stdout",
     "output_type": "stream",
     "text": [
      "Table found and converted to DataFrame for URL: https://www.estimize.com/TSLA/fq2-2022?metric_name=eps&chart=historical\n"
     ]
    },
    {
     "name": "stderr",
     "output_type": "stream",
     "text": [
      "C:\\Users\\mhunt\\AppData\\Local\\Temp\\ipykernel_7800\\329258333.py:29: FutureWarning: Passing literal html to 'read_html' is deprecated and will be removed in a future version. To read from a literal string, wrap it in a 'StringIO' object.\n",
      "  df = pd.read_html(table_html)[0]\n"
     ]
    },
    {
     "name": "stdout",
     "output_type": "stream",
     "text": [
      "Table found and converted to DataFrame for URL: https://www.estimize.com/TSLA/fq3-2022?metric_name=eps&chart=historical\n"
     ]
    },
    {
     "name": "stderr",
     "output_type": "stream",
     "text": [
      "C:\\Users\\mhunt\\AppData\\Local\\Temp\\ipykernel_7800\\329258333.py:29: FutureWarning: Passing literal html to 'read_html' is deprecated and will be removed in a future version. To read from a literal string, wrap it in a 'StringIO' object.\n",
      "  df = pd.read_html(table_html)[0]\n"
     ]
    },
    {
     "name": "stdout",
     "output_type": "stream",
     "text": [
      "Table found and converted to DataFrame for URL: https://www.estimize.com/TSLA/fq4-2022?metric_name=eps&chart=historical\n"
     ]
    },
    {
     "name": "stderr",
     "output_type": "stream",
     "text": [
      "C:\\Users\\mhunt\\AppData\\Local\\Temp\\ipykernel_7800\\329258333.py:29: FutureWarning: Passing literal html to 'read_html' is deprecated and will be removed in a future version. To read from a literal string, wrap it in a 'StringIO' object.\n",
      "  df = pd.read_html(table_html)[0]\n"
     ]
    },
    {
     "name": "stdout",
     "output_type": "stream",
     "text": [
      "Table found and converted to DataFrame for URL: https://www.estimize.com/JNJ/fq1-2020?metric_name=eps&chart=historical\n"
     ]
    },
    {
     "name": "stderr",
     "output_type": "stream",
     "text": [
      "C:\\Users\\mhunt\\AppData\\Local\\Temp\\ipykernel_7800\\329258333.py:29: FutureWarning: Passing literal html to 'read_html' is deprecated and will be removed in a future version. To read from a literal string, wrap it in a 'StringIO' object.\n",
      "  df = pd.read_html(table_html)[0]\n"
     ]
    },
    {
     "name": "stdout",
     "output_type": "stream",
     "text": [
      "Table found and converted to DataFrame for URL: https://www.estimize.com/JNJ/fq2-2020?metric_name=eps&chart=historical\n"
     ]
    },
    {
     "name": "stderr",
     "output_type": "stream",
     "text": [
      "C:\\Users\\mhunt\\AppData\\Local\\Temp\\ipykernel_7800\\329258333.py:29: FutureWarning: Passing literal html to 'read_html' is deprecated and will be removed in a future version. To read from a literal string, wrap it in a 'StringIO' object.\n",
      "  df = pd.read_html(table_html)[0]\n"
     ]
    },
    {
     "name": "stdout",
     "output_type": "stream",
     "text": [
      "Table found and converted to DataFrame for URL: https://www.estimize.com/JNJ/fq3-2020?metric_name=eps&chart=historical\n"
     ]
    },
    {
     "name": "stderr",
     "output_type": "stream",
     "text": [
      "C:\\Users\\mhunt\\AppData\\Local\\Temp\\ipykernel_7800\\329258333.py:29: FutureWarning: Passing literal html to 'read_html' is deprecated and will be removed in a future version. To read from a literal string, wrap it in a 'StringIO' object.\n",
      "  df = pd.read_html(table_html)[0]\n"
     ]
    },
    {
     "name": "stdout",
     "output_type": "stream",
     "text": [
      "Table found and converted to DataFrame for URL: https://www.estimize.com/JNJ/fq4-2020?metric_name=eps&chart=historical\n"
     ]
    },
    {
     "name": "stderr",
     "output_type": "stream",
     "text": [
      "C:\\Users\\mhunt\\AppData\\Local\\Temp\\ipykernel_7800\\329258333.py:29: FutureWarning: Passing literal html to 'read_html' is deprecated and will be removed in a future version. To read from a literal string, wrap it in a 'StringIO' object.\n",
      "  df = pd.read_html(table_html)[0]\n"
     ]
    },
    {
     "name": "stdout",
     "output_type": "stream",
     "text": [
      "Table found and converted to DataFrame for URL: https://www.estimize.com/JNJ/fq1-2021?metric_name=eps&chart=historical\n",
      "Link not found or unable to click for URL: https://www.estimize.com/JNJ/fq2-2021?metric_name=eps&chart=historical\n",
      "Table found and converted to DataFrame for URL: https://www.estimize.com/JNJ/fq2-2021?metric_name=eps&chart=historical\n"
     ]
    },
    {
     "name": "stderr",
     "output_type": "stream",
     "text": [
      "C:\\Users\\mhunt\\AppData\\Local\\Temp\\ipykernel_7800\\329258333.py:29: FutureWarning: Passing literal html to 'read_html' is deprecated and will be removed in a future version. To read from a literal string, wrap it in a 'StringIO' object.\n",
      "  df = pd.read_html(table_html)[0]\n",
      "C:\\Users\\mhunt\\AppData\\Local\\Temp\\ipykernel_7800\\329258333.py:29: FutureWarning: Passing literal html to 'read_html' is deprecated and will be removed in a future version. To read from a literal string, wrap it in a 'StringIO' object.\n",
      "  df = pd.read_html(table_html)[0]\n"
     ]
    },
    {
     "name": "stdout",
     "output_type": "stream",
     "text": [
      "Table found and converted to DataFrame for URL: https://www.estimize.com/JNJ/fq3-2021?metric_name=eps&chart=historical\n"
     ]
    },
    {
     "name": "stderr",
     "output_type": "stream",
     "text": [
      "C:\\Users\\mhunt\\AppData\\Local\\Temp\\ipykernel_7800\\329258333.py:29: FutureWarning: Passing literal html to 'read_html' is deprecated and will be removed in a future version. To read from a literal string, wrap it in a 'StringIO' object.\n",
      "  df = pd.read_html(table_html)[0]\n"
     ]
    },
    {
     "name": "stdout",
     "output_type": "stream",
     "text": [
      "Table found and converted to DataFrame for URL: https://www.estimize.com/JNJ/fq4-2021?metric_name=eps&chart=historical\n"
     ]
    },
    {
     "name": "stderr",
     "output_type": "stream",
     "text": [
      "C:\\Users\\mhunt\\AppData\\Local\\Temp\\ipykernel_7800\\329258333.py:29: FutureWarning: Passing literal html to 'read_html' is deprecated and will be removed in a future version. To read from a literal string, wrap it in a 'StringIO' object.\n",
      "  df = pd.read_html(table_html)[0]\n"
     ]
    },
    {
     "name": "stdout",
     "output_type": "stream",
     "text": [
      "Table found and converted to DataFrame for URL: https://www.estimize.com/JNJ/fq1-2022?metric_name=eps&chart=historical\n"
     ]
    },
    {
     "name": "stderr",
     "output_type": "stream",
     "text": [
      "C:\\Users\\mhunt\\AppData\\Local\\Temp\\ipykernel_7800\\329258333.py:29: FutureWarning: Passing literal html to 'read_html' is deprecated and will be removed in a future version. To read from a literal string, wrap it in a 'StringIO' object.\n",
      "  df = pd.read_html(table_html)[0]\n"
     ]
    },
    {
     "name": "stdout",
     "output_type": "stream",
     "text": [
      "Table found and converted to DataFrame for URL: https://www.estimize.com/JNJ/fq2-2022?metric_name=eps&chart=historical\n"
     ]
    },
    {
     "name": "stderr",
     "output_type": "stream",
     "text": [
      "C:\\Users\\mhunt\\AppData\\Local\\Temp\\ipykernel_7800\\329258333.py:29: FutureWarning: Passing literal html to 'read_html' is deprecated and will be removed in a future version. To read from a literal string, wrap it in a 'StringIO' object.\n",
      "  df = pd.read_html(table_html)[0]\n"
     ]
    },
    {
     "name": "stdout",
     "output_type": "stream",
     "text": [
      "Table found and converted to DataFrame for URL: https://www.estimize.com/JNJ/fq3-2022?metric_name=eps&chart=historical\n"
     ]
    },
    {
     "name": "stderr",
     "output_type": "stream",
     "text": [
      "C:\\Users\\mhunt\\AppData\\Local\\Temp\\ipykernel_7800\\329258333.py:29: FutureWarning: Passing literal html to 'read_html' is deprecated and will be removed in a future version. To read from a literal string, wrap it in a 'StringIO' object.\n",
      "  df = pd.read_html(table_html)[0]\n"
     ]
    },
    {
     "name": "stdout",
     "output_type": "stream",
     "text": [
      "Table found and converted to DataFrame for URL: https://www.estimize.com/JNJ/fq4-2022?metric_name=eps&chart=historical\n"
     ]
    },
    {
     "name": "stderr",
     "output_type": "stream",
     "text": [
      "C:\\Users\\mhunt\\AppData\\Local\\Temp\\ipykernel_7800\\329258333.py:29: FutureWarning: Passing literal html to 'read_html' is deprecated and will be removed in a future version. To read from a literal string, wrap it in a 'StringIO' object.\n",
      "  df = pd.read_html(table_html)[0]\n"
     ]
    },
    {
     "name": "stdout",
     "output_type": "stream",
     "text": [
      "Table found and converted to DataFrame for URL: https://www.estimize.com/PG/fq1-2020?metric_name=eps&chart=historical\n"
     ]
    },
    {
     "name": "stderr",
     "output_type": "stream",
     "text": [
      "C:\\Users\\mhunt\\AppData\\Local\\Temp\\ipykernel_7800\\329258333.py:29: FutureWarning: Passing literal html to 'read_html' is deprecated and will be removed in a future version. To read from a literal string, wrap it in a 'StringIO' object.\n",
      "  df = pd.read_html(table_html)[0]\n"
     ]
    },
    {
     "name": "stdout",
     "output_type": "stream",
     "text": [
      "Table found and converted to DataFrame for URL: https://www.estimize.com/PG/fq2-2020?metric_name=eps&chart=historical\n"
     ]
    },
    {
     "name": "stderr",
     "output_type": "stream",
     "text": [
      "C:\\Users\\mhunt\\AppData\\Local\\Temp\\ipykernel_7800\\329258333.py:29: FutureWarning: Passing literal html to 'read_html' is deprecated and will be removed in a future version. To read from a literal string, wrap it in a 'StringIO' object.\n",
      "  df = pd.read_html(table_html)[0]\n"
     ]
    },
    {
     "name": "stdout",
     "output_type": "stream",
     "text": [
      "Table found and converted to DataFrame for URL: https://www.estimize.com/PG/fq3-2020?metric_name=eps&chart=historical\n"
     ]
    },
    {
     "name": "stderr",
     "output_type": "stream",
     "text": [
      "C:\\Users\\mhunt\\AppData\\Local\\Temp\\ipykernel_7800\\329258333.py:29: FutureWarning: Passing literal html to 'read_html' is deprecated and will be removed in a future version. To read from a literal string, wrap it in a 'StringIO' object.\n",
      "  df = pd.read_html(table_html)[0]\n"
     ]
    },
    {
     "name": "stdout",
     "output_type": "stream",
     "text": [
      "Table found and converted to DataFrame for URL: https://www.estimize.com/PG/fq4-2020?metric_name=eps&chart=historical\n",
      "Link not found or unable to click for URL: https://www.estimize.com/PG/fq1-2021?metric_name=eps&chart=historical\n",
      "Table found and converted to DataFrame for URL: https://www.estimize.com/PG/fq1-2021?metric_name=eps&chart=historical\n"
     ]
    },
    {
     "name": "stderr",
     "output_type": "stream",
     "text": [
      "C:\\Users\\mhunt\\AppData\\Local\\Temp\\ipykernel_7800\\329258333.py:29: FutureWarning: Passing literal html to 'read_html' is deprecated and will be removed in a future version. To read from a literal string, wrap it in a 'StringIO' object.\n",
      "  df = pd.read_html(table_html)[0]\n"
     ]
    },
    {
     "name": "stdout",
     "output_type": "stream",
     "text": [
      "Link not found or unable to click for URL: https://www.estimize.com/PG/fq2-2021?metric_name=eps&chart=historical\n",
      "Table found and converted to DataFrame for URL: https://www.estimize.com/PG/fq2-2021?metric_name=eps&chart=historical\n"
     ]
    },
    {
     "name": "stderr",
     "output_type": "stream",
     "text": [
      "C:\\Users\\mhunt\\AppData\\Local\\Temp\\ipykernel_7800\\329258333.py:29: FutureWarning: Passing literal html to 'read_html' is deprecated and will be removed in a future version. To read from a literal string, wrap it in a 'StringIO' object.\n",
      "  df = pd.read_html(table_html)[0]\n"
     ]
    },
    {
     "name": "stdout",
     "output_type": "stream",
     "text": [
      "Link not found or unable to click for URL: https://www.estimize.com/PG/fq3-2021?metric_name=eps&chart=historical\n",
      "Table found and converted to DataFrame for URL: https://www.estimize.com/PG/fq3-2021?metric_name=eps&chart=historical\n"
     ]
    },
    {
     "name": "stderr",
     "output_type": "stream",
     "text": [
      "C:\\Users\\mhunt\\AppData\\Local\\Temp\\ipykernel_7800\\329258333.py:29: FutureWarning: Passing literal html to 'read_html' is deprecated and will be removed in a future version. To read from a literal string, wrap it in a 'StringIO' object.\n",
      "  df = pd.read_html(table_html)[0]\n"
     ]
    },
    {
     "name": "stdout",
     "output_type": "stream",
     "text": [
      "Link not found or unable to click for URL: https://www.estimize.com/PG/fq4-2021?metric_name=eps&chart=historical\n",
      "Table found and converted to DataFrame for URL: https://www.estimize.com/PG/fq4-2021?metric_name=eps&chart=historical\n"
     ]
    },
    {
     "name": "stderr",
     "output_type": "stream",
     "text": [
      "C:\\Users\\mhunt\\AppData\\Local\\Temp\\ipykernel_7800\\329258333.py:29: FutureWarning: Passing literal html to 'read_html' is deprecated and will be removed in a future version. To read from a literal string, wrap it in a 'StringIO' object.\n",
      "  df = pd.read_html(table_html)[0]\n"
     ]
    },
    {
     "name": "stdout",
     "output_type": "stream",
     "text": [
      "Link not found or unable to click for URL: https://www.estimize.com/PG/fq1-2022?metric_name=eps&chart=historical\n",
      "Table found and converted to DataFrame for URL: https://www.estimize.com/PG/fq1-2022?metric_name=eps&chart=historical\n"
     ]
    },
    {
     "name": "stderr",
     "output_type": "stream",
     "text": [
      "C:\\Users\\mhunt\\AppData\\Local\\Temp\\ipykernel_7800\\329258333.py:29: FutureWarning: Passing literal html to 'read_html' is deprecated and will be removed in a future version. To read from a literal string, wrap it in a 'StringIO' object.\n",
      "  df = pd.read_html(table_html)[0]\n"
     ]
    },
    {
     "name": "stdout",
     "output_type": "stream",
     "text": [
      "Link not found or unable to click for URL: https://www.estimize.com/PG/fq2-2022?metric_name=eps&chart=historical\n",
      "Table found and converted to DataFrame for URL: https://www.estimize.com/PG/fq2-2022?metric_name=eps&chart=historical\n"
     ]
    },
    {
     "name": "stderr",
     "output_type": "stream",
     "text": [
      "C:\\Users\\mhunt\\AppData\\Local\\Temp\\ipykernel_7800\\329258333.py:29: FutureWarning: Passing literal html to 'read_html' is deprecated and will be removed in a future version. To read from a literal string, wrap it in a 'StringIO' object.\n",
      "  df = pd.read_html(table_html)[0]\n"
     ]
    },
    {
     "name": "stdout",
     "output_type": "stream",
     "text": [
      "Link not found or unable to click for URL: https://www.estimize.com/PG/fq3-2022?metric_name=eps&chart=historical\n",
      "Table found and converted to DataFrame for URL: https://www.estimize.com/PG/fq3-2022?metric_name=eps&chart=historical\n"
     ]
    },
    {
     "name": "stderr",
     "output_type": "stream",
     "text": [
      "C:\\Users\\mhunt\\AppData\\Local\\Temp\\ipykernel_7800\\329258333.py:29: FutureWarning: Passing literal html to 'read_html' is deprecated and will be removed in a future version. To read from a literal string, wrap it in a 'StringIO' object.\n",
      "  df = pd.read_html(table_html)[0]\n"
     ]
    },
    {
     "name": "stdout",
     "output_type": "stream",
     "text": [
      "Link not found or unable to click for URL: https://www.estimize.com/PG/fq4-2022?metric_name=eps&chart=historical\n",
      "Table found and converted to DataFrame for URL: https://www.estimize.com/PG/fq4-2022?metric_name=eps&chart=historical\n"
     ]
    },
    {
     "name": "stderr",
     "output_type": "stream",
     "text": [
      "C:\\Users\\mhunt\\AppData\\Local\\Temp\\ipykernel_7800\\329258333.py:29: FutureWarning: Passing literal html to 'read_html' is deprecated and will be removed in a future version. To read from a literal string, wrap it in a 'StringIO' object.\n",
      "  df = pd.read_html(table_html)[0]\n",
      "C:\\Users\\mhunt\\AppData\\Local\\Temp\\ipykernel_7800\\329258333.py:29: FutureWarning: Passing literal html to 'read_html' is deprecated and will be removed in a future version. To read from a literal string, wrap it in a 'StringIO' object.\n",
      "  df = pd.read_html(table_html)[0]\n"
     ]
    },
    {
     "name": "stdout",
     "output_type": "stream",
     "text": [
      "Table found and converted to DataFrame for URL: https://www.estimize.com/NVDA/fq1-2020?metric_name=eps&chart=historical\n"
     ]
    },
    {
     "name": "stderr",
     "output_type": "stream",
     "text": [
      "C:\\Users\\mhunt\\AppData\\Local\\Temp\\ipykernel_7800\\329258333.py:29: FutureWarning: Passing literal html to 'read_html' is deprecated and will be removed in a future version. To read from a literal string, wrap it in a 'StringIO' object.\n",
      "  df = pd.read_html(table_html)[0]\n"
     ]
    },
    {
     "name": "stdout",
     "output_type": "stream",
     "text": [
      "Table found and converted to DataFrame for URL: https://www.estimize.com/NVDA/fq2-2020?metric_name=eps&chart=historical\n"
     ]
    },
    {
     "name": "stderr",
     "output_type": "stream",
     "text": [
      "C:\\Users\\mhunt\\AppData\\Local\\Temp\\ipykernel_7800\\329258333.py:29: FutureWarning: Passing literal html to 'read_html' is deprecated and will be removed in a future version. To read from a literal string, wrap it in a 'StringIO' object.\n",
      "  df = pd.read_html(table_html)[0]\n"
     ]
    },
    {
     "name": "stdout",
     "output_type": "stream",
     "text": [
      "Table found and converted to DataFrame for URL: https://www.estimize.com/NVDA/fq3-2020?metric_name=eps&chart=historical\n"
     ]
    },
    {
     "name": "stderr",
     "output_type": "stream",
     "text": [
      "C:\\Users\\mhunt\\AppData\\Local\\Temp\\ipykernel_7800\\329258333.py:29: FutureWarning: Passing literal html to 'read_html' is deprecated and will be removed in a future version. To read from a literal string, wrap it in a 'StringIO' object.\n",
      "  df = pd.read_html(table_html)[0]\n"
     ]
    },
    {
     "name": "stdout",
     "output_type": "stream",
     "text": [
      "Table found and converted to DataFrame for URL: https://www.estimize.com/NVDA/fq4-2020?metric_name=eps&chart=historical\n"
     ]
    },
    {
     "name": "stderr",
     "output_type": "stream",
     "text": [
      "C:\\Users\\mhunt\\AppData\\Local\\Temp\\ipykernel_7800\\329258333.py:29: FutureWarning: Passing literal html to 'read_html' is deprecated and will be removed in a future version. To read from a literal string, wrap it in a 'StringIO' object.\n",
      "  df = pd.read_html(table_html)[0]\n"
     ]
    },
    {
     "name": "stdout",
     "output_type": "stream",
     "text": [
      "Table found and converted to DataFrame for URL: https://www.estimize.com/NVDA/fq1-2021?metric_name=eps&chart=historical\n"
     ]
    },
    {
     "name": "stderr",
     "output_type": "stream",
     "text": [
      "C:\\Users\\mhunt\\AppData\\Local\\Temp\\ipykernel_7800\\329258333.py:29: FutureWarning: Passing literal html to 'read_html' is deprecated and will be removed in a future version. To read from a literal string, wrap it in a 'StringIO' object.\n",
      "  df = pd.read_html(table_html)[0]\n"
     ]
    },
    {
     "name": "stdout",
     "output_type": "stream",
     "text": [
      "Table found and converted to DataFrame for URL: https://www.estimize.com/NVDA/fq2-2021?metric_name=eps&chart=historical\n"
     ]
    },
    {
     "name": "stderr",
     "output_type": "stream",
     "text": [
      "C:\\Users\\mhunt\\AppData\\Local\\Temp\\ipykernel_7800\\329258333.py:29: FutureWarning: Passing literal html to 'read_html' is deprecated and will be removed in a future version. To read from a literal string, wrap it in a 'StringIO' object.\n",
      "  df = pd.read_html(table_html)[0]\n"
     ]
    },
    {
     "name": "stdout",
     "output_type": "stream",
     "text": [
      "Table found and converted to DataFrame for URL: https://www.estimize.com/NVDA/fq3-2021?metric_name=eps&chart=historical\n"
     ]
    },
    {
     "name": "stderr",
     "output_type": "stream",
     "text": [
      "C:\\Users\\mhunt\\AppData\\Local\\Temp\\ipykernel_7800\\329258333.py:29: FutureWarning: Passing literal html to 'read_html' is deprecated and will be removed in a future version. To read from a literal string, wrap it in a 'StringIO' object.\n",
      "  df = pd.read_html(table_html)[0]\n"
     ]
    },
    {
     "name": "stdout",
     "output_type": "stream",
     "text": [
      "Table found and converted to DataFrame for URL: https://www.estimize.com/NVDA/fq4-2021?metric_name=eps&chart=historical\n"
     ]
    },
    {
     "name": "stderr",
     "output_type": "stream",
     "text": [
      "C:\\Users\\mhunt\\AppData\\Local\\Temp\\ipykernel_7800\\329258333.py:29: FutureWarning: Passing literal html to 'read_html' is deprecated and will be removed in a future version. To read from a literal string, wrap it in a 'StringIO' object.\n",
      "  df = pd.read_html(table_html)[0]\n"
     ]
    },
    {
     "name": "stdout",
     "output_type": "stream",
     "text": [
      "Table found and converted to DataFrame for URL: https://www.estimize.com/NVDA/fq1-2022?metric_name=eps&chart=historical\n"
     ]
    },
    {
     "name": "stderr",
     "output_type": "stream",
     "text": [
      "C:\\Users\\mhunt\\AppData\\Local\\Temp\\ipykernel_7800\\329258333.py:29: FutureWarning: Passing literal html to 'read_html' is deprecated and will be removed in a future version. To read from a literal string, wrap it in a 'StringIO' object.\n",
      "  df = pd.read_html(table_html)[0]\n"
     ]
    },
    {
     "name": "stdout",
     "output_type": "stream",
     "text": [
      "Table found and converted to DataFrame for URL: https://www.estimize.com/NVDA/fq2-2022?metric_name=eps&chart=historical\n"
     ]
    },
    {
     "name": "stderr",
     "output_type": "stream",
     "text": [
      "C:\\Users\\mhunt\\AppData\\Local\\Temp\\ipykernel_7800\\329258333.py:29: FutureWarning: Passing literal html to 'read_html' is deprecated and will be removed in a future version. To read from a literal string, wrap it in a 'StringIO' object.\n",
      "  df = pd.read_html(table_html)[0]\n"
     ]
    },
    {
     "name": "stdout",
     "output_type": "stream",
     "text": [
      "Table found and converted to DataFrame for URL: https://www.estimize.com/NVDA/fq3-2022?metric_name=eps&chart=historical\n"
     ]
    },
    {
     "name": "stderr",
     "output_type": "stream",
     "text": [
      "C:\\Users\\mhunt\\AppData\\Local\\Temp\\ipykernel_7800\\329258333.py:29: FutureWarning: Passing literal html to 'read_html' is deprecated and will be removed in a future version. To read from a literal string, wrap it in a 'StringIO' object.\n",
      "  df = pd.read_html(table_html)[0]\n"
     ]
    },
    {
     "name": "stdout",
     "output_type": "stream",
     "text": [
      "Table found and converted to DataFrame for URL: https://www.estimize.com/NVDA/fq4-2022?metric_name=eps&chart=historical\n"
     ]
    },
    {
     "name": "stderr",
     "output_type": "stream",
     "text": [
      "C:\\Users\\mhunt\\AppData\\Local\\Temp\\ipykernel_7800\\329258333.py:29: FutureWarning: Passing literal html to 'read_html' is deprecated and will be removed in a future version. To read from a literal string, wrap it in a 'StringIO' object.\n",
      "  df = pd.read_html(table_html)[0]\n"
     ]
    },
    {
     "name": "stdout",
     "output_type": "stream",
     "text": [
      "Table found and converted to DataFrame for URL: https://www.estimize.com/CSCO/fq1-2020?metric_name=eps&chart=historical\n"
     ]
    },
    {
     "name": "stderr",
     "output_type": "stream",
     "text": [
      "C:\\Users\\mhunt\\AppData\\Local\\Temp\\ipykernel_7800\\329258333.py:29: FutureWarning: Passing literal html to 'read_html' is deprecated and will be removed in a future version. To read from a literal string, wrap it in a 'StringIO' object.\n",
      "  df = pd.read_html(table_html)[0]\n"
     ]
    },
    {
     "name": "stdout",
     "output_type": "stream",
     "text": [
      "Table found and converted to DataFrame for URL: https://www.estimize.com/CSCO/fq2-2020?metric_name=eps&chart=historical\n"
     ]
    },
    {
     "name": "stderr",
     "output_type": "stream",
     "text": [
      "C:\\Users\\mhunt\\AppData\\Local\\Temp\\ipykernel_7800\\329258333.py:29: FutureWarning: Passing literal html to 'read_html' is deprecated and will be removed in a future version. To read from a literal string, wrap it in a 'StringIO' object.\n",
      "  df = pd.read_html(table_html)[0]\n"
     ]
    },
    {
     "name": "stdout",
     "output_type": "stream",
     "text": [
      "Table found and converted to DataFrame for URL: https://www.estimize.com/CSCO/fq3-2020?metric_name=eps&chart=historical\n"
     ]
    },
    {
     "name": "stderr",
     "output_type": "stream",
     "text": [
      "C:\\Users\\mhunt\\AppData\\Local\\Temp\\ipykernel_7800\\329258333.py:29: FutureWarning: Passing literal html to 'read_html' is deprecated and will be removed in a future version. To read from a literal string, wrap it in a 'StringIO' object.\n",
      "  df = pd.read_html(table_html)[0]\n"
     ]
    },
    {
     "name": "stdout",
     "output_type": "stream",
     "text": [
      "Table found and converted to DataFrame for URL: https://www.estimize.com/CSCO/fq4-2020?metric_name=eps&chart=historical\n"
     ]
    },
    {
     "name": "stderr",
     "output_type": "stream",
     "text": [
      "C:\\Users\\mhunt\\AppData\\Local\\Temp\\ipykernel_7800\\329258333.py:29: FutureWarning: Passing literal html to 'read_html' is deprecated and will be removed in a future version. To read from a literal string, wrap it in a 'StringIO' object.\n",
      "  df = pd.read_html(table_html)[0]\n"
     ]
    },
    {
     "name": "stdout",
     "output_type": "stream",
     "text": [
      "Table found and converted to DataFrame for URL: https://www.estimize.com/CSCO/fq1-2021?metric_name=eps&chart=historical\n"
     ]
    },
    {
     "name": "stderr",
     "output_type": "stream",
     "text": [
      "C:\\Users\\mhunt\\AppData\\Local\\Temp\\ipykernel_7800\\329258333.py:29: FutureWarning: Passing literal html to 'read_html' is deprecated and will be removed in a future version. To read from a literal string, wrap it in a 'StringIO' object.\n",
      "  df = pd.read_html(table_html)[0]\n"
     ]
    },
    {
     "name": "stdout",
     "output_type": "stream",
     "text": [
      "Table found and converted to DataFrame for URL: https://www.estimize.com/CSCO/fq2-2021?metric_name=eps&chart=historical\n"
     ]
    },
    {
     "name": "stderr",
     "output_type": "stream",
     "text": [
      "C:\\Users\\mhunt\\AppData\\Local\\Temp\\ipykernel_7800\\329258333.py:29: FutureWarning: Passing literal html to 'read_html' is deprecated and will be removed in a future version. To read from a literal string, wrap it in a 'StringIO' object.\n",
      "  df = pd.read_html(table_html)[0]\n"
     ]
    },
    {
     "name": "stdout",
     "output_type": "stream",
     "text": [
      "Table found and converted to DataFrame for URL: https://www.estimize.com/CSCO/fq3-2021?metric_name=eps&chart=historical\n"
     ]
    },
    {
     "name": "stderr",
     "output_type": "stream",
     "text": [
      "C:\\Users\\mhunt\\AppData\\Local\\Temp\\ipykernel_7800\\329258333.py:29: FutureWarning: Passing literal html to 'read_html' is deprecated and will be removed in a future version. To read from a literal string, wrap it in a 'StringIO' object.\n",
      "  df = pd.read_html(table_html)[0]\n"
     ]
    },
    {
     "name": "stdout",
     "output_type": "stream",
     "text": [
      "Table found and converted to DataFrame for URL: https://www.estimize.com/CSCO/fq4-2021?metric_name=eps&chart=historical\n"
     ]
    },
    {
     "name": "stderr",
     "output_type": "stream",
     "text": [
      "C:\\Users\\mhunt\\AppData\\Local\\Temp\\ipykernel_7800\\329258333.py:29: FutureWarning: Passing literal html to 'read_html' is deprecated and will be removed in a future version. To read from a literal string, wrap it in a 'StringIO' object.\n",
      "  df = pd.read_html(table_html)[0]\n"
     ]
    },
    {
     "name": "stdout",
     "output_type": "stream",
     "text": [
      "Table found and converted to DataFrame for URL: https://www.estimize.com/CSCO/fq1-2022?metric_name=eps&chart=historical\n"
     ]
    },
    {
     "name": "stderr",
     "output_type": "stream",
     "text": [
      "C:\\Users\\mhunt\\AppData\\Local\\Temp\\ipykernel_7800\\329258333.py:29: FutureWarning: Passing literal html to 'read_html' is deprecated and will be removed in a future version. To read from a literal string, wrap it in a 'StringIO' object.\n",
      "  df = pd.read_html(table_html)[0]\n"
     ]
    },
    {
     "name": "stdout",
     "output_type": "stream",
     "text": [
      "Table found and converted to DataFrame for URL: https://www.estimize.com/CSCO/fq2-2022?metric_name=eps&chart=historical\n"
     ]
    },
    {
     "name": "stderr",
     "output_type": "stream",
     "text": [
      "C:\\Users\\mhunt\\AppData\\Local\\Temp\\ipykernel_7800\\329258333.py:29: FutureWarning: Passing literal html to 'read_html' is deprecated and will be removed in a future version. To read from a literal string, wrap it in a 'StringIO' object.\n",
      "  df = pd.read_html(table_html)[0]\n"
     ]
    },
    {
     "name": "stdout",
     "output_type": "stream",
     "text": [
      "Table found and converted to DataFrame for URL: https://www.estimize.com/CSCO/fq3-2022?metric_name=eps&chart=historical\n"
     ]
    },
    {
     "name": "stderr",
     "output_type": "stream",
     "text": [
      "C:\\Users\\mhunt\\AppData\\Local\\Temp\\ipykernel_7800\\329258333.py:29: FutureWarning: Passing literal html to 'read_html' is deprecated and will be removed in a future version. To read from a literal string, wrap it in a 'StringIO' object.\n",
      "  df = pd.read_html(table_html)[0]\n"
     ]
    },
    {
     "name": "stdout",
     "output_type": "stream",
     "text": [
      "Table found and converted to DataFrame for URL: https://www.estimize.com/CSCO/fq4-2022?metric_name=eps&chart=historical\n"
     ]
    },
    {
     "name": "stderr",
     "output_type": "stream",
     "text": [
      "C:\\Users\\mhunt\\AppData\\Local\\Temp\\ipykernel_7800\\329258333.py:29: FutureWarning: Passing literal html to 'read_html' is deprecated and will be removed in a future version. To read from a literal string, wrap it in a 'StringIO' object.\n",
      "  df = pd.read_html(table_html)[0]\n"
     ]
    },
    {
     "name": "stdout",
     "output_type": "stream",
     "text": [
      "Table found and converted to DataFrame for URL: https://www.estimize.com/BABA/fq1-2020?metric_name=eps&chart=historical\n"
     ]
    },
    {
     "name": "stderr",
     "output_type": "stream",
     "text": [
      "C:\\Users\\mhunt\\AppData\\Local\\Temp\\ipykernel_7800\\329258333.py:29: FutureWarning: Passing literal html to 'read_html' is deprecated and will be removed in a future version. To read from a literal string, wrap it in a 'StringIO' object.\n",
      "  df = pd.read_html(table_html)[0]\n"
     ]
    },
    {
     "name": "stdout",
     "output_type": "stream",
     "text": [
      "Table found and converted to DataFrame for URL: https://www.estimize.com/BABA/fq2-2020?metric_name=eps&chart=historical\n"
     ]
    },
    {
     "name": "stderr",
     "output_type": "stream",
     "text": [
      "C:\\Users\\mhunt\\AppData\\Local\\Temp\\ipykernel_7800\\329258333.py:29: FutureWarning: Passing literal html to 'read_html' is deprecated and will be removed in a future version. To read from a literal string, wrap it in a 'StringIO' object.\n",
      "  df = pd.read_html(table_html)[0]\n"
     ]
    },
    {
     "name": "stdout",
     "output_type": "stream",
     "text": [
      "Table found and converted to DataFrame for URL: https://www.estimize.com/BABA/fq3-2020?metric_name=eps&chart=historical\n"
     ]
    },
    {
     "name": "stderr",
     "output_type": "stream",
     "text": [
      "C:\\Users\\mhunt\\AppData\\Local\\Temp\\ipykernel_7800\\329258333.py:29: FutureWarning: Passing literal html to 'read_html' is deprecated and will be removed in a future version. To read from a literal string, wrap it in a 'StringIO' object.\n",
      "  df = pd.read_html(table_html)[0]\n"
     ]
    },
    {
     "name": "stdout",
     "output_type": "stream",
     "text": [
      "Table found and converted to DataFrame for URL: https://www.estimize.com/BABA/fq4-2020?metric_name=eps&chart=historical\n"
     ]
    },
    {
     "name": "stderr",
     "output_type": "stream",
     "text": [
      "C:\\Users\\mhunt\\AppData\\Local\\Temp\\ipykernel_7800\\329258333.py:29: FutureWarning: Passing literal html to 'read_html' is deprecated and will be removed in a future version. To read from a literal string, wrap it in a 'StringIO' object.\n",
      "  df = pd.read_html(table_html)[0]\n"
     ]
    },
    {
     "name": "stdout",
     "output_type": "stream",
     "text": [
      "Table found and converted to DataFrame for URL: https://www.estimize.com/BABA/fq1-2021?metric_name=eps&chart=historical\n"
     ]
    },
    {
     "name": "stderr",
     "output_type": "stream",
     "text": [
      "C:\\Users\\mhunt\\AppData\\Local\\Temp\\ipykernel_7800\\329258333.py:29: FutureWarning: Passing literal html to 'read_html' is deprecated and will be removed in a future version. To read from a literal string, wrap it in a 'StringIO' object.\n",
      "  df = pd.read_html(table_html)[0]\n"
     ]
    },
    {
     "name": "stdout",
     "output_type": "stream",
     "text": [
      "Table found and converted to DataFrame for URL: https://www.estimize.com/BABA/fq2-2021?metric_name=eps&chart=historical\n"
     ]
    },
    {
     "name": "stderr",
     "output_type": "stream",
     "text": [
      "C:\\Users\\mhunt\\AppData\\Local\\Temp\\ipykernel_7800\\329258333.py:29: FutureWarning: Passing literal html to 'read_html' is deprecated and will be removed in a future version. To read from a literal string, wrap it in a 'StringIO' object.\n",
      "  df = pd.read_html(table_html)[0]\n"
     ]
    },
    {
     "name": "stdout",
     "output_type": "stream",
     "text": [
      "Table found and converted to DataFrame for URL: https://www.estimize.com/BABA/fq3-2021?metric_name=eps&chart=historical\n"
     ]
    },
    {
     "name": "stderr",
     "output_type": "stream",
     "text": [
      "C:\\Users\\mhunt\\AppData\\Local\\Temp\\ipykernel_7800\\329258333.py:29: FutureWarning: Passing literal html to 'read_html' is deprecated and will be removed in a future version. To read from a literal string, wrap it in a 'StringIO' object.\n",
      "  df = pd.read_html(table_html)[0]\n"
     ]
    },
    {
     "name": "stdout",
     "output_type": "stream",
     "text": [
      "Table found and converted to DataFrame for URL: https://www.estimize.com/BABA/fq4-2021?metric_name=eps&chart=historical\n"
     ]
    },
    {
     "name": "stderr",
     "output_type": "stream",
     "text": [
      "C:\\Users\\mhunt\\AppData\\Local\\Temp\\ipykernel_7800\\329258333.py:29: FutureWarning: Passing literal html to 'read_html' is deprecated and will be removed in a future version. To read from a literal string, wrap it in a 'StringIO' object.\n",
      "  df = pd.read_html(table_html)[0]\n"
     ]
    },
    {
     "name": "stdout",
     "output_type": "stream",
     "text": [
      "Table found and converted to DataFrame for URL: https://www.estimize.com/BABA/fq1-2022?metric_name=eps&chart=historical\n"
     ]
    },
    {
     "name": "stderr",
     "output_type": "stream",
     "text": [
      "C:\\Users\\mhunt\\AppData\\Local\\Temp\\ipykernel_7800\\329258333.py:29: FutureWarning: Passing literal html to 'read_html' is deprecated and will be removed in a future version. To read from a literal string, wrap it in a 'StringIO' object.\n",
      "  df = pd.read_html(table_html)[0]\n"
     ]
    },
    {
     "name": "stdout",
     "output_type": "stream",
     "text": [
      "Table found and converted to DataFrame for URL: https://www.estimize.com/BABA/fq2-2022?metric_name=eps&chart=historical\n"
     ]
    },
    {
     "name": "stderr",
     "output_type": "stream",
     "text": [
      "C:\\Users\\mhunt\\AppData\\Local\\Temp\\ipykernel_7800\\329258333.py:29: FutureWarning: Passing literal html to 'read_html' is deprecated and will be removed in a future version. To read from a literal string, wrap it in a 'StringIO' object.\n",
      "  df = pd.read_html(table_html)[0]\n"
     ]
    },
    {
     "name": "stdout",
     "output_type": "stream",
     "text": [
      "Table found and converted to DataFrame for URL: https://www.estimize.com/BABA/fq3-2022?metric_name=eps&chart=historical\n"
     ]
    },
    {
     "name": "stderr",
     "output_type": "stream",
     "text": [
      "C:\\Users\\mhunt\\AppData\\Local\\Temp\\ipykernel_7800\\329258333.py:29: FutureWarning: Passing literal html to 'read_html' is deprecated and will be removed in a future version. To read from a literal string, wrap it in a 'StringIO' object.\n",
      "  df = pd.read_html(table_html)[0]\n"
     ]
    },
    {
     "name": "stdout",
     "output_type": "stream",
     "text": [
      "Table found and converted to DataFrame for URL: https://www.estimize.com/BABA/fq4-2022?metric_name=eps&chart=historical\n"
     ]
    },
    {
     "name": "stderr",
     "output_type": "stream",
     "text": [
      "C:\\Users\\mhunt\\AppData\\Local\\Temp\\ipykernel_7800\\329258333.py:29: FutureWarning: Passing literal html to 'read_html' is deprecated and will be removed in a future version. To read from a literal string, wrap it in a 'StringIO' object.\n",
      "  df = pd.read_html(table_html)[0]\n"
     ]
    },
    {
     "name": "stdout",
     "output_type": "stream",
     "text": [
      "Table found and converted to DataFrame for URL: https://www.estimize.com/HD/fq1-2020?metric_name=eps&chart=historical\n"
     ]
    },
    {
     "name": "stderr",
     "output_type": "stream",
     "text": [
      "C:\\Users\\mhunt\\AppData\\Local\\Temp\\ipykernel_7800\\329258333.py:29: FutureWarning: Passing literal html to 'read_html' is deprecated and will be removed in a future version. To read from a literal string, wrap it in a 'StringIO' object.\n",
      "  df = pd.read_html(table_html)[0]\n"
     ]
    },
    {
     "name": "stdout",
     "output_type": "stream",
     "text": [
      "Table found and converted to DataFrame for URL: https://www.estimize.com/HD/fq2-2020?metric_name=eps&chart=historical\n"
     ]
    },
    {
     "name": "stderr",
     "output_type": "stream",
     "text": [
      "C:\\Users\\mhunt\\AppData\\Local\\Temp\\ipykernel_7800\\329258333.py:29: FutureWarning: Passing literal html to 'read_html' is deprecated and will be removed in a future version. To read from a literal string, wrap it in a 'StringIO' object.\n",
      "  df = pd.read_html(table_html)[0]\n"
     ]
    },
    {
     "name": "stdout",
     "output_type": "stream",
     "text": [
      "Table found and converted to DataFrame for URL: https://www.estimize.com/HD/fq3-2020?metric_name=eps&chart=historical\n"
     ]
    },
    {
     "name": "stderr",
     "output_type": "stream",
     "text": [
      "C:\\Users\\mhunt\\AppData\\Local\\Temp\\ipykernel_7800\\329258333.py:29: FutureWarning: Passing literal html to 'read_html' is deprecated and will be removed in a future version. To read from a literal string, wrap it in a 'StringIO' object.\n",
      "  df = pd.read_html(table_html)[0]\n"
     ]
    },
    {
     "name": "stdout",
     "output_type": "stream",
     "text": [
      "Table found and converted to DataFrame for URL: https://www.estimize.com/HD/fq4-2020?metric_name=eps&chart=historical\n"
     ]
    },
    {
     "name": "stderr",
     "output_type": "stream",
     "text": [
      "C:\\Users\\mhunt\\AppData\\Local\\Temp\\ipykernel_7800\\329258333.py:29: FutureWarning: Passing literal html to 'read_html' is deprecated and will be removed in a future version. To read from a literal string, wrap it in a 'StringIO' object.\n",
      "  df = pd.read_html(table_html)[0]\n"
     ]
    },
    {
     "name": "stdout",
     "output_type": "stream",
     "text": [
      "Table found and converted to DataFrame for URL: https://www.estimize.com/HD/fq1-2021?metric_name=eps&chart=historical\n"
     ]
    },
    {
     "name": "stderr",
     "output_type": "stream",
     "text": [
      "C:\\Users\\mhunt\\AppData\\Local\\Temp\\ipykernel_7800\\329258333.py:29: FutureWarning: Passing literal html to 'read_html' is deprecated and will be removed in a future version. To read from a literal string, wrap it in a 'StringIO' object.\n",
      "  df = pd.read_html(table_html)[0]\n"
     ]
    },
    {
     "name": "stdout",
     "output_type": "stream",
     "text": [
      "Table found and converted to DataFrame for URL: https://www.estimize.com/HD/fq2-2021?metric_name=eps&chart=historical\n"
     ]
    },
    {
     "name": "stderr",
     "output_type": "stream",
     "text": [
      "C:\\Users\\mhunt\\AppData\\Local\\Temp\\ipykernel_7800\\329258333.py:29: FutureWarning: Passing literal html to 'read_html' is deprecated and will be removed in a future version. To read from a literal string, wrap it in a 'StringIO' object.\n",
      "  df = pd.read_html(table_html)[0]\n"
     ]
    },
    {
     "name": "stdout",
     "output_type": "stream",
     "text": [
      "Table found and converted to DataFrame for URL: https://www.estimize.com/HD/fq3-2021?metric_name=eps&chart=historical\n"
     ]
    },
    {
     "name": "stderr",
     "output_type": "stream",
     "text": [
      "C:\\Users\\mhunt\\AppData\\Local\\Temp\\ipykernel_7800\\329258333.py:29: FutureWarning: Passing literal html to 'read_html' is deprecated and will be removed in a future version. To read from a literal string, wrap it in a 'StringIO' object.\n",
      "  df = pd.read_html(table_html)[0]\n"
     ]
    },
    {
     "name": "stdout",
     "output_type": "stream",
     "text": [
      "Table found and converted to DataFrame for URL: https://www.estimize.com/HD/fq4-2021?metric_name=eps&chart=historical\n"
     ]
    },
    {
     "name": "stderr",
     "output_type": "stream",
     "text": [
      "C:\\Users\\mhunt\\AppData\\Local\\Temp\\ipykernel_7800\\329258333.py:29: FutureWarning: Passing literal html to 'read_html' is deprecated and will be removed in a future version. To read from a literal string, wrap it in a 'StringIO' object.\n",
      "  df = pd.read_html(table_html)[0]\n"
     ]
    },
    {
     "name": "stdout",
     "output_type": "stream",
     "text": [
      "Table found and converted to DataFrame for URL: https://www.estimize.com/HD/fq1-2022?metric_name=eps&chart=historical\n"
     ]
    },
    {
     "name": "stderr",
     "output_type": "stream",
     "text": [
      "C:\\Users\\mhunt\\AppData\\Local\\Temp\\ipykernel_7800\\329258333.py:29: FutureWarning: Passing literal html to 'read_html' is deprecated and will be removed in a future version. To read from a literal string, wrap it in a 'StringIO' object.\n",
      "  df = pd.read_html(table_html)[0]\n"
     ]
    },
    {
     "name": "stdout",
     "output_type": "stream",
     "text": [
      "Table found and converted to DataFrame for URL: https://www.estimize.com/HD/fq2-2022?metric_name=eps&chart=historical\n"
     ]
    },
    {
     "name": "stderr",
     "output_type": "stream",
     "text": [
      "C:\\Users\\mhunt\\AppData\\Local\\Temp\\ipykernel_7800\\329258333.py:29: FutureWarning: Passing literal html to 'read_html' is deprecated and will be removed in a future version. To read from a literal string, wrap it in a 'StringIO' object.\n",
      "  df = pd.read_html(table_html)[0]\n"
     ]
    },
    {
     "name": "stdout",
     "output_type": "stream",
     "text": [
      "Table found and converted to DataFrame for URL: https://www.estimize.com/HD/fq3-2022?metric_name=eps&chart=historical\n"
     ]
    },
    {
     "name": "stderr",
     "output_type": "stream",
     "text": [
      "C:\\Users\\mhunt\\AppData\\Local\\Temp\\ipykernel_7800\\329258333.py:29: FutureWarning: Passing literal html to 'read_html' is deprecated and will be removed in a future version. To read from a literal string, wrap it in a 'StringIO' object.\n",
      "  df = pd.read_html(table_html)[0]\n"
     ]
    },
    {
     "name": "stdout",
     "output_type": "stream",
     "text": [
      "Table found and converted to DataFrame for URL: https://www.estimize.com/HD/fq4-2022?metric_name=eps&chart=historical\n"
     ]
    },
    {
     "name": "stderr",
     "output_type": "stream",
     "text": [
      "C:\\Users\\mhunt\\AppData\\Local\\Temp\\ipykernel_7800\\329258333.py:29: FutureWarning: Passing literal html to 'read_html' is deprecated and will be removed in a future version. To read from a literal string, wrap it in a 'StringIO' object.\n",
      "  df = pd.read_html(table_html)[0]\n"
     ]
    },
    {
     "name": "stdout",
     "output_type": "stream",
     "text": [
      "Table found and converted to DataFrame for URL: https://www.estimize.com/BIDU/fq1-2020?metric_name=eps&chart=historical\n"
     ]
    },
    {
     "name": "stderr",
     "output_type": "stream",
     "text": [
      "C:\\Users\\mhunt\\AppData\\Local\\Temp\\ipykernel_7800\\329258333.py:29: FutureWarning: Passing literal html to 'read_html' is deprecated and will be removed in a future version. To read from a literal string, wrap it in a 'StringIO' object.\n",
      "  df = pd.read_html(table_html)[0]\n"
     ]
    },
    {
     "name": "stdout",
     "output_type": "stream",
     "text": [
      "Table found and converted to DataFrame for URL: https://www.estimize.com/BIDU/fq2-2020?metric_name=eps&chart=historical\n"
     ]
    },
    {
     "name": "stderr",
     "output_type": "stream",
     "text": [
      "C:\\Users\\mhunt\\AppData\\Local\\Temp\\ipykernel_7800\\329258333.py:29: FutureWarning: Passing literal html to 'read_html' is deprecated and will be removed in a future version. To read from a literal string, wrap it in a 'StringIO' object.\n",
      "  df = pd.read_html(table_html)[0]\n"
     ]
    },
    {
     "name": "stdout",
     "output_type": "stream",
     "text": [
      "Table found and converted to DataFrame for URL: https://www.estimize.com/BIDU/fq3-2020?metric_name=eps&chart=historical\n"
     ]
    },
    {
     "name": "stderr",
     "output_type": "stream",
     "text": [
      "C:\\Users\\mhunt\\AppData\\Local\\Temp\\ipykernel_7800\\329258333.py:29: FutureWarning: Passing literal html to 'read_html' is deprecated and will be removed in a future version. To read from a literal string, wrap it in a 'StringIO' object.\n",
      "  df = pd.read_html(table_html)[0]\n"
     ]
    },
    {
     "name": "stdout",
     "output_type": "stream",
     "text": [
      "Table found and converted to DataFrame for URL: https://www.estimize.com/BIDU/fq4-2020?metric_name=eps&chart=historical\n"
     ]
    },
    {
     "name": "stderr",
     "output_type": "stream",
     "text": [
      "C:\\Users\\mhunt\\AppData\\Local\\Temp\\ipykernel_7800\\329258333.py:29: FutureWarning: Passing literal html to 'read_html' is deprecated and will be removed in a future version. To read from a literal string, wrap it in a 'StringIO' object.\n",
      "  df = pd.read_html(table_html)[0]\n"
     ]
    },
    {
     "name": "stdout",
     "output_type": "stream",
     "text": [
      "Table found and converted to DataFrame for URL: https://www.estimize.com/BIDU/fq1-2021?metric_name=eps&chart=historical\n"
     ]
    },
    {
     "name": "stderr",
     "output_type": "stream",
     "text": [
      "C:\\Users\\mhunt\\AppData\\Local\\Temp\\ipykernel_7800\\329258333.py:29: FutureWarning: Passing literal html to 'read_html' is deprecated and will be removed in a future version. To read from a literal string, wrap it in a 'StringIO' object.\n",
      "  df = pd.read_html(table_html)[0]\n"
     ]
    },
    {
     "name": "stdout",
     "output_type": "stream",
     "text": [
      "Table found and converted to DataFrame for URL: https://www.estimize.com/BIDU/fq2-2021?metric_name=eps&chart=historical\n"
     ]
    },
    {
     "name": "stderr",
     "output_type": "stream",
     "text": [
      "C:\\Users\\mhunt\\AppData\\Local\\Temp\\ipykernel_7800\\329258333.py:29: FutureWarning: Passing literal html to 'read_html' is deprecated and will be removed in a future version. To read from a literal string, wrap it in a 'StringIO' object.\n",
      "  df = pd.read_html(table_html)[0]\n"
     ]
    },
    {
     "name": "stdout",
     "output_type": "stream",
     "text": [
      "Table found and converted to DataFrame for URL: https://www.estimize.com/BIDU/fq3-2021?metric_name=eps&chart=historical\n"
     ]
    },
    {
     "name": "stderr",
     "output_type": "stream",
     "text": [
      "C:\\Users\\mhunt\\AppData\\Local\\Temp\\ipykernel_7800\\329258333.py:29: FutureWarning: Passing literal html to 'read_html' is deprecated and will be removed in a future version. To read from a literal string, wrap it in a 'StringIO' object.\n",
      "  df = pd.read_html(table_html)[0]\n"
     ]
    },
    {
     "name": "stdout",
     "output_type": "stream",
     "text": [
      "Table found and converted to DataFrame for URL: https://www.estimize.com/BIDU/fq4-2021?metric_name=eps&chart=historical\n"
     ]
    },
    {
     "name": "stderr",
     "output_type": "stream",
     "text": [
      "C:\\Users\\mhunt\\AppData\\Local\\Temp\\ipykernel_7800\\329258333.py:29: FutureWarning: Passing literal html to 'read_html' is deprecated and will be removed in a future version. To read from a literal string, wrap it in a 'StringIO' object.\n",
      "  df = pd.read_html(table_html)[0]\n"
     ]
    },
    {
     "name": "stdout",
     "output_type": "stream",
     "text": [
      "Table found and converted to DataFrame for URL: https://www.estimize.com/BIDU/fq1-2022?metric_name=eps&chart=historical\n"
     ]
    },
    {
     "name": "stderr",
     "output_type": "stream",
     "text": [
      "C:\\Users\\mhunt\\AppData\\Local\\Temp\\ipykernel_7800\\329258333.py:29: FutureWarning: Passing literal html to 'read_html' is deprecated and will be removed in a future version. To read from a literal string, wrap it in a 'StringIO' object.\n",
      "  df = pd.read_html(table_html)[0]\n"
     ]
    },
    {
     "name": "stdout",
     "output_type": "stream",
     "text": [
      "Table found and converted to DataFrame for URL: https://www.estimize.com/BIDU/fq2-2022?metric_name=eps&chart=historical\n"
     ]
    },
    {
     "name": "stderr",
     "output_type": "stream",
     "text": [
      "C:\\Users\\mhunt\\AppData\\Local\\Temp\\ipykernel_7800\\329258333.py:29: FutureWarning: Passing literal html to 'read_html' is deprecated and will be removed in a future version. To read from a literal string, wrap it in a 'StringIO' object.\n",
      "  df = pd.read_html(table_html)[0]\n"
     ]
    },
    {
     "name": "stdout",
     "output_type": "stream",
     "text": [
      "Table found and converted to DataFrame for URL: https://www.estimize.com/BIDU/fq3-2022?metric_name=eps&chart=historical\n",
      "Link not found or unable to click for URL: https://www.estimize.com/BIDU/fq4-2022?metric_name=eps&chart=historical\n",
      "Table found and converted to DataFrame for URL: https://www.estimize.com/BIDU/fq4-2022?metric_name=eps&chart=historical\n"
     ]
    },
    {
     "name": "stderr",
     "output_type": "stream",
     "text": [
      "C:\\Users\\mhunt\\AppData\\Local\\Temp\\ipykernel_7800\\329258333.py:29: FutureWarning: Passing literal html to 'read_html' is deprecated and will be removed in a future version. To read from a literal string, wrap it in a 'StringIO' object.\n",
      "  df = pd.read_html(table_html)[0]\n",
      "C:\\Users\\mhunt\\AppData\\Local\\Temp\\ipykernel_7800\\329258333.py:29: FutureWarning: Passing literal html to 'read_html' is deprecated and will be removed in a future version. To read from a literal string, wrap it in a 'StringIO' object.\n",
      "  df = pd.read_html(table_html)[0]\n"
     ]
    },
    {
     "name": "stdout",
     "output_type": "stream",
     "text": [
      "Table found and converted to DataFrame for URL: https://www.estimize.com/WMT/fq1-2020?metric_name=eps&chart=historical\n"
     ]
    },
    {
     "name": "stderr",
     "output_type": "stream",
     "text": [
      "C:\\Users\\mhunt\\AppData\\Local\\Temp\\ipykernel_7800\\329258333.py:29: FutureWarning: Passing literal html to 'read_html' is deprecated and will be removed in a future version. To read from a literal string, wrap it in a 'StringIO' object.\n",
      "  df = pd.read_html(table_html)[0]\n"
     ]
    },
    {
     "name": "stdout",
     "output_type": "stream",
     "text": [
      "Table found and converted to DataFrame for URL: https://www.estimize.com/WMT/fq2-2020?metric_name=eps&chart=historical\n"
     ]
    },
    {
     "name": "stderr",
     "output_type": "stream",
     "text": [
      "C:\\Users\\mhunt\\AppData\\Local\\Temp\\ipykernel_7800\\329258333.py:29: FutureWarning: Passing literal html to 'read_html' is deprecated and will be removed in a future version. To read from a literal string, wrap it in a 'StringIO' object.\n",
      "  df = pd.read_html(table_html)[0]\n"
     ]
    },
    {
     "name": "stdout",
     "output_type": "stream",
     "text": [
      "Table found and converted to DataFrame for URL: https://www.estimize.com/WMT/fq3-2020?metric_name=eps&chart=historical\n"
     ]
    },
    {
     "name": "stderr",
     "output_type": "stream",
     "text": [
      "C:\\Users\\mhunt\\AppData\\Local\\Temp\\ipykernel_7800\\329258333.py:29: FutureWarning: Passing literal html to 'read_html' is deprecated and will be removed in a future version. To read from a literal string, wrap it in a 'StringIO' object.\n",
      "  df = pd.read_html(table_html)[0]\n"
     ]
    },
    {
     "name": "stdout",
     "output_type": "stream",
     "text": [
      "Table found and converted to DataFrame for URL: https://www.estimize.com/WMT/fq4-2020?metric_name=eps&chart=historical\n"
     ]
    },
    {
     "name": "stderr",
     "output_type": "stream",
     "text": [
      "C:\\Users\\mhunt\\AppData\\Local\\Temp\\ipykernel_7800\\329258333.py:29: FutureWarning: Passing literal html to 'read_html' is deprecated and will be removed in a future version. To read from a literal string, wrap it in a 'StringIO' object.\n",
      "  df = pd.read_html(table_html)[0]\n"
     ]
    },
    {
     "name": "stdout",
     "output_type": "stream",
     "text": [
      "Table found and converted to DataFrame for URL: https://www.estimize.com/WMT/fq1-2021?metric_name=eps&chart=historical\n"
     ]
    },
    {
     "name": "stderr",
     "output_type": "stream",
     "text": [
      "C:\\Users\\mhunt\\AppData\\Local\\Temp\\ipykernel_7800\\329258333.py:29: FutureWarning: Passing literal html to 'read_html' is deprecated and will be removed in a future version. To read from a literal string, wrap it in a 'StringIO' object.\n",
      "  df = pd.read_html(table_html)[0]\n"
     ]
    },
    {
     "name": "stdout",
     "output_type": "stream",
     "text": [
      "Table found and converted to DataFrame for URL: https://www.estimize.com/WMT/fq2-2021?metric_name=eps&chart=historical\n"
     ]
    },
    {
     "name": "stderr",
     "output_type": "stream",
     "text": [
      "C:\\Users\\mhunt\\AppData\\Local\\Temp\\ipykernel_7800\\329258333.py:29: FutureWarning: Passing literal html to 'read_html' is deprecated and will be removed in a future version. To read from a literal string, wrap it in a 'StringIO' object.\n",
      "  df = pd.read_html(table_html)[0]\n"
     ]
    },
    {
     "name": "stdout",
     "output_type": "stream",
     "text": [
      "Table found and converted to DataFrame for URL: https://www.estimize.com/WMT/fq3-2021?metric_name=eps&chart=historical\n"
     ]
    },
    {
     "name": "stderr",
     "output_type": "stream",
     "text": [
      "C:\\Users\\mhunt\\AppData\\Local\\Temp\\ipykernel_7800\\329258333.py:29: FutureWarning: Passing literal html to 'read_html' is deprecated and will be removed in a future version. To read from a literal string, wrap it in a 'StringIO' object.\n",
      "  df = pd.read_html(table_html)[0]\n"
     ]
    },
    {
     "name": "stdout",
     "output_type": "stream",
     "text": [
      "Table found and converted to DataFrame for URL: https://www.estimize.com/WMT/fq4-2021?metric_name=eps&chart=historical\n"
     ]
    },
    {
     "name": "stderr",
     "output_type": "stream",
     "text": [
      "C:\\Users\\mhunt\\AppData\\Local\\Temp\\ipykernel_7800\\329258333.py:29: FutureWarning: Passing literal html to 'read_html' is deprecated and will be removed in a future version. To read from a literal string, wrap it in a 'StringIO' object.\n",
      "  df = pd.read_html(table_html)[0]\n"
     ]
    },
    {
     "name": "stdout",
     "output_type": "stream",
     "text": [
      "Table found and converted to DataFrame for URL: https://www.estimize.com/WMT/fq1-2022?metric_name=eps&chart=historical\n"
     ]
    },
    {
     "name": "stderr",
     "output_type": "stream",
     "text": [
      "C:\\Users\\mhunt\\AppData\\Local\\Temp\\ipykernel_7800\\329258333.py:29: FutureWarning: Passing literal html to 'read_html' is deprecated and will be removed in a future version. To read from a literal string, wrap it in a 'StringIO' object.\n",
      "  df = pd.read_html(table_html)[0]\n"
     ]
    },
    {
     "name": "stdout",
     "output_type": "stream",
     "text": [
      "Table found and converted to DataFrame for URL: https://www.estimize.com/WMT/fq2-2022?metric_name=eps&chart=historical\n"
     ]
    },
    {
     "name": "stderr",
     "output_type": "stream",
     "text": [
      "C:\\Users\\mhunt\\AppData\\Local\\Temp\\ipykernel_7800\\329258333.py:29: FutureWarning: Passing literal html to 'read_html' is deprecated and will be removed in a future version. To read from a literal string, wrap it in a 'StringIO' object.\n",
      "  df = pd.read_html(table_html)[0]\n"
     ]
    },
    {
     "name": "stdout",
     "output_type": "stream",
     "text": [
      "Table found and converted to DataFrame for URL: https://www.estimize.com/WMT/fq3-2022?metric_name=eps&chart=historical\n"
     ]
    },
    {
     "name": "stderr",
     "output_type": "stream",
     "text": [
      "C:\\Users\\mhunt\\AppData\\Local\\Temp\\ipykernel_7800\\329258333.py:29: FutureWarning: Passing literal html to 'read_html' is deprecated and will be removed in a future version. To read from a literal string, wrap it in a 'StringIO' object.\n",
      "  df = pd.read_html(table_html)[0]\n"
     ]
    },
    {
     "name": "stdout",
     "output_type": "stream",
     "text": [
      "Table found and converted to DataFrame for URL: https://www.estimize.com/WMT/fq4-2022?metric_name=eps&chart=historical\n"
     ]
    },
    {
     "name": "stderr",
     "output_type": "stream",
     "text": [
      "C:\\Users\\mhunt\\AppData\\Local\\Temp\\ipykernel_7800\\329258333.py:29: FutureWarning: Passing literal html to 'read_html' is deprecated and will be removed in a future version. To read from a literal string, wrap it in a 'StringIO' object.\n",
      "  df = pd.read_html(table_html)[0]\n"
     ]
    },
    {
     "name": "stdout",
     "output_type": "stream",
     "text": [
      "Table found and converted to DataFrame for URL: https://www.estimize.com/CRM/fq1-2020?metric_name=eps&chart=historical\n"
     ]
    },
    {
     "name": "stderr",
     "output_type": "stream",
     "text": [
      "C:\\Users\\mhunt\\AppData\\Local\\Temp\\ipykernel_7800\\329258333.py:29: FutureWarning: Passing literal html to 'read_html' is deprecated and will be removed in a future version. To read from a literal string, wrap it in a 'StringIO' object.\n",
      "  df = pd.read_html(table_html)[0]\n"
     ]
    },
    {
     "name": "stdout",
     "output_type": "stream",
     "text": [
      "Table found and converted to DataFrame for URL: https://www.estimize.com/CRM/fq2-2020?metric_name=eps&chart=historical\n"
     ]
    },
    {
     "name": "stderr",
     "output_type": "stream",
     "text": [
      "C:\\Users\\mhunt\\AppData\\Local\\Temp\\ipykernel_7800\\329258333.py:29: FutureWarning: Passing literal html to 'read_html' is deprecated and will be removed in a future version. To read from a literal string, wrap it in a 'StringIO' object.\n",
      "  df = pd.read_html(table_html)[0]\n"
     ]
    },
    {
     "name": "stdout",
     "output_type": "stream",
     "text": [
      "Table found and converted to DataFrame for URL: https://www.estimize.com/CRM/fq3-2020?metric_name=eps&chart=historical\n"
     ]
    },
    {
     "name": "stderr",
     "output_type": "stream",
     "text": [
      "C:\\Users\\mhunt\\AppData\\Local\\Temp\\ipykernel_7800\\329258333.py:29: FutureWarning: Passing literal html to 'read_html' is deprecated and will be removed in a future version. To read from a literal string, wrap it in a 'StringIO' object.\n",
      "  df = pd.read_html(table_html)[0]\n"
     ]
    },
    {
     "name": "stdout",
     "output_type": "stream",
     "text": [
      "Table found and converted to DataFrame for URL: https://www.estimize.com/CRM/fq4-2020?metric_name=eps&chart=historical\n"
     ]
    },
    {
     "name": "stderr",
     "output_type": "stream",
     "text": [
      "C:\\Users\\mhunt\\AppData\\Local\\Temp\\ipykernel_7800\\329258333.py:29: FutureWarning: Passing literal html to 'read_html' is deprecated and will be removed in a future version. To read from a literal string, wrap it in a 'StringIO' object.\n",
      "  df = pd.read_html(table_html)[0]\n"
     ]
    },
    {
     "name": "stdout",
     "output_type": "stream",
     "text": [
      "Table found and converted to DataFrame for URL: https://www.estimize.com/CRM/fq1-2021?metric_name=eps&chart=historical\n"
     ]
    },
    {
     "name": "stderr",
     "output_type": "stream",
     "text": [
      "C:\\Users\\mhunt\\AppData\\Local\\Temp\\ipykernel_7800\\329258333.py:29: FutureWarning: Passing literal html to 'read_html' is deprecated and will be removed in a future version. To read from a literal string, wrap it in a 'StringIO' object.\n",
      "  df = pd.read_html(table_html)[0]\n"
     ]
    },
    {
     "name": "stdout",
     "output_type": "stream",
     "text": [
      "Table found and converted to DataFrame for URL: https://www.estimize.com/CRM/fq2-2021?metric_name=eps&chart=historical\n"
     ]
    },
    {
     "name": "stderr",
     "output_type": "stream",
     "text": [
      "C:\\Users\\mhunt\\AppData\\Local\\Temp\\ipykernel_7800\\329258333.py:29: FutureWarning: Passing literal html to 'read_html' is deprecated and will be removed in a future version. To read from a literal string, wrap it in a 'StringIO' object.\n",
      "  df = pd.read_html(table_html)[0]\n"
     ]
    },
    {
     "name": "stdout",
     "output_type": "stream",
     "text": [
      "Table found and converted to DataFrame for URL: https://www.estimize.com/CRM/fq3-2021?metric_name=eps&chart=historical\n"
     ]
    },
    {
     "name": "stderr",
     "output_type": "stream",
     "text": [
      "C:\\Users\\mhunt\\AppData\\Local\\Temp\\ipykernel_7800\\329258333.py:29: FutureWarning: Passing literal html to 'read_html' is deprecated and will be removed in a future version. To read from a literal string, wrap it in a 'StringIO' object.\n",
      "  df = pd.read_html(table_html)[0]\n"
     ]
    },
    {
     "name": "stdout",
     "output_type": "stream",
     "text": [
      "Table found and converted to DataFrame for URL: https://www.estimize.com/CRM/fq4-2021?metric_name=eps&chart=historical\n"
     ]
    },
    {
     "name": "stderr",
     "output_type": "stream",
     "text": [
      "C:\\Users\\mhunt\\AppData\\Local\\Temp\\ipykernel_7800\\329258333.py:29: FutureWarning: Passing literal html to 'read_html' is deprecated and will be removed in a future version. To read from a literal string, wrap it in a 'StringIO' object.\n",
      "  df = pd.read_html(table_html)[0]\n"
     ]
    },
    {
     "name": "stdout",
     "output_type": "stream",
     "text": [
      "Table found and converted to DataFrame for URL: https://www.estimize.com/CRM/fq1-2022?metric_name=eps&chart=historical\n"
     ]
    },
    {
     "name": "stderr",
     "output_type": "stream",
     "text": [
      "C:\\Users\\mhunt\\AppData\\Local\\Temp\\ipykernel_7800\\329258333.py:29: FutureWarning: Passing literal html to 'read_html' is deprecated and will be removed in a future version. To read from a literal string, wrap it in a 'StringIO' object.\n",
      "  df = pd.read_html(table_html)[0]\n"
     ]
    },
    {
     "name": "stdout",
     "output_type": "stream",
     "text": [
      "Table found and converted to DataFrame for URL: https://www.estimize.com/CRM/fq2-2022?metric_name=eps&chart=historical\n"
     ]
    },
    {
     "name": "stderr",
     "output_type": "stream",
     "text": [
      "C:\\Users\\mhunt\\AppData\\Local\\Temp\\ipykernel_7800\\329258333.py:29: FutureWarning: Passing literal html to 'read_html' is deprecated and will be removed in a future version. To read from a literal string, wrap it in a 'StringIO' object.\n",
      "  df = pd.read_html(table_html)[0]\n"
     ]
    },
    {
     "name": "stdout",
     "output_type": "stream",
     "text": [
      "Table found and converted to DataFrame for URL: https://www.estimize.com/CRM/fq3-2022?metric_name=eps&chart=historical\n"
     ]
    },
    {
     "name": "stderr",
     "output_type": "stream",
     "text": [
      "C:\\Users\\mhunt\\AppData\\Local\\Temp\\ipykernel_7800\\329258333.py:29: FutureWarning: Passing literal html to 'read_html' is deprecated and will be removed in a future version. To read from a literal string, wrap it in a 'StringIO' object.\n",
      "  df = pd.read_html(table_html)[0]\n"
     ]
    },
    {
     "name": "stdout",
     "output_type": "stream",
     "text": [
      "Table found and converted to DataFrame for URL: https://www.estimize.com/CRM/fq4-2022?metric_name=eps&chart=historical\n"
     ]
    },
    {
     "name": "stderr",
     "output_type": "stream",
     "text": [
      "C:\\Users\\mhunt\\AppData\\Local\\Temp\\ipykernel_7800\\329258333.py:29: FutureWarning: Passing literal html to 'read_html' is deprecated and will be removed in a future version. To read from a literal string, wrap it in a 'StringIO' object.\n",
      "  df = pd.read_html(table_html)[0]\n"
     ]
    },
    {
     "name": "stdout",
     "output_type": "stream",
     "text": [
      "Table found and converted to DataFrame for URL: https://www.estimize.com/LULU/fq1-2020?metric_name=eps&chart=historical\n"
     ]
    },
    {
     "name": "stderr",
     "output_type": "stream",
     "text": [
      "C:\\Users\\mhunt\\AppData\\Local\\Temp\\ipykernel_7800\\329258333.py:29: FutureWarning: Passing literal html to 'read_html' is deprecated and will be removed in a future version. To read from a literal string, wrap it in a 'StringIO' object.\n",
      "  df = pd.read_html(table_html)[0]\n"
     ]
    },
    {
     "name": "stdout",
     "output_type": "stream",
     "text": [
      "Table found and converted to DataFrame for URL: https://www.estimize.com/LULU/fq2-2020?metric_name=eps&chart=historical\n"
     ]
    },
    {
     "name": "stderr",
     "output_type": "stream",
     "text": [
      "C:\\Users\\mhunt\\AppData\\Local\\Temp\\ipykernel_7800\\329258333.py:29: FutureWarning: Passing literal html to 'read_html' is deprecated and will be removed in a future version. To read from a literal string, wrap it in a 'StringIO' object.\n",
      "  df = pd.read_html(table_html)[0]\n"
     ]
    },
    {
     "name": "stdout",
     "output_type": "stream",
     "text": [
      "Table found and converted to DataFrame for URL: https://www.estimize.com/LULU/fq3-2020?metric_name=eps&chart=historical\n"
     ]
    },
    {
     "name": "stderr",
     "output_type": "stream",
     "text": [
      "C:\\Users\\mhunt\\AppData\\Local\\Temp\\ipykernel_7800\\329258333.py:29: FutureWarning: Passing literal html to 'read_html' is deprecated and will be removed in a future version. To read from a literal string, wrap it in a 'StringIO' object.\n",
      "  df = pd.read_html(table_html)[0]\n"
     ]
    },
    {
     "name": "stdout",
     "output_type": "stream",
     "text": [
      "Table found and converted to DataFrame for URL: https://www.estimize.com/LULU/fq4-2020?metric_name=eps&chart=historical\n"
     ]
    },
    {
     "name": "stderr",
     "output_type": "stream",
     "text": [
      "C:\\Users\\mhunt\\AppData\\Local\\Temp\\ipykernel_7800\\329258333.py:29: FutureWarning: Passing literal html to 'read_html' is deprecated and will be removed in a future version. To read from a literal string, wrap it in a 'StringIO' object.\n",
      "  df = pd.read_html(table_html)[0]\n"
     ]
    },
    {
     "name": "stdout",
     "output_type": "stream",
     "text": [
      "Table found and converted to DataFrame for URL: https://www.estimize.com/LULU/fq1-2021?metric_name=eps&chart=historical\n"
     ]
    },
    {
     "name": "stderr",
     "output_type": "stream",
     "text": [
      "C:\\Users\\mhunt\\AppData\\Local\\Temp\\ipykernel_7800\\329258333.py:29: FutureWarning: Passing literal html to 'read_html' is deprecated and will be removed in a future version. To read from a literal string, wrap it in a 'StringIO' object.\n",
      "  df = pd.read_html(table_html)[0]\n"
     ]
    },
    {
     "name": "stdout",
     "output_type": "stream",
     "text": [
      "Table found and converted to DataFrame for URL: https://www.estimize.com/LULU/fq2-2021?metric_name=eps&chart=historical\n"
     ]
    },
    {
     "name": "stderr",
     "output_type": "stream",
     "text": [
      "C:\\Users\\mhunt\\AppData\\Local\\Temp\\ipykernel_7800\\329258333.py:29: FutureWarning: Passing literal html to 'read_html' is deprecated and will be removed in a future version. To read from a literal string, wrap it in a 'StringIO' object.\n",
      "  df = pd.read_html(table_html)[0]\n"
     ]
    },
    {
     "name": "stdout",
     "output_type": "stream",
     "text": [
      "Table found and converted to DataFrame for URL: https://www.estimize.com/LULU/fq3-2021?metric_name=eps&chart=historical\n"
     ]
    },
    {
     "name": "stderr",
     "output_type": "stream",
     "text": [
      "C:\\Users\\mhunt\\AppData\\Local\\Temp\\ipykernel_7800\\329258333.py:29: FutureWarning: Passing literal html to 'read_html' is deprecated and will be removed in a future version. To read from a literal string, wrap it in a 'StringIO' object.\n",
      "  df = pd.read_html(table_html)[0]\n"
     ]
    },
    {
     "name": "stdout",
     "output_type": "stream",
     "text": [
      "Table found and converted to DataFrame for URL: https://www.estimize.com/LULU/fq4-2021?metric_name=eps&chart=historical\n"
     ]
    },
    {
     "name": "stderr",
     "output_type": "stream",
     "text": [
      "C:\\Users\\mhunt\\AppData\\Local\\Temp\\ipykernel_7800\\329258333.py:29: FutureWarning: Passing literal html to 'read_html' is deprecated and will be removed in a future version. To read from a literal string, wrap it in a 'StringIO' object.\n",
      "  df = pd.read_html(table_html)[0]\n"
     ]
    },
    {
     "name": "stdout",
     "output_type": "stream",
     "text": [
      "Table found and converted to DataFrame for URL: https://www.estimize.com/LULU/fq1-2022?metric_name=eps&chart=historical\n"
     ]
    },
    {
     "name": "stderr",
     "output_type": "stream",
     "text": [
      "C:\\Users\\mhunt\\AppData\\Local\\Temp\\ipykernel_7800\\329258333.py:29: FutureWarning: Passing literal html to 'read_html' is deprecated and will be removed in a future version. To read from a literal string, wrap it in a 'StringIO' object.\n",
      "  df = pd.read_html(table_html)[0]\n"
     ]
    },
    {
     "name": "stdout",
     "output_type": "stream",
     "text": [
      "Table found and converted to DataFrame for URL: https://www.estimize.com/LULU/fq2-2022?metric_name=eps&chart=historical\n"
     ]
    },
    {
     "name": "stderr",
     "output_type": "stream",
     "text": [
      "C:\\Users\\mhunt\\AppData\\Local\\Temp\\ipykernel_7800\\329258333.py:29: FutureWarning: Passing literal html to 'read_html' is deprecated and will be removed in a future version. To read from a literal string, wrap it in a 'StringIO' object.\n",
      "  df = pd.read_html(table_html)[0]\n"
     ]
    },
    {
     "name": "stdout",
     "output_type": "stream",
     "text": [
      "Table found and converted to DataFrame for URL: https://www.estimize.com/LULU/fq3-2022?metric_name=eps&chart=historical\n"
     ]
    },
    {
     "name": "stderr",
     "output_type": "stream",
     "text": [
      "C:\\Users\\mhunt\\AppData\\Local\\Temp\\ipykernel_7800\\329258333.py:29: FutureWarning: Passing literal html to 'read_html' is deprecated and will be removed in a future version. To read from a literal string, wrap it in a 'StringIO' object.\n",
      "  df = pd.read_html(table_html)[0]\n"
     ]
    },
    {
     "name": "stdout",
     "output_type": "stream",
     "text": [
      "Table found and converted to DataFrame for URL: https://www.estimize.com/LULU/fq4-2022?metric_name=eps&chart=historical\n"
     ]
    },
    {
     "name": "stderr",
     "output_type": "stream",
     "text": [
      "C:\\Users\\mhunt\\AppData\\Local\\Temp\\ipykernel_7800\\329258333.py:29: FutureWarning: Passing literal html to 'read_html' is deprecated and will be removed in a future version. To read from a literal string, wrap it in a 'StringIO' object.\n",
      "  df = pd.read_html(table_html)[0]\n"
     ]
    },
    {
     "name": "stdout",
     "output_type": "stream",
     "text": [
      "Table found and converted to DataFrame for URL: https://www.estimize.com/TGT/fq1-2020?metric_name=eps&chart=historical\n",
      "Link not found or unable to click for URL: https://www.estimize.com/TGT/fq2-2020?metric_name=eps&chart=historical\n",
      "Table found and converted to DataFrame for URL: https://www.estimize.com/TGT/fq2-2020?metric_name=eps&chart=historical\n"
     ]
    },
    {
     "name": "stderr",
     "output_type": "stream",
     "text": [
      "C:\\Users\\mhunt\\AppData\\Local\\Temp\\ipykernel_7800\\329258333.py:29: FutureWarning: Passing literal html to 'read_html' is deprecated and will be removed in a future version. To read from a literal string, wrap it in a 'StringIO' object.\n",
      "  df = pd.read_html(table_html)[0]\n"
     ]
    },
    {
     "name": "stdout",
     "output_type": "stream",
     "text": [
      "Link not found or unable to click for URL: https://www.estimize.com/TGT/fq3-2020?metric_name=eps&chart=historical\n",
      "Table found and converted to DataFrame for URL: https://www.estimize.com/TGT/fq3-2020?metric_name=eps&chart=historical\n"
     ]
    },
    {
     "name": "stderr",
     "output_type": "stream",
     "text": [
      "C:\\Users\\mhunt\\AppData\\Local\\Temp\\ipykernel_7800\\329258333.py:29: FutureWarning: Passing literal html to 'read_html' is deprecated and will be removed in a future version. To read from a literal string, wrap it in a 'StringIO' object.\n",
      "  df = pd.read_html(table_html)[0]\n",
      "C:\\Users\\mhunt\\AppData\\Local\\Temp\\ipykernel_7800\\329258333.py:29: FutureWarning: Passing literal html to 'read_html' is deprecated and will be removed in a future version. To read from a literal string, wrap it in a 'StringIO' object.\n",
      "  df = pd.read_html(table_html)[0]\n"
     ]
    },
    {
     "name": "stdout",
     "output_type": "stream",
     "text": [
      "Table found and converted to DataFrame for URL: https://www.estimize.com/TGT/fq4-2020?metric_name=eps&chart=historical\n",
      "Link not found or unable to click for URL: https://www.estimize.com/TGT/fq1-2021?metric_name=eps&chart=historical\n",
      "Table found and converted to DataFrame for URL: https://www.estimize.com/TGT/fq1-2021?metric_name=eps&chart=historical\n"
     ]
    },
    {
     "name": "stderr",
     "output_type": "stream",
     "text": [
      "C:\\Users\\mhunt\\AppData\\Local\\Temp\\ipykernel_7800\\329258333.py:29: FutureWarning: Passing literal html to 'read_html' is deprecated and will be removed in a future version. To read from a literal string, wrap it in a 'StringIO' object.\n",
      "  df = pd.read_html(table_html)[0]\n"
     ]
    },
    {
     "name": "stdout",
     "output_type": "stream",
     "text": [
      "Link not found or unable to click for URL: https://www.estimize.com/TGT/fq2-2021?metric_name=eps&chart=historical\n",
      "Table found and converted to DataFrame for URL: https://www.estimize.com/TGT/fq2-2021?metric_name=eps&chart=historical\n"
     ]
    },
    {
     "name": "stderr",
     "output_type": "stream",
     "text": [
      "C:\\Users\\mhunt\\AppData\\Local\\Temp\\ipykernel_7800\\329258333.py:29: FutureWarning: Passing literal html to 'read_html' is deprecated and will be removed in a future version. To read from a literal string, wrap it in a 'StringIO' object.\n",
      "  df = pd.read_html(table_html)[0]\n",
      "C:\\Users\\mhunt\\AppData\\Local\\Temp\\ipykernel_7800\\329258333.py:29: FutureWarning: Passing literal html to 'read_html' is deprecated and will be removed in a future version. To read from a literal string, wrap it in a 'StringIO' object.\n",
      "  df = pd.read_html(table_html)[0]\n"
     ]
    },
    {
     "name": "stdout",
     "output_type": "stream",
     "text": [
      "Table found and converted to DataFrame for URL: https://www.estimize.com/TGT/fq3-2021?metric_name=eps&chart=historical\n",
      "Link not found or unable to click for URL: https://www.estimize.com/TGT/fq4-2021?metric_name=eps&chart=historical\n",
      "Table found and converted to DataFrame for URL: https://www.estimize.com/TGT/fq4-2021?metric_name=eps&chart=historical\n"
     ]
    },
    {
     "name": "stderr",
     "output_type": "stream",
     "text": [
      "C:\\Users\\mhunt\\AppData\\Local\\Temp\\ipykernel_7800\\329258333.py:29: FutureWarning: Passing literal html to 'read_html' is deprecated and will be removed in a future version. To read from a literal string, wrap it in a 'StringIO' object.\n",
      "  df = pd.read_html(table_html)[0]\n"
     ]
    },
    {
     "name": "stdout",
     "output_type": "stream",
     "text": [
      "Link not found or unable to click for URL: https://www.estimize.com/TGT/fq1-2022?metric_name=eps&chart=historical\n",
      "Table found and converted to DataFrame for URL: https://www.estimize.com/TGT/fq1-2022?metric_name=eps&chart=historical\n"
     ]
    },
    {
     "name": "stderr",
     "output_type": "stream",
     "text": [
      "C:\\Users\\mhunt\\AppData\\Local\\Temp\\ipykernel_7800\\329258333.py:29: FutureWarning: Passing literal html to 'read_html' is deprecated and will be removed in a future version. To read from a literal string, wrap it in a 'StringIO' object.\n",
      "  df = pd.read_html(table_html)[0]\n"
     ]
    },
    {
     "name": "stdout",
     "output_type": "stream",
     "text": [
      "Link not found or unable to click for URL: https://www.estimize.com/TGT/fq2-2022?metric_name=eps&chart=historical\n",
      "Table found and converted to DataFrame for URL: https://www.estimize.com/TGT/fq2-2022?metric_name=eps&chart=historical\n"
     ]
    },
    {
     "name": "stderr",
     "output_type": "stream",
     "text": [
      "C:\\Users\\mhunt\\AppData\\Local\\Temp\\ipykernel_7800\\329258333.py:29: FutureWarning: Passing literal html to 'read_html' is deprecated and will be removed in a future version. To read from a literal string, wrap it in a 'StringIO' object.\n",
      "  df = pd.read_html(table_html)[0]\n"
     ]
    },
    {
     "name": "stdout",
     "output_type": "stream",
     "text": [
      "Link not found or unable to click for URL: https://www.estimize.com/TGT/fq3-2022?metric_name=eps&chart=historical\n",
      "Table found and converted to DataFrame for URL: https://www.estimize.com/TGT/fq3-2022?metric_name=eps&chart=historical\n"
     ]
    },
    {
     "name": "stderr",
     "output_type": "stream",
     "text": [
      "C:\\Users\\mhunt\\AppData\\Local\\Temp\\ipykernel_7800\\329258333.py:29: FutureWarning: Passing literal html to 'read_html' is deprecated and will be removed in a future version. To read from a literal string, wrap it in a 'StringIO' object.\n",
      "  df = pd.read_html(table_html)[0]\n"
     ]
    },
    {
     "name": "stdout",
     "output_type": "stream",
     "text": [
      "Link not found or unable to click for URL: https://www.estimize.com/TGT/fq4-2022?metric_name=eps&chart=historical\n"
     ]
    },
    {
     "name": "stderr",
     "output_type": "stream",
     "text": [
      "C:\\Users\\mhunt\\AppData\\Local\\Temp\\ipykernel_7800\\329258333.py:29: FutureWarning: Passing literal html to 'read_html' is deprecated and will be removed in a future version. To read from a literal string, wrap it in a 'StringIO' object.\n",
      "  df = pd.read_html(table_html)[0]\n"
     ]
    },
    {
     "name": "stdout",
     "output_type": "stream",
     "text": [
      "Table found and converted to DataFrame for URL: https://www.estimize.com/TGT/fq4-2022?metric_name=eps&chart=historical\n"
     ]
    },
    {
     "name": "stderr",
     "output_type": "stream",
     "text": [
      "C:\\Users\\mhunt\\AppData\\Local\\Temp\\ipykernel_7800\\329258333.py:29: FutureWarning: Passing literal html to 'read_html' is deprecated and will be removed in a future version. To read from a literal string, wrap it in a 'StringIO' object.\n",
      "  df = pd.read_html(table_html)[0]\n"
     ]
    },
    {
     "name": "stdout",
     "output_type": "stream",
     "text": [
      "Table found and converted to DataFrame for URL: https://www.estimize.com/PANW/fq1-2020?metric_name=eps&chart=historical\n"
     ]
    },
    {
     "name": "stderr",
     "output_type": "stream",
     "text": [
      "C:\\Users\\mhunt\\AppData\\Local\\Temp\\ipykernel_7800\\329258333.py:29: FutureWarning: Passing literal html to 'read_html' is deprecated and will be removed in a future version. To read from a literal string, wrap it in a 'StringIO' object.\n",
      "  df = pd.read_html(table_html)[0]\n"
     ]
    },
    {
     "name": "stdout",
     "output_type": "stream",
     "text": [
      "Table found and converted to DataFrame for URL: https://www.estimize.com/PANW/fq2-2020?metric_name=eps&chart=historical\n"
     ]
    },
    {
     "name": "stderr",
     "output_type": "stream",
     "text": [
      "C:\\Users\\mhunt\\AppData\\Local\\Temp\\ipykernel_7800\\329258333.py:29: FutureWarning: Passing literal html to 'read_html' is deprecated and will be removed in a future version. To read from a literal string, wrap it in a 'StringIO' object.\n",
      "  df = pd.read_html(table_html)[0]\n"
     ]
    },
    {
     "name": "stdout",
     "output_type": "stream",
     "text": [
      "Table found and converted to DataFrame for URL: https://www.estimize.com/PANW/fq3-2020?metric_name=eps&chart=historical\n"
     ]
    },
    {
     "name": "stderr",
     "output_type": "stream",
     "text": [
      "C:\\Users\\mhunt\\AppData\\Local\\Temp\\ipykernel_7800\\329258333.py:29: FutureWarning: Passing literal html to 'read_html' is deprecated and will be removed in a future version. To read from a literal string, wrap it in a 'StringIO' object.\n",
      "  df = pd.read_html(table_html)[0]\n"
     ]
    },
    {
     "name": "stdout",
     "output_type": "stream",
     "text": [
      "Table found and converted to DataFrame for URL: https://www.estimize.com/PANW/fq4-2020?metric_name=eps&chart=historical\n"
     ]
    },
    {
     "name": "stderr",
     "output_type": "stream",
     "text": [
      "C:\\Users\\mhunt\\AppData\\Local\\Temp\\ipykernel_7800\\329258333.py:29: FutureWarning: Passing literal html to 'read_html' is deprecated and will be removed in a future version. To read from a literal string, wrap it in a 'StringIO' object.\n",
      "  df = pd.read_html(table_html)[0]\n"
     ]
    },
    {
     "name": "stdout",
     "output_type": "stream",
     "text": [
      "Table found and converted to DataFrame for URL: https://www.estimize.com/PANW/fq1-2021?metric_name=eps&chart=historical\n"
     ]
    },
    {
     "name": "stderr",
     "output_type": "stream",
     "text": [
      "C:\\Users\\mhunt\\AppData\\Local\\Temp\\ipykernel_7800\\329258333.py:29: FutureWarning: Passing literal html to 'read_html' is deprecated and will be removed in a future version. To read from a literal string, wrap it in a 'StringIO' object.\n",
      "  df = pd.read_html(table_html)[0]\n"
     ]
    },
    {
     "name": "stdout",
     "output_type": "stream",
     "text": [
      "Table found and converted to DataFrame for URL: https://www.estimize.com/PANW/fq2-2021?metric_name=eps&chart=historical\n"
     ]
    },
    {
     "name": "stderr",
     "output_type": "stream",
     "text": [
      "C:\\Users\\mhunt\\AppData\\Local\\Temp\\ipykernel_7800\\329258333.py:29: FutureWarning: Passing literal html to 'read_html' is deprecated and will be removed in a future version. To read from a literal string, wrap it in a 'StringIO' object.\n",
      "  df = pd.read_html(table_html)[0]\n"
     ]
    },
    {
     "name": "stdout",
     "output_type": "stream",
     "text": [
      "Table found and converted to DataFrame for URL: https://www.estimize.com/PANW/fq3-2021?metric_name=eps&chart=historical\n"
     ]
    },
    {
     "name": "stderr",
     "output_type": "stream",
     "text": [
      "C:\\Users\\mhunt\\AppData\\Local\\Temp\\ipykernel_7800\\329258333.py:29: FutureWarning: Passing literal html to 'read_html' is deprecated and will be removed in a future version. To read from a literal string, wrap it in a 'StringIO' object.\n",
      "  df = pd.read_html(table_html)[0]\n"
     ]
    },
    {
     "name": "stdout",
     "output_type": "stream",
     "text": [
      "Table found and converted to DataFrame for URL: https://www.estimize.com/PANW/fq4-2021?metric_name=eps&chart=historical\n"
     ]
    },
    {
     "name": "stderr",
     "output_type": "stream",
     "text": [
      "C:\\Users\\mhunt\\AppData\\Local\\Temp\\ipykernel_7800\\329258333.py:29: FutureWarning: Passing literal html to 'read_html' is deprecated and will be removed in a future version. To read from a literal string, wrap it in a 'StringIO' object.\n",
      "  df = pd.read_html(table_html)[0]\n"
     ]
    },
    {
     "name": "stdout",
     "output_type": "stream",
     "text": [
      "Table found and converted to DataFrame for URL: https://www.estimize.com/PANW/fq1-2022?metric_name=eps&chart=historical\n"
     ]
    },
    {
     "name": "stderr",
     "output_type": "stream",
     "text": [
      "C:\\Users\\mhunt\\AppData\\Local\\Temp\\ipykernel_7800\\329258333.py:29: FutureWarning: Passing literal html to 'read_html' is deprecated and will be removed in a future version. To read from a literal string, wrap it in a 'StringIO' object.\n",
      "  df = pd.read_html(table_html)[0]\n"
     ]
    },
    {
     "name": "stdout",
     "output_type": "stream",
     "text": [
      "Table found and converted to DataFrame for URL: https://www.estimize.com/PANW/fq2-2022?metric_name=eps&chart=historical\n"
     ]
    },
    {
     "name": "stderr",
     "output_type": "stream",
     "text": [
      "C:\\Users\\mhunt\\AppData\\Local\\Temp\\ipykernel_7800\\329258333.py:29: FutureWarning: Passing literal html to 'read_html' is deprecated and will be removed in a future version. To read from a literal string, wrap it in a 'StringIO' object.\n",
      "  df = pd.read_html(table_html)[0]\n"
     ]
    },
    {
     "name": "stdout",
     "output_type": "stream",
     "text": [
      "Table found and converted to DataFrame for URL: https://www.estimize.com/PANW/fq3-2022?metric_name=eps&chart=historical\n"
     ]
    },
    {
     "name": "stderr",
     "output_type": "stream",
     "text": [
      "C:\\Users\\mhunt\\AppData\\Local\\Temp\\ipykernel_7800\\329258333.py:29: FutureWarning: Passing literal html to 'read_html' is deprecated and will be removed in a future version. To read from a literal string, wrap it in a 'StringIO' object.\n",
      "  df = pd.read_html(table_html)[0]\n"
     ]
    },
    {
     "name": "stdout",
     "output_type": "stream",
     "text": [
      "Table found and converted to DataFrame for URL: https://www.estimize.com/PANW/fq4-2022?metric_name=eps&chart=historical\n"
     ]
    },
    {
     "name": "stderr",
     "output_type": "stream",
     "text": [
      "C:\\Users\\mhunt\\AppData\\Local\\Temp\\ipykernel_7800\\329258333.py:29: FutureWarning: Passing literal html to 'read_html' is deprecated and will be removed in a future version. To read from a literal string, wrap it in a 'StringIO' object.\n",
      "  df = pd.read_html(table_html)[0]\n"
     ]
    },
    {
     "name": "stdout",
     "output_type": "stream",
     "text": [
      "Table found and converted to DataFrame for URL: https://www.estimize.com/ADBE/fq1-2020?metric_name=eps&chart=historical\n"
     ]
    },
    {
     "name": "stderr",
     "output_type": "stream",
     "text": [
      "C:\\Users\\mhunt\\AppData\\Local\\Temp\\ipykernel_7800\\329258333.py:29: FutureWarning: Passing literal html to 'read_html' is deprecated and will be removed in a future version. To read from a literal string, wrap it in a 'StringIO' object.\n",
      "  df = pd.read_html(table_html)[0]\n"
     ]
    },
    {
     "name": "stdout",
     "output_type": "stream",
     "text": [
      "Table found and converted to DataFrame for URL: https://www.estimize.com/ADBE/fq2-2020?metric_name=eps&chart=historical\n"
     ]
    },
    {
     "name": "stderr",
     "output_type": "stream",
     "text": [
      "C:\\Users\\mhunt\\AppData\\Local\\Temp\\ipykernel_7800\\329258333.py:29: FutureWarning: Passing literal html to 'read_html' is deprecated and will be removed in a future version. To read from a literal string, wrap it in a 'StringIO' object.\n",
      "  df = pd.read_html(table_html)[0]\n"
     ]
    },
    {
     "name": "stdout",
     "output_type": "stream",
     "text": [
      "Table found and converted to DataFrame for URL: https://www.estimize.com/ADBE/fq3-2020?metric_name=eps&chart=historical\n"
     ]
    },
    {
     "name": "stderr",
     "output_type": "stream",
     "text": [
      "C:\\Users\\mhunt\\AppData\\Local\\Temp\\ipykernel_7800\\329258333.py:29: FutureWarning: Passing literal html to 'read_html' is deprecated and will be removed in a future version. To read from a literal string, wrap it in a 'StringIO' object.\n",
      "  df = pd.read_html(table_html)[0]\n"
     ]
    },
    {
     "name": "stdout",
     "output_type": "stream",
     "text": [
      "Table found and converted to DataFrame for URL: https://www.estimize.com/ADBE/fq4-2020?metric_name=eps&chart=historical\n"
     ]
    },
    {
     "name": "stderr",
     "output_type": "stream",
     "text": [
      "C:\\Users\\mhunt\\AppData\\Local\\Temp\\ipykernel_7800\\329258333.py:29: FutureWarning: Passing literal html to 'read_html' is deprecated and will be removed in a future version. To read from a literal string, wrap it in a 'StringIO' object.\n",
      "  df = pd.read_html(table_html)[0]\n"
     ]
    },
    {
     "name": "stdout",
     "output_type": "stream",
     "text": [
      "Table found and converted to DataFrame for URL: https://www.estimize.com/ADBE/fq1-2021?metric_name=eps&chart=historical\n"
     ]
    },
    {
     "name": "stderr",
     "output_type": "stream",
     "text": [
      "C:\\Users\\mhunt\\AppData\\Local\\Temp\\ipykernel_7800\\329258333.py:29: FutureWarning: Passing literal html to 'read_html' is deprecated and will be removed in a future version. To read from a literal string, wrap it in a 'StringIO' object.\n",
      "  df = pd.read_html(table_html)[0]\n"
     ]
    },
    {
     "name": "stdout",
     "output_type": "stream",
     "text": [
      "Table found and converted to DataFrame for URL: https://www.estimize.com/ADBE/fq2-2021?metric_name=eps&chart=historical\n"
     ]
    },
    {
     "name": "stderr",
     "output_type": "stream",
     "text": [
      "C:\\Users\\mhunt\\AppData\\Local\\Temp\\ipykernel_7800\\329258333.py:29: FutureWarning: Passing literal html to 'read_html' is deprecated and will be removed in a future version. To read from a literal string, wrap it in a 'StringIO' object.\n",
      "  df = pd.read_html(table_html)[0]\n"
     ]
    },
    {
     "name": "stdout",
     "output_type": "stream",
     "text": [
      "Table found and converted to DataFrame for URL: https://www.estimize.com/ADBE/fq3-2021?metric_name=eps&chart=historical\n"
     ]
    },
    {
     "name": "stderr",
     "output_type": "stream",
     "text": [
      "C:\\Users\\mhunt\\AppData\\Local\\Temp\\ipykernel_7800\\329258333.py:29: FutureWarning: Passing literal html to 'read_html' is deprecated and will be removed in a future version. To read from a literal string, wrap it in a 'StringIO' object.\n",
      "  df = pd.read_html(table_html)[0]\n"
     ]
    },
    {
     "name": "stdout",
     "output_type": "stream",
     "text": [
      "Table found and converted to DataFrame for URL: https://www.estimize.com/ADBE/fq4-2021?metric_name=eps&chart=historical\n"
     ]
    },
    {
     "name": "stderr",
     "output_type": "stream",
     "text": [
      "C:\\Users\\mhunt\\AppData\\Local\\Temp\\ipykernel_7800\\329258333.py:29: FutureWarning: Passing literal html to 'read_html' is deprecated and will be removed in a future version. To read from a literal string, wrap it in a 'StringIO' object.\n",
      "  df = pd.read_html(table_html)[0]\n"
     ]
    },
    {
     "name": "stdout",
     "output_type": "stream",
     "text": [
      "Table found and converted to DataFrame for URL: https://www.estimize.com/ADBE/fq1-2022?metric_name=eps&chart=historical\n"
     ]
    },
    {
     "name": "stderr",
     "output_type": "stream",
     "text": [
      "C:\\Users\\mhunt\\AppData\\Local\\Temp\\ipykernel_7800\\329258333.py:29: FutureWarning: Passing literal html to 'read_html' is deprecated and will be removed in a future version. To read from a literal string, wrap it in a 'StringIO' object.\n",
      "  df = pd.read_html(table_html)[0]\n"
     ]
    },
    {
     "name": "stdout",
     "output_type": "stream",
     "text": [
      "Table found and converted to DataFrame for URL: https://www.estimize.com/ADBE/fq2-2022?metric_name=eps&chart=historical\n"
     ]
    },
    {
     "name": "stderr",
     "output_type": "stream",
     "text": [
      "C:\\Users\\mhunt\\AppData\\Local\\Temp\\ipykernel_7800\\329258333.py:29: FutureWarning: Passing literal html to 'read_html' is deprecated and will be removed in a future version. To read from a literal string, wrap it in a 'StringIO' object.\n",
      "  df = pd.read_html(table_html)[0]\n"
     ]
    },
    {
     "name": "stdout",
     "output_type": "stream",
     "text": [
      "Table found and converted to DataFrame for URL: https://www.estimize.com/ADBE/fq3-2022?metric_name=eps&chart=historical\n"
     ]
    },
    {
     "name": "stderr",
     "output_type": "stream",
     "text": [
      "C:\\Users\\mhunt\\AppData\\Local\\Temp\\ipykernel_7800\\329258333.py:29: FutureWarning: Passing literal html to 'read_html' is deprecated and will be removed in a future version. To read from a literal string, wrap it in a 'StringIO' object.\n",
      "  df = pd.read_html(table_html)[0]\n"
     ]
    },
    {
     "name": "stdout",
     "output_type": "stream",
     "text": [
      "Table found and converted to DataFrame for URL: https://www.estimize.com/ADBE/fq4-2022?metric_name=eps&chart=historical\n"
     ]
    },
    {
     "name": "stderr",
     "output_type": "stream",
     "text": [
      "C:\\Users\\mhunt\\AppData\\Local\\Temp\\ipykernel_7800\\329258333.py:29: FutureWarning: Passing literal html to 'read_html' is deprecated and will be removed in a future version. To read from a literal string, wrap it in a 'StringIO' object.\n",
      "  df = pd.read_html(table_html)[0]\n"
     ]
    },
    {
     "name": "stdout",
     "output_type": "stream",
     "text": [
      "Table found and converted to DataFrame for URL: https://www.estimize.com/VMW/fq1-2020?metric_name=eps&chart=historical\n"
     ]
    },
    {
     "name": "stderr",
     "output_type": "stream",
     "text": [
      "C:\\Users\\mhunt\\AppData\\Local\\Temp\\ipykernel_7800\\329258333.py:29: FutureWarning: Passing literal html to 'read_html' is deprecated and will be removed in a future version. To read from a literal string, wrap it in a 'StringIO' object.\n",
      "  df = pd.read_html(table_html)[0]\n"
     ]
    },
    {
     "name": "stdout",
     "output_type": "stream",
     "text": [
      "Table found and converted to DataFrame for URL: https://www.estimize.com/VMW/fq2-2020?metric_name=eps&chart=historical\n"
     ]
    },
    {
     "name": "stderr",
     "output_type": "stream",
     "text": [
      "C:\\Users\\mhunt\\AppData\\Local\\Temp\\ipykernel_7800\\329258333.py:29: FutureWarning: Passing literal html to 'read_html' is deprecated and will be removed in a future version. To read from a literal string, wrap it in a 'StringIO' object.\n",
      "  df = pd.read_html(table_html)[0]\n"
     ]
    },
    {
     "name": "stdout",
     "output_type": "stream",
     "text": [
      "Table found and converted to DataFrame for URL: https://www.estimize.com/VMW/fq3-2020?metric_name=eps&chart=historical\n"
     ]
    },
    {
     "name": "stderr",
     "output_type": "stream",
     "text": [
      "C:\\Users\\mhunt\\AppData\\Local\\Temp\\ipykernel_7800\\329258333.py:29: FutureWarning: Passing literal html to 'read_html' is deprecated and will be removed in a future version. To read from a literal string, wrap it in a 'StringIO' object.\n",
      "  df = pd.read_html(table_html)[0]\n"
     ]
    },
    {
     "name": "stdout",
     "output_type": "stream",
     "text": [
      "Table found and converted to DataFrame for URL: https://www.estimize.com/VMW/fq4-2020?metric_name=eps&chart=historical\n"
     ]
    },
    {
     "name": "stderr",
     "output_type": "stream",
     "text": [
      "C:\\Users\\mhunt\\AppData\\Local\\Temp\\ipykernel_7800\\329258333.py:29: FutureWarning: Passing literal html to 'read_html' is deprecated and will be removed in a future version. To read from a literal string, wrap it in a 'StringIO' object.\n",
      "  df = pd.read_html(table_html)[0]\n"
     ]
    },
    {
     "name": "stdout",
     "output_type": "stream",
     "text": [
      "Table found and converted to DataFrame for URL: https://www.estimize.com/VMW/fq1-2021?metric_name=eps&chart=historical\n"
     ]
    },
    {
     "name": "stderr",
     "output_type": "stream",
     "text": [
      "C:\\Users\\mhunt\\AppData\\Local\\Temp\\ipykernel_7800\\329258333.py:29: FutureWarning: Passing literal html to 'read_html' is deprecated and will be removed in a future version. To read from a literal string, wrap it in a 'StringIO' object.\n",
      "  df = pd.read_html(table_html)[0]\n"
     ]
    },
    {
     "name": "stdout",
     "output_type": "stream",
     "text": [
      "Table found and converted to DataFrame for URL: https://www.estimize.com/VMW/fq2-2021?metric_name=eps&chart=historical\n"
     ]
    },
    {
     "name": "stderr",
     "output_type": "stream",
     "text": [
      "C:\\Users\\mhunt\\AppData\\Local\\Temp\\ipykernel_7800\\329258333.py:29: FutureWarning: Passing literal html to 'read_html' is deprecated and will be removed in a future version. To read from a literal string, wrap it in a 'StringIO' object.\n",
      "  df = pd.read_html(table_html)[0]\n"
     ]
    },
    {
     "name": "stdout",
     "output_type": "stream",
     "text": [
      "Table found and converted to DataFrame for URL: https://www.estimize.com/VMW/fq3-2021?metric_name=eps&chart=historical\n",
      "Link not found or unable to click for URL: https://www.estimize.com/VMW/fq4-2021?metric_name=eps&chart=historical\n",
      "Table found and converted to DataFrame for URL: https://www.estimize.com/VMW/fq4-2021?metric_name=eps&chart=historical\n"
     ]
    },
    {
     "name": "stderr",
     "output_type": "stream",
     "text": [
      "C:\\Users\\mhunt\\AppData\\Local\\Temp\\ipykernel_7800\\329258333.py:29: FutureWarning: Passing literal html to 'read_html' is deprecated and will be removed in a future version. To read from a literal string, wrap it in a 'StringIO' object.\n",
      "  df = pd.read_html(table_html)[0]\n",
      "C:\\Users\\mhunt\\AppData\\Local\\Temp\\ipykernel_7800\\329258333.py:29: FutureWarning: Passing literal html to 'read_html' is deprecated and will be removed in a future version. To read from a literal string, wrap it in a 'StringIO' object.\n",
      "  df = pd.read_html(table_html)[0]\n"
     ]
    },
    {
     "name": "stdout",
     "output_type": "stream",
     "text": [
      "Table found and converted to DataFrame for URL: https://www.estimize.com/VMW/fq1-2022?metric_name=eps&chart=historical\n",
      "Link not found or unable to click for URL: https://www.estimize.com/VMW/fq2-2022?metric_name=eps&chart=historical\n",
      "Table found and converted to DataFrame for URL: https://www.estimize.com/VMW/fq2-2022?metric_name=eps&chart=historical\n"
     ]
    },
    {
     "name": "stderr",
     "output_type": "stream",
     "text": [
      "C:\\Users\\mhunt\\AppData\\Local\\Temp\\ipykernel_7800\\329258333.py:29: FutureWarning: Passing literal html to 'read_html' is deprecated and will be removed in a future version. To read from a literal string, wrap it in a 'StringIO' object.\n",
      "  df = pd.read_html(table_html)[0]\n",
      "C:\\Users\\mhunt\\AppData\\Local\\Temp\\ipykernel_7800\\329258333.py:29: FutureWarning: Passing literal html to 'read_html' is deprecated and will be removed in a future version. To read from a literal string, wrap it in a 'StringIO' object.\n",
      "  df = pd.read_html(table_html)[0]\n"
     ]
    },
    {
     "name": "stdout",
     "output_type": "stream",
     "text": [
      "Table found and converted to DataFrame for URL: https://www.estimize.com/VMW/fq3-2022?metric_name=eps&chart=historical\n",
      "Link not found or unable to click for URL: https://www.estimize.com/VMW/fq4-2022?metric_name=eps&chart=historical\n",
      "Table found and converted to DataFrame for URL: https://www.estimize.com/VMW/fq4-2022?metric_name=eps&chart=historical\n"
     ]
    },
    {
     "name": "stderr",
     "output_type": "stream",
     "text": [
      "C:\\Users\\mhunt\\AppData\\Local\\Temp\\ipykernel_7800\\329258333.py:29: FutureWarning: Passing literal html to 'read_html' is deprecated and will be removed in a future version. To read from a literal string, wrap it in a 'StringIO' object.\n",
      "  df = pd.read_html(table_html)[0]\n",
      "C:\\Users\\mhunt\\AppData\\Local\\Temp\\ipykernel_7800\\329258333.py:29: FutureWarning: Passing literal html to 'read_html' is deprecated and will be removed in a future version. To read from a literal string, wrap it in a 'StringIO' object.\n",
      "  df = pd.read_html(table_html)[0]\n"
     ]
    },
    {
     "name": "stdout",
     "output_type": "stream",
     "text": [
      "Table found and converted to DataFrame for URL: https://www.estimize.com/MU/fq1-2020?metric_name=eps&chart=historical\n"
     ]
    },
    {
     "name": "stderr",
     "output_type": "stream",
     "text": [
      "C:\\Users\\mhunt\\AppData\\Local\\Temp\\ipykernel_7800\\329258333.py:29: FutureWarning: Passing literal html to 'read_html' is deprecated and will be removed in a future version. To read from a literal string, wrap it in a 'StringIO' object.\n",
      "  df = pd.read_html(table_html)[0]\n"
     ]
    },
    {
     "name": "stdout",
     "output_type": "stream",
     "text": [
      "Table found and converted to DataFrame for URL: https://www.estimize.com/MU/fq2-2020?metric_name=eps&chart=historical\n"
     ]
    },
    {
     "name": "stderr",
     "output_type": "stream",
     "text": [
      "C:\\Users\\mhunt\\AppData\\Local\\Temp\\ipykernel_7800\\329258333.py:29: FutureWarning: Passing literal html to 'read_html' is deprecated and will be removed in a future version. To read from a literal string, wrap it in a 'StringIO' object.\n",
      "  df = pd.read_html(table_html)[0]\n"
     ]
    },
    {
     "name": "stdout",
     "output_type": "stream",
     "text": [
      "Table found and converted to DataFrame for URL: https://www.estimize.com/MU/fq3-2020?metric_name=eps&chart=historical\n"
     ]
    },
    {
     "name": "stderr",
     "output_type": "stream",
     "text": [
      "C:\\Users\\mhunt\\AppData\\Local\\Temp\\ipykernel_7800\\329258333.py:29: FutureWarning: Passing literal html to 'read_html' is deprecated and will be removed in a future version. To read from a literal string, wrap it in a 'StringIO' object.\n",
      "  df = pd.read_html(table_html)[0]\n"
     ]
    },
    {
     "name": "stdout",
     "output_type": "stream",
     "text": [
      "Table found and converted to DataFrame for URL: https://www.estimize.com/MU/fq4-2020?metric_name=eps&chart=historical\n"
     ]
    },
    {
     "name": "stderr",
     "output_type": "stream",
     "text": [
      "C:\\Users\\mhunt\\AppData\\Local\\Temp\\ipykernel_7800\\329258333.py:29: FutureWarning: Passing literal html to 'read_html' is deprecated and will be removed in a future version. To read from a literal string, wrap it in a 'StringIO' object.\n",
      "  df = pd.read_html(table_html)[0]\n"
     ]
    },
    {
     "name": "stdout",
     "output_type": "stream",
     "text": [
      "Table found and converted to DataFrame for URL: https://www.estimize.com/MU/fq1-2021?metric_name=eps&chart=historical\n"
     ]
    },
    {
     "name": "stderr",
     "output_type": "stream",
     "text": [
      "C:\\Users\\mhunt\\AppData\\Local\\Temp\\ipykernel_7800\\329258333.py:29: FutureWarning: Passing literal html to 'read_html' is deprecated and will be removed in a future version. To read from a literal string, wrap it in a 'StringIO' object.\n",
      "  df = pd.read_html(table_html)[0]\n"
     ]
    },
    {
     "name": "stdout",
     "output_type": "stream",
     "text": [
      "Table found and converted to DataFrame for URL: https://www.estimize.com/MU/fq2-2021?metric_name=eps&chart=historical\n"
     ]
    },
    {
     "name": "stderr",
     "output_type": "stream",
     "text": [
      "C:\\Users\\mhunt\\AppData\\Local\\Temp\\ipykernel_7800\\329258333.py:29: FutureWarning: Passing literal html to 'read_html' is deprecated and will be removed in a future version. To read from a literal string, wrap it in a 'StringIO' object.\n",
      "  df = pd.read_html(table_html)[0]\n"
     ]
    },
    {
     "name": "stdout",
     "output_type": "stream",
     "text": [
      "Table found and converted to DataFrame for URL: https://www.estimize.com/MU/fq3-2021?metric_name=eps&chart=historical\n"
     ]
    },
    {
     "name": "stderr",
     "output_type": "stream",
     "text": [
      "C:\\Users\\mhunt\\AppData\\Local\\Temp\\ipykernel_7800\\329258333.py:29: FutureWarning: Passing literal html to 'read_html' is deprecated and will be removed in a future version. To read from a literal string, wrap it in a 'StringIO' object.\n",
      "  df = pd.read_html(table_html)[0]\n"
     ]
    },
    {
     "name": "stdout",
     "output_type": "stream",
     "text": [
      "Table found and converted to DataFrame for URL: https://www.estimize.com/MU/fq4-2021?metric_name=eps&chart=historical\n"
     ]
    },
    {
     "name": "stderr",
     "output_type": "stream",
     "text": [
      "C:\\Users\\mhunt\\AppData\\Local\\Temp\\ipykernel_7800\\329258333.py:29: FutureWarning: Passing literal html to 'read_html' is deprecated and will be removed in a future version. To read from a literal string, wrap it in a 'StringIO' object.\n",
      "  df = pd.read_html(table_html)[0]\n"
     ]
    },
    {
     "name": "stdout",
     "output_type": "stream",
     "text": [
      "Table found and converted to DataFrame for URL: https://www.estimize.com/MU/fq1-2022?metric_name=eps&chart=historical\n"
     ]
    },
    {
     "name": "stderr",
     "output_type": "stream",
     "text": [
      "C:\\Users\\mhunt\\AppData\\Local\\Temp\\ipykernel_7800\\329258333.py:29: FutureWarning: Passing literal html to 'read_html' is deprecated and will be removed in a future version. To read from a literal string, wrap it in a 'StringIO' object.\n",
      "  df = pd.read_html(table_html)[0]\n"
     ]
    },
    {
     "name": "stdout",
     "output_type": "stream",
     "text": [
      "Table found and converted to DataFrame for URL: https://www.estimize.com/MU/fq2-2022?metric_name=eps&chart=historical\n"
     ]
    },
    {
     "name": "stderr",
     "output_type": "stream",
     "text": [
      "C:\\Users\\mhunt\\AppData\\Local\\Temp\\ipykernel_7800\\329258333.py:29: FutureWarning: Passing literal html to 'read_html' is deprecated and will be removed in a future version. To read from a literal string, wrap it in a 'StringIO' object.\n",
      "  df = pd.read_html(table_html)[0]\n"
     ]
    },
    {
     "name": "stdout",
     "output_type": "stream",
     "text": [
      "Table found and converted to DataFrame for URL: https://www.estimize.com/MU/fq3-2022?metric_name=eps&chart=historical\n"
     ]
    },
    {
     "name": "stderr",
     "output_type": "stream",
     "text": [
      "C:\\Users\\mhunt\\AppData\\Local\\Temp\\ipykernel_7800\\329258333.py:29: FutureWarning: Passing literal html to 'read_html' is deprecated and will be removed in a future version. To read from a literal string, wrap it in a 'StringIO' object.\n",
      "  df = pd.read_html(table_html)[0]\n"
     ]
    },
    {
     "name": "stdout",
     "output_type": "stream",
     "text": [
      "Table found and converted to DataFrame for URL: https://www.estimize.com/MU/fq4-2022?metric_name=eps&chart=historical\n"
     ]
    },
    {
     "name": "stderr",
     "output_type": "stream",
     "text": [
      "C:\\Users\\mhunt\\AppData\\Local\\Temp\\ipykernel_7800\\329258333.py:29: FutureWarning: Passing literal html to 'read_html' is deprecated and will be removed in a future version. To read from a literal string, wrap it in a 'StringIO' object.\n",
      "  df = pd.read_html(table_html)[0]\n"
     ]
    },
    {
     "name": "stdout",
     "output_type": "stream",
     "text": [
      "Table found and converted to DataFrame for URL: https://www.estimize.com/NKE/fq1-2020?metric_name=eps&chart=historical\n"
     ]
    },
    {
     "name": "stderr",
     "output_type": "stream",
     "text": [
      "C:\\Users\\mhunt\\AppData\\Local\\Temp\\ipykernel_7800\\329258333.py:29: FutureWarning: Passing literal html to 'read_html' is deprecated and will be removed in a future version. To read from a literal string, wrap it in a 'StringIO' object.\n",
      "  df = pd.read_html(table_html)[0]\n"
     ]
    },
    {
     "name": "stdout",
     "output_type": "stream",
     "text": [
      "Table found and converted to DataFrame for URL: https://www.estimize.com/NKE/fq2-2020?metric_name=eps&chart=historical\n"
     ]
    },
    {
     "name": "stderr",
     "output_type": "stream",
     "text": [
      "C:\\Users\\mhunt\\AppData\\Local\\Temp\\ipykernel_7800\\329258333.py:29: FutureWarning: Passing literal html to 'read_html' is deprecated and will be removed in a future version. To read from a literal string, wrap it in a 'StringIO' object.\n",
      "  df = pd.read_html(table_html)[0]\n"
     ]
    },
    {
     "name": "stdout",
     "output_type": "stream",
     "text": [
      "Table found and converted to DataFrame for URL: https://www.estimize.com/NKE/fq3-2020?metric_name=eps&chart=historical\n"
     ]
    },
    {
     "name": "stderr",
     "output_type": "stream",
     "text": [
      "C:\\Users\\mhunt\\AppData\\Local\\Temp\\ipykernel_7800\\329258333.py:29: FutureWarning: Passing literal html to 'read_html' is deprecated and will be removed in a future version. To read from a literal string, wrap it in a 'StringIO' object.\n",
      "  df = pd.read_html(table_html)[0]\n"
     ]
    },
    {
     "name": "stdout",
     "output_type": "stream",
     "text": [
      "Table found and converted to DataFrame for URL: https://www.estimize.com/NKE/fq4-2020?metric_name=eps&chart=historical\n"
     ]
    },
    {
     "name": "stderr",
     "output_type": "stream",
     "text": [
      "C:\\Users\\mhunt\\AppData\\Local\\Temp\\ipykernel_7800\\329258333.py:29: FutureWarning: Passing literal html to 'read_html' is deprecated and will be removed in a future version. To read from a literal string, wrap it in a 'StringIO' object.\n",
      "  df = pd.read_html(table_html)[0]\n"
     ]
    },
    {
     "name": "stdout",
     "output_type": "stream",
     "text": [
      "Table found and converted to DataFrame for URL: https://www.estimize.com/NKE/fq1-2021?metric_name=eps&chart=historical\n"
     ]
    },
    {
     "name": "stderr",
     "output_type": "stream",
     "text": [
      "C:\\Users\\mhunt\\AppData\\Local\\Temp\\ipykernel_7800\\329258333.py:29: FutureWarning: Passing literal html to 'read_html' is deprecated and will be removed in a future version. To read from a literal string, wrap it in a 'StringIO' object.\n",
      "  df = pd.read_html(table_html)[0]\n"
     ]
    },
    {
     "name": "stdout",
     "output_type": "stream",
     "text": [
      "Table found and converted to DataFrame for URL: https://www.estimize.com/NKE/fq2-2021?metric_name=eps&chart=historical\n"
     ]
    },
    {
     "name": "stderr",
     "output_type": "stream",
     "text": [
      "C:\\Users\\mhunt\\AppData\\Local\\Temp\\ipykernel_7800\\329258333.py:29: FutureWarning: Passing literal html to 'read_html' is deprecated and will be removed in a future version. To read from a literal string, wrap it in a 'StringIO' object.\n",
      "  df = pd.read_html(table_html)[0]\n"
     ]
    },
    {
     "name": "stdout",
     "output_type": "stream",
     "text": [
      "Table found and converted to DataFrame for URL: https://www.estimize.com/NKE/fq3-2021?metric_name=eps&chart=historical\n"
     ]
    },
    {
     "name": "stderr",
     "output_type": "stream",
     "text": [
      "C:\\Users\\mhunt\\AppData\\Local\\Temp\\ipykernel_7800\\329258333.py:29: FutureWarning: Passing literal html to 'read_html' is deprecated and will be removed in a future version. To read from a literal string, wrap it in a 'StringIO' object.\n",
      "  df = pd.read_html(table_html)[0]\n"
     ]
    },
    {
     "name": "stdout",
     "output_type": "stream",
     "text": [
      "Table found and converted to DataFrame for URL: https://www.estimize.com/NKE/fq4-2021?metric_name=eps&chart=historical\n"
     ]
    },
    {
     "name": "stderr",
     "output_type": "stream",
     "text": [
      "C:\\Users\\mhunt\\AppData\\Local\\Temp\\ipykernel_7800\\329258333.py:29: FutureWarning: Passing literal html to 'read_html' is deprecated and will be removed in a future version. To read from a literal string, wrap it in a 'StringIO' object.\n",
      "  df = pd.read_html(table_html)[0]\n"
     ]
    },
    {
     "name": "stdout",
     "output_type": "stream",
     "text": [
      "Table found and converted to DataFrame for URL: https://www.estimize.com/NKE/fq1-2022?metric_name=eps&chart=historical\n"
     ]
    },
    {
     "name": "stderr",
     "output_type": "stream",
     "text": [
      "C:\\Users\\mhunt\\AppData\\Local\\Temp\\ipykernel_7800\\329258333.py:29: FutureWarning: Passing literal html to 'read_html' is deprecated and will be removed in a future version. To read from a literal string, wrap it in a 'StringIO' object.\n",
      "  df = pd.read_html(table_html)[0]\n"
     ]
    },
    {
     "name": "stdout",
     "output_type": "stream",
     "text": [
      "Table found and converted to DataFrame for URL: https://www.estimize.com/NKE/fq2-2022?metric_name=eps&chart=historical\n"
     ]
    },
    {
     "name": "stderr",
     "output_type": "stream",
     "text": [
      "C:\\Users\\mhunt\\AppData\\Local\\Temp\\ipykernel_7800\\329258333.py:29: FutureWarning: Passing literal html to 'read_html' is deprecated and will be removed in a future version. To read from a literal string, wrap it in a 'StringIO' object.\n",
      "  df = pd.read_html(table_html)[0]\n"
     ]
    },
    {
     "name": "stdout",
     "output_type": "stream",
     "text": [
      "Table found and converted to DataFrame for URL: https://www.estimize.com/NKE/fq3-2022?metric_name=eps&chart=historical\n"
     ]
    },
    {
     "name": "stderr",
     "output_type": "stream",
     "text": [
      "C:\\Users\\mhunt\\AppData\\Local\\Temp\\ipykernel_7800\\329258333.py:29: FutureWarning: Passing literal html to 'read_html' is deprecated and will be removed in a future version. To read from a literal string, wrap it in a 'StringIO' object.\n",
      "  df = pd.read_html(table_html)[0]\n"
     ]
    },
    {
     "name": "stdout",
     "output_type": "stream",
     "text": [
      "Table found and converted to DataFrame for URL: https://www.estimize.com/NKE/fq4-2022?metric_name=eps&chart=historical\n"
     ]
    },
    {
     "name": "stderr",
     "output_type": "stream",
     "text": [
      "C:\\Users\\mhunt\\AppData\\Local\\Temp\\ipykernel_7800\\329258333.py:29: FutureWarning: Passing literal html to 'read_html' is deprecated and will be removed in a future version. To read from a literal string, wrap it in a 'StringIO' object.\n",
      "  df = pd.read_html(table_html)[0]\n"
     ]
    },
    {
     "name": "stdout",
     "output_type": "stream",
     "text": [
      "Table found and converted to DataFrame for URL: https://www.estimize.com/ORCL/fq1-2020?metric_name=eps&chart=historical\n"
     ]
    },
    {
     "name": "stderr",
     "output_type": "stream",
     "text": [
      "C:\\Users\\mhunt\\AppData\\Local\\Temp\\ipykernel_7800\\329258333.py:29: FutureWarning: Passing literal html to 'read_html' is deprecated and will be removed in a future version. To read from a literal string, wrap it in a 'StringIO' object.\n",
      "  df = pd.read_html(table_html)[0]\n"
     ]
    },
    {
     "name": "stdout",
     "output_type": "stream",
     "text": [
      "Table found and converted to DataFrame for URL: https://www.estimize.com/ORCL/fq2-2020?metric_name=eps&chart=historical\n"
     ]
    },
    {
     "name": "stderr",
     "output_type": "stream",
     "text": [
      "C:\\Users\\mhunt\\AppData\\Local\\Temp\\ipykernel_7800\\329258333.py:29: FutureWarning: Passing literal html to 'read_html' is deprecated and will be removed in a future version. To read from a literal string, wrap it in a 'StringIO' object.\n",
      "  df = pd.read_html(table_html)[0]\n"
     ]
    },
    {
     "name": "stdout",
     "output_type": "stream",
     "text": [
      "Table found and converted to DataFrame for URL: https://www.estimize.com/ORCL/fq3-2020?metric_name=eps&chart=historical\n"
     ]
    },
    {
     "name": "stderr",
     "output_type": "stream",
     "text": [
      "C:\\Users\\mhunt\\AppData\\Local\\Temp\\ipykernel_7800\\329258333.py:29: FutureWarning: Passing literal html to 'read_html' is deprecated and will be removed in a future version. To read from a literal string, wrap it in a 'StringIO' object.\n",
      "  df = pd.read_html(table_html)[0]\n"
     ]
    },
    {
     "name": "stdout",
     "output_type": "stream",
     "text": [
      "Table found and converted to DataFrame for URL: https://www.estimize.com/ORCL/fq4-2020?metric_name=eps&chart=historical\n"
     ]
    },
    {
     "name": "stderr",
     "output_type": "stream",
     "text": [
      "C:\\Users\\mhunt\\AppData\\Local\\Temp\\ipykernel_7800\\329258333.py:29: FutureWarning: Passing literal html to 'read_html' is deprecated and will be removed in a future version. To read from a literal string, wrap it in a 'StringIO' object.\n",
      "  df = pd.read_html(table_html)[0]\n"
     ]
    },
    {
     "name": "stdout",
     "output_type": "stream",
     "text": [
      "Table found and converted to DataFrame for URL: https://www.estimize.com/ORCL/fq1-2021?metric_name=eps&chart=historical\n"
     ]
    },
    {
     "name": "stderr",
     "output_type": "stream",
     "text": [
      "C:\\Users\\mhunt\\AppData\\Local\\Temp\\ipykernel_7800\\329258333.py:29: FutureWarning: Passing literal html to 'read_html' is deprecated and will be removed in a future version. To read from a literal string, wrap it in a 'StringIO' object.\n",
      "  df = pd.read_html(table_html)[0]\n"
     ]
    },
    {
     "name": "stdout",
     "output_type": "stream",
     "text": [
      "Table found and converted to DataFrame for URL: https://www.estimize.com/ORCL/fq2-2021?metric_name=eps&chart=historical\n"
     ]
    },
    {
     "name": "stderr",
     "output_type": "stream",
     "text": [
      "C:\\Users\\mhunt\\AppData\\Local\\Temp\\ipykernel_7800\\329258333.py:29: FutureWarning: Passing literal html to 'read_html' is deprecated and will be removed in a future version. To read from a literal string, wrap it in a 'StringIO' object.\n",
      "  df = pd.read_html(table_html)[0]\n"
     ]
    },
    {
     "name": "stdout",
     "output_type": "stream",
     "text": [
      "Table found and converted to DataFrame for URL: https://www.estimize.com/ORCL/fq3-2021?metric_name=eps&chart=historical\n"
     ]
    },
    {
     "name": "stderr",
     "output_type": "stream",
     "text": [
      "C:\\Users\\mhunt\\AppData\\Local\\Temp\\ipykernel_7800\\329258333.py:29: FutureWarning: Passing literal html to 'read_html' is deprecated and will be removed in a future version. To read from a literal string, wrap it in a 'StringIO' object.\n",
      "  df = pd.read_html(table_html)[0]\n"
     ]
    },
    {
     "name": "stdout",
     "output_type": "stream",
     "text": [
      "Table found and converted to DataFrame for URL: https://www.estimize.com/ORCL/fq4-2021?metric_name=eps&chart=historical\n"
     ]
    },
    {
     "name": "stderr",
     "output_type": "stream",
     "text": [
      "C:\\Users\\mhunt\\AppData\\Local\\Temp\\ipykernel_7800\\329258333.py:29: FutureWarning: Passing literal html to 'read_html' is deprecated and will be removed in a future version. To read from a literal string, wrap it in a 'StringIO' object.\n",
      "  df = pd.read_html(table_html)[0]\n"
     ]
    },
    {
     "name": "stdout",
     "output_type": "stream",
     "text": [
      "Table found and converted to DataFrame for URL: https://www.estimize.com/ORCL/fq1-2022?metric_name=eps&chart=historical\n"
     ]
    },
    {
     "name": "stderr",
     "output_type": "stream",
     "text": [
      "C:\\Users\\mhunt\\AppData\\Local\\Temp\\ipykernel_7800\\329258333.py:29: FutureWarning: Passing literal html to 'read_html' is deprecated and will be removed in a future version. To read from a literal string, wrap it in a 'StringIO' object.\n",
      "  df = pd.read_html(table_html)[0]\n"
     ]
    },
    {
     "name": "stdout",
     "output_type": "stream",
     "text": [
      "Table found and converted to DataFrame for URL: https://www.estimize.com/ORCL/fq2-2022?metric_name=eps&chart=historical\n"
     ]
    },
    {
     "name": "stderr",
     "output_type": "stream",
     "text": [
      "C:\\Users\\mhunt\\AppData\\Local\\Temp\\ipykernel_7800\\329258333.py:29: FutureWarning: Passing literal html to 'read_html' is deprecated and will be removed in a future version. To read from a literal string, wrap it in a 'StringIO' object.\n",
      "  df = pd.read_html(table_html)[0]\n"
     ]
    },
    {
     "name": "stdout",
     "output_type": "stream",
     "text": [
      "Table found and converted to DataFrame for URL: https://www.estimize.com/ORCL/fq3-2022?metric_name=eps&chart=historical\n"
     ]
    },
    {
     "name": "stderr",
     "output_type": "stream",
     "text": [
      "C:\\Users\\mhunt\\AppData\\Local\\Temp\\ipykernel_7800\\329258333.py:29: FutureWarning: Passing literal html to 'read_html' is deprecated and will be removed in a future version. To read from a literal string, wrap it in a 'StringIO' object.\n",
      "  df = pd.read_html(table_html)[0]\n"
     ]
    },
    {
     "name": "stdout",
     "output_type": "stream",
     "text": [
      "Table found and converted to DataFrame for URL: https://www.estimize.com/ORCL/fq4-2022?metric_name=eps&chart=historical\n"
     ]
    },
    {
     "name": "stderr",
     "output_type": "stream",
     "text": [
      "C:\\Users\\mhunt\\AppData\\Local\\Temp\\ipykernel_7800\\329258333.py:29: FutureWarning: Passing literal html to 'read_html' is deprecated and will be removed in a future version. To read from a literal string, wrap it in a 'StringIO' object.\n",
      "  df = pd.read_html(table_html)[0]\n"
     ]
    },
    {
     "name": "stdout",
     "output_type": "stream",
     "text": [
      "Table found and converted to DataFrame for URL: https://www.estimize.com/BB/fq1-2020?metric_name=eps&chart=historical\n"
     ]
    },
    {
     "name": "stderr",
     "output_type": "stream",
     "text": [
      "C:\\Users\\mhunt\\AppData\\Local\\Temp\\ipykernel_7800\\329258333.py:29: FutureWarning: Passing literal html to 'read_html' is deprecated and will be removed in a future version. To read from a literal string, wrap it in a 'StringIO' object.\n",
      "  df = pd.read_html(table_html)[0]\n"
     ]
    },
    {
     "name": "stdout",
     "output_type": "stream",
     "text": [
      "Table found and converted to DataFrame for URL: https://www.estimize.com/BB/fq2-2020?metric_name=eps&chart=historical\n"
     ]
    },
    {
     "name": "stderr",
     "output_type": "stream",
     "text": [
      "C:\\Users\\mhunt\\AppData\\Local\\Temp\\ipykernel_7800\\329258333.py:29: FutureWarning: Passing literal html to 'read_html' is deprecated and will be removed in a future version. To read from a literal string, wrap it in a 'StringIO' object.\n",
      "  df = pd.read_html(table_html)[0]\n"
     ]
    },
    {
     "name": "stdout",
     "output_type": "stream",
     "text": [
      "Table found and converted to DataFrame for URL: https://www.estimize.com/BB/fq3-2020?metric_name=eps&chart=historical\n"
     ]
    },
    {
     "name": "stderr",
     "output_type": "stream",
     "text": [
      "C:\\Users\\mhunt\\AppData\\Local\\Temp\\ipykernel_7800\\329258333.py:29: FutureWarning: Passing literal html to 'read_html' is deprecated and will be removed in a future version. To read from a literal string, wrap it in a 'StringIO' object.\n",
      "  df = pd.read_html(table_html)[0]\n"
     ]
    },
    {
     "name": "stdout",
     "output_type": "stream",
     "text": [
      "Table found and converted to DataFrame for URL: https://www.estimize.com/BB/fq4-2020?metric_name=eps&chart=historical\n"
     ]
    },
    {
     "name": "stderr",
     "output_type": "stream",
     "text": [
      "C:\\Users\\mhunt\\AppData\\Local\\Temp\\ipykernel_7800\\329258333.py:29: FutureWarning: Passing literal html to 'read_html' is deprecated and will be removed in a future version. To read from a literal string, wrap it in a 'StringIO' object.\n",
      "  df = pd.read_html(table_html)[0]\n"
     ]
    },
    {
     "name": "stdout",
     "output_type": "stream",
     "text": [
      "Table found and converted to DataFrame for URL: https://www.estimize.com/BB/fq1-2021?metric_name=eps&chart=historical\n"
     ]
    },
    {
     "name": "stderr",
     "output_type": "stream",
     "text": [
      "C:\\Users\\mhunt\\AppData\\Local\\Temp\\ipykernel_7800\\329258333.py:29: FutureWarning: Passing literal html to 'read_html' is deprecated and will be removed in a future version. To read from a literal string, wrap it in a 'StringIO' object.\n",
      "  df = pd.read_html(table_html)[0]\n"
     ]
    },
    {
     "name": "stdout",
     "output_type": "stream",
     "text": [
      "Table found and converted to DataFrame for URL: https://www.estimize.com/BB/fq2-2021?metric_name=eps&chart=historical\n"
     ]
    },
    {
     "name": "stderr",
     "output_type": "stream",
     "text": [
      "C:\\Users\\mhunt\\AppData\\Local\\Temp\\ipykernel_7800\\329258333.py:29: FutureWarning: Passing literal html to 'read_html' is deprecated and will be removed in a future version. To read from a literal string, wrap it in a 'StringIO' object.\n",
      "  df = pd.read_html(table_html)[0]\n"
     ]
    },
    {
     "name": "stdout",
     "output_type": "stream",
     "text": [
      "Table found and converted to DataFrame for URL: https://www.estimize.com/BB/fq3-2021?metric_name=eps&chart=historical\n"
     ]
    },
    {
     "name": "stderr",
     "output_type": "stream",
     "text": [
      "C:\\Users\\mhunt\\AppData\\Local\\Temp\\ipykernel_7800\\329258333.py:29: FutureWarning: Passing literal html to 'read_html' is deprecated and will be removed in a future version. To read from a literal string, wrap it in a 'StringIO' object.\n",
      "  df = pd.read_html(table_html)[0]\n"
     ]
    },
    {
     "name": "stdout",
     "output_type": "stream",
     "text": [
      "Table found and converted to DataFrame for URL: https://www.estimize.com/BB/fq4-2021?metric_name=eps&chart=historical\n"
     ]
    },
    {
     "name": "stderr",
     "output_type": "stream",
     "text": [
      "C:\\Users\\mhunt\\AppData\\Local\\Temp\\ipykernel_7800\\329258333.py:29: FutureWarning: Passing literal html to 'read_html' is deprecated and will be removed in a future version. To read from a literal string, wrap it in a 'StringIO' object.\n",
      "  df = pd.read_html(table_html)[0]\n"
     ]
    },
    {
     "name": "stdout",
     "output_type": "stream",
     "text": [
      "Table found and converted to DataFrame for URL: https://www.estimize.com/BB/fq1-2022?metric_name=eps&chart=historical\n"
     ]
    },
    {
     "name": "stderr",
     "output_type": "stream",
     "text": [
      "C:\\Users\\mhunt\\AppData\\Local\\Temp\\ipykernel_7800\\329258333.py:29: FutureWarning: Passing literal html to 'read_html' is deprecated and will be removed in a future version. To read from a literal string, wrap it in a 'StringIO' object.\n",
      "  df = pd.read_html(table_html)[0]\n"
     ]
    },
    {
     "name": "stdout",
     "output_type": "stream",
     "text": [
      "Table found and converted to DataFrame for URL: https://www.estimize.com/BB/fq2-2022?metric_name=eps&chart=historical\n"
     ]
    },
    {
     "name": "stderr",
     "output_type": "stream",
     "text": [
      "C:\\Users\\mhunt\\AppData\\Local\\Temp\\ipykernel_7800\\329258333.py:29: FutureWarning: Passing literal html to 'read_html' is deprecated and will be removed in a future version. To read from a literal string, wrap it in a 'StringIO' object.\n",
      "  df = pd.read_html(table_html)[0]\n"
     ]
    },
    {
     "name": "stdout",
     "output_type": "stream",
     "text": [
      "Table found and converted to DataFrame for URL: https://www.estimize.com/BB/fq3-2022?metric_name=eps&chart=historical\n"
     ]
    },
    {
     "name": "stderr",
     "output_type": "stream",
     "text": [
      "C:\\Users\\mhunt\\AppData\\Local\\Temp\\ipykernel_7800\\329258333.py:29: FutureWarning: Passing literal html to 'read_html' is deprecated and will be removed in a future version. To read from a literal string, wrap it in a 'StringIO' object.\n",
      "  df = pd.read_html(table_html)[0]\n"
     ]
    },
    {
     "name": "stdout",
     "output_type": "stream",
     "text": [
      "Table found and converted to DataFrame for URL: https://www.estimize.com/BB/fq4-2022?metric_name=eps&chart=historical\n"
     ]
    },
    {
     "name": "stderr",
     "output_type": "stream",
     "text": [
      "C:\\Users\\mhunt\\AppData\\Local\\Temp\\ipykernel_7800\\329258333.py:29: FutureWarning: Passing literal html to 'read_html' is deprecated and will be removed in a future version. To read from a literal string, wrap it in a 'StringIO' object.\n",
      "  df = pd.read_html(table_html)[0]\n"
     ]
    },
    {
     "name": "stdout",
     "output_type": "stream",
     "text": [
      "Table found and converted to DataFrame for URL: https://www.estimize.com/HPQ/fq1-2020?metric_name=eps&chart=historical\n"
     ]
    },
    {
     "name": "stderr",
     "output_type": "stream",
     "text": [
      "C:\\Users\\mhunt\\AppData\\Local\\Temp\\ipykernel_7800\\329258333.py:29: FutureWarning: Passing literal html to 'read_html' is deprecated and will be removed in a future version. To read from a literal string, wrap it in a 'StringIO' object.\n",
      "  df = pd.read_html(table_html)[0]\n"
     ]
    },
    {
     "name": "stdout",
     "output_type": "stream",
     "text": [
      "Table found and converted to DataFrame for URL: https://www.estimize.com/HPQ/fq2-2020?metric_name=eps&chart=historical\n"
     ]
    },
    {
     "name": "stderr",
     "output_type": "stream",
     "text": [
      "C:\\Users\\mhunt\\AppData\\Local\\Temp\\ipykernel_7800\\329258333.py:29: FutureWarning: Passing literal html to 'read_html' is deprecated and will be removed in a future version. To read from a literal string, wrap it in a 'StringIO' object.\n",
      "  df = pd.read_html(table_html)[0]\n"
     ]
    },
    {
     "name": "stdout",
     "output_type": "stream",
     "text": [
      "Table found and converted to DataFrame for URL: https://www.estimize.com/HPQ/fq3-2020?metric_name=eps&chart=historical\n"
     ]
    },
    {
     "name": "stderr",
     "output_type": "stream",
     "text": [
      "C:\\Users\\mhunt\\AppData\\Local\\Temp\\ipykernel_7800\\329258333.py:29: FutureWarning: Passing literal html to 'read_html' is deprecated and will be removed in a future version. To read from a literal string, wrap it in a 'StringIO' object.\n",
      "  df = pd.read_html(table_html)[0]\n"
     ]
    },
    {
     "name": "stdout",
     "output_type": "stream",
     "text": [
      "Table found and converted to DataFrame for URL: https://www.estimize.com/HPQ/fq4-2020?metric_name=eps&chart=historical\n",
      "Link not found or unable to click for URL: https://www.estimize.com/HPQ/fq1-2021?metric_name=eps&chart=historical\n",
      "Table found and converted to DataFrame for URL: https://www.estimize.com/HPQ/fq1-2021?metric_name=eps&chart=historical\n"
     ]
    },
    {
     "name": "stderr",
     "output_type": "stream",
     "text": [
      "C:\\Users\\mhunt\\AppData\\Local\\Temp\\ipykernel_7800\\329258333.py:29: FutureWarning: Passing literal html to 'read_html' is deprecated and will be removed in a future version. To read from a literal string, wrap it in a 'StringIO' object.\n",
      "  df = pd.read_html(table_html)[0]\n",
      "C:\\Users\\mhunt\\AppData\\Local\\Temp\\ipykernel_7800\\329258333.py:29: FutureWarning: Passing literal html to 'read_html' is deprecated and will be removed in a future version. To read from a literal string, wrap it in a 'StringIO' object.\n",
      "  df = pd.read_html(table_html)[0]\n"
     ]
    },
    {
     "name": "stdout",
     "output_type": "stream",
     "text": [
      "Table found and converted to DataFrame for URL: https://www.estimize.com/HPQ/fq2-2021?metric_name=eps&chart=historical\n",
      "Link not found or unable to click for URL: https://www.estimize.com/HPQ/fq3-2021?metric_name=eps&chart=historical\n",
      "Table found and converted to DataFrame for URL: https://www.estimize.com/HPQ/fq3-2021?metric_name=eps&chart=historical\n"
     ]
    },
    {
     "name": "stderr",
     "output_type": "stream",
     "text": [
      "C:\\Users\\mhunt\\AppData\\Local\\Temp\\ipykernel_7800\\329258333.py:29: FutureWarning: Passing literal html to 'read_html' is deprecated and will be removed in a future version. To read from a literal string, wrap it in a 'StringIO' object.\n",
      "  df = pd.read_html(table_html)[0]\n"
     ]
    },
    {
     "name": "stdout",
     "output_type": "stream",
     "text": [
      "Link not found or unable to click for URL: https://www.estimize.com/HPQ/fq4-2021?metric_name=eps&chart=historical\n",
      "Table found and converted to DataFrame for URL: https://www.estimize.com/HPQ/fq4-2021?metric_name=eps&chart=historical\n"
     ]
    },
    {
     "name": "stderr",
     "output_type": "stream",
     "text": [
      "C:\\Users\\mhunt\\AppData\\Local\\Temp\\ipykernel_7800\\329258333.py:29: FutureWarning: Passing literal html to 'read_html' is deprecated and will be removed in a future version. To read from a literal string, wrap it in a 'StringIO' object.\n",
      "  df = pd.read_html(table_html)[0]\n"
     ]
    },
    {
     "name": "stdout",
     "output_type": "stream",
     "text": [
      "Link not found or unable to click for URL: https://www.estimize.com/HPQ/fq1-2022?metric_name=eps&chart=historical\n",
      "Table found and converted to DataFrame for URL: https://www.estimize.com/HPQ/fq1-2022?metric_name=eps&chart=historical\n"
     ]
    },
    {
     "name": "stderr",
     "output_type": "stream",
     "text": [
      "C:\\Users\\mhunt\\AppData\\Local\\Temp\\ipykernel_7800\\329258333.py:29: FutureWarning: Passing literal html to 'read_html' is deprecated and will be removed in a future version. To read from a literal string, wrap it in a 'StringIO' object.\n",
      "  df = pd.read_html(table_html)[0]\n",
      "C:\\Users\\mhunt\\AppData\\Local\\Temp\\ipykernel_7800\\329258333.py:29: FutureWarning: Passing literal html to 'read_html' is deprecated and will be removed in a future version. To read from a literal string, wrap it in a 'StringIO' object.\n",
      "  df = pd.read_html(table_html)[0]\n"
     ]
    },
    {
     "name": "stdout",
     "output_type": "stream",
     "text": [
      "Table found and converted to DataFrame for URL: https://www.estimize.com/HPQ/fq2-2022?metric_name=eps&chart=historical\n",
      "Link not found or unable to click for URL: https://www.estimize.com/HPQ/fq3-2022?metric_name=eps&chart=historical\n",
      "Table found and converted to DataFrame for URL: https://www.estimize.com/HPQ/fq3-2022?metric_name=eps&chart=historical\n"
     ]
    },
    {
     "name": "stderr",
     "output_type": "stream",
     "text": [
      "C:\\Users\\mhunt\\AppData\\Local\\Temp\\ipykernel_7800\\329258333.py:29: FutureWarning: Passing literal html to 'read_html' is deprecated and will be removed in a future version. To read from a literal string, wrap it in a 'StringIO' object.\n",
      "  df = pd.read_html(table_html)[0]\n"
     ]
    },
    {
     "name": "stdout",
     "output_type": "stream",
     "text": [
      "Link not found or unable to click for URL: https://www.estimize.com/HPQ/fq4-2022?metric_name=eps&chart=historical\n",
      "Table found and converted to DataFrame for URL: https://www.estimize.com/HPQ/fq4-2022?metric_name=eps&chart=historical\n"
     ]
    },
    {
     "name": "stderr",
     "output_type": "stream",
     "text": [
      "C:\\Users\\mhunt\\AppData\\Local\\Temp\\ipykernel_7800\\329258333.py:29: FutureWarning: Passing literal html to 'read_html' is deprecated and will be removed in a future version. To read from a literal string, wrap it in a 'StringIO' object.\n",
      "  df = pd.read_html(table_html)[0]\n",
      "C:\\Users\\mhunt\\AppData\\Local\\Temp\\ipykernel_7800\\329258333.py:29: FutureWarning: Passing literal html to 'read_html' is deprecated and will be removed in a future version. To read from a literal string, wrap it in a 'StringIO' object.\n",
      "  df = pd.read_html(table_html)[0]\n"
     ]
    },
    {
     "name": "stdout",
     "output_type": "stream",
     "text": [
      "Table found and converted to DataFrame for URL: https://www.estimize.com/COST/fq1-2020?metric_name=eps&chart=historical\n"
     ]
    },
    {
     "name": "stderr",
     "output_type": "stream",
     "text": [
      "C:\\Users\\mhunt\\AppData\\Local\\Temp\\ipykernel_7800\\329258333.py:29: FutureWarning: Passing literal html to 'read_html' is deprecated and will be removed in a future version. To read from a literal string, wrap it in a 'StringIO' object.\n",
      "  df = pd.read_html(table_html)[0]\n"
     ]
    },
    {
     "name": "stdout",
     "output_type": "stream",
     "text": [
      "Table found and converted to DataFrame for URL: https://www.estimize.com/COST/fq2-2020?metric_name=eps&chart=historical\n"
     ]
    },
    {
     "name": "stderr",
     "output_type": "stream",
     "text": [
      "C:\\Users\\mhunt\\AppData\\Local\\Temp\\ipykernel_7800\\329258333.py:29: FutureWarning: Passing literal html to 'read_html' is deprecated and will be removed in a future version. To read from a literal string, wrap it in a 'StringIO' object.\n",
      "  df = pd.read_html(table_html)[0]\n"
     ]
    },
    {
     "name": "stdout",
     "output_type": "stream",
     "text": [
      "Table found and converted to DataFrame for URL: https://www.estimize.com/COST/fq3-2020?metric_name=eps&chart=historical\n"
     ]
    },
    {
     "name": "stderr",
     "output_type": "stream",
     "text": [
      "C:\\Users\\mhunt\\AppData\\Local\\Temp\\ipykernel_7800\\329258333.py:29: FutureWarning: Passing literal html to 'read_html' is deprecated and will be removed in a future version. To read from a literal string, wrap it in a 'StringIO' object.\n",
      "  df = pd.read_html(table_html)[0]\n"
     ]
    },
    {
     "name": "stdout",
     "output_type": "stream",
     "text": [
      "Table found and converted to DataFrame for URL: https://www.estimize.com/COST/fq4-2020?metric_name=eps&chart=historical\n"
     ]
    },
    {
     "name": "stderr",
     "output_type": "stream",
     "text": [
      "C:\\Users\\mhunt\\AppData\\Local\\Temp\\ipykernel_7800\\329258333.py:29: FutureWarning: Passing literal html to 'read_html' is deprecated and will be removed in a future version. To read from a literal string, wrap it in a 'StringIO' object.\n",
      "  df = pd.read_html(table_html)[0]\n"
     ]
    },
    {
     "name": "stdout",
     "output_type": "stream",
     "text": [
      "Table found and converted to DataFrame for URL: https://www.estimize.com/COST/fq1-2021?metric_name=eps&chart=historical\n"
     ]
    },
    {
     "name": "stderr",
     "output_type": "stream",
     "text": [
      "C:\\Users\\mhunt\\AppData\\Local\\Temp\\ipykernel_7800\\329258333.py:29: FutureWarning: Passing literal html to 'read_html' is deprecated and will be removed in a future version. To read from a literal string, wrap it in a 'StringIO' object.\n",
      "  df = pd.read_html(table_html)[0]\n"
     ]
    },
    {
     "name": "stdout",
     "output_type": "stream",
     "text": [
      "Table found and converted to DataFrame for URL: https://www.estimize.com/COST/fq2-2021?metric_name=eps&chart=historical\n"
     ]
    },
    {
     "name": "stderr",
     "output_type": "stream",
     "text": [
      "C:\\Users\\mhunt\\AppData\\Local\\Temp\\ipykernel_7800\\329258333.py:29: FutureWarning: Passing literal html to 'read_html' is deprecated and will be removed in a future version. To read from a literal string, wrap it in a 'StringIO' object.\n",
      "  df = pd.read_html(table_html)[0]\n"
     ]
    },
    {
     "name": "stdout",
     "output_type": "stream",
     "text": [
      "Table found and converted to DataFrame for URL: https://www.estimize.com/COST/fq3-2021?metric_name=eps&chart=historical\n"
     ]
    },
    {
     "name": "stderr",
     "output_type": "stream",
     "text": [
      "C:\\Users\\mhunt\\AppData\\Local\\Temp\\ipykernel_7800\\329258333.py:29: FutureWarning: Passing literal html to 'read_html' is deprecated and will be removed in a future version. To read from a literal string, wrap it in a 'StringIO' object.\n",
      "  df = pd.read_html(table_html)[0]\n"
     ]
    },
    {
     "name": "stdout",
     "output_type": "stream",
     "text": [
      "Table found and converted to DataFrame for URL: https://www.estimize.com/COST/fq4-2021?metric_name=eps&chart=historical\n"
     ]
    },
    {
     "name": "stderr",
     "output_type": "stream",
     "text": [
      "C:\\Users\\mhunt\\AppData\\Local\\Temp\\ipykernel_7800\\329258333.py:29: FutureWarning: Passing literal html to 'read_html' is deprecated and will be removed in a future version. To read from a literal string, wrap it in a 'StringIO' object.\n",
      "  df = pd.read_html(table_html)[0]\n"
     ]
    },
    {
     "name": "stdout",
     "output_type": "stream",
     "text": [
      "Table found and converted to DataFrame for URL: https://www.estimize.com/COST/fq1-2022?metric_name=eps&chart=historical\n"
     ]
    },
    {
     "name": "stderr",
     "output_type": "stream",
     "text": [
      "C:\\Users\\mhunt\\AppData\\Local\\Temp\\ipykernel_7800\\329258333.py:29: FutureWarning: Passing literal html to 'read_html' is deprecated and will be removed in a future version. To read from a literal string, wrap it in a 'StringIO' object.\n",
      "  df = pd.read_html(table_html)[0]\n"
     ]
    },
    {
     "name": "stdout",
     "output_type": "stream",
     "text": [
      "Table found and converted to DataFrame for URL: https://www.estimize.com/COST/fq2-2022?metric_name=eps&chart=historical\n"
     ]
    },
    {
     "name": "stderr",
     "output_type": "stream",
     "text": [
      "C:\\Users\\mhunt\\AppData\\Local\\Temp\\ipykernel_7800\\329258333.py:29: FutureWarning: Passing literal html to 'read_html' is deprecated and will be removed in a future version. To read from a literal string, wrap it in a 'StringIO' object.\n",
      "  df = pd.read_html(table_html)[0]\n"
     ]
    },
    {
     "name": "stdout",
     "output_type": "stream",
     "text": [
      "Table found and converted to DataFrame for URL: https://www.estimize.com/COST/fq3-2022?metric_name=eps&chart=historical\n"
     ]
    },
    {
     "name": "stderr",
     "output_type": "stream",
     "text": [
      "C:\\Users\\mhunt\\AppData\\Local\\Temp\\ipykernel_7800\\329258333.py:29: FutureWarning: Passing literal html to 'read_html' is deprecated and will be removed in a future version. To read from a literal string, wrap it in a 'StringIO' object.\n",
      "  df = pd.read_html(table_html)[0]\n"
     ]
    },
    {
     "name": "stdout",
     "output_type": "stream",
     "text": [
      "Table found and converted to DataFrame for URL: https://www.estimize.com/COST/fq4-2022?metric_name=eps&chart=historical\n"
     ]
    },
    {
     "name": "stderr",
     "output_type": "stream",
     "text": [
      "C:\\Users\\mhunt\\AppData\\Local\\Temp\\ipykernel_7800\\329258333.py:29: FutureWarning: Passing literal html to 'read_html' is deprecated and will be removed in a future version. To read from a literal string, wrap it in a 'StringIO' object.\n",
      "  df = pd.read_html(table_html)[0]\n"
     ]
    },
    {
     "name": "stdout",
     "output_type": "stream",
     "text": [
      "Table found and converted to DataFrame for URL: https://www.estimize.com/AMAT/fq1-2020?metric_name=eps&chart=historical\n"
     ]
    },
    {
     "name": "stderr",
     "output_type": "stream",
     "text": [
      "C:\\Users\\mhunt\\AppData\\Local\\Temp\\ipykernel_7800\\329258333.py:29: FutureWarning: Passing literal html to 'read_html' is deprecated and will be removed in a future version. To read from a literal string, wrap it in a 'StringIO' object.\n",
      "  df = pd.read_html(table_html)[0]\n"
     ]
    },
    {
     "name": "stdout",
     "output_type": "stream",
     "text": [
      "Table found and converted to DataFrame for URL: https://www.estimize.com/AMAT/fq2-2020?metric_name=eps&chart=historical\n"
     ]
    },
    {
     "name": "stderr",
     "output_type": "stream",
     "text": [
      "C:\\Users\\mhunt\\AppData\\Local\\Temp\\ipykernel_7800\\329258333.py:29: FutureWarning: Passing literal html to 'read_html' is deprecated and will be removed in a future version. To read from a literal string, wrap it in a 'StringIO' object.\n",
      "  df = pd.read_html(table_html)[0]\n"
     ]
    },
    {
     "name": "stdout",
     "output_type": "stream",
     "text": [
      "Table found and converted to DataFrame for URL: https://www.estimize.com/AMAT/fq3-2020?metric_name=eps&chart=historical\n"
     ]
    },
    {
     "name": "stderr",
     "output_type": "stream",
     "text": [
      "C:\\Users\\mhunt\\AppData\\Local\\Temp\\ipykernel_7800\\329258333.py:29: FutureWarning: Passing literal html to 'read_html' is deprecated and will be removed in a future version. To read from a literal string, wrap it in a 'StringIO' object.\n",
      "  df = pd.read_html(table_html)[0]\n"
     ]
    },
    {
     "name": "stdout",
     "output_type": "stream",
     "text": [
      "Table found and converted to DataFrame for URL: https://www.estimize.com/AMAT/fq4-2020?metric_name=eps&chart=historical\n"
     ]
    },
    {
     "name": "stderr",
     "output_type": "stream",
     "text": [
      "C:\\Users\\mhunt\\AppData\\Local\\Temp\\ipykernel_7800\\329258333.py:29: FutureWarning: Passing literal html to 'read_html' is deprecated and will be removed in a future version. To read from a literal string, wrap it in a 'StringIO' object.\n",
      "  df = pd.read_html(table_html)[0]\n"
     ]
    },
    {
     "name": "stdout",
     "output_type": "stream",
     "text": [
      "Table found and converted to DataFrame for URL: https://www.estimize.com/AMAT/fq1-2021?metric_name=eps&chart=historical\n"
     ]
    },
    {
     "name": "stderr",
     "output_type": "stream",
     "text": [
      "C:\\Users\\mhunt\\AppData\\Local\\Temp\\ipykernel_7800\\329258333.py:29: FutureWarning: Passing literal html to 'read_html' is deprecated and will be removed in a future version. To read from a literal string, wrap it in a 'StringIO' object.\n",
      "  df = pd.read_html(table_html)[0]\n"
     ]
    },
    {
     "name": "stdout",
     "output_type": "stream",
     "text": [
      "Table found and converted to DataFrame for URL: https://www.estimize.com/AMAT/fq2-2021?metric_name=eps&chart=historical\n"
     ]
    },
    {
     "name": "stderr",
     "output_type": "stream",
     "text": [
      "C:\\Users\\mhunt\\AppData\\Local\\Temp\\ipykernel_7800\\329258333.py:29: FutureWarning: Passing literal html to 'read_html' is deprecated and will be removed in a future version. To read from a literal string, wrap it in a 'StringIO' object.\n",
      "  df = pd.read_html(table_html)[0]\n"
     ]
    },
    {
     "name": "stdout",
     "output_type": "stream",
     "text": [
      "Table found and converted to DataFrame for URL: https://www.estimize.com/AMAT/fq3-2021?metric_name=eps&chart=historical\n"
     ]
    },
    {
     "name": "stderr",
     "output_type": "stream",
     "text": [
      "C:\\Users\\mhunt\\AppData\\Local\\Temp\\ipykernel_7800\\329258333.py:29: FutureWarning: Passing literal html to 'read_html' is deprecated and will be removed in a future version. To read from a literal string, wrap it in a 'StringIO' object.\n",
      "  df = pd.read_html(table_html)[0]\n"
     ]
    },
    {
     "name": "stdout",
     "output_type": "stream",
     "text": [
      "Table found and converted to DataFrame for URL: https://www.estimize.com/AMAT/fq4-2021?metric_name=eps&chart=historical\n"
     ]
    },
    {
     "name": "stderr",
     "output_type": "stream",
     "text": [
      "C:\\Users\\mhunt\\AppData\\Local\\Temp\\ipykernel_7800\\329258333.py:29: FutureWarning: Passing literal html to 'read_html' is deprecated and will be removed in a future version. To read from a literal string, wrap it in a 'StringIO' object.\n",
      "  df = pd.read_html(table_html)[0]\n"
     ]
    },
    {
     "name": "stdout",
     "output_type": "stream",
     "text": [
      "Table found and converted to DataFrame for URL: https://www.estimize.com/AMAT/fq1-2022?metric_name=eps&chart=historical\n"
     ]
    },
    {
     "name": "stderr",
     "output_type": "stream",
     "text": [
      "C:\\Users\\mhunt\\AppData\\Local\\Temp\\ipykernel_7800\\329258333.py:29: FutureWarning: Passing literal html to 'read_html' is deprecated and will be removed in a future version. To read from a literal string, wrap it in a 'StringIO' object.\n",
      "  df = pd.read_html(table_html)[0]\n"
     ]
    },
    {
     "name": "stdout",
     "output_type": "stream",
     "text": [
      "Table found and converted to DataFrame for URL: https://www.estimize.com/AMAT/fq2-2022?metric_name=eps&chart=historical\n"
     ]
    },
    {
     "name": "stderr",
     "output_type": "stream",
     "text": [
      "C:\\Users\\mhunt\\AppData\\Local\\Temp\\ipykernel_7800\\329258333.py:29: FutureWarning: Passing literal html to 'read_html' is deprecated and will be removed in a future version. To read from a literal string, wrap it in a 'StringIO' object.\n",
      "  df = pd.read_html(table_html)[0]\n"
     ]
    },
    {
     "name": "stdout",
     "output_type": "stream",
     "text": [
      "Table found and converted to DataFrame for URL: https://www.estimize.com/AMAT/fq3-2022?metric_name=eps&chart=historical\n"
     ]
    },
    {
     "name": "stderr",
     "output_type": "stream",
     "text": [
      "C:\\Users\\mhunt\\AppData\\Local\\Temp\\ipykernel_7800\\329258333.py:29: FutureWarning: Passing literal html to 'read_html' is deprecated and will be removed in a future version. To read from a literal string, wrap it in a 'StringIO' object.\n",
      "  df = pd.read_html(table_html)[0]\n"
     ]
    },
    {
     "name": "stdout",
     "output_type": "stream",
     "text": [
      "Table found and converted to DataFrame for URL: https://www.estimize.com/AMAT/fq4-2022?metric_name=eps&chart=historical\n"
     ]
    },
    {
     "name": "stderr",
     "output_type": "stream",
     "text": [
      "C:\\Users\\mhunt\\AppData\\Local\\Temp\\ipykernel_7800\\329258333.py:29: FutureWarning: Passing literal html to 'read_html' is deprecated and will be removed in a future version. To read from a literal string, wrap it in a 'StringIO' object.\n",
      "  df = pd.read_html(table_html)[0]\n"
     ]
    },
    {
     "name": "stdout",
     "output_type": "stream",
     "text": [
      "Table found and converted to DataFrame for URL: https://www.estimize.com/BAC/fq1-2020?metric_name=eps&chart=historical\n"
     ]
    },
    {
     "name": "stderr",
     "output_type": "stream",
     "text": [
      "C:\\Users\\mhunt\\AppData\\Local\\Temp\\ipykernel_7800\\329258333.py:29: FutureWarning: Passing literal html to 'read_html' is deprecated and will be removed in a future version. To read from a literal string, wrap it in a 'StringIO' object.\n",
      "  df = pd.read_html(table_html)[0]\n"
     ]
    },
    {
     "name": "stdout",
     "output_type": "stream",
     "text": [
      "Table found and converted to DataFrame for URL: https://www.estimize.com/BAC/fq2-2020?metric_name=eps&chart=historical\n"
     ]
    },
    {
     "name": "stderr",
     "output_type": "stream",
     "text": [
      "C:\\Users\\mhunt\\AppData\\Local\\Temp\\ipykernel_7800\\329258333.py:29: FutureWarning: Passing literal html to 'read_html' is deprecated and will be removed in a future version. To read from a literal string, wrap it in a 'StringIO' object.\n",
      "  df = pd.read_html(table_html)[0]\n"
     ]
    },
    {
     "name": "stdout",
     "output_type": "stream",
     "text": [
      "Table found and converted to DataFrame for URL: https://www.estimize.com/BAC/fq3-2020?metric_name=eps&chart=historical\n"
     ]
    },
    {
     "name": "stderr",
     "output_type": "stream",
     "text": [
      "C:\\Users\\mhunt\\AppData\\Local\\Temp\\ipykernel_7800\\329258333.py:29: FutureWarning: Passing literal html to 'read_html' is deprecated and will be removed in a future version. To read from a literal string, wrap it in a 'StringIO' object.\n",
      "  df = pd.read_html(table_html)[0]\n"
     ]
    },
    {
     "name": "stdout",
     "output_type": "stream",
     "text": [
      "Table found and converted to DataFrame for URL: https://www.estimize.com/BAC/fq4-2020?metric_name=eps&chart=historical\n"
     ]
    },
    {
     "name": "stderr",
     "output_type": "stream",
     "text": [
      "C:\\Users\\mhunt\\AppData\\Local\\Temp\\ipykernel_7800\\329258333.py:29: FutureWarning: Passing literal html to 'read_html' is deprecated and will be removed in a future version. To read from a literal string, wrap it in a 'StringIO' object.\n",
      "  df = pd.read_html(table_html)[0]\n"
     ]
    },
    {
     "name": "stdout",
     "output_type": "stream",
     "text": [
      "Table found and converted to DataFrame for URL: https://www.estimize.com/BAC/fq1-2021?metric_name=eps&chart=historical\n"
     ]
    },
    {
     "name": "stderr",
     "output_type": "stream",
     "text": [
      "C:\\Users\\mhunt\\AppData\\Local\\Temp\\ipykernel_7800\\329258333.py:29: FutureWarning: Passing literal html to 'read_html' is deprecated and will be removed in a future version. To read from a literal string, wrap it in a 'StringIO' object.\n",
      "  df = pd.read_html(table_html)[0]\n"
     ]
    },
    {
     "name": "stdout",
     "output_type": "stream",
     "text": [
      "Table found and converted to DataFrame for URL: https://www.estimize.com/BAC/fq2-2021?metric_name=eps&chart=historical\n"
     ]
    },
    {
     "name": "stderr",
     "output_type": "stream",
     "text": [
      "C:\\Users\\mhunt\\AppData\\Local\\Temp\\ipykernel_7800\\329258333.py:29: FutureWarning: Passing literal html to 'read_html' is deprecated and will be removed in a future version. To read from a literal string, wrap it in a 'StringIO' object.\n",
      "  df = pd.read_html(table_html)[0]\n"
     ]
    },
    {
     "name": "stdout",
     "output_type": "stream",
     "text": [
      "Table found and converted to DataFrame for URL: https://www.estimize.com/BAC/fq3-2021?metric_name=eps&chart=historical\n"
     ]
    },
    {
     "name": "stderr",
     "output_type": "stream",
     "text": [
      "C:\\Users\\mhunt\\AppData\\Local\\Temp\\ipykernel_7800\\329258333.py:29: FutureWarning: Passing literal html to 'read_html' is deprecated and will be removed in a future version. To read from a literal string, wrap it in a 'StringIO' object.\n",
      "  df = pd.read_html(table_html)[0]\n"
     ]
    },
    {
     "name": "stdout",
     "output_type": "stream",
     "text": [
      "Table found and converted to DataFrame for URL: https://www.estimize.com/BAC/fq4-2021?metric_name=eps&chart=historical\n"
     ]
    },
    {
     "name": "stderr",
     "output_type": "stream",
     "text": [
      "C:\\Users\\mhunt\\AppData\\Local\\Temp\\ipykernel_7800\\329258333.py:29: FutureWarning: Passing literal html to 'read_html' is deprecated and will be removed in a future version. To read from a literal string, wrap it in a 'StringIO' object.\n",
      "  df = pd.read_html(table_html)[0]\n"
     ]
    },
    {
     "name": "stdout",
     "output_type": "stream",
     "text": [
      "Table found and converted to DataFrame for URL: https://www.estimize.com/BAC/fq1-2022?metric_name=eps&chart=historical\n"
     ]
    },
    {
     "name": "stderr",
     "output_type": "stream",
     "text": [
      "C:\\Users\\mhunt\\AppData\\Local\\Temp\\ipykernel_7800\\329258333.py:29: FutureWarning: Passing literal html to 'read_html' is deprecated and will be removed in a future version. To read from a literal string, wrap it in a 'StringIO' object.\n",
      "  df = pd.read_html(table_html)[0]\n"
     ]
    },
    {
     "name": "stdout",
     "output_type": "stream",
     "text": [
      "Table found and converted to DataFrame for URL: https://www.estimize.com/BAC/fq2-2022?metric_name=eps&chart=historical\n"
     ]
    },
    {
     "name": "stderr",
     "output_type": "stream",
     "text": [
      "C:\\Users\\mhunt\\AppData\\Local\\Temp\\ipykernel_7800\\329258333.py:29: FutureWarning: Passing literal html to 'read_html' is deprecated and will be removed in a future version. To read from a literal string, wrap it in a 'StringIO' object.\n",
      "  df = pd.read_html(table_html)[0]\n"
     ]
    },
    {
     "name": "stdout",
     "output_type": "stream",
     "text": [
      "Table found and converted to DataFrame for URL: https://www.estimize.com/BAC/fq3-2022?metric_name=eps&chart=historical\n"
     ]
    },
    {
     "name": "stderr",
     "output_type": "stream",
     "text": [
      "C:\\Users\\mhunt\\AppData\\Local\\Temp\\ipykernel_7800\\329258333.py:29: FutureWarning: Passing literal html to 'read_html' is deprecated and will be removed in a future version. To read from a literal string, wrap it in a 'StringIO' object.\n",
      "  df = pd.read_html(table_html)[0]\n"
     ]
    },
    {
     "name": "stdout",
     "output_type": "stream",
     "text": [
      "Table found and converted to DataFrame for URL: https://www.estimize.com/BAC/fq4-2022?metric_name=eps&chart=historical\n"
     ]
    },
    {
     "name": "stderr",
     "output_type": "stream",
     "text": [
      "C:\\Users\\mhunt\\AppData\\Local\\Temp\\ipykernel_7800\\329258333.py:29: FutureWarning: Passing literal html to 'read_html' is deprecated and will be removed in a future version. To read from a literal string, wrap it in a 'StringIO' object.\n",
      "  df = pd.read_html(table_html)[0]\n"
     ]
    },
    {
     "name": "stdout",
     "output_type": "stream",
     "text": [
      "Table found and converted to DataFrame for URL: https://www.estimize.com/CVX/fq1-2020?metric_name=eps&chart=historical\n"
     ]
    },
    {
     "name": "stderr",
     "output_type": "stream",
     "text": [
      "C:\\Users\\mhunt\\AppData\\Local\\Temp\\ipykernel_7800\\329258333.py:29: FutureWarning: Passing literal html to 'read_html' is deprecated and will be removed in a future version. To read from a literal string, wrap it in a 'StringIO' object.\n",
      "  df = pd.read_html(table_html)[0]\n"
     ]
    },
    {
     "name": "stdout",
     "output_type": "stream",
     "text": [
      "Table found and converted to DataFrame for URL: https://www.estimize.com/CVX/fq2-2020?metric_name=eps&chart=historical\n",
      "Link not found or unable to click for URL: https://www.estimize.com/CVX/fq3-2020?metric_name=eps&chart=historical\n",
      "Table found and converted to DataFrame for URL: https://www.estimize.com/CVX/fq3-2020?metric_name=eps&chart=historical\n"
     ]
    },
    {
     "name": "stderr",
     "output_type": "stream",
     "text": [
      "C:\\Users\\mhunt\\AppData\\Local\\Temp\\ipykernel_7800\\329258333.py:29: FutureWarning: Passing literal html to 'read_html' is deprecated and will be removed in a future version. To read from a literal string, wrap it in a 'StringIO' object.\n",
      "  df = pd.read_html(table_html)[0]\n",
      "C:\\Users\\mhunt\\AppData\\Local\\Temp\\ipykernel_7800\\329258333.py:29: FutureWarning: Passing literal html to 'read_html' is deprecated and will be removed in a future version. To read from a literal string, wrap it in a 'StringIO' object.\n",
      "  df = pd.read_html(table_html)[0]\n"
     ]
    },
    {
     "name": "stdout",
     "output_type": "stream",
     "text": [
      "Table found and converted to DataFrame for URL: https://www.estimize.com/CVX/fq4-2020?metric_name=eps&chart=historical\n"
     ]
    },
    {
     "name": "stderr",
     "output_type": "stream",
     "text": [
      "C:\\Users\\mhunt\\AppData\\Local\\Temp\\ipykernel_7800\\329258333.py:29: FutureWarning: Passing literal html to 'read_html' is deprecated and will be removed in a future version. To read from a literal string, wrap it in a 'StringIO' object.\n",
      "  df = pd.read_html(table_html)[0]\n"
     ]
    },
    {
     "name": "stdout",
     "output_type": "stream",
     "text": [
      "Table found and converted to DataFrame for URL: https://www.estimize.com/CVX/fq1-2021?metric_name=eps&chart=historical\n",
      "Link not found or unable to click for URL: https://www.estimize.com/CVX/fq2-2021?metric_name=eps&chart=historical\n",
      "Table found and converted to DataFrame for URL: https://www.estimize.com/CVX/fq2-2021?metric_name=eps&chart=historical\n"
     ]
    },
    {
     "name": "stderr",
     "output_type": "stream",
     "text": [
      "C:\\Users\\mhunt\\AppData\\Local\\Temp\\ipykernel_7800\\329258333.py:29: FutureWarning: Passing literal html to 'read_html' is deprecated and will be removed in a future version. To read from a literal string, wrap it in a 'StringIO' object.\n",
      "  df = pd.read_html(table_html)[0]\n",
      "C:\\Users\\mhunt\\AppData\\Local\\Temp\\ipykernel_7800\\329258333.py:29: FutureWarning: Passing literal html to 'read_html' is deprecated and will be removed in a future version. To read from a literal string, wrap it in a 'StringIO' object.\n",
      "  df = pd.read_html(table_html)[0]\n"
     ]
    },
    {
     "name": "stdout",
     "output_type": "stream",
     "text": [
      "Table found and converted to DataFrame for URL: https://www.estimize.com/CVX/fq3-2021?metric_name=eps&chart=historical\n"
     ]
    },
    {
     "name": "stderr",
     "output_type": "stream",
     "text": [
      "C:\\Users\\mhunt\\AppData\\Local\\Temp\\ipykernel_7800\\329258333.py:29: FutureWarning: Passing literal html to 'read_html' is deprecated and will be removed in a future version. To read from a literal string, wrap it in a 'StringIO' object.\n",
      "  df = pd.read_html(table_html)[0]\n"
     ]
    },
    {
     "name": "stdout",
     "output_type": "stream",
     "text": [
      "Table found and converted to DataFrame for URL: https://www.estimize.com/CVX/fq4-2021?metric_name=eps&chart=historical\n"
     ]
    },
    {
     "name": "stderr",
     "output_type": "stream",
     "text": [
      "C:\\Users\\mhunt\\AppData\\Local\\Temp\\ipykernel_7800\\329258333.py:29: FutureWarning: Passing literal html to 'read_html' is deprecated and will be removed in a future version. To read from a literal string, wrap it in a 'StringIO' object.\n",
      "  df = pd.read_html(table_html)[0]\n"
     ]
    },
    {
     "name": "stdout",
     "output_type": "stream",
     "text": [
      "Table found and converted to DataFrame for URL: https://www.estimize.com/CVX/fq1-2022?metric_name=eps&chart=historical\n",
      "Link not found or unable to click for URL: https://www.estimize.com/CVX/fq2-2022?metric_name=eps&chart=historical\n",
      "Table found and converted to DataFrame for URL: https://www.estimize.com/CVX/fq2-2022?metric_name=eps&chart=historical\n"
     ]
    },
    {
     "name": "stderr",
     "output_type": "stream",
     "text": [
      "C:\\Users\\mhunt\\AppData\\Local\\Temp\\ipykernel_7800\\329258333.py:29: FutureWarning: Passing literal html to 'read_html' is deprecated and will be removed in a future version. To read from a literal string, wrap it in a 'StringIO' object.\n",
      "  df = pd.read_html(table_html)[0]\n",
      "C:\\Users\\mhunt\\AppData\\Local\\Temp\\ipykernel_7800\\329258333.py:29: FutureWarning: Passing literal html to 'read_html' is deprecated and will be removed in a future version. To read from a literal string, wrap it in a 'StringIO' object.\n",
      "  df = pd.read_html(table_html)[0]\n"
     ]
    },
    {
     "name": "stdout",
     "output_type": "stream",
     "text": [
      "Table found and converted to DataFrame for URL: https://www.estimize.com/CVX/fq3-2022?metric_name=eps&chart=historical\n"
     ]
    },
    {
     "name": "stderr",
     "output_type": "stream",
     "text": [
      "C:\\Users\\mhunt\\AppData\\Local\\Temp\\ipykernel_7800\\329258333.py:29: FutureWarning: Passing literal html to 'read_html' is deprecated and will be removed in a future version. To read from a literal string, wrap it in a 'StringIO' object.\n",
      "  df = pd.read_html(table_html)[0]\n"
     ]
    },
    {
     "name": "stdout",
     "output_type": "stream",
     "text": [
      "Table found and converted to DataFrame for URL: https://www.estimize.com/CVX/fq4-2022?metric_name=eps&chart=historical\n",
      "Link not found or unable to click for URL: https://www.estimize.com/AMGN/fq1-2020?metric_name=eps&chart=historical\n",
      "Table found and converted to DataFrame for URL: https://www.estimize.com/AMGN/fq1-2020?metric_name=eps&chart=historical\n"
     ]
    },
    {
     "name": "stderr",
     "output_type": "stream",
     "text": [
      "C:\\Users\\mhunt\\AppData\\Local\\Temp\\ipykernel_7800\\329258333.py:29: FutureWarning: Passing literal html to 'read_html' is deprecated and will be removed in a future version. To read from a literal string, wrap it in a 'StringIO' object.\n",
      "  df = pd.read_html(table_html)[0]\n"
     ]
    },
    {
     "name": "stdout",
     "output_type": "stream",
     "text": [
      "Link not found or unable to click for URL: https://www.estimize.com/AMGN/fq2-2020?metric_name=eps&chart=historical\n",
      "Table found and converted to DataFrame for URL: https://www.estimize.com/AMGN/fq2-2020?metric_name=eps&chart=historical\n"
     ]
    },
    {
     "name": "stderr",
     "output_type": "stream",
     "text": [
      "C:\\Users\\mhunt\\AppData\\Local\\Temp\\ipykernel_7800\\329258333.py:29: FutureWarning: Passing literal html to 'read_html' is deprecated and will be removed in a future version. To read from a literal string, wrap it in a 'StringIO' object.\n",
      "  df = pd.read_html(table_html)[0]\n"
     ]
    },
    {
     "name": "stdout",
     "output_type": "stream",
     "text": [
      "Link not found or unable to click for URL: https://www.estimize.com/AMGN/fq3-2020?metric_name=eps&chart=historical\n",
      "Table found and converted to DataFrame for URL: https://www.estimize.com/AMGN/fq3-2020?metric_name=eps&chart=historical\n"
     ]
    },
    {
     "name": "stderr",
     "output_type": "stream",
     "text": [
      "C:\\Users\\mhunt\\AppData\\Local\\Temp\\ipykernel_7800\\329258333.py:29: FutureWarning: Passing literal html to 'read_html' is deprecated and will be removed in a future version. To read from a literal string, wrap it in a 'StringIO' object.\n",
      "  df = pd.read_html(table_html)[0]\n"
     ]
    },
    {
     "name": "stdout",
     "output_type": "stream",
     "text": [
      "Link not found or unable to click for URL: https://www.estimize.com/AMGN/fq4-2020?metric_name=eps&chart=historical\n",
      "Table found and converted to DataFrame for URL: https://www.estimize.com/AMGN/fq4-2020?metric_name=eps&chart=historical\n"
     ]
    },
    {
     "name": "stderr",
     "output_type": "stream",
     "text": [
      "C:\\Users\\mhunt\\AppData\\Local\\Temp\\ipykernel_7800\\329258333.py:29: FutureWarning: Passing literal html to 'read_html' is deprecated and will be removed in a future version. To read from a literal string, wrap it in a 'StringIO' object.\n",
      "  df = pd.read_html(table_html)[0]\n"
     ]
    },
    {
     "name": "stdout",
     "output_type": "stream",
     "text": [
      "Link not found or unable to click for URL: https://www.estimize.com/AMGN/fq1-2021?metric_name=eps&chart=historical\n",
      "Table found and converted to DataFrame for URL: https://www.estimize.com/AMGN/fq1-2021?metric_name=eps&chart=historical\n"
     ]
    },
    {
     "name": "stderr",
     "output_type": "stream",
     "text": [
      "C:\\Users\\mhunt\\AppData\\Local\\Temp\\ipykernel_7800\\329258333.py:29: FutureWarning: Passing literal html to 'read_html' is deprecated and will be removed in a future version. To read from a literal string, wrap it in a 'StringIO' object.\n",
      "  df = pd.read_html(table_html)[0]\n"
     ]
    },
    {
     "name": "stdout",
     "output_type": "stream",
     "text": [
      "Link not found or unable to click for URL: https://www.estimize.com/AMGN/fq2-2021?metric_name=eps&chart=historical\n",
      "Table found and converted to DataFrame for URL: https://www.estimize.com/AMGN/fq2-2021?metric_name=eps&chart=historical\n"
     ]
    },
    {
     "name": "stderr",
     "output_type": "stream",
     "text": [
      "C:\\Users\\mhunt\\AppData\\Local\\Temp\\ipykernel_7800\\329258333.py:29: FutureWarning: Passing literal html to 'read_html' is deprecated and will be removed in a future version. To read from a literal string, wrap it in a 'StringIO' object.\n",
      "  df = pd.read_html(table_html)[0]\n"
     ]
    },
    {
     "name": "stdout",
     "output_type": "stream",
     "text": [
      "Link not found or unable to click for URL: https://www.estimize.com/AMGN/fq3-2021?metric_name=eps&chart=historical\n",
      "Table found and converted to DataFrame for URL: https://www.estimize.com/AMGN/fq3-2021?metric_name=eps&chart=historical\n"
     ]
    },
    {
     "name": "stderr",
     "output_type": "stream",
     "text": [
      "C:\\Users\\mhunt\\AppData\\Local\\Temp\\ipykernel_7800\\329258333.py:29: FutureWarning: Passing literal html to 'read_html' is deprecated and will be removed in a future version. To read from a literal string, wrap it in a 'StringIO' object.\n",
      "  df = pd.read_html(table_html)[0]\n",
      "C:\\Users\\mhunt\\AppData\\Local\\Temp\\ipykernel_7800\\329258333.py:29: FutureWarning: Passing literal html to 'read_html' is deprecated and will be removed in a future version. To read from a literal string, wrap it in a 'StringIO' object.\n",
      "  df = pd.read_html(table_html)[0]\n"
     ]
    },
    {
     "name": "stdout",
     "output_type": "stream",
     "text": [
      "Table found and converted to DataFrame for URL: https://www.estimize.com/AMGN/fq4-2021?metric_name=eps&chart=historical\n",
      "Link not found or unable to click for URL: https://www.estimize.com/AMGN/fq1-2022?metric_name=eps&chart=historical\n"
     ]
    },
    {
     "name": "stderr",
     "output_type": "stream",
     "text": [
      "C:\\Users\\mhunt\\AppData\\Local\\Temp\\ipykernel_7800\\329258333.py:29: FutureWarning: Passing literal html to 'read_html' is deprecated and will be removed in a future version. To read from a literal string, wrap it in a 'StringIO' object.\n",
      "  df = pd.read_html(table_html)[0]\n"
     ]
    },
    {
     "name": "stdout",
     "output_type": "stream",
     "text": [
      "Table found and converted to DataFrame for URL: https://www.estimize.com/AMGN/fq1-2022?metric_name=eps&chart=historical\n",
      "Link not found or unable to click for URL: https://www.estimize.com/AMGN/fq2-2022?metric_name=eps&chart=historical\n",
      "Table found and converted to DataFrame for URL: https://www.estimize.com/AMGN/fq2-2022?metric_name=eps&chart=historical\n"
     ]
    },
    {
     "name": "stderr",
     "output_type": "stream",
     "text": [
      "C:\\Users\\mhunt\\AppData\\Local\\Temp\\ipykernel_7800\\329258333.py:29: FutureWarning: Passing literal html to 'read_html' is deprecated and will be removed in a future version. To read from a literal string, wrap it in a 'StringIO' object.\n",
      "  df = pd.read_html(table_html)[0]\n"
     ]
    },
    {
     "name": "stdout",
     "output_type": "stream",
     "text": [
      "Link not found or unable to click for URL: https://www.estimize.com/AMGN/fq3-2022?metric_name=eps&chart=historical\n",
      "Table found and converted to DataFrame for URL: https://www.estimize.com/AMGN/fq3-2022?metric_name=eps&chart=historical\n"
     ]
    },
    {
     "name": "stderr",
     "output_type": "stream",
     "text": [
      "C:\\Users\\mhunt\\AppData\\Local\\Temp\\ipykernel_7800\\329258333.py:29: FutureWarning: Passing literal html to 'read_html' is deprecated and will be removed in a future version. To read from a literal string, wrap it in a 'StringIO' object.\n",
      "  df = pd.read_html(table_html)[0]\n"
     ]
    },
    {
     "name": "stdout",
     "output_type": "stream",
     "text": [
      "Link not found or unable to click for URL: https://www.estimize.com/AMGN/fq4-2022?metric_name=eps&chart=historical\n",
      "Table found and converted to DataFrame for URL: https://www.estimize.com/AMGN/fq4-2022?metric_name=eps&chart=historical\n"
     ]
    },
    {
     "name": "stderr",
     "output_type": "stream",
     "text": [
      "C:\\Users\\mhunt\\AppData\\Local\\Temp\\ipykernel_7800\\329258333.py:29: FutureWarning: Passing literal html to 'read_html' is deprecated and will be removed in a future version. To read from a literal string, wrap it in a 'StringIO' object.\n",
      "  df = pd.read_html(table_html)[0]\n",
      "C:\\Users\\mhunt\\AppData\\Local\\Temp\\ipykernel_7800\\329258333.py:29: FutureWarning: Passing literal html to 'read_html' is deprecated and will be removed in a future version. To read from a literal string, wrap it in a 'StringIO' object.\n",
      "  df = pd.read_html(table_html)[0]\n"
     ]
    },
    {
     "name": "stdout",
     "output_type": "stream",
     "text": [
      "Table found and converted to DataFrame for URL: https://www.estimize.com/PG/fq1-2020?metric_name=eps&chart=historical\n"
     ]
    },
    {
     "name": "stderr",
     "output_type": "stream",
     "text": [
      "C:\\Users\\mhunt\\AppData\\Local\\Temp\\ipykernel_7800\\329258333.py:29: FutureWarning: Passing literal html to 'read_html' is deprecated and will be removed in a future version. To read from a literal string, wrap it in a 'StringIO' object.\n",
      "  df = pd.read_html(table_html)[0]\n"
     ]
    },
    {
     "name": "stdout",
     "output_type": "stream",
     "text": [
      "Table found and converted to DataFrame for URL: https://www.estimize.com/PG/fq2-2020?metric_name=eps&chart=historical\n"
     ]
    },
    {
     "name": "stderr",
     "output_type": "stream",
     "text": [
      "C:\\Users\\mhunt\\AppData\\Local\\Temp\\ipykernel_7800\\329258333.py:29: FutureWarning: Passing literal html to 'read_html' is deprecated and will be removed in a future version. To read from a literal string, wrap it in a 'StringIO' object.\n",
      "  df = pd.read_html(table_html)[0]\n"
     ]
    },
    {
     "name": "stdout",
     "output_type": "stream",
     "text": [
      "Table found and converted to DataFrame for URL: https://www.estimize.com/PG/fq3-2020?metric_name=eps&chart=historical\n"
     ]
    },
    {
     "name": "stderr",
     "output_type": "stream",
     "text": [
      "C:\\Users\\mhunt\\AppData\\Local\\Temp\\ipykernel_7800\\329258333.py:29: FutureWarning: Passing literal html to 'read_html' is deprecated and will be removed in a future version. To read from a literal string, wrap it in a 'StringIO' object.\n",
      "  df = pd.read_html(table_html)[0]\n"
     ]
    },
    {
     "name": "stdout",
     "output_type": "stream",
     "text": [
      "Table found and converted to DataFrame for URL: https://www.estimize.com/PG/fq4-2020?metric_name=eps&chart=historical\n",
      "Link not found or unable to click for URL: https://www.estimize.com/PG/fq1-2021?metric_name=eps&chart=historical\n",
      "Table found and converted to DataFrame for URL: https://www.estimize.com/PG/fq1-2021?metric_name=eps&chart=historical\n"
     ]
    },
    {
     "name": "stderr",
     "output_type": "stream",
     "text": [
      "C:\\Users\\mhunt\\AppData\\Local\\Temp\\ipykernel_7800\\329258333.py:29: FutureWarning: Passing literal html to 'read_html' is deprecated and will be removed in a future version. To read from a literal string, wrap it in a 'StringIO' object.\n",
      "  df = pd.read_html(table_html)[0]\n"
     ]
    },
    {
     "name": "stdout",
     "output_type": "stream",
     "text": [
      "Link not found or unable to click for URL: https://www.estimize.com/PG/fq2-2021?metric_name=eps&chart=historical\n",
      "Table found and converted to DataFrame for URL: https://www.estimize.com/PG/fq2-2021?metric_name=eps&chart=historical\n"
     ]
    },
    {
     "name": "stderr",
     "output_type": "stream",
     "text": [
      "C:\\Users\\mhunt\\AppData\\Local\\Temp\\ipykernel_7800\\329258333.py:29: FutureWarning: Passing literal html to 'read_html' is deprecated and will be removed in a future version. To read from a literal string, wrap it in a 'StringIO' object.\n",
      "  df = pd.read_html(table_html)[0]\n"
     ]
    },
    {
     "name": "stdout",
     "output_type": "stream",
     "text": [
      "Link not found or unable to click for URL: https://www.estimize.com/PG/fq3-2021?metric_name=eps&chart=historical\n"
     ]
    },
    {
     "name": "stderr",
     "output_type": "stream",
     "text": [
      "C:\\Users\\mhunt\\AppData\\Local\\Temp\\ipykernel_7800\\329258333.py:29: FutureWarning: Passing literal html to 'read_html' is deprecated and will be removed in a future version. To read from a literal string, wrap it in a 'StringIO' object.\n",
      "  df = pd.read_html(table_html)[0]\n"
     ]
    },
    {
     "name": "stdout",
     "output_type": "stream",
     "text": [
      "Table found and converted to DataFrame for URL: https://www.estimize.com/PG/fq3-2021?metric_name=eps&chart=historical\n",
      "Link not found or unable to click for URL: https://www.estimize.com/PG/fq4-2021?metric_name=eps&chart=historical\n",
      "Table found and converted to DataFrame for URL: https://www.estimize.com/PG/fq4-2021?metric_name=eps&chart=historical\n"
     ]
    },
    {
     "name": "stderr",
     "output_type": "stream",
     "text": [
      "C:\\Users\\mhunt\\AppData\\Local\\Temp\\ipykernel_7800\\329258333.py:29: FutureWarning: Passing literal html to 'read_html' is deprecated and will be removed in a future version. To read from a literal string, wrap it in a 'StringIO' object.\n",
      "  df = pd.read_html(table_html)[0]\n"
     ]
    },
    {
     "name": "stdout",
     "output_type": "stream",
     "text": [
      "Link not found or unable to click for URL: https://www.estimize.com/PG/fq1-2022?metric_name=eps&chart=historical\n",
      "Table found and converted to DataFrame for URL: https://www.estimize.com/PG/fq1-2022?metric_name=eps&chart=historical\n"
     ]
    },
    {
     "name": "stderr",
     "output_type": "stream",
     "text": [
      "C:\\Users\\mhunt\\AppData\\Local\\Temp\\ipykernel_7800\\329258333.py:29: FutureWarning: Passing literal html to 'read_html' is deprecated and will be removed in a future version. To read from a literal string, wrap it in a 'StringIO' object.\n",
      "  df = pd.read_html(table_html)[0]\n"
     ]
    },
    {
     "name": "stdout",
     "output_type": "stream",
     "text": [
      "Link not found or unable to click for URL: https://www.estimize.com/PG/fq2-2022?metric_name=eps&chart=historical\n",
      "Table found and converted to DataFrame for URL: https://www.estimize.com/PG/fq2-2022?metric_name=eps&chart=historical\n"
     ]
    },
    {
     "name": "stderr",
     "output_type": "stream",
     "text": [
      "C:\\Users\\mhunt\\AppData\\Local\\Temp\\ipykernel_7800\\329258333.py:29: FutureWarning: Passing literal html to 'read_html' is deprecated and will be removed in a future version. To read from a literal string, wrap it in a 'StringIO' object.\n",
      "  df = pd.read_html(table_html)[0]\n"
     ]
    },
    {
     "name": "stdout",
     "output_type": "stream",
     "text": [
      "Link not found or unable to click for URL: https://www.estimize.com/PG/fq3-2022?metric_name=eps&chart=historical\n",
      "Table found and converted to DataFrame for URL: https://www.estimize.com/PG/fq3-2022?metric_name=eps&chart=historical\n"
     ]
    },
    {
     "name": "stderr",
     "output_type": "stream",
     "text": [
      "C:\\Users\\mhunt\\AppData\\Local\\Temp\\ipykernel_7800\\329258333.py:29: FutureWarning: Passing literal html to 'read_html' is deprecated and will be removed in a future version. To read from a literal string, wrap it in a 'StringIO' object.\n",
      "  df = pd.read_html(table_html)[0]\n"
     ]
    },
    {
     "name": "stdout",
     "output_type": "stream",
     "text": [
      "Link not found or unable to click for URL: https://www.estimize.com/PG/fq4-2022?metric_name=eps&chart=historical\n",
      "Table found and converted to DataFrame for URL: https://www.estimize.com/PG/fq4-2022?metric_name=eps&chart=historical\n"
     ]
    },
    {
     "name": "stderr",
     "output_type": "stream",
     "text": [
      "C:\\Users\\mhunt\\AppData\\Local\\Temp\\ipykernel_7800\\329258333.py:29: FutureWarning: Passing literal html to 'read_html' is deprecated and will be removed in a future version. To read from a literal string, wrap it in a 'StringIO' object.\n",
      "  df = pd.read_html(table_html)[0]\n"
     ]
    }
   ],
   "source": [
    "# Making an empty list in which to store the newly created dataframes\n",
    "eps_analyst_dfs_list = []\n",
    "\n",
    "# Iterating over the URL list and navigating to each URL in the webdriver\n",
    "for _, row in url_df.iterrows():\n",
    "    test_url = row['URL']\n",
    "    driver.get(test_url)\n",
    "\n",
    "    # Checking to see if the button at the bottom of the desired table that expands the table to all values exists (some tables only have a few entries and do not have this button)\n",
    "    try:\n",
    "        # Looking for the button for up to 10 seconds and assigning its link to the link_element variable if it is found\n",
    "        link_element = WebDriverWait(driver, 10).until(\n",
    "            EC.presence_of_element_located((By.CSS_SELECTOR, '#estimates > div > a'))\n",
    "        )\n",
    "        # Clicking the link to load the full table\n",
    "        link_element.click()\n",
    "    except:\n",
    "        # Printing that the button link was not found as well as the URL of the page to allow for followup investigation to confirm that no button was present\n",
    "        # Critically, we do not end the for loop if the button is not found, as the lack of the button could simply mean that the table was already completely present on the page when our driver loaded the page\n",
    "        print(f\"Link not found or unable to click for URL: {test_url}\")\n",
    "\n",
    "    # Selecting the table\n",
    "    try:\n",
    "        table = driver.find_element(By.CSS_SELECTOR, '#estimates > table')\n",
    "        \n",
    "        # Extracting the table data\n",
    "        table_html = table.get_attribute('outerHTML')\n",
    "\n",
    "        # Converting the table data to a pandas DataFrame\n",
    "        df = pd.read_html(table_html)[0]\n",
    "\n",
    "        # Adding new columns and filling them with identifying values\n",
    "        df['Ticker'] = row['Ticker']\n",
    "        df['Quarter'] = row['Quarter']\n",
    "        df['Year'] = row['Year']\n",
    "\n",
    "        # Appending the individual DataFrame to the combined DataFrame list created earlier\n",
    "        eps_analyst_dfs_list.append(df)\n",
    "        \n",
    "        print(f\"Table found and converted to DataFrame for URL: {test_url}\")\n",
    "    except:\n",
    "        print(f\"Table NOT found for URL: {test_url}\")\n",
    "\n",
    "# Converting the DataFrame list into a DataFrame\n",
    "combined_eps_analyst_df = pd.concat(eps_analyst_dfs_list, ignore_index=True)"
   ]
  },
  {
   "cell_type": "code",
   "execution_count": 66,
   "id": "3e2500ac-cf78-4815-8120-4dc5862f7eb5",
   "metadata": {},
   "outputs": [
    {
     "data": {
      "text/html": [
       "<div>\n",
       "<style scoped>\n",
       "    .dataframe tbody tr th:only-of-type {\n",
       "        vertical-align: middle;\n",
       "    }\n",
       "\n",
       "    .dataframe tbody tr th {\n",
       "        vertical-align: top;\n",
       "    }\n",
       "\n",
       "    .dataframe thead th {\n",
       "        text-align: right;\n",
       "    }\n",
       "</style>\n",
       "<table border=\"1\" class=\"dataframe\">\n",
       "  <thead>\n",
       "    <tr style=\"text-align: right;\">\n",
       "      <th></th>\n",
       "      <th>Chart</th>\n",
       "      <th>Unnamed: 1</th>\n",
       "      <th>Analyst</th>\n",
       "      <th>Rank</th>\n",
       "      <th>Points</th>\n",
       "      <th>Value</th>\n",
       "      <th>Confidence</th>\n",
       "      <th>Last Revised</th>\n",
       "      <th>Ticker</th>\n",
       "      <th>Quarter</th>\n",
       "      <th>Year</th>\n",
       "    </tr>\n",
       "  </thead>\n",
       "  <tbody>\n",
       "    <tr>\n",
       "      <th>0</th>\n",
       "      <td>NaN</td>\n",
       "      <td>NaN</td>\n",
       "      <td>AMZN Reported EarningsAmazon.com Inc.</td>\n",
       "      <td>NaN</td>\n",
       "      <td>NaN</td>\n",
       "      <td>0.25</td>\n",
       "      <td>0.25</td>\n",
       "      <td>04/30/20</td>\n",
       "      <td>AMZN</td>\n",
       "      <td>q1</td>\n",
       "      <td>2020</td>\n",
       "    </tr>\n",
       "    <tr>\n",
       "      <th>1</th>\n",
       "      <td>NaN</td>\n",
       "      <td>NaN</td>\n",
       "      <td>Estimize Consensus385 estimates weighted</td>\n",
       "      <td>NaN</td>\n",
       "      <td>NaN</td>\n",
       "      <td>0.33</td>\n",
       "      <td>0.33</td>\n",
       "      <td>04/30/20</td>\n",
       "      <td>AMZN</td>\n",
       "      <td>q1</td>\n",
       "      <td>2020</td>\n",
       "    </tr>\n",
       "    <tr>\n",
       "      <th>2</th>\n",
       "      <td>NaN</td>\n",
       "      <td>NaN</td>\n",
       "      <td>Estimize Mean386 estimates averaged</td>\n",
       "      <td>NaN</td>\n",
       "      <td>NaN</td>\n",
       "      <td>0.34</td>\n",
       "      <td>0.34</td>\n",
       "      <td>04/30/20</td>\n",
       "      <td>AMZN</td>\n",
       "      <td>q1</td>\n",
       "      <td>2020</td>\n",
       "    </tr>\n",
       "    <tr>\n",
       "      <th>3</th>\n",
       "      <td>NaN</td>\n",
       "      <td>NaN</td>\n",
       "      <td>Wall Street Consensus</td>\n",
       "      <td>NaN</td>\n",
       "      <td>NaN</td>\n",
       "      <td>0.31</td>\n",
       "      <td>0.31</td>\n",
       "      <td>04/30/20</td>\n",
       "      <td>AMZN</td>\n",
       "      <td>q1</td>\n",
       "      <td>2020</td>\n",
       "    </tr>\n",
       "    <tr>\n",
       "      <th>4</th>\n",
       "      <td>Show EstimateHighlight analyst in all charts</td>\n",
       "      <td>+ Follow this analyst to receive alerts about ...</td>\n",
       "      <td>FlannerFlanner</td>\n",
       "      <td>1.0</td>\n",
       "      <td>25.0</td>\n",
       "      <td>0.25</td>\n",
       "      <td>5.0</td>\n",
       "      <td>04/20/20</td>\n",
       "      <td>AMZN</td>\n",
       "      <td>q1</td>\n",
       "      <td>2020</td>\n",
       "    </tr>\n",
       "    <tr>\n",
       "      <th>...</th>\n",
       "      <td>...</td>\n",
       "      <td>...</td>\n",
       "      <td>...</td>\n",
       "      <td>...</td>\n",
       "      <td>...</td>\n",
       "      <td>...</td>\n",
       "      <td>...</td>\n",
       "      <td>...</td>\n",
       "      <td>...</td>\n",
       "      <td>...</td>\n",
       "      <td>...</td>\n",
       "    </tr>\n",
       "    <tr>\n",
       "      <th>39219</th>\n",
       "      <td>Show EstimateHighlight analyst in all charts</td>\n",
       "      <td>+ Follow this analyst to receive alerts about ...</td>\n",
       "      <td>RWDKPDRWDKPD</td>\n",
       "      <td>20.0</td>\n",
       "      <td>-6.0</td>\n",
       "      <td>1.30</td>\n",
       "      <td>5.2</td>\n",
       "      <td>06/22/22</td>\n",
       "      <td>PG</td>\n",
       "      <td>q4</td>\n",
       "      <td>2022</td>\n",
       "    </tr>\n",
       "    <tr>\n",
       "      <th>39220</th>\n",
       "      <td>Show EstimateHighlight analyst in all charts</td>\n",
       "      <td>+ Follow this analyst to receive alerts about ...</td>\n",
       "      <td>ForniForni</td>\n",
       "      <td>21.0</td>\n",
       "      <td>-6.0</td>\n",
       "      <td>1.30</td>\n",
       "      <td>5.4</td>\n",
       "      <td>07/23/22</td>\n",
       "      <td>PG</td>\n",
       "      <td>q4</td>\n",
       "      <td>2022</td>\n",
       "    </tr>\n",
       "    <tr>\n",
       "      <th>39221</th>\n",
       "      <td>Show EstimateHighlight analyst in all charts</td>\n",
       "      <td>+ Follow this analyst to receive alerts about ...</td>\n",
       "      <td>DrognessDrogness</td>\n",
       "      <td>22.0</td>\n",
       "      <td>-10.0</td>\n",
       "      <td>1.34</td>\n",
       "      <td>2.3</td>\n",
       "      <td>01/21/22</td>\n",
       "      <td>PG</td>\n",
       "      <td>q4</td>\n",
       "      <td>2022</td>\n",
       "    </tr>\n",
       "    <tr>\n",
       "      <th>39222</th>\n",
       "      <td>Show EstimateHighlight analyst in all charts</td>\n",
       "      <td>+ Follow this analyst to receive alerts about ...</td>\n",
       "      <td>Analyst_9074721Analyst_9074721</td>\n",
       "      <td>23.0</td>\n",
       "      <td>-14.0</td>\n",
       "      <td>1.37</td>\n",
       "      <td>1.6</td>\n",
       "      <td>12/12/21</td>\n",
       "      <td>PG</td>\n",
       "      <td>q4</td>\n",
       "      <td>2022</td>\n",
       "    </tr>\n",
       "    <tr>\n",
       "      <th>39223</th>\n",
       "      <td>Show EstimateHighlight analyst in all charts</td>\n",
       "      <td>+ Follow this analyst to receive alerts about ...</td>\n",
       "      <td>Shreeder Adibhatlaadiabatic</td>\n",
       "      <td>24.0</td>\n",
       "      <td>-19.0</td>\n",
       "      <td>1.40</td>\n",
       "      <td>4.6</td>\n",
       "      <td>07/03/22</td>\n",
       "      <td>PG</td>\n",
       "      <td>q4</td>\n",
       "      <td>2022</td>\n",
       "    </tr>\n",
       "  </tbody>\n",
       "</table>\n",
       "<p>39224 rows × 11 columns</p>\n",
       "</div>"
      ],
      "text/plain": [
       "                                              Chart  \\\n",
       "0                                               NaN   \n",
       "1                                               NaN   \n",
       "2                                               NaN   \n",
       "3                                               NaN   \n",
       "4      Show EstimateHighlight analyst in all charts   \n",
       "...                                             ...   \n",
       "39219  Show EstimateHighlight analyst in all charts   \n",
       "39220  Show EstimateHighlight analyst in all charts   \n",
       "39221  Show EstimateHighlight analyst in all charts   \n",
       "39222  Show EstimateHighlight analyst in all charts   \n",
       "39223  Show EstimateHighlight analyst in all charts   \n",
       "\n",
       "                                              Unnamed: 1  \\\n",
       "0                                                    NaN   \n",
       "1                                                    NaN   \n",
       "2                                                    NaN   \n",
       "3                                                    NaN   \n",
       "4      + Follow this analyst to receive alerts about ...   \n",
       "...                                                  ...   \n",
       "39219  + Follow this analyst to receive alerts about ...   \n",
       "39220  + Follow this analyst to receive alerts about ...   \n",
       "39221  + Follow this analyst to receive alerts about ...   \n",
       "39222  + Follow this analyst to receive alerts about ...   \n",
       "39223  + Follow this analyst to receive alerts about ...   \n",
       "\n",
       "                                        Analyst  Rank  Points  Value  \\\n",
       "0         AMZN Reported EarningsAmazon.com Inc.   NaN     NaN   0.25   \n",
       "1      Estimize Consensus385 estimates weighted   NaN     NaN   0.33   \n",
       "2           Estimize Mean386 estimates averaged   NaN     NaN   0.34   \n",
       "3                         Wall Street Consensus   NaN     NaN   0.31   \n",
       "4                                FlannerFlanner   1.0    25.0   0.25   \n",
       "...                                         ...   ...     ...    ...   \n",
       "39219                              RWDKPDRWDKPD  20.0    -6.0   1.30   \n",
       "39220                                ForniForni  21.0    -6.0   1.30   \n",
       "39221                          DrognessDrogness  22.0   -10.0   1.34   \n",
       "39222            Analyst_9074721Analyst_9074721  23.0   -14.0   1.37   \n",
       "39223               Shreeder Adibhatlaadiabatic  24.0   -19.0   1.40   \n",
       "\n",
       "      Confidence Last Revised Ticker Quarter  Year  \n",
       "0           0.25     04/30/20   AMZN      q1  2020  \n",
       "1           0.33     04/30/20   AMZN      q1  2020  \n",
       "2           0.34     04/30/20   AMZN      q1  2020  \n",
       "3           0.31     04/30/20   AMZN      q1  2020  \n",
       "4            5.0     04/20/20   AMZN      q1  2020  \n",
       "...          ...          ...    ...     ...   ...  \n",
       "39219        5.2     06/22/22     PG      q4  2022  \n",
       "39220        5.4     07/23/22     PG      q4  2022  \n",
       "39221        2.3     01/21/22     PG      q4  2022  \n",
       "39222        1.6     12/12/21     PG      q4  2022  \n",
       "39223        4.6     07/03/22     PG      q4  2022  \n",
       "\n",
       "[39224 rows x 11 columns]"
      ]
     },
     "execution_count": 66,
     "metadata": {},
     "output_type": "execute_result"
    }
   ],
   "source": [
    "combined_eps_analyst_df"
   ]
  },
  {
   "cell_type": "code",
   "execution_count": 67,
   "id": "8779669b-3d71-410b-8b6b-4b8309cf8f3e",
   "metadata": {},
   "outputs": [],
   "source": [
    "combined_eps_analyst_df.to_csv('combined_eps_analysts.csv')"
   ]
  },
  {
   "cell_type": "markdown",
   "id": "87f11952-b9bb-4eb3-9a8c-5b4e6379567f",
   "metadata": {},
   "source": [
    "# Pulling Individual User Information"
   ]
  },
  {
   "cell_type": "markdown",
   "id": "48ecc73f-f63f-45ac-ac3d-2e3845786a42",
   "metadata": {},
   "source": [
    "Next, we need to pull information from user profiles. We can't use the usernames that we've already collected, as the site allows users to create usernames that may or may not differ from the username that is used for their profile url. To start, we have to create a list of all users who made estimates in our previous individual estimate pull. We don't want to have duplicate users, so instead of a list, we make an empty set here. The first portion of our iteration is the same as above where we iterate over the quareterly data urls and search for and click the \"Show More\" button. This whole username set process could have been done with our first iteration, but we split it to a separate step to avoid making our code too complex. \n",
    "\n",
    "Once the driver is at the url and has fully loaded the table, we again point to the full table. This time though, we identify the table as an html table and then use BeautifulSoup to parse it. After parsing it, we use BeautifulSoup to find all elements in the table that have the object attribute 'data-user' (the url usernames we're looking for) and put them in a list called user_elements. From that list, we pull just the username portion of the elements and put them in another list called user_values. Finally, these usernames are added to original empty set. By being added to a set, which does not house duplicate values, we effectively get a list of all unique usernames. As shown below, we also pring the updated count of usernames from our set so that we can monitor if our code is running properly as it processes."
   ]
  },
  {
   "cell_type": "code",
   "execution_count": 94,
   "id": "fb2369e8-edc6-472c-9e64-5f7e49e4afe0",
   "metadata": {},
   "outputs": [
    {
     "name": "stdout",
     "output_type": "stream",
     "text": [
      "401 Total Users found after URL: https://www.estimize.com/AMZN/fq1-2020?metric_name=eps&chart=historical\n",
      "629 Total Users found after URL: https://www.estimize.com/AMZN/fq2-2020?metric_name=eps&chart=historical\n",
      "746 Total Users found after URL: https://www.estimize.com/AMZN/fq3-2020?metric_name=eps&chart=historical\n",
      "889 Total Users found after URL: https://www.estimize.com/AMZN/fq4-2020?metric_name=eps&chart=historical\n",
      "971 Total Users found after URL: https://www.estimize.com/AMZN/fq1-2021?metric_name=eps&chart=historical\n",
      "1042 Total Users found after URL: https://www.estimize.com/AMZN/fq2-2021?metric_name=eps&chart=historical\n",
      "1106 Total Users found after URL: https://www.estimize.com/AMZN/fq3-2021?metric_name=eps&chart=historical\n",
      "1225 Total Users found after URL: https://www.estimize.com/AMZN/fq4-2021?metric_name=eps&chart=historical\n",
      "1294 Total Users found after URL: https://www.estimize.com/AMZN/fq1-2022?metric_name=eps&chart=historical\n",
      "1344 Total Users found after URL: https://www.estimize.com/AMZN/fq2-2022?metric_name=eps&chart=historical\n",
      "1382 Total Users found after URL: https://www.estimize.com/AMZN/fq3-2022?metric_name=eps&chart=historical\n",
      "1427 Total Users found after URL: https://www.estimize.com/AMZN/fq4-2022?metric_name=eps&chart=historical\n",
      "1788 Total Users found after URL: https://www.estimize.com/AAPL/fq1-2020?metric_name=eps&chart=historical\n",
      "1990 Total Users found after URL: https://www.estimize.com/AAPL/fq2-2020?metric_name=eps&chart=historical\n",
      "2119 Total Users found after URL: https://www.estimize.com/AAPL/fq3-2020?metric_name=eps&chart=historical\n",
      "2256 Total Users found after URL: https://www.estimize.com/AAPL/fq4-2020?metric_name=eps&chart=historical\n",
      "2477 Total Users found after URL: https://www.estimize.com/AAPL/fq1-2021?metric_name=eps&chart=historical\n",
      "2690 Total Users found after URL: https://www.estimize.com/AAPL/fq2-2021?metric_name=eps&chart=historical\n",
      "2782 Total Users found after URL: https://www.estimize.com/AAPL/fq3-2021?metric_name=eps&chart=historical\n",
      "2860 Total Users found after URL: https://www.estimize.com/AAPL/fq4-2021?metric_name=eps&chart=historical\n",
      "2946 Total Users found after URL: https://www.estimize.com/AAPL/fq1-2022?metric_name=eps&chart=historical\n",
      "3032 Total Users found after URL: https://www.estimize.com/AAPL/fq2-2022?metric_name=eps&chart=historical\n",
      "3085 Total Users found after URL: https://www.estimize.com/AAPL/fq3-2022?metric_name=eps&chart=historical\n",
      "3134 Total Users found after URL: https://www.estimize.com/AAPL/fq4-2022?metric_name=eps&chart=historical\n",
      "3281 Total Users found after URL: https://www.estimize.com/MSFT/fq1-2020?metric_name=eps&chart=historical\n",
      "3347 Total Users found after URL: https://www.estimize.com/MSFT/fq2-2020?metric_name=eps&chart=historical\n",
      "3444 Total Users found after URL: https://www.estimize.com/MSFT/fq3-2020?metric_name=eps&chart=historical\n",
      "3564 Total Users found after URL: https://www.estimize.com/MSFT/fq4-2020?metric_name=eps&chart=historical\n",
      "3614 Total Users found after URL: https://www.estimize.com/MSFT/fq1-2021?metric_name=eps&chart=historical\n",
      "3655 Total Users found after URL: https://www.estimize.com/MSFT/fq2-2021?metric_name=eps&chart=historical\n",
      "3690 Total Users found after URL: https://www.estimize.com/MSFT/fq3-2021?metric_name=eps&chart=historical\n",
      "3716 Total Users found after URL: https://www.estimize.com/MSFT/fq4-2021?metric_name=eps&chart=historical\n",
      "3746 Total Users found after URL: https://www.estimize.com/MSFT/fq1-2022?metric_name=eps&chart=historical\n",
      "3796 Total Users found after URL: https://www.estimize.com/MSFT/fq2-2022?metric_name=eps&chart=historical\n",
      "3824 Total Users found after URL: https://www.estimize.com/MSFT/fq3-2022?metric_name=eps&chart=historical\n",
      "3839 Total Users found after URL: https://www.estimize.com/MSFT/fq4-2022?metric_name=eps&chart=historical\n",
      "3947 Total Users found after URL: https://www.estimize.com/GOOG/fq1-2020?metric_name=eps&chart=historical\n",
      "4001 Total Users found after URL: https://www.estimize.com/GOOG/fq2-2020?metric_name=eps&chart=historical\n",
      "4034 Total Users found after URL: https://www.estimize.com/GOOG/fq3-2020?metric_name=eps&chart=historical\n",
      "4050 Total Users found after URL: https://www.estimize.com/GOOG/fq4-2020?metric_name=eps&chart=historical\n",
      "4078 Total Users found after URL: https://www.estimize.com/GOOG/fq1-2021?metric_name=eps&chart=historical\n",
      "4094 Total Users found after URL: https://www.estimize.com/GOOG/fq2-2021?metric_name=eps&chart=historical\n",
      "4112 Total Users found after URL: https://www.estimize.com/GOOG/fq3-2021?metric_name=eps&chart=historical\n",
      "4136 Total Users found after URL: https://www.estimize.com/GOOG/fq4-2021?metric_name=eps&chart=historical\n",
      "4173 Total Users found after URL: https://www.estimize.com/GOOG/fq1-2022?metric_name=eps&chart=historical\n",
      "4195 Total Users found after URL: https://www.estimize.com/GOOG/fq2-2022?metric_name=eps&chart=historical\n",
      "4214 Total Users found after URL: https://www.estimize.com/GOOG/fq3-2022?metric_name=eps&chart=historical\n",
      "4245 Total Users found after URL: https://www.estimize.com/GOOG/fq4-2022?metric_name=eps&chart=historical\n",
      "4566 Total Users found after URL: https://www.estimize.com/TSLA/fq1-2020?metric_name=eps&chart=historical\n",
      "4885 Total Users found after URL: https://www.estimize.com/TSLA/fq2-2020?metric_name=eps&chart=historical\n",
      "5060 Total Users found after URL: https://www.estimize.com/TSLA/fq3-2020?metric_name=eps&chart=historical\n",
      "5174 Total Users found after URL: https://www.estimize.com/TSLA/fq4-2020?metric_name=eps&chart=historical\n",
      "5267 Total Users found after URL: https://www.estimize.com/TSLA/fq1-2021?metric_name=eps&chart=historical\n",
      "5351 Total Users found after URL: https://www.estimize.com/TSLA/fq2-2021?metric_name=eps&chart=historical\n",
      "5437 Total Users found after URL: https://www.estimize.com/TSLA/fq3-2021?metric_name=eps&chart=historical\n",
      "5542 Total Users found after URL: https://www.estimize.com/TSLA/fq4-2021?metric_name=eps&chart=historical\n",
      "5602 Total Users found after URL: https://www.estimize.com/TSLA/fq1-2022?metric_name=eps&chart=historical\n",
      "5671 Total Users found after URL: https://www.estimize.com/TSLA/fq2-2022?metric_name=eps&chart=historical\n",
      "5733 Total Users found after URL: https://www.estimize.com/TSLA/fq3-2022?metric_name=eps&chart=historical\n",
      "5812 Total Users found after URL: https://www.estimize.com/TSLA/fq4-2022?metric_name=eps&chart=historical\n",
      "5828 Total Users found after URL: https://www.estimize.com/JNJ/fq1-2020?metric_name=eps&chart=historical\n",
      "5841 Total Users found after URL: https://www.estimize.com/JNJ/fq2-2020?metric_name=eps&chart=historical\n",
      "5847 Total Users found after URL: https://www.estimize.com/JNJ/fq3-2020?metric_name=eps&chart=historical\n",
      "5850 Total Users found after URL: https://www.estimize.com/JNJ/fq4-2020?metric_name=eps&chart=historical\n",
      "5853 Total Users found after URL: https://www.estimize.com/JNJ/fq1-2021?metric_name=eps&chart=historical\n",
      "Link not found or unable to click for URL: https://www.estimize.com/JNJ/fq2-2021?metric_name=eps&chart=historical\n",
      "5856 Total Users found after URL: https://www.estimize.com/JNJ/fq2-2021?metric_name=eps&chart=historical\n",
      "5859 Total Users found after URL: https://www.estimize.com/JNJ/fq3-2021?metric_name=eps&chart=historical\n",
      "5864 Total Users found after URL: https://www.estimize.com/JNJ/fq4-2021?metric_name=eps&chart=historical\n",
      "5865 Total Users found after URL: https://www.estimize.com/JNJ/fq1-2022?metric_name=eps&chart=historical\n",
      "5869 Total Users found after URL: https://www.estimize.com/JNJ/fq2-2022?metric_name=eps&chart=historical\n",
      "5870 Total Users found after URL: https://www.estimize.com/JNJ/fq3-2022?metric_name=eps&chart=historical\n",
      "5870 Total Users found after URL: https://www.estimize.com/JNJ/fq4-2022?metric_name=eps&chart=historical\n",
      "5881 Total Users found after URL: https://www.estimize.com/PG/fq1-2020?metric_name=eps&chart=historical\n",
      "5886 Total Users found after URL: https://www.estimize.com/PG/fq2-2020?metric_name=eps&chart=historical\n",
      "5888 Total Users found after URL: https://www.estimize.com/PG/fq3-2020?metric_name=eps&chart=historical\n",
      "5892 Total Users found after URL: https://www.estimize.com/PG/fq4-2020?metric_name=eps&chart=historical\n",
      "Link not found or unable to click for URL: https://www.estimize.com/PG/fq1-2021?metric_name=eps&chart=historical\n",
      "5893 Total Users found after URL: https://www.estimize.com/PG/fq1-2021?metric_name=eps&chart=historical\n",
      "Link not found or unable to click for URL: https://www.estimize.com/PG/fq2-2021?metric_name=eps&chart=historical\n",
      "5899 Total Users found after URL: https://www.estimize.com/PG/fq2-2021?metric_name=eps&chart=historical\n",
      "Link not found or unable to click for URL: https://www.estimize.com/PG/fq3-2021?metric_name=eps&chart=historical\n",
      "5903 Total Users found after URL: https://www.estimize.com/PG/fq3-2021?metric_name=eps&chart=historical\n",
      "Link not found or unable to click for URL: https://www.estimize.com/PG/fq4-2021?metric_name=eps&chart=historical\n",
      "5904 Total Users found after URL: https://www.estimize.com/PG/fq4-2021?metric_name=eps&chart=historical\n",
      "Link not found or unable to click for URL: https://www.estimize.com/PG/fq1-2022?metric_name=eps&chart=historical\n",
      "5904 Total Users found after URL: https://www.estimize.com/PG/fq1-2022?metric_name=eps&chart=historical\n",
      "Link not found or unable to click for URL: https://www.estimize.com/PG/fq2-2022?metric_name=eps&chart=historical\n",
      "5904 Total Users found after URL: https://www.estimize.com/PG/fq2-2022?metric_name=eps&chart=historical\n",
      "Link not found or unable to click for URL: https://www.estimize.com/PG/fq3-2022?metric_name=eps&chart=historical\n",
      "5904 Total Users found after URL: https://www.estimize.com/PG/fq3-2022?metric_name=eps&chart=historical\n",
      "Link not found or unable to click for URL: https://www.estimize.com/PG/fq4-2022?metric_name=eps&chart=historical\n",
      "5906 Total Users found after URL: https://www.estimize.com/PG/fq4-2022?metric_name=eps&chart=historical\n",
      "6084 Total Users found after URL: https://www.estimize.com/NVDA/fq1-2020?metric_name=eps&chart=historical\n",
      "6173 Total Users found after URL: https://www.estimize.com/NVDA/fq2-2020?metric_name=eps&chart=historical\n",
      "6245 Total Users found after URL: https://www.estimize.com/NVDA/fq3-2020?metric_name=eps&chart=historical\n",
      "6307 Total Users found after URL: https://www.estimize.com/NVDA/fq4-2020?metric_name=eps&chart=historical\n",
      "6371 Total Users found after URL: https://www.estimize.com/NVDA/fq1-2021?metric_name=eps&chart=historical\n",
      "6424 Total Users found after URL: https://www.estimize.com/NVDA/fq2-2021?metric_name=eps&chart=historical\n",
      "6459 Total Users found after URL: https://www.estimize.com/NVDA/fq3-2021?metric_name=eps&chart=historical\n",
      "6512 Total Users found after URL: https://www.estimize.com/NVDA/fq4-2021?metric_name=eps&chart=historical\n",
      "6551 Total Users found after URL: https://www.estimize.com/NVDA/fq1-2022?metric_name=eps&chart=historical\n",
      "6584 Total Users found after URL: https://www.estimize.com/NVDA/fq2-2022?metric_name=eps&chart=historical\n",
      "6630 Total Users found after URL: https://www.estimize.com/NVDA/fq3-2022?metric_name=eps&chart=historical\n",
      "6669 Total Users found after URL: https://www.estimize.com/NVDA/fq4-2022?metric_name=eps&chart=historical\n",
      "6705 Total Users found after URL: https://www.estimize.com/CSCO/fq1-2020?metric_name=eps&chart=historical\n",
      "6719 Total Users found after URL: https://www.estimize.com/CSCO/fq2-2020?metric_name=eps&chart=historical\n",
      "6745 Total Users found after URL: https://www.estimize.com/CSCO/fq3-2020?metric_name=eps&chart=historical\n",
      "6763 Total Users found after URL: https://www.estimize.com/CSCO/fq4-2020?metric_name=eps&chart=historical\n",
      "6779 Total Users found after URL: https://www.estimize.com/CSCO/fq1-2021?metric_name=eps&chart=historical\n",
      "6785 Total Users found after URL: https://www.estimize.com/CSCO/fq2-2021?metric_name=eps&chart=historical\n",
      "6790 Total Users found after URL: https://www.estimize.com/CSCO/fq3-2021?metric_name=eps&chart=historical\n",
      "6796 Total Users found after URL: https://www.estimize.com/CSCO/fq4-2021?metric_name=eps&chart=historical\n",
      "6804 Total Users found after URL: https://www.estimize.com/CSCO/fq1-2022?metric_name=eps&chart=historical\n",
      "6805 Total Users found after URL: https://www.estimize.com/CSCO/fq2-2022?metric_name=eps&chart=historical\n",
      "6810 Total Users found after URL: https://www.estimize.com/CSCO/fq3-2022?metric_name=eps&chart=historical\n",
      "6814 Total Users found after URL: https://www.estimize.com/CSCO/fq4-2022?metric_name=eps&chart=historical\n",
      "6873 Total Users found after URL: https://www.estimize.com/BABA/fq1-2020?metric_name=eps&chart=historical\n",
      "6897 Total Users found after URL: https://www.estimize.com/BABA/fq2-2020?metric_name=eps&chart=historical\n",
      "6935 Total Users found after URL: https://www.estimize.com/BABA/fq3-2020?metric_name=eps&chart=historical\n",
      "6991 Total Users found after URL: https://www.estimize.com/BABA/fq4-2020?metric_name=eps&chart=historical\n",
      "7021 Total Users found after URL: https://www.estimize.com/BABA/fq1-2021?metric_name=eps&chart=historical\n",
      "7029 Total Users found after URL: https://www.estimize.com/BABA/fq2-2021?metric_name=eps&chart=historical\n",
      "7047 Total Users found after URL: https://www.estimize.com/BABA/fq3-2021?metric_name=eps&chart=historical\n",
      "7071 Total Users found after URL: https://www.estimize.com/BABA/fq4-2021?metric_name=eps&chart=historical\n",
      "7102 Total Users found after URL: https://www.estimize.com/BABA/fq1-2022?metric_name=eps&chart=historical\n",
      "7159 Total Users found after URL: https://www.estimize.com/BABA/fq2-2022?metric_name=eps&chart=historical\n",
      "7205 Total Users found after URL: https://www.estimize.com/BABA/fq3-2022?metric_name=eps&chart=historical\n",
      "7233 Total Users found after URL: https://www.estimize.com/BABA/fq4-2022?metric_name=eps&chart=historical\n",
      "7251 Total Users found after URL: https://www.estimize.com/HD/fq1-2020?metric_name=eps&chart=historical\n",
      "7255 Total Users found after URL: https://www.estimize.com/HD/fq2-2020?metric_name=eps&chart=historical\n",
      "7260 Total Users found after URL: https://www.estimize.com/HD/fq3-2020?metric_name=eps&chart=historical\n",
      "7265 Total Users found after URL: https://www.estimize.com/HD/fq4-2020?metric_name=eps&chart=historical\n",
      "7268 Total Users found after URL: https://www.estimize.com/HD/fq1-2021?metric_name=eps&chart=historical\n",
      "7270 Total Users found after URL: https://www.estimize.com/HD/fq2-2021?metric_name=eps&chart=historical\n",
      "7276 Total Users found after URL: https://www.estimize.com/HD/fq3-2021?metric_name=eps&chart=historical\n",
      "7280 Total Users found after URL: https://www.estimize.com/HD/fq4-2021?metric_name=eps&chart=historical\n",
      "7283 Total Users found after URL: https://www.estimize.com/HD/fq1-2022?metric_name=eps&chart=historical\n",
      "7287 Total Users found after URL: https://www.estimize.com/HD/fq2-2022?metric_name=eps&chart=historical\n",
      "7290 Total Users found after URL: https://www.estimize.com/HD/fq3-2022?metric_name=eps&chart=historical\n",
      "7291 Total Users found after URL: https://www.estimize.com/HD/fq4-2022?metric_name=eps&chart=historical\n",
      "7316 Total Users found after URL: https://www.estimize.com/BIDU/fq1-2020?metric_name=eps&chart=historical\n",
      "7328 Total Users found after URL: https://www.estimize.com/BIDU/fq2-2020?metric_name=eps&chart=historical\n",
      "7338 Total Users found after URL: https://www.estimize.com/BIDU/fq3-2020?metric_name=eps&chart=historical\n",
      "7351 Total Users found after URL: https://www.estimize.com/BIDU/fq4-2020?metric_name=eps&chart=historical\n",
      "7357 Total Users found after URL: https://www.estimize.com/BIDU/fq1-2021?metric_name=eps&chart=historical\n",
      "7358 Total Users found after URL: https://www.estimize.com/BIDU/fq2-2021?metric_name=eps&chart=historical\n",
      "7362 Total Users found after URL: https://www.estimize.com/BIDU/fq3-2021?metric_name=eps&chart=historical\n",
      "7366 Total Users found after URL: https://www.estimize.com/BIDU/fq4-2021?metric_name=eps&chart=historical\n",
      "7369 Total Users found after URL: https://www.estimize.com/BIDU/fq1-2022?metric_name=eps&chart=historical\n",
      "7372 Total Users found after URL: https://www.estimize.com/BIDU/fq2-2022?metric_name=eps&chart=historical\n",
      "7379 Total Users found after URL: https://www.estimize.com/BIDU/fq3-2022?metric_name=eps&chart=historical\n",
      "Link not found or unable to click for URL: https://www.estimize.com/BIDU/fq4-2022?metric_name=eps&chart=historical\n",
      "7381 Total Users found after URL: https://www.estimize.com/BIDU/fq4-2022?metric_name=eps&chart=historical\n",
      "7408 Total Users found after URL: https://www.estimize.com/WMT/fq1-2020?metric_name=eps&chart=historical\n",
      "7421 Total Users found after URL: https://www.estimize.com/WMT/fq2-2020?metric_name=eps&chart=historical\n",
      "7434 Total Users found after URL: https://www.estimize.com/WMT/fq3-2020?metric_name=eps&chart=historical\n",
      "7450 Total Users found after URL: https://www.estimize.com/WMT/fq4-2020?metric_name=eps&chart=historical\n",
      "7462 Total Users found after URL: https://www.estimize.com/WMT/fq1-2021?metric_name=eps&chart=historical\n",
      "7473 Total Users found after URL: https://www.estimize.com/WMT/fq2-2021?metric_name=eps&chart=historical\n",
      "7476 Total Users found after URL: https://www.estimize.com/WMT/fq3-2021?metric_name=eps&chart=historical\n",
      "7481 Total Users found after URL: https://www.estimize.com/WMT/fq4-2021?metric_name=eps&chart=historical\n",
      "7490 Total Users found after URL: https://www.estimize.com/WMT/fq1-2022?metric_name=eps&chart=historical\n",
      "7494 Total Users found after URL: https://www.estimize.com/WMT/fq2-2022?metric_name=eps&chart=historical\n",
      "7499 Total Users found after URL: https://www.estimize.com/WMT/fq3-2022?metric_name=eps&chart=historical\n",
      "7503 Total Users found after URL: https://www.estimize.com/WMT/fq4-2022?metric_name=eps&chart=historical\n",
      "7569 Total Users found after URL: https://www.estimize.com/CRM/fq1-2020?metric_name=eps&chart=historical\n",
      "7612 Total Users found after URL: https://www.estimize.com/CRM/fq2-2020?metric_name=eps&chart=historical\n",
      "7641 Total Users found after URL: https://www.estimize.com/CRM/fq3-2020?metric_name=eps&chart=historical\n",
      "7658 Total Users found after URL: https://www.estimize.com/CRM/fq4-2020?metric_name=eps&chart=historical\n",
      "7679 Total Users found after URL: https://www.estimize.com/CRM/fq1-2021?metric_name=eps&chart=historical\n",
      "7693 Total Users found after URL: https://www.estimize.com/CRM/fq2-2021?metric_name=eps&chart=historical\n",
      "7702 Total Users found after URL: https://www.estimize.com/CRM/fq3-2021?metric_name=eps&chart=historical\n",
      "7715 Total Users found after URL: https://www.estimize.com/CRM/fq4-2021?metric_name=eps&chart=historical\n",
      "7720 Total Users found after URL: https://www.estimize.com/CRM/fq1-2022?metric_name=eps&chart=historical\n",
      "7726 Total Users found after URL: https://www.estimize.com/CRM/fq2-2022?metric_name=eps&chart=historical\n",
      "7732 Total Users found after URL: https://www.estimize.com/CRM/fq3-2022?metric_name=eps&chart=historical\n",
      "7745 Total Users found after URL: https://www.estimize.com/CRM/fq4-2022?metric_name=eps&chart=historical\n",
      "7781 Total Users found after URL: https://www.estimize.com/LULU/fq1-2020?metric_name=eps&chart=historical\n",
      "7804 Total Users found after URL: https://www.estimize.com/LULU/fq2-2020?metric_name=eps&chart=historical\n",
      "7838 Total Users found after URL: https://www.estimize.com/LULU/fq3-2020?metric_name=eps&chart=historical\n",
      "7846 Total Users found after URL: https://www.estimize.com/LULU/fq4-2020?metric_name=eps&chart=historical\n",
      "7849 Total Users found after URL: https://www.estimize.com/LULU/fq1-2021?metric_name=eps&chart=historical\n",
      "7863 Total Users found after URL: https://www.estimize.com/LULU/fq2-2021?metric_name=eps&chart=historical\n",
      "7869 Total Users found after URL: https://www.estimize.com/LULU/fq3-2021?metric_name=eps&chart=historical\n",
      "7878 Total Users found after URL: https://www.estimize.com/LULU/fq4-2021?metric_name=eps&chart=historical\n",
      "7880 Total Users found after URL: https://www.estimize.com/LULU/fq1-2022?metric_name=eps&chart=historical\n",
      "7881 Total Users found after URL: https://www.estimize.com/LULU/fq2-2022?metric_name=eps&chart=historical\n",
      "7890 Total Users found after URL: https://www.estimize.com/LULU/fq3-2022?metric_name=eps&chart=historical\n",
      "7894 Total Users found after URL: https://www.estimize.com/LULU/fq4-2022?metric_name=eps&chart=historical\n",
      "7900 Total Users found after URL: https://www.estimize.com/TGT/fq1-2020?metric_name=eps&chart=historical\n",
      "Link not found or unable to click for URL: https://www.estimize.com/TGT/fq2-2020?metric_name=eps&chart=historical\n",
      "7904 Total Users found after URL: https://www.estimize.com/TGT/fq2-2020?metric_name=eps&chart=historical\n",
      "Link not found or unable to click for URL: https://www.estimize.com/TGT/fq3-2020?metric_name=eps&chart=historical\n",
      "7905 Total Users found after URL: https://www.estimize.com/TGT/fq3-2020?metric_name=eps&chart=historical\n",
      "7911 Total Users found after URL: https://www.estimize.com/TGT/fq4-2020?metric_name=eps&chart=historical\n",
      "Link not found or unable to click for URL: https://www.estimize.com/TGT/fq1-2021?metric_name=eps&chart=historical\n",
      "7911 Total Users found after URL: https://www.estimize.com/TGT/fq1-2021?metric_name=eps&chart=historical\n",
      "Link not found or unable to click for URL: https://www.estimize.com/TGT/fq2-2021?metric_name=eps&chart=historical\n",
      "7911 Total Users found after URL: https://www.estimize.com/TGT/fq2-2021?metric_name=eps&chart=historical\n",
      "7913 Total Users found after URL: https://www.estimize.com/TGT/fq3-2021?metric_name=eps&chart=historical\n",
      "Link not found or unable to click for URL: https://www.estimize.com/TGT/fq4-2021?metric_name=eps&chart=historical\n",
      "7916 Total Users found after URL: https://www.estimize.com/TGT/fq4-2021?metric_name=eps&chart=historical\n",
      "Link not found or unable to click for URL: https://www.estimize.com/TGT/fq1-2022?metric_name=eps&chart=historical\n",
      "7918 Total Users found after URL: https://www.estimize.com/TGT/fq1-2022?metric_name=eps&chart=historical\n",
      "Link not found or unable to click for URL: https://www.estimize.com/TGT/fq2-2022?metric_name=eps&chart=historical\n",
      "7923 Total Users found after URL: https://www.estimize.com/TGT/fq2-2022?metric_name=eps&chart=historical\n",
      "Link not found or unable to click for URL: https://www.estimize.com/TGT/fq3-2022?metric_name=eps&chart=historical\n",
      "7924 Total Users found after URL: https://www.estimize.com/TGT/fq3-2022?metric_name=eps&chart=historical\n",
      "Link not found or unable to click for URL: https://www.estimize.com/TGT/fq4-2022?metric_name=eps&chart=historical\n",
      "7925 Total Users found after URL: https://www.estimize.com/TGT/fq4-2022?metric_name=eps&chart=historical\n",
      "7942 Total Users found after URL: https://www.estimize.com/PANW/fq1-2020?metric_name=eps&chart=historical\n",
      "7946 Total Users found after URL: https://www.estimize.com/PANW/fq2-2020?metric_name=eps&chart=historical\n",
      "7949 Total Users found after URL: https://www.estimize.com/PANW/fq3-2020?metric_name=eps&chart=historical\n",
      "7956 Total Users found after URL: https://www.estimize.com/PANW/fq4-2020?metric_name=eps&chart=historical\n",
      "7960 Total Users found after URL: https://www.estimize.com/PANW/fq1-2021?metric_name=eps&chart=historical\n",
      "7962 Total Users found after URL: https://www.estimize.com/PANW/fq2-2021?metric_name=eps&chart=historical\n",
      "7963 Total Users found after URL: https://www.estimize.com/PANW/fq3-2021?metric_name=eps&chart=historical\n",
      "7964 Total Users found after URL: https://www.estimize.com/PANW/fq4-2021?metric_name=eps&chart=historical\n",
      "7966 Total Users found after URL: https://www.estimize.com/PANW/fq1-2022?metric_name=eps&chart=historical\n",
      "7969 Total Users found after URL: https://www.estimize.com/PANW/fq2-2022?metric_name=eps&chart=historical\n",
      "7972 Total Users found after URL: https://www.estimize.com/PANW/fq3-2022?metric_name=eps&chart=historical\n",
      "7974 Total Users found after URL: https://www.estimize.com/PANW/fq4-2022?metric_name=eps&chart=historical\n",
      "7985 Total Users found after URL: https://www.estimize.com/ADBE/fq1-2020?metric_name=eps&chart=historical\n",
      "8001 Total Users found after URL: https://www.estimize.com/ADBE/fq2-2020?metric_name=eps&chart=historical\n",
      "8016 Total Users found after URL: https://www.estimize.com/ADBE/fq3-2020?metric_name=eps&chart=historical\n",
      "8046 Total Users found after URL: https://www.estimize.com/ADBE/fq4-2020?metric_name=eps&chart=historical\n",
      "8059 Total Users found after URL: https://www.estimize.com/ADBE/fq1-2021?metric_name=eps&chart=historical\n",
      "8066 Total Users found after URL: https://www.estimize.com/ADBE/fq2-2021?metric_name=eps&chart=historical\n",
      "8070 Total Users found after URL: https://www.estimize.com/ADBE/fq3-2021?metric_name=eps&chart=historical\n",
      "8081 Total Users found after URL: https://www.estimize.com/ADBE/fq4-2021?metric_name=eps&chart=historical\n",
      "8087 Total Users found after URL: https://www.estimize.com/ADBE/fq1-2022?metric_name=eps&chart=historical\n",
      "8092 Total Users found after URL: https://www.estimize.com/ADBE/fq2-2022?metric_name=eps&chart=historical\n",
      "8094 Total Users found after URL: https://www.estimize.com/ADBE/fq3-2022?metric_name=eps&chart=historical\n",
      "8100 Total Users found after URL: https://www.estimize.com/ADBE/fq4-2022?metric_name=eps&chart=historical\n",
      "8109 Total Users found after URL: https://www.estimize.com/VMW/fq1-2020?metric_name=eps&chart=historical\n",
      "8120 Total Users found after URL: https://www.estimize.com/VMW/fq2-2020?metric_name=eps&chart=historical\n",
      "8123 Total Users found after URL: https://www.estimize.com/VMW/fq3-2020?metric_name=eps&chart=historical\n",
      "8130 Total Users found after URL: https://www.estimize.com/VMW/fq4-2020?metric_name=eps&chart=historical\n",
      "8135 Total Users found after URL: https://www.estimize.com/VMW/fq1-2021?metric_name=eps&chart=historical\n",
      "8141 Total Users found after URL: https://www.estimize.com/VMW/fq2-2021?metric_name=eps&chart=historical\n",
      "8142 Total Users found after URL: https://www.estimize.com/VMW/fq3-2021?metric_name=eps&chart=historical\n",
      "Link not found or unable to click for URL: https://www.estimize.com/VMW/fq4-2021?metric_name=eps&chart=historical\n",
      "8143 Total Users found after URL: https://www.estimize.com/VMW/fq4-2021?metric_name=eps&chart=historical\n",
      "8145 Total Users found after URL: https://www.estimize.com/VMW/fq1-2022?metric_name=eps&chart=historical\n",
      "Link not found or unable to click for URL: https://www.estimize.com/VMW/fq2-2022?metric_name=eps&chart=historical\n",
      "8147 Total Users found after URL: https://www.estimize.com/VMW/fq2-2022?metric_name=eps&chart=historical\n",
      "8149 Total Users found after URL: https://www.estimize.com/VMW/fq3-2022?metric_name=eps&chart=historical\n",
      "Link not found or unable to click for URL: https://www.estimize.com/VMW/fq4-2022?metric_name=eps&chart=historical\n",
      "8149 Total Users found after URL: https://www.estimize.com/VMW/fq4-2022?metric_name=eps&chart=historical\n",
      "8214 Total Users found after URL: https://www.estimize.com/MU/fq1-2020?metric_name=eps&chart=historical\n",
      "8233 Total Users found after URL: https://www.estimize.com/MU/fq2-2020?metric_name=eps&chart=historical\n",
      "8258 Total Users found after URL: https://www.estimize.com/MU/fq3-2020?metric_name=eps&chart=historical\n",
      "8282 Total Users found after URL: https://www.estimize.com/MU/fq4-2020?metric_name=eps&chart=historical\n",
      "8300 Total Users found after URL: https://www.estimize.com/MU/fq1-2021?metric_name=eps&chart=historical\n",
      "8320 Total Users found after URL: https://www.estimize.com/MU/fq2-2021?metric_name=eps&chart=historical\n",
      "8340 Total Users found after URL: https://www.estimize.com/MU/fq3-2021?metric_name=eps&chart=historical\n",
      "8355 Total Users found after URL: https://www.estimize.com/MU/fq4-2021?metric_name=eps&chart=historical\n",
      "8373 Total Users found after URL: https://www.estimize.com/MU/fq1-2022?metric_name=eps&chart=historical\n",
      "8384 Total Users found after URL: https://www.estimize.com/MU/fq2-2022?metric_name=eps&chart=historical\n",
      "8393 Total Users found after URL: https://www.estimize.com/MU/fq3-2022?metric_name=eps&chart=historical\n",
      "8401 Total Users found after URL: https://www.estimize.com/MU/fq4-2022?metric_name=eps&chart=historical\n",
      "8433 Total Users found after URL: https://www.estimize.com/NKE/fq1-2020?metric_name=eps&chart=historical\n",
      "8450 Total Users found after URL: https://www.estimize.com/NKE/fq2-2020?metric_name=eps&chart=historical\n",
      "8462 Total Users found after URL: https://www.estimize.com/NKE/fq3-2020?metric_name=eps&chart=historical\n",
      "8483 Total Users found after URL: https://www.estimize.com/NKE/fq4-2020?metric_name=eps&chart=historical\n",
      "8488 Total Users found after URL: https://www.estimize.com/NKE/fq1-2021?metric_name=eps&chart=historical\n",
      "8498 Total Users found after URL: https://www.estimize.com/NKE/fq2-2021?metric_name=eps&chart=historical\n",
      "8507 Total Users found after URL: https://www.estimize.com/NKE/fq3-2021?metric_name=eps&chart=historical\n",
      "8516 Total Users found after URL: https://www.estimize.com/NKE/fq4-2021?metric_name=eps&chart=historical\n",
      "8522 Total Users found after URL: https://www.estimize.com/NKE/fq1-2022?metric_name=eps&chart=historical\n",
      "8526 Total Users found after URL: https://www.estimize.com/NKE/fq2-2022?metric_name=eps&chart=historical\n",
      "8533 Total Users found after URL: https://www.estimize.com/NKE/fq3-2022?metric_name=eps&chart=historical\n",
      "8544 Total Users found after URL: https://www.estimize.com/NKE/fq4-2022?metric_name=eps&chart=historical\n",
      "8564 Total Users found after URL: https://www.estimize.com/ORCL/fq1-2020?metric_name=eps&chart=historical\n",
      "8570 Total Users found after URL: https://www.estimize.com/ORCL/fq2-2020?metric_name=eps&chart=historical\n",
      "8575 Total Users found after URL: https://www.estimize.com/ORCL/fq3-2020?metric_name=eps&chart=historical\n",
      "8590 Total Users found after URL: https://www.estimize.com/ORCL/fq4-2020?metric_name=eps&chart=historical\n",
      "8595 Total Users found after URL: https://www.estimize.com/ORCL/fq1-2021?metric_name=eps&chart=historical\n",
      "8625 Total Users found after URL: https://www.estimize.com/ORCL/fq2-2021?metric_name=eps&chart=historical\n",
      "8629 Total Users found after URL: https://www.estimize.com/ORCL/fq3-2021?metric_name=eps&chart=historical\n",
      "8631 Total Users found after URL: https://www.estimize.com/ORCL/fq4-2021?metric_name=eps&chart=historical\n",
      "8636 Total Users found after URL: https://www.estimize.com/ORCL/fq1-2022?metric_name=eps&chart=historical\n",
      "8639 Total Users found after URL: https://www.estimize.com/ORCL/fq2-2022?metric_name=eps&chart=historical\n",
      "8645 Total Users found after URL: https://www.estimize.com/ORCL/fq3-2022?metric_name=eps&chart=historical\n",
      "8649 Total Users found after URL: https://www.estimize.com/ORCL/fq4-2022?metric_name=eps&chart=historical\n",
      "8691 Total Users found after URL: https://www.estimize.com/BB/fq1-2020?metric_name=eps&chart=historical\n",
      "8707 Total Users found after URL: https://www.estimize.com/BB/fq2-2020?metric_name=eps&chart=historical\n",
      "8716 Total Users found after URL: https://www.estimize.com/BB/fq3-2020?metric_name=eps&chart=historical\n",
      "8725 Total Users found after URL: https://www.estimize.com/BB/fq4-2020?metric_name=eps&chart=historical\n",
      "8742 Total Users found after URL: https://www.estimize.com/BB/fq1-2021?metric_name=eps&chart=historical\n",
      "8759 Total Users found after URL: https://www.estimize.com/BB/fq2-2021?metric_name=eps&chart=historical\n",
      "8763 Total Users found after URL: https://www.estimize.com/BB/fq3-2021?metric_name=eps&chart=historical\n",
      "8775 Total Users found after URL: https://www.estimize.com/BB/fq4-2021?metric_name=eps&chart=historical\n",
      "8780 Total Users found after URL: https://www.estimize.com/BB/fq1-2022?metric_name=eps&chart=historical\n",
      "8786 Total Users found after URL: https://www.estimize.com/BB/fq2-2022?metric_name=eps&chart=historical\n",
      "8792 Total Users found after URL: https://www.estimize.com/BB/fq3-2022?metric_name=eps&chart=historical\n",
      "8796 Total Users found after URL: https://www.estimize.com/BB/fq4-2022?metric_name=eps&chart=historical\n",
      "8796 Total Users found after URL: https://www.estimize.com/HPQ/fq1-2020?metric_name=eps&chart=historical\n",
      "8802 Total Users found after URL: https://www.estimize.com/HPQ/fq2-2020?metric_name=eps&chart=historical\n",
      "8803 Total Users found after URL: https://www.estimize.com/HPQ/fq3-2020?metric_name=eps&chart=historical\n",
      "8804 Total Users found after URL: https://www.estimize.com/HPQ/fq4-2020?metric_name=eps&chart=historical\n",
      "Link not found or unable to click for URL: https://www.estimize.com/HPQ/fq1-2021?metric_name=eps&chart=historical\n",
      "8808 Total Users found after URL: https://www.estimize.com/HPQ/fq1-2021?metric_name=eps&chart=historical\n",
      "8810 Total Users found after URL: https://www.estimize.com/HPQ/fq2-2021?metric_name=eps&chart=historical\n",
      "Link not found or unable to click for URL: https://www.estimize.com/HPQ/fq3-2021?metric_name=eps&chart=historical\n",
      "8812 Total Users found after URL: https://www.estimize.com/HPQ/fq3-2021?metric_name=eps&chart=historical\n",
      "Link not found or unable to click for URL: https://www.estimize.com/HPQ/fq4-2021?metric_name=eps&chart=historical\n",
      "8813 Total Users found after URL: https://www.estimize.com/HPQ/fq4-2021?metric_name=eps&chart=historical\n",
      "Link not found or unable to click for URL: https://www.estimize.com/HPQ/fq1-2022?metric_name=eps&chart=historical\n",
      "8815 Total Users found after URL: https://www.estimize.com/HPQ/fq1-2022?metric_name=eps&chart=historical\n",
      "8815 Total Users found after URL: https://www.estimize.com/HPQ/fq2-2022?metric_name=eps&chart=historical\n",
      "Link not found or unable to click for URL: https://www.estimize.com/HPQ/fq3-2022?metric_name=eps&chart=historical\n",
      "8817 Total Users found after URL: https://www.estimize.com/HPQ/fq3-2022?metric_name=eps&chart=historical\n",
      "Link not found or unable to click for URL: https://www.estimize.com/HPQ/fq4-2022?metric_name=eps&chart=historical\n",
      "8817 Total Users found after URL: https://www.estimize.com/HPQ/fq4-2022?metric_name=eps&chart=historical\n",
      "8836 Total Users found after URL: https://www.estimize.com/COST/fq1-2020?metric_name=eps&chart=historical\n",
      "8840 Total Users found after URL: https://www.estimize.com/COST/fq2-2020?metric_name=eps&chart=historical\n",
      "8849 Total Users found after URL: https://www.estimize.com/COST/fq3-2020?metric_name=eps&chart=historical\n",
      "8854 Total Users found after URL: https://www.estimize.com/COST/fq4-2020?metric_name=eps&chart=historical\n",
      "8855 Total Users found after URL: https://www.estimize.com/COST/fq1-2021?metric_name=eps&chart=historical\n",
      "8861 Total Users found after URL: https://www.estimize.com/COST/fq2-2021?metric_name=eps&chart=historical\n",
      "8864 Total Users found after URL: https://www.estimize.com/COST/fq3-2021?metric_name=eps&chart=historical\n",
      "8870 Total Users found after URL: https://www.estimize.com/COST/fq4-2021?metric_name=eps&chart=historical\n",
      "8874 Total Users found after URL: https://www.estimize.com/COST/fq1-2022?metric_name=eps&chart=historical\n",
      "8878 Total Users found after URL: https://www.estimize.com/COST/fq2-2022?metric_name=eps&chart=historical\n",
      "8883 Total Users found after URL: https://www.estimize.com/COST/fq3-2022?metric_name=eps&chart=historical\n",
      "8890 Total Users found after URL: https://www.estimize.com/COST/fq4-2022?metric_name=eps&chart=historical\n",
      "8899 Total Users found after URL: https://www.estimize.com/AMAT/fq1-2020?metric_name=eps&chart=historical\n",
      "8902 Total Users found after URL: https://www.estimize.com/AMAT/fq2-2020?metric_name=eps&chart=historical\n",
      "8907 Total Users found after URL: https://www.estimize.com/AMAT/fq3-2020?metric_name=eps&chart=historical\n",
      "8911 Total Users found after URL: https://www.estimize.com/AMAT/fq4-2020?metric_name=eps&chart=historical\n",
      "8913 Total Users found after URL: https://www.estimize.com/AMAT/fq1-2021?metric_name=eps&chart=historical\n",
      "8915 Total Users found after URL: https://www.estimize.com/AMAT/fq2-2021?metric_name=eps&chart=historical\n",
      "8917 Total Users found after URL: https://www.estimize.com/AMAT/fq3-2021?metric_name=eps&chart=historical\n",
      "8919 Total Users found after URL: https://www.estimize.com/AMAT/fq4-2021?metric_name=eps&chart=historical\n",
      "8921 Total Users found after URL: https://www.estimize.com/AMAT/fq1-2022?metric_name=eps&chart=historical\n",
      "8928 Total Users found after URL: https://www.estimize.com/AMAT/fq2-2022?metric_name=eps&chart=historical\n",
      "8932 Total Users found after URL: https://www.estimize.com/AMAT/fq3-2022?metric_name=eps&chart=historical\n",
      "8933 Total Users found after URL: https://www.estimize.com/AMAT/fq4-2022?metric_name=eps&chart=historical\n",
      "8964 Total Users found after URL: https://www.estimize.com/BAC/fq1-2020?metric_name=eps&chart=historical\n",
      "8980 Total Users found after URL: https://www.estimize.com/BAC/fq2-2020?metric_name=eps&chart=historical\n",
      "8991 Total Users found after URL: https://www.estimize.com/BAC/fq3-2020?metric_name=eps&chart=historical\n",
      "8998 Total Users found after URL: https://www.estimize.com/BAC/fq4-2020?metric_name=eps&chart=historical\n",
      "9008 Total Users found after URL: https://www.estimize.com/BAC/fq1-2021?metric_name=eps&chart=historical\n",
      "9019 Total Users found after URL: https://www.estimize.com/BAC/fq2-2021?metric_name=eps&chart=historical\n",
      "9026 Total Users found after URL: https://www.estimize.com/BAC/fq3-2021?metric_name=eps&chart=historical\n",
      "9039 Total Users found after URL: https://www.estimize.com/BAC/fq4-2021?metric_name=eps&chart=historical\n",
      "9048 Total Users found after URL: https://www.estimize.com/BAC/fq1-2022?metric_name=eps&chart=historical\n",
      "9053 Total Users found after URL: https://www.estimize.com/BAC/fq2-2022?metric_name=eps&chart=historical\n",
      "9060 Total Users found after URL: https://www.estimize.com/BAC/fq3-2022?metric_name=eps&chart=historical\n",
      "9074 Total Users found after URL: https://www.estimize.com/BAC/fq4-2022?metric_name=eps&chart=historical\n",
      "9081 Total Users found after URL: https://www.estimize.com/CVX/fq1-2020?metric_name=eps&chart=historical\n",
      "9086 Total Users found after URL: https://www.estimize.com/CVX/fq2-2020?metric_name=eps&chart=historical\n",
      "Link not found or unable to click for URL: https://www.estimize.com/CVX/fq3-2020?metric_name=eps&chart=historical\n",
      "9090 Total Users found after URL: https://www.estimize.com/CVX/fq3-2020?metric_name=eps&chart=historical\n",
      "9093 Total Users found after URL: https://www.estimize.com/CVX/fq4-2020?metric_name=eps&chart=historical\n",
      "9098 Total Users found after URL: https://www.estimize.com/CVX/fq1-2021?metric_name=eps&chart=historical\n",
      "Link not found or unable to click for URL: https://www.estimize.com/CVX/fq2-2021?metric_name=eps&chart=historical\n",
      "9100 Total Users found after URL: https://www.estimize.com/CVX/fq2-2021?metric_name=eps&chart=historical\n",
      "9101 Total Users found after URL: https://www.estimize.com/CVX/fq3-2021?metric_name=eps&chart=historical\n",
      "9102 Total Users found after URL: https://www.estimize.com/CVX/fq4-2021?metric_name=eps&chart=historical\n",
      "9104 Total Users found after URL: https://www.estimize.com/CVX/fq1-2022?metric_name=eps&chart=historical\n",
      "Link not found or unable to click for URL: https://www.estimize.com/CVX/fq2-2022?metric_name=eps&chart=historical\n",
      "9104 Total Users found after URL: https://www.estimize.com/CVX/fq2-2022?metric_name=eps&chart=historical\n",
      "9105 Total Users found after URL: https://www.estimize.com/CVX/fq3-2022?metric_name=eps&chart=historical\n",
      "9107 Total Users found after URL: https://www.estimize.com/CVX/fq4-2022?metric_name=eps&chart=historical\n",
      "Link not found or unable to click for URL: https://www.estimize.com/AMGN/fq1-2020?metric_name=eps&chart=historical\n",
      "9114 Total Users found after URL: https://www.estimize.com/AMGN/fq1-2020?metric_name=eps&chart=historical\n",
      "Link not found or unable to click for URL: https://www.estimize.com/AMGN/fq2-2020?metric_name=eps&chart=historical\n",
      "9117 Total Users found after URL: https://www.estimize.com/AMGN/fq2-2020?metric_name=eps&chart=historical\n",
      "Link not found or unable to click for URL: https://www.estimize.com/AMGN/fq3-2020?metric_name=eps&chart=historical\n",
      "9123 Total Users found after URL: https://www.estimize.com/AMGN/fq3-2020?metric_name=eps&chart=historical\n",
      "Link not found or unable to click for URL: https://www.estimize.com/AMGN/fq4-2020?metric_name=eps&chart=historical\n",
      "9123 Total Users found after URL: https://www.estimize.com/AMGN/fq4-2020?metric_name=eps&chart=historical\n",
      "Link not found or unable to click for URL: https://www.estimize.com/AMGN/fq1-2021?metric_name=eps&chart=historical\n",
      "9124 Total Users found after URL: https://www.estimize.com/AMGN/fq1-2021?metric_name=eps&chart=historical\n",
      "Link not found or unable to click for URL: https://www.estimize.com/AMGN/fq2-2021?metric_name=eps&chart=historical\n",
      "9126 Total Users found after URL: https://www.estimize.com/AMGN/fq2-2021?metric_name=eps&chart=historical\n",
      "Link not found or unable to click for URL: https://www.estimize.com/AMGN/fq3-2021?metric_name=eps&chart=historical\n",
      "9130 Total Users found after URL: https://www.estimize.com/AMGN/fq3-2021?metric_name=eps&chart=historical\n",
      "9132 Total Users found after URL: https://www.estimize.com/AMGN/fq4-2021?metric_name=eps&chart=historical\n",
      "Link not found or unable to click for URL: https://www.estimize.com/AMGN/fq1-2022?metric_name=eps&chart=historical\n",
      "9133 Total Users found after URL: https://www.estimize.com/AMGN/fq1-2022?metric_name=eps&chart=historical\n",
      "Link not found or unable to click for URL: https://www.estimize.com/AMGN/fq2-2022?metric_name=eps&chart=historical\n",
      "9135 Total Users found after URL: https://www.estimize.com/AMGN/fq2-2022?metric_name=eps&chart=historical\n",
      "Link not found or unable to click for URL: https://www.estimize.com/AMGN/fq3-2022?metric_name=eps&chart=historical\n",
      "9138 Total Users found after URL: https://www.estimize.com/AMGN/fq3-2022?metric_name=eps&chart=historical\n",
      "Link not found or unable to click for URL: https://www.estimize.com/AMGN/fq4-2022?metric_name=eps&chart=historical\n",
      "9140 Total Users found after URL: https://www.estimize.com/AMGN/fq4-2022?metric_name=eps&chart=historical\n",
      "9140 Total Users found after URL: https://www.estimize.com/PG/fq1-2020?metric_name=eps&chart=historical\n",
      "9140 Total Users found after URL: https://www.estimize.com/PG/fq2-2020?metric_name=eps&chart=historical\n",
      "9140 Total Users found after URL: https://www.estimize.com/PG/fq3-2020?metric_name=eps&chart=historical\n",
      "9140 Total Users found after URL: https://www.estimize.com/PG/fq4-2020?metric_name=eps&chart=historical\n",
      "Link not found or unable to click for URL: https://www.estimize.com/PG/fq1-2021?metric_name=eps&chart=historical\n",
      "9140 Total Users found after URL: https://www.estimize.com/PG/fq1-2021?metric_name=eps&chart=historical\n",
      "Link not found or unable to click for URL: https://www.estimize.com/PG/fq2-2021?metric_name=eps&chart=historical\n",
      "9140 Total Users found after URL: https://www.estimize.com/PG/fq2-2021?metric_name=eps&chart=historical\n",
      "Link not found or unable to click for URL: https://www.estimize.com/PG/fq3-2021?metric_name=eps&chart=historical\n",
      "9140 Total Users found after URL: https://www.estimize.com/PG/fq3-2021?metric_name=eps&chart=historical\n",
      "Link not found or unable to click for URL: https://www.estimize.com/PG/fq4-2021?metric_name=eps&chart=historical\n",
      "9140 Total Users found after URL: https://www.estimize.com/PG/fq4-2021?metric_name=eps&chart=historical\n",
      "Link not found or unable to click for URL: https://www.estimize.com/PG/fq1-2022?metric_name=eps&chart=historical\n",
      "9140 Total Users found after URL: https://www.estimize.com/PG/fq1-2022?metric_name=eps&chart=historical\n",
      "Link not found or unable to click for URL: https://www.estimize.com/PG/fq2-2022?metric_name=eps&chart=historical\n",
      "9140 Total Users found after URL: https://www.estimize.com/PG/fq2-2022?metric_name=eps&chart=historical\n",
      "Link not found or unable to click for URL: https://www.estimize.com/PG/fq3-2022?metric_name=eps&chart=historical\n",
      "9140 Total Users found after URL: https://www.estimize.com/PG/fq3-2022?metric_name=eps&chart=historical\n",
      "Link not found or unable to click for URL: https://www.estimize.com/PG/fq4-2022?metric_name=eps&chart=historical\n",
      "9140 Total Users found after URL: https://www.estimize.com/PG/fq4-2022?metric_name=eps&chart=historical\n",
      "9140 Total Users found across all URLs\n"
     ]
    }
   ],
   "source": [
    "# Getting all usernames from desired ticker quarters\n",
    "\n",
    "# Creating a set in which to house the unique usernames\n",
    "unique_user_values = set()\n",
    "\n",
    "# Iterating across the URL list as before\n",
    "for _, row in url_df.iterrows():\n",
    "    test_url = row['URL']\n",
    "    driver.get(test_url)\n",
    "\n",
    "    # Checking to see if the button at the bottom of the desired table that expands the table to all values exists (some tables only have a few entries and do not have this button)\n",
    "    try:\n",
    "        # Looking for the button for up to 10 seconds and assigning its link to the link_element variable if it is found\n",
    "        link_element = WebDriverWait(driver, 10).until(\n",
    "            EC.presence_of_element_located((By.CSS_SELECTOR, '#estimates > div > a'))\n",
    "        )\n",
    "        # Clicking the link to load the full table\n",
    "        link_element.click()\n",
    "    except:\n",
    "        # Printing that the button link was not found as well as the URL of the page to allow for followup investigation to confirm that no button was present\n",
    "        # Critically, we do not end the for loop if the button is not found, as the lack of the button could simply mean that the table was already completely present on the page when our driver loaded the page\n",
    "        print(f\"Link not found or unable to click for URL: {test_url}\")\n",
    "\n",
    "    # Selecting the table\n",
    "    try:\n",
    "        table = driver.find_element(By.CSS_SELECTOR, '#estimates > table')\n",
    "        \n",
    "        # Extracting the table data\n",
    "        table_html = table.get_attribute('outerHTML')\n",
    "\n",
    "        # Parsing the data using BeautifulSoup\n",
    "        soup = BeautifulSoup(table_html, 'html.parser')\n",
    "\n",
    "        # Finding all elements in the soup object that are data-user elements (URL string to their Estimize profile page)\n",
    "        user_elements = soup.find_all(attrs={'data-user': True})\n",
    "\n",
    "        # Adding the elements to a list\n",
    "        user_values = [element['data-user'] for element in user_elements]\n",
    "\n",
    "        # Adding the list values to the previously created set, effectively eliminating duplicates\n",
    "        unique_user_values.update(user_values)\n",
    "\n",
    "        print(f\"{len(unique_user_values)} Total Users found after URL: {test_url}\")\n",
    "    except:\n",
    "        print(f\"Table NOT found for URL: {test_url}\")\n",
    "\n",
    "# Converting the set to a list\n",
    "final_unique_users = list(unique_user_values)\n",
    "print(f\"{len(final_unique_users)} Total Users found across all URLs\")"
   ]
  },
  {
   "cell_type": "markdown",
   "id": "30c34f2b-4345-40cd-825f-86633b4adddf",
   "metadata": {},
   "source": [
    "We then use csv to write our list of usernames into a csv file."
   ]
  },
  {
   "cell_type": "code",
   "execution_count": 99,
   "id": "86ef4874-e39e-4443-a73f-ea53ca2483bc",
   "metadata": {},
   "outputs": [],
   "source": [
    "# Converting the list of usernames to a CSV\n",
    "output_csv_file = 'analyst_list.csv'\n",
    "\n",
    "with open(output_csv_file, 'w', newline='') as csvfile:\n",
    "    writer = csv.writer(csvfile)\n",
    "    writer.writerow(['User'])\n",
    "    writer.writerows([[user] for user in final_unique_users])"
   ]
  },
  {
   "cell_type": "markdown",
   "id": "0951bd01-c088-420f-90e5-17b1f95eeb8c",
   "metadata": {},
   "source": [
    "We now have to pull data from the user profiles. In this version of the notebook, we pulled 1000 users, as it took ~two hours to process. While possible to pull all 9,000+ users found, we deemed the ~20 hours of computing needed to pull this data to be unnecessary for completion of the project (confirmed to be acceptable by the professor).\n",
    "\n",
    "Because we have so many users to iterate through, we need to pull all of our user data in one large iteration chunk. This setup isn't ideal, as it leads to a very complicated iteration setup, but we felt it was necessary to set the code up in this way for maximum computing efficiency.\n",
    "\n",
    "First, we need to pull general user data. We follow a familiar pattern of making an empty list and then iterating through user ursl. At the url, we tell the driver to select several different elements using the CSS selector and then we convert the values found at the locations to text and assign them to objects. These objects are added to a dictionary that contains all the general user data and then the data is added to our empty list. The one complicated value for the general data is Roles. Users can have one, two, or three roles which complicates our driver element selector process. If we just created a code to look at the selectors for the three roles, users that have fewer than three or two roles would raise an exception at the extra element selectors. To get around this issue, we make a list of the role selectors and an empty list for roles. For each user, we iterate over the three selectors in order, try to find them using the driver, and assign the found value to our empty role list if one is found. If the selector is not found (for instance if a user only has one role, and we are now checking the second selector in the iteration) the code raises an exception and responds to the exception by passing. This setup returns a list of roles for each person that is assigned along with the other general user data in the dictionary.\n",
    "\n",
    "Next, we have to pull data from each of three data tables at the bottom of the page. The issue with these tables is that they do not load until they are present on screen. Additionally, they have hidden rows and a \"Show More\" button that don't appear until the bottom row of the currently loaded data set is visible on screen. This behavior continues until all of the hidden rows have been loaded.  To get around this issue, we first have to apply a bit of logic. We want the driver to scroll down to where the first table (Stocks Covered) is when it first loops through the code. Once it's loaded and visible, we want it to look at the html code of the table in question for if there are hidden rows still present in the table. If there are hidden rows, we want the driver to scroll down again so that more data will load and the \"Show More\" button will become available. We want to repeat this process until all data is loaded. To apply the first part of the scroll logic, we created an object called first_attempt and set its value equal to True before beginning the iterations. Next, in the iterator after pulling all of the general user data, we tell our driver that if first_attempt is True (which it always is at the beginning of the iteration due to its value being set outside of the iteration), the driver should scroll down a set distance (found by trial and error) that will show the table, allowing it to load. We then set first_attempt to false and restart our if loop. Now that first_attempt is not True, we continue to the next part of our code. In this set of code, we first scroll down again to load more data that may be hidden and reveal a \"Show More\" button if there is more data to be loaded. If there is more data to be loaded, the table will have rows labeled as 'linked-row-hidden' it its html format. We tell our code to select the full table in its current state, parse it using BeautifulSoup, search for the presence of the hidden rows. If hidden rows are present, we tell the code to click the \"Show More\" button that should be present and visible on our screen due to the scrolling done at the beginning of the While loop and then restart the While loop to continue the scrolling and searching for hidden rows. Once there are no more hidden rows, the While loop breaks and we continue on to the next part of the code. Also of note, the users do not necessarily have to have this table on their profile, so if the selector returns an exception, we print that there was an issue pulling the Stocks Covered data for the specific username and then allow the code to continue on. \n",
    "\n",
    "At this point in our code, we have the Stocks Covered table selected and parsed using BeautifulSoup with the table assigned to an object called 'soup.' Unfortunately, we ran into issues with having our html parsing modules properly understand this object, so we created a workaround. This workaround changes the soup object to string type and splits it line-by-line. We then reviewed the output of this string and found a specific snippet of string ('profile-tbl-ticker') that identified the row where the ticker value is housed. From there, we figured out that the other values we wanted to pull were a consistent number of lines after the ticker line. To pull the data we want, we iterate over the soup string object searching for our ticker line identifier and pull values found in specific line counts after each line with that ticker line identifier string present. We then place the pulled values into a dictionary, convert the dictionary to a datframe, and then add the dataframe to our list of dataframes. We repeat this strategy to pull the data from the other two tables present on the page, but we remove the first_attempt logic. Launching straight into our While logic allows the driver to scroll down far enough to iniate the table's loading process."
   ]
  },
  {
   "cell_type": "code",
   "execution_count": 255,
   "id": "5de3a830-3514-4be2-842d-dd1648d59b5d",
   "metadata": {},
   "outputs": [
    {
     "name": "stdout",
     "output_type": "stream",
     "text": [
      "Stocks Covered Scrape Complete for User: analyst_3842733\n",
      "\u001b[91mError while pulling Pending Estimates for User: analyst_3842733\u001b[0m\n",
      "Pending Estimates Scrape Complete for User: analyst_3842733\n",
      "Scored Estimates Scrape Complete for User: analyst_3842733\n",
      "Time: 2023-11-26 19:51:42.349804\n",
      "Stocks Covered Scrape Complete for User: analyst_2338096\n",
      "\u001b[91mError while pulling Pending Estimates for User: analyst_2338096\u001b[0m\n",
      "Pending Estimates Scrape Complete for User: analyst_2338096\n",
      "Scored Estimates Scrape Complete for User: analyst_2338096\n",
      "Time: 2023-11-26 19:51:46.337794\n",
      "Stocks Covered Scrape Complete for User: analyst_3301237\n",
      "\u001b[91mError while pulling Pending Estimates for User: analyst_3301237\u001b[0m\n",
      "Pending Estimates Scrape Complete for User: analyst_3301237\n",
      "Scored Estimates Scrape Complete for User: analyst_3301237\n",
      "Time: 2023-11-26 19:51:50.412801\n",
      "Stocks Covered Scrape Complete for User: analyst_6873880\n",
      "\u001b[91mError while pulling Pending Estimates for User: analyst_6873880\u001b[0m\n",
      "Pending Estimates Scrape Complete for User: analyst_6873880\n",
      "Scored Estimates Scrape Complete for User: analyst_6873880\n",
      "Time: 2023-11-26 19:51:53.977340\n",
      "Stocks Covered Scrape Complete for User: analyst_8388026\n",
      "\u001b[91mError while pulling Pending Estimates for User: analyst_8388026\u001b[0m\n",
      "Pending Estimates Scrape Complete for User: analyst_8388026\n",
      "Scored Estimates Scrape Complete for User: analyst_8388026\n",
      "Time: 2023-11-26 19:51:58.108422\n",
      "\u001b[91mError while pulling Stocks Covered for User: analyst_1527324\u001b[0m\n",
      "Stocks Covered Scrape Complete for User: analyst_1527324\n",
      "\u001b[91mError while pulling Pending Estimates for User: analyst_1527324\u001b[0m\n",
      "Pending Estimates Scrape Complete for User: analyst_1527324\n",
      "Scored Estimates Scrape Complete for User: analyst_1527324\n",
      "Time: 2023-11-26 19:52:04.385136\n",
      "Stocks Covered Scrape Complete for User: analyst_1088396\n",
      "\u001b[91mError while pulling Pending Estimates for User: analyst_1088396\u001b[0m\n",
      "Pending Estimates Scrape Complete for User: analyst_1088396\n",
      "Scored Estimates Scrape Complete for User: analyst_1088396\n",
      "Time: 2023-11-26 19:52:09.017873\n",
      "Stocks Covered Scrape Complete for User: analyst_2680135\n",
      "\u001b[91mError while pulling Pending Estimates for User: analyst_2680135\u001b[0m\n",
      "Pending Estimates Scrape Complete for User: analyst_2680135\n",
      "\u001b[91mError while pulling Scored Estimates for User: analyst_2680135\u001b[0m\n",
      "Scored Estimates Scrape Complete for User: analyst_2680135\n",
      "Time: 2023-11-26 19:52:14.297146\n",
      "Stocks Covered Scrape Complete for User: analyst_9989915\n",
      "\u001b[91mError while pulling Pending Estimates for User: analyst_9989915\u001b[0m\n",
      "Pending Estimates Scrape Complete for User: analyst_9989915\n",
      "Scored Estimates Scrape Complete for User: analyst_9989915\n",
      "Time: 2023-11-26 19:52:18.105399\n",
      "Stocks Covered Scrape Complete for User: analyst_9646215\n",
      "\u001b[91mError while pulling Pending Estimates for User: analyst_9646215\u001b[0m\n",
      "Pending Estimates Scrape Complete for User: analyst_9646215\n",
      "Scored Estimates Scrape Complete for User: analyst_9646215\n",
      "Time: 2023-11-26 19:52:21.915261\n",
      "Stocks Covered Scrape Complete for User: analyst_9015636\n",
      "\u001b[91mError while pulling Pending Estimates for User: analyst_9015636\u001b[0m\n",
      "Pending Estimates Scrape Complete for User: analyst_9015636\n",
      "Scored Estimates Scrape Complete for User: analyst_9015636\n",
      "Time: 2023-11-26 19:52:25.733570\n",
      "Stocks Covered Scrape Complete for User: analyst_6919609\n",
      "\u001b[91mError while pulling Pending Estimates for User: analyst_6919609\u001b[0m\n",
      "Pending Estimates Scrape Complete for User: analyst_6919609\n",
      "Scored Estimates Scrape Complete for User: analyst_6919609\n",
      "Time: 2023-11-26 19:52:29.404198\n",
      "\u001b[91mError while pulling Stocks Covered for User: analyst_4342432\u001b[0m\n",
      "Stocks Covered Scrape Complete for User: analyst_4342432\n",
      "\u001b[91mError while pulling Pending Estimates for User: analyst_4342432\u001b[0m\n",
      "Pending Estimates Scrape Complete for User: analyst_4342432\n",
      "Scored Estimates Scrape Complete for User: analyst_4342432\n",
      "Time: 2023-11-26 19:52:35.785338\n",
      "\u001b[91mError while pulling Stocks Covered for User: analyst_8589918\u001b[0m\n",
      "Stocks Covered Scrape Complete for User: analyst_8589918\n",
      "\u001b[91mError while pulling Pending Estimates for User: analyst_8589918\u001b[0m\n",
      "Pending Estimates Scrape Complete for User: analyst_8589918\n",
      "Scored Estimates Scrape Complete for User: analyst_8589918\n",
      "Time: 2023-11-26 19:52:42.159313\n",
      "Stocks Covered Scrape Complete for User: analyst_2229464\n",
      "\u001b[91mError while pulling Pending Estimates for User: analyst_2229464\u001b[0m\n",
      "Pending Estimates Scrape Complete for User: analyst_2229464\n",
      "Scored Estimates Scrape Complete for User: analyst_2229464\n",
      "Time: 2023-11-26 19:52:45.986548\n",
      "Stocks Covered Scrape Complete for User: analyst_8016068\n",
      "\u001b[91mError while pulling Pending Estimates for User: analyst_8016068\u001b[0m\n",
      "Pending Estimates Scrape Complete for User: analyst_8016068\n",
      "Scored Estimates Scrape Complete for User: analyst_8016068\n",
      "Time: 2023-11-26 19:52:49.950986\n",
      "Stocks Covered Scrape Complete for User: micobr\n",
      "\u001b[91mError while pulling Pending Estimates for User: micobr\u001b[0m\n",
      "Pending Estimates Scrape Complete for User: micobr\n",
      "Scored Estimates Scrape Complete for User: micobr\n",
      "Time: 2023-11-26 19:52:54.429595\n",
      "Stocks Covered Scrape Complete for User: analyst_2594409\n",
      "\u001b[91mError while pulling Pending Estimates for User: analyst_2594409\u001b[0m\n",
      "Pending Estimates Scrape Complete for User: analyst_2594409\n",
      "Scored Estimates Scrape Complete for User: analyst_2594409\n",
      "Time: 2023-11-26 19:52:58.213840\n",
      "Stocks Covered Scrape Complete for User: analyst_9102864\n",
      "\u001b[91mError while pulling Pending Estimates for User: analyst_9102864\u001b[0m\n",
      "Pending Estimates Scrape Complete for User: analyst_9102864\n",
      "Scored Estimates Scrape Complete for User: analyst_9102864\n",
      "Time: 2023-11-26 19:53:01.889770\n",
      "Stocks Covered Scrape Complete for User: analyst_6651189\n",
      "\u001b[91mError while pulling Pending Estimates for User: analyst_6651189\u001b[0m\n",
      "Pending Estimates Scrape Complete for User: analyst_6651189\n",
      "Scored Estimates Scrape Complete for User: analyst_6651189\n",
      "Time: 2023-11-26 19:53:05.683045\n",
      "Stocks Covered Scrape Complete for User: analyst_6614946\n",
      "\u001b[91mError while pulling Pending Estimates for User: analyst_6614946\u001b[0m\n",
      "Pending Estimates Scrape Complete for User: analyst_6614946\n",
      "Scored Estimates Scrape Complete for User: analyst_6614946\n",
      "Time: 2023-11-26 19:53:09.384263\n",
      "Stocks Covered Scrape Complete for User: analyst_764260\n",
      "\u001b[91mError while pulling Pending Estimates for User: analyst_764260\u001b[0m\n",
      "Pending Estimates Scrape Complete for User: analyst_764260\n",
      "Scored Estimates Scrape Complete for User: analyst_764260\n",
      "Time: 2023-11-26 19:53:13.179118\n",
      "Stocks Covered Scrape Complete for User: analyst_3493056\n",
      "\u001b[91mError while pulling Pending Estimates for User: analyst_3493056\u001b[0m\n",
      "Pending Estimates Scrape Complete for User: analyst_3493056\n",
      "Scored Estimates Scrape Complete for User: analyst_3493056\n",
      "Time: 2023-11-26 19:53:17.376879\n",
      "Stocks Covered Scrape Complete for User: larrynieves\n",
      "\u001b[91mError while pulling Pending Estimates for User: larrynieves\u001b[0m\n",
      "Pending Estimates Scrape Complete for User: larrynieves\n",
      "Scored Estimates Scrape Complete for User: larrynieves\n",
      "Time: 2023-11-26 19:53:21.389715\n",
      "Stocks Covered Scrape Complete for User: analyst_3098927\n",
      "\u001b[91mError while pulling Pending Estimates for User: analyst_3098927\u001b[0m\n",
      "Pending Estimates Scrape Complete for User: analyst_3098927\n",
      "Scored Estimates Scrape Complete for User: analyst_3098927\n",
      "Time: 2023-11-26 19:53:25.142594\n",
      "Stocks Covered Scrape Complete for User: analyst_2714753\n",
      "\u001b[91mError while pulling Pending Estimates for User: analyst_2714753\u001b[0m\n",
      "Pending Estimates Scrape Complete for User: analyst_2714753\n",
      "Scored Estimates Scrape Complete for User: analyst_2714753\n",
      "Time: 2023-11-26 19:53:29.042607\n",
      "Stocks Covered Scrape Complete for User: analyst_7274067\n",
      "\u001b[91mError while pulling Pending Estimates for User: analyst_7274067\u001b[0m\n",
      "Pending Estimates Scrape Complete for User: analyst_7274067\n",
      "Scored Estimates Scrape Complete for User: analyst_7274067\n",
      "Time: 2023-11-26 19:53:32.722559\n",
      "Stocks Covered Scrape Complete for User: analyst_2713983\n",
      "\u001b[91mError while pulling Pending Estimates for User: analyst_2713983\u001b[0m\n",
      "Pending Estimates Scrape Complete for User: analyst_2713983\n",
      "Scored Estimates Scrape Complete for User: analyst_2713983\n",
      "Time: 2023-11-26 19:53:37.277514\n",
      "Stocks Covered Scrape Complete for User: analyst_9194695\n",
      "\u001b[91mError while pulling Pending Estimates for User: analyst_9194695\u001b[0m\n",
      "Pending Estimates Scrape Complete for User: analyst_9194695\n",
      "Scored Estimates Scrape Complete for User: analyst_9194695\n",
      "Time: 2023-11-26 19:53:41.067901\n",
      "Stocks Covered Scrape Complete for User: analyst_9372808\n",
      "\u001b[91mError while pulling Pending Estimates for User: analyst_9372808\u001b[0m\n",
      "Pending Estimates Scrape Complete for User: analyst_9372808\n",
      "Scored Estimates Scrape Complete for User: analyst_9372808\n",
      "Time: 2023-11-26 19:53:45.696437\n",
      "Stocks Covered Scrape Complete for User: analyst_3786041\n",
      "\u001b[91mError while pulling Pending Estimates for User: analyst_3786041\u001b[0m\n",
      "Pending Estimates Scrape Complete for User: analyst_3786041\n",
      "Scored Estimates Scrape Complete for User: analyst_3786041\n",
      "Time: 2023-11-26 19:53:49.899360\n",
      "\u001b[91mError while pulling Stocks Covered for User: analyst_5361472\u001b[0m\n",
      "Stocks Covered Scrape Complete for User: analyst_5361472\n",
      "\u001b[91mError while pulling Pending Estimates for User: analyst_5361472\u001b[0m\n",
      "Pending Estimates Scrape Complete for User: analyst_5361472\n",
      "Scored Estimates Scrape Complete for User: analyst_5361472\n",
      "Time: 2023-11-26 19:53:56.233683\n",
      "Stocks Covered Scrape Complete for User: analyst_5042722\n",
      "\u001b[91mError while pulling Pending Estimates for User: analyst_5042722\u001b[0m\n",
      "Pending Estimates Scrape Complete for User: analyst_5042722\n",
      "Scored Estimates Scrape Complete for User: analyst_5042722\n",
      "Time: 2023-11-26 19:53:59.972430\n",
      "Stocks Covered Scrape Complete for User: analyst_6076852\n",
      "\u001b[91mError while pulling Pending Estimates for User: analyst_6076852\u001b[0m\n",
      "Pending Estimates Scrape Complete for User: analyst_6076852\n",
      "\u001b[91mError while pulling Scored Estimates for User: analyst_6076852\u001b[0m\n",
      "Scored Estimates Scrape Complete for User: analyst_6076852\n",
      "Time: 2023-11-26 19:54:05.257441\n",
      "Stocks Covered Scrape Complete for User: analyst_1899708\n",
      "\u001b[91mError while pulling Pending Estimates for User: analyst_1899708\u001b[0m\n",
      "Pending Estimates Scrape Complete for User: analyst_1899708\n",
      "Scored Estimates Scrape Complete for User: analyst_1899708\n",
      "Time: 2023-11-26 19:54:08.992229\n",
      "\u001b[91mError while pulling Stocks Covered for User: analyst_6833078\u001b[0m\n",
      "Stocks Covered Scrape Complete for User: analyst_6833078\n",
      "\u001b[91mError while pulling Pending Estimates for User: analyst_6833078\u001b[0m\n",
      "Pending Estimates Scrape Complete for User: analyst_6833078\n",
      "Scored Estimates Scrape Complete for User: analyst_6833078\n",
      "Time: 2023-11-26 19:54:15.325607\n",
      "\u001b[91mError while pulling Stocks Covered for User: analyst_6279514\u001b[0m\n",
      "Stocks Covered Scrape Complete for User: analyst_6279514\n",
      "\u001b[91mError while pulling Pending Estimates for User: analyst_6279514\u001b[0m\n",
      "Pending Estimates Scrape Complete for User: analyst_6279514\n",
      "Scored Estimates Scrape Complete for User: analyst_6279514\n",
      "Time: 2023-11-26 19:54:21.717406\n",
      "Stocks Covered Scrape Complete for User: analyst_438405\n",
      "\u001b[91mError while pulling Pending Estimates for User: analyst_438405\u001b[0m\n",
      "Pending Estimates Scrape Complete for User: analyst_438405\n",
      "Scored Estimates Scrape Complete for User: analyst_438405\n",
      "Time: 2023-11-26 19:54:25.558444\n",
      "Stocks Covered Scrape Complete for User: analyst_2737040\n",
      "\u001b[91mError while pulling Pending Estimates for User: analyst_2737040\u001b[0m\n",
      "Pending Estimates Scrape Complete for User: analyst_2737040\n",
      "Scored Estimates Scrape Complete for User: analyst_2737040\n",
      "Time: 2023-11-26 19:54:29.334271\n",
      "Stocks Covered Scrape Complete for User: analyst_2355195\n",
      "\u001b[91mError while pulling Pending Estimates for User: analyst_2355195\u001b[0m\n",
      "Pending Estimates Scrape Complete for User: analyst_2355195\n",
      "Scored Estimates Scrape Complete for User: analyst_2355195\n",
      "Time: 2023-11-26 19:54:33.051365\n",
      "Stocks Covered Scrape Complete for User: analyst_1624765\n",
      "\u001b[91mError while pulling Pending Estimates for User: analyst_1624765\u001b[0m\n",
      "Pending Estimates Scrape Complete for User: analyst_1624765\n",
      "Scored Estimates Scrape Complete for User: analyst_1624765\n",
      "Time: 2023-11-26 19:54:36.789784\n",
      "Stocks Covered Scrape Complete for User: analyst_6872184\n",
      "\u001b[91mError while pulling Pending Estimates for User: analyst_6872184\u001b[0m\n",
      "Pending Estimates Scrape Complete for User: analyst_6872184\n",
      "Scored Estimates Scrape Complete for User: analyst_6872184\n",
      "Time: 2023-11-26 19:54:40.453899\n",
      "Stocks Covered Scrape Complete for User: analyst_9036590\n",
      "\u001b[91mError while pulling Pending Estimates for User: analyst_9036590\u001b[0m\n",
      "Pending Estimates Scrape Complete for User: analyst_9036590\n",
      "Scored Estimates Scrape Complete for User: analyst_9036590\n",
      "Time: 2023-11-26 19:54:44.085168\n",
      "Stocks Covered Scrape Complete for User: analyst_8342859\n",
      "\u001b[91mError while pulling Pending Estimates for User: analyst_8342859\u001b[0m\n",
      "Pending Estimates Scrape Complete for User: analyst_8342859\n",
      "Scored Estimates Scrape Complete for User: analyst_8342859\n",
      "Time: 2023-11-26 19:54:47.814318\n",
      "Stocks Covered Scrape Complete for User: r\n",
      "Pending Estimates Scrape Complete for User: r\n",
      "Scored Estimates Scrape Complete for User: r\n",
      "Time: 2023-11-26 19:54:51.756491\n",
      "Stocks Covered Scrape Complete for User: awnarog\n",
      "\u001b[91mError while pulling Pending Estimates for User: awnarog\u001b[0m\n",
      "Pending Estimates Scrape Complete for User: awnarog\n",
      "Scored Estimates Scrape Complete for User: awnarog\n",
      "Time: 2023-11-26 19:54:56.245942\n",
      "Stocks Covered Scrape Complete for User: analyst_6935218\n",
      "\u001b[91mError while pulling Pending Estimates for User: analyst_6935218\u001b[0m\n",
      "Pending Estimates Scrape Complete for User: analyst_6935218\n",
      "Scored Estimates Scrape Complete for User: analyst_6935218\n",
      "Time: 2023-11-26 19:54:59.973034\n",
      "Stocks Covered Scrape Complete for User: analyst_5090207\n",
      "\u001b[91mError while pulling Pending Estimates for User: analyst_5090207\u001b[0m\n",
      "Pending Estimates Scrape Complete for User: analyst_5090207\n",
      "Scored Estimates Scrape Complete for User: analyst_5090207\n",
      "Time: 2023-11-26 19:55:03.702651\n",
      "Stocks Covered Scrape Complete for User: analyst_283149\n",
      "\u001b[91mError while pulling Pending Estimates for User: analyst_283149\u001b[0m\n",
      "Pending Estimates Scrape Complete for User: analyst_283149\n",
      "Scored Estimates Scrape Complete for User: analyst_283149\n",
      "Time: 2023-11-26 19:55:07.397029\n",
      "Stocks Covered Scrape Complete for User: analyst_9146125\n",
      "\u001b[91mError while pulling Pending Estimates for User: analyst_9146125\u001b[0m\n",
      "Pending Estimates Scrape Complete for User: analyst_9146125\n",
      "Scored Estimates Scrape Complete for User: analyst_9146125\n",
      "Time: 2023-11-26 19:55:11.229294\n",
      "Stocks Covered Scrape Complete for User: analyst_776974\n",
      "\u001b[91mError while pulling Pending Estimates for User: analyst_776974\u001b[0m\n",
      "Pending Estimates Scrape Complete for User: analyst_776974\n",
      "Scored Estimates Scrape Complete for User: analyst_776974\n",
      "Time: 2023-11-26 19:55:15.001495\n",
      "Stocks Covered Scrape Complete for User: analyst_3679031\n",
      "\u001b[91mError while pulling Pending Estimates for User: analyst_3679031\u001b[0m\n",
      "Pending Estimates Scrape Complete for User: analyst_3679031\n",
      "Scored Estimates Scrape Complete for User: analyst_3679031\n",
      "Time: 2023-11-26 19:55:19.420551\n",
      "Stocks Covered Scrape Complete for User: analyst_9339061\n",
      "\u001b[91mError while pulling Pending Estimates for User: analyst_9339061\u001b[0m\n",
      "Pending Estimates Scrape Complete for User: analyst_9339061\n",
      "Scored Estimates Scrape Complete for User: analyst_9339061\n",
      "Time: 2023-11-26 19:55:23.231735\n",
      "Stocks Covered Scrape Complete for User: analyst_8694017\n",
      "\u001b[91mError while pulling Pending Estimates for User: analyst_8694017\u001b[0m\n",
      "Pending Estimates Scrape Complete for User: analyst_8694017\n",
      "Scored Estimates Scrape Complete for User: analyst_8694017\n",
      "Time: 2023-11-26 19:55:26.886005\n",
      "Stocks Covered Scrape Complete for User: analyst_2372796\n",
      "\u001b[91mError while pulling Pending Estimates for User: analyst_2372796\u001b[0m\n",
      "Pending Estimates Scrape Complete for User: analyst_2372796\n",
      "Scored Estimates Scrape Complete for User: analyst_2372796\n",
      "Time: 2023-11-26 19:55:30.720840\n",
      "Stocks Covered Scrape Complete for User: analyst_4414942\n",
      "\u001b[91mError while pulling Pending Estimates for User: analyst_4414942\u001b[0m\n",
      "Pending Estimates Scrape Complete for User: analyst_4414942\n",
      "Scored Estimates Scrape Complete for User: analyst_4414942\n",
      "Time: 2023-11-26 19:55:34.544957\n",
      "Stocks Covered Scrape Complete for User: analyst_132517\n",
      "\u001b[91mError while pulling Pending Estimates for User: analyst_132517\u001b[0m\n",
      "Pending Estimates Scrape Complete for User: analyst_132517\n",
      "Scored Estimates Scrape Complete for User: analyst_132517\n",
      "Time: 2023-11-26 19:55:38.778732\n",
      "Stocks Covered Scrape Complete for User: canaccord-40a\n",
      "\u001b[91mError while pulling Pending Estimates for User: canaccord-40a\u001b[0m\n",
      "Pending Estimates Scrape Complete for User: canaccord-40a\n",
      "\u001b[91mError while pulling Scored Estimates for User: canaccord-40a\u001b[0m\n",
      "Scored Estimates Scrape Complete for User: canaccord-40a\n",
      "Time: 2023-11-26 19:55:44.156868\n",
      "Stocks Covered Scrape Complete for User: analyst_9658405\n",
      "\u001b[91mError while pulling Pending Estimates for User: analyst_9658405\u001b[0m\n",
      "Pending Estimates Scrape Complete for User: analyst_9658405\n",
      "Scored Estimates Scrape Complete for User: analyst_9658405\n",
      "Time: 2023-11-26 19:55:47.804728\n",
      "Stocks Covered Scrape Complete for User: alif1472\n",
      "\u001b[91mError while pulling Pending Estimates for User: alif1472\u001b[0m\n",
      "Pending Estimates Scrape Complete for User: alif1472\n",
      "Scored Estimates Scrape Complete for User: alif1472\n",
      "Time: 2023-11-26 19:55:51.869007\n",
      "Stocks Covered Scrape Complete for User: analyst_6780444\n",
      "\u001b[91mError while pulling Pending Estimates for User: analyst_6780444\u001b[0m\n",
      "Pending Estimates Scrape Complete for User: analyst_6780444\n",
      "Scored Estimates Scrape Complete for User: analyst_6780444\n",
      "Time: 2023-11-26 19:55:55.852482\n",
      "Stocks Covered Scrape Complete for User: analyst_6142743\n",
      "\u001b[91mError while pulling Pending Estimates for User: analyst_6142743\u001b[0m\n",
      "Pending Estimates Scrape Complete for User: analyst_6142743\n",
      "Scored Estimates Scrape Complete for User: analyst_6142743\n",
      "Time: 2023-11-26 19:55:59.565153\n",
      "Stocks Covered Scrape Complete for User: analyst_8559449\n",
      "\u001b[91mError while pulling Pending Estimates for User: analyst_8559449\u001b[0m\n",
      "Pending Estimates Scrape Complete for User: analyst_8559449\n",
      "Scored Estimates Scrape Complete for User: analyst_8559449\n",
      "Time: 2023-11-26 19:56:03.298089\n",
      "Stocks Covered Scrape Complete for User: analyst_5364845\n",
      "\u001b[91mError while pulling Pending Estimates for User: analyst_5364845\u001b[0m\n",
      "Pending Estimates Scrape Complete for User: analyst_5364845\n",
      "Scored Estimates Scrape Complete for User: analyst_5364845\n",
      "Time: 2023-11-26 19:56:07.105780\n",
      "\u001b[91mError while pulling Stocks Covered for User: analyst_419660\u001b[0m\n",
      "Stocks Covered Scrape Complete for User: analyst_419660\n",
      "\u001b[91mError while pulling Pending Estimates for User: analyst_419660\u001b[0m\n",
      "Pending Estimates Scrape Complete for User: analyst_419660\n",
      "Scored Estimates Scrape Complete for User: analyst_419660\n",
      "Time: 2023-11-26 19:56:13.405903\n",
      "Stocks Covered Scrape Complete for User: aryamous\n",
      "\u001b[91mError while pulling Pending Estimates for User: aryamous\u001b[0m\n",
      "Pending Estimates Scrape Complete for User: aryamous\n",
      "Scored Estimates Scrape Complete for User: aryamous\n",
      "Time: 2023-11-26 19:56:17.235040\n",
      "Stocks Covered Scrape Complete for User: analyst_9324070\n",
      "\u001b[91mError while pulling Pending Estimates for User: analyst_9324070\u001b[0m\n",
      "Pending Estimates Scrape Complete for User: analyst_9324070\n",
      "Scored Estimates Scrape Complete for User: analyst_9324070\n",
      "Time: 2023-11-26 19:56:21.466653\n",
      "Stocks Covered Scrape Complete for User: adrianjank\n",
      "\u001b[91mError while pulling Pending Estimates for User: adrianjank\u001b[0m\n",
      "Pending Estimates Scrape Complete for User: adrianjank\n",
      "Scored Estimates Scrape Complete for User: adrianjank\n",
      "Time: 2023-11-26 19:56:26.121448\n",
      "Stocks Covered Scrape Complete for User: analyst_5647439\n",
      "\u001b[91mError while pulling Pending Estimates for User: analyst_5647439\u001b[0m\n",
      "Pending Estimates Scrape Complete for User: analyst_5647439\n",
      "Scored Estimates Scrape Complete for User: analyst_5647439\n",
      "Time: 2023-11-26 19:56:30.928884\n",
      "Stocks Covered Scrape Complete for User: analyst_3897166\n",
      "\u001b[91mError while pulling Pending Estimates for User: analyst_3897166\u001b[0m\n",
      "Pending Estimates Scrape Complete for User: analyst_3897166\n",
      "Scored Estimates Scrape Complete for User: analyst_3897166\n",
      "Time: 2023-11-26 19:56:34.866444\n",
      "Stocks Covered Scrape Complete for User: analyst_6014383\n",
      "Pending Estimates Scrape Complete for User: analyst_6014383\n",
      "Scored Estimates Scrape Complete for User: analyst_6014383\n",
      "Time: 2023-11-26 19:56:39.249108\n",
      "\u001b[91mError while pulling Stocks Covered for User: analyst_5881908\u001b[0m\n",
      "Stocks Covered Scrape Complete for User: analyst_5881908\n",
      "\u001b[91mError while pulling Pending Estimates for User: analyst_5881908\u001b[0m\n",
      "Pending Estimates Scrape Complete for User: analyst_5881908\n",
      "Scored Estimates Scrape Complete for User: analyst_5881908\n",
      "Time: 2023-11-26 19:56:45.589942\n",
      "Stocks Covered Scrape Complete for User: analyst_6850049\n",
      "\u001b[91mError while pulling Pending Estimates for User: analyst_6850049\u001b[0m\n",
      "Pending Estimates Scrape Complete for User: analyst_6850049\n",
      "Scored Estimates Scrape Complete for User: analyst_6850049\n",
      "Time: 2023-11-26 19:56:49.644028\n",
      "Stocks Covered Scrape Complete for User: analyst_5455349\n",
      "\u001b[91mError while pulling Pending Estimates for User: analyst_5455349\u001b[0m\n",
      "Pending Estimates Scrape Complete for User: analyst_5455349\n",
      "\u001b[91mError while pulling Scored Estimates for User: analyst_5455349\u001b[0m\n",
      "Scored Estimates Scrape Complete for User: analyst_5455349\n",
      "Time: 2023-11-26 19:56:55.038501\n",
      "Stocks Covered Scrape Complete for User: analyst_4833399\n",
      "\u001b[91mError while pulling Pending Estimates for User: analyst_4833399\u001b[0m\n",
      "Pending Estimates Scrape Complete for User: analyst_4833399\n",
      "Scored Estimates Scrape Complete for User: analyst_4833399\n",
      "Time: 2023-11-26 19:56:59.523700\n",
      "Stocks Covered Scrape Complete for User: analyst_5835207\n",
      "\u001b[91mError while pulling Pending Estimates for User: analyst_5835207\u001b[0m\n",
      "Pending Estimates Scrape Complete for User: analyst_5835207\n",
      "Scored Estimates Scrape Complete for User: analyst_5835207\n",
      "Time: 2023-11-26 19:57:03.292000\n",
      "Stocks Covered Scrape Complete for User: xliyah23\n",
      "\u001b[91mError while pulling Pending Estimates for User: xliyah23\u001b[0m\n",
      "Pending Estimates Scrape Complete for User: xliyah23\n",
      "Scored Estimates Scrape Complete for User: xliyah23\n",
      "Time: 2023-11-26 19:57:07.152970\n",
      "\u001b[91mError while pulling Stocks Covered for User: analyst_2026218\u001b[0m\n",
      "Stocks Covered Scrape Complete for User: analyst_2026218\n",
      "\u001b[91mError while pulling Pending Estimates for User: analyst_2026218\u001b[0m\n",
      "Pending Estimates Scrape Complete for User: analyst_2026218\n",
      "Scored Estimates Scrape Complete for User: analyst_2026218\n",
      "Time: 2023-11-26 19:57:13.437324\n",
      "\u001b[91mError while pulling Stocks Covered for User: analyst_5969444\u001b[0m\n",
      "Stocks Covered Scrape Complete for User: analyst_5969444\n",
      "\u001b[91mError while pulling Pending Estimates for User: analyst_5969444\u001b[0m\n",
      "Pending Estimates Scrape Complete for User: analyst_5969444\n",
      "Scored Estimates Scrape Complete for User: analyst_5969444\n",
      "Time: 2023-11-26 19:57:19.814076\n",
      "Stocks Covered Scrape Complete for User: analyst_7921806\n",
      "\u001b[91mError while pulling Pending Estimates for User: analyst_7921806\u001b[0m\n",
      "Pending Estimates Scrape Complete for User: analyst_7921806\n",
      "Scored Estimates Scrape Complete for User: analyst_7921806\n",
      "Time: 2023-11-26 19:57:24.136089\n",
      "Stocks Covered Scrape Complete for User: analyst_4140077\n",
      "\u001b[91mError while pulling Pending Estimates for User: analyst_4140077\u001b[0m\n",
      "Pending Estimates Scrape Complete for User: analyst_4140077\n",
      "Scored Estimates Scrape Complete for User: analyst_4140077\n",
      "Time: 2023-11-26 19:57:27.792675\n",
      "Stocks Covered Scrape Complete for User: analyst_7825399\n",
      "\u001b[91mError while pulling Pending Estimates for User: analyst_7825399\u001b[0m\n",
      "Pending Estimates Scrape Complete for User: analyst_7825399\n",
      "Scored Estimates Scrape Complete for User: analyst_7825399\n",
      "Time: 2023-11-26 19:57:32.197209\n",
      "Stocks Covered Scrape Complete for User: analyst_257337\n",
      "\u001b[91mError while pulling Pending Estimates for User: analyst_257337\u001b[0m\n",
      "Pending Estimates Scrape Complete for User: analyst_257337\n",
      "Scored Estimates Scrape Complete for User: analyst_257337\n",
      "Time: 2023-11-26 19:57:36.293212\n",
      "Stocks Covered Scrape Complete for User: analyst_4576468\n",
      "\u001b[91mError while pulling Pending Estimates for User: analyst_4576468\u001b[0m\n",
      "Pending Estimates Scrape Complete for User: analyst_4576468\n",
      "Scored Estimates Scrape Complete for User: analyst_4576468\n",
      "Time: 2023-11-26 19:57:40.015020\n",
      "Stocks Covered Scrape Complete for User: analyst_8662935\n",
      "\u001b[91mError while pulling Pending Estimates for User: analyst_8662935\u001b[0m\n",
      "Pending Estimates Scrape Complete for User: analyst_8662935\n",
      "Scored Estimates Scrape Complete for User: analyst_8662935\n",
      "Time: 2023-11-26 19:57:43.838992\n",
      "\u001b[91mError while pulling Stocks Covered for User: analyst_7934927\u001b[0m\n",
      "Stocks Covered Scrape Complete for User: analyst_7934927\n",
      "\u001b[91mError while pulling Pending Estimates for User: analyst_7934927\u001b[0m\n",
      "Pending Estimates Scrape Complete for User: analyst_7934927\n",
      "Scored Estimates Scrape Complete for User: analyst_7934927\n",
      "Time: 2023-11-26 19:57:50.142809\n",
      "Stocks Covered Scrape Complete for User: analyst_5689633\n",
      "\u001b[91mError while pulling Pending Estimates for User: analyst_5689633\u001b[0m\n",
      "Pending Estimates Scrape Complete for User: analyst_5689633\n",
      "Scored Estimates Scrape Complete for User: analyst_5689633\n",
      "Time: 2023-11-26 19:57:54.053625\n",
      "Stocks Covered Scrape Complete for User: analyst_2602232\n",
      "\u001b[91mError while pulling Pending Estimates for User: analyst_2602232\u001b[0m\n",
      "Pending Estimates Scrape Complete for User: analyst_2602232\n",
      "Scored Estimates Scrape Complete for User: analyst_2602232\n",
      "Time: 2023-11-26 19:57:58.389405\n",
      "Stocks Covered Scrape Complete for User: analyst_164715\n",
      "\u001b[91mError while pulling Pending Estimates for User: analyst_164715\u001b[0m\n",
      "Pending Estimates Scrape Complete for User: analyst_164715\n",
      "Scored Estimates Scrape Complete for User: analyst_164715\n",
      "Time: 2023-11-26 19:58:03.094503\n",
      "\u001b[91mError while pulling Stocks Covered for User: analyst_2262919\u001b[0m\n",
      "Stocks Covered Scrape Complete for User: analyst_2262919\n",
      "\u001b[91mError while pulling Pending Estimates for User: analyst_2262919\u001b[0m\n",
      "Pending Estimates Scrape Complete for User: analyst_2262919\n",
      "Scored Estimates Scrape Complete for User: analyst_2262919\n",
      "Time: 2023-11-26 19:58:09.470524\n",
      "Stocks Covered Scrape Complete for User: shocktwits\n",
      "\u001b[91mError while pulling Pending Estimates for User: shocktwits\u001b[0m\n",
      "Pending Estimates Scrape Complete for User: shocktwits\n",
      "Scored Estimates Scrape Complete for User: shocktwits\n",
      "Time: 2023-11-26 19:58:13.240985\n",
      "Stocks Covered Scrape Complete for User: analyst_6700014\n",
      "\u001b[91mError while pulling Pending Estimates for User: analyst_6700014\u001b[0m\n",
      "Pending Estimates Scrape Complete for User: analyst_6700014\n",
      "Scored Estimates Scrape Complete for User: analyst_6700014\n",
      "Time: 2023-11-26 19:58:16.936832\n",
      "Stocks Covered Scrape Complete for User: analyst_9540989\n",
      "\u001b[91mError while pulling Pending Estimates for User: analyst_9540989\u001b[0m\n",
      "Pending Estimates Scrape Complete for User: analyst_9540989\n",
      "Scored Estimates Scrape Complete for User: analyst_9540989\n",
      "Time: 2023-11-26 19:58:21.867638\n",
      "Stocks Covered Scrape Complete for User: analyst_38959\n",
      "\u001b[91mError while pulling Pending Estimates for User: analyst_38959\u001b[0m\n",
      "Pending Estimates Scrape Complete for User: analyst_38959\n",
      "Scored Estimates Scrape Complete for User: analyst_38959\n",
      "Time: 2023-11-26 19:58:25.743008\n",
      "Stocks Covered Scrape Complete for User: analyst_5739780\n",
      "\u001b[91mError while pulling Pending Estimates for User: analyst_5739780\u001b[0m\n",
      "Pending Estimates Scrape Complete for User: analyst_5739780\n",
      "Scored Estimates Scrape Complete for User: analyst_5739780\n",
      "Time: 2023-11-26 19:58:29.538091\n",
      "Stocks Covered Scrape Complete for User: analyst_9224795\n",
      "\u001b[91mError while pulling Pending Estimates for User: analyst_9224795\u001b[0m\n",
      "Pending Estimates Scrape Complete for User: analyst_9224795\n",
      "Scored Estimates Scrape Complete for User: analyst_9224795\n",
      "Time: 2023-11-26 19:58:33.298056\n",
      "Stocks Covered Scrape Complete for User: analyst_2420286\n",
      "\u001b[91mError while pulling Pending Estimates for User: analyst_2420286\u001b[0m\n",
      "Pending Estimates Scrape Complete for User: analyst_2420286\n",
      "Scored Estimates Scrape Complete for User: analyst_2420286\n",
      "Time: 2023-11-26 19:58:37.847820\n",
      "Stocks Covered Scrape Complete for User: analyst_7832805\n",
      "\u001b[91mError while pulling Pending Estimates for User: analyst_7832805\u001b[0m\n",
      "Pending Estimates Scrape Complete for User: analyst_7832805\n",
      "Scored Estimates Scrape Complete for User: analyst_7832805\n",
      "Time: 2023-11-26 19:58:41.844036\n",
      "Stocks Covered Scrape Complete for User: analyst_3987039\n",
      "\u001b[91mError while pulling Pending Estimates for User: analyst_3987039\u001b[0m\n",
      "Pending Estimates Scrape Complete for User: analyst_3987039\n",
      "Scored Estimates Scrape Complete for User: analyst_3987039\n",
      "Time: 2023-11-26 19:58:46.459867\n",
      "Stocks Covered Scrape Complete for User: analyst_1223041\n",
      "\u001b[91mError while pulling Pending Estimates for User: analyst_1223041\u001b[0m\n",
      "Pending Estimates Scrape Complete for User: analyst_1223041\n",
      "Scored Estimates Scrape Complete for User: analyst_1223041\n",
      "Time: 2023-11-26 19:58:50.372500\n",
      "Stocks Covered Scrape Complete for User: analyst_1436618\n",
      "\u001b[91mError while pulling Pending Estimates for User: analyst_1436618\u001b[0m\n",
      "Pending Estimates Scrape Complete for User: analyst_1436618\n",
      "Scored Estimates Scrape Complete for User: analyst_1436618\n",
      "Time: 2023-11-26 19:58:54.114400\n",
      "\u001b[91mError while pulling Stocks Covered for User: analyst_6201727\u001b[0m\n",
      "Stocks Covered Scrape Complete for User: analyst_6201727\n",
      "\u001b[91mError while pulling Pending Estimates for User: analyst_6201727\u001b[0m\n",
      "Pending Estimates Scrape Complete for User: analyst_6201727\n",
      "Scored Estimates Scrape Complete for User: analyst_6201727\n",
      "Time: 2023-11-26 19:59:00.475112\n",
      "Stocks Covered Scrape Complete for User: analyst_3878727\n",
      "\u001b[91mError while pulling Pending Estimates for User: analyst_3878727\u001b[0m\n",
      "Pending Estimates Scrape Complete for User: analyst_3878727\n",
      "Scored Estimates Scrape Complete for User: analyst_3878727\n",
      "Time: 2023-11-26 19:59:04.623860\n",
      "Stocks Covered Scrape Complete for User: analyst_3402225\n",
      "\u001b[91mError while pulling Pending Estimates for User: analyst_3402225\u001b[0m\n",
      "Pending Estimates Scrape Complete for User: analyst_3402225\n",
      "Scored Estimates Scrape Complete for User: analyst_3402225\n",
      "Time: 2023-11-26 19:59:08.354973\n",
      "\u001b[91mError while pulling Stocks Covered for User: analyst_9087437\u001b[0m\n",
      "Stocks Covered Scrape Complete for User: analyst_9087437\n",
      "\u001b[91mError while pulling Pending Estimates for User: analyst_9087437\u001b[0m\n",
      "Pending Estimates Scrape Complete for User: analyst_9087437\n",
      "Scored Estimates Scrape Complete for User: analyst_9087437\n",
      "Time: 2023-11-26 19:59:14.696545\n",
      "Stocks Covered Scrape Complete for User: analyst_2873474\n",
      "\u001b[91mError while pulling Pending Estimates for User: analyst_2873474\u001b[0m\n",
      "Pending Estimates Scrape Complete for User: analyst_2873474\n",
      "Scored Estimates Scrape Complete for User: analyst_2873474\n",
      "Time: 2023-11-26 19:59:18.399823\n",
      "Stocks Covered Scrape Complete for User: analyst_2714173\n",
      "\u001b[91mError while pulling Pending Estimates for User: analyst_2714173\u001b[0m\n",
      "Pending Estimates Scrape Complete for User: analyst_2714173\n",
      "Scored Estimates Scrape Complete for User: analyst_2714173\n",
      "Time: 2023-11-26 19:59:22.787292\n",
      "Stocks Covered Scrape Complete for User: analyst_1036353\n",
      "\u001b[91mError while pulling Pending Estimates for User: analyst_1036353\u001b[0m\n",
      "Pending Estimates Scrape Complete for User: analyst_1036353\n",
      "Scored Estimates Scrape Complete for User: analyst_1036353\n",
      "Time: 2023-11-26 19:59:27.399434\n",
      "Stocks Covered Scrape Complete for User: analyst_6821423\n",
      "\u001b[91mError while pulling Pending Estimates for User: analyst_6821423\u001b[0m\n",
      "Pending Estimates Scrape Complete for User: analyst_6821423\n",
      "Scored Estimates Scrape Complete for User: analyst_6821423\n",
      "Time: 2023-11-26 19:59:31.385395\n",
      "Stocks Covered Scrape Complete for User: analyst_1448456\n",
      "\u001b[91mError while pulling Pending Estimates for User: analyst_1448456\u001b[0m\n",
      "Pending Estimates Scrape Complete for User: analyst_1448456\n",
      "Scored Estimates Scrape Complete for User: analyst_1448456\n",
      "Time: 2023-11-26 19:59:35.113953\n",
      "Stocks Covered Scrape Complete for User: drmikewill\n",
      "\u001b[91mError while pulling Pending Estimates for User: drmikewill\u001b[0m\n",
      "Pending Estimates Scrape Complete for User: drmikewill\n",
      "Scored Estimates Scrape Complete for User: drmikewill\n",
      "Time: 2023-11-26 19:59:39.091299\n",
      "Stocks Covered Scrape Complete for User: analyst_2157542\n",
      "\u001b[91mError while pulling Pending Estimates for User: analyst_2157542\u001b[0m\n",
      "Pending Estimates Scrape Complete for User: analyst_2157542\n",
      "Scored Estimates Scrape Complete for User: analyst_2157542\n",
      "Time: 2023-11-26 19:59:43.016282\n",
      "Stocks Covered Scrape Complete for User: analyst_8872359\n",
      "\u001b[91mError while pulling Pending Estimates for User: analyst_8872359\u001b[0m\n",
      "Pending Estimates Scrape Complete for User: analyst_8872359\n",
      "Scored Estimates Scrape Complete for User: analyst_8872359\n",
      "Time: 2023-11-26 19:59:46.724463\n",
      "Stocks Covered Scrape Complete for User: analyst_368401\n",
      "\u001b[91mError while pulling Pending Estimates for User: analyst_368401\u001b[0m\n",
      "Pending Estimates Scrape Complete for User: analyst_368401\n",
      "Scored Estimates Scrape Complete for User: analyst_368401\n",
      "Time: 2023-11-26 19:59:50.695235\n",
      "Stocks Covered Scrape Complete for User: analyst_6825371\n",
      "\u001b[91mError while pulling Pending Estimates for User: analyst_6825371\u001b[0m\n",
      "Pending Estimates Scrape Complete for User: analyst_6825371\n",
      "Scored Estimates Scrape Complete for User: analyst_6825371\n",
      "Time: 2023-11-26 19:59:54.463123\n",
      "Stocks Covered Scrape Complete for User: analyst_1860091\n",
      "\u001b[91mError while pulling Pending Estimates for User: analyst_1860091\u001b[0m\n",
      "Pending Estimates Scrape Complete for User: analyst_1860091\n",
      "Scored Estimates Scrape Complete for User: analyst_1860091\n",
      "Time: 2023-11-26 19:59:58.211996\n",
      "Stocks Covered Scrape Complete for User: analyst_6509180\n",
      "\u001b[91mError while pulling Pending Estimates for User: analyst_6509180\u001b[0m\n",
      "Pending Estimates Scrape Complete for User: analyst_6509180\n",
      "Scored Estimates Scrape Complete for User: analyst_6509180\n",
      "Time: 2023-11-26 20:00:01.971008\n",
      "Stocks Covered Scrape Complete for User: analyst_6702099\n",
      "\u001b[91mError while pulling Pending Estimates for User: analyst_6702099\u001b[0m\n",
      "Pending Estimates Scrape Complete for User: analyst_6702099\n",
      "Scored Estimates Scrape Complete for User: analyst_6702099\n",
      "Time: 2023-11-26 20:00:06.029440\n",
      "Stocks Covered Scrape Complete for User: analyst_4796880\n",
      "\u001b[91mError while pulling Pending Estimates for User: analyst_4796880\u001b[0m\n",
      "Pending Estimates Scrape Complete for User: analyst_4796880\n",
      "Scored Estimates Scrape Complete for User: analyst_4796880\n",
      "Time: 2023-11-26 20:00:10.827348\n",
      "Stocks Covered Scrape Complete for User: canaccord-40-1\n",
      "\u001b[91mError while pulling Pending Estimates for User: canaccord-40-1\u001b[0m\n",
      "Pending Estimates Scrape Complete for User: canaccord-40-1\n",
      "Scored Estimates Scrape Complete for User: canaccord-40-1\n",
      "Time: 2023-11-26 20:00:15.309094\n",
      "Stocks Covered Scrape Complete for User: analyst_4193928\n",
      "\u001b[91mError while pulling Pending Estimates for User: analyst_4193928\u001b[0m\n",
      "Pending Estimates Scrape Complete for User: analyst_4193928\n",
      "Scored Estimates Scrape Complete for User: analyst_4193928\n",
      "Time: 2023-11-26 20:00:19.077991\n",
      "Stocks Covered Scrape Complete for User: analyst_5876878\n",
      "\u001b[91mError while pulling Pending Estimates for User: analyst_5876878\u001b[0m\n",
      "Pending Estimates Scrape Complete for User: analyst_5876878\n",
      "Scored Estimates Scrape Complete for User: analyst_5876878\n",
      "Time: 2023-11-26 20:00:22.760456\n",
      "Stocks Covered Scrape Complete for User: analyst_9008900\n",
      "\u001b[91mError while pulling Pending Estimates for User: analyst_9008900\u001b[0m\n",
      "Pending Estimates Scrape Complete for User: analyst_9008900\n",
      "Scored Estimates Scrape Complete for User: analyst_9008900\n",
      "Time: 2023-11-26 20:00:27.167027\n",
      "Stocks Covered Scrape Complete for User: analyst_3079104\n",
      "\u001b[91mError while pulling Pending Estimates for User: analyst_3079104\u001b[0m\n",
      "Pending Estimates Scrape Complete for User: analyst_3079104\n",
      "Scored Estimates Scrape Complete for User: analyst_3079104\n",
      "Time: 2023-11-26 20:00:31.208181\n",
      "Stocks Covered Scrape Complete for User: buiho\n",
      "\u001b[91mError while pulling Pending Estimates for User: buiho\u001b[0m\n",
      "Pending Estimates Scrape Complete for User: buiho\n",
      "Scored Estimates Scrape Complete for User: buiho\n",
      "Time: 2023-11-26 20:00:34.853682\n",
      "Stocks Covered Scrape Complete for User: analyst_7851770\n",
      "\u001b[91mError while pulling Pending Estimates for User: analyst_7851770\u001b[0m\n",
      "Pending Estimates Scrape Complete for User: analyst_7851770\n",
      "\u001b[91mError while pulling Scored Estimates for User: analyst_7851770\u001b[0m\n",
      "Scored Estimates Scrape Complete for User: analyst_7851770\n",
      "Time: 2023-11-26 20:00:39.936213\n",
      "Stocks Covered Scrape Complete for User: analyst_4006409\n",
      "\u001b[91mError while pulling Pending Estimates for User: analyst_4006409\u001b[0m\n",
      "Pending Estimates Scrape Complete for User: analyst_4006409\n",
      "Scored Estimates Scrape Complete for User: analyst_4006409\n",
      "Time: 2023-11-26 20:00:43.984251\n",
      "\u001b[91mError while pulling Stocks Covered for User: analyst_1834881\u001b[0m\n",
      "Stocks Covered Scrape Complete for User: analyst_1834881\n",
      "\u001b[91mError while pulling Pending Estimates for User: analyst_1834881\u001b[0m\n",
      "Pending Estimates Scrape Complete for User: analyst_1834881\n",
      "Scored Estimates Scrape Complete for User: analyst_1834881\n",
      "Time: 2023-11-26 20:00:50.275228\n",
      "Stocks Covered Scrape Complete for User: analyst_8427634\n",
      "\u001b[91mError while pulling Pending Estimates for User: analyst_8427634\u001b[0m\n",
      "Pending Estimates Scrape Complete for User: analyst_8427634\n",
      "Scored Estimates Scrape Complete for User: analyst_8427634\n",
      "Time: 2023-11-26 20:00:53.929452\n",
      "Stocks Covered Scrape Complete for User: analyst_1527950\n",
      "\u001b[91mError while pulling Pending Estimates for User: analyst_1527950\u001b[0m\n",
      "Pending Estimates Scrape Complete for User: analyst_1527950\n",
      "Scored Estimates Scrape Complete for User: analyst_1527950\n",
      "Time: 2023-11-26 20:00:57.609063\n",
      "Stocks Covered Scrape Complete for User: analyst_4992043\n",
      "\u001b[91mError while pulling Pending Estimates for User: analyst_4992043\u001b[0m\n",
      "Pending Estimates Scrape Complete for User: analyst_4992043\n",
      "Scored Estimates Scrape Complete for User: analyst_4992043\n",
      "Time: 2023-11-26 20:01:01.310031\n",
      "Stocks Covered Scrape Complete for User: analyst_5856948\n",
      "\u001b[91mError while pulling Pending Estimates for User: analyst_5856948\u001b[0m\n",
      "Pending Estimates Scrape Complete for User: analyst_5856948\n",
      "Scored Estimates Scrape Complete for User: analyst_5856948\n",
      "Time: 2023-11-26 20:01:05.040394\n",
      "Stocks Covered Scrape Complete for User: analyst_894724\n",
      "\u001b[91mError while pulling Pending Estimates for User: analyst_894724\u001b[0m\n",
      "Pending Estimates Scrape Complete for User: analyst_894724\n",
      "Scored Estimates Scrape Complete for User: analyst_894724\n",
      "Time: 2023-11-26 20:01:08.741200\n",
      "Stocks Covered Scrape Complete for User: analyst_1533839\n",
      "\u001b[91mError while pulling Pending Estimates for User: analyst_1533839\u001b[0m\n",
      "Pending Estimates Scrape Complete for User: analyst_1533839\n",
      "Scored Estimates Scrape Complete for User: analyst_1533839\n",
      "Time: 2023-11-26 20:01:12.479221\n",
      "Stocks Covered Scrape Complete for User: analyst_1298857\n",
      "\u001b[91mError while pulling Pending Estimates for User: analyst_1298857\u001b[0m\n",
      "Pending Estimates Scrape Complete for User: analyst_1298857\n",
      "Scored Estimates Scrape Complete for User: analyst_1298857\n",
      "Time: 2023-11-26 20:01:16.072876\n",
      "Stocks Covered Scrape Complete for User: analyst_7538677\n",
      "\u001b[91mError while pulling Pending Estimates for User: analyst_7538677\u001b[0m\n",
      "Pending Estimates Scrape Complete for User: analyst_7538677\n",
      "Scored Estimates Scrape Complete for User: analyst_7538677\n",
      "Time: 2023-11-26 20:01:19.785793\n",
      "Stocks Covered Scrape Complete for User: analyst_8956940\n",
      "\u001b[91mError while pulling Pending Estimates for User: analyst_8956940\u001b[0m\n",
      "Pending Estimates Scrape Complete for User: analyst_8956940\n",
      "Scored Estimates Scrape Complete for User: analyst_8956940\n",
      "Time: 2023-11-26 20:01:23.481908\n",
      "Stocks Covered Scrape Complete for User: analyst_8409021\n",
      "\u001b[91mError while pulling Pending Estimates for User: analyst_8409021\u001b[0m\n",
      "Pending Estimates Scrape Complete for User: analyst_8409021\n",
      "Scored Estimates Scrape Complete for User: analyst_8409021\n",
      "Time: 2023-11-26 20:01:27.838042\n",
      "Stocks Covered Scrape Complete for User: analyst_1685946\n",
      "\u001b[91mError while pulling Pending Estimates for User: analyst_1685946\u001b[0m\n",
      "Pending Estimates Scrape Complete for User: analyst_1685946\n",
      "Scored Estimates Scrape Complete for User: analyst_1685946\n",
      "Time: 2023-11-26 20:01:31.578694\n",
      "Stocks Covered Scrape Complete for User: jboog\n",
      "\u001b[91mError while pulling Pending Estimates for User: jboog\u001b[0m\n",
      "Pending Estimates Scrape Complete for User: jboog\n",
      "Scored Estimates Scrape Complete for User: jboog\n",
      "Time: 2023-11-26 20:01:35.582439\n",
      "Stocks Covered Scrape Complete for User: analyst_383895\n",
      "\u001b[91mError while pulling Pending Estimates for User: analyst_383895\u001b[0m\n",
      "Pending Estimates Scrape Complete for User: analyst_383895\n",
      "Scored Estimates Scrape Complete for User: analyst_383895\n",
      "Time: 2023-11-26 20:01:39.235368\n",
      "\u001b[91mError while pulling Stocks Covered for User: analyst_239697\u001b[0m\n",
      "Stocks Covered Scrape Complete for User: analyst_239697\n",
      "\u001b[91mError while pulling Pending Estimates for User: analyst_239697\u001b[0m\n",
      "Pending Estimates Scrape Complete for User: analyst_239697\n",
      "Scored Estimates Scrape Complete for User: analyst_239697\n",
      "Time: 2023-11-26 20:01:45.591717\n",
      "Stocks Covered Scrape Complete for User: analyst_5440242\n",
      "\u001b[91mError while pulling Pending Estimates for User: analyst_5440242\u001b[0m\n",
      "Pending Estimates Scrape Complete for User: analyst_5440242\n",
      "Scored Estimates Scrape Complete for User: analyst_5440242\n",
      "Time: 2023-11-26 20:01:49.302582\n",
      "Stocks Covered Scrape Complete for User: revansreturn\n",
      "\u001b[91mError while pulling Pending Estimates for User: revansreturn\u001b[0m\n",
      "Pending Estimates Scrape Complete for User: revansreturn\n",
      "\u001b[91mError while pulling Scored Estimates for User: revansreturn\u001b[0m\n",
      "Scored Estimates Scrape Complete for User: revansreturn\n",
      "Time: 2023-11-26 20:01:54.577798\n",
      "Stocks Covered Scrape Complete for User: jefferies_30\n",
      "\u001b[91mError while pulling Pending Estimates for User: jefferies_30\u001b[0m\n",
      "Pending Estimates Scrape Complete for User: jefferies_30\n",
      "Scored Estimates Scrape Complete for User: jefferies_30\n",
      "Time: 2023-11-26 20:01:59.110922\n",
      "Stocks Covered Scrape Complete for User: analyst_7194993\n",
      "\u001b[91mError while pulling Pending Estimates for User: analyst_7194993\u001b[0m\n",
      "Pending Estimates Scrape Complete for User: analyst_7194993\n",
      "Scored Estimates Scrape Complete for User: analyst_7194993\n",
      "Time: 2023-11-26 20:02:02.821950\n",
      "\u001b[91mError while pulling Stocks Covered for User: analyst_9381080\u001b[0m\n",
      "Stocks Covered Scrape Complete for User: analyst_9381080\n",
      "\u001b[91mError while pulling Pending Estimates for User: analyst_9381080\u001b[0m\n",
      "Pending Estimates Scrape Complete for User: analyst_9381080\n",
      "Scored Estimates Scrape Complete for User: analyst_9381080\n",
      "Time: 2023-11-26 20:02:09.154759\n",
      "Stocks Covered Scrape Complete for User: oldmateengineer\n",
      "Pending Estimates Scrape Complete for User: oldmateengineer\n",
      "Scored Estimates Scrape Complete for User: oldmateengineer\n",
      "Time: 2023-11-26 20:02:12.503970\n",
      "Stocks Covered Scrape Complete for User: rubcraft\n",
      "\u001b[91mError while pulling Pending Estimates for User: rubcraft\u001b[0m\n",
      "Pending Estimates Scrape Complete for User: rubcraft\n",
      "\u001b[91mError while pulling Scored Estimates for User: rubcraft\u001b[0m\n",
      "Scored Estimates Scrape Complete for User: rubcraft\n",
      "Time: 2023-11-26 20:02:17.815106\n",
      "\u001b[91mError while pulling Stocks Covered for User: analyst_7567764\u001b[0m\n",
      "Stocks Covered Scrape Complete for User: analyst_7567764\n",
      "\u001b[91mError while pulling Pending Estimates for User: analyst_7567764\u001b[0m\n",
      "Pending Estimates Scrape Complete for User: analyst_7567764\n",
      "Scored Estimates Scrape Complete for User: analyst_7567764\n",
      "Time: 2023-11-26 20:02:24.139579\n",
      "Stocks Covered Scrape Complete for User: kyriakouch\n",
      "\u001b[91mError while pulling Pending Estimates for User: kyriakouch\u001b[0m\n",
      "Pending Estimates Scrape Complete for User: kyriakouch\n",
      "Scored Estimates Scrape Complete for User: kyriakouch\n",
      "Time: 2023-11-26 20:02:28.254296\n",
      "Stocks Covered Scrape Complete for User: analyst_5352088\n",
      "\u001b[91mError while pulling Pending Estimates for User: analyst_5352088\u001b[0m\n",
      "Pending Estimates Scrape Complete for User: analyst_5352088\n",
      "Scored Estimates Scrape Complete for User: analyst_5352088\n",
      "Time: 2023-11-26 20:02:32.000411\n",
      "\u001b[91mError while pulling Stocks Covered for User: analyst_4724211\u001b[0m\n",
      "Stocks Covered Scrape Complete for User: analyst_4724211\n",
      "\u001b[91mError while pulling Pending Estimates for User: analyst_4724211\u001b[0m\n",
      "Pending Estimates Scrape Complete for User: analyst_4724211\n",
      "Scored Estimates Scrape Complete for User: analyst_4724211\n",
      "Time: 2023-11-26 20:02:38.263130\n",
      "Stocks Covered Scrape Complete for User: analyst_1979130\n",
      "\u001b[91mError while pulling Pending Estimates for User: analyst_1979130\u001b[0m\n",
      "Pending Estimates Scrape Complete for User: analyst_1979130\n",
      "Scored Estimates Scrape Complete for User: analyst_1979130\n",
      "Time: 2023-11-26 20:02:42.166198\n",
      "\u001b[91mError while pulling Stocks Covered for User: analyst_8175081\u001b[0m\n",
      "Stocks Covered Scrape Complete for User: analyst_8175081\n",
      "\u001b[91mError while pulling Pending Estimates for User: analyst_8175081\u001b[0m\n",
      "Pending Estimates Scrape Complete for User: analyst_8175081\n",
      "Scored Estimates Scrape Complete for User: analyst_8175081\n",
      "Time: 2023-11-26 20:02:48.361899\n",
      "Stocks Covered Scrape Complete for User: analyst-63907\n",
      "\u001b[91mError while pulling Pending Estimates for User: analyst-63907\u001b[0m\n",
      "Pending Estimates Scrape Complete for User: analyst-63907\n",
      "Scored Estimates Scrape Complete for User: analyst-63907\n",
      "Time: 2023-11-26 20:02:52.723338\n",
      "Stocks Covered Scrape Complete for User: analyst_9238229\n",
      "\u001b[91mError while pulling Pending Estimates for User: analyst_9238229\u001b[0m\n",
      "Pending Estimates Scrape Complete for User: analyst_9238229\n",
      "Scored Estimates Scrape Complete for User: analyst_9238229\n",
      "Time: 2023-11-26 20:02:56.319635\n",
      "Stocks Covered Scrape Complete for User: analyst_1494914\n",
      "\u001b[91mError while pulling Pending Estimates for User: analyst_1494914\u001b[0m\n",
      "Pending Estimates Scrape Complete for User: analyst_1494914\n",
      "Scored Estimates Scrape Complete for User: analyst_1494914\n",
      "Time: 2023-11-26 20:02:59.990965\n",
      "\u001b[91mError while pulling Stocks Covered for User: analyst_4449504\u001b[0m\n",
      "Stocks Covered Scrape Complete for User: analyst_4449504\n",
      "\u001b[91mError while pulling Pending Estimates for User: analyst_4449504\u001b[0m\n",
      "Pending Estimates Scrape Complete for User: analyst_4449504\n",
      "Scored Estimates Scrape Complete for User: analyst_4449504\n",
      "Time: 2023-11-26 20:03:06.234941\n",
      "Stocks Covered Scrape Complete for User: spekoliunas\n",
      "\u001b[91mError while pulling Pending Estimates for User: spekoliunas\u001b[0m\n",
      "Pending Estimates Scrape Complete for User: spekoliunas\n",
      "Scored Estimates Scrape Complete for User: spekoliunas\n",
      "Time: 2023-11-26 20:03:11.982802\n",
      "Stocks Covered Scrape Complete for User: analyst_3001413\n",
      "\u001b[91mError while pulling Pending Estimates for User: analyst_3001413\u001b[0m\n",
      "Pending Estimates Scrape Complete for User: analyst_3001413\n",
      "Scored Estimates Scrape Complete for User: analyst_3001413\n",
      "Time: 2023-11-26 20:03:15.585681\n",
      "\u001b[91mError while pulling Stocks Covered for User: analyst_8039196\u001b[0m\n",
      "Stocks Covered Scrape Complete for User: analyst_8039196\n",
      "\u001b[91mError while pulling Pending Estimates for User: analyst_8039196\u001b[0m\n",
      "Pending Estimates Scrape Complete for User: analyst_8039196\n",
      "Scored Estimates Scrape Complete for User: analyst_8039196\n",
      "Time: 2023-11-26 20:03:21.790293\n",
      "Stocks Covered Scrape Complete for User: analyst_5601566\n",
      "\u001b[91mError while pulling Pending Estimates for User: analyst_5601566\u001b[0m\n",
      "Pending Estimates Scrape Complete for User: analyst_5601566\n",
      "Scored Estimates Scrape Complete for User: analyst_5601566\n",
      "Time: 2023-11-26 20:03:25.838360\n",
      "Stocks Covered Scrape Complete for User: analyst_6963663\n",
      "\u001b[91mError while pulling Pending Estimates for User: analyst_6963663\u001b[0m\n",
      "Pending Estimates Scrape Complete for User: analyst_6963663\n",
      "Scored Estimates Scrape Complete for User: analyst_6963663\n",
      "Time: 2023-11-26 20:03:30.143309\n",
      "Stocks Covered Scrape Complete for User: analyst_1659930\n",
      "\u001b[91mError while pulling Pending Estimates for User: analyst_1659930\u001b[0m\n",
      "Pending Estimates Scrape Complete for User: analyst_1659930\n",
      "Scored Estimates Scrape Complete for User: analyst_1659930\n",
      "Time: 2023-11-26 20:03:33.757044\n",
      "\u001b[91mError while pulling Stocks Covered for User: analyst_3872927\u001b[0m\n",
      "Stocks Covered Scrape Complete for User: analyst_3872927\n",
      "\u001b[91mError while pulling Pending Estimates for User: analyst_3872927\u001b[0m\n",
      "Pending Estimates Scrape Complete for User: analyst_3872927\n",
      "Scored Estimates Scrape Complete for User: analyst_3872927\n",
      "Time: 2023-11-26 20:03:39.897180\n",
      "\u001b[91mError while pulling Stocks Covered for User: analyst_4504609\u001b[0m\n",
      "Stocks Covered Scrape Complete for User: analyst_4504609\n",
      "\u001b[91mError while pulling Pending Estimates for User: analyst_4504609\u001b[0m\n",
      "Pending Estimates Scrape Complete for User: analyst_4504609\n",
      "Scored Estimates Scrape Complete for User: analyst_4504609\n",
      "Time: 2023-11-26 20:03:46.290718\n",
      "Stocks Covered Scrape Complete for User: analyst_1367716\n",
      "\u001b[91mError while pulling Pending Estimates for User: analyst_1367716\u001b[0m\n",
      "Pending Estimates Scrape Complete for User: analyst_1367716\n",
      "Scored Estimates Scrape Complete for User: analyst_1367716\n",
      "Time: 2023-11-26 20:03:49.869175\n",
      "Stocks Covered Scrape Complete for User: analyst_3066367\n",
      "\u001b[91mError while pulling Pending Estimates for User: analyst_3066367\u001b[0m\n",
      "Pending Estimates Scrape Complete for User: analyst_3066367\n",
      "Scored Estimates Scrape Complete for User: analyst_3066367\n",
      "Time: 2023-11-26 20:03:53.480741\n",
      "Stocks Covered Scrape Complete for User: analyst_3750982\n",
      "\u001b[91mError while pulling Pending Estimates for User: analyst_3750982\u001b[0m\n",
      "Pending Estimates Scrape Complete for User: analyst_3750982\n",
      "Scored Estimates Scrape Complete for User: analyst_3750982\n",
      "Time: 2023-11-26 20:03:57.109694\n",
      "Stocks Covered Scrape Complete for User: analyst_8933748\n",
      "\u001b[91mError while pulling Pending Estimates for User: analyst_8933748\u001b[0m\n",
      "Pending Estimates Scrape Complete for User: analyst_8933748\n",
      "Scored Estimates Scrape Complete for User: analyst_8933748\n",
      "Time: 2023-11-26 20:04:00.683227\n",
      "Stocks Covered Scrape Complete for User: analyst_2116749\n",
      "\u001b[91mError while pulling Pending Estimates for User: analyst_2116749\u001b[0m\n",
      "Pending Estimates Scrape Complete for User: analyst_2116749\n",
      "Scored Estimates Scrape Complete for User: analyst_2116749\n",
      "Time: 2023-11-26 20:04:04.267598\n",
      "Stocks Covered Scrape Complete for User: analyst_3496739\n",
      "\u001b[91mError while pulling Pending Estimates for User: analyst_3496739\u001b[0m\n",
      "Pending Estimates Scrape Complete for User: analyst_3496739\n",
      "Scored Estimates Scrape Complete for User: analyst_3496739\n",
      "Time: 2023-11-26 20:04:07.796435\n",
      "Stocks Covered Scrape Complete for User: analyst_6236788\n",
      "\u001b[91mError while pulling Pending Estimates for User: analyst_6236788\u001b[0m\n",
      "Pending Estimates Scrape Complete for User: analyst_6236788\n",
      "Scored Estimates Scrape Complete for User: analyst_6236788\n",
      "Time: 2023-11-26 20:04:12.112139\n",
      "Stocks Covered Scrape Complete for User: analyst_2741491\n",
      "\u001b[91mError while pulling Pending Estimates for User: analyst_2741491\u001b[0m\n",
      "Pending Estimates Scrape Complete for User: analyst_2741491\n",
      "Scored Estimates Scrape Complete for User: analyst_2741491\n",
      "Time: 2023-11-26 20:04:15.824421\n",
      "Stocks Covered Scrape Complete for User: analyst_8035769\n",
      "\u001b[91mError while pulling Pending Estimates for User: analyst_8035769\u001b[0m\n",
      "Pending Estimates Scrape Complete for User: analyst_8035769\n",
      "Scored Estimates Scrape Complete for User: analyst_8035769\n",
      "Time: 2023-11-26 20:04:20.120705\n",
      "Stocks Covered Scrape Complete for User: analyst_5556111\n",
      "\u001b[91mError while pulling Pending Estimates for User: analyst_5556111\u001b[0m\n",
      "Pending Estimates Scrape Complete for User: analyst_5556111\n",
      "Scored Estimates Scrape Complete for User: analyst_5556111\n",
      "Time: 2023-11-26 20:04:24.688973\n",
      "Stocks Covered Scrape Complete for User: analyst_3327228\n",
      "\u001b[91mError while pulling Pending Estimates for User: analyst_3327228\u001b[0m\n",
      "Pending Estimates Scrape Complete for User: analyst_3327228\n",
      "Scored Estimates Scrape Complete for User: analyst_3327228\n",
      "Time: 2023-11-26 20:04:28.426002\n",
      "Stocks Covered Scrape Complete for User: analyst_3346373\n",
      "\u001b[91mError while pulling Pending Estimates for User: analyst_3346373\u001b[0m\n",
      "Pending Estimates Scrape Complete for User: analyst_3346373\n",
      "Scored Estimates Scrape Complete for User: analyst_3346373\n",
      "Time: 2023-11-26 20:04:32.035970\n",
      "Stocks Covered Scrape Complete for User: analyst_8318986\n",
      "\u001b[91mError while pulling Pending Estimates for User: analyst_8318986\u001b[0m\n",
      "Pending Estimates Scrape Complete for User: analyst_8318986\n",
      "Scored Estimates Scrape Complete for User: analyst_8318986\n",
      "Time: 2023-11-26 20:04:35.745280\n",
      "\u001b[91mError while pulling Stocks Covered for User: analyst_6236906\u001b[0m\n",
      "Stocks Covered Scrape Complete for User: analyst_6236906\n",
      "\u001b[91mError while pulling Pending Estimates for User: analyst_6236906\u001b[0m\n",
      "Pending Estimates Scrape Complete for User: analyst_6236906\n",
      "Scored Estimates Scrape Complete for User: analyst_6236906\n",
      "Time: 2023-11-26 20:04:42.010388\n",
      "Stocks Covered Scrape Complete for User: analyst_2243905\n",
      "\u001b[91mError while pulling Pending Estimates for User: analyst_2243905\u001b[0m\n",
      "Pending Estimates Scrape Complete for User: analyst_2243905\n",
      "Scored Estimates Scrape Complete for User: analyst_2243905\n",
      "Time: 2023-11-26 20:04:45.924842\n",
      "\u001b[91mError while pulling Stocks Covered for User: analyst_2625108\u001b[0m\n",
      "Stocks Covered Scrape Complete for User: analyst_2625108\n",
      "\u001b[91mError while pulling Pending Estimates for User: analyst_2625108\u001b[0m\n",
      "Pending Estimates Scrape Complete for User: analyst_2625108\n",
      "Scored Estimates Scrape Complete for User: analyst_2625108\n",
      "Time: 2023-11-26 20:04:52.240265\n",
      "Stocks Covered Scrape Complete for User: analyst_1450318\n",
      "\u001b[91mError while pulling Pending Estimates for User: analyst_1450318\u001b[0m\n",
      "Pending Estimates Scrape Complete for User: analyst_1450318\n",
      "Scored Estimates Scrape Complete for User: analyst_1450318\n",
      "Time: 2023-11-26 20:04:56.715009\n",
      "Stocks Covered Scrape Complete for User: analyst_4891908\n",
      "\u001b[91mError while pulling Pending Estimates for User: analyst_4891908\u001b[0m\n",
      "Pending Estimates Scrape Complete for User: analyst_4891908\n",
      "Scored Estimates Scrape Complete for User: analyst_4891908\n",
      "Time: 2023-11-26 20:05:00.391716\n",
      "Stocks Covered Scrape Complete for User: ssm2154\n",
      "\u001b[91mError while pulling Pending Estimates for User: ssm2154\u001b[0m\n",
      "Pending Estimates Scrape Complete for User: ssm2154\n",
      "Scored Estimates Scrape Complete for User: ssm2154\n",
      "Time: 2023-11-26 20:05:04.421566\n",
      "Stocks Covered Scrape Complete for User: analyst_5453715\n",
      "\u001b[91mError while pulling Pending Estimates for User: analyst_5453715\u001b[0m\n",
      "Pending Estimates Scrape Complete for User: analyst_5453715\n",
      "Scored Estimates Scrape Complete for User: analyst_5453715\n",
      "Time: 2023-11-26 20:05:08.077002\n",
      "Stocks Covered Scrape Complete for User: analyst_8266584\n",
      "\u001b[91mError while pulling Pending Estimates for User: analyst_8266584\u001b[0m\n",
      "Pending Estimates Scrape Complete for User: analyst_8266584\n",
      "Scored Estimates Scrape Complete for User: analyst_8266584\n",
      "Time: 2023-11-26 20:05:11.711737\n",
      "Stocks Covered Scrape Complete for User: analyst_6745214\n",
      "\u001b[91mError while pulling Pending Estimates for User: analyst_6745214\u001b[0m\n",
      "Pending Estimates Scrape Complete for User: analyst_6745214\n",
      "Scored Estimates Scrape Complete for User: analyst_6745214\n",
      "Time: 2023-11-26 20:05:15.428768\n",
      "Stocks Covered Scrape Complete for User: analyst_5684241\n",
      "\u001b[91mError while pulling Pending Estimates for User: analyst_5684241\u001b[0m\n",
      "Pending Estimates Scrape Complete for User: analyst_5684241\n",
      "Scored Estimates Scrape Complete for User: analyst_5684241\n",
      "Time: 2023-11-26 20:05:19.076975\n",
      "Stocks Covered Scrape Complete for User: analyst_8034001\n",
      "\u001b[91mError while pulling Pending Estimates for User: analyst_8034001\u001b[0m\n",
      "Pending Estimates Scrape Complete for User: analyst_8034001\n",
      "Scored Estimates Scrape Complete for User: analyst_8034001\n",
      "Time: 2023-11-26 20:05:23.727189\n",
      "Stocks Covered Scrape Complete for User: analyst_3611275\n",
      "\u001b[91mError while pulling Pending Estimates for User: analyst_3611275\u001b[0m\n",
      "Pending Estimates Scrape Complete for User: analyst_3611275\n",
      "Scored Estimates Scrape Complete for User: analyst_3611275\n",
      "Time: 2023-11-26 20:05:27.353290\n",
      "Stocks Covered Scrape Complete for User: analyst_4089110\n",
      "\u001b[91mError while pulling Pending Estimates for User: analyst_4089110\u001b[0m\n",
      "Pending Estimates Scrape Complete for User: analyst_4089110\n",
      "Scored Estimates Scrape Complete for User: analyst_4089110\n",
      "Time: 2023-11-26 20:05:30.987574\n",
      "Stocks Covered Scrape Complete for User: analyst_967867\n",
      "\u001b[91mError while pulling Pending Estimates for User: analyst_967867\u001b[0m\n",
      "Pending Estimates Scrape Complete for User: analyst_967867\n",
      "Scored Estimates Scrape Complete for User: analyst_967867\n",
      "Time: 2023-11-26 20:05:34.773892\n",
      "Stocks Covered Scrape Complete for User: analyst_5680509\n",
      "\u001b[91mError while pulling Pending Estimates for User: analyst_5680509\u001b[0m\n",
      "Pending Estimates Scrape Complete for User: analyst_5680509\n",
      "Scored Estimates Scrape Complete for User: analyst_5680509\n",
      "Time: 2023-11-26 20:05:38.558571\n",
      "Stocks Covered Scrape Complete for User: analyst_7424173\n",
      "\u001b[91mError while pulling Pending Estimates for User: analyst_7424173\u001b[0m\n",
      "Pending Estimates Scrape Complete for User: analyst_7424173\n",
      "Scored Estimates Scrape Complete for User: analyst_7424173\n",
      "Time: 2023-11-26 20:05:42.552803\n",
      "Stocks Covered Scrape Complete for User: analyst_9491807\n",
      "\u001b[91mError while pulling Pending Estimates for User: analyst_9491807\u001b[0m\n",
      "Pending Estimates Scrape Complete for User: analyst_9491807\n",
      "Scored Estimates Scrape Complete for User: analyst_9491807\n",
      "Time: 2023-11-26 20:05:46.265196\n",
      "Stocks Covered Scrape Complete for User: analyst_1997248\n",
      "\u001b[91mError while pulling Pending Estimates for User: analyst_1997248\u001b[0m\n",
      "Pending Estimates Scrape Complete for User: analyst_1997248\n",
      "Scored Estimates Scrape Complete for User: analyst_1997248\n",
      "Time: 2023-11-26 20:05:49.803752\n",
      "Stocks Covered Scrape Complete for User: tavrand\n",
      "\u001b[91mError while pulling Pending Estimates for User: tavrand\u001b[0m\n",
      "Pending Estimates Scrape Complete for User: tavrand\n",
      "Scored Estimates Scrape Complete for User: tavrand\n",
      "Time: 2023-11-26 20:05:54.194613\n",
      "\u001b[91mError while pulling Stocks Covered for User: analyst_522419\u001b[0m\n",
      "Stocks Covered Scrape Complete for User: analyst_522419\n",
      "\u001b[91mError while pulling Pending Estimates for User: analyst_522419\u001b[0m\n",
      "Pending Estimates Scrape Complete for User: analyst_522419\n",
      "Scored Estimates Scrape Complete for User: analyst_522419\n",
      "Time: 2023-11-26 20:06:00.445036\n",
      "Stocks Covered Scrape Complete for User: analyst_5947236\n",
      "\u001b[91mError while pulling Pending Estimates for User: analyst_5947236\u001b[0m\n",
      "Pending Estimates Scrape Complete for User: analyst_5947236\n",
      "Scored Estimates Scrape Complete for User: analyst_5947236\n",
      "Time: 2023-11-26 20:06:04.502434\n",
      "Stocks Covered Scrape Complete for User: analyst_6785487\n",
      "\u001b[91mError while pulling Pending Estimates for User: analyst_6785487\u001b[0m\n",
      "Pending Estimates Scrape Complete for User: analyst_6785487\n",
      "Scored Estimates Scrape Complete for User: analyst_6785487\n",
      "Time: 2023-11-26 20:06:08.523697\n",
      "\u001b[91mError while pulling Stocks Covered for User: analyst_6617557\u001b[0m\n",
      "Stocks Covered Scrape Complete for User: analyst_6617557\n",
      "\u001b[91mError while pulling Pending Estimates for User: analyst_6617557\u001b[0m\n",
      "Pending Estimates Scrape Complete for User: analyst_6617557\n",
      "Scored Estimates Scrape Complete for User: analyst_6617557\n",
      "Time: 2023-11-26 20:06:14.773045\n",
      "\u001b[91mError while pulling Stocks Covered for User: analyst_8806967\u001b[0m\n",
      "Stocks Covered Scrape Complete for User: analyst_8806967\n",
      "\u001b[91mError while pulling Pending Estimates for User: analyst_8806967\u001b[0m\n",
      "Pending Estimates Scrape Complete for User: analyst_8806967\n",
      "Scored Estimates Scrape Complete for User: analyst_8806967\n",
      "Time: 2023-11-26 20:06:21.088727\n",
      "Stocks Covered Scrape Complete for User: analyst_1940170\n",
      "\u001b[91mError while pulling Pending Estimates for User: analyst_1940170\u001b[0m\n",
      "Pending Estimates Scrape Complete for User: analyst_1940170\n",
      "Scored Estimates Scrape Complete for User: analyst_1940170\n",
      "Time: 2023-11-26 20:06:24.688435\n",
      "Stocks Covered Scrape Complete for User: analyst_6972801\n",
      "\u001b[91mError while pulling Pending Estimates for User: analyst_6972801\u001b[0m\n",
      "Pending Estimates Scrape Complete for User: analyst_6972801\n",
      "Scored Estimates Scrape Complete for User: analyst_6972801\n",
      "Time: 2023-11-26 20:06:28.735274\n",
      "Stocks Covered Scrape Complete for User: analyst_1411708\n",
      "\u001b[91mError while pulling Pending Estimates for User: analyst_1411708\u001b[0m\n",
      "Pending Estimates Scrape Complete for User: analyst_1411708\n",
      "Scored Estimates Scrape Complete for User: analyst_1411708\n",
      "Time: 2023-11-26 20:06:32.294944\n",
      "Stocks Covered Scrape Complete for User: qda\n",
      "\u001b[91mError while pulling Pending Estimates for User: qda\u001b[0m\n",
      "Pending Estimates Scrape Complete for User: qda\n",
      "Scored Estimates Scrape Complete for User: qda\n",
      "Time: 2023-11-26 20:06:36.368364\n",
      "Stocks Covered Scrape Complete for User: analyst_6798867\n",
      "\u001b[91mError while pulling Pending Estimates for User: analyst_6798867\u001b[0m\n",
      "Pending Estimates Scrape Complete for User: analyst_6798867\n",
      "Scored Estimates Scrape Complete for User: analyst_6798867\n",
      "Time: 2023-11-26 20:06:40.017542\n",
      "\u001b[91mError while pulling Stocks Covered for User: analyst_3514264\u001b[0m\n",
      "Stocks Covered Scrape Complete for User: analyst_3514264\n",
      "\u001b[91mError while pulling Pending Estimates for User: analyst_3514264\u001b[0m\n",
      "Pending Estimates Scrape Complete for User: analyst_3514264\n",
      "Scored Estimates Scrape Complete for User: analyst_3514264\n",
      "Time: 2023-11-26 20:06:46.251683\n",
      "Stocks Covered Scrape Complete for User: analyst_5014268\n",
      "\u001b[91mError while pulling Pending Estimates for User: analyst_5014268\u001b[0m\n",
      "Pending Estimates Scrape Complete for User: analyst_5014268\n",
      "Scored Estimates Scrape Complete for User: analyst_5014268\n",
      "Time: 2023-11-26 20:06:50.009813\n",
      "Stocks Covered Scrape Complete for User: analyst_3880396\n",
      "\u001b[91mError while pulling Pending Estimates for User: analyst_3880396\u001b[0m\n",
      "Pending Estimates Scrape Complete for User: analyst_3880396\n",
      "Scored Estimates Scrape Complete for User: analyst_3880396\n",
      "Time: 2023-11-26 20:06:53.661887\n",
      "Stocks Covered Scrape Complete for User: aracknido\n",
      "\u001b[91mError while pulling Pending Estimates for User: aracknido\u001b[0m\n",
      "Pending Estimates Scrape Complete for User: aracknido\n",
      "Scored Estimates Scrape Complete for User: aracknido\n",
      "Time: 2023-11-26 20:06:57.656431\n",
      "Stocks Covered Scrape Complete for User: 4sighttrader\n",
      "\u001b[91mError while pulling Pending Estimates for User: 4sighttrader\u001b[0m\n",
      "Pending Estimates Scrape Complete for User: 4sighttrader\n",
      "Scored Estimates Scrape Complete for User: 4sighttrader\n",
      "Time: 2023-11-26 20:07:01.345902\n",
      "\u001b[91mError while pulling Stocks Covered for User: analyst_3072066\u001b[0m\n",
      "Stocks Covered Scrape Complete for User: analyst_3072066\n",
      "\u001b[91mError while pulling Pending Estimates for User: analyst_3072066\u001b[0m\n",
      "Pending Estimates Scrape Complete for User: analyst_3072066\n",
      "Scored Estimates Scrape Complete for User: analyst_3072066\n",
      "Time: 2023-11-26 20:07:07.669482\n",
      "Stocks Covered Scrape Complete for User: analyst_3683548\n",
      "\u001b[91mError while pulling Pending Estimates for User: analyst_3683548\u001b[0m\n",
      "Pending Estimates Scrape Complete for User: analyst_3683548\n",
      "Scored Estimates Scrape Complete for User: analyst_3683548\n",
      "Time: 2023-11-26 20:07:11.446070\n",
      "Stocks Covered Scrape Complete for User: analyst_6516622\n",
      "\u001b[91mError while pulling Pending Estimates for User: analyst_6516622\u001b[0m\n",
      "Pending Estimates Scrape Complete for User: analyst_6516622\n",
      "Scored Estimates Scrape Complete for User: analyst_6516622\n",
      "Time: 2023-11-26 20:07:15.277610\n",
      "Stocks Covered Scrape Complete for User: analyst_844827\n",
      "\u001b[91mError while pulling Pending Estimates for User: analyst_844827\u001b[0m\n",
      "Pending Estimates Scrape Complete for User: analyst_844827\n",
      "Scored Estimates Scrape Complete for User: analyst_844827\n",
      "Time: 2023-11-26 20:07:19.003119\n",
      "Stocks Covered Scrape Complete for User: tzhang042\n",
      "\u001b[91mError while pulling Pending Estimates for User: tzhang042\u001b[0m\n",
      "Pending Estimates Scrape Complete for User: tzhang042\n",
      "Scored Estimates Scrape Complete for User: tzhang042\n",
      "Time: 2023-11-26 20:07:23.531608\n",
      "Stocks Covered Scrape Complete for User: analyst_7342444\n",
      "\u001b[91mError while pulling Pending Estimates for User: analyst_7342444\u001b[0m\n",
      "Pending Estimates Scrape Complete for User: analyst_7342444\n",
      "Scored Estimates Scrape Complete for User: analyst_7342444\n",
      "Time: 2023-11-26 20:07:27.186509\n",
      "Stocks Covered Scrape Complete for User: analyst_621109\n",
      "\u001b[91mError while pulling Pending Estimates for User: analyst_621109\u001b[0m\n",
      "Pending Estimates Scrape Complete for User: analyst_621109\n",
      "Scored Estimates Scrape Complete for User: analyst_621109\n",
      "Time: 2023-11-26 20:07:30.870849\n",
      "Stocks Covered Scrape Complete for User: analyst_2551812\n",
      "\u001b[91mError while pulling Pending Estimates for User: analyst_2551812\u001b[0m\n",
      "Pending Estimates Scrape Complete for User: analyst_2551812\n",
      "Scored Estimates Scrape Complete for User: analyst_2551812\n",
      "Time: 2023-11-26 20:07:34.511338\n",
      "Stocks Covered Scrape Complete for User: analyst_2544143\n",
      "\u001b[91mError while pulling Pending Estimates for User: analyst_2544143\u001b[0m\n",
      "Pending Estimates Scrape Complete for User: analyst_2544143\n",
      "Scored Estimates Scrape Complete for User: analyst_2544143\n",
      "Time: 2023-11-26 20:07:38.114542\n",
      "Stocks Covered Scrape Complete for User: analyst_8725423\n",
      "\u001b[91mError while pulling Pending Estimates for User: analyst_8725423\u001b[0m\n",
      "Pending Estimates Scrape Complete for User: analyst_8725423\n",
      "Scored Estimates Scrape Complete for User: analyst_8725423\n",
      "Time: 2023-11-26 20:07:41.841853\n",
      "Stocks Covered Scrape Complete for User: analyst_6434515\n",
      "\u001b[91mError while pulling Pending Estimates for User: analyst_6434515\u001b[0m\n",
      "Pending Estimates Scrape Complete for User: analyst_6434515\n",
      "Scored Estimates Scrape Complete for User: analyst_6434515\n",
      "Time: 2023-11-26 20:07:45.507316\n",
      "Stocks Covered Scrape Complete for User: layssi\n",
      "\u001b[91mError while pulling Pending Estimates for User: layssi\u001b[0m\n",
      "Pending Estimates Scrape Complete for User: layssi\n",
      "Scored Estimates Scrape Complete for User: layssi\n",
      "Time: 2023-11-26 20:07:49.276548\n",
      "Stocks Covered Scrape Complete for User: benjenholdings\n",
      "\u001b[91mError while pulling Pending Estimates for User: benjenholdings\u001b[0m\n",
      "Pending Estimates Scrape Complete for User: benjenholdings\n",
      "Scored Estimates Scrape Complete for User: benjenholdings\n",
      "Time: 2023-11-26 20:07:54.518527\n",
      "Stocks Covered Scrape Complete for User: analyst_2192296\n",
      "\u001b[91mError while pulling Pending Estimates for User: analyst_2192296\u001b[0m\n",
      "Pending Estimates Scrape Complete for User: analyst_2192296\n",
      "Scored Estimates Scrape Complete for User: analyst_2192296\n",
      "Time: 2023-11-26 20:07:58.197180\n",
      "Stocks Covered Scrape Complete for User: felipe252\n",
      "\u001b[91mError while pulling Pending Estimates for User: felipe252\u001b[0m\n",
      "Pending Estimates Scrape Complete for User: felipe252\n",
      "Scored Estimates Scrape Complete for User: felipe252\n",
      "Time: 2023-11-26 20:08:01.823399\n",
      "Stocks Covered Scrape Complete for User: analyst_5201279\n",
      "\u001b[91mError while pulling Pending Estimates for User: analyst_5201279\u001b[0m\n",
      "Pending Estimates Scrape Complete for User: analyst_5201279\n",
      "Scored Estimates Scrape Complete for User: analyst_5201279\n",
      "Time: 2023-11-26 20:08:05.569308\n",
      "Stocks Covered Scrape Complete for User: analyst_6543055\n",
      "\u001b[91mError while pulling Pending Estimates for User: analyst_6543055\u001b[0m\n",
      "Pending Estimates Scrape Complete for User: analyst_6543055\n",
      "Scored Estimates Scrape Complete for User: analyst_6543055\n",
      "Time: 2023-11-26 20:08:10.027536\n",
      "Stocks Covered Scrape Complete for User: analyst_4039570\n",
      "\u001b[91mError while pulling Pending Estimates for User: analyst_4039570\u001b[0m\n",
      "Pending Estimates Scrape Complete for User: analyst_4039570\n",
      "Scored Estimates Scrape Complete for User: analyst_4039570\n",
      "Time: 2023-11-26 20:08:13.971917\n",
      "Stocks Covered Scrape Complete for User: frequency451\n",
      "\u001b[91mError while pulling Pending Estimates for User: frequency451\u001b[0m\n",
      "Pending Estimates Scrape Complete for User: frequency451\n",
      "Scored Estimates Scrape Complete for User: frequency451\n",
      "Time: 2023-11-26 20:08:17.613481\n",
      "Stocks Covered Scrape Complete for User: analyst_4093104\n",
      "\u001b[91mError while pulling Pending Estimates for User: analyst_4093104\u001b[0m\n",
      "Pending Estimates Scrape Complete for User: analyst_4093104\n",
      "Scored Estimates Scrape Complete for User: analyst_4093104\n",
      "Time: 2023-11-26 20:08:21.483951\n",
      "Stocks Covered Scrape Complete for User: shauno\n",
      "\u001b[91mError while pulling Pending Estimates for User: shauno\u001b[0m\n",
      "Pending Estimates Scrape Complete for User: shauno\n",
      "Scored Estimates Scrape Complete for User: shauno\n",
      "Time: 2023-11-26 20:08:25.950727\n",
      "Stocks Covered Scrape Complete for User: analyst_3240984\n",
      "\u001b[91mError while pulling Pending Estimates for User: analyst_3240984\u001b[0m\n",
      "Pending Estimates Scrape Complete for User: analyst_3240984\n",
      "Scored Estimates Scrape Complete for User: analyst_3240984\n",
      "Time: 2023-11-26 20:08:29.527969\n",
      "Stocks Covered Scrape Complete for User: analyst_4953057\n",
      "\u001b[91mError while pulling Pending Estimates for User: analyst_4953057\u001b[0m\n",
      "Pending Estimates Scrape Complete for User: analyst_4953057\n",
      "Scored Estimates Scrape Complete for User: analyst_4953057\n",
      "Time: 2023-11-26 20:08:33.200586\n",
      "Stocks Covered Scrape Complete for User: shshao\n",
      "\u001b[91mError while pulling Pending Estimates for User: shshao\u001b[0m\n",
      "Pending Estimates Scrape Complete for User: shshao\n",
      "Scored Estimates Scrape Complete for User: shshao\n",
      "Time: 2023-11-26 20:08:37.164400\n",
      "Stocks Covered Scrape Complete for User: davidmurray\n",
      "\u001b[91mError while pulling Pending Estimates for User: davidmurray\u001b[0m\n",
      "Pending Estimates Scrape Complete for User: davidmurray\n",
      "Scored Estimates Scrape Complete for User: davidmurray\n",
      "Time: 2023-11-26 20:08:41.212906\n",
      "Stocks Covered Scrape Complete for User: analyst_1243123\n",
      "\u001b[91mError while pulling Pending Estimates for User: analyst_1243123\u001b[0m\n",
      "Pending Estimates Scrape Complete for User: analyst_1243123\n",
      "Scored Estimates Scrape Complete for User: analyst_1243123\n",
      "Time: 2023-11-26 20:08:44.861992\n",
      "Stocks Covered Scrape Complete for User: analyst-7511863\n",
      "\u001b[91mError while pulling Pending Estimates for User: analyst-7511863\u001b[0m\n",
      "Pending Estimates Scrape Complete for User: analyst-7511863\n",
      "Scored Estimates Scrape Complete for User: analyst-7511863\n",
      "Time: 2023-11-26 20:08:49.340984\n",
      "\u001b[91mError while pulling Stocks Covered for User: analyst_6142161\u001b[0m\n",
      "Stocks Covered Scrape Complete for User: analyst_6142161\n",
      "\u001b[91mError while pulling Pending Estimates for User: analyst_6142161\u001b[0m\n",
      "Pending Estimates Scrape Complete for User: analyst_6142161\n",
      "Scored Estimates Scrape Complete for User: analyst_6142161\n",
      "Time: 2023-11-26 20:08:55.620179\n",
      "Stocks Covered Scrape Complete for User: analyst_927739\n",
      "\u001b[91mError while pulling Pending Estimates for User: analyst_927739\u001b[0m\n",
      "Pending Estimates Scrape Complete for User: analyst_927739\n",
      "Scored Estimates Scrape Complete for User: analyst_927739\n",
      "Time: 2023-11-26 20:08:59.295042\n",
      "Stocks Covered Scrape Complete for User: analyst_602478\n",
      "\u001b[91mError while pulling Pending Estimates for User: analyst_602478\u001b[0m\n",
      "Pending Estimates Scrape Complete for User: analyst_602478\n",
      "Scored Estimates Scrape Complete for User: analyst_602478\n",
      "Time: 2023-11-26 20:09:03.200832\n",
      "Stocks Covered Scrape Complete for User: columbia-75\n",
      "\u001b[91mError while pulling Pending Estimates for User: columbia-75\u001b[0m\n",
      "Pending Estimates Scrape Complete for User: columbia-75\n",
      "Scored Estimates Scrape Complete for User: columbia-75\n",
      "Time: 2023-11-26 20:09:07.230052\n",
      "Stocks Covered Scrape Complete for User: analyst_8022521\n",
      "\u001b[91mError while pulling Pending Estimates for User: analyst_8022521\u001b[0m\n",
      "Pending Estimates Scrape Complete for User: analyst_8022521\n",
      "Scored Estimates Scrape Complete for User: analyst_8022521\n",
      "Time: 2023-11-26 20:09:10.951953\n",
      "Stocks Covered Scrape Complete for User: analyst_2281186\n",
      "\u001b[91mError while pulling Pending Estimates for User: analyst_2281186\u001b[0m\n",
      "Pending Estimates Scrape Complete for User: analyst_2281186\n",
      "Scored Estimates Scrape Complete for User: analyst_2281186\n",
      "Time: 2023-11-26 20:09:15.340329\n",
      "Stocks Covered Scrape Complete for User: sgirme\n",
      "\u001b[91mError while pulling Pending Estimates for User: sgirme\u001b[0m\n",
      "Pending Estimates Scrape Complete for User: sgirme\n",
      "Scored Estimates Scrape Complete for User: sgirme\n",
      "Time: 2023-11-26 20:09:19.727907\n",
      "Stocks Covered Scrape Complete for User: analyst_8823285\n",
      "\u001b[91mError while pulling Pending Estimates for User: analyst_8823285\u001b[0m\n",
      "Pending Estimates Scrape Complete for User: analyst_8823285\n",
      "Scored Estimates Scrape Complete for User: analyst_8823285\n",
      "Time: 2023-11-26 20:09:24.146885\n",
      "\u001b[91mError while pulling Stocks Covered for User: analyst_408506\u001b[0m\n",
      "Stocks Covered Scrape Complete for User: analyst_408506\n",
      "\u001b[91mError while pulling Pending Estimates for User: analyst_408506\u001b[0m\n",
      "Pending Estimates Scrape Complete for User: analyst_408506\n",
      "Scored Estimates Scrape Complete for User: analyst_408506\n",
      "Time: 2023-11-26 20:09:30.476831\n",
      "Stocks Covered Scrape Complete for User: analyst_2161280\n",
      "\u001b[91mError while pulling Pending Estimates for User: analyst_2161280\u001b[0m\n",
      "Pending Estimates Scrape Complete for User: analyst_2161280\n",
      "Scored Estimates Scrape Complete for User: analyst_2161280\n",
      "Time: 2023-11-26 20:09:34.144133\n",
      "Stocks Covered Scrape Complete for User: analyst_6058859\n",
      "\u001b[91mError while pulling Pending Estimates for User: analyst_6058859\u001b[0m\n",
      "Pending Estimates Scrape Complete for User: analyst_6058859\n",
      "Scored Estimates Scrape Complete for User: analyst_6058859\n",
      "Time: 2023-11-26 20:09:37.885726\n",
      "\u001b[91mError while pulling Stocks Covered for User: analyst_7335690\u001b[0m\n",
      "Stocks Covered Scrape Complete for User: analyst_7335690\n",
      "\u001b[91mError while pulling Pending Estimates for User: analyst_7335690\u001b[0m\n",
      "Pending Estimates Scrape Complete for User: analyst_7335690\n",
      "Scored Estimates Scrape Complete for User: analyst_7335690\n",
      "Time: 2023-11-26 20:09:44.149650\n",
      "Stocks Covered Scrape Complete for User: analyst_5087044\n",
      "\u001b[91mError while pulling Pending Estimates for User: analyst_5087044\u001b[0m\n",
      "Pending Estimates Scrape Complete for User: analyst_5087044\n",
      "Scored Estimates Scrape Complete for User: analyst_5087044\n",
      "Time: 2023-11-26 20:09:47.764451\n",
      "Stocks Covered Scrape Complete for User: analyst_6477292\n",
      "\u001b[91mError while pulling Pending Estimates for User: analyst_6477292\u001b[0m\n",
      "Pending Estimates Scrape Complete for User: analyst_6477292\n",
      "Scored Estimates Scrape Complete for User: analyst_6477292\n",
      "Time: 2023-11-26 20:09:51.434418\n",
      "Stocks Covered Scrape Complete for User: analyst_993722\n",
      "\u001b[91mError while pulling Pending Estimates for User: analyst_993722\u001b[0m\n",
      "Pending Estimates Scrape Complete for User: analyst_993722\n",
      "Scored Estimates Scrape Complete for User: analyst_993722\n",
      "Time: 2023-11-26 20:09:55.025001\n",
      "Stocks Covered Scrape Complete for User: analyst_691486\n",
      "\u001b[91mError while pulling Pending Estimates for User: analyst_691486\u001b[0m\n",
      "Pending Estimates Scrape Complete for User: analyst_691486\n",
      "Scored Estimates Scrape Complete for User: analyst_691486\n",
      "Time: 2023-11-26 20:09:58.664866\n",
      "Stocks Covered Scrape Complete for User: analyst_8451360\n",
      "\u001b[91mError while pulling Pending Estimates for User: analyst_8451360\u001b[0m\n",
      "Pending Estimates Scrape Complete for User: analyst_8451360\n",
      "Scored Estimates Scrape Complete for User: analyst_8451360\n",
      "Time: 2023-11-26 20:10:02.712860\n",
      "Stocks Covered Scrape Complete for User: analyst_5714798\n",
      "\u001b[91mError while pulling Pending Estimates for User: analyst_5714798\u001b[0m\n",
      "Pending Estimates Scrape Complete for User: analyst_5714798\n",
      "Scored Estimates Scrape Complete for User: analyst_5714798\n",
      "Time: 2023-11-26 20:10:07.189039\n",
      "Stocks Covered Scrape Complete for User: analyst-6857472\n",
      "\u001b[91mError while pulling Pending Estimates for User: analyst-6857472\u001b[0m\n",
      "Pending Estimates Scrape Complete for User: analyst-6857472\n",
      "\u001b[91mError while pulling Scored Estimates for User: analyst-6857472\u001b[0m\n",
      "Scored Estimates Scrape Complete for User: analyst-6857472\n",
      "Time: 2023-11-26 20:10:12.476230\n",
      "Stocks Covered Scrape Complete for User: analyst_600778\n",
      "\u001b[91mError while pulling Pending Estimates for User: analyst_600778\u001b[0m\n",
      "Pending Estimates Scrape Complete for User: analyst_600778\n",
      "Scored Estimates Scrape Complete for User: analyst_600778\n",
      "Time: 2023-11-26 20:10:16.464920\n",
      "Stocks Covered Scrape Complete for User: analyst_1536505\n",
      "\u001b[91mError while pulling Pending Estimates for User: analyst_1536505\u001b[0m\n",
      "Pending Estimates Scrape Complete for User: analyst_1536505\n",
      "Scored Estimates Scrape Complete for User: analyst_1536505\n",
      "Time: 2023-11-26 20:10:20.913684\n",
      "Stocks Covered Scrape Complete for User: analyst_9369579\n",
      "\u001b[91mError while pulling Pending Estimates for User: analyst_9369579\u001b[0m\n",
      "Pending Estimates Scrape Complete for User: analyst_9369579\n",
      "Scored Estimates Scrape Complete for User: analyst_9369579\n",
      "Time: 2023-11-26 20:10:24.838960\n",
      "Stocks Covered Scrape Complete for User: analyst_7099482\n",
      "\u001b[91mError while pulling Pending Estimates for User: analyst_7099482\u001b[0m\n",
      "Pending Estimates Scrape Complete for User: analyst_7099482\n",
      "Scored Estimates Scrape Complete for User: analyst_7099482\n",
      "Time: 2023-11-26 20:10:28.551182\n",
      "Stocks Covered Scrape Complete for User: kelly-patrick\n",
      "\u001b[91mError while pulling Pending Estimates for User: kelly-patrick\u001b[0m\n",
      "Pending Estimates Scrape Complete for User: kelly-patrick\n",
      "Scored Estimates Scrape Complete for User: kelly-patrick\n",
      "Time: 2023-11-26 20:10:32.073211\n",
      "Stocks Covered Scrape Complete for User: analyst_237436\n",
      "\u001b[91mError while pulling Pending Estimates for User: analyst_237436\u001b[0m\n",
      "Pending Estimates Scrape Complete for User: analyst_237436\n",
      "Scored Estimates Scrape Complete for User: analyst_237436\n",
      "Time: 2023-11-26 20:10:35.714072\n",
      "Stocks Covered Scrape Complete for User: analyst_6157337\n",
      "\u001b[91mError while pulling Pending Estimates for User: analyst_6157337\u001b[0m\n",
      "Pending Estimates Scrape Complete for User: analyst_6157337\n",
      "Scored Estimates Scrape Complete for User: analyst_6157337\n",
      "Time: 2023-11-26 20:10:39.474849\n",
      "Stocks Covered Scrape Complete for User: analyst_8424439\n",
      "\u001b[91mError while pulling Pending Estimates for User: analyst_8424439\u001b[0m\n",
      "Pending Estimates Scrape Complete for User: analyst_8424439\n",
      "Scored Estimates Scrape Complete for User: analyst_8424439\n",
      "Time: 2023-11-26 20:10:43.134919\n",
      "Stocks Covered Scrape Complete for User: analyst_9481230\n",
      "\u001b[91mError while pulling Pending Estimates for User: analyst_9481230\u001b[0m\n",
      "Pending Estimates Scrape Complete for User: analyst_9481230\n",
      "\u001b[91mError while pulling Scored Estimates for User: analyst_9481230\u001b[0m\n",
      "Scored Estimates Scrape Complete for User: analyst_9481230\n",
      "Time: 2023-11-26 20:10:48.311954\n",
      "Stocks Covered Scrape Complete for User: analyst_7780822\n",
      "\u001b[91mError while pulling Pending Estimates for User: analyst_7780822\u001b[0m\n",
      "Pending Estimates Scrape Complete for User: analyst_7780822\n",
      "Scored Estimates Scrape Complete for User: analyst_7780822\n",
      "Time: 2023-11-26 20:10:52.240605\n",
      "Stocks Covered Scrape Complete for User: analyst_5957796\n",
      "\u001b[91mError while pulling Pending Estimates for User: analyst_5957796\u001b[0m\n",
      "Pending Estimates Scrape Complete for User: analyst_5957796\n",
      "Scored Estimates Scrape Complete for User: analyst_5957796\n",
      "Time: 2023-11-26 20:10:56.210338\n",
      "Stocks Covered Scrape Complete for User: analyst_6643776\n",
      "\u001b[91mError while pulling Pending Estimates for User: analyst_6643776\u001b[0m\n",
      "Pending Estimates Scrape Complete for User: analyst_6643776\n",
      "Scored Estimates Scrape Complete for User: analyst_6643776\n",
      "Time: 2023-11-26 20:10:59.819793\n",
      "Stocks Covered Scrape Complete for User: analyst_1982061\n",
      "\u001b[91mError while pulling Pending Estimates for User: analyst_1982061\u001b[0m\n",
      "Pending Estimates Scrape Complete for User: analyst_1982061\n",
      "Scored Estimates Scrape Complete for User: analyst_1982061\n",
      "Time: 2023-11-26 20:11:03.521905\n",
      "Stocks Covered Scrape Complete for User: analyst_4379408\n",
      "\u001b[91mError while pulling Pending Estimates for User: analyst_4379408\u001b[0m\n",
      "Pending Estimates Scrape Complete for User: analyst_4379408\n",
      "Scored Estimates Scrape Complete for User: analyst_4379408\n",
      "Time: 2023-11-26 20:11:07.318996\n",
      "Stocks Covered Scrape Complete for User: analyst_8702432\n",
      "\u001b[91mError while pulling Pending Estimates for User: analyst_8702432\u001b[0m\n",
      "Pending Estimates Scrape Complete for User: analyst_8702432\n",
      "Scored Estimates Scrape Complete for User: analyst_8702432\n",
      "Time: 2023-11-26 20:11:11.003410\n",
      "Stocks Covered Scrape Complete for User: analyst_783766\n",
      "\u001b[91mError while pulling Pending Estimates for User: analyst_783766\u001b[0m\n",
      "Pending Estimates Scrape Complete for User: analyst_783766\n",
      "Scored Estimates Scrape Complete for User: analyst_783766\n",
      "Time: 2023-11-26 20:11:14.660720\n",
      "Stocks Covered Scrape Complete for User: analyst_2657929\n",
      "\u001b[91mError while pulling Pending Estimates for User: analyst_2657929\u001b[0m\n",
      "Pending Estimates Scrape Complete for User: analyst_2657929\n",
      "Scored Estimates Scrape Complete for User: analyst_2657929\n",
      "Time: 2023-11-26 20:11:18.345128\n",
      "Stocks Covered Scrape Complete for User: analyst_1744416\n",
      "\u001b[91mError while pulling Pending Estimates for User: analyst_1744416\u001b[0m\n",
      "Pending Estimates Scrape Complete for User: analyst_1744416\n",
      "Scored Estimates Scrape Complete for User: analyst_1744416\n",
      "Time: 2023-11-26 20:11:22.063643\n",
      "Stocks Covered Scrape Complete for User: analyst_341246\n",
      "\u001b[91mError while pulling Pending Estimates for User: analyst_341246\u001b[0m\n",
      "Pending Estimates Scrape Complete for User: analyst_341246\n",
      "Scored Estimates Scrape Complete for User: analyst_341246\n",
      "Time: 2023-11-26 20:11:25.695903\n",
      "Stocks Covered Scrape Complete for User: analyst_8042543\n",
      "\u001b[91mError while pulling Pending Estimates for User: analyst_8042543\u001b[0m\n",
      "Pending Estimates Scrape Complete for User: analyst_8042543\n",
      "Scored Estimates Scrape Complete for User: analyst_8042543\n",
      "Time: 2023-11-26 20:11:29.369780\n",
      "\u001b[91mError while pulling Stocks Covered for User: analyst_7111592\u001b[0m\n",
      "Stocks Covered Scrape Complete for User: analyst_7111592\n",
      "\u001b[91mError while pulling Pending Estimates for User: analyst_7111592\u001b[0m\n",
      "Pending Estimates Scrape Complete for User: analyst_7111592\n",
      "Scored Estimates Scrape Complete for User: analyst_7111592\n",
      "Time: 2023-11-26 20:11:35.657982\n",
      "Stocks Covered Scrape Complete for User: analyst_6675357\n",
      "\u001b[91mError while pulling Pending Estimates for User: analyst_6675357\u001b[0m\n",
      "Pending Estimates Scrape Complete for User: analyst_6675357\n",
      "Scored Estimates Scrape Complete for User: analyst_6675357\n",
      "Time: 2023-11-26 20:11:39.225923\n",
      "Stocks Covered Scrape Complete for User: analyst_8343204\n",
      "\u001b[91mError while pulling Pending Estimates for User: analyst_8343204\u001b[0m\n",
      "Pending Estimates Scrape Complete for User: analyst_8343204\n",
      "Scored Estimates Scrape Complete for User: analyst_8343204\n",
      "Time: 2023-11-26 20:11:42.757618\n",
      "Stocks Covered Scrape Complete for User: analyst_2592857\n",
      "\u001b[91mError while pulling Pending Estimates for User: analyst_2592857\u001b[0m\n",
      "Pending Estimates Scrape Complete for User: analyst_2592857\n",
      "Scored Estimates Scrape Complete for User: analyst_2592857\n",
      "Time: 2023-11-26 20:11:47.468027\n",
      "\u001b[91mError while pulling Stocks Covered for User: analyst_5979945\u001b[0m\n",
      "Stocks Covered Scrape Complete for User: analyst_5979945\n",
      "\u001b[91mError while pulling Pending Estimates for User: analyst_5979945\u001b[0m\n",
      "Pending Estimates Scrape Complete for User: analyst_5979945\n",
      "Scored Estimates Scrape Complete for User: analyst_5979945\n",
      "Time: 2023-11-26 20:11:53.717335\n",
      "Stocks Covered Scrape Complete for User: analyst_1520756\n",
      "\u001b[91mError while pulling Pending Estimates for User: analyst_1520756\u001b[0m\n",
      "Pending Estimates Scrape Complete for User: analyst_1520756\n",
      "Scored Estimates Scrape Complete for User: analyst_1520756\n",
      "Time: 2023-11-26 20:11:57.413671\n",
      "Stocks Covered Scrape Complete for User: analyst_1841816\n",
      "\u001b[91mError while pulling Pending Estimates for User: analyst_1841816\u001b[0m\n",
      "Pending Estimates Scrape Complete for User: analyst_1841816\n",
      "Scored Estimates Scrape Complete for User: analyst_1841816\n",
      "Time: 2023-11-26 20:12:01.096147\n",
      "Stocks Covered Scrape Complete for User: analyst_2381222\n",
      "\u001b[91mError while pulling Pending Estimates for User: analyst_2381222\u001b[0m\n",
      "Pending Estimates Scrape Complete for User: analyst_2381222\n",
      "Scored Estimates Scrape Complete for User: analyst_2381222\n",
      "Time: 2023-11-26 20:12:04.709505\n",
      "Stocks Covered Scrape Complete for User: analyst_3748416\n",
      "\u001b[91mError while pulling Pending Estimates for User: analyst_3748416\u001b[0m\n",
      "Pending Estimates Scrape Complete for User: analyst_3748416\n",
      "Scored Estimates Scrape Complete for User: analyst_3748416\n",
      "Time: 2023-11-26 20:12:08.427692\n",
      "\u001b[91mError while pulling Stocks Covered for User: analyst_3601435\u001b[0m\n",
      "Stocks Covered Scrape Complete for User: analyst_3601435\n",
      "\u001b[91mError while pulling Pending Estimates for User: analyst_3601435\u001b[0m\n",
      "Pending Estimates Scrape Complete for User: analyst_3601435\n",
      "Scored Estimates Scrape Complete for User: analyst_3601435\n",
      "Time: 2023-11-26 20:12:14.558744\n",
      "Stocks Covered Scrape Complete for User: analyst_9274543\n",
      "\u001b[91mError while pulling Pending Estimates for User: analyst_9274543\u001b[0m\n",
      "Pending Estimates Scrape Complete for User: analyst_9274543\n",
      "Scored Estimates Scrape Complete for User: analyst_9274543\n",
      "Time: 2023-11-26 20:12:18.213705\n",
      "Stocks Covered Scrape Complete for User: analyst_4103755\n",
      "\u001b[91mError while pulling Pending Estimates for User: analyst_4103755\u001b[0m\n",
      "Pending Estimates Scrape Complete for User: analyst_4103755\n",
      "Scored Estimates Scrape Complete for User: analyst_4103755\n",
      "Time: 2023-11-26 20:12:22.254160\n",
      "Stocks Covered Scrape Complete for User: analyst_334991\n",
      "\u001b[91mError while pulling Pending Estimates for User: analyst_334991\u001b[0m\n",
      "Pending Estimates Scrape Complete for User: analyst_334991\n",
      "Scored Estimates Scrape Complete for User: analyst_334991\n",
      "Time: 2023-11-26 20:12:25.925072\n",
      "Stocks Covered Scrape Complete for User: analyst_9337345\n",
      "\u001b[91mError while pulling Pending Estimates for User: analyst_9337345\u001b[0m\n",
      "Pending Estimates Scrape Complete for User: analyst_9337345\n",
      "Scored Estimates Scrape Complete for User: analyst_9337345\n",
      "Time: 2023-11-26 20:12:29.870815\n",
      "Stocks Covered Scrape Complete for User: analyst_2740733\n",
      "\u001b[91mError while pulling Pending Estimates for User: analyst_2740733\u001b[0m\n",
      "Pending Estimates Scrape Complete for User: analyst_2740733\n",
      "Scored Estimates Scrape Complete for User: analyst_2740733\n",
      "Time: 2023-11-26 20:12:33.496128\n",
      "Stocks Covered Scrape Complete for User: randomtexan\n",
      "\u001b[91mError while pulling Pending Estimates for User: randomtexan\u001b[0m\n",
      "Pending Estimates Scrape Complete for User: randomtexan\n",
      "Scored Estimates Scrape Complete for User: randomtexan\n",
      "Time: 2023-11-26 20:12:37.924977\n",
      "Stocks Covered Scrape Complete for User: madpadde\n",
      "\u001b[91mError while pulling Pending Estimates for User: madpadde\u001b[0m\n",
      "Pending Estimates Scrape Complete for User: madpadde\n",
      "Scored Estimates Scrape Complete for User: madpadde\n",
      "Time: 2023-11-26 20:12:41.907634\n",
      "Stocks Covered Scrape Complete for User: analyst_7892691\n",
      "\u001b[91mError while pulling Pending Estimates for User: analyst_7892691\u001b[0m\n",
      "Pending Estimates Scrape Complete for User: analyst_7892691\n",
      "Scored Estimates Scrape Complete for User: analyst_7892691\n",
      "Time: 2023-11-26 20:12:45.564745\n",
      "Stocks Covered Scrape Complete for User: analyst_7303803\n",
      "\u001b[91mError while pulling Pending Estimates for User: analyst_7303803\u001b[0m\n",
      "Pending Estimates Scrape Complete for User: analyst_7303803\n",
      "Scored Estimates Scrape Complete for User: analyst_7303803\n",
      "Time: 2023-11-26 20:12:49.306867\n",
      "Stocks Covered Scrape Complete for User: analyst_3517667\n",
      "\u001b[91mError while pulling Pending Estimates for User: analyst_3517667\u001b[0m\n",
      "Pending Estimates Scrape Complete for User: analyst_3517667\n",
      "Scored Estimates Scrape Complete for User: analyst_3517667\n",
      "Time: 2023-11-26 20:12:52.986186\n",
      "Stocks Covered Scrape Complete for User: analyst_7556615\n",
      "\u001b[91mError while pulling Pending Estimates for User: analyst_7556615\u001b[0m\n",
      "Pending Estimates Scrape Complete for User: analyst_7556615\n",
      "Scored Estimates Scrape Complete for User: analyst_7556615\n",
      "Time: 2023-11-26 20:12:56.661439\n",
      "Stocks Covered Scrape Complete for User: analyst_5908927\n",
      "\u001b[91mError while pulling Pending Estimates for User: analyst_5908927\u001b[0m\n",
      "Pending Estimates Scrape Complete for User: analyst_5908927\n",
      "Scored Estimates Scrape Complete for User: analyst_5908927\n",
      "Time: 2023-11-26 20:13:00.258470\n",
      "Stocks Covered Scrape Complete for User: analyst_4365415\n",
      "Pending Estimates Scrape Complete for User: analyst_4365415\n",
      "\u001b[91mError while pulling Scored Estimates for User: analyst_4365415\u001b[0m\n",
      "Scored Estimates Scrape Complete for User: analyst_4365415\n",
      "Time: 2023-11-26 20:13:05.076762\n",
      "Stocks Covered Scrape Complete for User: analyst_5542054\n",
      "\u001b[91mError while pulling Pending Estimates for User: analyst_5542054\u001b[0m\n",
      "Pending Estimates Scrape Complete for User: analyst_5542054\n",
      "Scored Estimates Scrape Complete for User: analyst_5542054\n",
      "Time: 2023-11-26 20:13:09.582711\n",
      "Stocks Covered Scrape Complete for User: analyst_6227246\n",
      "\u001b[91mError while pulling Pending Estimates for User: analyst_6227246\u001b[0m\n",
      "Pending Estimates Scrape Complete for User: analyst_6227246\n",
      "Scored Estimates Scrape Complete for User: analyst_6227246\n",
      "Time: 2023-11-26 20:13:13.689492\n",
      "Stocks Covered Scrape Complete for User: analyst_2270090\n",
      "\u001b[91mError while pulling Pending Estimates for User: analyst_2270090\u001b[0m\n",
      "Pending Estimates Scrape Complete for User: analyst_2270090\n",
      "Scored Estimates Scrape Complete for User: analyst_2270090\n",
      "Time: 2023-11-26 20:13:17.416780\n",
      "Stocks Covered Scrape Complete for User: analyst_9977083\n",
      "\u001b[91mError while pulling Pending Estimates for User: analyst_9977083\u001b[0m\n",
      "Pending Estimates Scrape Complete for User: analyst_9977083\n",
      "Scored Estimates Scrape Complete for User: analyst_9977083\n",
      "Time: 2023-11-26 20:13:21.398362\n",
      "Stocks Covered Scrape Complete for User: analyst_487465\n",
      "\u001b[91mError while pulling Pending Estimates for User: analyst_487465\u001b[0m\n",
      "Pending Estimates Scrape Complete for User: analyst_487465\n",
      "Scored Estimates Scrape Complete for User: analyst_487465\n",
      "Time: 2023-11-26 20:13:25.099733\n",
      "Stocks Covered Scrape Complete for User: analyst_2459286\n",
      "\u001b[91mError while pulling Pending Estimates for User: analyst_2459286\u001b[0m\n",
      "Pending Estimates Scrape Complete for User: analyst_2459286\n",
      "Scored Estimates Scrape Complete for User: analyst_2459286\n",
      "Time: 2023-11-26 20:13:28.759116\n",
      "Stocks Covered Scrape Complete for User: analyst_7486995\n",
      "\u001b[91mError while pulling Pending Estimates for User: analyst_7486995\u001b[0m\n",
      "Pending Estimates Scrape Complete for User: analyst_7486995\n",
      "Scored Estimates Scrape Complete for User: analyst_7486995\n",
      "Time: 2023-11-26 20:13:32.666616\n",
      "Stocks Covered Scrape Complete for User: michaeldasani\n",
      "\u001b[91mError while pulling Pending Estimates for User: michaeldasani\u001b[0m\n",
      "Pending Estimates Scrape Complete for User: michaeldasani\n",
      "Scored Estimates Scrape Complete for User: michaeldasani\n",
      "Time: 2023-11-26 20:13:36.625205\n",
      "\u001b[91mError while pulling Stocks Covered for User: analyst_7271578\u001b[0m\n",
      "Stocks Covered Scrape Complete for User: analyst_7271578\n",
      "\u001b[91mError while pulling Pending Estimates for User: analyst_7271578\u001b[0m\n",
      "Pending Estimates Scrape Complete for User: analyst_7271578\n",
      "Scored Estimates Scrape Complete for User: analyst_7271578\n",
      "Time: 2023-11-26 20:13:42.850259\n",
      "Stocks Covered Scrape Complete for User: analyst_6444032\n",
      "\u001b[91mError while pulling Pending Estimates for User: analyst_6444032\u001b[0m\n",
      "Pending Estimates Scrape Complete for User: analyst_6444032\n",
      "Scored Estimates Scrape Complete for User: analyst_6444032\n",
      "Time: 2023-11-26 20:13:47.023801\n",
      "Stocks Covered Scrape Complete for User: analyst_2470927\n",
      "\u001b[91mError while pulling Pending Estimates for User: analyst_2470927\u001b[0m\n",
      "Pending Estimates Scrape Complete for User: analyst_2470927\n",
      "\u001b[91mError while pulling Scored Estimates for User: analyst_2470927\u001b[0m\n",
      "Scored Estimates Scrape Complete for User: analyst_2470927\n",
      "Time: 2023-11-26 20:13:52.332755\n",
      "Stocks Covered Scrape Complete for User: analyst_9896341\n",
      "\u001b[91mError while pulling Pending Estimates for User: analyst_9896341\u001b[0m\n",
      "Pending Estimates Scrape Complete for User: analyst_9896341\n",
      "Scored Estimates Scrape Complete for User: analyst_9896341\n",
      "Time: 2023-11-26 20:13:56.117680\n",
      "Stocks Covered Scrape Complete for User: analyst_911419\n",
      "\u001b[91mError while pulling Pending Estimates for User: analyst_911419\u001b[0m\n",
      "Pending Estimates Scrape Complete for User: analyst_911419\n",
      "Scored Estimates Scrape Complete for User: analyst_911419\n",
      "Time: 2023-11-26 20:13:59.775259\n",
      "Stocks Covered Scrape Complete for User: analyst_2056653\n",
      "\u001b[91mError while pulling Pending Estimates for User: analyst_2056653\u001b[0m\n",
      "Pending Estimates Scrape Complete for User: analyst_2056653\n",
      "Scored Estimates Scrape Complete for User: analyst_2056653\n",
      "Time: 2023-11-26 20:14:03.472199\n",
      "Stocks Covered Scrape Complete for User: analyst_1962587\n",
      "\u001b[91mError while pulling Pending Estimates for User: analyst_1962587\u001b[0m\n",
      "Pending Estimates Scrape Complete for User: analyst_1962587\n",
      "Scored Estimates Scrape Complete for User: analyst_1962587\n",
      "Time: 2023-11-26 20:14:07.872278\n",
      "Stocks Covered Scrape Complete for User: analyst_8094130\n",
      "\u001b[91mError while pulling Pending Estimates for User: analyst_8094130\u001b[0m\n",
      "Pending Estimates Scrape Complete for User: analyst_8094130\n",
      "Scored Estimates Scrape Complete for User: analyst_8094130\n",
      "Time: 2023-11-26 20:14:11.520618\n",
      "Stocks Covered Scrape Complete for User: analyst_2518336\n",
      "\u001b[91mError while pulling Pending Estimates for User: analyst_2518336\u001b[0m\n",
      "Pending Estimates Scrape Complete for User: analyst_2518336\n",
      "Scored Estimates Scrape Complete for User: analyst_2518336\n",
      "Time: 2023-11-26 20:14:15.152456\n",
      "\u001b[91mError while pulling Stocks Covered for User: analyst_1832131\u001b[0m\n",
      "Stocks Covered Scrape Complete for User: analyst_1832131\n",
      "\u001b[91mError while pulling Pending Estimates for User: analyst_1832131\u001b[0m\n",
      "Pending Estimates Scrape Complete for User: analyst_1832131\n",
      "Scored Estimates Scrape Complete for User: analyst_1832131\n",
      "Time: 2023-11-26 20:14:21.338459\n",
      "Stocks Covered Scrape Complete for User: analyst_8984313\n",
      "\u001b[91mError while pulling Pending Estimates for User: analyst_8984313\u001b[0m\n",
      "Pending Estimates Scrape Complete for User: analyst_8984313\n",
      "Scored Estimates Scrape Complete for User: analyst_8984313\n",
      "Time: 2023-11-26 20:14:25.722529\n",
      "Stocks Covered Scrape Complete for User: analyst_5909795\n",
      "\u001b[91mError while pulling Pending Estimates for User: analyst_5909795\u001b[0m\n",
      "Pending Estimates Scrape Complete for User: analyst_5909795\n",
      "Scored Estimates Scrape Complete for User: analyst_5909795\n",
      "Time: 2023-11-26 20:14:29.829176\n",
      "Stocks Covered Scrape Complete for User: analyst_5825170\n",
      "\u001b[91mError while pulling Pending Estimates for User: analyst_5825170\u001b[0m\n",
      "Pending Estimates Scrape Complete for User: analyst_5825170\n",
      "Scored Estimates Scrape Complete for User: analyst_5825170\n",
      "Time: 2023-11-26 20:14:33.408647\n",
      "Stocks Covered Scrape Complete for User: analyst_4641567\n",
      "\u001b[91mError while pulling Pending Estimates for User: analyst_4641567\u001b[0m\n",
      "Pending Estimates Scrape Complete for User: analyst_4641567\n",
      "Scored Estimates Scrape Complete for User: analyst_4641567\n",
      "Time: 2023-11-26 20:14:37.000633\n",
      "Stocks Covered Scrape Complete for User: analyst_5786015\n",
      "\u001b[91mError while pulling Pending Estimates for User: analyst_5786015\u001b[0m\n",
      "Pending Estimates Scrape Complete for User: analyst_5786015\n",
      "Scored Estimates Scrape Complete for User: analyst_5786015\n",
      "Time: 2023-11-26 20:14:40.943469\n",
      "Stocks Covered Scrape Complete for User: analyst_8899361\n",
      "\u001b[91mError while pulling Pending Estimates for User: analyst_8899361\u001b[0m\n",
      "Pending Estimates Scrape Complete for User: analyst_8899361\n",
      "Scored Estimates Scrape Complete for User: analyst_8899361\n",
      "Time: 2023-11-26 20:14:44.593531\n",
      "Stocks Covered Scrape Complete for User: analyst_7516533\n",
      "\u001b[91mError while pulling Pending Estimates for User: analyst_7516533\u001b[0m\n",
      "Pending Estimates Scrape Complete for User: analyst_7516533\n",
      "Scored Estimates Scrape Complete for User: analyst_7516533\n",
      "Time: 2023-11-26 20:14:48.485552\n",
      "Stocks Covered Scrape Complete for User: analyst_1905492\n",
      "\u001b[91mError while pulling Pending Estimates for User: analyst_1905492\u001b[0m\n",
      "Pending Estimates Scrape Complete for User: analyst_1905492\n",
      "Scored Estimates Scrape Complete for User: analyst_1905492\n",
      "Time: 2023-11-26 20:14:52.311845\n",
      "Stocks Covered Scrape Complete for User: analyst_7042099\n",
      "\u001b[91mError while pulling Pending Estimates for User: analyst_7042099\u001b[0m\n",
      "Pending Estimates Scrape Complete for User: analyst_7042099\n",
      "Scored Estimates Scrape Complete for User: analyst_7042099\n",
      "Time: 2023-11-26 20:14:55.932817\n",
      "Stocks Covered Scrape Complete for User: analyst_7126827\n",
      "\u001b[91mError while pulling Pending Estimates for User: analyst_7126827\u001b[0m\n",
      "Pending Estimates Scrape Complete for User: analyst_7126827\n",
      "Scored Estimates Scrape Complete for User: analyst_7126827\n",
      "Time: 2023-11-26 20:14:59.581928\n",
      "Stocks Covered Scrape Complete for User: analyst_8249531\n",
      "\u001b[91mError while pulling Pending Estimates for User: analyst_8249531\u001b[0m\n",
      "Pending Estimates Scrape Complete for User: analyst_8249531\n",
      "Scored Estimates Scrape Complete for User: analyst_8249531\n",
      "Time: 2023-11-26 20:15:03.246994\n",
      "Stocks Covered Scrape Complete for User: analyst_3687810\n",
      "\u001b[91mError while pulling Pending Estimates for User: analyst_3687810\u001b[0m\n",
      "Pending Estimates Scrape Complete for User: analyst_3687810\n",
      "Scored Estimates Scrape Complete for User: analyst_3687810\n",
      "Time: 2023-11-26 20:15:06.938653\n",
      "Stocks Covered Scrape Complete for User: analyst_2270270\n",
      "\u001b[91mError while pulling Pending Estimates for User: analyst_2270270\u001b[0m\n",
      "Pending Estimates Scrape Complete for User: analyst_2270270\n",
      "Scored Estimates Scrape Complete for User: analyst_2270270\n",
      "Time: 2023-11-26 20:15:11.509103\n",
      "Stocks Covered Scrape Complete for User: analyst_5075271\n",
      "\u001b[91mError while pulling Pending Estimates for User: analyst_5075271\u001b[0m\n",
      "Pending Estimates Scrape Complete for User: analyst_5075271\n",
      "Scored Estimates Scrape Complete for User: analyst_5075271\n",
      "Time: 2023-11-26 20:15:15.426816\n",
      "Stocks Covered Scrape Complete for User: cristidum\n",
      "\u001b[91mError while pulling Pending Estimates for User: cristidum\u001b[0m\n",
      "Pending Estimates Scrape Complete for User: cristidum\n",
      "Scored Estimates Scrape Complete for User: cristidum\n",
      "Time: 2023-11-26 20:15:19.053695\n",
      "\u001b[91mError while pulling Stocks Covered for User: analyst_2371459\u001b[0m\n",
      "Stocks Covered Scrape Complete for User: analyst_2371459\n",
      "\u001b[91mError while pulling Pending Estimates for User: analyst_2371459\u001b[0m\n",
      "Pending Estimates Scrape Complete for User: analyst_2371459\n",
      "Scored Estimates Scrape Complete for User: analyst_2371459\n",
      "Time: 2023-11-26 20:15:25.339517\n",
      "Stocks Covered Scrape Complete for User: analyst_3779950\n",
      "\u001b[91mError while pulling Pending Estimates for User: analyst_3779950\u001b[0m\n",
      "Pending Estimates Scrape Complete for User: analyst_3779950\n",
      "Scored Estimates Scrape Complete for User: analyst_3779950\n",
      "Time: 2023-11-26 20:15:29.111000\n",
      "Stocks Covered Scrape Complete for User: analyst_9311958\n",
      "\u001b[91mError while pulling Pending Estimates for User: analyst_9311958\u001b[0m\n",
      "Pending Estimates Scrape Complete for User: analyst_9311958\n",
      "\u001b[91mError while pulling Scored Estimates for User: analyst_9311958\u001b[0m\n",
      "Scored Estimates Scrape Complete for User: analyst_9311958\n",
      "Time: 2023-11-26 20:15:34.281432\n",
      "Stocks Covered Scrape Complete for User: analyst_8784668\n",
      "\u001b[91mError while pulling Pending Estimates for User: analyst_8784668\u001b[0m\n",
      "Pending Estimates Scrape Complete for User: analyst_8784668\n",
      "Scored Estimates Scrape Complete for User: analyst_8784668\n",
      "Time: 2023-11-26 20:15:38.255295\n",
      "Stocks Covered Scrape Complete for User: analyst_5818707\n",
      "\u001b[91mError while pulling Pending Estimates for User: analyst_5818707\u001b[0m\n",
      "Pending Estimates Scrape Complete for User: analyst_5818707\n",
      "Scored Estimates Scrape Complete for User: analyst_5818707\n",
      "Time: 2023-11-26 20:15:42.301777\n",
      "Stocks Covered Scrape Complete for User: analyst_1868892\n",
      "\u001b[91mError while pulling Pending Estimates for User: analyst_1868892\u001b[0m\n",
      "Pending Estimates Scrape Complete for User: analyst_1868892\n",
      "Scored Estimates Scrape Complete for User: analyst_1868892\n",
      "Time: 2023-11-26 20:15:46.604053\n",
      "Stocks Covered Scrape Complete for User: analyst_7937816\n",
      "\u001b[91mError while pulling Pending Estimates for User: analyst_7937816\u001b[0m\n",
      "Pending Estimates Scrape Complete for User: analyst_7937816\n",
      "Scored Estimates Scrape Complete for User: analyst_7937816\n",
      "Time: 2023-11-26 20:15:50.729608\n",
      "Stocks Covered Scrape Complete for User: analyst_3417101\n",
      "\u001b[91mError while pulling Pending Estimates for User: analyst_3417101\u001b[0m\n",
      "Pending Estimates Scrape Complete for User: analyst_3417101\n",
      "Scored Estimates Scrape Complete for User: analyst_3417101\n",
      "Time: 2023-11-26 20:15:54.262952\n",
      "Stocks Covered Scrape Complete for User: analyst_6523542\n",
      "\u001b[91mError while pulling Pending Estimates for User: analyst_6523542\u001b[0m\n",
      "Pending Estimates Scrape Complete for User: analyst_6523542\n",
      "Scored Estimates Scrape Complete for User: analyst_6523542\n",
      "Time: 2023-11-26 20:15:58.524331\n",
      "Stocks Covered Scrape Complete for User: analyst_4575152\n",
      "\u001b[91mError while pulling Pending Estimates for User: analyst_4575152\u001b[0m\n",
      "Pending Estimates Scrape Complete for User: analyst_4575152\n",
      "Scored Estimates Scrape Complete for User: analyst_4575152\n",
      "Time: 2023-11-26 20:16:02.072911\n",
      "Stocks Covered Scrape Complete for User: analyst_5413718\n",
      "\u001b[91mError while pulling Pending Estimates for User: analyst_5413718\u001b[0m\n",
      "Pending Estimates Scrape Complete for User: analyst_5413718\n",
      "Scored Estimates Scrape Complete for User: analyst_5413718\n",
      "Time: 2023-11-26 20:16:05.792578\n",
      "Stocks Covered Scrape Complete for User: analyst_1860267\n",
      "\u001b[91mError while pulling Pending Estimates for User: analyst_1860267\u001b[0m\n",
      "Pending Estimates Scrape Complete for User: analyst_1860267\n",
      "Scored Estimates Scrape Complete for User: analyst_1860267\n",
      "Time: 2023-11-26 20:16:09.873723\n",
      "Stocks Covered Scrape Complete for User: analyst_7200587\n",
      "\u001b[91mError while pulling Pending Estimates for User: analyst_7200587\u001b[0m\n",
      "Pending Estimates Scrape Complete for User: analyst_7200587\n",
      "\u001b[91mError while pulling Scored Estimates for User: analyst_7200587\u001b[0m\n",
      "Scored Estimates Scrape Complete for User: analyst_7200587\n",
      "Time: 2023-11-26 20:16:15.401117\n",
      "Stocks Covered Scrape Complete for User: analyst_9598318\n",
      "\u001b[91mError while pulling Pending Estimates for User: analyst_9598318\u001b[0m\n",
      "Pending Estimates Scrape Complete for User: analyst_9598318\n",
      "Scored Estimates Scrape Complete for User: analyst_9598318\n",
      "Time: 2023-11-26 20:16:18.973424\n",
      "Stocks Covered Scrape Complete for User: analyst_3753370\n",
      "\u001b[91mError while pulling Pending Estimates for User: analyst_3753370\u001b[0m\n",
      "Pending Estimates Scrape Complete for User: analyst_3753370\n",
      "Scored Estimates Scrape Complete for User: analyst_3753370\n",
      "Time: 2023-11-26 20:16:22.618467\n",
      "Stocks Covered Scrape Complete for User: analyst_4897396\n",
      "\u001b[91mError while pulling Pending Estimates for User: analyst_4897396\u001b[0m\n",
      "Pending Estimates Scrape Complete for User: analyst_4897396\n",
      "Scored Estimates Scrape Complete for User: analyst_4897396\n",
      "Time: 2023-11-26 20:16:26.536596\n",
      "Stocks Covered Scrape Complete for User: analyst_8824440\n",
      "\u001b[91mError while pulling Pending Estimates for User: analyst_8824440\u001b[0m\n",
      "Pending Estimates Scrape Complete for User: analyst_8824440\n",
      "Scored Estimates Scrape Complete for User: analyst_8824440\n",
      "Time: 2023-11-26 20:16:30.113991\n",
      "\u001b[91mError while pulling Stocks Covered for User: analyst_913685\u001b[0m\n",
      "Stocks Covered Scrape Complete for User: analyst_913685\n",
      "\u001b[91mError while pulling Pending Estimates for User: analyst_913685\u001b[0m\n",
      "Pending Estimates Scrape Complete for User: analyst_913685\n",
      "Scored Estimates Scrape Complete for User: analyst_913685\n",
      "Time: 2023-11-26 20:16:36.246960\n",
      "Stocks Covered Scrape Complete for User: analyst_2031536\n",
      "\u001b[91mError while pulling Pending Estimates for User: analyst_2031536\u001b[0m\n",
      "Pending Estimates Scrape Complete for User: analyst_2031536\n",
      "Scored Estimates Scrape Complete for User: analyst_2031536\n",
      "Time: 2023-11-26 20:16:40.644087\n",
      "Stocks Covered Scrape Complete for User: carlosr74\n",
      "\u001b[91mError while pulling Pending Estimates for User: carlosr74\u001b[0m\n",
      "Pending Estimates Scrape Complete for User: carlosr74\n",
      "\u001b[91mError while pulling Scored Estimates for User: carlosr74\u001b[0m\n",
      "Scored Estimates Scrape Complete for User: carlosr74\n",
      "Time: 2023-11-26 20:16:45.801783\n",
      "Stocks Covered Scrape Complete for User: analyst_1339078\n",
      "\u001b[91mError while pulling Pending Estimates for User: analyst_1339078\u001b[0m\n",
      "Pending Estimates Scrape Complete for User: analyst_1339078\n",
      "Scored Estimates Scrape Complete for User: analyst_1339078\n",
      "Time: 2023-11-26 20:16:49.475843\n",
      "Stocks Covered Scrape Complete for User: analyst_645988\n",
      "\u001b[91mError while pulling Pending Estimates for User: analyst_645988\u001b[0m\n",
      "Pending Estimates Scrape Complete for User: analyst_645988\n",
      "Scored Estimates Scrape Complete for User: analyst_645988\n",
      "Time: 2023-11-26 20:16:53.010657\n",
      "Stocks Covered Scrape Complete for User: analyst_1198253\n",
      "\u001b[91mError while pulling Pending Estimates for User: analyst_1198253\u001b[0m\n",
      "Pending Estimates Scrape Complete for User: analyst_1198253\n",
      "Scored Estimates Scrape Complete for User: analyst_1198253\n",
      "Time: 2023-11-26 20:16:56.563861\n",
      "Stocks Covered Scrape Complete for User: analyst_5799308\n",
      "\u001b[91mError while pulling Pending Estimates for User: analyst_5799308\u001b[0m\n",
      "Pending Estimates Scrape Complete for User: analyst_5799308\n",
      "Scored Estimates Scrape Complete for User: analyst_5799308\n",
      "Time: 2023-11-26 20:17:00.573507\n",
      "\u001b[91mError while pulling Stocks Covered for User: analyst_1482045\u001b[0m\n",
      "Stocks Covered Scrape Complete for User: analyst_1482045\n",
      "\u001b[91mError while pulling Pending Estimates for User: analyst_1482045\u001b[0m\n",
      "Pending Estimates Scrape Complete for User: analyst_1482045\n",
      "Scored Estimates Scrape Complete for User: analyst_1482045\n",
      "Time: 2023-11-26 20:17:06.804584\n",
      "\u001b[91mError while pulling Stocks Covered for User: analyst_2305230\u001b[0m\n",
      "Stocks Covered Scrape Complete for User: analyst_2305230\n",
      "\u001b[91mError while pulling Pending Estimates for User: analyst_2305230\u001b[0m\n",
      "Pending Estimates Scrape Complete for User: analyst_2305230\n",
      "Scored Estimates Scrape Complete for User: analyst_2305230\n",
      "Time: 2023-11-26 20:17:12.962446\n",
      "Stocks Covered Scrape Complete for User: analyst_398345\n",
      "Pending Estimates Scrape Complete for User: analyst_398345\n",
      "Scored Estimates Scrape Complete for User: analyst_398345\n",
      "Time: 2023-11-26 20:17:16.910859\n",
      "Stocks Covered Scrape Complete for User: analyst_8170744\n",
      "\u001b[91mError while pulling Pending Estimates for User: analyst_8170744\u001b[0m\n",
      "Pending Estimates Scrape Complete for User: analyst_8170744\n",
      "Scored Estimates Scrape Complete for User: analyst_8170744\n",
      "Time: 2023-11-26 20:17:20.447439\n",
      "Stocks Covered Scrape Complete for User: analyst_5744190\n",
      "\u001b[91mError while pulling Pending Estimates for User: analyst_5744190\u001b[0m\n",
      "Pending Estimates Scrape Complete for User: analyst_5744190\n",
      "Scored Estimates Scrape Complete for User: analyst_5744190\n",
      "Time: 2023-11-26 20:17:24.360925\n",
      "Stocks Covered Scrape Complete for User: analyst_661355\n",
      "\u001b[91mError while pulling Pending Estimates for User: analyst_661355\u001b[0m\n",
      "Pending Estimates Scrape Complete for User: analyst_661355\n",
      "Scored Estimates Scrape Complete for User: analyst_661355\n",
      "Time: 2023-11-26 20:17:27.987897\n",
      "Stocks Covered Scrape Complete for User: analyst_713959\n",
      "\u001b[91mError while pulling Pending Estimates for User: analyst_713959\u001b[0m\n",
      "Pending Estimates Scrape Complete for User: analyst_713959\n",
      "Scored Estimates Scrape Complete for User: analyst_713959\n",
      "Time: 2023-11-26 20:17:31.736266\n",
      "Stocks Covered Scrape Complete for User: analyst_679136\n",
      "\u001b[91mError while pulling Pending Estimates for User: analyst_679136\u001b[0m\n",
      "Pending Estimates Scrape Complete for User: analyst_679136\n",
      "Scored Estimates Scrape Complete for User: analyst_679136\n",
      "Time: 2023-11-26 20:17:35.932641\n",
      "Stocks Covered Scrape Complete for User: analyst_9058508\n",
      "Pending Estimates Scrape Complete for User: analyst_9058508\n",
      "\u001b[91mError while pulling Scored Estimates for User: analyst_9058508\u001b[0m\n",
      "Scored Estimates Scrape Complete for User: analyst_9058508\n",
      "Time: 2023-11-26 20:17:41.102028\n",
      "Stocks Covered Scrape Complete for User: analyst_7242426\n",
      "\u001b[91mError while pulling Pending Estimates for User: analyst_7242426\u001b[0m\n",
      "Pending Estimates Scrape Complete for User: analyst_7242426\n",
      "Scored Estimates Scrape Complete for User: analyst_7242426\n",
      "Time: 2023-11-26 20:17:45.227904\n",
      "Stocks Covered Scrape Complete for User: analyst_2168307\n",
      "\u001b[91mError while pulling Pending Estimates for User: analyst_2168307\u001b[0m\n",
      "Pending Estimates Scrape Complete for User: analyst_2168307\n",
      "Scored Estimates Scrape Complete for User: analyst_2168307\n",
      "Time: 2023-11-26 20:17:48.909564\n",
      "Stocks Covered Scrape Complete for User: analyst_3131418\n",
      "\u001b[91mError while pulling Pending Estimates for User: analyst_3131418\u001b[0m\n",
      "Pending Estimates Scrape Complete for User: analyst_3131418\n",
      "Scored Estimates Scrape Complete for User: analyst_3131418\n",
      "Time: 2023-11-26 20:17:52.862627\n",
      "Stocks Covered Scrape Complete for User: analyst_2486401\n",
      "\u001b[91mError while pulling Pending Estimates for User: analyst_2486401\u001b[0m\n",
      "Pending Estimates Scrape Complete for User: analyst_2486401\n",
      "Scored Estimates Scrape Complete for User: analyst_2486401\n",
      "Time: 2023-11-26 20:17:56.867951\n",
      "Stocks Covered Scrape Complete for User: analyst_8056802\n",
      "\u001b[91mError while pulling Pending Estimates for User: analyst_8056802\u001b[0m\n",
      "Pending Estimates Scrape Complete for User: analyst_8056802\n",
      "Scored Estimates Scrape Complete for User: analyst_8056802\n",
      "Time: 2023-11-26 20:18:00.531332\n",
      "\u001b[91mError while pulling Stocks Covered for User: analyst_1344454\u001b[0m\n",
      "Stocks Covered Scrape Complete for User: analyst_1344454\n",
      "\u001b[91mError while pulling Pending Estimates for User: analyst_1344454\u001b[0m\n",
      "Pending Estimates Scrape Complete for User: analyst_1344454\n",
      "Scored Estimates Scrape Complete for User: analyst_1344454\n",
      "Time: 2023-11-26 20:18:06.693415\n",
      "\u001b[91mError while pulling Stocks Covered for User: analyst_6250349\u001b[0m\n",
      "Stocks Covered Scrape Complete for User: analyst_6250349\n",
      "\u001b[91mError while pulling Pending Estimates for User: analyst_6250349\u001b[0m\n",
      "Pending Estimates Scrape Complete for User: analyst_6250349\n",
      "Scored Estimates Scrape Complete for User: analyst_6250349\n",
      "Time: 2023-11-26 20:18:12.912493\n",
      "Stocks Covered Scrape Complete for User: analyst_1761313\n",
      "\u001b[91mError while pulling Pending Estimates for User: analyst_1761313\u001b[0m\n",
      "Pending Estimates Scrape Complete for User: analyst_1761313\n",
      "Scored Estimates Scrape Complete for User: analyst_1761313\n",
      "Time: 2023-11-26 20:18:16.480990\n",
      "Stocks Covered Scrape Complete for User: analyst_4207257\n",
      "\u001b[91mError while pulling Pending Estimates for User: analyst_4207257\u001b[0m\n",
      "Pending Estimates Scrape Complete for User: analyst_4207257\n",
      "Scored Estimates Scrape Complete for User: analyst_4207257\n",
      "Time: 2023-11-26 20:18:20.406986\n",
      "Stocks Covered Scrape Complete for User: analyst_6650772\n",
      "\u001b[91mError while pulling Pending Estimates for User: analyst_6650772\u001b[0m\n",
      "Pending Estimates Scrape Complete for User: analyst_6650772\n",
      "Scored Estimates Scrape Complete for User: analyst_6650772\n",
      "Time: 2023-11-26 20:18:24.074483\n",
      "Stocks Covered Scrape Complete for User: jeffg\n",
      "\u001b[91mError while pulling Pending Estimates for User: jeffg\u001b[0m\n",
      "Pending Estimates Scrape Complete for User: jeffg\n",
      "Scored Estimates Scrape Complete for User: jeffg\n",
      "Time: 2023-11-26 20:18:28.442034\n",
      "Stocks Covered Scrape Complete for User: analyst_9484756\n",
      "\u001b[91mError while pulling Pending Estimates for User: analyst_9484756\u001b[0m\n",
      "Pending Estimates Scrape Complete for User: analyst_9484756\n",
      "Scored Estimates Scrape Complete for User: analyst_9484756\n",
      "Time: 2023-11-26 20:18:32.146003\n",
      "Stocks Covered Scrape Complete for User: analyst_6234046\n",
      "\u001b[91mError while pulling Pending Estimates for User: analyst_6234046\u001b[0m\n",
      "Pending Estimates Scrape Complete for User: analyst_6234046\n",
      "Scored Estimates Scrape Complete for User: analyst_6234046\n",
      "Time: 2023-11-26 20:18:36.599650\n",
      "Stocks Covered Scrape Complete for User: analyst_3716177\n",
      "\u001b[91mError while pulling Pending Estimates for User: analyst_3716177\u001b[0m\n",
      "Pending Estimates Scrape Complete for User: analyst_3716177\n",
      "Scored Estimates Scrape Complete for User: analyst_3716177\n",
      "Time: 2023-11-26 20:18:40.281374\n",
      "Stocks Covered Scrape Complete for User: analyst_1501777\n",
      "\u001b[91mError while pulling Pending Estimates for User: analyst_1501777\u001b[0m\n",
      "Pending Estimates Scrape Complete for User: analyst_1501777\n",
      "Scored Estimates Scrape Complete for User: analyst_1501777\n",
      "Time: 2023-11-26 20:18:44.594895\n",
      "Stocks Covered Scrape Complete for User: analyst_2905329\n",
      "\u001b[91mError while pulling Pending Estimates for User: analyst_2905329\u001b[0m\n",
      "Pending Estimates Scrape Complete for User: analyst_2905329\n",
      "Scored Estimates Scrape Complete for User: analyst_2905329\n",
      "Time: 2023-11-26 20:18:48.830142\n",
      "Stocks Covered Scrape Complete for User: analyst_8756608\n",
      "\u001b[91mError while pulling Pending Estimates for User: analyst_8756608\u001b[0m\n",
      "Pending Estimates Scrape Complete for User: analyst_8756608\n",
      "Scored Estimates Scrape Complete for User: analyst_8756608\n",
      "Time: 2023-11-26 20:18:52.494186\n",
      "Stocks Covered Scrape Complete for User: analyst_2970819\n",
      "\u001b[91mError while pulling Pending Estimates for User: analyst_2970819\u001b[0m\n",
      "Pending Estimates Scrape Complete for User: analyst_2970819\n",
      "Scored Estimates Scrape Complete for User: analyst_2970819\n",
      "Time: 2023-11-26 20:18:56.892783\n",
      "\u001b[91mError while pulling Stocks Covered for User: analyst_8202584\u001b[0m\n",
      "Stocks Covered Scrape Complete for User: analyst_8202584\n",
      "\u001b[91mError while pulling Pending Estimates for User: analyst_8202584\u001b[0m\n",
      "Pending Estimates Scrape Complete for User: analyst_8202584\n",
      "Scored Estimates Scrape Complete for User: analyst_8202584\n",
      "Time: 2023-11-26 20:19:03.129106\n",
      "Stocks Covered Scrape Complete for User: analyst_5081658\n",
      "\u001b[91mError while pulling Pending Estimates for User: analyst_5081658\u001b[0m\n",
      "Pending Estimates Scrape Complete for User: analyst_5081658\n",
      "Scored Estimates Scrape Complete for User: analyst_5081658\n",
      "Time: 2023-11-26 20:19:07.528184\n",
      "\u001b[91mError while pulling Stocks Covered for User: analyst_9936712\u001b[0m\n",
      "Stocks Covered Scrape Complete for User: analyst_9936712\n",
      "\u001b[91mError while pulling Pending Estimates for User: analyst_9936712\u001b[0m\n",
      "Pending Estimates Scrape Complete for User: analyst_9936712\n",
      "Scored Estimates Scrape Complete for User: analyst_9936712\n",
      "Time: 2023-11-26 20:19:13.881052\n",
      "Stocks Covered Scrape Complete for User: analyst_1751026\n",
      "\u001b[91mError while pulling Pending Estimates for User: analyst_1751026\u001b[0m\n",
      "Pending Estimates Scrape Complete for User: analyst_1751026\n",
      "Scored Estimates Scrape Complete for User: analyst_1751026\n",
      "Time: 2023-11-26 20:19:17.513244\n",
      "Stocks Covered Scrape Complete for User: analyst_2812021\n",
      "\u001b[91mError while pulling Pending Estimates for User: analyst_2812021\u001b[0m\n",
      "Pending Estimates Scrape Complete for User: analyst_2812021\n",
      "Scored Estimates Scrape Complete for User: analyst_2812021\n",
      "Time: 2023-11-26 20:19:21.493062\n",
      "Stocks Covered Scrape Complete for User: analyst_8224987\n",
      "\u001b[91mError while pulling Pending Estimates for User: analyst_8224987\u001b[0m\n",
      "Pending Estimates Scrape Complete for User: analyst_8224987\n",
      "Scored Estimates Scrape Complete for User: analyst_8224987\n",
      "Time: 2023-11-26 20:19:25.136283\n",
      "Stocks Covered Scrape Complete for User: analyst_2140587\n",
      "\u001b[91mError while pulling Pending Estimates for User: analyst_2140587\u001b[0m\n",
      "Pending Estimates Scrape Complete for User: analyst_2140587\n",
      "Scored Estimates Scrape Complete for User: analyst_2140587\n",
      "Time: 2023-11-26 20:19:28.800183\n",
      "Stocks Covered Scrape Complete for User: analyst_328929\n",
      "\u001b[91mError while pulling Pending Estimates for User: analyst_328929\u001b[0m\n",
      "Pending Estimates Scrape Complete for User: analyst_328929\n",
      "Scored Estimates Scrape Complete for User: analyst_328929\n",
      "Time: 2023-11-26 20:19:32.461226\n",
      "\u001b[91mError while pulling Stocks Covered for User: analyst_1803007\u001b[0m\n",
      "Stocks Covered Scrape Complete for User: analyst_1803007\n",
      "\u001b[91mError while pulling Pending Estimates for User: analyst_1803007\u001b[0m\n",
      "Pending Estimates Scrape Complete for User: analyst_1803007\n",
      "Scored Estimates Scrape Complete for User: analyst_1803007\n",
      "Time: 2023-11-26 20:19:38.714145\n",
      "Stocks Covered Scrape Complete for User: analyst_6225475\n",
      "\u001b[91mError while pulling Pending Estimates for User: analyst_6225475\u001b[0m\n",
      "Pending Estimates Scrape Complete for User: analyst_6225475\n",
      "Scored Estimates Scrape Complete for User: analyst_6225475\n",
      "Time: 2023-11-26 20:19:42.420376\n",
      "Stocks Covered Scrape Complete for User: analyst_9032447\n",
      "\u001b[91mError while pulling Pending Estimates for User: analyst_9032447\u001b[0m\n",
      "Pending Estimates Scrape Complete for User: analyst_9032447\n",
      "Scored Estimates Scrape Complete for User: analyst_9032447\n",
      "Time: 2023-11-26 20:19:46.299454\n",
      "\u001b[91mError while pulling Stocks Covered for User: analyst_4795351\u001b[0m\n",
      "Stocks Covered Scrape Complete for User: analyst_4795351\n",
      "\u001b[91mError while pulling Pending Estimates for User: analyst_4795351\u001b[0m\n",
      "Pending Estimates Scrape Complete for User: analyst_4795351\n",
      "Scored Estimates Scrape Complete for User: analyst_4795351\n",
      "Time: 2023-11-26 20:19:52.608089\n",
      "Stocks Covered Scrape Complete for User: analyst_9484364\n",
      "\u001b[91mError while pulling Pending Estimates for User: analyst_9484364\u001b[0m\n",
      "Pending Estimates Scrape Complete for User: analyst_9484364\n",
      "Scored Estimates Scrape Complete for User: analyst_9484364\n",
      "Time: 2023-11-26 20:19:56.195165\n",
      "Stocks Covered Scrape Complete for User: analyst_2793896\n",
      "\u001b[91mError while pulling Pending Estimates for User: analyst_2793896\u001b[0m\n",
      "Pending Estimates Scrape Complete for User: analyst_2793896\n",
      "Scored Estimates Scrape Complete for User: analyst_2793896\n",
      "Time: 2023-11-26 20:20:00.338308\n",
      "Stocks Covered Scrape Complete for User: needham-14\n",
      "Pending Estimates Scrape Complete for User: needham-14\n",
      "Scored Estimates Scrape Complete for User: needham-14\n",
      "Time: 2023-11-26 20:20:05.184952\n",
      "Stocks Covered Scrape Complete for User: analyst_3174265\n",
      "\u001b[91mError while pulling Pending Estimates for User: analyst_3174265\u001b[0m\n",
      "Pending Estimates Scrape Complete for User: analyst_3174265\n",
      "Scored Estimates Scrape Complete for User: analyst_3174265\n",
      "Time: 2023-11-26 20:20:09.566789\n",
      "Stocks Covered Scrape Complete for User: analyst_8898126\n",
      "\u001b[91mError while pulling Pending Estimates for User: analyst_8898126\u001b[0m\n",
      "Pending Estimates Scrape Complete for User: analyst_8898126\n",
      "Scored Estimates Scrape Complete for User: analyst_8898126\n",
      "Time: 2023-11-26 20:20:13.225497\n",
      "Stocks Covered Scrape Complete for User: auluspaulinus\n",
      "\u001b[91mError while pulling Pending Estimates for User: auluspaulinus\u001b[0m\n",
      "Pending Estimates Scrape Complete for User: auluspaulinus\n",
      "Scored Estimates Scrape Complete for User: auluspaulinus\n",
      "Time: 2023-11-26 20:20:16.902382\n",
      "Stocks Covered Scrape Complete for User: analyst_5878337\n",
      "\u001b[91mError while pulling Pending Estimates for User: analyst_5878337\u001b[0m\n",
      "Pending Estimates Scrape Complete for User: analyst_5878337\n",
      "Scored Estimates Scrape Complete for User: analyst_5878337\n",
      "Time: 2023-11-26 20:20:21.189595\n",
      "Stocks Covered Scrape Complete for User: analyst_1496487\n",
      "\u001b[91mError while pulling Pending Estimates for User: analyst_1496487\u001b[0m\n",
      "Pending Estimates Scrape Complete for User: analyst_1496487\n",
      "Scored Estimates Scrape Complete for User: analyst_1496487\n",
      "Time: 2023-11-26 20:20:24.816850\n",
      "Stocks Covered Scrape Complete for User: analyst_6986142\n",
      "\u001b[91mError while pulling Pending Estimates for User: analyst_6986142\u001b[0m\n",
      "Pending Estimates Scrape Complete for User: analyst_6986142\n",
      "Scored Estimates Scrape Complete for User: analyst_6986142\n",
      "Time: 2023-11-26 20:20:28.508388\n",
      "Stocks Covered Scrape Complete for User: analyst_2951\n",
      "\u001b[91mError while pulling Pending Estimates for User: analyst_2951\u001b[0m\n",
      "Pending Estimates Scrape Complete for User: analyst_2951\n",
      "Scored Estimates Scrape Complete for User: analyst_2951\n",
      "Time: 2023-11-26 20:20:32.615410\n",
      "\u001b[91mError while pulling Stocks Covered for User: analyst_808532\u001b[0m\n",
      "Stocks Covered Scrape Complete for User: analyst_808532\n",
      "\u001b[91mError while pulling Pending Estimates for User: analyst_808532\u001b[0m\n",
      "Pending Estimates Scrape Complete for User: analyst_808532\n",
      "Scored Estimates Scrape Complete for User: analyst_808532\n",
      "Time: 2023-11-26 20:20:38.841341\n",
      "Stocks Covered Scrape Complete for User: couchburner\n",
      "\u001b[91mError while pulling Pending Estimates for User: couchburner\u001b[0m\n",
      "Pending Estimates Scrape Complete for User: couchburner\n",
      "\u001b[91mError while pulling Scored Estimates for User: couchburner\u001b[0m\n",
      "Scored Estimates Scrape Complete for User: couchburner\n",
      "Time: 2023-11-26 20:20:44.122406\n",
      "Stocks Covered Scrape Complete for User: vmarte\n",
      "\u001b[91mError while pulling Pending Estimates for User: vmarte\u001b[0m\n",
      "Pending Estimates Scrape Complete for User: vmarte\n",
      "Scored Estimates Scrape Complete for User: vmarte\n",
      "Time: 2023-11-26 20:20:47.721600\n",
      "Stocks Covered Scrape Complete for User: ggeorgiev\n",
      "\u001b[91mError while pulling Pending Estimates for User: ggeorgiev\u001b[0m\n",
      "Pending Estimates Scrape Complete for User: ggeorgiev\n",
      "Scored Estimates Scrape Complete for User: ggeorgiev\n",
      "Time: 2023-11-26 20:20:52.113123\n",
      "Stocks Covered Scrape Complete for User: analyst_7067565\n",
      "\u001b[91mError while pulling Pending Estimates for User: analyst_7067565\u001b[0m\n",
      "Pending Estimates Scrape Complete for User: analyst_7067565\n",
      "Scored Estimates Scrape Complete for User: analyst_7067565\n",
      "Time: 2023-11-26 20:20:56.114536\n",
      "\u001b[91mError while pulling Stocks Covered for User: analyst_9296793\u001b[0m\n",
      "Stocks Covered Scrape Complete for User: analyst_9296793\n",
      "\u001b[91mError while pulling Pending Estimates for User: analyst_9296793\u001b[0m\n",
      "Pending Estimates Scrape Complete for User: analyst_9296793\n",
      "Scored Estimates Scrape Complete for User: analyst_9296793\n",
      "Time: 2023-11-26 20:21:02.324662\n",
      "Stocks Covered Scrape Complete for User: analyst_3053725\n",
      "\u001b[91mError while pulling Pending Estimates for User: analyst_3053725\u001b[0m\n",
      "Pending Estimates Scrape Complete for User: analyst_3053725\n",
      "Scored Estimates Scrape Complete for User: analyst_3053725\n",
      "Time: 2023-11-26 20:21:05.990281\n",
      "Stocks Covered Scrape Complete for User: analyst_6216740\n",
      "\u001b[91mError while pulling Pending Estimates for User: analyst_6216740\u001b[0m\n",
      "Pending Estimates Scrape Complete for User: analyst_6216740\n",
      "Scored Estimates Scrape Complete for User: analyst_6216740\n",
      "Time: 2023-11-26 20:21:10.385823\n",
      "Stocks Covered Scrape Complete for User: analyst_1827146\n",
      "\u001b[91mError while pulling Pending Estimates for User: analyst_1827146\u001b[0m\n",
      "Pending Estimates Scrape Complete for User: analyst_1827146\n",
      "Scored Estimates Scrape Complete for User: analyst_1827146\n",
      "Time: 2023-11-26 20:21:14.049032\n",
      "Stocks Covered Scrape Complete for User: analyst_7109639\n",
      "\u001b[91mError while pulling Pending Estimates for User: analyst_7109639\u001b[0m\n",
      "Pending Estimates Scrape Complete for User: analyst_7109639\n",
      "Scored Estimates Scrape Complete for User: analyst_7109639\n",
      "Time: 2023-11-26 20:21:17.713390\n",
      "Stocks Covered Scrape Complete for User: analyst_797514\n",
      "\u001b[91mError while pulling Pending Estimates for User: analyst_797514\u001b[0m\n",
      "Pending Estimates Scrape Complete for User: analyst_797514\n",
      "Scored Estimates Scrape Complete for User: analyst_797514\n",
      "Time: 2023-11-26 20:21:21.386096\n",
      "Stocks Covered Scrape Complete for User: analyst_9909909\n",
      "\u001b[91mError while pulling Pending Estimates for User: analyst_9909909\u001b[0m\n",
      "Pending Estimates Scrape Complete for User: analyst_9909909\n",
      "Scored Estimates Scrape Complete for User: analyst_9909909\n",
      "Time: 2023-11-26 20:21:25.078115\n",
      "Stocks Covered Scrape Complete for User: analyst_8668989\n",
      "\u001b[91mError while pulling Pending Estimates for User: analyst_8668989\u001b[0m\n",
      "Pending Estimates Scrape Complete for User: analyst_8668989\n",
      "Scored Estimates Scrape Complete for User: analyst_8668989\n",
      "Time: 2023-11-26 20:21:28.722267\n",
      "\u001b[91mError while pulling Stocks Covered for User: analyst_6960281\u001b[0m\n",
      "Stocks Covered Scrape Complete for User: analyst_6960281\n",
      "\u001b[91mError while pulling Pending Estimates for User: analyst_6960281\u001b[0m\n",
      "Pending Estimates Scrape Complete for User: analyst_6960281\n",
      "Scored Estimates Scrape Complete for User: analyst_6960281\n",
      "Time: 2023-11-26 20:21:34.927832\n",
      "Stocks Covered Scrape Complete for User: analyst_5972152\n",
      "\u001b[91mError while pulling Pending Estimates for User: analyst_5972152\u001b[0m\n",
      "Pending Estimates Scrape Complete for User: analyst_5972152\n",
      "Scored Estimates Scrape Complete for User: analyst_5972152\n",
      "Time: 2023-11-26 20:21:38.620155\n",
      "Stocks Covered Scrape Complete for User: ryanpomper\n",
      "\u001b[91mError while pulling Pending Estimates for User: ryanpomper\u001b[0m\n",
      "Pending Estimates Scrape Complete for User: ryanpomper\n",
      "Scored Estimates Scrape Complete for User: ryanpomper\n",
      "Time: 2023-11-26 20:21:42.297027\n",
      "Stocks Covered Scrape Complete for User: jmerten\n",
      "\u001b[91mError while pulling Pending Estimates for User: jmerten\u001b[0m\n",
      "Pending Estimates Scrape Complete for User: jmerten\n",
      "Scored Estimates Scrape Complete for User: jmerten\n",
      "Time: 2023-11-26 20:21:46.020886\n",
      "Stocks Covered Scrape Complete for User: analyst_4325226\n",
      "\u001b[91mError while pulling Pending Estimates for User: analyst_4325226\u001b[0m\n",
      "Pending Estimates Scrape Complete for User: analyst_4325226\n",
      "Scored Estimates Scrape Complete for User: analyst_4325226\n",
      "Time: 2023-11-26 20:21:49.689904\n",
      "Stocks Covered Scrape Complete for User: analyst_8601714\n",
      "\u001b[91mError while pulling Pending Estimates for User: analyst_8601714\u001b[0m\n",
      "Pending Estimates Scrape Complete for User: analyst_8601714\n",
      "Scored Estimates Scrape Complete for User: analyst_8601714\n",
      "Time: 2023-11-26 20:21:53.433284\n",
      "Stocks Covered Scrape Complete for User: analyst_11200\n",
      "\u001b[91mError while pulling Pending Estimates for User: analyst_11200\u001b[0m\n",
      "Pending Estimates Scrape Complete for User: analyst_11200\n",
      "Scored Estimates Scrape Complete for User: analyst_11200\n",
      "Time: 2023-11-26 20:21:57.038667\n",
      "Stocks Covered Scrape Complete for User: analyst_6879164\n",
      "\u001b[91mError while pulling Pending Estimates for User: analyst_6879164\u001b[0m\n",
      "Pending Estimates Scrape Complete for User: analyst_6879164\n",
      "\u001b[91mError while pulling Scored Estimates for User: analyst_6879164\u001b[0m\n",
      "Scored Estimates Scrape Complete for User: analyst_6879164\n",
      "Time: 2023-11-26 20:22:02.122852\n",
      "Stocks Covered Scrape Complete for User: analyst_191391\n",
      "\u001b[91mError while pulling Pending Estimates for User: analyst_191391\u001b[0m\n",
      "Pending Estimates Scrape Complete for User: analyst_191391\n",
      "Scored Estimates Scrape Complete for User: analyst_191391\n",
      "Time: 2023-11-26 20:22:06.798910\n",
      "Stocks Covered Scrape Complete for User: analyst_4991635\n",
      "\u001b[91mError while pulling Pending Estimates for User: analyst_4991635\u001b[0m\n",
      "Pending Estimates Scrape Complete for User: analyst_4991635\n",
      "Scored Estimates Scrape Complete for User: analyst_4991635\n",
      "Time: 2023-11-26 20:22:10.507011\n",
      "Stocks Covered Scrape Complete for User: analyst_4274983\n",
      "\u001b[91mError while pulling Pending Estimates for User: analyst_4274983\u001b[0m\n",
      "Pending Estimates Scrape Complete for User: analyst_4274983\n",
      "Scored Estimates Scrape Complete for User: analyst_4274983\n",
      "Time: 2023-11-26 20:22:14.169032\n",
      "Stocks Covered Scrape Complete for User: analyst_6949701\n",
      "\u001b[91mError while pulling Pending Estimates for User: analyst_6949701\u001b[0m\n",
      "Pending Estimates Scrape Complete for User: analyst_6949701\n",
      "Scored Estimates Scrape Complete for User: analyst_6949701\n",
      "Time: 2023-11-26 20:22:18.301242\n",
      "Stocks Covered Scrape Complete for User: analyst_8471844\n",
      "\u001b[91mError while pulling Pending Estimates for User: analyst_8471844\u001b[0m\n",
      "Pending Estimates Scrape Complete for User: analyst_8471844\n",
      "Scored Estimates Scrape Complete for User: analyst_8471844\n",
      "Time: 2023-11-26 20:22:22.260939\n",
      "Stocks Covered Scrape Complete for User: ante_oliver\n",
      "\u001b[91mError while pulling Pending Estimates for User: ante_oliver\u001b[0m\n",
      "Pending Estimates Scrape Complete for User: ante_oliver\n",
      "Scored Estimates Scrape Complete for User: ante_oliver\n",
      "Time: 2023-11-26 20:22:25.943936\n",
      "Stocks Covered Scrape Complete for User: analyst_8075381\n",
      "\u001b[91mError while pulling Pending Estimates for User: analyst_8075381\u001b[0m\n",
      "Pending Estimates Scrape Complete for User: analyst_8075381\n",
      "Scored Estimates Scrape Complete for User: analyst_8075381\n",
      "Time: 2023-11-26 20:22:30.350646\n",
      "Stocks Covered Scrape Complete for User: analyst_4596962\n",
      "\u001b[91mError while pulling Pending Estimates for User: analyst_4596962\u001b[0m\n",
      "Pending Estimates Scrape Complete for User: analyst_4596962\n",
      "Scored Estimates Scrape Complete for User: analyst_4596962\n",
      "Time: 2023-11-26 20:22:34.609038\n",
      "Stocks Covered Scrape Complete for User: analyst_225183\n",
      "\u001b[91mError while pulling Pending Estimates for User: analyst_225183\u001b[0m\n",
      "Pending Estimates Scrape Complete for User: analyst_225183\n",
      "Scored Estimates Scrape Complete for User: analyst_225183\n",
      "Time: 2023-11-26 20:22:38.269470\n",
      "Stocks Covered Scrape Complete for User: analyst_5865773\n",
      "\u001b[91mError while pulling Pending Estimates for User: analyst_5865773\u001b[0m\n",
      "Pending Estimates Scrape Complete for User: analyst_5865773\n",
      "Scored Estimates Scrape Complete for User: analyst_5865773\n",
      "Time: 2023-11-26 20:22:41.977480\n",
      "Stocks Covered Scrape Complete for User: analyst_4045347\n",
      "\u001b[91mError while pulling Pending Estimates for User: analyst_4045347\u001b[0m\n",
      "Pending Estimates Scrape Complete for User: analyst_4045347\n",
      "Scored Estimates Scrape Complete for User: analyst_4045347\n",
      "Time: 2023-11-26 20:22:45.656946\n",
      "Stocks Covered Scrape Complete for User: analyst_6436950\n",
      "\u001b[91mError while pulling Pending Estimates for User: analyst_6436950\u001b[0m\n",
      "Pending Estimates Scrape Complete for User: analyst_6436950\n",
      "Scored Estimates Scrape Complete for User: analyst_6436950\n",
      "Time: 2023-11-26 20:22:49.321962\n",
      "Stocks Covered Scrape Complete for User: analyst_3433207\n",
      "\u001b[91mError while pulling Pending Estimates for User: analyst_3433207\u001b[0m\n",
      "Pending Estimates Scrape Complete for User: analyst_3433207\n",
      "Scored Estimates Scrape Complete for User: analyst_3433207\n",
      "Time: 2023-11-26 20:22:53.720127\n",
      "Stocks Covered Scrape Complete for User: analyst_7054907\n",
      "\u001b[91mError while pulling Pending Estimates for User: analyst_7054907\u001b[0m\n",
      "Pending Estimates Scrape Complete for User: analyst_7054907\n",
      "\u001b[91mError while pulling Scored Estimates for User: analyst_7054907\u001b[0m\n",
      "Scored Estimates Scrape Complete for User: analyst_7054907\n",
      "Time: 2023-11-26 20:22:58.881053\n",
      "Stocks Covered Scrape Complete for User: analyst_1524204\n",
      "\u001b[91mError while pulling Pending Estimates for User: analyst_1524204\u001b[0m\n",
      "Pending Estimates Scrape Complete for User: analyst_1524204\n",
      "Scored Estimates Scrape Complete for User: analyst_1524204\n",
      "Time: 2023-11-26 20:23:02.569364\n",
      "Stocks Covered Scrape Complete for User: analyst_22137\n",
      "\u001b[91mError while pulling Pending Estimates for User: analyst_22137\u001b[0m\n",
      "Pending Estimates Scrape Complete for User: analyst_22137\n",
      "Scored Estimates Scrape Complete for User: analyst_22137\n",
      "Time: 2023-11-26 20:23:06.219541\n",
      "Stocks Covered Scrape Complete for User: analyst_4796994\n",
      "\u001b[91mError while pulling Pending Estimates for User: analyst_4796994\u001b[0m\n",
      "Pending Estimates Scrape Complete for User: analyst_4796994\n",
      "Scored Estimates Scrape Complete for User: analyst_4796994\n",
      "Time: 2023-11-26 20:23:09.861573\n",
      "Stocks Covered Scrape Complete for User: analyst_7158844\n",
      "\u001b[91mError while pulling Pending Estimates for User: analyst_7158844\u001b[0m\n",
      "Pending Estimates Scrape Complete for User: analyst_7158844\n",
      "Scored Estimates Scrape Complete for User: analyst_7158844\n",
      "Time: 2023-11-26 20:23:13.964526\n",
      "Stocks Covered Scrape Complete for User: analyst_7434486\n",
      "\u001b[91mError while pulling Pending Estimates for User: analyst_7434486\u001b[0m\n",
      "Pending Estimates Scrape Complete for User: analyst_7434486\n",
      "Scored Estimates Scrape Complete for User: analyst_7434486\n",
      "Time: 2023-11-26 20:23:17.967846\n",
      "Stocks Covered Scrape Complete for User: analyst_861610\n",
      "\u001b[91mError while pulling Pending Estimates for User: analyst_861610\u001b[0m\n",
      "Pending Estimates Scrape Complete for User: analyst_861610\n",
      "Scored Estimates Scrape Complete for User: analyst_861610\n",
      "Time: 2023-11-26 20:23:21.697313\n",
      "Stocks Covered Scrape Complete for User: analyst_190968\n",
      "\u001b[91mError while pulling Pending Estimates for User: analyst_190968\u001b[0m\n",
      "Pending Estimates Scrape Complete for User: analyst_190968\n",
      "Scored Estimates Scrape Complete for User: analyst_190968\n",
      "Time: 2023-11-26 20:23:25.332867\n",
      "Stocks Covered Scrape Complete for User: analyst_7633084\n",
      "\u001b[91mError while pulling Pending Estimates for User: analyst_7633084\u001b[0m\n",
      "Pending Estimates Scrape Complete for User: analyst_7633084\n",
      "Scored Estimates Scrape Complete for User: analyst_7633084\n",
      "Time: 2023-11-26 20:23:28.871955\n",
      "Stocks Covered Scrape Complete for User: analyst_2996678\n",
      "\u001b[91mError while pulling Pending Estimates for User: analyst_2996678\u001b[0m\n",
      "Pending Estimates Scrape Complete for User: analyst_2996678\n",
      "Scored Estimates Scrape Complete for User: analyst_2996678\n",
      "Time: 2023-11-26 20:23:32.874916\n",
      "Stocks Covered Scrape Complete for User: analyst_924147\n",
      "\u001b[91mError while pulling Pending Estimates for User: analyst_924147\u001b[0m\n",
      "Pending Estimates Scrape Complete for User: analyst_924147\n",
      "Scored Estimates Scrape Complete for User: analyst_924147\n",
      "Time: 2023-11-26 20:23:36.517390\n",
      "Stocks Covered Scrape Complete for User: analyst_8334357\n",
      "\u001b[91mError while pulling Pending Estimates for User: analyst_8334357\u001b[0m\n",
      "Pending Estimates Scrape Complete for User: analyst_8334357\n",
      "Scored Estimates Scrape Complete for User: analyst_8334357\n",
      "Time: 2023-11-26 20:23:40.890067\n",
      "Stocks Covered Scrape Complete for User: analyst_2363734\n",
      "\u001b[91mError while pulling Pending Estimates for User: analyst_2363734\u001b[0m\n",
      "Pending Estimates Scrape Complete for User: analyst_2363734\n",
      "Scored Estimates Scrape Complete for User: analyst_2363734\n",
      "Time: 2023-11-26 20:23:44.891386\n",
      "Stocks Covered Scrape Complete for User: analyst_8990576\n",
      "\u001b[91mError while pulling Pending Estimates for User: analyst_8990576\u001b[0m\n",
      "Pending Estimates Scrape Complete for User: analyst_8990576\n",
      "Scored Estimates Scrape Complete for User: analyst_8990576\n",
      "Time: 2023-11-26 20:23:49.423056\n",
      "Stocks Covered Scrape Complete for User: analyst_5385162\n",
      "\u001b[91mError while pulling Pending Estimates for User: analyst_5385162\u001b[0m\n",
      "Pending Estimates Scrape Complete for User: analyst_5385162\n",
      "Scored Estimates Scrape Complete for User: analyst_5385162\n",
      "Time: 2023-11-26 20:23:53.029167\n",
      "Stocks Covered Scrape Complete for User: analyst_2091036\n",
      "\u001b[91mError while pulling Pending Estimates for User: analyst_2091036\u001b[0m\n",
      "Pending Estimates Scrape Complete for User: analyst_2091036\n",
      "Scored Estimates Scrape Complete for User: analyst_2091036\n",
      "Time: 2023-11-26 20:23:56.688413\n",
      "Stocks Covered Scrape Complete for User: analyst_9584507\n",
      "\u001b[91mError while pulling Pending Estimates for User: analyst_9584507\u001b[0m\n",
      "Pending Estimates Scrape Complete for User: analyst_9584507\n",
      "Scored Estimates Scrape Complete for User: analyst_9584507\n",
      "Time: 2023-11-26 20:24:00.299928\n",
      "Stocks Covered Scrape Complete for User: analyst_1448681\n",
      "\u001b[91mError while pulling Pending Estimates for User: analyst_1448681\u001b[0m\n",
      "Pending Estimates Scrape Complete for User: analyst_1448681\n",
      "Scored Estimates Scrape Complete for User: analyst_1448681\n",
      "Time: 2023-11-26 20:24:04.010139\n",
      "Stocks Covered Scrape Complete for User: analyst_5642673\n",
      "\u001b[91mError while pulling Pending Estimates for User: analyst_5642673\u001b[0m\n",
      "Pending Estimates Scrape Complete for User: analyst_5642673\n",
      "Scored Estimates Scrape Complete for User: analyst_5642673\n",
      "Time: 2023-11-26 20:24:07.647725\n",
      "Stocks Covered Scrape Complete for User: analyst_8079673\n",
      "\u001b[91mError while pulling Pending Estimates for User: analyst_8079673\u001b[0m\n",
      "Pending Estimates Scrape Complete for User: analyst_8079673\n",
      "\u001b[91mError while pulling Scored Estimates for User: analyst_8079673\u001b[0m\n",
      "Scored Estimates Scrape Complete for User: analyst_8079673\n",
      "Time: 2023-11-26 20:24:12.797881\n",
      "\u001b[91mError while pulling Stocks Covered for User: analyst_6678983\u001b[0m\n",
      "Stocks Covered Scrape Complete for User: analyst_6678983\n",
      "\u001b[91mError while pulling Pending Estimates for User: analyst_6678983\u001b[0m\n",
      "Pending Estimates Scrape Complete for User: analyst_6678983\n",
      "Scored Estimates Scrape Complete for User: analyst_6678983\n",
      "Time: 2023-11-26 20:24:19.102368\n",
      "Stocks Covered Scrape Complete for User: analyst_6097839\n",
      "\u001b[91mError while pulling Pending Estimates for User: analyst_6097839\u001b[0m\n",
      "Pending Estimates Scrape Complete for User: analyst_6097839\n",
      "Scored Estimates Scrape Complete for User: analyst_6097839\n",
      "Time: 2023-11-26 20:24:22.824638\n",
      "Stocks Covered Scrape Complete for User: analyst_8548690\n",
      "\u001b[91mError while pulling Pending Estimates for User: analyst_8548690\u001b[0m\n",
      "Pending Estimates Scrape Complete for User: analyst_8548690\n",
      "Scored Estimates Scrape Complete for User: analyst_8548690\n",
      "Time: 2023-11-26 20:24:26.823085\n",
      "Stocks Covered Scrape Complete for User: analyst_3620608\n",
      "\u001b[91mError while pulling Pending Estimates for User: analyst_3620608\u001b[0m\n",
      "Pending Estimates Scrape Complete for User: analyst_3620608\n",
      "Scored Estimates Scrape Complete for User: analyst_3620608\n",
      "Time: 2023-11-26 20:24:30.410869\n",
      "Stocks Covered Scrape Complete for User: analyst_7637078\n",
      "\u001b[91mError while pulling Pending Estimates for User: analyst_7637078\u001b[0m\n",
      "Pending Estimates Scrape Complete for User: analyst_7637078\n",
      "Scored Estimates Scrape Complete for User: analyst_7637078\n",
      "Time: 2023-11-26 20:24:34.104410\n",
      "Stocks Covered Scrape Complete for User: analyst_4191460\n",
      "\u001b[91mError while pulling Pending Estimates for User: analyst_4191460\u001b[0m\n",
      "Pending Estimates Scrape Complete for User: analyst_4191460\n",
      "Scored Estimates Scrape Complete for User: analyst_4191460\n",
      "Time: 2023-11-26 20:24:37.918298\n",
      "Stocks Covered Scrape Complete for User: analyst_267980\n",
      "\u001b[91mError while pulling Pending Estimates for User: analyst_267980\u001b[0m\n",
      "Pending Estimates Scrape Complete for User: analyst_267980\n",
      "Scored Estimates Scrape Complete for User: analyst_267980\n",
      "Time: 2023-11-26 20:24:42.428750\n",
      "Stocks Covered Scrape Complete for User: robswoodsjr\n",
      "\u001b[91mError while pulling Pending Estimates for User: robswoodsjr\u001b[0m\n",
      "Pending Estimates Scrape Complete for User: robswoodsjr\n",
      "Scored Estimates Scrape Complete for User: robswoodsjr\n",
      "Time: 2023-11-26 20:24:46.887778\n",
      "Stocks Covered Scrape Complete for User: jrd245\n",
      "\u001b[91mError while pulling Pending Estimates for User: jrd245\u001b[0m\n",
      "Pending Estimates Scrape Complete for User: jrd245\n",
      "Scored Estimates Scrape Complete for User: jrd245\n",
      "Time: 2023-11-26 20:24:51.276939\n",
      "Stocks Covered Scrape Complete for User: analyst_3312951\n",
      "\u001b[91mError while pulling Pending Estimates for User: analyst_3312951\u001b[0m\n",
      "Pending Estimates Scrape Complete for User: analyst_3312951\n",
      "Scored Estimates Scrape Complete for User: analyst_3312951\n",
      "Time: 2023-11-26 20:24:55.024186\n",
      "Stocks Covered Scrape Complete for User: analyst_7294177\n",
      "\u001b[91mError while pulling Pending Estimates for User: analyst_7294177\u001b[0m\n",
      "Pending Estimates Scrape Complete for User: analyst_7294177\n",
      "Scored Estimates Scrape Complete for User: analyst_7294177\n",
      "Time: 2023-11-26 20:24:58.648328\n",
      "Stocks Covered Scrape Complete for User: analyst_8490106\n",
      "\u001b[91mError while pulling Pending Estimates for User: analyst_8490106\u001b[0m\n",
      "Pending Estimates Scrape Complete for User: analyst_8490106\n",
      "Scored Estimates Scrape Complete for User: analyst_8490106\n",
      "Time: 2023-11-26 20:25:02.549084\n",
      "Stocks Covered Scrape Complete for User: analyst_9274179\n",
      "\u001b[91mError while pulling Pending Estimates for User: analyst_9274179\u001b[0m\n",
      "Pending Estimates Scrape Complete for User: analyst_9274179\n",
      "Scored Estimates Scrape Complete for User: analyst_9274179\n",
      "Time: 2023-11-26 20:25:06.154517\n",
      "Stocks Covered Scrape Complete for User: analyst_6613427\n",
      "\u001b[91mError while pulling Pending Estimates for User: analyst_6613427\u001b[0m\n",
      "Pending Estimates Scrape Complete for User: analyst_6613427\n",
      "Scored Estimates Scrape Complete for User: analyst_6613427\n",
      "Time: 2023-11-26 20:25:09.848689\n",
      "\u001b[91mError while pulling Stocks Covered for User: analyst_1481556\u001b[0m\n",
      "Stocks Covered Scrape Complete for User: analyst_1481556\n",
      "\u001b[91mError while pulling Pending Estimates for User: analyst_1481556\u001b[0m\n",
      "Pending Estimates Scrape Complete for User: analyst_1481556\n",
      "Scored Estimates Scrape Complete for User: analyst_1481556\n",
      "Time: 2023-11-26 20:25:16.106199\n",
      "Stocks Covered Scrape Complete for User: analyst_6220269\n",
      "\u001b[91mError while pulling Pending Estimates for User: analyst_6220269\u001b[0m\n",
      "Pending Estimates Scrape Complete for User: analyst_6220269\n",
      "Scored Estimates Scrape Complete for User: analyst_6220269\n",
      "Time: 2023-11-26 20:25:19.760331\n",
      "Stocks Covered Scrape Complete for User: analyst_277304\n",
      "\u001b[91mError while pulling Pending Estimates for User: analyst_277304\u001b[0m\n",
      "Pending Estimates Scrape Complete for User: analyst_277304\n",
      "Scored Estimates Scrape Complete for User: analyst_277304\n",
      "Time: 2023-11-26 20:25:23.421710\n",
      "\u001b[91mError while pulling Stocks Covered for User: analyst_5023644\u001b[0m\n",
      "Stocks Covered Scrape Complete for User: analyst_5023644\n",
      "\u001b[91mError while pulling Pending Estimates for User: analyst_5023644\u001b[0m\n",
      "Pending Estimates Scrape Complete for User: analyst_5023644\n",
      "Scored Estimates Scrape Complete for User: analyst_5023644\n",
      "Time: 2023-11-26 20:25:29.610300\n",
      "Stocks Covered Scrape Complete for User: analyst_8522420\n",
      "\u001b[91mError while pulling Pending Estimates for User: analyst_8522420\u001b[0m\n",
      "Pending Estimates Scrape Complete for User: analyst_8522420\n",
      "Scored Estimates Scrape Complete for User: analyst_8522420\n",
      "Time: 2023-11-26 20:25:33.239604\n",
      "Stocks Covered Scrape Complete for User: peachesdooder\n",
      "\u001b[91mError while pulling Pending Estimates for User: peachesdooder\u001b[0m\n",
      "Pending Estimates Scrape Complete for User: peachesdooder\n",
      "Scored Estimates Scrape Complete for User: peachesdooder\n",
      "Time: 2023-11-26 20:25:37.371651\n",
      "Stocks Covered Scrape Complete for User: analyst_3719007\n",
      "\u001b[91mError while pulling Pending Estimates for User: analyst_3719007\u001b[0m\n",
      "Pending Estimates Scrape Complete for User: analyst_3719007\n",
      "Scored Estimates Scrape Complete for User: analyst_3719007\n",
      "Time: 2023-11-26 20:25:40.915335\n",
      "Stocks Covered Scrape Complete for User: analyst_5073334\n",
      "\u001b[91mError while pulling Pending Estimates for User: analyst_5073334\u001b[0m\n",
      "Pending Estimates Scrape Complete for User: analyst_5073334\n",
      "Scored Estimates Scrape Complete for User: analyst_5073334\n",
      "Time: 2023-11-26 20:25:44.707243\n",
      "Stocks Covered Scrape Complete for User: analyst_8118258\n",
      "\u001b[91mError while pulling Pending Estimates for User: analyst_8118258\u001b[0m\n",
      "Pending Estimates Scrape Complete for User: analyst_8118258\n",
      "Scored Estimates Scrape Complete for User: analyst_8118258\n",
      "Time: 2023-11-26 20:25:48.288255\n",
      "Stocks Covered Scrape Complete for User: analyst_3109946\n",
      "\u001b[91mError while pulling Pending Estimates for User: analyst_3109946\u001b[0m\n",
      "Pending Estimates Scrape Complete for User: analyst_3109946\n",
      "Scored Estimates Scrape Complete for User: analyst_3109946\n",
      "Time: 2023-11-26 20:25:51.860113\n",
      "Stocks Covered Scrape Complete for User: analyst_5720694\n",
      "\u001b[91mError while pulling Pending Estimates for User: analyst_5720694\u001b[0m\n",
      "Pending Estimates Scrape Complete for User: analyst_5720694\n",
      "Scored Estimates Scrape Complete for User: analyst_5720694\n",
      "Time: 2023-11-26 20:25:55.464077\n",
      "Stocks Covered Scrape Complete for User: analyst_8471448\n",
      "\u001b[91mError while pulling Pending Estimates for User: analyst_8471448\u001b[0m\n",
      "Pending Estimates Scrape Complete for User: analyst_8471448\n",
      "Scored Estimates Scrape Complete for User: analyst_8471448\n",
      "Time: 2023-11-26 20:25:58.957473\n",
      "Stocks Covered Scrape Complete for User: analyst_3975833\n",
      "\u001b[91mError while pulling Pending Estimates for User: analyst_3975833\u001b[0m\n",
      "Pending Estimates Scrape Complete for User: analyst_3975833\n",
      "Scored Estimates Scrape Complete for User: analyst_3975833\n",
      "Time: 2023-11-26 20:26:02.541133\n",
      "Stocks Covered Scrape Complete for User: analyst_3338479\n",
      "\u001b[91mError while pulling Pending Estimates for User: analyst_3338479\u001b[0m\n",
      "Pending Estimates Scrape Complete for User: analyst_3338479\n",
      "Scored Estimates Scrape Complete for User: analyst_3338479\n",
      "Time: 2023-11-26 20:26:06.264034\n",
      "Stocks Covered Scrape Complete for User: analyst_13738\n",
      "\u001b[91mError while pulling Pending Estimates for User: analyst_13738\u001b[0m\n",
      "Pending Estimates Scrape Complete for User: analyst_13738\n",
      "Scored Estimates Scrape Complete for User: analyst_13738\n",
      "Time: 2023-11-26 20:26:09.906375\n",
      "Stocks Covered Scrape Complete for User: analyst_1428956\n",
      "\u001b[91mError while pulling Pending Estimates for User: analyst_1428956\u001b[0m\n",
      "Pending Estimates Scrape Complete for User: analyst_1428956\n",
      "Scored Estimates Scrape Complete for User: analyst_1428956\n",
      "Time: 2023-11-26 20:26:13.652485\n",
      "Stocks Covered Scrape Complete for User: analyst-3159710\n",
      "\u001b[91mError while pulling Pending Estimates for User: analyst-3159710\u001b[0m\n",
      "Pending Estimates Scrape Complete for User: analyst-3159710\n",
      "Scored Estimates Scrape Complete for User: analyst-3159710\n",
      "Time: 2023-11-26 20:26:17.349164\n",
      "Stocks Covered Scrape Complete for User: analyst_6734058\n",
      "\u001b[91mError while pulling Pending Estimates for User: analyst_6734058\u001b[0m\n",
      "Pending Estimates Scrape Complete for User: analyst_6734058\n",
      "Scored Estimates Scrape Complete for User: analyst_6734058\n",
      "Time: 2023-11-26 20:26:20.912359\n",
      "Stocks Covered Scrape Complete for User: analyst_6897678\n",
      "\u001b[91mError while pulling Pending Estimates for User: analyst_6897678\u001b[0m\n",
      "Pending Estimates Scrape Complete for User: analyst_6897678\n",
      "Scored Estimates Scrape Complete for User: analyst_6897678\n",
      "Time: 2023-11-26 20:26:24.600797\n",
      "Stocks Covered Scrape Complete for User: analyst_4955635\n",
      "\u001b[91mError while pulling Pending Estimates for User: analyst_4955635\u001b[0m\n",
      "Pending Estimates Scrape Complete for User: analyst_4955635\n",
      "Scored Estimates Scrape Complete for User: analyst_4955635\n",
      "Time: 2023-11-26 20:26:28.253031\n",
      "Stocks Covered Scrape Complete for User: backsplash\n",
      "\u001b[91mError while pulling Pending Estimates for User: backsplash\u001b[0m\n",
      "Pending Estimates Scrape Complete for User: backsplash\n",
      "\u001b[91mError while pulling Scored Estimates for User: backsplash\u001b[0m\n",
      "Scored Estimates Scrape Complete for User: backsplash\n",
      "Time: 2023-11-26 20:26:33.535304\n",
      "Stocks Covered Scrape Complete for User: fnasirov\n",
      "\u001b[91mError while pulling Pending Estimates for User: fnasirov\u001b[0m\n",
      "Pending Estimates Scrape Complete for User: fnasirov\n",
      "Scored Estimates Scrape Complete for User: fnasirov\n",
      "Time: 2023-11-26 20:26:37.886181\n",
      "Stocks Covered Scrape Complete for User: analyst_8333928\n",
      "Pending Estimates Scrape Complete for User: analyst_8333928\n",
      "Scored Estimates Scrape Complete for User: analyst_8333928\n",
      "Time: 2023-11-26 20:26:41.830956\n",
      "\u001b[91mError while pulling Stocks Covered for User: analyst_670872\u001b[0m\n",
      "Stocks Covered Scrape Complete for User: analyst_670872\n",
      "\u001b[91mError while pulling Pending Estimates for User: analyst_670872\u001b[0m\n",
      "Pending Estimates Scrape Complete for User: analyst_670872\n",
      "Scored Estimates Scrape Complete for User: analyst_670872\n",
      "Time: 2023-11-26 20:26:48.013014\n",
      "Stocks Covered Scrape Complete for User: analyst_8040296\n",
      "\u001b[91mError while pulling Pending Estimates for User: analyst_8040296\u001b[0m\n",
      "Pending Estimates Scrape Complete for User: analyst_8040296\n",
      "Scored Estimates Scrape Complete for User: analyst_8040296\n",
      "Time: 2023-11-26 20:26:51.562998\n",
      "Stocks Covered Scrape Complete for User: analyst_403669\n",
      "\u001b[91mError while pulling Pending Estimates for User: analyst_403669\u001b[0m\n",
      "Pending Estimates Scrape Complete for User: analyst_403669\n",
      "Scored Estimates Scrape Complete for User: analyst_403669\n",
      "Time: 2023-11-26 20:26:55.102140\n",
      "Stocks Covered Scrape Complete for User: analyst_6661999\n",
      "\u001b[91mError while pulling Pending Estimates for User: analyst_6661999\u001b[0m\n",
      "Pending Estimates Scrape Complete for User: analyst_6661999\n",
      "Scored Estimates Scrape Complete for User: analyst_6661999\n",
      "Time: 2023-11-26 20:26:58.613866\n",
      "Stocks Covered Scrape Complete for User: analyst_6184314\n",
      "\u001b[91mError while pulling Pending Estimates for User: analyst_6184314\u001b[0m\n",
      "Pending Estimates Scrape Complete for User: analyst_6184314\n",
      "Scored Estimates Scrape Complete for User: analyst_6184314\n",
      "Time: 2023-11-26 20:27:02.249039\n",
      "Stocks Covered Scrape Complete for User: analyst_8912093\n",
      "\u001b[91mError while pulling Pending Estimates for User: analyst_8912093\u001b[0m\n",
      "Pending Estimates Scrape Complete for User: analyst_8912093\n",
      "Scored Estimates Scrape Complete for User: analyst_8912093\n",
      "Time: 2023-11-26 20:27:05.806141\n",
      "Stocks Covered Scrape Complete for User: analyst_2425645-4dd8c193-a46e-46ad-88ad-a72037346ed9\n",
      "\u001b[91mError while pulling Pending Estimates for User: analyst_2425645-4dd8c193-a46e-46ad-88ad-a72037346ed9\u001b[0m\n",
      "Pending Estimates Scrape Complete for User: analyst_2425645-4dd8c193-a46e-46ad-88ad-a72037346ed9\n",
      "Scored Estimates Scrape Complete for User: analyst_2425645-4dd8c193-a46e-46ad-88ad-a72037346ed9\n",
      "Time: 2023-11-26 20:27:09.404590\n",
      "Stocks Covered Scrape Complete for User: analyst_1293030\n",
      "\u001b[91mError while pulling Pending Estimates for User: analyst_1293030\u001b[0m\n",
      "Pending Estimates Scrape Complete for User: analyst_1293030\n",
      "Scored Estimates Scrape Complete for User: analyst_1293030\n",
      "Time: 2023-11-26 20:27:13.195379\n",
      "\u001b[91mError while pulling Stocks Covered for User: analyst_2587588\u001b[0m\n",
      "Stocks Covered Scrape Complete for User: analyst_2587588\n",
      "\u001b[91mError while pulling Pending Estimates for User: analyst_2587588\u001b[0m\n",
      "Pending Estimates Scrape Complete for User: analyst_2587588\n",
      "Scored Estimates Scrape Complete for User: analyst_2587588\n",
      "Time: 2023-11-26 20:27:19.308294\n",
      "Stocks Covered Scrape Complete for User: analyst_625598\n",
      "\u001b[91mError while pulling Pending Estimates for User: analyst_625598\u001b[0m\n",
      "Pending Estimates Scrape Complete for User: analyst_625598\n",
      "Scored Estimates Scrape Complete for User: analyst_625598\n",
      "Time: 2023-11-26 20:27:22.896076\n",
      "Stocks Covered Scrape Complete for User: analyst_5045769\n",
      "\u001b[91mError while pulling Pending Estimates for User: analyst_5045769\u001b[0m\n",
      "Pending Estimates Scrape Complete for User: analyst_5045769\n",
      "Scored Estimates Scrape Complete for User: analyst_5045769\n",
      "Time: 2023-11-26 20:27:26.844520\n",
      "Stocks Covered Scrape Complete for User: analyst_264606\n",
      "\u001b[91mError while pulling Pending Estimates for User: analyst_264606\u001b[0m\n",
      "Pending Estimates Scrape Complete for User: analyst_264606\n",
      "Scored Estimates Scrape Complete for User: analyst_264606\n",
      "Time: 2023-11-26 20:27:30.502761\n",
      "\u001b[91mError while pulling Stocks Covered for User: analyst_1803590\u001b[0m\n",
      "Stocks Covered Scrape Complete for User: analyst_1803590\n",
      "\u001b[91mError while pulling Pending Estimates for User: analyst_1803590\u001b[0m\n",
      "Pending Estimates Scrape Complete for User: analyst_1803590\n",
      "Scored Estimates Scrape Complete for User: analyst_1803590\n",
      "Time: 2023-11-26 20:27:36.599668\n",
      "Stocks Covered Scrape Complete for User: analyst_7769451\n",
      "\u001b[91mError while pulling Pending Estimates for User: analyst_7769451\u001b[0m\n",
      "Pending Estimates Scrape Complete for User: analyst_7769451\n",
      "Scored Estimates Scrape Complete for User: analyst_7769451\n",
      "Time: 2023-11-26 20:27:40.161002\n",
      "Stocks Covered Scrape Complete for User: analyst_8461768\n",
      "\u001b[91mError while pulling Pending Estimates for User: analyst_8461768\u001b[0m\n",
      "Pending Estimates Scrape Complete for User: analyst_8461768\n",
      "Scored Estimates Scrape Complete for User: analyst_8461768\n",
      "Time: 2023-11-26 20:27:43.792310\n",
      "Stocks Covered Scrape Complete for User: analyst_4580448\n",
      "\u001b[91mError while pulling Pending Estimates for User: analyst_4580448\u001b[0m\n",
      "Pending Estimates Scrape Complete for User: analyst_4580448\n",
      "Scored Estimates Scrape Complete for User: analyst_4580448\n",
      "Time: 2023-11-26 20:27:47.309474\n",
      "Stocks Covered Scrape Complete for User: analyst_2401362\n",
      "\u001b[91mError while pulling Pending Estimates for User: analyst_2401362\u001b[0m\n",
      "Pending Estimates Scrape Complete for User: analyst_2401362\n",
      "Scored Estimates Scrape Complete for User: analyst_2401362\n",
      "Time: 2023-11-26 20:27:50.859816\n",
      "Stocks Covered Scrape Complete for User: rsmerrill\n",
      "\u001b[91mError while pulling Pending Estimates for User: rsmerrill\u001b[0m\n",
      "Pending Estimates Scrape Complete for User: rsmerrill\n",
      "Scored Estimates Scrape Complete for User: rsmerrill\n",
      "Time: 2023-11-26 20:27:54.825999\n",
      "Stocks Covered Scrape Complete for User: jeffmacke\n",
      "\u001b[91mError while pulling Pending Estimates for User: jeffmacke\u001b[0m\n",
      "Pending Estimates Scrape Complete for User: jeffmacke\n",
      "Scored Estimates Scrape Complete for User: jeffmacke\n",
      "Time: 2023-11-26 20:27:59.341990\n",
      "Stocks Covered Scrape Complete for User: analyst_2242515\n",
      "\u001b[91mError while pulling Pending Estimates for User: analyst_2242515\u001b[0m\n",
      "Pending Estimates Scrape Complete for User: analyst_2242515\n",
      "Scored Estimates Scrape Complete for User: analyst_2242515\n",
      "Time: 2023-11-26 20:28:02.936510\n",
      "Stocks Covered Scrape Complete for User: analyst_9448750\n",
      "\u001b[91mError while pulling Pending Estimates for User: analyst_9448750\u001b[0m\n",
      "Pending Estimates Scrape Complete for User: analyst_9448750\n",
      "Scored Estimates Scrape Complete for User: analyst_9448750\n",
      "Time: 2023-11-26 20:28:06.684968\n",
      "Stocks Covered Scrape Complete for User: analyst_1439155\n",
      "\u001b[91mError while pulling Pending Estimates for User: analyst_1439155\u001b[0m\n",
      "Pending Estimates Scrape Complete for User: analyst_1439155\n",
      "Scored Estimates Scrape Complete for User: analyst_1439155\n",
      "Time: 2023-11-26 20:28:10.405927\n",
      "Stocks Covered Scrape Complete for User: analyst_4866260\n",
      "\u001b[91mError while pulling Pending Estimates for User: analyst_4866260\u001b[0m\n",
      "Pending Estimates Scrape Complete for User: analyst_4866260\n",
      "Scored Estimates Scrape Complete for User: analyst_4866260\n",
      "Time: 2023-11-26 20:28:14.019812\n",
      "Stocks Covered Scrape Complete for User: analyst_9436703\n",
      "\u001b[91mError while pulling Pending Estimates for User: analyst_9436703\u001b[0m\n",
      "Pending Estimates Scrape Complete for User: analyst_9436703\n",
      "Scored Estimates Scrape Complete for User: analyst_9436703\n",
      "Time: 2023-11-26 20:28:17.606844\n",
      "Stocks Covered Scrape Complete for User: analyst_8098364\n",
      "\u001b[91mError while pulling Pending Estimates for User: analyst_8098364\u001b[0m\n",
      "Pending Estimates Scrape Complete for User: analyst_8098364\n",
      "Scored Estimates Scrape Complete for User: analyst_8098364\n",
      "Time: 2023-11-26 20:28:21.206385\n",
      "\u001b[91mError while pulling Stocks Covered for User: analyst_3893416\u001b[0m\n",
      "Stocks Covered Scrape Complete for User: analyst_3893416\n",
      "\u001b[91mError while pulling Pending Estimates for User: analyst_3893416\u001b[0m\n",
      "Pending Estimates Scrape Complete for User: analyst_3893416\n",
      "Scored Estimates Scrape Complete for User: analyst_3893416\n",
      "Time: 2023-11-26 20:28:27.447135\n",
      "Stocks Covered Scrape Complete for User: analyst_5802895\n",
      "\u001b[91mError while pulling Pending Estimates for User: analyst_5802895\u001b[0m\n",
      "Pending Estimates Scrape Complete for User: analyst_5802895\n",
      "Scored Estimates Scrape Complete for User: analyst_5802895\n",
      "Time: 2023-11-26 20:28:31.325287\n",
      "Stocks Covered Scrape Complete for User: analyst_7645457\n",
      "\u001b[91mError while pulling Pending Estimates for User: analyst_7645457\u001b[0m\n",
      "Pending Estimates Scrape Complete for User: analyst_7645457\n",
      "Scored Estimates Scrape Complete for User: analyst_7645457\n",
      "Time: 2023-11-26 20:28:35.459770\n",
      "Stocks Covered Scrape Complete for User: analyst_4725055\n",
      "\u001b[91mError while pulling Pending Estimates for User: analyst_4725055\u001b[0m\n",
      "Pending Estimates Scrape Complete for User: analyst_4725055\n",
      "Scored Estimates Scrape Complete for User: analyst_4725055\n",
      "Time: 2023-11-26 20:28:39.241904\n",
      "Stocks Covered Scrape Complete for User: analyst_7255262\n",
      "\u001b[91mError while pulling Pending Estimates for User: analyst_7255262\u001b[0m\n",
      "Pending Estimates Scrape Complete for User: analyst_7255262\n",
      "Scored Estimates Scrape Complete for User: analyst_7255262\n",
      "Time: 2023-11-26 20:28:43.626028\n",
      "Stocks Covered Scrape Complete for User: analyst_1446281\n",
      "\u001b[91mError while pulling Pending Estimates for User: analyst_1446281\u001b[0m\n",
      "Pending Estimates Scrape Complete for User: analyst_1446281\n",
      "Scored Estimates Scrape Complete for User: analyst_1446281\n",
      "Time: 2023-11-26 20:28:47.352144\n",
      "Stocks Covered Scrape Complete for User: analyst_661305\n",
      "\u001b[91mError while pulling Pending Estimates for User: analyst_661305\u001b[0m\n",
      "Pending Estimates Scrape Complete for User: analyst_661305\n",
      "Scored Estimates Scrape Complete for User: analyst_661305\n",
      "Time: 2023-11-26 20:28:51.057344\n",
      "Stocks Covered Scrape Complete for User: analyst_7903199\n",
      "\u001b[91mError while pulling Pending Estimates for User: analyst_7903199\u001b[0m\n",
      "Pending Estimates Scrape Complete for User: analyst_7903199\n",
      "Scored Estimates Scrape Complete for User: analyst_7903199\n",
      "Time: 2023-11-26 20:28:54.501818\n",
      "Stocks Covered Scrape Complete for User: analyst_2028131\n",
      "\u001b[91mError while pulling Pending Estimates for User: analyst_2028131\u001b[0m\n",
      "Pending Estimates Scrape Complete for User: analyst_2028131\n",
      "Scored Estimates Scrape Complete for User: analyst_2028131\n",
      "Time: 2023-11-26 20:28:58.199787\n",
      "Stocks Covered Scrape Complete for User: analyst_7657584\n",
      "\u001b[91mError while pulling Pending Estimates for User: analyst_7657584\u001b[0m\n",
      "Pending Estimates Scrape Complete for User: analyst_7657584\n",
      "Scored Estimates Scrape Complete for User: analyst_7657584\n",
      "Time: 2023-11-26 20:29:01.779600\n",
      "Stocks Covered Scrape Complete for User: analyst_8923988\n",
      "\u001b[91mError while pulling Pending Estimates for User: analyst_8923988\u001b[0m\n",
      "Pending Estimates Scrape Complete for User: analyst_8923988\n",
      "Scored Estimates Scrape Complete for User: analyst_8923988\n",
      "Time: 2023-11-26 20:29:05.558660\n",
      "\u001b[91mError while pulling Stocks Covered for User: analyst_2942167\u001b[0m\n",
      "Stocks Covered Scrape Complete for User: analyst_2942167\n",
      "\u001b[91mError while pulling Pending Estimates for User: analyst_2942167\u001b[0m\n",
      "Pending Estimates Scrape Complete for User: analyst_2942167\n",
      "Scored Estimates Scrape Complete for User: analyst_2942167\n",
      "Time: 2023-11-26 20:29:11.798835\n",
      "Stocks Covered Scrape Complete for User: analyst_7341720\n",
      "\u001b[91mError while pulling Pending Estimates for User: analyst_7341720\u001b[0m\n",
      "Pending Estimates Scrape Complete for User: analyst_7341720\n",
      "Scored Estimates Scrape Complete for User: analyst_7341720\n",
      "Time: 2023-11-26 20:29:15.389236\n",
      "Stocks Covered Scrape Complete for User: analyst_5046822\n",
      "\u001b[91mError while pulling Pending Estimates for User: analyst_5046822\u001b[0m\n",
      "Pending Estimates Scrape Complete for User: analyst_5046822\n",
      "Scored Estimates Scrape Complete for User: analyst_5046822\n",
      "Time: 2023-11-26 20:29:19.008428\n",
      "Stocks Covered Scrape Complete for User: analyst_6089001\n",
      "\u001b[91mError while pulling Pending Estimates for User: analyst_6089001\u001b[0m\n",
      "Pending Estimates Scrape Complete for User: analyst_6089001\n",
      "Scored Estimates Scrape Complete for User: analyst_6089001\n",
      "Time: 2023-11-26 20:29:22.653192\n",
      "Stocks Covered Scrape Complete for User: analyst_5276464\n",
      "\u001b[91mError while pulling Pending Estimates for User: analyst_5276464\u001b[0m\n",
      "Pending Estimates Scrape Complete for User: analyst_5276464\n",
      "Scored Estimates Scrape Complete for User: analyst_5276464\n",
      "Time: 2023-11-26 20:29:26.346763\n",
      "Stocks Covered Scrape Complete for User: analyst_5339090\n",
      "\u001b[91mError while pulling Pending Estimates for User: analyst_5339090\u001b[0m\n",
      "Pending Estimates Scrape Complete for User: analyst_5339090\n",
      "Scored Estimates Scrape Complete for User: analyst_5339090\n",
      "Time: 2023-11-26 20:29:30.172752\n",
      "\u001b[91mError while pulling Stocks Covered for User: analyst_3450627\u001b[0m\n",
      "Stocks Covered Scrape Complete for User: analyst_3450627\n",
      "\u001b[91mError while pulling Pending Estimates for User: analyst_3450627\u001b[0m\n",
      "Pending Estimates Scrape Complete for User: analyst_3450627\n",
      "Scored Estimates Scrape Complete for User: analyst_3450627\n",
      "Time: 2023-11-26 20:29:36.383238\n",
      "Stocks Covered Scrape Complete for User: analyst_477417\n",
      "\u001b[91mError while pulling Pending Estimates for User: analyst_477417\u001b[0m\n",
      "Pending Estimates Scrape Complete for User: analyst_477417\n",
      "Scored Estimates Scrape Complete for User: analyst_477417\n",
      "Time: 2023-11-26 20:29:40.047110\n",
      "Stocks Covered Scrape Complete for User: analyst_2005492\n",
      "\u001b[91mError while pulling Pending Estimates for User: analyst_2005492\u001b[0m\n",
      "Pending Estimates Scrape Complete for User: analyst_2005492\n",
      "Scored Estimates Scrape Complete for User: analyst_2005492\n",
      "Time: 2023-11-26 20:29:43.611798\n",
      "\u001b[91mError while pulling Stocks Covered for User: analyst_8361141\u001b[0m\n",
      "Stocks Covered Scrape Complete for User: analyst_8361141\n",
      "\u001b[91mError while pulling Pending Estimates for User: analyst_8361141\u001b[0m\n",
      "Pending Estimates Scrape Complete for User: analyst_8361141\n",
      "Scored Estimates Scrape Complete for User: analyst_8361141\n",
      "Time: 2023-11-26 20:29:49.854201\n",
      "Stocks Covered Scrape Complete for User: analyst_872443\n",
      "\u001b[91mError while pulling Pending Estimates for User: analyst_872443\u001b[0m\n",
      "Pending Estimates Scrape Complete for User: analyst_872443\n",
      "Scored Estimates Scrape Complete for User: analyst_872443\n",
      "Time: 2023-11-26 20:29:53.489303\n",
      "Stocks Covered Scrape Complete for User: analyst_6436827\n",
      "\u001b[91mError while pulling Pending Estimates for User: analyst_6436827\u001b[0m\n",
      "Pending Estimates Scrape Complete for User: analyst_6436827\n",
      "Scored Estimates Scrape Complete for User: analyst_6436827\n",
      "Time: 2023-11-26 20:29:57.432025\n",
      "Stocks Covered Scrape Complete for User: analyst_68046\n",
      "\u001b[91mError while pulling Pending Estimates for User: analyst_68046\u001b[0m\n",
      "Pending Estimates Scrape Complete for User: analyst_68046\n",
      "Scored Estimates Scrape Complete for User: analyst_68046\n",
      "Time: 2023-11-26 20:30:01.525012\n",
      "Stocks Covered Scrape Complete for User: analyst_448348\n",
      "\u001b[91mError while pulling Pending Estimates for User: analyst_448348\u001b[0m\n",
      "Pending Estimates Scrape Complete for User: analyst_448348\n",
      "Scored Estimates Scrape Complete for User: analyst_448348\n",
      "Time: 2023-11-26 20:30:05.261136\n",
      "Stocks Covered Scrape Complete for User: analyst_8154387\n",
      "\u001b[91mError while pulling Pending Estimates for User: analyst_8154387\u001b[0m\n",
      "Pending Estimates Scrape Complete for User: analyst_8154387\n",
      "Scored Estimates Scrape Complete for User: analyst_8154387\n",
      "Time: 2023-11-26 20:30:08.913369\n",
      "Stocks Covered Scrape Complete for User: analyst_6052513\n",
      "\u001b[91mError while pulling Pending Estimates for User: analyst_6052513\u001b[0m\n",
      "Pending Estimates Scrape Complete for User: analyst_6052513\n",
      "Scored Estimates Scrape Complete for User: analyst_6052513\n",
      "Time: 2023-11-26 20:30:12.912275\n",
      "Stocks Covered Scrape Complete for User: analyst_5326125\n",
      "\u001b[91mError while pulling Pending Estimates for User: analyst_5326125\u001b[0m\n",
      "Pending Estimates Scrape Complete for User: analyst_5326125\n",
      "Scored Estimates Scrape Complete for User: analyst_5326125\n",
      "Time: 2023-11-26 20:30:17.012507\n",
      "Stocks Covered Scrape Complete for User: analyst_6911763\n",
      "\u001b[91mError while pulling Pending Estimates for User: analyst_6911763\u001b[0m\n",
      "Pending Estimates Scrape Complete for User: analyst_6911763\n",
      "Scored Estimates Scrape Complete for User: analyst_6911763\n",
      "Time: 2023-11-26 20:30:21.219981\n",
      "Stocks Covered Scrape Complete for User: metal_miltia\n",
      "\u001b[91mError while pulling Pending Estimates for User: metal_miltia\u001b[0m\n",
      "Pending Estimates Scrape Complete for User: metal_miltia\n",
      "Scored Estimates Scrape Complete for User: metal_miltia\n",
      "Time: 2023-11-26 20:30:26.326272\n",
      "Stocks Covered Scrape Complete for User: analyst_3083850\n",
      "\u001b[91mError while pulling Pending Estimates for User: analyst_3083850\u001b[0m\n",
      "Pending Estimates Scrape Complete for User: analyst_3083850\n",
      "Scored Estimates Scrape Complete for User: analyst_3083850\n",
      "Time: 2023-11-26 20:30:30.122156\n",
      "Stocks Covered Scrape Complete for User: analyst_7723848\n",
      "\u001b[91mError while pulling Pending Estimates for User: analyst_7723848\u001b[0m\n",
      "Pending Estimates Scrape Complete for User: analyst_7723848\n",
      "Scored Estimates Scrape Complete for User: analyst_7723848\n",
      "Time: 2023-11-26 20:30:33.933139\n",
      "Stocks Covered Scrape Complete for User: analyst_2969089\n",
      "\u001b[91mError while pulling Pending Estimates for User: analyst_2969089\u001b[0m\n",
      "Pending Estimates Scrape Complete for User: analyst_2969089\n",
      "Scored Estimates Scrape Complete for User: analyst_2969089\n",
      "Time: 2023-11-26 20:30:37.537209\n",
      "Stocks Covered Scrape Complete for User: analyst_4831346\n",
      "\u001b[91mError while pulling Pending Estimates for User: analyst_4831346\u001b[0m\n",
      "Pending Estimates Scrape Complete for User: analyst_4831346\n",
      "Scored Estimates Scrape Complete for User: analyst_4831346\n",
      "Time: 2023-11-26 20:30:41.091349\n",
      "Stocks Covered Scrape Complete for User: analyst_7701462\n",
      "\u001b[91mError while pulling Pending Estimates for User: analyst_7701462\u001b[0m\n",
      "Pending Estimates Scrape Complete for User: analyst_7701462\n",
      "Scored Estimates Scrape Complete for User: analyst_7701462\n",
      "Time: 2023-11-26 20:30:44.909117\n",
      "Stocks Covered Scrape Complete for User: analyst_7609754\n",
      "Pending Estimates Scrape Complete for User: analyst_7609754\n",
      "Scored Estimates Scrape Complete for User: analyst_7609754\n",
      "Time: 2023-11-26 20:30:49.541708\n",
      "Stocks Covered Scrape Complete for User: analyst_5093387\n",
      "\u001b[91mError while pulling Pending Estimates for User: analyst_5093387\u001b[0m\n",
      "Pending Estimates Scrape Complete for User: analyst_5093387\n",
      "Scored Estimates Scrape Complete for User: analyst_5093387\n",
      "Time: 2023-11-26 20:30:53.283415\n",
      "Stocks Covered Scrape Complete for User: analyst_6133316\n",
      "\u001b[91mError while pulling Pending Estimates for User: analyst_6133316\u001b[0m\n",
      "Pending Estimates Scrape Complete for User: analyst_6133316\n",
      "Scored Estimates Scrape Complete for User: analyst_6133316\n",
      "Time: 2023-11-26 20:30:57.531236\n",
      "Stocks Covered Scrape Complete for User: analyst_9284030\n",
      "\u001b[91mError while pulling Pending Estimates for User: analyst_9284030\u001b[0m\n",
      "Pending Estimates Scrape Complete for User: analyst_9284030\n",
      "Scored Estimates Scrape Complete for User: analyst_9284030\n",
      "Time: 2023-11-26 20:31:01.291401\n",
      "Stocks Covered Scrape Complete for User: analyst_1356106\n",
      "\u001b[91mError while pulling Pending Estimates for User: analyst_1356106\u001b[0m\n",
      "Pending Estimates Scrape Complete for User: analyst_1356106\n",
      "Scored Estimates Scrape Complete for User: analyst_1356106\n",
      "Time: 2023-11-26 20:31:05.771976\n",
      "Stocks Covered Scrape Complete for User: analyst_7848121\n",
      "\u001b[91mError while pulling Pending Estimates for User: analyst_7848121\u001b[0m\n",
      "Pending Estimates Scrape Complete for User: analyst_7848121\n",
      "Scored Estimates Scrape Complete for User: analyst_7848121\n",
      "Time: 2023-11-26 20:31:09.699173\n",
      "Stocks Covered Scrape Complete for User: analyst_7115815\n",
      "\u001b[91mError while pulling Pending Estimates for User: analyst_7115815\u001b[0m\n",
      "Pending Estimates Scrape Complete for User: analyst_7115815\n",
      "Scored Estimates Scrape Complete for User: analyst_7115815\n",
      "Time: 2023-11-26 20:31:13.828454\n",
      "Stocks Covered Scrape Complete for User: analyst_2846219\n",
      "\u001b[91mError while pulling Pending Estimates for User: analyst_2846219\u001b[0m\n",
      "Pending Estimates Scrape Complete for User: analyst_2846219\n",
      "Scored Estimates Scrape Complete for User: analyst_2846219\n",
      "Time: 2023-11-26 20:31:17.777988\n",
      "Stocks Covered Scrape Complete for User: easygoer\n",
      "\u001b[91mError while pulling Pending Estimates for User: easygoer\u001b[0m\n",
      "Pending Estimates Scrape Complete for User: easygoer\n",
      "Scored Estimates Scrape Complete for User: easygoer\n",
      "Time: 2023-11-26 20:31:21.507624\n",
      "Stocks Covered Scrape Complete for User: analyst_9074721\n",
      "Pending Estimates Scrape Complete for User: analyst_9074721\n",
      "Scored Estimates Scrape Complete for User: analyst_9074721\n",
      "Time: 2023-11-26 20:31:26.198435\n",
      "Stocks Covered Scrape Complete for User: analyst_8416225\n",
      "\u001b[91mError while pulling Pending Estimates for User: analyst_8416225\u001b[0m\n",
      "Pending Estimates Scrape Complete for User: analyst_8416225\n",
      "Scored Estimates Scrape Complete for User: analyst_8416225\n",
      "Time: 2023-11-26 20:31:30.154116\n",
      "Stocks Covered Scrape Complete for User: analyst_6395382\n",
      "\u001b[91mError while pulling Pending Estimates for User: analyst_6395382\u001b[0m\n",
      "Pending Estimates Scrape Complete for User: analyst_6395382\n",
      "Scored Estimates Scrape Complete for User: analyst_6395382\n",
      "Time: 2023-11-26 20:31:33.775938\n",
      "Stocks Covered Scrape Complete for User: analyst_1373450\n",
      "\u001b[91mError while pulling Pending Estimates for User: analyst_1373450\u001b[0m\n",
      "Pending Estimates Scrape Complete for User: analyst_1373450\n",
      "Scored Estimates Scrape Complete for User: analyst_1373450\n",
      "Time: 2023-11-26 20:31:37.423448\n",
      "\u001b[91mError while pulling Stocks Covered for User: analyst_2216580\u001b[0m\n",
      "Stocks Covered Scrape Complete for User: analyst_2216580\n",
      "\u001b[91mError while pulling Pending Estimates for User: analyst_2216580\u001b[0m\n",
      "Pending Estimates Scrape Complete for User: analyst_2216580\n",
      "Scored Estimates Scrape Complete for User: analyst_2216580\n",
      "Time: 2023-11-26 20:31:43.639713\n",
      "Stocks Covered Scrape Complete for User: analyst_3428527\n",
      "\u001b[91mError while pulling Pending Estimates for User: analyst_3428527\u001b[0m\n",
      "Pending Estimates Scrape Complete for User: analyst_3428527\n",
      "Scored Estimates Scrape Complete for User: analyst_3428527\n",
      "Time: 2023-11-26 20:31:47.235100\n",
      "Stocks Covered Scrape Complete for User: analyst_4331156\n",
      "\u001b[91mError while pulling Pending Estimates for User: analyst_4331156\u001b[0m\n",
      "Pending Estimates Scrape Complete for User: analyst_4331156\n",
      "Scored Estimates Scrape Complete for User: analyst_4331156\n",
      "Time: 2023-11-26 20:31:50.852816\n",
      "Stocks Covered Scrape Complete for User: analyst_6227173\n",
      "\u001b[91mError while pulling Pending Estimates for User: analyst_6227173\u001b[0m\n",
      "Pending Estimates Scrape Complete for User: analyst_6227173\n",
      "Scored Estimates Scrape Complete for User: analyst_6227173\n",
      "Time: 2023-11-26 20:31:55.110638\n",
      "Stocks Covered Scrape Complete for User: analyst_7139561\n",
      "\u001b[91mError while pulling Pending Estimates for User: analyst_7139561\u001b[0m\n",
      "Pending Estimates Scrape Complete for User: analyst_7139561\n",
      "Scored Estimates Scrape Complete for User: analyst_7139561\n",
      "Time: 2023-11-26 20:31:58.835742\n",
      "Stocks Covered Scrape Complete for User: analyst_3462531\n",
      "\u001b[91mError while pulling Pending Estimates for User: analyst_3462531\u001b[0m\n",
      "Pending Estimates Scrape Complete for User: analyst_3462531\n",
      "Scored Estimates Scrape Complete for User: analyst_3462531\n",
      "Time: 2023-11-26 20:32:02.438372\n",
      "Stocks Covered Scrape Complete for User: 51industries\n",
      "\u001b[91mError while pulling Pending Estimates for User: 51industries\u001b[0m\n",
      "Pending Estimates Scrape Complete for User: 51industries\n",
      "Scored Estimates Scrape Complete for User: 51industries\n",
      "Time: 2023-11-26 20:32:06.685479\n",
      "Stocks Covered Scrape Complete for User: analyst_4909369\n",
      "Pending Estimates Scrape Complete for User: analyst_4909369\n",
      "Scored Estimates Scrape Complete for User: analyst_4909369\n",
      "Time: 2023-11-26 20:32:10.155940\n",
      "Stocks Covered Scrape Complete for User: analyst_5850660\n",
      "\u001b[91mError while pulling Pending Estimates for User: analyst_5850660\u001b[0m\n",
      "Pending Estimates Scrape Complete for User: analyst_5850660\n",
      "Scored Estimates Scrape Complete for User: analyst_5850660\n",
      "Time: 2023-11-26 20:32:14.799947\n",
      "Stocks Covered Scrape Complete for User: analyst_6266060\n",
      "\u001b[91mError while pulling Pending Estimates for User: analyst_6266060\u001b[0m\n",
      "Pending Estimates Scrape Complete for User: analyst_6266060\n",
      "Scored Estimates Scrape Complete for User: analyst_6266060\n",
      "Time: 2023-11-26 20:32:19.324059\n",
      "Stocks Covered Scrape Complete for User: analyst_4253623\n",
      "\u001b[91mError while pulling Pending Estimates for User: analyst_4253623\u001b[0m\n",
      "Pending Estimates Scrape Complete for User: analyst_4253623\n",
      "Scored Estimates Scrape Complete for User: analyst_4253623\n",
      "Time: 2023-11-26 20:32:22.984768\n",
      "Stocks Covered Scrape Complete for User: analyst_8690750\n",
      "\u001b[91mError while pulling Pending Estimates for User: analyst_8690750\u001b[0m\n",
      "Pending Estimates Scrape Complete for User: analyst_8690750\n",
      "Scored Estimates Scrape Complete for User: analyst_8690750\n",
      "Time: 2023-11-26 20:32:26.789826\n",
      "Stocks Covered Scrape Complete for User: chrishar00\n",
      "\u001b[91mError while pulling Pending Estimates for User: chrishar00\u001b[0m\n",
      "Pending Estimates Scrape Complete for User: chrishar00\n",
      "Scored Estimates Scrape Complete for User: chrishar00\n",
      "Time: 2023-11-26 20:32:30.840914\n",
      "\u001b[91mError while pulling Stocks Covered for User: analyst_7133063\u001b[0m\n",
      "Stocks Covered Scrape Complete for User: analyst_7133063\n",
      "\u001b[91mError while pulling Pending Estimates for User: analyst_7133063\u001b[0m\n",
      "Pending Estimates Scrape Complete for User: analyst_7133063\n",
      "Scored Estimates Scrape Complete for User: analyst_7133063\n",
      "Time: 2023-11-26 20:32:37.100475\n",
      "Stocks Covered Scrape Complete for User: analyst_1903291\n",
      "\u001b[91mError while pulling Pending Estimates for User: analyst_1903291\u001b[0m\n",
      "Pending Estimates Scrape Complete for User: analyst_1903291\n",
      "Scored Estimates Scrape Complete for User: analyst_1903291\n",
      "Time: 2023-11-26 20:32:41.456658\n",
      "\u001b[91mError while pulling Stocks Covered for User: analyst_446985\u001b[0m\n",
      "Stocks Covered Scrape Complete for User: analyst_446985\n",
      "\u001b[91mError while pulling Pending Estimates for User: analyst_446985\u001b[0m\n",
      "Pending Estimates Scrape Complete for User: analyst_446985\n",
      "Scored Estimates Scrape Complete for User: analyst_446985\n",
      "Time: 2023-11-26 20:32:47.742459\n",
      "Stocks Covered Scrape Complete for User: analyst_3055882\n",
      "\u001b[91mError while pulling Pending Estimates for User: analyst_3055882\u001b[0m\n",
      "Pending Estimates Scrape Complete for User: analyst_3055882\n",
      "Scored Estimates Scrape Complete for User: analyst_3055882\n",
      "Time: 2023-11-26 20:32:51.438677\n",
      "Stocks Covered Scrape Complete for User: analyst_2732025\n",
      "\u001b[91mError while pulling Pending Estimates for User: analyst_2732025\u001b[0m\n",
      "Pending Estimates Scrape Complete for User: analyst_2732025\n",
      "Scored Estimates Scrape Complete for User: analyst_2732025\n",
      "Time: 2023-11-26 20:32:55.815544\n",
      "Stocks Covered Scrape Complete for User: analyst_994492\n",
      "\u001b[91mError while pulling Pending Estimates for User: analyst_994492\u001b[0m\n",
      "Pending Estimates Scrape Complete for User: analyst_994492\n",
      "Scored Estimates Scrape Complete for User: analyst_994492\n",
      "Time: 2023-11-26 20:32:59.946864\n",
      "Stocks Covered Scrape Complete for User: analyst_3630000\n",
      "\u001b[91mError while pulling Pending Estimates for User: analyst_3630000\u001b[0m\n",
      "Pending Estimates Scrape Complete for User: analyst_3630000\n",
      "Scored Estimates Scrape Complete for User: analyst_3630000\n",
      "Time: 2023-11-26 20:33:03.562098\n",
      "Stocks Covered Scrape Complete for User: analyst_9666664\n",
      "\u001b[91mError while pulling Pending Estimates for User: analyst_9666664\u001b[0m\n",
      "Pending Estimates Scrape Complete for User: analyst_9666664\n",
      "Scored Estimates Scrape Complete for User: analyst_9666664\n",
      "Time: 2023-11-26 20:33:07.259137\n",
      "Stocks Covered Scrape Complete for User: analyst_8380365\n",
      "\u001b[91mError while pulling Pending Estimates for User: analyst_8380365\u001b[0m\n",
      "Pending Estimates Scrape Complete for User: analyst_8380365\n",
      "Scored Estimates Scrape Complete for User: analyst_8380365\n",
      "Time: 2023-11-26 20:33:11.254901\n",
      "Stocks Covered Scrape Complete for User: needham-6\n",
      "Pending Estimates Scrape Complete for User: needham-6\n",
      "Scored Estimates Scrape Complete for User: needham-6\n",
      "Time: 2023-11-26 20:33:15.799091\n",
      "Stocks Covered Scrape Complete for User: analyst_6547070\n",
      "\u001b[91mError while pulling Pending Estimates for User: analyst_6547070\u001b[0m\n",
      "Pending Estimates Scrape Complete for User: analyst_6547070\n",
      "Scored Estimates Scrape Complete for User: analyst_6547070\n",
      "Time: 2023-11-26 20:33:19.409696\n",
      "Stocks Covered Scrape Complete for User: analyst_8153500\n",
      "\u001b[91mError while pulling Pending Estimates for User: analyst_8153500\u001b[0m\n",
      "Pending Estimates Scrape Complete for User: analyst_8153500\n",
      "Scored Estimates Scrape Complete for User: analyst_8153500\n",
      "Time: 2023-11-26 20:33:23.899505\n",
      "Stocks Covered Scrape Complete for User: analyst_6813288\n",
      "\u001b[91mError while pulling Pending Estimates for User: analyst_6813288\u001b[0m\n",
      "Pending Estimates Scrape Complete for User: analyst_6813288\n",
      "Scored Estimates Scrape Complete for User: analyst_6813288\n",
      "Time: 2023-11-26 20:33:27.568962\n",
      "Stocks Covered Scrape Complete for User: cmelan\n",
      "\u001b[91mError while pulling Pending Estimates for User: cmelan\u001b[0m\n",
      "Pending Estimates Scrape Complete for User: cmelan\n",
      "Scored Estimates Scrape Complete for User: cmelan\n",
      "Time: 2023-11-26 20:33:31.975636\n",
      "\u001b[91mError while pulling Stocks Covered for User: analyst_6648992\u001b[0m\n",
      "Stocks Covered Scrape Complete for User: analyst_6648992\n",
      "\u001b[91mError while pulling Pending Estimates for User: analyst_6648992\u001b[0m\n",
      "Pending Estimates Scrape Complete for User: analyst_6648992\n",
      "Scored Estimates Scrape Complete for User: analyst_6648992\n",
      "Time: 2023-11-26 20:33:38.268716\n",
      "Stocks Covered Scrape Complete for User: analyst_6804683\n",
      "\u001b[91mError while pulling Pending Estimates for User: analyst_6804683\u001b[0m\n",
      "Pending Estimates Scrape Complete for User: analyst_6804683\n",
      "Scored Estimates Scrape Complete for User: analyst_6804683\n",
      "Time: 2023-11-26 20:33:42.122786\n",
      "Stocks Covered Scrape Complete for User: analyst_6622047\n",
      "\u001b[91mError while pulling Pending Estimates for User: analyst_6622047\u001b[0m\n",
      "Pending Estimates Scrape Complete for User: analyst_6622047\n",
      "Scored Estimates Scrape Complete for User: analyst_6622047\n",
      "Time: 2023-11-26 20:33:45.761259\n",
      "Stocks Covered Scrape Complete for User: analyst_6641237\n",
      "\u001b[91mError while pulling Pending Estimates for User: analyst_6641237\u001b[0m\n",
      "Pending Estimates Scrape Complete for User: analyst_6641237\n",
      "Scored Estimates Scrape Complete for User: analyst_6641237\n",
      "Time: 2023-11-26 20:33:49.395486\n",
      "Stocks Covered Scrape Complete for User: analyst_4563086\n",
      "\u001b[91mError while pulling Pending Estimates for User: analyst_4563086\u001b[0m\n",
      "Pending Estimates Scrape Complete for User: analyst_4563086\n",
      "Scored Estimates Scrape Complete for User: analyst_4563086\n",
      "Time: 2023-11-26 20:33:52.878950\n",
      "Stocks Covered Scrape Complete for User: analyst_4569921\n",
      "\u001b[91mError while pulling Pending Estimates for User: analyst_4569921\u001b[0m\n",
      "Pending Estimates Scrape Complete for User: analyst_4569921\n",
      "Scored Estimates Scrape Complete for User: analyst_4569921\n",
      "Time: 2023-11-26 20:33:56.402198\n",
      "Stocks Covered Scrape Complete for User: sharshek\n",
      "\u001b[91mError while pulling Pending Estimates for User: sharshek\u001b[0m\n",
      "Pending Estimates Scrape Complete for User: sharshek\n",
      "Scored Estimates Scrape Complete for User: sharshek\n",
      "Time: 2023-11-26 20:34:00.198804\n",
      "Stocks Covered Scrape Complete for User: analyst_1218717\n",
      "\u001b[91mError while pulling Pending Estimates for User: analyst_1218717\u001b[0m\n",
      "Pending Estimates Scrape Complete for User: analyst_1218717\n",
      "Scored Estimates Scrape Complete for User: analyst_1218717\n",
      "Time: 2023-11-26 20:34:03.661875\n",
      "Stocks Covered Scrape Complete for User: analyst_4518062\n",
      "\u001b[91mError while pulling Pending Estimates for User: analyst_4518062\u001b[0m\n",
      "Pending Estimates Scrape Complete for User: analyst_4518062\n",
      "Scored Estimates Scrape Complete for User: analyst_4518062\n",
      "Time: 2023-11-26 20:34:07.859008\n",
      "Stocks Covered Scrape Complete for User: analyst_7247189\n",
      "\u001b[91mError while pulling Pending Estimates for User: analyst_7247189\u001b[0m\n",
      "Pending Estimates Scrape Complete for User: analyst_7247189\n",
      "Scored Estimates Scrape Complete for User: analyst_7247189\n",
      "Time: 2023-11-26 20:34:11.232330\n",
      "Stocks Covered Scrape Complete for User: analyst_44729\n",
      "\u001b[91mError while pulling Pending Estimates for User: analyst_44729\u001b[0m\n",
      "Pending Estimates Scrape Complete for User: analyst_44729\n",
      "Scored Estimates Scrape Complete for User: analyst_44729\n",
      "Time: 2023-11-26 20:34:14.798011\n",
      "Stocks Covered Scrape Complete for User: analyst_6924749\n",
      "\u001b[91mError while pulling Pending Estimates for User: analyst_6924749\u001b[0m\n",
      "Pending Estimates Scrape Complete for User: analyst_6924749\n",
      "Scored Estimates Scrape Complete for User: analyst_6924749\n",
      "Time: 2023-11-26 20:34:18.427288\n",
      "Stocks Covered Scrape Complete for User: analyst_3187868\n",
      "\u001b[91mError while pulling Pending Estimates for User: analyst_3187868\u001b[0m\n",
      "Pending Estimates Scrape Complete for User: analyst_3187868\n",
      "Scored Estimates Scrape Complete for User: analyst_3187868\n",
      "Time: 2023-11-26 20:34:21.842892\n",
      "Stocks Covered Scrape Complete for User: analyst_6386535\n",
      "\u001b[91mError while pulling Pending Estimates for User: analyst_6386535\u001b[0m\n",
      "Pending Estimates Scrape Complete for User: analyst_6386535\n",
      "Scored Estimates Scrape Complete for User: analyst_6386535\n",
      "Time: 2023-11-26 20:34:25.222552\n",
      "Stocks Covered Scrape Complete for User: analyst_4761857\n",
      "\u001b[91mError while pulling Pending Estimates for User: analyst_4761857\u001b[0m\n",
      "Pending Estimates Scrape Complete for User: analyst_4761857\n",
      "Scored Estimates Scrape Complete for User: analyst_4761857\n",
      "Time: 2023-11-26 20:34:28.652746\n",
      "Stocks Covered Scrape Complete for User: analyst_4465959\n",
      "\u001b[91mError while pulling Pending Estimates for User: analyst_4465959\u001b[0m\n",
      "Pending Estimates Scrape Complete for User: analyst_4465959\n",
      "Scored Estimates Scrape Complete for User: analyst_4465959\n",
      "Time: 2023-11-26 20:34:32.774249\n",
      "\u001b[91mError while pulling Stocks Covered for User: analyst_6423199\u001b[0m\n",
      "Stocks Covered Scrape Complete for User: analyst_6423199\n",
      "\u001b[91mError while pulling Pending Estimates for User: analyst_6423199\u001b[0m\n",
      "Pending Estimates Scrape Complete for User: analyst_6423199\n",
      "Scored Estimates Scrape Complete for User: analyst_6423199\n",
      "Time: 2023-11-26 20:34:38.738128\n",
      "Stocks Covered Scrape Complete for User: analyst_4745565\n",
      "\u001b[91mError while pulling Pending Estimates for User: analyst_4745565\u001b[0m\n",
      "Pending Estimates Scrape Complete for User: analyst_4745565\n",
      "Scored Estimates Scrape Complete for User: analyst_4745565\n",
      "Time: 2023-11-26 20:34:42.679706\n",
      "Stocks Covered Scrape Complete for User: analyst_6607498\n",
      "\u001b[91mError while pulling Pending Estimates for User: analyst_6607498\u001b[0m\n",
      "Pending Estimates Scrape Complete for User: analyst_6607498\n",
      "Scored Estimates Scrape Complete for User: analyst_6607498\n",
      "Time: 2023-11-26 20:34:46.312331\n",
      "Stocks Covered Scrape Complete for User: analyst-5192631\n",
      "\u001b[91mError while pulling Pending Estimates for User: analyst-5192631\u001b[0m\n",
      "Pending Estimates Scrape Complete for User: analyst-5192631\n",
      "Scored Estimates Scrape Complete for User: analyst-5192631\n",
      "Time: 2023-11-26 20:34:50.027076\n"
     ]
    },
    {
     "ename": "NoSuchElementException",
     "evalue": "Message: no such element: Unable to locate element: {\"method\":\"css selector\",\"selector\":\"#confidence-wrap > div > div.value\"}\n  (Session info: MicrosoftEdge=119.0.2151.72); For documentation on this error, please visit: https://www.selenium.dev/documentation/webdriver/troubleshooting/errors#no-such-element-exception\nStacktrace:\n\tGetHandleVerifier [0x00007FF7F4A02602+60402]\n\tMicrosoft::Applications::Events::ILogConfiguration::operator* [0x00007FF7F4987352+253666]\n\t(No symbol) [0x00007FF7F4759C99]\n\t(No symbol) [0x00007FF7F47A9FD4]\n\t(No symbol) [0x00007FF7F47AA10A]\n\t(No symbol) [0x00007FF7F47E81D7]\n\t(No symbol) [0x00007FF7F47CBACF]\n\t(No symbol) [0x00007FF7F479D766]\n\t(No symbol) [0x00007FF7F47E5111]\n\t(No symbol) [0x00007FF7F47CB863]\n\t(No symbol) [0x00007FF7F479C585]\n\t(No symbol) [0x00007FF7F479B993]\n\t(No symbol) [0x00007FF7F479CD14]\n\tMicrosoft::Applications::Events::EventProperty::to_string [0x00007FF7F4BE34A4+1161924]\n\t(No symbol) [0x00007FF7F481E5F6]\n\tMicrosoft::Applications::Events::EventProperty::~EventProperty [0x00007FF7F48DB083+37459]\n\tMicrosoft::Applications::Events::EventProperty::~EventProperty [0x00007FF7F48D2C4D+3613]\n\tMicrosoft::Applications::Events::EventProperty::to_string [0x00007FF7F4BE21E4+1157124]\n\tMicrosoft::Applications::Events::ILogConfiguration::operator* [0x00007FF7F49916A8+295480]\n\tMicrosoft::Applications::Events::ILogConfiguration::operator* [0x00007FF7F498CB74+276228]\n\tMicrosoft::Applications::Events::ILogConfiguration::operator* [0x00007FF7F498CCA2+276530]\n\tMicrosoft::Applications::Events::ILogConfiguration::operator* [0x00007FF7F497FA91+222753]\n\tBaseThreadInitThunk [0x00007FFF2C72257D+29]\n\tRtlUserThreadStart [0x00007FFF2D34AA58+40]\n",
     "output_type": "error",
     "traceback": [
      "\u001b[1;31m---------------------------------------------------------------------------\u001b[0m",
      "\u001b[1;31mNoSuchElementException\u001b[0m                    Traceback (most recent call last)",
      "Cell \u001b[1;32mIn[255], line 22\u001b[0m\n\u001b[0;32m     19\u001b[0m join \u001b[38;5;241m=\u001b[39m driver\u001b[38;5;241m.\u001b[39mfind_element(By\u001b[38;5;241m.\u001b[39mCSS_SELECTOR, \u001b[38;5;124m\"\u001b[39m\u001b[38;5;124m#users_show > div.main-content-wrapper.is-closed > div.before-main-wrapper.content-header-show > div:nth-child(1) > div.profile-left-column > div > div.profile-bio-footer > div.profile-activity-stats\u001b[39m\u001b[38;5;124m\"\u001b[39m)\n\u001b[0;32m     20\u001b[0m join_date \u001b[38;5;241m=\u001b[39m join\u001b[38;5;241m.\u001b[39mtext\u001b[38;5;241m.\u001b[39mstrip()\n\u001b[1;32m---> 22\u001b[0m confidence \u001b[38;5;241m=\u001b[39m \u001b[43mdriver\u001b[49m\u001b[38;5;241;43m.\u001b[39;49m\u001b[43mfind_element\u001b[49m\u001b[43m(\u001b[49m\u001b[43mBy\u001b[49m\u001b[38;5;241;43m.\u001b[39;49m\u001b[43mCSS_SELECTOR\u001b[49m\u001b[43m,\u001b[49m\u001b[43m \u001b[49m\u001b[38;5;124;43m\"\u001b[39;49m\u001b[38;5;124;43m#confidence-wrap > div > div.value\u001b[39;49m\u001b[38;5;124;43m\"\u001b[39;49m\u001b[43m)\u001b[49m\n\u001b[0;32m     23\u001b[0m analyst_confidence \u001b[38;5;241m=\u001b[39m confidence\u001b[38;5;241m.\u001b[39mtext\u001b[38;5;241m.\u001b[39mstrip()\n\u001b[0;32m     25\u001b[0m error \u001b[38;5;241m=\u001b[39m driver\u001b[38;5;241m.\u001b[39mfind_element(By\u001b[38;5;241m.\u001b[39mCSS_SELECTOR, \u001b[38;5;124m\"\u001b[39m\u001b[38;5;124m#profile-tab-wrap > div.profile-tab.profile-tab-selectable.profile-tab-accuracy.is-selected > div:nth-child(1) > div.profile-stat-secondary\u001b[39m\u001b[38;5;124m\"\u001b[39m)\n",
      "File \u001b[1;32m~\\AppData\\Roaming\\Python\\Python311\\site-packages\\selenium\\webdriver\\remote\\webdriver.py:741\u001b[0m, in \u001b[0;36mWebDriver.find_element\u001b[1;34m(self, by, value)\u001b[0m\n\u001b[0;32m    738\u001b[0m     by \u001b[38;5;241m=\u001b[39m By\u001b[38;5;241m.\u001b[39mCSS_SELECTOR\n\u001b[0;32m    739\u001b[0m     value \u001b[38;5;241m=\u001b[39m \u001b[38;5;124mf\u001b[39m\u001b[38;5;124m'\u001b[39m\u001b[38;5;124m[name=\u001b[39m\u001b[38;5;124m\"\u001b[39m\u001b[38;5;132;01m{\u001b[39;00mvalue\u001b[38;5;132;01m}\u001b[39;00m\u001b[38;5;124m\"\u001b[39m\u001b[38;5;124m]\u001b[39m\u001b[38;5;124m'\u001b[39m\n\u001b[1;32m--> 741\u001b[0m \u001b[38;5;28;01mreturn\u001b[39;00m \u001b[38;5;28;43mself\u001b[39;49m\u001b[38;5;241;43m.\u001b[39;49m\u001b[43mexecute\u001b[49m\u001b[43m(\u001b[49m\u001b[43mCommand\u001b[49m\u001b[38;5;241;43m.\u001b[39;49m\u001b[43mFIND_ELEMENT\u001b[49m\u001b[43m,\u001b[49m\u001b[43m \u001b[49m\u001b[43m{\u001b[49m\u001b[38;5;124;43m\"\u001b[39;49m\u001b[38;5;124;43musing\u001b[39;49m\u001b[38;5;124;43m\"\u001b[39;49m\u001b[43m:\u001b[49m\u001b[43m \u001b[49m\u001b[43mby\u001b[49m\u001b[43m,\u001b[49m\u001b[43m \u001b[49m\u001b[38;5;124;43m\"\u001b[39;49m\u001b[38;5;124;43mvalue\u001b[39;49m\u001b[38;5;124;43m\"\u001b[39;49m\u001b[43m:\u001b[49m\u001b[43m \u001b[49m\u001b[43mvalue\u001b[49m\u001b[43m}\u001b[49m\u001b[43m)\u001b[49m[\u001b[38;5;124m\"\u001b[39m\u001b[38;5;124mvalue\u001b[39m\u001b[38;5;124m\"\u001b[39m]\n",
      "File \u001b[1;32m~\\AppData\\Roaming\\Python\\Python311\\site-packages\\selenium\\webdriver\\remote\\webdriver.py:347\u001b[0m, in \u001b[0;36mWebDriver.execute\u001b[1;34m(self, driver_command, params)\u001b[0m\n\u001b[0;32m    345\u001b[0m response \u001b[38;5;241m=\u001b[39m \u001b[38;5;28mself\u001b[39m\u001b[38;5;241m.\u001b[39mcommand_executor\u001b[38;5;241m.\u001b[39mexecute(driver_command, params)\n\u001b[0;32m    346\u001b[0m \u001b[38;5;28;01mif\u001b[39;00m response:\n\u001b[1;32m--> 347\u001b[0m     \u001b[38;5;28;43mself\u001b[39;49m\u001b[38;5;241;43m.\u001b[39;49m\u001b[43merror_handler\u001b[49m\u001b[38;5;241;43m.\u001b[39;49m\u001b[43mcheck_response\u001b[49m\u001b[43m(\u001b[49m\u001b[43mresponse\u001b[49m\u001b[43m)\u001b[49m\n\u001b[0;32m    348\u001b[0m     response[\u001b[38;5;124m\"\u001b[39m\u001b[38;5;124mvalue\u001b[39m\u001b[38;5;124m\"\u001b[39m] \u001b[38;5;241m=\u001b[39m \u001b[38;5;28mself\u001b[39m\u001b[38;5;241m.\u001b[39m_unwrap_value(response\u001b[38;5;241m.\u001b[39mget(\u001b[38;5;124m\"\u001b[39m\u001b[38;5;124mvalue\u001b[39m\u001b[38;5;124m\"\u001b[39m, \u001b[38;5;28;01mNone\u001b[39;00m))\n\u001b[0;32m    349\u001b[0m     \u001b[38;5;28;01mreturn\u001b[39;00m response\n",
      "File \u001b[1;32m~\\AppData\\Roaming\\Python\\Python311\\site-packages\\selenium\\webdriver\\remote\\errorhandler.py:229\u001b[0m, in \u001b[0;36mErrorHandler.check_response\u001b[1;34m(self, response)\u001b[0m\n\u001b[0;32m    227\u001b[0m         alert_text \u001b[38;5;241m=\u001b[39m value[\u001b[38;5;124m\"\u001b[39m\u001b[38;5;124malert\u001b[39m\u001b[38;5;124m\"\u001b[39m]\u001b[38;5;241m.\u001b[39mget(\u001b[38;5;124m\"\u001b[39m\u001b[38;5;124mtext\u001b[39m\u001b[38;5;124m\"\u001b[39m)\n\u001b[0;32m    228\u001b[0m     \u001b[38;5;28;01mraise\u001b[39;00m exception_class(message, screen, stacktrace, alert_text)  \u001b[38;5;66;03m# type: ignore[call-arg]  # mypy is not smart enough here\u001b[39;00m\n\u001b[1;32m--> 229\u001b[0m \u001b[38;5;28;01mraise\u001b[39;00m exception_class(message, screen, stacktrace)\n",
      "\u001b[1;31mNoSuchElementException\u001b[0m: Message: no such element: Unable to locate element: {\"method\":\"css selector\",\"selector\":\"#confidence-wrap > div > div.value\"}\n  (Session info: MicrosoftEdge=119.0.2151.72); For documentation on this error, please visit: https://www.selenium.dev/documentation/webdriver/troubleshooting/errors#no-such-element-exception\nStacktrace:\n\tGetHandleVerifier [0x00007FF7F4A02602+60402]\n\tMicrosoft::Applications::Events::ILogConfiguration::operator* [0x00007FF7F4987352+253666]\n\t(No symbol) [0x00007FF7F4759C99]\n\t(No symbol) [0x00007FF7F47A9FD4]\n\t(No symbol) [0x00007FF7F47AA10A]\n\t(No symbol) [0x00007FF7F47E81D7]\n\t(No symbol) [0x00007FF7F47CBACF]\n\t(No symbol) [0x00007FF7F479D766]\n\t(No symbol) [0x00007FF7F47E5111]\n\t(No symbol) [0x00007FF7F47CB863]\n\t(No symbol) [0x00007FF7F479C585]\n\t(No symbol) [0x00007FF7F479B993]\n\t(No symbol) [0x00007FF7F479CD14]\n\tMicrosoft::Applications::Events::EventProperty::to_string [0x00007FF7F4BE34A4+1161924]\n\t(No symbol) [0x00007FF7F481E5F6]\n\tMicrosoft::Applications::Events::EventProperty::~EventProperty [0x00007FF7F48DB083+37459]\n\tMicrosoft::Applications::Events::EventProperty::~EventProperty [0x00007FF7F48D2C4D+3613]\n\tMicrosoft::Applications::Events::EventProperty::to_string [0x00007FF7F4BE21E4+1157124]\n\tMicrosoft::Applications::Events::ILogConfiguration::operator* [0x00007FF7F49916A8+295480]\n\tMicrosoft::Applications::Events::ILogConfiguration::operator* [0x00007FF7F498CB74+276228]\n\tMicrosoft::Applications::Events::ILogConfiguration::operator* [0x00007FF7F498CCA2+276530]\n\tMicrosoft::Applications::Events::ILogConfiguration::operator* [0x00007FF7F497FA91+222753]\n\tBaseThreadInitThunk [0x00007FFF2C72257D+29]\n\tRtlUserThreadStart [0x00007FFF2D34AA58+40]\n"
     ]
    }
   ],
   "source": [
    "test_users = final_unique_users[100:1100]\n",
    "\n",
    "# Creating list for the user tables\n",
    "general_user_data_dicts = []\n",
    "stocks_covered_dfs = []\n",
    "pending_estimates_dfs = []\n",
    "scored_estimates_dfs = []\n",
    "\n",
    "first_attempt = True\n",
    "\n",
    "# Iterating over URLs\n",
    "for test_user in test_users:\n",
    "    url = f\"https://www.estimize.com/users/{test_user}\"\n",
    "    driver.get(url)\n",
    "\n",
    "    name = driver.find_element(By.CSS_SELECTOR, \"#users_show > div.main-content-wrapper.is-closed > div.before-main-wrapper.content-header-show > div:nth-child(1) > div.profile-left-column > div > h1 > a\")\n",
    "    analyst_username = name.text.strip()\n",
    "\n",
    "    join = driver.find_element(By.CSS_SELECTOR, \"#users_show > div.main-content-wrapper.is-closed > div.before-main-wrapper.content-header-show > div:nth-child(1) > div.profile-left-column > div > div.profile-bio-footer > div.profile-activity-stats\")\n",
    "    join_date = join.text.strip()\n",
    "\n",
    "    confidence = driver.find_element(By.CSS_SELECTOR, \"#confidence-wrap > div > div.value\")\n",
    "    analyst_confidence = confidence.text.strip()\n",
    "\n",
    "    error = driver.find_element(By.CSS_SELECTOR, \"#profile-tab-wrap > div.profile-tab.profile-tab-selectable.profile-tab-accuracy.is-selected > div:nth-child(1) > div.profile-stat-secondary\")\n",
    "    error_rate = error.text.strip()\n",
    "\n",
    "    accuracy = driver.find_element(By.CSS_SELECTOR, \"#profile-tab-wrap > div.profile-tab.profile-tab-selectable.profile-tab-accuracy.is-selected > div:nth-child(2) > div.profile-stat-secondary\")\n",
    "    accuracy_percentile = accuracy.text.strip()\n",
    "\n",
    "    points = driver.find_element(By.CSS_SELECTOR, \"#profile-tab-wrap > div.profile-tab.profile-tab-selectable.not-selected.profile-tab-points > div:nth-child(1) > div.profile-stat-secondary\")\n",
    "    points_total = points.text.strip()\n",
    "\n",
    "    stocks = driver.find_element(By.CSS_SELECTOR, \"#profile-tab-wrap > div.profile-tab.profile-tab-unselectable.profile-tab-last.not-selected.profile-tab-stocks > div:nth-child(1) > div.profile-stat-secondary\")\n",
    "    stocks_total = stocks.text.strip()\n",
    "\n",
    "    pending = driver.find_element(By.CSS_SELECTOR, \"#profile-tab-wrap > div.profile-tab.profile-tab-unselectable.profile-tab-last.not-selected.profile-tab-stocks > div:nth-child(2) > div.profile-stat-secondary\")\n",
    "    pending_estimates = pending.text.strip()\n",
    "\n",
    "    selectors = [\n",
    "    \"#users_show > div.main-content-wrapper.is-closed > div.before-main-wrapper.content-header-show > div:nth-child(1) > div.profile-left-column > div > ul > li:nth-child(1)\",\n",
    "    \"#users_show > div.main-content-wrapper.is-closed > div.before-main-wrapper.content-header-show > div:nth-child(1) > div.profile-left-column > div > ul > li:nth-child(2)\",\n",
    "    \"#users_show > div.main-content-wrapper.is-closed > div.before-main-wrapper.content-header-show > div:nth-child(1) > div.profile-left-column > div > ul > li:nth-child(3)\"\n",
    "    ]\n",
    "    \n",
    "    # Initializing an empty list to store the role values\n",
    "    roles = []\n",
    "    \n",
    "    # Iterating through each selector and extracting the general user data\n",
    "    for selector in selectors:\n",
    "        try:\n",
    "            role_element = driver.find_element(By.CSS_SELECTOR, selector)\n",
    "            role_text = role_element.text\n",
    "            roles.append(role_text)\n",
    "        except Exception as e:\n",
    "            pass\n",
    "    # Creating a DataFrame with the extracted values\n",
    "    gud_dict = {\n",
    "                'Analyst Username': analyst_username, \n",
    "                'URL Username': test_user,\n",
    "                'Join Date': join_date,\n",
    "                'Roles': roles,\n",
    "                'Analyst Confidence Score': analyst_confidence,\n",
    "                'Error Rate': error_rate,\n",
    "                'Accuracy Percentile': accuracy_percentile,\n",
    "                'Points': points_total,\n",
    "                'Stocks': stocks_total,\n",
    "                'Pending': pending_estimates\n",
    "                }\n",
    "\n",
    "    general_user_data_dicts.append(gud_dict)\n",
    "    \n",
    "    # Checking for hidden entries in the Stocks Covered table\n",
    "    if first_attempt:\n",
    "        driver.execute_script(\"window.scrollBy(0, 500);\")\n",
    "        first_attempt = False\n",
    "    else:\n",
    "        while True:\n",
    "            try:\n",
    "                driver.execute_script(\"window.scrollBy(0, 500);\")\n",
    "                table = WebDriverWait(driver, 3).until(\n",
    "                EC.presence_of_element_located((By.CSS_SELECTOR, '#profile-covered-stocks > div.linked-table'))\n",
    "                )\n",
    "                table_html = table.get_attribute('outerHTML')\n",
    "                soup = BeautifulSoup(table_html, 'html.parser')\n",
    "                hidden_entries = soup.find_all(class_='linked-row hidden')\n",
    "    \n",
    "                if not hidden_entries:\n",
    "                    break\n",
    "    \n",
    "                pagination_link = driver.find_element(By.CSS_SELECTOR, '#profile-covered-stocks > div.pagination-footer')\n",
    "                pagination_link.click()\n",
    "\n",
    "            except Exception as e:\n",
    "                print(f\"\\033[91mError while pulling Stocks Covered for User: {test_user}\\033[0m\")\n",
    "                break\n",
    "    \n",
    "    # Converting the html to str and splitting it by lines\n",
    "    lines = str(soup).splitlines()\n",
    "    \n",
    "    # Initializing an empty list to store the data\n",
    "    sc_data = []\n",
    "    \n",
    "    # Extracting data following the pattern of how the values are stored in the table by iterating over lines until it finds the target string to begin the iteration\n",
    "    for i in range(len(lines)):\n",
    "        if \"profile-tbl-ticker\" in lines[i]:\n",
    "            ticker = lines[i+1].strip()\n",
    "            reports = lines[i + 6].strip()\n",
    "            quarters = lines[i + 9].strip()\n",
    "            points = lines[i + 12].strip()\n",
    "            pts_per_estimate = lines[i + 15].strip()\n",
    "            error_rate = lines[i + 18].strip()\n",
    "            accuracy = lines[i + 21].strip()\n",
    "    \n",
    "            sc_data.append({\n",
    "                'Analyst Username': analyst_username, \n",
    "                'URL Username': test_user,\n",
    "                'Ticker': ticker,\n",
    "                'Reports': reports,\n",
    "                'Quarters': quarters,\n",
    "                'Points': points,\n",
    "                'Pts/Est': pts_per_estimate,\n",
    "                'Error Rate': error_rate,\n",
    "                'Accuracy': accuracy\n",
    "            })\n",
    "    \n",
    "    # Creating a DataFrame from the extracted data\n",
    "    sc_df = pd.DataFrame(sc_data)\n",
    "\n",
    "    stocks_covered_dfs.append(sc_df)\n",
    "\n",
    "    print(f\"Stocks Covered Scrape Complete for User: {test_user}\")\n",
    "\n",
    "    # Repeating the whole process for pending estimates\n",
    "    while True:\n",
    "        try:\n",
    "            driver.execute_script(\"window.scrollBy(0, 500);\")\n",
    "            table = WebDriverWait(driver, 0.5).until(\n",
    "            EC.presence_of_element_located((By.CSS_SELECTOR, '#profile-pending-estimates > div.linked-table'))\n",
    "            )\n",
    "            table_html = table.get_attribute('outerHTML')\n",
    "            soup = BeautifulSoup(table_html, 'html.parser')\n",
    "            hidden_entries = soup.find_all(class_='linked-row hidden')\n",
    "\n",
    "            if not hidden_entries:\n",
    "                break\n",
    "\n",
    "            pagination_link = driver.find_element(By.CSS_SELECTOR, '#profile-pending-estimates > div.pagination-footer')\n",
    "            pagination_link.click()\n",
    "\n",
    "        except Exception as e:\n",
    "            print(f\"\\033[91mError while pulling Pending Estimates for User: {test_user}\\033[0m\")\n",
    "            break\n",
    "\n",
    "    lines = str(soup).splitlines()\n",
    "    \n",
    "    pe_data = []\n",
    "    \n",
    "    for i in range(len(lines)):\n",
    "        if \"profile-tbl-ticker\" in lines[i]:\n",
    "            ticker = lines[i].strip()\n",
    "            quarter = f\"{lines[i + 3].strip()} {lines[i + 4].strip()}\"\n",
    "            reports = f\"{lines[i + 8].strip()} {lines[i + 10].strip()}\"\n",
    "            published = lines[i + 13].strip()\n",
    "            eps = lines[i + 16].strip()\n",
    "            revenue = lines[i + 19].strip()\n",
    "    \n",
    "            pe_data.append({\n",
    "                'Analyst Username': analyst_username, \n",
    "                'URL Username': test_user,\n",
    "                'Ticker': ticker,\n",
    "                'Quarter': quarter,\n",
    "                'Reports': reports,                \n",
    "                'Published': published,\n",
    "                'EPS': eps,\n",
    "                'Revenue': revenue\n",
    "            })\n",
    "\n",
    "    pe_df = pd.DataFrame(pe_data)\n",
    "\n",
    "    pending_estimates_dfs.append(pe_df)\n",
    "\n",
    "    print(f\"Pending Estimates Scrape Complete for User: {test_user}\")\n",
    "\n",
    "    # Repeating the whole process for scored estimates\n",
    "    while True:\n",
    "        try:\n",
    "            driver.execute_script(\"window.scrollBy(0, 500);\")\n",
    "            table = WebDriverWait(driver, 0.5).until(\n",
    "            EC.presence_of_element_located((By.CSS_SELECTOR, '#profile-scored-estimates > div.linked-table'))\n",
    "            )\n",
    "            table_html = table.get_attribute('outerHTML')\n",
    "            soup = BeautifulSoup(table_html, 'html.parser')\n",
    "            hidden_entries = soup.find_all(class_='linked-row hidden')\n",
    "\n",
    "            if not hidden_entries:\n",
    "                break\n",
    "\n",
    "            pagination_link = driver.find_element(By.CSS_SELECTOR, '#profile-scored-estimates > div.pagination-footer')\n",
    "            pagination_link.click()\n",
    "\n",
    "        except Exception as e:\n",
    "            print(f\"\\033[91mError while pulling Scored Estimates for User: {test_user}\\033[0m\")\n",
    "            break\n",
    "    \n",
    "\n",
    "    lines = str(soup).splitlines()\n",
    "    \n",
    "    se_data = []\n",
    "    \n",
    "    for i in range(len(lines)):\n",
    "        if \"profile-tbl-ticker\" in lines[i]:\n",
    "            ticker = lines[i].strip()\n",
    "            quarter = f\"{lines[i + 3].strip()} {lines[i + 4].strip()}\"\n",
    "            reported = lines[i + 7].strip()\n",
    "            rank = lines[i + 10].strip()\n",
    "            eps_points = lines[i + 13].strip()\n",
    "            revenue_points = lines[i + 16].strip()\n",
    "            total_points = lines[i + 19].strip()\n",
    "    \n",
    "            se_data.append({\n",
    "                'Analyst Username': analyst_username, \n",
    "                'URL Username': test_user,\n",
    "                'Ticker': ticker,\n",
    "                'Quarter': quarter,\n",
    "                'Reported': reported,                \n",
    "                'Rank': rank,\n",
    "                'EPS Points': eps_points,\n",
    "                'Revenue Points': revenue_points,\n",
    "                'Total Points': total_points\n",
    "            })\n",
    "\n",
    "    se_df = pd.DataFrame(se_data)\n",
    "\n",
    "    scored_estimates_dfs.append(se_df)\n",
    "\n",
    "    print(f\"Scored Estimates Scrape Complete for User: {test_user}\")\n",
    "    print(f\"Time: {datetime.now()}\")"
   ]
  },
  {
   "cell_type": "code",
   "execution_count": 256,
   "id": "30785aa4-dceb-49a4-8795-b088fd3234b1",
   "metadata": {},
   "outputs": [],
   "source": [
    "combined_stocks_covered_df = pd.concat(stocks_covered_dfs)\n",
    "combined_stocks_covered_df.to_csv('combined_stocks_covered_df3.csv', index=False)\n",
    "\n",
    "combined_pending_estimates_df = pd.concat(pending_estimates_dfs)\n",
    "combined_pending_estimates_df.to_csv('combined_pending_estimates_df3.csv', index=False)\n",
    "\n",
    "combined_scored_estimates_df = pd.concat(scored_estimates_dfs)\n",
    "combined_scored_estimates_df.to_csv('combined_scored_estimates_df3.csv', index=False)\n",
    "\n",
    "combined_general_user_data_df = pd.DataFrame(general_user_data_dicts)\n",
    "combined_general_user_data_df.to_csv('combined_general_user_data_df3.csv', index=False)"
   ]
  }
 ],
 "metadata": {
  "kernelspec": {
   "display_name": "Python 3 (ipykernel)",
   "language": "python",
   "name": "python3"
  },
  "language_info": {
   "codemirror_mode": {
    "name": "ipython",
    "version": 3
   },
   "file_extension": ".py",
   "mimetype": "text/x-python",
   "name": "python",
   "nbconvert_exporter": "python",
   "pygments_lexer": "ipython3",
   "version": "3.11.5"
  }
 },
 "nbformat": 4,
 "nbformat_minor": 5
}
